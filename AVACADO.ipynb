{
 "cells": [
  {
   "cell_type": "markdown",
   "id": "38640680",
   "metadata": {},
   "source": [
    "## AVOCADO CASE STUDY"
   ]
  },
  {
   "cell_type": "code",
   "execution_count": 1,
   "id": "39a48dd1",
   "metadata": {},
   "outputs": [],
   "source": [
    "import numpy as np\n",
    "import pandas as pd\n",
    "import matplotlib.pyplot as plt\n",
    "import seaborn as sns\n",
    "import warnings\n",
    "warnings.filterwarnings('ignore')"
   ]
  },
  {
   "cell_type": "code",
   "execution_count": 2,
   "id": "620048cf",
   "metadata": {},
   "outputs": [
    {
     "data": {
      "text/html": [
       "<div>\n",
       "<style scoped>\n",
       "    .dataframe tbody tr th:only-of-type {\n",
       "        vertical-align: middle;\n",
       "    }\n",
       "\n",
       "    .dataframe tbody tr th {\n",
       "        vertical-align: top;\n",
       "    }\n",
       "\n",
       "    .dataframe thead th {\n",
       "        text-align: right;\n",
       "    }\n",
       "</style>\n",
       "<table border=\"1\" class=\"dataframe\">\n",
       "  <thead>\n",
       "    <tr style=\"text-align: right;\">\n",
       "      <th></th>\n",
       "      <th>Unnamed: 0</th>\n",
       "      <th>Date</th>\n",
       "      <th>AveragePrice</th>\n",
       "      <th>Total Volume</th>\n",
       "      <th>4046</th>\n",
       "      <th>4225</th>\n",
       "      <th>4770</th>\n",
       "      <th>Total Bags</th>\n",
       "      <th>Small Bags</th>\n",
       "      <th>Large Bags</th>\n",
       "      <th>XLarge Bags</th>\n",
       "      <th>type</th>\n",
       "      <th>year</th>\n",
       "      <th>region</th>\n",
       "    </tr>\n",
       "  </thead>\n",
       "  <tbody>\n",
       "    <tr>\n",
       "      <th>0</th>\n",
       "      <td>0</td>\n",
       "      <td>2015-12-27</td>\n",
       "      <td>1.33</td>\n",
       "      <td>64236.62</td>\n",
       "      <td>1036.74</td>\n",
       "      <td>54454.85</td>\n",
       "      <td>48.16</td>\n",
       "      <td>8696.87</td>\n",
       "      <td>8603.62</td>\n",
       "      <td>93.25</td>\n",
       "      <td>0.0</td>\n",
       "      <td>conventional</td>\n",
       "      <td>2015</td>\n",
       "      <td>Albany</td>\n",
       "    </tr>\n",
       "    <tr>\n",
       "      <th>1</th>\n",
       "      <td>1</td>\n",
       "      <td>2015-12-20</td>\n",
       "      <td>1.35</td>\n",
       "      <td>54876.98</td>\n",
       "      <td>674.28</td>\n",
       "      <td>44638.81</td>\n",
       "      <td>58.33</td>\n",
       "      <td>9505.56</td>\n",
       "      <td>9408.07</td>\n",
       "      <td>97.49</td>\n",
       "      <td>0.0</td>\n",
       "      <td>conventional</td>\n",
       "      <td>2015</td>\n",
       "      <td>Albany</td>\n",
       "    </tr>\n",
       "    <tr>\n",
       "      <th>2</th>\n",
       "      <td>2</td>\n",
       "      <td>2015-12-13</td>\n",
       "      <td>0.93</td>\n",
       "      <td>118220.22</td>\n",
       "      <td>794.70</td>\n",
       "      <td>109149.67</td>\n",
       "      <td>130.50</td>\n",
       "      <td>8145.35</td>\n",
       "      <td>8042.21</td>\n",
       "      <td>103.14</td>\n",
       "      <td>0.0</td>\n",
       "      <td>conventional</td>\n",
       "      <td>2015</td>\n",
       "      <td>Albany</td>\n",
       "    </tr>\n",
       "    <tr>\n",
       "      <th>3</th>\n",
       "      <td>3</td>\n",
       "      <td>2015-12-06</td>\n",
       "      <td>1.08</td>\n",
       "      <td>78992.15</td>\n",
       "      <td>1132.00</td>\n",
       "      <td>71976.41</td>\n",
       "      <td>72.58</td>\n",
       "      <td>5811.16</td>\n",
       "      <td>5677.40</td>\n",
       "      <td>133.76</td>\n",
       "      <td>0.0</td>\n",
       "      <td>conventional</td>\n",
       "      <td>2015</td>\n",
       "      <td>Albany</td>\n",
       "    </tr>\n",
       "    <tr>\n",
       "      <th>4</th>\n",
       "      <td>4</td>\n",
       "      <td>2015-11-29</td>\n",
       "      <td>1.28</td>\n",
       "      <td>51039.60</td>\n",
       "      <td>941.48</td>\n",
       "      <td>43838.39</td>\n",
       "      <td>75.78</td>\n",
       "      <td>6183.95</td>\n",
       "      <td>5986.26</td>\n",
       "      <td>197.69</td>\n",
       "      <td>0.0</td>\n",
       "      <td>conventional</td>\n",
       "      <td>2015</td>\n",
       "      <td>Albany</td>\n",
       "    </tr>\n",
       "    <tr>\n",
       "      <th>...</th>\n",
       "      <td>...</td>\n",
       "      <td>...</td>\n",
       "      <td>...</td>\n",
       "      <td>...</td>\n",
       "      <td>...</td>\n",
       "      <td>...</td>\n",
       "      <td>...</td>\n",
       "      <td>...</td>\n",
       "      <td>...</td>\n",
       "      <td>...</td>\n",
       "      <td>...</td>\n",
       "      <td>...</td>\n",
       "      <td>...</td>\n",
       "      <td>...</td>\n",
       "    </tr>\n",
       "    <tr>\n",
       "      <th>18244</th>\n",
       "      <td>7</td>\n",
       "      <td>2018-02-04</td>\n",
       "      <td>1.63</td>\n",
       "      <td>17074.83</td>\n",
       "      <td>2046.96</td>\n",
       "      <td>1529.20</td>\n",
       "      <td>0.00</td>\n",
       "      <td>13498.67</td>\n",
       "      <td>13066.82</td>\n",
       "      <td>431.85</td>\n",
       "      <td>0.0</td>\n",
       "      <td>organic</td>\n",
       "      <td>2018</td>\n",
       "      <td>WestTexNewMexico</td>\n",
       "    </tr>\n",
       "    <tr>\n",
       "      <th>18245</th>\n",
       "      <td>8</td>\n",
       "      <td>2018-01-28</td>\n",
       "      <td>1.71</td>\n",
       "      <td>13888.04</td>\n",
       "      <td>1191.70</td>\n",
       "      <td>3431.50</td>\n",
       "      <td>0.00</td>\n",
       "      <td>9264.84</td>\n",
       "      <td>8940.04</td>\n",
       "      <td>324.80</td>\n",
       "      <td>0.0</td>\n",
       "      <td>organic</td>\n",
       "      <td>2018</td>\n",
       "      <td>WestTexNewMexico</td>\n",
       "    </tr>\n",
       "    <tr>\n",
       "      <th>18246</th>\n",
       "      <td>9</td>\n",
       "      <td>2018-01-21</td>\n",
       "      <td>1.87</td>\n",
       "      <td>13766.76</td>\n",
       "      <td>1191.92</td>\n",
       "      <td>2452.79</td>\n",
       "      <td>727.94</td>\n",
       "      <td>9394.11</td>\n",
       "      <td>9351.80</td>\n",
       "      <td>42.31</td>\n",
       "      <td>0.0</td>\n",
       "      <td>organic</td>\n",
       "      <td>2018</td>\n",
       "      <td>WestTexNewMexico</td>\n",
       "    </tr>\n",
       "    <tr>\n",
       "      <th>18247</th>\n",
       "      <td>10</td>\n",
       "      <td>2018-01-14</td>\n",
       "      <td>1.93</td>\n",
       "      <td>16205.22</td>\n",
       "      <td>1527.63</td>\n",
       "      <td>2981.04</td>\n",
       "      <td>727.01</td>\n",
       "      <td>10969.54</td>\n",
       "      <td>10919.54</td>\n",
       "      <td>50.00</td>\n",
       "      <td>0.0</td>\n",
       "      <td>organic</td>\n",
       "      <td>2018</td>\n",
       "      <td>WestTexNewMexico</td>\n",
       "    </tr>\n",
       "    <tr>\n",
       "      <th>18248</th>\n",
       "      <td>11</td>\n",
       "      <td>2018-01-07</td>\n",
       "      <td>1.62</td>\n",
       "      <td>17489.58</td>\n",
       "      <td>2894.77</td>\n",
       "      <td>2356.13</td>\n",
       "      <td>224.53</td>\n",
       "      <td>12014.15</td>\n",
       "      <td>11988.14</td>\n",
       "      <td>26.01</td>\n",
       "      <td>0.0</td>\n",
       "      <td>organic</td>\n",
       "      <td>2018</td>\n",
       "      <td>WestTexNewMexico</td>\n",
       "    </tr>\n",
       "  </tbody>\n",
       "</table>\n",
       "<p>18249 rows × 14 columns</p>\n",
       "</div>"
      ],
      "text/plain": [
       "       Unnamed: 0        Date  AveragePrice  Total Volume     4046       4225  \\\n",
       "0               0  2015-12-27          1.33      64236.62  1036.74   54454.85   \n",
       "1               1  2015-12-20          1.35      54876.98   674.28   44638.81   \n",
       "2               2  2015-12-13          0.93     118220.22   794.70  109149.67   \n",
       "3               3  2015-12-06          1.08      78992.15  1132.00   71976.41   \n",
       "4               4  2015-11-29          1.28      51039.60   941.48   43838.39   \n",
       "...           ...         ...           ...           ...      ...        ...   \n",
       "18244           7  2018-02-04          1.63      17074.83  2046.96    1529.20   \n",
       "18245           8  2018-01-28          1.71      13888.04  1191.70    3431.50   \n",
       "18246           9  2018-01-21          1.87      13766.76  1191.92    2452.79   \n",
       "18247          10  2018-01-14          1.93      16205.22  1527.63    2981.04   \n",
       "18248          11  2018-01-07          1.62      17489.58  2894.77    2356.13   \n",
       "\n",
       "         4770  Total Bags  Small Bags  Large Bags  XLarge Bags          type  \\\n",
       "0       48.16     8696.87     8603.62       93.25          0.0  conventional   \n",
       "1       58.33     9505.56     9408.07       97.49          0.0  conventional   \n",
       "2      130.50     8145.35     8042.21      103.14          0.0  conventional   \n",
       "3       72.58     5811.16     5677.40      133.76          0.0  conventional   \n",
       "4       75.78     6183.95     5986.26      197.69          0.0  conventional   \n",
       "...       ...         ...         ...         ...          ...           ...   \n",
       "18244    0.00    13498.67    13066.82      431.85          0.0       organic   \n",
       "18245    0.00     9264.84     8940.04      324.80          0.0       organic   \n",
       "18246  727.94     9394.11     9351.80       42.31          0.0       organic   \n",
       "18247  727.01    10969.54    10919.54       50.00          0.0       organic   \n",
       "18248  224.53    12014.15    11988.14       26.01          0.0       organic   \n",
       "\n",
       "       year            region  \n",
       "0      2015            Albany  \n",
       "1      2015            Albany  \n",
       "2      2015            Albany  \n",
       "3      2015            Albany  \n",
       "4      2015            Albany  \n",
       "...     ...               ...  \n",
       "18244  2018  WestTexNewMexico  \n",
       "18245  2018  WestTexNewMexico  \n",
       "18246  2018  WestTexNewMexico  \n",
       "18247  2018  WestTexNewMexico  \n",
       "18248  2018  WestTexNewMexico  \n",
       "\n",
       "[18249 rows x 14 columns]"
      ]
     },
     "execution_count": 2,
     "metadata": {},
     "output_type": "execute_result"
    }
   ],
   "source": [
    "av = pd.read_csv('avocado.csv')\n",
    "av"
   ]
  },
  {
   "cell_type": "code",
   "execution_count": 3,
   "id": "108ae115",
   "metadata": {},
   "outputs": [
    {
     "data": {
      "text/html": [
       "<div>\n",
       "<style scoped>\n",
       "    .dataframe tbody tr th:only-of-type {\n",
       "        vertical-align: middle;\n",
       "    }\n",
       "\n",
       "    .dataframe tbody tr th {\n",
       "        vertical-align: top;\n",
       "    }\n",
       "\n",
       "    .dataframe thead th {\n",
       "        text-align: right;\n",
       "    }\n",
       "</style>\n",
       "<table border=\"1\" class=\"dataframe\">\n",
       "  <thead>\n",
       "    <tr style=\"text-align: right;\">\n",
       "      <th></th>\n",
       "      <th>Unnamed: 0</th>\n",
       "      <th>Date</th>\n",
       "      <th>AveragePrice</th>\n",
       "      <th>Total Volume</th>\n",
       "      <th>4046</th>\n",
       "      <th>4225</th>\n",
       "      <th>4770</th>\n",
       "      <th>Small Bags</th>\n",
       "      <th>Large Bags</th>\n",
       "      <th>XLarge Bags</th>\n",
       "      <th>type</th>\n",
       "      <th>year</th>\n",
       "      <th>region</th>\n",
       "    </tr>\n",
       "  </thead>\n",
       "  <tbody>\n",
       "    <tr>\n",
       "      <th>0</th>\n",
       "      <td>0</td>\n",
       "      <td>2015-12-27</td>\n",
       "      <td>1.33</td>\n",
       "      <td>64236.62</td>\n",
       "      <td>1036.74</td>\n",
       "      <td>54454.85</td>\n",
       "      <td>48.16</td>\n",
       "      <td>8603.62</td>\n",
       "      <td>93.25</td>\n",
       "      <td>0.0</td>\n",
       "      <td>conventional</td>\n",
       "      <td>2015</td>\n",
       "      <td>Albany</td>\n",
       "    </tr>\n",
       "    <tr>\n",
       "      <th>1</th>\n",
       "      <td>1</td>\n",
       "      <td>2015-12-20</td>\n",
       "      <td>1.35</td>\n",
       "      <td>54876.98</td>\n",
       "      <td>674.28</td>\n",
       "      <td>44638.81</td>\n",
       "      <td>58.33</td>\n",
       "      <td>9408.07</td>\n",
       "      <td>97.49</td>\n",
       "      <td>0.0</td>\n",
       "      <td>conventional</td>\n",
       "      <td>2015</td>\n",
       "      <td>Albany</td>\n",
       "    </tr>\n",
       "    <tr>\n",
       "      <th>2</th>\n",
       "      <td>2</td>\n",
       "      <td>2015-12-13</td>\n",
       "      <td>0.93</td>\n",
       "      <td>118220.22</td>\n",
       "      <td>794.70</td>\n",
       "      <td>109149.67</td>\n",
       "      <td>130.50</td>\n",
       "      <td>8042.21</td>\n",
       "      <td>103.14</td>\n",
       "      <td>0.0</td>\n",
       "      <td>conventional</td>\n",
       "      <td>2015</td>\n",
       "      <td>Albany</td>\n",
       "    </tr>\n",
       "    <tr>\n",
       "      <th>3</th>\n",
       "      <td>3</td>\n",
       "      <td>2015-12-06</td>\n",
       "      <td>1.08</td>\n",
       "      <td>78992.15</td>\n",
       "      <td>1132.00</td>\n",
       "      <td>71976.41</td>\n",
       "      <td>72.58</td>\n",
       "      <td>5677.40</td>\n",
       "      <td>133.76</td>\n",
       "      <td>0.0</td>\n",
       "      <td>conventional</td>\n",
       "      <td>2015</td>\n",
       "      <td>Albany</td>\n",
       "    </tr>\n",
       "    <tr>\n",
       "      <th>4</th>\n",
       "      <td>4</td>\n",
       "      <td>2015-11-29</td>\n",
       "      <td>1.28</td>\n",
       "      <td>51039.60</td>\n",
       "      <td>941.48</td>\n",
       "      <td>43838.39</td>\n",
       "      <td>75.78</td>\n",
       "      <td>5986.26</td>\n",
       "      <td>197.69</td>\n",
       "      <td>0.0</td>\n",
       "      <td>conventional</td>\n",
       "      <td>2015</td>\n",
       "      <td>Albany</td>\n",
       "    </tr>\n",
       "    <tr>\n",
       "      <th>...</th>\n",
       "      <td>...</td>\n",
       "      <td>...</td>\n",
       "      <td>...</td>\n",
       "      <td>...</td>\n",
       "      <td>...</td>\n",
       "      <td>...</td>\n",
       "      <td>...</td>\n",
       "      <td>...</td>\n",
       "      <td>...</td>\n",
       "      <td>...</td>\n",
       "      <td>...</td>\n",
       "      <td>...</td>\n",
       "      <td>...</td>\n",
       "    </tr>\n",
       "    <tr>\n",
       "      <th>18244</th>\n",
       "      <td>7</td>\n",
       "      <td>2018-02-04</td>\n",
       "      <td>1.63</td>\n",
       "      <td>17074.83</td>\n",
       "      <td>2046.96</td>\n",
       "      <td>1529.20</td>\n",
       "      <td>0.00</td>\n",
       "      <td>13066.82</td>\n",
       "      <td>431.85</td>\n",
       "      <td>0.0</td>\n",
       "      <td>organic</td>\n",
       "      <td>2018</td>\n",
       "      <td>WestTexNewMexico</td>\n",
       "    </tr>\n",
       "    <tr>\n",
       "      <th>18245</th>\n",
       "      <td>8</td>\n",
       "      <td>2018-01-28</td>\n",
       "      <td>1.71</td>\n",
       "      <td>13888.04</td>\n",
       "      <td>1191.70</td>\n",
       "      <td>3431.50</td>\n",
       "      <td>0.00</td>\n",
       "      <td>8940.04</td>\n",
       "      <td>324.80</td>\n",
       "      <td>0.0</td>\n",
       "      <td>organic</td>\n",
       "      <td>2018</td>\n",
       "      <td>WestTexNewMexico</td>\n",
       "    </tr>\n",
       "    <tr>\n",
       "      <th>18246</th>\n",
       "      <td>9</td>\n",
       "      <td>2018-01-21</td>\n",
       "      <td>1.87</td>\n",
       "      <td>13766.76</td>\n",
       "      <td>1191.92</td>\n",
       "      <td>2452.79</td>\n",
       "      <td>727.94</td>\n",
       "      <td>9351.80</td>\n",
       "      <td>42.31</td>\n",
       "      <td>0.0</td>\n",
       "      <td>organic</td>\n",
       "      <td>2018</td>\n",
       "      <td>WestTexNewMexico</td>\n",
       "    </tr>\n",
       "    <tr>\n",
       "      <th>18247</th>\n",
       "      <td>10</td>\n",
       "      <td>2018-01-14</td>\n",
       "      <td>1.93</td>\n",
       "      <td>16205.22</td>\n",
       "      <td>1527.63</td>\n",
       "      <td>2981.04</td>\n",
       "      <td>727.01</td>\n",
       "      <td>10919.54</td>\n",
       "      <td>50.00</td>\n",
       "      <td>0.0</td>\n",
       "      <td>organic</td>\n",
       "      <td>2018</td>\n",
       "      <td>WestTexNewMexico</td>\n",
       "    </tr>\n",
       "    <tr>\n",
       "      <th>18248</th>\n",
       "      <td>11</td>\n",
       "      <td>2018-01-07</td>\n",
       "      <td>1.62</td>\n",
       "      <td>17489.58</td>\n",
       "      <td>2894.77</td>\n",
       "      <td>2356.13</td>\n",
       "      <td>224.53</td>\n",
       "      <td>11988.14</td>\n",
       "      <td>26.01</td>\n",
       "      <td>0.0</td>\n",
       "      <td>organic</td>\n",
       "      <td>2018</td>\n",
       "      <td>WestTexNewMexico</td>\n",
       "    </tr>\n",
       "  </tbody>\n",
       "</table>\n",
       "<p>18249 rows × 13 columns</p>\n",
       "</div>"
      ],
      "text/plain": [
       "       Unnamed: 0        Date  AveragePrice  Total Volume     4046       4225  \\\n",
       "0               0  2015-12-27          1.33      64236.62  1036.74   54454.85   \n",
       "1               1  2015-12-20          1.35      54876.98   674.28   44638.81   \n",
       "2               2  2015-12-13          0.93     118220.22   794.70  109149.67   \n",
       "3               3  2015-12-06          1.08      78992.15  1132.00   71976.41   \n",
       "4               4  2015-11-29          1.28      51039.60   941.48   43838.39   \n",
       "...           ...         ...           ...           ...      ...        ...   \n",
       "18244           7  2018-02-04          1.63      17074.83  2046.96    1529.20   \n",
       "18245           8  2018-01-28          1.71      13888.04  1191.70    3431.50   \n",
       "18246           9  2018-01-21          1.87      13766.76  1191.92    2452.79   \n",
       "18247          10  2018-01-14          1.93      16205.22  1527.63    2981.04   \n",
       "18248          11  2018-01-07          1.62      17489.58  2894.77    2356.13   \n",
       "\n",
       "         4770  Small Bags  Large Bags  XLarge Bags          type  year  \\\n",
       "0       48.16     8603.62       93.25          0.0  conventional  2015   \n",
       "1       58.33     9408.07       97.49          0.0  conventional  2015   \n",
       "2      130.50     8042.21      103.14          0.0  conventional  2015   \n",
       "3       72.58     5677.40      133.76          0.0  conventional  2015   \n",
       "4       75.78     5986.26      197.69          0.0  conventional  2015   \n",
       "...       ...         ...         ...          ...           ...   ...   \n",
       "18244    0.00    13066.82      431.85          0.0       organic  2018   \n",
       "18245    0.00     8940.04      324.80          0.0       organic  2018   \n",
       "18246  727.94     9351.80       42.31          0.0       organic  2018   \n",
       "18247  727.01    10919.54       50.00          0.0       organic  2018   \n",
       "18248  224.53    11988.14       26.01          0.0       organic  2018   \n",
       "\n",
       "                 region  \n",
       "0                Albany  \n",
       "1                Albany  \n",
       "2                Albany  \n",
       "3                Albany  \n",
       "4                Albany  \n",
       "...                 ...  \n",
       "18244  WestTexNewMexico  \n",
       "18245  WestTexNewMexico  \n",
       "18246  WestTexNewMexico  \n",
       "18247  WestTexNewMexico  \n",
       "18248  WestTexNewMexico  \n",
       "\n",
       "[18249 rows x 13 columns]"
      ]
     },
     "execution_count": 3,
     "metadata": {},
     "output_type": "execute_result"
    }
   ],
   "source": [
    "av.drop('Total Bags',inplace=True,axis = 1)\n",
    "av"
   ]
  },
  {
   "cell_type": "markdown",
   "id": "b729eda1",
   "metadata": {},
   "source": [
    "##### We drop the Unnamed column because it has no effect on dataset."
   ]
  },
  {
   "cell_type": "code",
   "execution_count": 4,
   "id": "bd6c0fba",
   "metadata": {},
   "outputs": [
    {
     "data": {
      "text/plain": [
       "(18249, 13)"
      ]
     },
     "execution_count": 4,
     "metadata": {},
     "output_type": "execute_result"
    }
   ],
   "source": [
    "av.shape"
   ]
  },
  {
   "cell_type": "code",
   "execution_count": 5,
   "id": "3eb8d693",
   "metadata": {},
   "outputs": [
    {
     "data": {
      "text/plain": [
       "Unnamed: 0        int64\n",
       "Date             object\n",
       "AveragePrice    float64\n",
       "Total Volume    float64\n",
       "4046            float64\n",
       "4225            float64\n",
       "4770            float64\n",
       "Small Bags      float64\n",
       "Large Bags      float64\n",
       "XLarge Bags     float64\n",
       "type             object\n",
       "year              int64\n",
       "region           object\n",
       "dtype: object"
      ]
     },
     "execution_count": 5,
     "metadata": {},
     "output_type": "execute_result"
    }
   ],
   "source": [
    "av.dtypes"
   ]
  },
  {
   "cell_type": "code",
   "execution_count": 6,
   "id": "b0b4176d",
   "metadata": {},
   "outputs": [
    {
     "data": {
      "text/plain": [
       "Index(['Unnamed: 0', 'Date', 'AveragePrice', 'Total Volume', '4046', '4225',\n",
       "       '4770', 'Small Bags', 'Large Bags', 'XLarge Bags', 'type', 'year',\n",
       "       'region'],\n",
       "      dtype='object')"
      ]
     },
     "execution_count": 6,
     "metadata": {},
     "output_type": "execute_result"
    }
   ],
   "source": [
    "av.columns"
   ]
  },
  {
   "cell_type": "markdown",
   "id": "15eeed12",
   "metadata": {},
   "source": [
    "#### About the Columns\n",
    "\n",
    "##### Date - This column shows the date of an observation.\n",
    "\n",
    "##### AveragePrice - It represents the average price of an single Avocado.\n",
    "\n",
    "##### Total Volume - This column shows the total number of avocados sold.\n",
    "\n",
    "##### 4046 - This column represents the total number of avocados with the product lookup codes.\n",
    "\n",
    "##### 4225 - Total number of avocados sold with PLU number 4225.\n",
    "\n",
    "##### 4770 - Total number of avocados sold with PLU number 4770.\n",
    "\n",
    "##### Total Bags - Total number of bags in which avocados kept.\n",
    "\n",
    "##### Small Bags - Size of a avocados bag.\n",
    "\n",
    "##### Large Bags - This shows the size of a bag.\n",
    "\n",
    "##### XLarge Bags - This is the size of a bag.\n",
    "\n",
    "##### type - This column shows the type of an avocado,either it is conventional or organic.\n",
    "\n",
    "##### year - This column shows the year.\n",
    "\n",
    "##### region - This column represents the city or region of the observation."
   ]
  },
  {
   "cell_type": "code",
   "execution_count": 7,
   "id": "596ff1b8",
   "metadata": {},
   "outputs": [
    {
     "data": {
      "text/plain": [
       "Unnamed: 0      0\n",
       "Date            0\n",
       "AveragePrice    0\n",
       "Total Volume    0\n",
       "4046            0\n",
       "4225            0\n",
       "4770            0\n",
       "Small Bags      0\n",
       "Large Bags      0\n",
       "XLarge Bags     0\n",
       "type            0\n",
       "year            0\n",
       "region          0\n",
       "dtype: int64"
      ]
     },
     "execution_count": 7,
     "metadata": {},
     "output_type": "execute_result"
    }
   ],
   "source": [
    "av.isnull().sum()"
   ]
  },
  {
   "cell_type": "markdown",
   "id": "c0853d47",
   "metadata": {},
   "source": [
    "##### We can see that there is no null values in the given dataset."
   ]
  },
  {
   "cell_type": "markdown",
   "id": "87975b50",
   "metadata": {},
   "source": [
    "## Data Analysis and Visualization"
   ]
  },
  {
   "cell_type": "markdown",
   "id": "6e3ae30e",
   "metadata": {},
   "source": [
    "### Description"
   ]
  },
  {
   "cell_type": "code",
   "execution_count": 8,
   "id": "e93c574f",
   "metadata": {},
   "outputs": [
    {
     "data": {
      "text/html": [
       "<div>\n",
       "<style scoped>\n",
       "    .dataframe tbody tr th:only-of-type {\n",
       "        vertical-align: middle;\n",
       "    }\n",
       "\n",
       "    .dataframe tbody tr th {\n",
       "        vertical-align: top;\n",
       "    }\n",
       "\n",
       "    .dataframe thead th {\n",
       "        text-align: right;\n",
       "    }\n",
       "</style>\n",
       "<table border=\"1\" class=\"dataframe\">\n",
       "  <thead>\n",
       "    <tr style=\"text-align: right;\">\n",
       "      <th></th>\n",
       "      <th>Unnamed: 0</th>\n",
       "      <th>AveragePrice</th>\n",
       "      <th>Total Volume</th>\n",
       "      <th>4046</th>\n",
       "      <th>4225</th>\n",
       "      <th>4770</th>\n",
       "      <th>Small Bags</th>\n",
       "      <th>Large Bags</th>\n",
       "      <th>XLarge Bags</th>\n",
       "      <th>year</th>\n",
       "    </tr>\n",
       "  </thead>\n",
       "  <tbody>\n",
       "    <tr>\n",
       "      <th>count</th>\n",
       "      <td>18249.000000</td>\n",
       "      <td>18249.000000</td>\n",
       "      <td>1.824900e+04</td>\n",
       "      <td>1.824900e+04</td>\n",
       "      <td>1.824900e+04</td>\n",
       "      <td>1.824900e+04</td>\n",
       "      <td>1.824900e+04</td>\n",
       "      <td>1.824900e+04</td>\n",
       "      <td>18249.000000</td>\n",
       "      <td>18249.000000</td>\n",
       "    </tr>\n",
       "    <tr>\n",
       "      <th>mean</th>\n",
       "      <td>24.232232</td>\n",
       "      <td>1.405978</td>\n",
       "      <td>8.506440e+05</td>\n",
       "      <td>2.930084e+05</td>\n",
       "      <td>2.951546e+05</td>\n",
       "      <td>2.283974e+04</td>\n",
       "      <td>1.821947e+05</td>\n",
       "      <td>5.433809e+04</td>\n",
       "      <td>3106.426507</td>\n",
       "      <td>2016.147899</td>\n",
       "    </tr>\n",
       "    <tr>\n",
       "      <th>std</th>\n",
       "      <td>15.481045</td>\n",
       "      <td>0.402677</td>\n",
       "      <td>3.453545e+06</td>\n",
       "      <td>1.264989e+06</td>\n",
       "      <td>1.204120e+06</td>\n",
       "      <td>1.074641e+05</td>\n",
       "      <td>7.461785e+05</td>\n",
       "      <td>2.439660e+05</td>\n",
       "      <td>17692.894652</td>\n",
       "      <td>0.939938</td>\n",
       "    </tr>\n",
       "    <tr>\n",
       "      <th>min</th>\n",
       "      <td>0.000000</td>\n",
       "      <td>0.440000</td>\n",
       "      <td>8.456000e+01</td>\n",
       "      <td>0.000000e+00</td>\n",
       "      <td>0.000000e+00</td>\n",
       "      <td>0.000000e+00</td>\n",
       "      <td>0.000000e+00</td>\n",
       "      <td>0.000000e+00</td>\n",
       "      <td>0.000000</td>\n",
       "      <td>2015.000000</td>\n",
       "    </tr>\n",
       "    <tr>\n",
       "      <th>25%</th>\n",
       "      <td>10.000000</td>\n",
       "      <td>1.100000</td>\n",
       "      <td>1.083858e+04</td>\n",
       "      <td>8.540700e+02</td>\n",
       "      <td>3.008780e+03</td>\n",
       "      <td>0.000000e+00</td>\n",
       "      <td>2.849420e+03</td>\n",
       "      <td>1.274700e+02</td>\n",
       "      <td>0.000000</td>\n",
       "      <td>2015.000000</td>\n",
       "    </tr>\n",
       "    <tr>\n",
       "      <th>50%</th>\n",
       "      <td>24.000000</td>\n",
       "      <td>1.370000</td>\n",
       "      <td>1.073768e+05</td>\n",
       "      <td>8.645300e+03</td>\n",
       "      <td>2.906102e+04</td>\n",
       "      <td>1.849900e+02</td>\n",
       "      <td>2.636282e+04</td>\n",
       "      <td>2.647710e+03</td>\n",
       "      <td>0.000000</td>\n",
       "      <td>2016.000000</td>\n",
       "    </tr>\n",
       "    <tr>\n",
       "      <th>75%</th>\n",
       "      <td>38.000000</td>\n",
       "      <td>1.660000</td>\n",
       "      <td>4.329623e+05</td>\n",
       "      <td>1.110202e+05</td>\n",
       "      <td>1.502069e+05</td>\n",
       "      <td>6.243420e+03</td>\n",
       "      <td>8.333767e+04</td>\n",
       "      <td>2.202925e+04</td>\n",
       "      <td>132.500000</td>\n",
       "      <td>2017.000000</td>\n",
       "    </tr>\n",
       "    <tr>\n",
       "      <th>max</th>\n",
       "      <td>52.000000</td>\n",
       "      <td>3.250000</td>\n",
       "      <td>6.250565e+07</td>\n",
       "      <td>2.274362e+07</td>\n",
       "      <td>2.047057e+07</td>\n",
       "      <td>2.546439e+06</td>\n",
       "      <td>1.338459e+07</td>\n",
       "      <td>5.719097e+06</td>\n",
       "      <td>551693.650000</td>\n",
       "      <td>2018.000000</td>\n",
       "    </tr>\n",
       "  </tbody>\n",
       "</table>\n",
       "</div>"
      ],
      "text/plain": [
       "         Unnamed: 0  AveragePrice  Total Volume          4046          4225  \\\n",
       "count  18249.000000  18249.000000  1.824900e+04  1.824900e+04  1.824900e+04   \n",
       "mean      24.232232      1.405978  8.506440e+05  2.930084e+05  2.951546e+05   \n",
       "std       15.481045      0.402677  3.453545e+06  1.264989e+06  1.204120e+06   \n",
       "min        0.000000      0.440000  8.456000e+01  0.000000e+00  0.000000e+00   \n",
       "25%       10.000000      1.100000  1.083858e+04  8.540700e+02  3.008780e+03   \n",
       "50%       24.000000      1.370000  1.073768e+05  8.645300e+03  2.906102e+04   \n",
       "75%       38.000000      1.660000  4.329623e+05  1.110202e+05  1.502069e+05   \n",
       "max       52.000000      3.250000  6.250565e+07  2.274362e+07  2.047057e+07   \n",
       "\n",
       "               4770    Small Bags    Large Bags    XLarge Bags          year  \n",
       "count  1.824900e+04  1.824900e+04  1.824900e+04   18249.000000  18249.000000  \n",
       "mean   2.283974e+04  1.821947e+05  5.433809e+04    3106.426507   2016.147899  \n",
       "std    1.074641e+05  7.461785e+05  2.439660e+05   17692.894652      0.939938  \n",
       "min    0.000000e+00  0.000000e+00  0.000000e+00       0.000000   2015.000000  \n",
       "25%    0.000000e+00  2.849420e+03  1.274700e+02       0.000000   2015.000000  \n",
       "50%    1.849900e+02  2.636282e+04  2.647710e+03       0.000000   2016.000000  \n",
       "75%    6.243420e+03  8.333767e+04  2.202925e+04     132.500000   2017.000000  \n",
       "max    2.546439e+06  1.338459e+07  5.719097e+06  551693.650000   2018.000000  "
      ]
     },
     "execution_count": 8,
     "metadata": {},
     "output_type": "execute_result"
    }
   ],
   "source": [
    "av.describe()"
   ]
  },
  {
   "cell_type": "code",
   "execution_count": 9,
   "id": "216ee185",
   "metadata": {},
   "outputs": [
    {
     "data": {
      "text/plain": [
       "<AxesSubplot:>"
      ]
     },
     "execution_count": 9,
     "metadata": {},
     "output_type": "execute_result"
    },
    {
     "data": {
      "image/png": "[encoded data removed]",
      "text/plain": [
       "<Figure size 1224x720 with 2 Axes>"
      ]
     },
     "metadata": {
      "needs_background": "light"
     },
     "output_type": "display_data"
    }
   ],
   "source": [
    "plt.figure(figsize=(17,10))\n",
    "sns.heatmap(av.describe(),annot=True,fmt = '.2f',linewidths=2)"
   ]
  },
  {
   "cell_type": "markdown",
   "id": "760bd7db",
   "metadata": {},
   "source": [
    "### Outcome of Description"
   ]
  },
  {
   "cell_type": "markdown",
   "id": "edd10ee3",
   "metadata": {},
   "source": [
    "Description of Avocado dataset helps us to clean the data.\n",
    "\n",
    "AveragePrice - 1.Mean = 1.41, 2.Std = 0.40, 3.Min = 0.44, Max = 3.25\n",
    "\n",
    "Total Volume - 1.Mean = 850644.01, 2.Std = 3453545.36, 3.Min = 84.56, Max = 62505646.52\n",
    "\n",
    "4046 - 1.Mean = 293008.42, 2.Std = 1264989.08, 3.Min = 0, Max = 22743616.17\n",
    "\n",
    "4225 - 1.Mean = 295154.57, 2.Std =1204120.40 , 3.Min = 0, Max = 20470572.61\n",
    "\n",
    "4770 - 1.Mean = 22839.74, 2.Std = 107464.07, 3.Min = 0, Max = 2546439.11\n",
    "\n",
    "Total Bags- 1.Mean = 239639.20, 2.Std = 986242.40, 3.Min = 0, Max = 19373134.37\n",
    "\n",
    "Small Bags- 1.Mean = 182194.69, 2.Std = 746178.51, 3.Min = 0, Max = 13384586.80\n",
    "\n",
    "Large Bags - 1.Mean = 54338.09, 2.Std = 243965.96, 3.Min = 0, Max = 5719096.61\n",
    "\n",
    "XLarge Bags - 1.Mean = 3106.43, 2.Std = 17692.89, 3.Min = 0, Max = 551693.65\n",
    "\n",
    "year - 1.Mean = 2016.15, 2.Std = 0.94, 3.Min = 2015, Max = 2018\n"
   ]
  },
  {
   "cell_type": "markdown",
   "id": "4993e2bf",
   "metadata": {},
   "source": [
    "### Visualization"
   ]
  },
  {
   "cell_type": "code",
   "execution_count": 10,
   "id": "03dbca19",
   "metadata": {},
   "outputs": [
    {
     "data": {
      "text/plain": [
       "<AxesSubplot:xlabel='year', ylabel='AveragePrice'>"
      ]
     },
     "execution_count": 10,
     "metadata": {},
     "output_type": "execute_result"
    },
    {
     "data": {
      "image/png": "[encoded data removed]",
      "text/plain": [
       "<Figure size 432x288 with 1 Axes>"
      ]
     },
     "metadata": {
      "needs_background": "light"
     },
     "output_type": "display_data"
    }
   ],
   "source": [
    "sns.barplot(x = 'year', y = 'AveragePrice',data=av)"
   ]
  },
  {
   "cell_type": "markdown",
   "id": "cf322299",
   "metadata": {},
   "source": [
    "##### As we seen, in year 2017 Average price is maximum than other years. "
   ]
  },
  {
   "cell_type": "code",
   "execution_count": 11,
   "id": "0835bdff",
   "metadata": {},
   "outputs": [
    {
     "data": {
      "text/plain": [
       "<AxesSubplot:xlabel='type', ylabel='AveragePrice'>"
      ]
     },
     "execution_count": 11,
     "metadata": {},
     "output_type": "execute_result"
    },
    {
     "data": {
      "image/png": "[encoded data removed]",
      "text/plain": [
       "<Figure size 360x504 with 1 Axes>"
      ]
     },
     "metadata": {
      "needs_background": "light"
     },
     "output_type": "display_data"
    }
   ],
   "source": [
    "plt.figure(figsize=(5,7))\n",
    "sns.barplot(y = 'AveragePrice',x = 'type',data=av)"
   ]
  },
  {
   "cell_type": "markdown",
   "id": "1bf21a09",
   "metadata": {},
   "source": [
    "##### From above fig we can say that Average price of organic type avocado is more than conventional avocado."
   ]
  },
  {
   "cell_type": "code",
   "execution_count": 12,
   "id": "60c1b76f",
   "metadata": {},
   "outputs": [
    {
     "data": {
      "text/plain": [
       "<AxesSubplot:xlabel='year', ylabel='AveragePrice'>"
      ]
     },
     "execution_count": 12,
     "metadata": {},
     "output_type": "execute_result"
    },
    {
     "data": {
      "image/png": "[encoded data removed]",
      "text/plain": [
       "<Figure size 648x504 with 1 Axes>"
      ]
     },
     "metadata": {
      "needs_background": "light"
     },
     "output_type": "display_data"
    }
   ],
   "source": [
    "plt.figure(figsize=(9,7))\n",
    "sns.lineplot(x = 'year', y = 'AveragePrice', hue='type',data=av)"
   ]
  },
  {
   "cell_type": "markdown",
   "id": "261643a6",
   "metadata": {},
   "source": [
    "##### From above lineplot we can say that, avocados of both types conventional and organic have highest average price in year 2017."
   ]
  },
  {
   "cell_type": "code",
   "execution_count": 13,
   "id": "b492051f",
   "metadata": {},
   "outputs": [
    {
     "data": {
      "text/plain": [
       "<AxesSubplot:xlabel='year', ylabel='Total Volume'>"
      ]
     },
     "execution_count": 13,
     "metadata": {},
     "output_type": "execute_result"
    },
    {
     "data": {
      "image/png": "[encoded data removed]",
      "text/plain": [
       "<Figure size 504x504 with 1 Axes>"
      ]
     },
     "metadata": {
      "needs_background": "light"
     },
     "output_type": "display_data"
    }
   ],
   "source": [
    "plt.figure(figsize=(7,7))\n",
    "sns.barplot(x = 'year', y = 'Total Volume',data=av)"
   ]
  },
  {
   "cell_type": "markdown",
   "id": "71a00c5e",
   "metadata": {},
   "source": [
    "### Correlation"
   ]
  },
  {
   "cell_type": "code",
   "execution_count": 14,
   "id": "16b73916",
   "metadata": {},
   "outputs": [
    {
     "data": {
      "text/plain": [
       "<AxesSubplot:>"
      ]
     },
     "execution_count": 14,
     "metadata": {},
     "output_type": "execute_result"
    },
    {
     "data": {
      "image/png": "[encoded data removed]",
      "text/plain": [
       "<Figure size 720x504 with 2 Axes>"
      ]
     },
     "metadata": {
      "needs_background": "light"
     },
     "output_type": "display_data"
    }
   ],
   "source": [
    "plt.figure(figsize=(10,7))\n",
    "sns.heatmap(av.corr(),annot=True)"
   ]
  },
  {
   "cell_type": "markdown",
   "id": "52c89900",
   "metadata": {},
   "source": [
    "##### From above heatmap we can see that all the columns are negatively correlated with Average pice. Year is 93 percent correlated with Average price. Small bags,Large bags and 4225 are 17 percent correlated with Average price.\n",
    "\n",
    "##### 4770 and Total bags are 18 percent correlated with Average price. 4046 is 21 percent correlated with Average price. Total volume and XLarge bags are 19 and 12 percent correlated with Average price."
   ]
  },
  {
   "cell_type": "markdown",
   "id": "f8ab15b5",
   "metadata": {},
   "source": [
    "### Data Cleaning"
   ]
  },
  {
   "cell_type": "markdown",
   "id": "021f2e35",
   "metadata": {},
   "source": [
    "### Skewness"
   ]
  },
  {
   "cell_type": "code",
   "execution_count": 15,
   "id": "439d0b7d",
   "metadata": {},
   "outputs": [
    {
     "data": {
      "text/plain": [
       "Unnamed: 0       0.108334\n",
       "AveragePrice     0.580303\n",
       "Total Volume     9.007687\n",
       "4046             8.648220\n",
       "4225             8.942466\n",
       "4770            10.159396\n",
       "Small Bags       9.540660\n",
       "Large Bags       9.796455\n",
       "XLarge Bags     13.139751\n",
       "year             0.215339\n",
       "dtype: float64"
      ]
     },
     "execution_count": 15,
     "metadata": {},
     "output_type": "execute_result"
    }
   ],
   "source": [
    "av.skew()"
   ]
  },
  {
   "cell_type": "code",
   "execution_count": 16,
   "id": "25c2e3e9",
   "metadata": {},
   "outputs": [
    {
     "data": {
      "image/png": "[encoded data removed]",
      "text/plain": [
       "<Figure size 2016x1296 with 12 Axes>"
      ]
     },
     "metadata": {
      "needs_background": "light"
     },
     "output_type": "display_data"
    }
   ],
   "source": [
    "av.plot(kind = 'density',subplots = True,layout = (4,3),figsize = (28,18),sharex = False)\n",
    "plt.show()"
   ]
  },
  {
   "cell_type": "code",
   "execution_count": 17,
   "id": "856d58d7",
   "metadata": {},
   "outputs": [
    {
     "data": {
      "text/plain": [
       "XLarge Bags     13.139751\n",
       "4770            10.159396\n",
       "Large Bags       9.796455\n",
       "Small Bags       9.540660\n",
       "Total Volume     9.007687\n",
       "4225             8.942466\n",
       "4046             8.648220\n",
       "AveragePrice     0.580303\n",
       "year             0.215339\n",
       "Unnamed: 0       0.108334\n",
       "dtype: float64"
      ]
     },
     "execution_count": 17,
     "metadata": {},
     "output_type": "execute_result"
    }
   ],
   "source": [
    "av.skew().sort_values(ascending=False)"
   ]
  },
  {
   "cell_type": "markdown",
   "id": "2ecfc239",
   "metadata": {},
   "source": [
    "##### Lets set the skewness threshold at 0.85,we see that\n",
    "\n",
    "XLarge Bags     13.139751\n",
    "\n",
    "4770            10.159396\n",
    "\n",
    "Large Bags       9.796455\n",
    "\n",
    "Total Volume      9.007687\n",
    "\n",
    "Small Bags       9.540660\n",
    "\n",
    "4225             8.942466\n",
    "\n",
    "4046             8.648220\n",
    "\n",
    "##### are above the threshold."
   ]
  },
  {
   "cell_type": "markdown",
   "id": "9fbb4e9c",
   "metadata": {},
   "source": [
    "### Data Conversion"
   ]
  },
  {
   "cell_type": "code",
   "execution_count": 18,
   "id": "b1c414d6",
   "metadata": {},
   "outputs": [],
   "source": [
    "from sklearn.preprocessing import LabelEncoder\n",
    "lec = LabelEncoder()"
   ]
  },
  {
   "cell_type": "code",
   "execution_count": 19,
   "id": "ae92fd91",
   "metadata": {},
   "outputs": [],
   "source": [
    "for i in av.columns:\n",
    "    if av[i].dtypes == object:\n",
    "        av[i] = lec.fit_transform(av[i].values.reshape(-1,1))"
   ]
  },
  {
   "cell_type": "code",
   "execution_count": 20,
   "id": "9faf21a5",
   "metadata": {},
   "outputs": [
    {
     "data": {
      "text/html": [
       "<div>\n",
       "<style scoped>\n",
       "    .dataframe tbody tr th:only-of-type {\n",
       "        vertical-align: middle;\n",
       "    }\n",
       "\n",
       "    .dataframe tbody tr th {\n",
       "        vertical-align: top;\n",
       "    }\n",
       "\n",
       "    .dataframe thead th {\n",
       "        text-align: right;\n",
       "    }\n",
       "</style>\n",
       "<table border=\"1\" class=\"dataframe\">\n",
       "  <thead>\n",
       "    <tr style=\"text-align: right;\">\n",
       "      <th></th>\n",
       "      <th>Unnamed: 0</th>\n",
       "      <th>Date</th>\n",
       "      <th>AveragePrice</th>\n",
       "      <th>Total Volume</th>\n",
       "      <th>4046</th>\n",
       "      <th>4225</th>\n",
       "      <th>4770</th>\n",
       "      <th>Small Bags</th>\n",
       "      <th>Large Bags</th>\n",
       "      <th>XLarge Bags</th>\n",
       "      <th>type</th>\n",
       "      <th>year</th>\n",
       "      <th>region</th>\n",
       "    </tr>\n",
       "  </thead>\n",
       "  <tbody>\n",
       "    <tr>\n",
       "      <th>0</th>\n",
       "      <td>0</td>\n",
       "      <td>51</td>\n",
       "      <td>1.33</td>\n",
       "      <td>64236.62</td>\n",
       "      <td>1036.74</td>\n",
       "      <td>54454.85</td>\n",
       "      <td>48.16</td>\n",
       "      <td>8603.62</td>\n",
       "      <td>93.25</td>\n",
       "      <td>0.0</td>\n",
       "      <td>0</td>\n",
       "      <td>2015</td>\n",
       "      <td>0</td>\n",
       "    </tr>\n",
       "    <tr>\n",
       "      <th>1</th>\n",
       "      <td>1</td>\n",
       "      <td>50</td>\n",
       "      <td>1.35</td>\n",
       "      <td>54876.98</td>\n",
       "      <td>674.28</td>\n",
       "      <td>44638.81</td>\n",
       "      <td>58.33</td>\n",
       "      <td>9408.07</td>\n",
       "      <td>97.49</td>\n",
       "      <td>0.0</td>\n",
       "      <td>0</td>\n",
       "      <td>2015</td>\n",
       "      <td>0</td>\n",
       "    </tr>\n",
       "    <tr>\n",
       "      <th>2</th>\n",
       "      <td>2</td>\n",
       "      <td>49</td>\n",
       "      <td>0.93</td>\n",
       "      <td>118220.22</td>\n",
       "      <td>794.70</td>\n",
       "      <td>109149.67</td>\n",
       "      <td>130.50</td>\n",
       "      <td>8042.21</td>\n",
       "      <td>103.14</td>\n",
       "      <td>0.0</td>\n",
       "      <td>0</td>\n",
       "      <td>2015</td>\n",
       "      <td>0</td>\n",
       "    </tr>\n",
       "    <tr>\n",
       "      <th>3</th>\n",
       "      <td>3</td>\n",
       "      <td>48</td>\n",
       "      <td>1.08</td>\n",
       "      <td>78992.15</td>\n",
       "      <td>1132.00</td>\n",
       "      <td>71976.41</td>\n",
       "      <td>72.58</td>\n",
       "      <td>5677.40</td>\n",
       "      <td>133.76</td>\n",
       "      <td>0.0</td>\n",
       "      <td>0</td>\n",
       "      <td>2015</td>\n",
       "      <td>0</td>\n",
       "    </tr>\n",
       "    <tr>\n",
       "      <th>4</th>\n",
       "      <td>4</td>\n",
       "      <td>47</td>\n",
       "      <td>1.28</td>\n",
       "      <td>51039.60</td>\n",
       "      <td>941.48</td>\n",
       "      <td>43838.39</td>\n",
       "      <td>75.78</td>\n",
       "      <td>5986.26</td>\n",
       "      <td>197.69</td>\n",
       "      <td>0.0</td>\n",
       "      <td>0</td>\n",
       "      <td>2015</td>\n",
       "      <td>0</td>\n",
       "    </tr>\n",
       "    <tr>\n",
       "      <th>...</th>\n",
       "      <td>...</td>\n",
       "      <td>...</td>\n",
       "      <td>...</td>\n",
       "      <td>...</td>\n",
       "      <td>...</td>\n",
       "      <td>...</td>\n",
       "      <td>...</td>\n",
       "      <td>...</td>\n",
       "      <td>...</td>\n",
       "      <td>...</td>\n",
       "      <td>...</td>\n",
       "      <td>...</td>\n",
       "      <td>...</td>\n",
       "    </tr>\n",
       "    <tr>\n",
       "      <th>18244</th>\n",
       "      <td>7</td>\n",
       "      <td>161</td>\n",
       "      <td>1.63</td>\n",
       "      <td>17074.83</td>\n",
       "      <td>2046.96</td>\n",
       "      <td>1529.20</td>\n",
       "      <td>0.00</td>\n",
       "      <td>13066.82</td>\n",
       "      <td>431.85</td>\n",
       "      <td>0.0</td>\n",
       "      <td>1</td>\n",
       "      <td>2018</td>\n",
       "      <td>53</td>\n",
       "    </tr>\n",
       "    <tr>\n",
       "      <th>18245</th>\n",
       "      <td>8</td>\n",
       "      <td>160</td>\n",
       "      <td>1.71</td>\n",
       "      <td>13888.04</td>\n",
       "      <td>1191.70</td>\n",
       "      <td>3431.50</td>\n",
       "      <td>0.00</td>\n",
       "      <td>8940.04</td>\n",
       "      <td>324.80</td>\n",
       "      <td>0.0</td>\n",
       "      <td>1</td>\n",
       "      <td>2018</td>\n",
       "      <td>53</td>\n",
       "    </tr>\n",
       "    <tr>\n",
       "      <th>18246</th>\n",
       "      <td>9</td>\n",
       "      <td>159</td>\n",
       "      <td>1.87</td>\n",
       "      <td>13766.76</td>\n",
       "      <td>1191.92</td>\n",
       "      <td>2452.79</td>\n",
       "      <td>727.94</td>\n",
       "      <td>9351.80</td>\n",
       "      <td>42.31</td>\n",
       "      <td>0.0</td>\n",
       "      <td>1</td>\n",
       "      <td>2018</td>\n",
       "      <td>53</td>\n",
       "    </tr>\n",
       "    <tr>\n",
       "      <th>18247</th>\n",
       "      <td>10</td>\n",
       "      <td>158</td>\n",
       "      <td>1.93</td>\n",
       "      <td>16205.22</td>\n",
       "      <td>1527.63</td>\n",
       "      <td>2981.04</td>\n",
       "      <td>727.01</td>\n",
       "      <td>10919.54</td>\n",
       "      <td>50.00</td>\n",
       "      <td>0.0</td>\n",
       "      <td>1</td>\n",
       "      <td>2018</td>\n",
       "      <td>53</td>\n",
       "    </tr>\n",
       "    <tr>\n",
       "      <th>18248</th>\n",
       "      <td>11</td>\n",
       "      <td>157</td>\n",
       "      <td>1.62</td>\n",
       "      <td>17489.58</td>\n",
       "      <td>2894.77</td>\n",
       "      <td>2356.13</td>\n",
       "      <td>224.53</td>\n",
       "      <td>11988.14</td>\n",
       "      <td>26.01</td>\n",
       "      <td>0.0</td>\n",
       "      <td>1</td>\n",
       "      <td>2018</td>\n",
       "      <td>53</td>\n",
       "    </tr>\n",
       "  </tbody>\n",
       "</table>\n",
       "<p>18249 rows × 13 columns</p>\n",
       "</div>"
      ],
      "text/plain": [
       "       Unnamed: 0  Date  AveragePrice  Total Volume     4046       4225  \\\n",
       "0               0    51          1.33      64236.62  1036.74   54454.85   \n",
       "1               1    50          1.35      54876.98   674.28   44638.81   \n",
       "2               2    49          0.93     118220.22   794.70  109149.67   \n",
       "3               3    48          1.08      78992.15  1132.00   71976.41   \n",
       "4               4    47          1.28      51039.60   941.48   43838.39   \n",
       "...           ...   ...           ...           ...      ...        ...   \n",
       "18244           7   161          1.63      17074.83  2046.96    1529.20   \n",
       "18245           8   160          1.71      13888.04  1191.70    3431.50   \n",
       "18246           9   159          1.87      13766.76  1191.92    2452.79   \n",
       "18247          10   158          1.93      16205.22  1527.63    2981.04   \n",
       "18248          11   157          1.62      17489.58  2894.77    2356.13   \n",
       "\n",
       "         4770  Small Bags  Large Bags  XLarge Bags  type  year  region  \n",
       "0       48.16     8603.62       93.25          0.0     0  2015       0  \n",
       "1       58.33     9408.07       97.49          0.0     0  2015       0  \n",
       "2      130.50     8042.21      103.14          0.0     0  2015       0  \n",
       "3       72.58     5677.40      133.76          0.0     0  2015       0  \n",
       "4       75.78     5986.26      197.69          0.0     0  2015       0  \n",
       "...       ...         ...         ...          ...   ...   ...     ...  \n",
       "18244    0.00    13066.82      431.85          0.0     1  2018      53  \n",
       "18245    0.00     8940.04      324.80          0.0     1  2018      53  \n",
       "18246  727.94     9351.80       42.31          0.0     1  2018      53  \n",
       "18247  727.01    10919.54       50.00          0.0     1  2018      53  \n",
       "18248  224.53    11988.14       26.01          0.0     1  2018      53  \n",
       "\n",
       "[18249 rows x 13 columns]"
      ]
     },
     "execution_count": 20,
     "metadata": {},
     "output_type": "execute_result"
    }
   ],
   "source": [
    "av"
   ]
  },
  {
   "cell_type": "code",
   "execution_count": 21,
   "id": "7c472bdf",
   "metadata": {},
   "outputs": [
    {
     "name": "stdout",
     "output_type": "stream",
     "text": [
      "<class 'pandas.core.frame.DataFrame'>\n",
      "RangeIndex: 18249 entries, 0 to 18248\n",
      "Data columns (total 13 columns):\n",
      " #   Column        Non-Null Count  Dtype  \n",
      "---  ------        --------------  -----  \n",
      " 0   Unnamed: 0    18249 non-null  int64  \n",
      " 1   Date          18249 non-null  int32  \n",
      " 2   AveragePrice  18249 non-null  float64\n",
      " 3   Total Volume  18249 non-null  float64\n",
      " 4   4046          18249 non-null  float64\n",
      " 5   4225          18249 non-null  float64\n",
      " 6   4770          18249 non-null  float64\n",
      " 7   Small Bags    18249 non-null  float64\n",
      " 8   Large Bags    18249 non-null  float64\n",
      " 9   XLarge Bags   18249 non-null  float64\n",
      " 10  type          18249 non-null  int32  \n",
      " 11  year          18249 non-null  int64  \n",
      " 12  region        18249 non-null  int32  \n",
      "dtypes: float64(8), int32(3), int64(2)\n",
      "memory usage: 1.6 MB\n"
     ]
    }
   ],
   "source": [
    "av.info()"
   ]
  },
  {
   "cell_type": "markdown",
   "id": "eefc557b",
   "metadata": {},
   "source": [
    "##### Now we dont have any catogorical column."
   ]
  },
  {
   "cell_type": "code",
   "execution_count": 22,
   "id": "ada7d768",
   "metadata": {},
   "outputs": [],
   "source": [
    "non_cat_columns = ['Total Volume','4046','4225','4770','Small Bags','Large Bags','XLarge Bags']"
   ]
  },
  {
   "cell_type": "code",
   "execution_count": 23,
   "id": "74b07b2a",
   "metadata": {},
   "outputs": [],
   "source": [
    "descrete_columns = ['Unnamed: 0','Date','type','year','AveragePrice']"
   ]
  },
  {
   "cell_type": "markdown",
   "id": "561f9b9a",
   "metadata": {},
   "source": [
    "### Checking Outliers"
   ]
  },
  {
   "cell_type": "code",
   "execution_count": 24,
   "id": "97952738",
   "metadata": {},
   "outputs": [
    {
     "data": {
      "text/html": [
       "<div>\n",
       "<style scoped>\n",
       "    .dataframe tbody tr th:only-of-type {\n",
       "        vertical-align: middle;\n",
       "    }\n",
       "\n",
       "    .dataframe tbody tr th {\n",
       "        vertical-align: top;\n",
       "    }\n",
       "\n",
       "    .dataframe thead th {\n",
       "        text-align: right;\n",
       "    }\n",
       "</style>\n",
       "<table border=\"1\" class=\"dataframe\">\n",
       "  <thead>\n",
       "    <tr style=\"text-align: right;\">\n",
       "      <th></th>\n",
       "      <th>Total Volume</th>\n",
       "      <th>4046</th>\n",
       "      <th>4225</th>\n",
       "      <th>4770</th>\n",
       "      <th>Small Bags</th>\n",
       "      <th>Large Bags</th>\n",
       "      <th>XLarge Bags</th>\n",
       "    </tr>\n",
       "  </thead>\n",
       "  <tbody>\n",
       "    <tr>\n",
       "      <th>0</th>\n",
       "      <td>64236.62</td>\n",
       "      <td>1036.74</td>\n",
       "      <td>54454.85</td>\n",
       "      <td>48.16</td>\n",
       "      <td>8603.62</td>\n",
       "      <td>93.25</td>\n",
       "      <td>0.0</td>\n",
       "    </tr>\n",
       "    <tr>\n",
       "      <th>1</th>\n",
       "      <td>54876.98</td>\n",
       "      <td>674.28</td>\n",
       "      <td>44638.81</td>\n",
       "      <td>58.33</td>\n",
       "      <td>9408.07</td>\n",
       "      <td>97.49</td>\n",
       "      <td>0.0</td>\n",
       "    </tr>\n",
       "    <tr>\n",
       "      <th>2</th>\n",
       "      <td>118220.22</td>\n",
       "      <td>794.70</td>\n",
       "      <td>109149.67</td>\n",
       "      <td>130.50</td>\n",
       "      <td>8042.21</td>\n",
       "      <td>103.14</td>\n",
       "      <td>0.0</td>\n",
       "    </tr>\n",
       "    <tr>\n",
       "      <th>3</th>\n",
       "      <td>78992.15</td>\n",
       "      <td>1132.00</td>\n",
       "      <td>71976.41</td>\n",
       "      <td>72.58</td>\n",
       "      <td>5677.40</td>\n",
       "      <td>133.76</td>\n",
       "      <td>0.0</td>\n",
       "    </tr>\n",
       "    <tr>\n",
       "      <th>4</th>\n",
       "      <td>51039.60</td>\n",
       "      <td>941.48</td>\n",
       "      <td>43838.39</td>\n",
       "      <td>75.78</td>\n",
       "      <td>5986.26</td>\n",
       "      <td>197.69</td>\n",
       "      <td>0.0</td>\n",
       "    </tr>\n",
       "    <tr>\n",
       "      <th>...</th>\n",
       "      <td>...</td>\n",
       "      <td>...</td>\n",
       "      <td>...</td>\n",
       "      <td>...</td>\n",
       "      <td>...</td>\n",
       "      <td>...</td>\n",
       "      <td>...</td>\n",
       "    </tr>\n",
       "    <tr>\n",
       "      <th>18244</th>\n",
       "      <td>17074.83</td>\n",
       "      <td>2046.96</td>\n",
       "      <td>1529.20</td>\n",
       "      <td>0.00</td>\n",
       "      <td>13066.82</td>\n",
       "      <td>431.85</td>\n",
       "      <td>0.0</td>\n",
       "    </tr>\n",
       "    <tr>\n",
       "      <th>18245</th>\n",
       "      <td>13888.04</td>\n",
       "      <td>1191.70</td>\n",
       "      <td>3431.50</td>\n",
       "      <td>0.00</td>\n",
       "      <td>8940.04</td>\n",
       "      <td>324.80</td>\n",
       "      <td>0.0</td>\n",
       "    </tr>\n",
       "    <tr>\n",
       "      <th>18246</th>\n",
       "      <td>13766.76</td>\n",
       "      <td>1191.92</td>\n",
       "      <td>2452.79</td>\n",
       "      <td>727.94</td>\n",
       "      <td>9351.80</td>\n",
       "      <td>42.31</td>\n",
       "      <td>0.0</td>\n",
       "    </tr>\n",
       "    <tr>\n",
       "      <th>18247</th>\n",
       "      <td>16205.22</td>\n",
       "      <td>1527.63</td>\n",
       "      <td>2981.04</td>\n",
       "      <td>727.01</td>\n",
       "      <td>10919.54</td>\n",
       "      <td>50.00</td>\n",
       "      <td>0.0</td>\n",
       "    </tr>\n",
       "    <tr>\n",
       "      <th>18248</th>\n",
       "      <td>17489.58</td>\n",
       "      <td>2894.77</td>\n",
       "      <td>2356.13</td>\n",
       "      <td>224.53</td>\n",
       "      <td>11988.14</td>\n",
       "      <td>26.01</td>\n",
       "      <td>0.0</td>\n",
       "    </tr>\n",
       "  </tbody>\n",
       "</table>\n",
       "<p>18249 rows × 7 columns</p>\n",
       "</div>"
      ],
      "text/plain": [
       "       Total Volume     4046       4225    4770  Small Bags  Large Bags  \\\n",
       "0          64236.62  1036.74   54454.85   48.16     8603.62       93.25   \n",
       "1          54876.98   674.28   44638.81   58.33     9408.07       97.49   \n",
       "2         118220.22   794.70  109149.67  130.50     8042.21      103.14   \n",
       "3          78992.15  1132.00   71976.41   72.58     5677.40      133.76   \n",
       "4          51039.60   941.48   43838.39   75.78     5986.26      197.69   \n",
       "...             ...      ...        ...     ...         ...         ...   \n",
       "18244      17074.83  2046.96    1529.20    0.00    13066.82      431.85   \n",
       "18245      13888.04  1191.70    3431.50    0.00     8940.04      324.80   \n",
       "18246      13766.76  1191.92    2452.79  727.94     9351.80       42.31   \n",
       "18247      16205.22  1527.63    2981.04  727.01    10919.54       50.00   \n",
       "18248      17489.58  2894.77    2356.13  224.53    11988.14       26.01   \n",
       "\n",
       "       XLarge Bags  \n",
       "0              0.0  \n",
       "1              0.0  \n",
       "2              0.0  \n",
       "3              0.0  \n",
       "4              0.0  \n",
       "...            ...  \n",
       "18244          0.0  \n",
       "18245          0.0  \n",
       "18246          0.0  \n",
       "18247          0.0  \n",
       "18248          0.0  \n",
       "\n",
       "[18249 rows x 7 columns]"
      ]
     },
     "execution_count": 24,
     "metadata": {},
     "output_type": "execute_result"
    }
   ],
   "source": [
    "av_non_cat_columns = av[non_cat_columns]\n",
    "av_non_cat_columns"
   ]
  },
  {
   "cell_type": "code",
   "execution_count": 25,
   "id": "c1d3d2bb",
   "metadata": {},
   "outputs": [
    {
     "data": {
      "text/html": [
       "<div>\n",
       "<style scoped>\n",
       "    .dataframe tbody tr th:only-of-type {\n",
       "        vertical-align: middle;\n",
       "    }\n",
       "\n",
       "    .dataframe tbody tr th {\n",
       "        vertical-align: top;\n",
       "    }\n",
       "\n",
       "    .dataframe thead th {\n",
       "        text-align: right;\n",
       "    }\n",
       "</style>\n",
       "<table border=\"1\" class=\"dataframe\">\n",
       "  <thead>\n",
       "    <tr style=\"text-align: right;\">\n",
       "      <th></th>\n",
       "      <th>Unnamed: 0</th>\n",
       "      <th>Date</th>\n",
       "      <th>type</th>\n",
       "      <th>year</th>\n",
       "      <th>AveragePrice</th>\n",
       "    </tr>\n",
       "  </thead>\n",
       "  <tbody>\n",
       "    <tr>\n",
       "      <th>0</th>\n",
       "      <td>0</td>\n",
       "      <td>51</td>\n",
       "      <td>0</td>\n",
       "      <td>2015</td>\n",
       "      <td>1.33</td>\n",
       "    </tr>\n",
       "    <tr>\n",
       "      <th>1</th>\n",
       "      <td>1</td>\n",
       "      <td>50</td>\n",
       "      <td>0</td>\n",
       "      <td>2015</td>\n",
       "      <td>1.35</td>\n",
       "    </tr>\n",
       "    <tr>\n",
       "      <th>2</th>\n",
       "      <td>2</td>\n",
       "      <td>49</td>\n",
       "      <td>0</td>\n",
       "      <td>2015</td>\n",
       "      <td>0.93</td>\n",
       "    </tr>\n",
       "    <tr>\n",
       "      <th>3</th>\n",
       "      <td>3</td>\n",
       "      <td>48</td>\n",
       "      <td>0</td>\n",
       "      <td>2015</td>\n",
       "      <td>1.08</td>\n",
       "    </tr>\n",
       "    <tr>\n",
       "      <th>4</th>\n",
       "      <td>4</td>\n",
       "      <td>47</td>\n",
       "      <td>0</td>\n",
       "      <td>2015</td>\n",
       "      <td>1.28</td>\n",
       "    </tr>\n",
       "    <tr>\n",
       "      <th>...</th>\n",
       "      <td>...</td>\n",
       "      <td>...</td>\n",
       "      <td>...</td>\n",
       "      <td>...</td>\n",
       "      <td>...</td>\n",
       "    </tr>\n",
       "    <tr>\n",
       "      <th>18244</th>\n",
       "      <td>7</td>\n",
       "      <td>161</td>\n",
       "      <td>1</td>\n",
       "      <td>2018</td>\n",
       "      <td>1.63</td>\n",
       "    </tr>\n",
       "    <tr>\n",
       "      <th>18245</th>\n",
       "      <td>8</td>\n",
       "      <td>160</td>\n",
       "      <td>1</td>\n",
       "      <td>2018</td>\n",
       "      <td>1.71</td>\n",
       "    </tr>\n",
       "    <tr>\n",
       "      <th>18246</th>\n",
       "      <td>9</td>\n",
       "      <td>159</td>\n",
       "      <td>1</td>\n",
       "      <td>2018</td>\n",
       "      <td>1.87</td>\n",
       "    </tr>\n",
       "    <tr>\n",
       "      <th>18247</th>\n",
       "      <td>10</td>\n",
       "      <td>158</td>\n",
       "      <td>1</td>\n",
       "      <td>2018</td>\n",
       "      <td>1.93</td>\n",
       "    </tr>\n",
       "    <tr>\n",
       "      <th>18248</th>\n",
       "      <td>11</td>\n",
       "      <td>157</td>\n",
       "      <td>1</td>\n",
       "      <td>2018</td>\n",
       "      <td>1.62</td>\n",
       "    </tr>\n",
       "  </tbody>\n",
       "</table>\n",
       "<p>18249 rows × 5 columns</p>\n",
       "</div>"
      ],
      "text/plain": [
       "       Unnamed: 0  Date  type  year  AveragePrice\n",
       "0               0    51     0  2015          1.33\n",
       "1               1    50     0  2015          1.35\n",
       "2               2    49     0  2015          0.93\n",
       "3               3    48     0  2015          1.08\n",
       "4               4    47     0  2015          1.28\n",
       "...           ...   ...   ...   ...           ...\n",
       "18244           7   161     1  2018          1.63\n",
       "18245           8   160     1  2018          1.71\n",
       "18246           9   159     1  2018          1.87\n",
       "18247          10   158     1  2018          1.93\n",
       "18248          11   157     1  2018          1.62\n",
       "\n",
       "[18249 rows x 5 columns]"
      ]
     },
     "execution_count": 25,
     "metadata": {},
     "output_type": "execute_result"
    }
   ],
   "source": [
    "av_descrete_columns = av[descrete_columns]\n",
    "av_descrete_columns"
   ]
  },
  {
   "cell_type": "code",
   "execution_count": 26,
   "id": "20fb335c",
   "metadata": {},
   "outputs": [
    {
     "data": {
      "image/png": "[encoded data removed]",
      "text/plain": [
       "<Figure size 2160x1800 with 25 Axes>"
      ]
     },
     "metadata": {
      "needs_background": "light"
     },
     "output_type": "display_data"
    },
    {
     "data": {
      "image/png": "[encoded data removed]",
      "text/plain": [
       "<Figure size 2160x1800 with 25 Axes>"
      ]
     },
     "metadata": {
      "needs_background": "light"
     },
     "output_type": "display_data"
    }
   ],
   "source": [
    "av_non_cat_columns.plot(kind='box',subplots=True,layout=(5,5),figsize=(30,25))\n",
    "plt.show()\n",
    "\n",
    "av_descrete_columns.plot(kind='box',subplots=True,layout=(5,5),figsize=(30,25))\n",
    "plt.show()\n"
   ]
  },
  {
   "cell_type": "markdown",
   "id": "ef6f9cf2",
   "metadata": {},
   "source": [
    "##### We can see outliers present in\n",
    "\n",
    "Average Price\n",
    "\n",
    "Total Volume\n",
    "\n",
    "4046\n",
    "\n",
    "4225\n",
    "\n",
    "4770\n",
    "\n",
    "Small Bags\n",
    "\n",
    "Large Bags\n",
    "\n",
    "XLarge Bags\n",
    "\n",
    "##### Unnamed : 0,Years,Region,Type and Date dont have any outliers."
   ]
  },
  {
   "cell_type": "markdown",
   "id": "71ae76ac",
   "metadata": {},
   "source": [
    "### Removing Outliers"
   ]
  },
  {
   "cell_type": "markdown",
   "id": "a865ee94",
   "metadata": {},
   "source": [
    "#### Z Score Technique"
   ]
  },
  {
   "cell_type": "code",
   "execution_count": 27,
   "id": "ec720f32",
   "metadata": {},
   "outputs": [
    {
     "data": {
      "text/plain": [
       "(18249, 13)"
      ]
     },
     "execution_count": 27,
     "metadata": {},
     "output_type": "execute_result"
    }
   ],
   "source": [
    "from scipy.stats import zscore\n",
    "\n",
    "z = np.abs(zscore(av))\n",
    "z.shape"
   ]
  },
  {
   "cell_type": "code",
   "execution_count": 28,
   "id": "1f679ec8",
   "metadata": {},
   "outputs": [
    {
     "data": {
      "text/plain": [
       "(17651, 13)"
      ]
     },
     "execution_count": 28,
     "metadata": {},
     "output_type": "execute_result"
    }
   ],
   "source": [
    "av = av[(z<3).all(axis=1)]\n",
    "av.shape"
   ]
  },
  {
   "cell_type": "markdown",
   "id": "9a996d3f",
   "metadata": {},
   "source": [
    "##### After removing outliers, we have got new dataset with 17651 rows and 13 columns."
   ]
  },
  {
   "cell_type": "markdown",
   "id": "1797b754",
   "metadata": {},
   "source": [
    "### Percentage Data Loss"
   ]
  },
  {
   "cell_type": "code",
   "execution_count": 29,
   "id": "fb00bea9",
   "metadata": {},
   "outputs": [
    {
     "data": {
      "text/plain": [
       "3.276891884486821"
      ]
     },
     "execution_count": 29,
     "metadata": {},
     "output_type": "execute_result"
    }
   ],
   "source": [
    "percent_data_loss = (18249-17651)/18249*100\n",
    "percent_data_loss"
   ]
  },
  {
   "cell_type": "markdown",
   "id": "e12c7040",
   "metadata": {},
   "source": [
    "### VIF"
   ]
  },
  {
   "cell_type": "code",
   "execution_count": 30,
   "id": "0b3bfa05",
   "metadata": {},
   "outputs": [],
   "source": [
    "from statsmodels.stats.outliers_influence import variance_inflation_factor"
   ]
  },
  {
   "cell_type": "code",
   "execution_count": 31,
   "id": "900a04f1",
   "metadata": {},
   "outputs": [],
   "source": [
    "def calculate_vif(dataset):\n",
    "    vif = pd.DataFrame()\n",
    "    vif['Features'] = dataset.columns\n",
    "    vif['VIF_Values'] = [variance_inflation_factor(dataset.values,i) for i in range(dataset.shape[1])]\n",
    "    return(vif.sort_values(by='VIF_Values',ascending = False))"
   ]
  },
  {
   "cell_type": "code",
   "execution_count": 32,
   "id": "7b718f6e",
   "metadata": {},
   "outputs": [
    {
     "data": {
      "text/html": [
       "<div>\n",
       "<style scoped>\n",
       "    .dataframe tbody tr th:only-of-type {\n",
       "        vertical-align: middle;\n",
       "    }\n",
       "\n",
       "    .dataframe tbody tr th {\n",
       "        vertical-align: top;\n",
       "    }\n",
       "\n",
       "    .dataframe thead th {\n",
       "        text-align: right;\n",
       "    }\n",
       "</style>\n",
       "<table border=\"1\" class=\"dataframe\">\n",
       "  <thead>\n",
       "    <tr style=\"text-align: right;\">\n",
       "      <th></th>\n",
       "      <th>Features</th>\n",
       "      <th>VIF_Values</th>\n",
       "    </tr>\n",
       "  </thead>\n",
       "  <tbody>\n",
       "    <tr>\n",
       "      <th>0</th>\n",
       "      <td>Total Volume</td>\n",
       "      <td>5.194550e+09</td>\n",
       "    </tr>\n",
       "    <tr>\n",
       "      <th>1</th>\n",
       "      <td>4046</td>\n",
       "      <td>6.923165e+08</td>\n",
       "    </tr>\n",
       "    <tr>\n",
       "      <th>2</th>\n",
       "      <td>4225</td>\n",
       "      <td>6.311253e+08</td>\n",
       "    </tr>\n",
       "    <tr>\n",
       "      <th>4</th>\n",
       "      <td>Small Bags</td>\n",
       "      <td>2.422632e+08</td>\n",
       "    </tr>\n",
       "    <tr>\n",
       "      <th>5</th>\n",
       "      <td>Large Bags</td>\n",
       "      <td>2.565181e+07</td>\n",
       "    </tr>\n",
       "    <tr>\n",
       "      <th>3</th>\n",
       "      <td>4770</td>\n",
       "      <td>4.956312e+06</td>\n",
       "    </tr>\n",
       "    <tr>\n",
       "      <th>6</th>\n",
       "      <td>XLarge Bags</td>\n",
       "      <td>1.324523e+05</td>\n",
       "    </tr>\n",
       "  </tbody>\n",
       "</table>\n",
       "</div>"
      ],
      "text/plain": [
       "       Features    VIF_Values\n",
       "0  Total Volume  5.194550e+09\n",
       "1          4046  6.923165e+08\n",
       "2          4225  6.311253e+08\n",
       "4    Small Bags  2.422632e+08\n",
       "5    Large Bags  2.565181e+07\n",
       "3          4770  4.956312e+06\n",
       "6   XLarge Bags  1.324523e+05"
      ]
     },
     "execution_count": 32,
     "metadata": {},
     "output_type": "execute_result"
    }
   ],
   "source": [
    "calculate_vif(av_non_cat_columns)"
   ]
  },
  {
   "cell_type": "markdown",
   "id": "9ba1207a",
   "metadata": {},
   "source": [
    "##### Lets keep the threshold  value for VIF 10, We see all the values under threshold."
   ]
  },
  {
   "cell_type": "markdown",
   "id": "eadc6573",
   "metadata": {},
   "source": [
    "### Splitting the data into x and y"
   ]
  },
  {
   "cell_type": "code",
   "execution_count": 33,
   "id": "d86dfcf0",
   "metadata": {},
   "outputs": [
    {
     "data": {
      "text/plain": [
       "(17651, 12)"
      ]
     },
     "execution_count": 33,
     "metadata": {},
     "output_type": "execute_result"
    }
   ],
   "source": [
    "x = av.drop('region',axis=1)\n",
    "x.shape"
   ]
  },
  {
   "cell_type": "code",
   "execution_count": 34,
   "id": "5c73736f",
   "metadata": {},
   "outputs": [
    {
     "data": {
      "text/plain": [
       "(17651,)"
      ]
     },
     "execution_count": 34,
     "metadata": {},
     "output_type": "execute_result"
    }
   ],
   "source": [
    "y = av['region']\n",
    "y.shape"
   ]
  },
  {
   "cell_type": "markdown",
   "id": "b9156deb",
   "metadata": {},
   "source": [
    "### Normalizing the Data using Power Transformer"
   ]
  },
  {
   "cell_type": "code",
   "execution_count": 35,
   "id": "e8c832a5",
   "metadata": {},
   "outputs": [],
   "source": [
    "from sklearn.preprocessing import power_transform\n",
    "x_new = power_transform(x)"
   ]
  },
  {
   "cell_type": "code",
   "execution_count": 36,
   "id": "9cf47f59",
   "metadata": {},
   "outputs": [
    {
     "data": {
      "text/plain": [
       "numpy.ndarray"
      ]
     },
     "execution_count": 36,
     "metadata": {},
     "output_type": "execute_result"
    }
   ],
   "source": [
    "type(x_new)"
   ]
  },
  {
   "cell_type": "code",
   "execution_count": 37,
   "id": "dca58464",
   "metadata": {},
   "outputs": [
    {
     "data": {
      "text/html": [
       "<div>\n",
       "<style scoped>\n",
       "    .dataframe tbody tr th:only-of-type {\n",
       "        vertical-align: middle;\n",
       "    }\n",
       "\n",
       "    .dataframe tbody tr th {\n",
       "        vertical-align: top;\n",
       "    }\n",
       "\n",
       "    .dataframe thead th {\n",
       "        text-align: right;\n",
       "    }\n",
       "</style>\n",
       "<table border=\"1\" class=\"dataframe\">\n",
       "  <thead>\n",
       "    <tr style=\"text-align: right;\">\n",
       "      <th></th>\n",
       "      <th>Unnamed: 0</th>\n",
       "      <th>Date</th>\n",
       "      <th>AveragePrice</th>\n",
       "      <th>Total Volume</th>\n",
       "      <th>4046</th>\n",
       "      <th>4225</th>\n",
       "      <th>4770</th>\n",
       "      <th>Small Bags</th>\n",
       "      <th>Large Bags</th>\n",
       "      <th>XLarge Bags</th>\n",
       "      <th>type</th>\n",
       "      <th>year</th>\n",
       "    </tr>\n",
       "  </thead>\n",
       "  <tbody>\n",
       "    <tr>\n",
       "      <th>0</th>\n",
       "      <td>-1.966939</td>\n",
       "      <td>-0.567457</td>\n",
       "      <td>-0.117824</td>\n",
       "      <td>-0.075324</td>\n",
       "      <td>-0.657421</td>\n",
       "      <td>0.351430</td>\n",
       "      <td>-0.222566</td>\n",
       "      <td>-0.347421</td>\n",
       "      <td>-0.781153</td>\n",
       "      <td>-0.677919</td>\n",
       "      <td>-1.019047</td>\n",
       "      <td>-1.210647</td>\n",
       "    </tr>\n",
       "    <tr>\n",
       "      <th>1</th>\n",
       "      <td>-1.790941</td>\n",
       "      <td>-0.589727</td>\n",
       "      <td>-0.064330</td>\n",
       "      <td>-0.147497</td>\n",
       "      <td>-0.777179</td>\n",
       "      <td>0.269513</td>\n",
       "      <td>-0.175223</td>\n",
       "      <td>-0.311322</td>\n",
       "      <td>-0.771198</td>\n",
       "      <td>-0.677919</td>\n",
       "      <td>-1.019047</td>\n",
       "      <td>-1.210647</td>\n",
       "    </tr>\n",
       "    <tr>\n",
       "      <th>2</th>\n",
       "      <td>-1.646881</td>\n",
       "      <td>-0.612126</td>\n",
       "      <td>-1.298865</td>\n",
       "      <td>0.205556</td>\n",
       "      <td>-0.731776</td>\n",
       "      <td>0.649333</td>\n",
       "      <td>0.023923</td>\n",
       "      <td>-0.374453</td>\n",
       "      <td>-0.758523</td>\n",
       "      <td>-0.677919</td>\n",
       "      <td>-1.019047</td>\n",
       "      <td>-1.210647</td>\n",
       "    </tr>\n",
       "    <tr>\n",
       "      <th>3</th>\n",
       "      <td>-1.520296</td>\n",
       "      <td>-0.634657</td>\n",
       "      <td>-0.829026</td>\n",
       "      <td>0.019655</td>\n",
       "      <td>-0.632592</td>\n",
       "      <td>0.468799</td>\n",
       "      <td>-0.121164</td>\n",
       "      <td>-0.510991</td>\n",
       "      <td>-0.699123</td>\n",
       "      <td>-0.677919</td>\n",
       "      <td>-1.019047</td>\n",
       "      <td>-1.210647</td>\n",
       "    </tr>\n",
       "    <tr>\n",
       "      <th>4</th>\n",
       "      <td>-1.405299</td>\n",
       "      <td>-0.657324</td>\n",
       "      <td>-0.253635</td>\n",
       "      <td>-0.180674</td>\n",
       "      <td>-0.684504</td>\n",
       "      <td>0.262126</td>\n",
       "      <td>-0.110491</td>\n",
       "      <td>-0.490534</td>\n",
       "      <td>-0.607027</td>\n",
       "      <td>-0.677919</td>\n",
       "      <td>-1.019047</td>\n",
       "      <td>-1.210647</td>\n",
       "    </tr>\n",
       "    <tr>\n",
       "      <th>...</th>\n",
       "      <td>...</td>\n",
       "      <td>...</td>\n",
       "      <td>...</td>\n",
       "      <td>...</td>\n",
       "      <td>...</td>\n",
       "      <td>...</td>\n",
       "      <td>...</td>\n",
       "      <td>...</td>\n",
       "      <td>...</td>\n",
       "      <td>...</td>\n",
       "      <td>...</td>\n",
       "      <td>...</td>\n",
       "    </tr>\n",
       "    <tr>\n",
       "      <th>17646</th>\n",
       "      <td>-1.104106</td>\n",
       "      <td>1.444289</td>\n",
       "      <td>0.639410</td>\n",
       "      <td>-0.678214</td>\n",
       "      <td>-0.462066</td>\n",
       "      <td>-0.926028</td>\n",
       "      <td>-1.228986</td>\n",
       "      <td>-0.175753</td>\n",
       "      <td>-0.412401</td>\n",
       "      <td>-0.677919</td>\n",
       "      <td>0.981309</td>\n",
       "      <td>1.978707</td>\n",
       "    </tr>\n",
       "    <tr>\n",
       "      <th>17647</th>\n",
       "      <td>-1.013819</td>\n",
       "      <td>1.428389</td>\n",
       "      <td>0.826487</td>\n",
       "      <td>-0.771326</td>\n",
       "      <td>-0.618019</td>\n",
       "      <td>-0.670600</td>\n",
       "      <td>-1.228986</td>\n",
       "      <td>-0.331971</td>\n",
       "      <td>-0.484991</td>\n",
       "      <td>-0.677919</td>\n",
       "      <td>0.981309</td>\n",
       "      <td>1.978707</td>\n",
       "    </tr>\n",
       "    <tr>\n",
       "      <th>17648</th>\n",
       "      <td>-0.927266</td>\n",
       "      <td>1.412459</td>\n",
       "      <td>1.184324</td>\n",
       "      <td>-0.775274</td>\n",
       "      <td>-0.617966</td>\n",
       "      <td>-0.778893</td>\n",
       "      <td>0.445710</td>\n",
       "      <td>-0.313756</td>\n",
       "      <td>-0.950743</td>\n",
       "      <td>-0.677919</td>\n",
       "      <td>0.981309</td>\n",
       "      <td>1.978707</td>\n",
       "    </tr>\n",
       "    <tr>\n",
       "      <th>17649</th>\n",
       "      <td>-0.843939</td>\n",
       "      <td>1.396501</td>\n",
       "      <td>1.313296</td>\n",
       "      <td>-0.701797</td>\n",
       "      <td>-0.547011</td>\n",
       "      <td>-0.716371</td>\n",
       "      <td>0.445399</td>\n",
       "      <td>-0.250408</td>\n",
       "      <td>-0.916068</td>\n",
       "      <td>-0.677919</td>\n",
       "      <td>0.981309</td>\n",
       "      <td>1.978707</td>\n",
       "    </tr>\n",
       "    <tr>\n",
       "      <th>17650</th>\n",
       "      <td>-0.763440</td>\n",
       "      <td>1.380512</td>\n",
       "      <td>0.615619</td>\n",
       "      <td>-0.667381</td>\n",
       "      <td>-0.359671</td>\n",
       "      <td>-0.791650</td>\n",
       "      <td>0.157768</td>\n",
       "      <td>-0.211755</td>\n",
       "      <td>-1.048116</td>\n",
       "      <td>-0.677919</td>\n",
       "      <td>0.981309</td>\n",
       "      <td>1.978707</td>\n",
       "    </tr>\n",
       "  </tbody>\n",
       "</table>\n",
       "<p>17651 rows × 12 columns</p>\n",
       "</div>"
      ],
      "text/plain": [
       "       Unnamed: 0      Date  AveragePrice  Total Volume      4046      4225  \\\n",
       "0       -1.966939 -0.567457     -0.117824     -0.075324 -0.657421  0.351430   \n",
       "1       -1.790941 -0.589727     -0.064330     -0.147497 -0.777179  0.269513   \n",
       "2       -1.646881 -0.612126     -1.298865      0.205556 -0.731776  0.649333   \n",
       "3       -1.520296 -0.634657     -0.829026      0.019655 -0.632592  0.468799   \n",
       "4       -1.405299 -0.657324     -0.253635     -0.180674 -0.684504  0.262126   \n",
       "...           ...       ...           ...           ...       ...       ...   \n",
       "17646   -1.104106  1.444289      0.639410     -0.678214 -0.462066 -0.926028   \n",
       "17647   -1.013819  1.428389      0.826487     -0.771326 -0.618019 -0.670600   \n",
       "17648   -0.927266  1.412459      1.184324     -0.775274 -0.617966 -0.778893   \n",
       "17649   -0.843939  1.396501      1.313296     -0.701797 -0.547011 -0.716371   \n",
       "17650   -0.763440  1.380512      0.615619     -0.667381 -0.359671 -0.791650   \n",
       "\n",
       "           4770  Small Bags  Large Bags  XLarge Bags      type      year  \n",
       "0     -0.222566   -0.347421   -0.781153    -0.677919 -1.019047 -1.210647  \n",
       "1     -0.175223   -0.311322   -0.771198    -0.677919 -1.019047 -1.210647  \n",
       "2      0.023923   -0.374453   -0.758523    -0.677919 -1.019047 -1.210647  \n",
       "3     -0.121164   -0.510991   -0.699123    -0.677919 -1.019047 -1.210647  \n",
       "4     -0.110491   -0.490534   -0.607027    -0.677919 -1.019047 -1.210647  \n",
       "...         ...         ...         ...          ...       ...       ...  \n",
       "17646 -1.228986   -0.175753   -0.412401    -0.677919  0.981309  1.978707  \n",
       "17647 -1.228986   -0.331971   -0.484991    -0.677919  0.981309  1.978707  \n",
       "17648  0.445710   -0.313756   -0.950743    -0.677919  0.981309  1.978707  \n",
       "17649  0.445399   -0.250408   -0.916068    -0.677919  0.981309  1.978707  \n",
       "17650  0.157768   -0.211755   -1.048116    -0.677919  0.981309  1.978707  \n",
       "\n",
       "[17651 rows x 12 columns]"
      ]
     },
     "execution_count": 37,
     "metadata": {},
     "output_type": "execute_result"
    }
   ],
   "source": [
    "x = pd.DataFrame(x_new,columns=x.columns)\n",
    "x"
   ]
  },
  {
   "cell_type": "code",
   "execution_count": 38,
   "id": "203b7a92",
   "metadata": {},
   "outputs": [
    {
     "data": {
      "text/plain": [
       "(Unnamed: 0     -0.243656\n",
       " Date           -0.274852\n",
       " type           -0.037741\n",
       " year            0.227731\n",
       " AveragePrice    0.000464\n",
       " dtype: float64,\n",
       " Total Volume   -0.008642\n",
       " 4046           -0.039282\n",
       " 4225           -0.044675\n",
       " 4770            0.024168\n",
       " Small Bags     -0.024405\n",
       " Large Bags     -0.110913\n",
       " XLarge Bags     0.853758\n",
       " dtype: float64)"
      ]
     },
     "execution_count": 38,
     "metadata": {},
     "output_type": "execute_result"
    }
   ],
   "source": [
    "x[descrete_columns].skew(),x[non_cat_columns].skew()"
   ]
  },
  {
   "cell_type": "markdown",
   "id": "a278a47b",
   "metadata": {},
   "source": [
    "##### We can see all the values are well within the threshold."
   ]
  },
  {
   "cell_type": "markdown",
   "id": "6846a24f",
   "metadata": {},
   "source": [
    "## Regression"
   ]
  },
  {
   "cell_type": "code",
   "execution_count": 39,
   "id": "7d524aac",
   "metadata": {},
   "outputs": [
    {
     "data": {
      "text/plain": [
       "(17651, 12)"
      ]
     },
     "execution_count": 39,
     "metadata": {},
     "output_type": "execute_result"
    }
   ],
   "source": [
    "x = av.drop('AveragePrice',axis=1)\n",
    "y = av.drop('region',axis=1)\n",
    "x.shape\n",
    "y.shape"
   ]
  },
  {
   "cell_type": "code",
   "execution_count": 40,
   "id": "b2c7a807",
   "metadata": {},
   "outputs": [
    {
     "data": {
      "text/html": [
       "<div>\n",
       "<style scoped>\n",
       "    .dataframe tbody tr th:only-of-type {\n",
       "        vertical-align: middle;\n",
       "    }\n",
       "\n",
       "    .dataframe tbody tr th {\n",
       "        vertical-align: top;\n",
       "    }\n",
       "\n",
       "    .dataframe thead th {\n",
       "        text-align: right;\n",
       "    }\n",
       "</style>\n",
       "<table border=\"1\" class=\"dataframe\">\n",
       "  <thead>\n",
       "    <tr style=\"text-align: right;\">\n",
       "      <th></th>\n",
       "      <th>Unnamed: 0</th>\n",
       "      <th>Date</th>\n",
       "      <th>Total Volume</th>\n",
       "      <th>4046</th>\n",
       "      <th>4225</th>\n",
       "      <th>4770</th>\n",
       "      <th>Small Bags</th>\n",
       "      <th>Large Bags</th>\n",
       "      <th>XLarge Bags</th>\n",
       "      <th>type</th>\n",
       "      <th>year</th>\n",
       "      <th>region</th>\n",
       "    </tr>\n",
       "  </thead>\n",
       "  <tbody>\n",
       "    <tr>\n",
       "      <th>0</th>\n",
       "      <td>0</td>\n",
       "      <td>51</td>\n",
       "      <td>64236.62</td>\n",
       "      <td>1036.74</td>\n",
       "      <td>54454.85</td>\n",
       "      <td>48.16</td>\n",
       "      <td>8603.62</td>\n",
       "      <td>93.25</td>\n",
       "      <td>0.0</td>\n",
       "      <td>0</td>\n",
       "      <td>2015</td>\n",
       "      <td>0</td>\n",
       "    </tr>\n",
       "    <tr>\n",
       "      <th>1</th>\n",
       "      <td>1</td>\n",
       "      <td>50</td>\n",
       "      <td>54876.98</td>\n",
       "      <td>674.28</td>\n",
       "      <td>44638.81</td>\n",
       "      <td>58.33</td>\n",
       "      <td>9408.07</td>\n",
       "      <td>97.49</td>\n",
       "      <td>0.0</td>\n",
       "      <td>0</td>\n",
       "      <td>2015</td>\n",
       "      <td>0</td>\n",
       "    </tr>\n",
       "    <tr>\n",
       "      <th>2</th>\n",
       "      <td>2</td>\n",
       "      <td>49</td>\n",
       "      <td>118220.22</td>\n",
       "      <td>794.70</td>\n",
       "      <td>109149.67</td>\n",
       "      <td>130.50</td>\n",
       "      <td>8042.21</td>\n",
       "      <td>103.14</td>\n",
       "      <td>0.0</td>\n",
       "      <td>0</td>\n",
       "      <td>2015</td>\n",
       "      <td>0</td>\n",
       "    </tr>\n",
       "    <tr>\n",
       "      <th>3</th>\n",
       "      <td>3</td>\n",
       "      <td>48</td>\n",
       "      <td>78992.15</td>\n",
       "      <td>1132.00</td>\n",
       "      <td>71976.41</td>\n",
       "      <td>72.58</td>\n",
       "      <td>5677.40</td>\n",
       "      <td>133.76</td>\n",
       "      <td>0.0</td>\n",
       "      <td>0</td>\n",
       "      <td>2015</td>\n",
       "      <td>0</td>\n",
       "    </tr>\n",
       "    <tr>\n",
       "      <th>4</th>\n",
       "      <td>4</td>\n",
       "      <td>47</td>\n",
       "      <td>51039.60</td>\n",
       "      <td>941.48</td>\n",
       "      <td>43838.39</td>\n",
       "      <td>75.78</td>\n",
       "      <td>5986.26</td>\n",
       "      <td>197.69</td>\n",
       "      <td>0.0</td>\n",
       "      <td>0</td>\n",
       "      <td>2015</td>\n",
       "      <td>0</td>\n",
       "    </tr>\n",
       "    <tr>\n",
       "      <th>...</th>\n",
       "      <td>...</td>\n",
       "      <td>...</td>\n",
       "      <td>...</td>\n",
       "      <td>...</td>\n",
       "      <td>...</td>\n",
       "      <td>...</td>\n",
       "      <td>...</td>\n",
       "      <td>...</td>\n",
       "      <td>...</td>\n",
       "      <td>...</td>\n",
       "      <td>...</td>\n",
       "      <td>...</td>\n",
       "    </tr>\n",
       "    <tr>\n",
       "      <th>18244</th>\n",
       "      <td>7</td>\n",
       "      <td>161</td>\n",
       "      <td>17074.83</td>\n",
       "      <td>2046.96</td>\n",
       "      <td>1529.20</td>\n",
       "      <td>0.00</td>\n",
       "      <td>13066.82</td>\n",
       "      <td>431.85</td>\n",
       "      <td>0.0</td>\n",
       "      <td>1</td>\n",
       "      <td>2018</td>\n",
       "      <td>53</td>\n",
       "    </tr>\n",
       "    <tr>\n",
       "      <th>18245</th>\n",
       "      <td>8</td>\n",
       "      <td>160</td>\n",
       "      <td>13888.04</td>\n",
       "      <td>1191.70</td>\n",
       "      <td>3431.50</td>\n",
       "      <td>0.00</td>\n",
       "      <td>8940.04</td>\n",
       "      <td>324.80</td>\n",
       "      <td>0.0</td>\n",
       "      <td>1</td>\n",
       "      <td>2018</td>\n",
       "      <td>53</td>\n",
       "    </tr>\n",
       "    <tr>\n",
       "      <th>18246</th>\n",
       "      <td>9</td>\n",
       "      <td>159</td>\n",
       "      <td>13766.76</td>\n",
       "      <td>1191.92</td>\n",
       "      <td>2452.79</td>\n",
       "      <td>727.94</td>\n",
       "      <td>9351.80</td>\n",
       "      <td>42.31</td>\n",
       "      <td>0.0</td>\n",
       "      <td>1</td>\n",
       "      <td>2018</td>\n",
       "      <td>53</td>\n",
       "    </tr>\n",
       "    <tr>\n",
       "      <th>18247</th>\n",
       "      <td>10</td>\n",
       "      <td>158</td>\n",
       "      <td>16205.22</td>\n",
       "      <td>1527.63</td>\n",
       "      <td>2981.04</td>\n",
       "      <td>727.01</td>\n",
       "      <td>10919.54</td>\n",
       "      <td>50.00</td>\n",
       "      <td>0.0</td>\n",
       "      <td>1</td>\n",
       "      <td>2018</td>\n",
       "      <td>53</td>\n",
       "    </tr>\n",
       "    <tr>\n",
       "      <th>18248</th>\n",
       "      <td>11</td>\n",
       "      <td>157</td>\n",
       "      <td>17489.58</td>\n",
       "      <td>2894.77</td>\n",
       "      <td>2356.13</td>\n",
       "      <td>224.53</td>\n",
       "      <td>11988.14</td>\n",
       "      <td>26.01</td>\n",
       "      <td>0.0</td>\n",
       "      <td>1</td>\n",
       "      <td>2018</td>\n",
       "      <td>53</td>\n",
       "    </tr>\n",
       "  </tbody>\n",
       "</table>\n",
       "<p>17651 rows × 12 columns</p>\n",
       "</div>"
      ],
      "text/plain": [
       "       Unnamed: 0  Date  Total Volume     4046       4225    4770  Small Bags  \\\n",
       "0               0    51      64236.62  1036.74   54454.85   48.16     8603.62   \n",
       "1               1    50      54876.98   674.28   44638.81   58.33     9408.07   \n",
       "2               2    49     118220.22   794.70  109149.67  130.50     8042.21   \n",
       "3               3    48      78992.15  1132.00   71976.41   72.58     5677.40   \n",
       "4               4    47      51039.60   941.48   43838.39   75.78     5986.26   \n",
       "...           ...   ...           ...      ...        ...     ...         ...   \n",
       "18244           7   161      17074.83  2046.96    1529.20    0.00    13066.82   \n",
       "18245           8   160      13888.04  1191.70    3431.50    0.00     8940.04   \n",
       "18246           9   159      13766.76  1191.92    2452.79  727.94     9351.80   \n",
       "18247          10   158      16205.22  1527.63    2981.04  727.01    10919.54   \n",
       "18248          11   157      17489.58  2894.77    2356.13  224.53    11988.14   \n",
       "\n",
       "       Large Bags  XLarge Bags  type  year  region  \n",
       "0           93.25          0.0     0  2015       0  \n",
       "1           97.49          0.0     0  2015       0  \n",
       "2          103.14          0.0     0  2015       0  \n",
       "3          133.76          0.0     0  2015       0  \n",
       "4          197.69          0.0     0  2015       0  \n",
       "...           ...          ...   ...   ...     ...  \n",
       "18244      431.85          0.0     1  2018      53  \n",
       "18245      324.80          0.0     1  2018      53  \n",
       "18246       42.31          0.0     1  2018      53  \n",
       "18247       50.00          0.0     1  2018      53  \n",
       "18248       26.01          0.0     1  2018      53  \n",
       "\n",
       "[17651 rows x 12 columns]"
      ]
     },
     "execution_count": 40,
     "metadata": {},
     "output_type": "execute_result"
    }
   ],
   "source": [
    "x"
   ]
  },
  {
   "cell_type": "code",
   "execution_count": 41,
   "id": "dc7fc78f",
   "metadata": {},
   "outputs": [
    {
     "data": {
      "text/plain": [
       "0        1.33\n",
       "1        1.35\n",
       "2        0.93\n",
       "3        1.08\n",
       "4        1.28\n",
       "         ... \n",
       "18244    1.63\n",
       "18245    1.71\n",
       "18246    1.87\n",
       "18247    1.93\n",
       "18248    1.62\n",
       "Name: AveragePrice, Length: 17651, dtype: float64"
      ]
     },
     "execution_count": 41,
     "metadata": {},
     "output_type": "execute_result"
    }
   ],
   "source": [
    "y = av['AveragePrice']\n",
    "y"
   ]
  },
  {
   "cell_type": "markdown",
   "id": "8a07d626",
   "metadata": {},
   "source": [
    "### Scaling the Model"
   ]
  },
  {
   "cell_type": "code",
   "execution_count": 42,
   "id": "acb4644a",
   "metadata": {},
   "outputs": [
    {
     "data": {
      "text/plain": [
       "MinMaxScaler()"
      ]
     },
     "execution_count": 42,
     "metadata": {},
     "output_type": "execute_result"
    }
   ],
   "source": [
    "from sklearn.preprocessing import MinMaxScaler\n",
    "\n",
    "mn = MinMaxScaler()\n",
    "mn"
   ]
  },
  {
   "cell_type": "markdown",
   "id": "fce056c3",
   "metadata": {},
   "source": [
    "### Training Process"
   ]
  },
  {
   "cell_type": "code",
   "execution_count": 43,
   "id": "e1ea3acc",
   "metadata": {},
   "outputs": [],
   "source": [
    "from sklearn.linear_model import LinearRegression,Ridge,Lasso\n",
    "lr = LinearRegression()\n",
    "\n",
    "from sklearn.tree import DecisionTreeRegressor\n",
    "from sklearn.ensemble import RandomForestRegressor\n",
    "from sklearn.ensemble import ExtraTreesRegressor\n",
    "from sklearn.ensemble import AdaBoostRegressor\n",
    "\n",
    "from sklearn.metrics import r2_score\n",
    "from sklearn.model_selection import train_test_split\n",
    "\n",
    "from sklearn.metrics import accuracy_score\n",
    "from sklearn.metrics import mean_absolute_error,mean_squared_error"
   ]
  },
  {
   "cell_type": "markdown",
   "id": "fe93ec41",
   "metadata": {},
   "source": [
    "### Random State"
   ]
  },
  {
   "cell_type": "code",
   "execution_count": 44,
   "id": "5dd5c7ba",
   "metadata": {},
   "outputs": [
    {
     "name": "stdout",
     "output_type": "stream",
     "text": [
      "At random state 0,the training accuracy is : 0.44921164949696146\n",
      "At random state 0,the testing accuracy is : 0.43754014545416364\n",
      "\n",
      "\n",
      "At random state 1,the training accuracy is : 0.4493421778763059\n",
      "At random state 1,the testing accuracy is : 0.4371310817643208\n",
      "\n",
      "\n",
      "At random state 2,the training accuracy is : 0.44734314067011005\n",
      "At random state 2,the testing accuracy is : 0.4412997541404269\n",
      "\n",
      "\n",
      "At random state 3,the training accuracy is : 0.44010791861223275\n",
      "At random state 3,the testing accuracy is : 0.45836882416872937\n",
      "\n",
      "\n",
      "At random state 4,the training accuracy is : 0.4468832882449054\n",
      "At random state 4,the testing accuracy is : 0.44276620095864616\n",
      "\n",
      "\n",
      "At random state 5,the training accuracy is : 0.4465321968662789\n",
      "At random state 5,the testing accuracy is : 0.4432999271444835\n",
      "\n",
      "\n",
      "At random state 6,the training accuracy is : 0.4370135051862204\n",
      "At random state 6,the testing accuracy is : 0.4657762925869856\n",
      "\n",
      "\n",
      "At random state 7,the training accuracy is : 0.4434811871874794\n",
      "At random state 7,the testing accuracy is : 0.4504374350531377\n",
      "\n",
      "\n",
      "At random state 8,the training accuracy is : 0.4446636810485415\n",
      "At random state 8,the testing accuracy is : 0.44737556642648724\n",
      "\n",
      "\n",
      "At random state 9,the training accuracy is : 0.4495417753659394\n",
      "At random state 9,the testing accuracy is : 0.4363868465587052\n",
      "\n",
      "\n",
      "At random state 10,the training accuracy is : 0.4514659096082573\n",
      "At random state 10,the testing accuracy is : 0.4312839284053783\n",
      "\n",
      "\n",
      "At random state 11,the training accuracy is : 0.441227483722463\n",
      "At random state 11,the testing accuracy is : 0.4555123274302575\n",
      "\n",
      "\n",
      "At random state 12,the training accuracy is : 0.44131183934832463\n",
      "At random state 12,the testing accuracy is : 0.45567351038930204\n",
      "\n",
      "\n",
      "At random state 13,the training accuracy is : 0.4429597495869305\n",
      "At random state 13,the testing accuracy is : 0.45173114574990336\n",
      "\n",
      "\n",
      "At random state 14,the training accuracy is : 0.4408376495411649\n",
      "At random state 14,the testing accuracy is : 0.45687754790121804\n",
      "\n",
      "\n",
      "At random state 15,the training accuracy is : 0.4451528231495693\n",
      "At random state 15,the testing accuracy is : 0.447092708526345\n",
      "\n",
      "\n",
      "At random state 16,the training accuracy is : 0.4481424945233905\n",
      "At random state 16,the testing accuracy is : 0.43914903248056325\n",
      "\n",
      "\n",
      "At random state 17,the training accuracy is : 0.4497020744826994\n",
      "At random state 17,the testing accuracy is : 0.4354326810408399\n",
      "\n",
      "\n",
      "At random state 18,the training accuracy is : 0.44492571754395693\n",
      "At random state 18,the testing accuracy is : 0.44750592753481366\n",
      "\n",
      "\n",
      "At random state 19,the training accuracy is : 0.44407720612818613\n",
      "At random state 19,the testing accuracy is : 0.4495358163611646\n",
      "\n",
      "\n",
      "At random state 20,the training accuracy is : 0.4417819975716859\n",
      "At random state 20,the testing accuracy is : 0.4546468139596721\n",
      "\n",
      "\n",
      "At random state 21,the training accuracy is : 0.44732600469845185\n",
      "At random state 21,the testing accuracy is : 0.44208047304637244\n",
      "\n",
      "\n",
      "At random state 22,the training accuracy is : 0.44892502015170566\n",
      "At random state 22,the testing accuracy is : 0.4378777041273928\n",
      "\n",
      "\n",
      "At random state 23,the training accuracy is : 0.43896016765322043\n",
      "At random state 23,the testing accuracy is : 0.46076176184682016\n",
      "\n",
      "\n",
      "At random state 24,the training accuracy is : 0.45033290228540634\n",
      "At random state 24,the testing accuracy is : 0.4337503815804057\n",
      "\n",
      "\n",
      "At random state 25,the training accuracy is : 0.44406181345421514\n",
      "At random state 25,the testing accuracy is : 0.44938718943481426\n",
      "\n",
      "\n",
      "At random state 26,the training accuracy is : 0.4460579511528111\n",
      "At random state 26,the testing accuracy is : 0.44447816034717913\n",
      "\n",
      "\n",
      "At random state 27,the training accuracy is : 0.4450025236309667\n",
      "At random state 27,the testing accuracy is : 0.4473394352578359\n",
      "\n",
      "\n",
      "At random state 28,the training accuracy is : 0.444968737670807\n",
      "At random state 28,the testing accuracy is : 0.4472467417092594\n",
      "\n",
      "\n",
      "At random state 29,the training accuracy is : 0.44159116262098663\n",
      "At random state 29,the testing accuracy is : 0.4546747783555376\n",
      "\n",
      "\n",
      "At random state 30,the training accuracy is : 0.44727956929729085\n",
      "At random state 30,the testing accuracy is : 0.4412487549036773\n",
      "\n",
      "\n",
      "At random state 31,the training accuracy is : 0.44488642261265987\n",
      "At random state 31,the testing accuracy is : 0.44715612029235474\n",
      "\n",
      "\n",
      "At random state 32,the training accuracy is : 0.445184543693696\n",
      "At random state 32,the testing accuracy is : 0.4467477277429529\n",
      "\n",
      "\n",
      "At random state 33,the training accuracy is : 0.4470628742445095\n",
      "At random state 33,the testing accuracy is : 0.4417533314182398\n",
      "\n",
      "\n",
      "At random state 34,the training accuracy is : 0.447808384198348\n",
      "At random state 34,the testing accuracy is : 0.4405979690763434\n",
      "\n",
      "\n",
      "At random state 35,the training accuracy is : 0.4479812464291073\n",
      "At random state 35,the testing accuracy is : 0.4398426917371465\n",
      "\n",
      "\n",
      "At random state 36,the training accuracy is : 0.44773408982169494\n",
      "At random state 36,the testing accuracy is : 0.4406968201737269\n",
      "\n",
      "\n",
      "At random state 37,the training accuracy is : 0.44128100120418357\n",
      "At random state 37,the testing accuracy is : 0.45580778372581043\n",
      "\n",
      "\n",
      "At random state 38,the training accuracy is : 0.44194814996090925\n",
      "At random state 38,the testing accuracy is : 0.45377002180478987\n",
      "\n",
      "\n",
      "At random state 39,the training accuracy is : 0.44912501014594386\n",
      "At random state 39,the testing accuracy is : 0.4373781954464826\n",
      "\n",
      "\n",
      "At random state 40,the training accuracy is : 0.44230166386047154\n",
      "At random state 40,the testing accuracy is : 0.45380608823093416\n",
      "\n",
      "\n",
      "At random state 41,the training accuracy is : 0.450585636113909\n",
      "At random state 41,the testing accuracy is : 0.4338184874927363\n",
      "\n",
      "\n",
      "At random state 42,the training accuracy is : 0.4496195307940689\n",
      "At random state 42,the testing accuracy is : 0.4359295118976868\n",
      "\n",
      "\n",
      "At random state 43,the training accuracy is : 0.43960744103816707\n",
      "At random state 43,the testing accuracy is : 0.4589137014452843\n",
      "\n",
      "\n",
      "At random state 44,the training accuracy is : 0.4539331081466649\n",
      "At random state 44,the testing accuracy is : 0.42576687490134824\n",
      "\n",
      "\n",
      "At random state 45,the training accuracy is : 0.44595903080226773\n",
      "At random state 45,the testing accuracy is : 0.4447117862516221\n",
      "\n",
      "\n",
      "At random state 46,the training accuracy is : 0.4422228244991089\n",
      "At random state 46,the testing accuracy is : 0.4537550262607466\n",
      "\n",
      "\n",
      "At random state 47,the training accuracy is : 0.4406640531876407\n",
      "At random state 47,the testing accuracy is : 0.45712251073196297\n",
      "\n",
      "\n",
      "At random state 48,the training accuracy is : 0.44166206065562874\n",
      "At random state 48,the testing accuracy is : 0.4546860959801725\n",
      "\n",
      "\n",
      "At random state 49,the training accuracy is : 0.4442294334402096\n",
      "At random state 49,the testing accuracy is : 0.44697517229059414\n",
      "\n",
      "\n",
      "At random state 50,the training accuracy is : 0.4470269488798261\n",
      "At random state 50,the testing accuracy is : 0.4415758074528301\n",
      "\n",
      "\n",
      "At random state 51,the training accuracy is : 0.4477618039697392\n",
      "At random state 51,the testing accuracy is : 0.4408393350241988\n",
      "\n",
      "\n",
      "At random state 52,the training accuracy is : 0.4430521668920665\n",
      "At random state 52,the testing accuracy is : 0.4512932231854173\n",
      "\n",
      "\n",
      "At random state 53,the training accuracy is : 0.4414771070732645\n",
      "At random state 53,the testing accuracy is : 0.45516192048046555\n",
      "\n",
      "\n",
      "At random state 54,the training accuracy is : 0.4499510046345129\n",
      "At random state 54,the testing accuracy is : 0.4355942836392781\n",
      "\n",
      "\n",
      "At random state 55,the training accuracy is : 0.44284615965658436\n",
      "At random state 55,the testing accuracy is : 0.45140998045866176\n",
      "\n",
      "\n",
      "At random state 56,the training accuracy is : 0.4385702027438947\n",
      "At random state 56,the testing accuracy is : 0.4624792786421399\n",
      "\n",
      "\n",
      "At random state 57,the training accuracy is : 0.44542176684864043\n",
      "At random state 57,the testing accuracy is : 0.44583133242862394\n",
      "\n",
      "\n",
      "At random state 58,the training accuracy is : 0.44355747548582924\n",
      "At random state 58,the testing accuracy is : 0.45041649018000507\n",
      "\n",
      "\n",
      "At random state 59,the training accuracy is : 0.44566193635435003\n",
      "At random state 59,the testing accuracy is : 0.4457405964227894\n",
      "\n",
      "\n",
      "At random state 60,the training accuracy is : 0.44557558852684764\n",
      "At random state 60,the testing accuracy is : 0.4457613529395559\n",
      "\n",
      "\n",
      "At random state 61,the training accuracy is : 0.4480942295752167\n",
      "At random state 61,the testing accuracy is : 0.43969847098416204\n",
      "\n",
      "\n",
      "At random state 62,the training accuracy is : 0.44758513303180336\n",
      "At random state 62,the testing accuracy is : 0.4411322397988926\n",
      "\n",
      "\n",
      "At random state 63,the training accuracy is : 0.4424600455214529\n",
      "At random state 63,the testing accuracy is : 0.4525512262812803\n",
      "\n",
      "\n",
      "At random state 64,the training accuracy is : 0.44494195165408246\n",
      "At random state 64,the testing accuracy is : 0.4472895609677169\n",
      "\n",
      "\n",
      "At random state 65,the training accuracy is : 0.4474897704385874\n",
      "At random state 65,the testing accuracy is : 0.4414321739641931\n",
      "\n",
      "\n",
      "At random state 66,the training accuracy is : 0.44950563406237365\n",
      "At random state 66,the testing accuracy is : 0.43404656826671384\n",
      "\n",
      "\n",
      "At random state 67,the training accuracy is : 0.4469549928979596\n",
      "At random state 67,the testing accuracy is : 0.4426582551026397\n",
      "\n",
      "\n",
      "At random state 68,the training accuracy is : 0.44960039087981807\n",
      "At random state 68,the testing accuracy is : 0.43606673920830163\n",
      "\n",
      "\n",
      "At random state 69,the training accuracy is : 0.4431781291797756\n",
      "At random state 69,the testing accuracy is : 0.4512311263649863\n",
      "\n",
      "\n",
      "At random state 70,the training accuracy is : 0.4481587721428766\n",
      "At random state 70,the testing accuracy is : 0.4396633402629023\n",
      "\n",
      "\n",
      "At random state 71,the training accuracy is : 0.4483635836679529\n",
      "At random state 71,the testing accuracy is : 0.43929014558463597\n",
      "\n",
      "\n",
      "At random state 72,the training accuracy is : 0.44638790313328536\n",
      "At random state 72,the testing accuracy is : 0.44362540154633634\n",
      "\n",
      "\n",
      "At random state 73,the training accuracy is : 0.45137467853659696\n",
      "At random state 73,the testing accuracy is : 0.43221082397183097\n",
      "\n",
      "\n",
      "At random state 74,the training accuracy is : 0.4526882477627655\n",
      "At random state 74,the testing accuracy is : 0.42920969406112486\n",
      "\n",
      "\n",
      "At random state 75,the training accuracy is : 0.44122226618953664\n",
      "At random state 75,the testing accuracy is : 0.45582164026766125\n",
      "\n",
      "\n",
      "At random state 76,the training accuracy is : 0.43853795218867375\n",
      "At random state 76,the testing accuracy is : 0.4625814285286072\n",
      "\n",
      "\n",
      "At random state 77,the training accuracy is : 0.4457655480014927\n",
      "At random state 77,the testing accuracy is : 0.4454991642899314\n",
      "\n",
      "\n",
      "At random state 78,the training accuracy is : 0.446185859000672\n",
      "At random state 78,the testing accuracy is : 0.44413955320293197\n",
      "\n",
      "\n",
      "At random state 79,the training accuracy is : 0.4458759654780272\n",
      "At random state 79,the testing accuracy is : 0.44513622587446244\n",
      "\n",
      "\n",
      "At random state 80,the training accuracy is : 0.44714305088974304\n",
      "At random state 80,the testing accuracy is : 0.4420089287219222\n",
      "\n",
      "\n",
      "At random state 81,the training accuracy is : 0.4464941255921674\n",
      "At random state 81,the testing accuracy is : 0.44364268980703214\n",
      "\n",
      "\n",
      "At random state 82,the training accuracy is : 0.440292569205441\n",
      "At random state 82,the testing accuracy is : 0.4578887448748863\n",
      "\n",
      "\n",
      "At random state 83,the training accuracy is : 0.45066123068059216\n",
      "At random state 83,the testing accuracy is : 0.43363457089677726\n",
      "\n",
      "\n",
      "At random state 84,the training accuracy is : 0.44156399877893115\n",
      "At random state 84,the testing accuracy is : 0.4555288669100548\n",
      "\n",
      "\n",
      "At random state 85,the training accuracy is : 0.448072203872083\n",
      "At random state 85,the testing accuracy is : 0.44006091681061754\n",
      "\n",
      "\n",
      "At random state 86,the training accuracy is : 0.44606352194041965\n",
      "At random state 86,the testing accuracy is : 0.4446485448194245\n",
      "\n",
      "\n",
      "At random state 87,the training accuracy is : 0.4441850122704796\n",
      "At random state 87,the testing accuracy is : 0.4490558460706773\n",
      "\n",
      "\n",
      "At random state 88,the training accuracy is : 0.4449830905122927\n",
      "At random state 88,the testing accuracy is : 0.4471348780308375\n",
      "\n",
      "\n",
      "At random state 89,the training accuracy is : 0.44356316303452714\n",
      "At random state 89,the testing accuracy is : 0.4506747861029158\n",
      "\n",
      "\n",
      "At random state 90,the training accuracy is : 0.4503251784620851\n",
      "At random state 90,the testing accuracy is : 0.43434639215276016\n",
      "\n",
      "\n",
      "At random state 91,the training accuracy is : 0.4493944413836688\n",
      "At random state 91,the testing accuracy is : 0.4367822761772099\n",
      "\n",
      "\n",
      "At random state 92,the training accuracy is : 0.45157689345221375\n",
      "At random state 92,the testing accuracy is : 0.43120129385014117\n",
      "\n",
      "\n",
      "At random state 93,the training accuracy is : 0.445875097738048\n",
      "At random state 93,the testing accuracy is : 0.44471629154242187\n",
      "\n",
      "\n",
      "At random state 94,the training accuracy is : 0.4500089840172228\n",
      "At random state 94,the testing accuracy is : 0.43540732621727085\n",
      "\n",
      "\n",
      "At random state 95,the training accuracy is : 0.44368878526162414\n",
      "At random state 95,the testing accuracy is : 0.45004220195895306\n",
      "\n",
      "\n",
      "At random state 96,the training accuracy is : 0.44386133458923716\n",
      "At random state 96,the testing accuracy is : 0.44958131913442956\n",
      "\n",
      "\n",
      "At random state 97,the training accuracy is : 0.450603634451877\n",
      "At random state 97,the testing accuracy is : 0.4340085718443867\n",
      "\n",
      "\n",
      "At random state 98,the training accuracy is : 0.4493909036082935\n",
      "At random state 98,the testing accuracy is : 0.43671278990434204\n",
      "\n",
      "\n",
      "At random state 99,the training accuracy is : 0.44414470922492244\n",
      "At random state 99,the testing accuracy is : 0.4488929509481425\n",
      "\n",
      "\n"
     ]
    }
   ],
   "source": [
    "for i in range(0,100):\n",
    "    x_train,x_test,y_train,y_test = train_test_split(x,y,test_size=.30,random_state=i)\n",
    "    lr.fit(x_train,y_train)\n",
    "    pred_tr = lr.predict(x_train)\n",
    "    pred_ts = lr.predict(x_test)\n",
    "    print(f\"At random state {i},the training accuracy is : {r2_score(y_train,pred_tr)}\")\n",
    "    print(f\"At random state {i},the testing accuracy is : {r2_score(y_test,pred_ts)}\")\n",
    "    print(\"\\n\")"
   ]
  },
  {
   "cell_type": "code",
   "execution_count": 45,
   "id": "140a01bc",
   "metadata": {},
   "outputs": [],
   "source": [
    "x_train,x_test,y_train,y_test = train_test_split(x,y,test_size=.30,random_state=77)"
   ]
  },
  {
   "cell_type": "code",
   "execution_count": 46,
   "id": "667584bf",
   "metadata": {},
   "outputs": [
    {
     "data": {
      "text/plain": [
       "(12355, 12)"
      ]
     },
     "execution_count": 46,
     "metadata": {},
     "output_type": "execute_result"
    }
   ],
   "source": [
    "x_train.shape"
   ]
  },
  {
   "cell_type": "code",
   "execution_count": 47,
   "id": "94cd1018",
   "metadata": {},
   "outputs": [
    {
     "data": {
      "text/plain": [
       "(5296, 12)"
      ]
     },
     "execution_count": 47,
     "metadata": {},
     "output_type": "execute_result"
    }
   ],
   "source": [
    "x_test.shape"
   ]
  },
  {
   "cell_type": "code",
   "execution_count": 48,
   "id": "732ffb35",
   "metadata": {},
   "outputs": [
    {
     "data": {
      "text/plain": [
       "(12355,)"
      ]
     },
     "execution_count": 48,
     "metadata": {},
     "output_type": "execute_result"
    }
   ],
   "source": [
    "y_train.shape"
   ]
  },
  {
   "cell_type": "code",
   "execution_count": 49,
   "id": "8a936943",
   "metadata": {},
   "outputs": [
    {
     "data": {
      "text/plain": [
       "(5296,)"
      ]
     },
     "execution_count": 49,
     "metadata": {},
     "output_type": "execute_result"
    }
   ],
   "source": [
    "y_test.shape"
   ]
  },
  {
   "cell_type": "code",
   "execution_count": 50,
   "id": "4517b022",
   "metadata": {},
   "outputs": [
    {
     "data": {
      "text/plain": [
       "LinearRegression()"
      ]
     },
     "execution_count": 50,
     "metadata": {},
     "output_type": "execute_result"
    }
   ],
   "source": [
    "lr.fit(x_train,y_train)"
   ]
  },
  {
   "cell_type": "code",
   "execution_count": 51,
   "id": "ddbe00eb",
   "metadata": {},
   "outputs": [],
   "source": [
    "pred_ts = lr.predict(x_test)"
   ]
  },
  {
   "cell_type": "code",
   "execution_count": 52,
   "id": "c5f67a4b",
   "metadata": {},
   "outputs": [
    {
     "name": "stdout",
     "output_type": "stream",
     "text": [
      "0.4454991642899314\n"
     ]
    }
   ],
   "source": [
    "print(r2_score(y_test,pred_ts))"
   ]
  },
  {
   "cell_type": "markdown",
   "id": "31254a0f",
   "metadata": {},
   "source": [
    "### Corss Validation Score"
   ]
  },
  {
   "cell_type": "code",
   "execution_count": 53,
   "id": "b8f6b426",
   "metadata": {},
   "outputs": [
    {
     "name": "stdout",
     "output_type": "stream",
     "text": [
      "At cross fold50 the cv score -0.04063301005495463 and accuracy score for training is -0.44552994952031777 and accuracy for testing is 0.4454991642899314\n",
      "\n",
      "\n",
      "At cross fold75 the cv score -0.169640289945597 and accuracy score for training is -0.44552994952031777 and accuracy for testing is 0.4454991642899314\n",
      "\n",
      "\n",
      "At cross fold100 the cv score -0.19051223228888872 and accuracy score for training is -0.44552994952031777 and accuracy for testing is 0.4454991642899314\n",
      "\n",
      "\n",
      "At cross fold125 the cv score -0.27983939642641303 and accuracy score for training is -0.44552994952031777 and accuracy for testing is 0.4454991642899314\n",
      "\n",
      "\n",
      "At cross fold150 the cv score -0.4071065429817143 and accuracy score for training is -0.44552994952031777 and accuracy for testing is 0.4454991642899314\n",
      "\n",
      "\n",
      "At cross fold175 the cv score -0.3939405922775712 and accuracy score for training is -0.44552994952031777 and accuracy for testing is 0.4454991642899314\n",
      "\n",
      "\n"
     ]
    }
   ],
   "source": [
    "tr_accu = r2_score(y_train,pred_tr)\n",
    "ts_accu = r2_score(y_test,pred_ts)\n",
    "\n",
    "from sklearn.model_selection import cross_val_score\n",
    "for j in range(50,200,25):\n",
    "    cv_score = cross_val_score(lr,x,y,cv=j)\n",
    "    cv_mean = cv_score.mean()\n",
    "    print(f\"At cross fold{j} the cv score {cv_mean} and accuracy score for training is {tr_accu} and accuracy for testing is {ts_accu}\")\n",
    "    print(\"\\n\")"
   ]
  },
  {
   "cell_type": "markdown",
   "id": "545bf469",
   "metadata": {},
   "source": [
    "### Model Testing"
   ]
  },
  {
   "cell_type": "code",
   "execution_count": 54,
   "id": "2042fddb",
   "metadata": {},
   "outputs": [],
   "source": [
    "def train(model,x,y):\n",
    "    model.fit(x,y)\n",
    "    pred = model.predict(x)\n",
    "    cv_score = cross_val_score(model,x,y,scoring='neg_mean_squared_error')\n",
    "    cv_score = np.abs(np.mean(cv_score))\n",
    "    print('Model Report')\n",
    "    print('MSE',mean_squared_error(y,pred))\n",
    "    print('CV',cv_score)"
   ]
  },
  {
   "cell_type": "code",
   "execution_count": 55,
   "id": "afec822d",
   "metadata": {},
   "outputs": [
    {
     "name": "stdout",
     "output_type": "stream",
     "text": [
      "Model Report\n",
      "MSE 0.08248546783596789\n",
      "CV 3.62279097927885\n"
     ]
    },
    {
     "data": {
      "text/plain": [
       "<AxesSubplot:title={'center':'Model Coefficients'}>"
      ]
     },
     "execution_count": 55,
     "metadata": {},
     "output_type": "execute_result"
    },
    {
     "data": {
      "image/png": "[encoded data removed]",
      "text/plain": [
       "<Figure size 432x288 with 1 Axes>"
      ]
     },
     "metadata": {
      "needs_background": "light"
     },
     "output_type": "display_data"
    }
   ],
   "source": [
    "model = LinearRegression()\n",
    "train(model,x,y)\n",
    "coef = pd.Series(model.coef_,x.columns).sort_values()\n",
    "coef.plot(kind = 'bar',title = 'Model Coefficients')"
   ]
  },
  {
   "cell_type": "code",
   "execution_count": 56,
   "id": "d206ef5f",
   "metadata": {},
   "outputs": [
    {
     "name": "stdout",
     "output_type": "stream",
     "text": [
      "Model Report\n",
      "MSE 0.09887770059481059\n",
      "CV 0.1183814441725933\n"
     ]
    },
    {
     "data": {
      "text/plain": [
       "<AxesSubplot:title={'center':'Ridge'}>"
      ]
     },
     "execution_count": 56,
     "metadata": {},
     "output_type": "execute_result"
    },
    {
     "data": {
      "image/png": "[encoded data removed]",
      "text/plain": [
       "<Figure size 432x288 with 1 Axes>"
      ]
     },
     "metadata": {
      "needs_background": "light"
     },
     "output_type": "display_data"
    }
   ],
   "source": [
    "model = Ridge(normalize=True)\n",
    "train(model,x,y)\n",
    "coef = pd.Series(model.coef_,x.columns).sort_values()\n",
    "coef.plot(kind = 'bar',title = 'Ridge')"
   ]
  },
  {
   "cell_type": "code",
   "execution_count": 57,
   "id": "55b728f9",
   "metadata": {},
   "outputs": [
    {
     "name": "stdout",
     "output_type": "stream",
     "text": [
      "Model Report\n",
      "MSE 0.12722862455768408\n",
      "CV 0.1683929228512216\n"
     ]
    },
    {
     "data": {
      "text/plain": [
       "<AxesSubplot:title={'center':'Lasso'}>"
      ]
     },
     "execution_count": 57,
     "metadata": {},
     "output_type": "execute_result"
    },
    {
     "data": {
      "image/png": "[encoded data removed]",
      "text/plain": [
       "<Figure size 432x288 with 1 Axes>"
      ]
     },
     "metadata": {
      "needs_background": "light"
     },
     "output_type": "display_data"
    }
   ],
   "source": [
    "model = Lasso()\n",
    "train(model,x,y)\n",
    "coef = pd.Series(model.coef_,x.columns).sort_values()\n",
    "coef.plot(kind = 'bar',title = 'Lasso')"
   ]
  },
  {
   "cell_type": "code",
   "execution_count": 58,
   "id": "8ac5b354",
   "metadata": {},
   "outputs": [
    {
     "name": "stdout",
     "output_type": "stream",
     "text": [
      "Model Report\n",
      "MSE 1.983213566890397e-34\n",
      "CV 0.11202651201699557\n"
     ]
    },
    {
     "data": {
      "text/plain": [
       "<AxesSubplot:title={'center':'Feature Importance'}>"
      ]
     },
     "execution_count": 58,
     "metadata": {},
     "output_type": "execute_result"
    },
    {
     "data": {
      "image/png": "[encoded data removed]",
      "text/plain": [
       "<Figure size 432x288 with 1 Axes>"
      ]
     },
     "metadata": {
      "needs_background": "light"
     },
     "output_type": "display_data"
    }
   ],
   "source": [
    "model = DecisionTreeRegressor()\n",
    "train(model,x,y)\n",
    "coef = pd.Series(model.feature_importances_,x.columns).sort_values()\n",
    "coef.plot(kind = 'bar',title = 'Feature Importance')"
   ]
  },
  {
   "cell_type": "code",
   "execution_count": 59,
   "id": "6757ce24",
   "metadata": {},
   "outputs": [
    {
     "name": "stdout",
     "output_type": "stream",
     "text": [
      "Model Report\n",
      "MSE 0.0018012665418389892\n",
      "CV 0.061537320299968154\n"
     ]
    },
    {
     "data": {
      "text/plain": [
       "<AxesSubplot:title={'center':'Feature Importance'}>"
      ]
     },
     "execution_count": 59,
     "metadata": {},
     "output_type": "execute_result"
    },
    {
     "data": {
      "image/png": "[encoded data removed]",
      "text/plain": [
       "<Figure size 432x288 with 1 Axes>"
      ]
     },
     "metadata": {
      "needs_background": "light"
     },
     "output_type": "display_data"
    }
   ],
   "source": [
    "model = RandomForestRegressor()\n",
    "train(model,x,y)\n",
    "coef = pd.Series(model.feature_importances_,x.columns).sort_values()\n",
    "coef.plot(kind = 'bar',title = 'Feature Importance')"
   ]
  },
  {
   "cell_type": "code",
   "execution_count": 60,
   "id": "f2efab34",
   "metadata": {},
   "outputs": [
    {
     "name": "stdout",
     "output_type": "stream",
     "text": [
      "Model Report\n",
      "MSE 0.05898489517559536\n",
      "CV 0.07711489762602179\n"
     ]
    },
    {
     "data": {
      "text/plain": [
       "<AxesSubplot:title={'center':'Feature Importance'}>"
      ]
     },
     "execution_count": 60,
     "metadata": {},
     "output_type": "execute_result"
    },
    {
     "data": {
      "image/png": "[encoded data removed]",
      "text/plain": [
       "<Figure size 432x288 with 1 Axes>"
      ]
     },
     "metadata": {
      "needs_background": "light"
     },
     "output_type": "display_data"
    }
   ],
   "source": [
    "model = AdaBoostRegressor()\n",
    "train(model,x,y)\n",
    "coef = pd.Series(model.feature_importances_,x.columns).sort_values()\n",
    "coef.plot(kind = 'bar',title = 'Feature Importance')"
   ]
  },
  {
   "cell_type": "code",
   "execution_count": null,
   "id": "734a84e8",
   "metadata": {},
   "outputs": [],
   "source": []
  }
 ],
 "metadata": {
  "kernelspec": {
   "display_name": "Python 3",
   "language": "python",
   "name": "python3"
  },
  "language_info": {
   "codemirror_mode": {
    "name": "ipython",
    "version": 3
   },
   "file_extension": ".py",
   "mimetype": "text/x-python",
   "name": "python",
   "nbconvert_exporter": "python",
   "pygments_lexer": "ipython3",
   "version": "3.8.8"
  }
 },
 "nbformat": 4,
 "nbformat_minor": 5
}

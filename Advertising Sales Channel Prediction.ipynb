{
 "cells": [
  {
   "cell_type": "markdown",
   "id": "ddddf894",
   "metadata": {},
   "source": [
    "## Advertisement"
   ]
  },
  {
   "cell_type": "code",
   "execution_count": 1,
   "id": "4e9e2d3a",
   "metadata": {},
   "outputs": [],
   "source": [
    "import numpy as np\n",
    "import pandas as pd\n",
    "import matplotlib.pyplot as plt\n",
    "import seaborn as sns\n",
    "\n",
    "import warnings\n",
    "warnings.filterwarnings('ignore')"
   ]
  },
  {
   "cell_type": "code",
   "execution_count": 2,
   "id": "b5c6efda",
   "metadata": {},
   "outputs": [
    {
     "data": {
      "text/html": [
       "<div>\n",
       "<style scoped>\n",
       "    .dataframe tbody tr th:only-of-type {\n",
       "        vertical-align: middle;\n",
       "    }\n",
       "\n",
       "    .dataframe tbody tr th {\n",
       "        vertical-align: top;\n",
       "    }\n",
       "\n",
       "    .dataframe thead th {\n",
       "        text-align: right;\n",
       "    }\n",
       "</style>\n",
       "<table border=\"1\" class=\"dataframe\">\n",
       "  <thead>\n",
       "    <tr style=\"text-align: right;\">\n",
       "      <th></th>\n",
       "      <th>Unnamed: 0</th>\n",
       "      <th>TV</th>\n",
       "      <th>radio</th>\n",
       "      <th>newspaper</th>\n",
       "      <th>sales</th>\n",
       "    </tr>\n",
       "  </thead>\n",
       "  <tbody>\n",
       "    <tr>\n",
       "      <th>0</th>\n",
       "      <td>1</td>\n",
       "      <td>230.1</td>\n",
       "      <td>37.8</td>\n",
       "      <td>69.2</td>\n",
       "      <td>22.1</td>\n",
       "    </tr>\n",
       "    <tr>\n",
       "      <th>1</th>\n",
       "      <td>2</td>\n",
       "      <td>44.5</td>\n",
       "      <td>39.3</td>\n",
       "      <td>45.1</td>\n",
       "      <td>10.4</td>\n",
       "    </tr>\n",
       "    <tr>\n",
       "      <th>2</th>\n",
       "      <td>3</td>\n",
       "      <td>17.2</td>\n",
       "      <td>45.9</td>\n",
       "      <td>69.3</td>\n",
       "      <td>9.3</td>\n",
       "    </tr>\n",
       "    <tr>\n",
       "      <th>3</th>\n",
       "      <td>4</td>\n",
       "      <td>151.5</td>\n",
       "      <td>41.3</td>\n",
       "      <td>58.5</td>\n",
       "      <td>18.5</td>\n",
       "    </tr>\n",
       "    <tr>\n",
       "      <th>4</th>\n",
       "      <td>5</td>\n",
       "      <td>180.8</td>\n",
       "      <td>10.8</td>\n",
       "      <td>58.4</td>\n",
       "      <td>12.9</td>\n",
       "    </tr>\n",
       "    <tr>\n",
       "      <th>...</th>\n",
       "      <td>...</td>\n",
       "      <td>...</td>\n",
       "      <td>...</td>\n",
       "      <td>...</td>\n",
       "      <td>...</td>\n",
       "    </tr>\n",
       "    <tr>\n",
       "      <th>195</th>\n",
       "      <td>196</td>\n",
       "      <td>38.2</td>\n",
       "      <td>3.7</td>\n",
       "      <td>13.8</td>\n",
       "      <td>7.6</td>\n",
       "    </tr>\n",
       "    <tr>\n",
       "      <th>196</th>\n",
       "      <td>197</td>\n",
       "      <td>94.2</td>\n",
       "      <td>4.9</td>\n",
       "      <td>8.1</td>\n",
       "      <td>9.7</td>\n",
       "    </tr>\n",
       "    <tr>\n",
       "      <th>197</th>\n",
       "      <td>198</td>\n",
       "      <td>177.0</td>\n",
       "      <td>9.3</td>\n",
       "      <td>6.4</td>\n",
       "      <td>12.8</td>\n",
       "    </tr>\n",
       "    <tr>\n",
       "      <th>198</th>\n",
       "      <td>199</td>\n",
       "      <td>283.6</td>\n",
       "      <td>42.0</td>\n",
       "      <td>66.2</td>\n",
       "      <td>25.5</td>\n",
       "    </tr>\n",
       "    <tr>\n",
       "      <th>199</th>\n",
       "      <td>200</td>\n",
       "      <td>232.1</td>\n",
       "      <td>8.6</td>\n",
       "      <td>8.7</td>\n",
       "      <td>13.4</td>\n",
       "    </tr>\n",
       "  </tbody>\n",
       "</table>\n",
       "<p>200 rows × 5 columns</p>\n",
       "</div>"
      ],
      "text/plain": [
       "     Unnamed: 0     TV  radio  newspaper  sales\n",
       "0             1  230.1   37.8       69.2   22.1\n",
       "1             2   44.5   39.3       45.1   10.4\n",
       "2             3   17.2   45.9       69.3    9.3\n",
       "3             4  151.5   41.3       58.5   18.5\n",
       "4             5  180.8   10.8       58.4   12.9\n",
       "..          ...    ...    ...        ...    ...\n",
       "195         196   38.2    3.7       13.8    7.6\n",
       "196         197   94.2    4.9        8.1    9.7\n",
       "197         198  177.0    9.3        6.4   12.8\n",
       "198         199  283.6   42.0       66.2   25.5\n",
       "199         200  232.1    8.6        8.7   13.4\n",
       "\n",
       "[200 rows x 5 columns]"
      ]
     },
     "execution_count": 2,
     "metadata": {},
     "output_type": "execute_result"
    }
   ],
   "source": [
    "df = pd.read_csv('Advertising.csv')\n",
    "df"
   ]
  },
  {
   "cell_type": "code",
   "execution_count": 3,
   "id": "e6a1d8be",
   "metadata": {},
   "outputs": [
    {
     "data": {
      "text/plain": [
       "(200, 5)"
      ]
     },
     "execution_count": 3,
     "metadata": {},
     "output_type": "execute_result"
    }
   ],
   "source": [
    "df.shape"
   ]
  },
  {
   "cell_type": "markdown",
   "id": "b7956901",
   "metadata": {},
   "source": [
    "We have 200 rows and 5 columns."
   ]
  },
  {
   "cell_type": "code",
   "execution_count": 4,
   "id": "f00083ea",
   "metadata": {},
   "outputs": [
    {
     "data": {
      "text/plain": [
       "Index(['Unnamed: 0', 'TV', 'radio', 'newspaper', 'sales'], dtype='object')"
      ]
     },
     "execution_count": 4,
     "metadata": {},
     "output_type": "execute_result"
    }
   ],
   "source": [
    "df.columns"
   ]
  },
  {
   "cell_type": "markdown",
   "id": "414cbbf3",
   "metadata": {},
   "source": [
    "### About Columns"
   ]
  },
  {
   "cell_type": "markdown",
   "id": "ee87f949",
   "metadata": {},
   "source": [
    "TV - It shows the number of sales of advertisement through TV.\n",
    "\n",
    "Radio - It shows the number of sales of advertisement through Radio.\n",
    "\n",
    "Newspaper - It shows the number of sales of advertisement through Newspaper.\n",
    "\n",
    "Sales - It shows the total number of sales generated through the all sales channel."
   ]
  },
  {
   "cell_type": "code",
   "execution_count": 5,
   "id": "5db059f3",
   "metadata": {},
   "outputs": [
    {
     "name": "stdout",
     "output_type": "stream",
     "text": [
      "<class 'pandas.core.frame.DataFrame'>\n",
      "RangeIndex: 200 entries, 0 to 199\n",
      "Data columns (total 5 columns):\n",
      " #   Column      Non-Null Count  Dtype  \n",
      "---  ------      --------------  -----  \n",
      " 0   Unnamed: 0  200 non-null    int64  \n",
      " 1   TV          200 non-null    float64\n",
      " 2   radio       200 non-null    float64\n",
      " 3   newspaper   200 non-null    float64\n",
      " 4   sales       200 non-null    float64\n",
      "dtypes: float64(4), int64(1)\n",
      "memory usage: 7.9 KB\n"
     ]
    }
   ],
   "source": [
    "df.info()"
   ]
  },
  {
   "cell_type": "markdown",
   "id": "d9a8d2fa",
   "metadata": {},
   "source": [
    "We have a information of dataset. It has 200 rows and 5 columns and the memory usage is 7.9KB."
   ]
  },
  {
   "cell_type": "code",
   "execution_count": 6,
   "id": "1ca94934",
   "metadata": {},
   "outputs": [
    {
     "data": {
      "text/plain": [
       "Unnamed: 0    0\n",
       "TV            0\n",
       "radio         0\n",
       "newspaper     0\n",
       "sales         0\n",
       "dtype: int64"
      ]
     },
     "execution_count": 6,
     "metadata": {},
     "output_type": "execute_result"
    }
   ],
   "source": [
    "df.isnull().sum()"
   ]
  },
  {
   "cell_type": "markdown",
   "id": "160d3198",
   "metadata": {},
   "source": [
    "There is no null values in given dataset."
   ]
  },
  {
   "cell_type": "markdown",
   "id": "81ce8296",
   "metadata": {},
   "source": [
    "### Data analysis and Visualization"
   ]
  },
  {
   "cell_type": "code",
   "execution_count": 7,
   "id": "0a00c824",
   "metadata": {},
   "outputs": [],
   "source": [
    "df.drop(['Unnamed: 0'],axis=1,inplace=True)"
   ]
  },
  {
   "cell_type": "code",
   "execution_count": 8,
   "id": "9c5a5e29",
   "metadata": {},
   "outputs": [
    {
     "data": {
      "text/html": [
       "<div>\n",
       "<style scoped>\n",
       "    .dataframe tbody tr th:only-of-type {\n",
       "        vertical-align: middle;\n",
       "    }\n",
       "\n",
       "    .dataframe tbody tr th {\n",
       "        vertical-align: top;\n",
       "    }\n",
       "\n",
       "    .dataframe thead th {\n",
       "        text-align: right;\n",
       "    }\n",
       "</style>\n",
       "<table border=\"1\" class=\"dataframe\">\n",
       "  <thead>\n",
       "    <tr style=\"text-align: right;\">\n",
       "      <th></th>\n",
       "      <th>TV</th>\n",
       "      <th>radio</th>\n",
       "      <th>newspaper</th>\n",
       "      <th>sales</th>\n",
       "    </tr>\n",
       "  </thead>\n",
       "  <tbody>\n",
       "    <tr>\n",
       "      <th>0</th>\n",
       "      <td>230.1</td>\n",
       "      <td>37.8</td>\n",
       "      <td>69.2</td>\n",
       "      <td>22.1</td>\n",
       "    </tr>\n",
       "    <tr>\n",
       "      <th>1</th>\n",
       "      <td>44.5</td>\n",
       "      <td>39.3</td>\n",
       "      <td>45.1</td>\n",
       "      <td>10.4</td>\n",
       "    </tr>\n",
       "    <tr>\n",
       "      <th>2</th>\n",
       "      <td>17.2</td>\n",
       "      <td>45.9</td>\n",
       "      <td>69.3</td>\n",
       "      <td>9.3</td>\n",
       "    </tr>\n",
       "    <tr>\n",
       "      <th>3</th>\n",
       "      <td>151.5</td>\n",
       "      <td>41.3</td>\n",
       "      <td>58.5</td>\n",
       "      <td>18.5</td>\n",
       "    </tr>\n",
       "    <tr>\n",
       "      <th>4</th>\n",
       "      <td>180.8</td>\n",
       "      <td>10.8</td>\n",
       "      <td>58.4</td>\n",
       "      <td>12.9</td>\n",
       "    </tr>\n",
       "    <tr>\n",
       "      <th>...</th>\n",
       "      <td>...</td>\n",
       "      <td>...</td>\n",
       "      <td>...</td>\n",
       "      <td>...</td>\n",
       "    </tr>\n",
       "    <tr>\n",
       "      <th>195</th>\n",
       "      <td>38.2</td>\n",
       "      <td>3.7</td>\n",
       "      <td>13.8</td>\n",
       "      <td>7.6</td>\n",
       "    </tr>\n",
       "    <tr>\n",
       "      <th>196</th>\n",
       "      <td>94.2</td>\n",
       "      <td>4.9</td>\n",
       "      <td>8.1</td>\n",
       "      <td>9.7</td>\n",
       "    </tr>\n",
       "    <tr>\n",
       "      <th>197</th>\n",
       "      <td>177.0</td>\n",
       "      <td>9.3</td>\n",
       "      <td>6.4</td>\n",
       "      <td>12.8</td>\n",
       "    </tr>\n",
       "    <tr>\n",
       "      <th>198</th>\n",
       "      <td>283.6</td>\n",
       "      <td>42.0</td>\n",
       "      <td>66.2</td>\n",
       "      <td>25.5</td>\n",
       "    </tr>\n",
       "    <tr>\n",
       "      <th>199</th>\n",
       "      <td>232.1</td>\n",
       "      <td>8.6</td>\n",
       "      <td>8.7</td>\n",
       "      <td>13.4</td>\n",
       "    </tr>\n",
       "  </tbody>\n",
       "</table>\n",
       "<p>200 rows × 4 columns</p>\n",
       "</div>"
      ],
      "text/plain": [
       "        TV  radio  newspaper  sales\n",
       "0    230.1   37.8       69.2   22.1\n",
       "1     44.5   39.3       45.1   10.4\n",
       "2     17.2   45.9       69.3    9.3\n",
       "3    151.5   41.3       58.5   18.5\n",
       "4    180.8   10.8       58.4   12.9\n",
       "..     ...    ...        ...    ...\n",
       "195   38.2    3.7       13.8    7.6\n",
       "196   94.2    4.9        8.1    9.7\n",
       "197  177.0    9.3        6.4   12.8\n",
       "198  283.6   42.0       66.2   25.5\n",
       "199  232.1    8.6        8.7   13.4\n",
       "\n",
       "[200 rows x 4 columns]"
      ]
     },
     "execution_count": 8,
     "metadata": {},
     "output_type": "execute_result"
    }
   ],
   "source": [
    "df"
   ]
  },
  {
   "cell_type": "markdown",
   "id": "5eeae557",
   "metadata": {},
   "source": [
    "#### Description"
   ]
  },
  {
   "cell_type": "code",
   "execution_count": 9,
   "id": "df306181",
   "metadata": {},
   "outputs": [
    {
     "data": {
      "text/html": [
       "<div>\n",
       "<style scoped>\n",
       "    .dataframe tbody tr th:only-of-type {\n",
       "        vertical-align: middle;\n",
       "    }\n",
       "\n",
       "    .dataframe tbody tr th {\n",
       "        vertical-align: top;\n",
       "    }\n",
       "\n",
       "    .dataframe thead th {\n",
       "        text-align: right;\n",
       "    }\n",
       "</style>\n",
       "<table border=\"1\" class=\"dataframe\">\n",
       "  <thead>\n",
       "    <tr style=\"text-align: right;\">\n",
       "      <th></th>\n",
       "      <th>TV</th>\n",
       "      <th>radio</th>\n",
       "      <th>newspaper</th>\n",
       "      <th>sales</th>\n",
       "    </tr>\n",
       "  </thead>\n",
       "  <tbody>\n",
       "    <tr>\n",
       "      <th>count</th>\n",
       "      <td>200.000000</td>\n",
       "      <td>200.000000</td>\n",
       "      <td>200.000000</td>\n",
       "      <td>200.000000</td>\n",
       "    </tr>\n",
       "    <tr>\n",
       "      <th>mean</th>\n",
       "      <td>147.042500</td>\n",
       "      <td>23.264000</td>\n",
       "      <td>30.554000</td>\n",
       "      <td>14.022500</td>\n",
       "    </tr>\n",
       "    <tr>\n",
       "      <th>std</th>\n",
       "      <td>85.854236</td>\n",
       "      <td>14.846809</td>\n",
       "      <td>21.778621</td>\n",
       "      <td>5.217457</td>\n",
       "    </tr>\n",
       "    <tr>\n",
       "      <th>min</th>\n",
       "      <td>0.700000</td>\n",
       "      <td>0.000000</td>\n",
       "      <td>0.300000</td>\n",
       "      <td>1.600000</td>\n",
       "    </tr>\n",
       "    <tr>\n",
       "      <th>25%</th>\n",
       "      <td>74.375000</td>\n",
       "      <td>9.975000</td>\n",
       "      <td>12.750000</td>\n",
       "      <td>10.375000</td>\n",
       "    </tr>\n",
       "    <tr>\n",
       "      <th>50%</th>\n",
       "      <td>149.750000</td>\n",
       "      <td>22.900000</td>\n",
       "      <td>25.750000</td>\n",
       "      <td>12.900000</td>\n",
       "    </tr>\n",
       "    <tr>\n",
       "      <th>75%</th>\n",
       "      <td>218.825000</td>\n",
       "      <td>36.525000</td>\n",
       "      <td>45.100000</td>\n",
       "      <td>17.400000</td>\n",
       "    </tr>\n",
       "    <tr>\n",
       "      <th>max</th>\n",
       "      <td>296.400000</td>\n",
       "      <td>49.600000</td>\n",
       "      <td>114.000000</td>\n",
       "      <td>27.000000</td>\n",
       "    </tr>\n",
       "  </tbody>\n",
       "</table>\n",
       "</div>"
      ],
      "text/plain": [
       "               TV       radio   newspaper       sales\n",
       "count  200.000000  200.000000  200.000000  200.000000\n",
       "mean   147.042500   23.264000   30.554000   14.022500\n",
       "std     85.854236   14.846809   21.778621    5.217457\n",
       "min      0.700000    0.000000    0.300000    1.600000\n",
       "25%     74.375000    9.975000   12.750000   10.375000\n",
       "50%    149.750000   22.900000   25.750000   12.900000\n",
       "75%    218.825000   36.525000   45.100000   17.400000\n",
       "max    296.400000   49.600000  114.000000   27.000000"
      ]
     },
     "execution_count": 9,
     "metadata": {},
     "output_type": "execute_result"
    }
   ],
   "source": [
    "df.describe()"
   ]
  },
  {
   "cell_type": "code",
   "execution_count": 10,
   "id": "8a0355fa",
   "metadata": {},
   "outputs": [
    {
     "data": {
      "text/html": [
       "<div>\n",
       "<style scoped>\n",
       "    .dataframe tbody tr th:only-of-type {\n",
       "        vertical-align: middle;\n",
       "    }\n",
       "\n",
       "    .dataframe tbody tr th {\n",
       "        vertical-align: top;\n",
       "    }\n",
       "\n",
       "    .dataframe thead th {\n",
       "        text-align: right;\n",
       "    }\n",
       "</style>\n",
       "<table border=\"1\" class=\"dataframe\">\n",
       "  <thead>\n",
       "    <tr style=\"text-align: right;\">\n",
       "      <th></th>\n",
       "      <th>TV</th>\n",
       "      <th>radio</th>\n",
       "      <th>newspaper</th>\n",
       "      <th>sales</th>\n",
       "    </tr>\n",
       "  </thead>\n",
       "  <tbody>\n",
       "    <tr>\n",
       "      <th>127</th>\n",
       "      <td>80.2</td>\n",
       "      <td>0.0</td>\n",
       "      <td>9.2</td>\n",
       "      <td>8.8</td>\n",
       "    </tr>\n",
       "  </tbody>\n",
       "</table>\n",
       "</div>"
      ],
      "text/plain": [
       "       TV  radio  newspaper  sales\n",
       "127  80.2    0.0        9.2    8.8"
      ]
     },
     "execution_count": 10,
     "metadata": {},
     "output_type": "execute_result"
    }
   ],
   "source": [
    "df[df['radio']==0]"
   ]
  },
  {
   "cell_type": "code",
   "execution_count": 11,
   "id": "d944b1f5",
   "metadata": {},
   "outputs": [],
   "source": [
    "df = df.drop(127)"
   ]
  },
  {
   "cell_type": "code",
   "execution_count": 12,
   "id": "a02eecf0",
   "metadata": {},
   "outputs": [
    {
     "data": {
      "text/html": [
       "<div>\n",
       "<style scoped>\n",
       "    .dataframe tbody tr th:only-of-type {\n",
       "        vertical-align: middle;\n",
       "    }\n",
       "\n",
       "    .dataframe tbody tr th {\n",
       "        vertical-align: top;\n",
       "    }\n",
       "\n",
       "    .dataframe thead th {\n",
       "        text-align: right;\n",
       "    }\n",
       "</style>\n",
       "<table border=\"1\" class=\"dataframe\">\n",
       "  <thead>\n",
       "    <tr style=\"text-align: right;\">\n",
       "      <th></th>\n",
       "      <th>TV</th>\n",
       "      <th>radio</th>\n",
       "      <th>newspaper</th>\n",
       "      <th>sales</th>\n",
       "    </tr>\n",
       "  </thead>\n",
       "  <tbody>\n",
       "    <tr>\n",
       "      <th>0</th>\n",
       "      <td>230.1</td>\n",
       "      <td>37.8</td>\n",
       "      <td>69.2</td>\n",
       "      <td>22.1</td>\n",
       "    </tr>\n",
       "    <tr>\n",
       "      <th>1</th>\n",
       "      <td>44.5</td>\n",
       "      <td>39.3</td>\n",
       "      <td>45.1</td>\n",
       "      <td>10.4</td>\n",
       "    </tr>\n",
       "    <tr>\n",
       "      <th>2</th>\n",
       "      <td>17.2</td>\n",
       "      <td>45.9</td>\n",
       "      <td>69.3</td>\n",
       "      <td>9.3</td>\n",
       "    </tr>\n",
       "    <tr>\n",
       "      <th>3</th>\n",
       "      <td>151.5</td>\n",
       "      <td>41.3</td>\n",
       "      <td>58.5</td>\n",
       "      <td>18.5</td>\n",
       "    </tr>\n",
       "    <tr>\n",
       "      <th>4</th>\n",
       "      <td>180.8</td>\n",
       "      <td>10.8</td>\n",
       "      <td>58.4</td>\n",
       "      <td>12.9</td>\n",
       "    </tr>\n",
       "    <tr>\n",
       "      <th>...</th>\n",
       "      <td>...</td>\n",
       "      <td>...</td>\n",
       "      <td>...</td>\n",
       "      <td>...</td>\n",
       "    </tr>\n",
       "    <tr>\n",
       "      <th>195</th>\n",
       "      <td>38.2</td>\n",
       "      <td>3.7</td>\n",
       "      <td>13.8</td>\n",
       "      <td>7.6</td>\n",
       "    </tr>\n",
       "    <tr>\n",
       "      <th>196</th>\n",
       "      <td>94.2</td>\n",
       "      <td>4.9</td>\n",
       "      <td>8.1</td>\n",
       "      <td>9.7</td>\n",
       "    </tr>\n",
       "    <tr>\n",
       "      <th>197</th>\n",
       "      <td>177.0</td>\n",
       "      <td>9.3</td>\n",
       "      <td>6.4</td>\n",
       "      <td>12.8</td>\n",
       "    </tr>\n",
       "    <tr>\n",
       "      <th>198</th>\n",
       "      <td>283.6</td>\n",
       "      <td>42.0</td>\n",
       "      <td>66.2</td>\n",
       "      <td>25.5</td>\n",
       "    </tr>\n",
       "    <tr>\n",
       "      <th>199</th>\n",
       "      <td>232.1</td>\n",
       "      <td>8.6</td>\n",
       "      <td>8.7</td>\n",
       "      <td>13.4</td>\n",
       "    </tr>\n",
       "  </tbody>\n",
       "</table>\n",
       "<p>199 rows × 4 columns</p>\n",
       "</div>"
      ],
      "text/plain": [
       "        TV  radio  newspaper  sales\n",
       "0    230.1   37.8       69.2   22.1\n",
       "1     44.5   39.3       45.1   10.4\n",
       "2     17.2   45.9       69.3    9.3\n",
       "3    151.5   41.3       58.5   18.5\n",
       "4    180.8   10.8       58.4   12.9\n",
       "..     ...    ...        ...    ...\n",
       "195   38.2    3.7       13.8    7.6\n",
       "196   94.2    4.9        8.1    9.7\n",
       "197  177.0    9.3        6.4   12.8\n",
       "198  283.6   42.0       66.2   25.5\n",
       "199  232.1    8.6        8.7   13.4\n",
       "\n",
       "[199 rows x 4 columns]"
      ]
     },
     "execution_count": 12,
     "metadata": {},
     "output_type": "execute_result"
    }
   ],
   "source": [
    "df"
   ]
  },
  {
   "cell_type": "code",
   "execution_count": 13,
   "id": "33599ad3",
   "metadata": {},
   "outputs": [
    {
     "data": {
      "text/html": [
       "<div>\n",
       "<style scoped>\n",
       "    .dataframe tbody tr th:only-of-type {\n",
       "        vertical-align: middle;\n",
       "    }\n",
       "\n",
       "    .dataframe tbody tr th {\n",
       "        vertical-align: top;\n",
       "    }\n",
       "\n",
       "    .dataframe thead th {\n",
       "        text-align: right;\n",
       "    }\n",
       "</style>\n",
       "<table border=\"1\" class=\"dataframe\">\n",
       "  <thead>\n",
       "    <tr style=\"text-align: right;\">\n",
       "      <th></th>\n",
       "      <th>TV</th>\n",
       "      <th>radio</th>\n",
       "      <th>newspaper</th>\n",
       "      <th>sales</th>\n",
       "    </tr>\n",
       "  </thead>\n",
       "  <tbody>\n",
       "    <tr>\n",
       "      <th>count</th>\n",
       "      <td>199.000000</td>\n",
       "      <td>199.000000</td>\n",
       "      <td>199.000000</td>\n",
       "      <td>199.000000</td>\n",
       "    </tr>\n",
       "    <tr>\n",
       "      <th>mean</th>\n",
       "      <td>147.378392</td>\n",
       "      <td>23.380905</td>\n",
       "      <td>30.661307</td>\n",
       "      <td>14.048744</td>\n",
       "    </tr>\n",
       "    <tr>\n",
       "      <th>std</th>\n",
       "      <td>85.938922</td>\n",
       "      <td>14.791683</td>\n",
       "      <td>21.780479</td>\n",
       "      <td>5.217365</td>\n",
       "    </tr>\n",
       "    <tr>\n",
       "      <th>min</th>\n",
       "      <td>0.700000</td>\n",
       "      <td>0.300000</td>\n",
       "      <td>0.300000</td>\n",
       "      <td>1.600000</td>\n",
       "    </tr>\n",
       "    <tr>\n",
       "      <th>25%</th>\n",
       "      <td>74.050000</td>\n",
       "      <td>10.050000</td>\n",
       "      <td>12.850000</td>\n",
       "      <td>10.400000</td>\n",
       "    </tr>\n",
       "    <tr>\n",
       "      <th>50%</th>\n",
       "      <td>149.800000</td>\n",
       "      <td>23.300000</td>\n",
       "      <td>25.900000</td>\n",
       "      <td>12.900000</td>\n",
       "    </tr>\n",
       "    <tr>\n",
       "      <th>75%</th>\n",
       "      <td>219.150000</td>\n",
       "      <td>36.550000</td>\n",
       "      <td>45.100000</td>\n",
       "      <td>17.400000</td>\n",
       "    </tr>\n",
       "    <tr>\n",
       "      <th>max</th>\n",
       "      <td>296.400000</td>\n",
       "      <td>49.600000</td>\n",
       "      <td>114.000000</td>\n",
       "      <td>27.000000</td>\n",
       "    </tr>\n",
       "  </tbody>\n",
       "</table>\n",
       "</div>"
      ],
      "text/plain": [
       "               TV       radio   newspaper       sales\n",
       "count  199.000000  199.000000  199.000000  199.000000\n",
       "mean   147.378392   23.380905   30.661307   14.048744\n",
       "std     85.938922   14.791683   21.780479    5.217365\n",
       "min      0.700000    0.300000    0.300000    1.600000\n",
       "25%     74.050000   10.050000   12.850000   10.400000\n",
       "50%    149.800000   23.300000   25.900000   12.900000\n",
       "75%    219.150000   36.550000   45.100000   17.400000\n",
       "max    296.400000   49.600000  114.000000   27.000000"
      ]
     },
     "execution_count": 13,
     "metadata": {},
     "output_type": "execute_result"
    }
   ],
   "source": [
    "df.describe()"
   ]
  },
  {
   "cell_type": "code",
   "execution_count": 14,
   "id": "9073c364",
   "metadata": {},
   "outputs": [
    {
     "data": {
      "text/plain": [
       "<AxesSubplot:>"
      ]
     },
     "execution_count": 14,
     "metadata": {},
     "output_type": "execute_result"
    },
    {
     "data": {
      "image/png": "[encoded data removed]",
      "text/plain": [
       "<Figure size 648x432 with 2 Axes>"
      ]
     },
     "metadata": {
      "needs_background": "light"
     },
     "output_type": "display_data"
    }
   ],
   "source": [
    "plt.figure(figsize=(9,6))\n",
    "sns.heatmap(df.describe(),annot=True,fmt='.2f')"
   ]
  },
  {
   "cell_type": "markdown",
   "id": "33c8c0df",
   "metadata": {},
   "source": [
    "### Outcome of Description"
   ]
  },
  {
   "cell_type": "markdown",
   "id": "3482d7f7",
   "metadata": {},
   "source": [
    "From the above plotting we determine mean,standard deviation,minimum value and maximum value of each column.\n",
    "\n",
    "TV -  1.Mean = 147.04, 2.Std = 85.85, 3.Min = 0.70, Max = 296.40\n",
    "\n",
    "Radio -  1.Mean = 23.26, 2.Std = 14.85, 3.Min = 0, Max = 49.60\n",
    "\n",
    "Newspaper - 1.Mean = 30.55, 2.Std = 21.78, 3.Min = 0.30, Max = 114\n",
    "\n",
    "Sales - 1.Mean = 14.02, 2.Std = 5.22, 3.Min = 1.60, Max = 27\n"
   ]
  },
  {
   "cell_type": "markdown",
   "id": "04bcb723",
   "metadata": {},
   "source": [
    "#### Correlation"
   ]
  },
  {
   "cell_type": "code",
   "execution_count": 15,
   "id": "f969353c",
   "metadata": {},
   "outputs": [
    {
     "data": {
      "text/html": [
       "<div>\n",
       "<style scoped>\n",
       "    .dataframe tbody tr th:only-of-type {\n",
       "        vertical-align: middle;\n",
       "    }\n",
       "\n",
       "    .dataframe tbody tr th {\n",
       "        vertical-align: top;\n",
       "    }\n",
       "\n",
       "    .dataframe thead th {\n",
       "        text-align: right;\n",
       "    }\n",
       "</style>\n",
       "<table border=\"1\" class=\"dataframe\">\n",
       "  <thead>\n",
       "    <tr style=\"text-align: right;\">\n",
       "      <th></th>\n",
       "      <th>TV</th>\n",
       "      <th>radio</th>\n",
       "      <th>newspaper</th>\n",
       "      <th>sales</th>\n",
       "    </tr>\n",
       "  </thead>\n",
       "  <tbody>\n",
       "    <tr>\n",
       "      <th>TV</th>\n",
       "      <td>1.000000</td>\n",
       "      <td>0.049027</td>\n",
       "      <td>0.053002</td>\n",
       "      <td>0.781462</td>\n",
       "    </tr>\n",
       "    <tr>\n",
       "      <th>radio</th>\n",
       "      <td>0.049027</td>\n",
       "      <td>1.000000</td>\n",
       "      <td>0.349361</td>\n",
       "      <td>0.573310</td>\n",
       "    </tr>\n",
       "    <tr>\n",
       "      <th>newspaper</th>\n",
       "      <td>0.053002</td>\n",
       "      <td>0.349361</td>\n",
       "      <td>1.000000</td>\n",
       "      <td>0.224455</td>\n",
       "    </tr>\n",
       "    <tr>\n",
       "      <th>sales</th>\n",
       "      <td>0.781462</td>\n",
       "      <td>0.573310</td>\n",
       "      <td>0.224455</td>\n",
       "      <td>1.000000</td>\n",
       "    </tr>\n",
       "  </tbody>\n",
       "</table>\n",
       "</div>"
      ],
      "text/plain": [
       "                 TV     radio  newspaper     sales\n",
       "TV         1.000000  0.049027   0.053002  0.781462\n",
       "radio      0.049027  1.000000   0.349361  0.573310\n",
       "newspaper  0.053002  0.349361   1.000000  0.224455\n",
       "sales      0.781462  0.573310   0.224455  1.000000"
      ]
     },
     "execution_count": 15,
     "metadata": {},
     "output_type": "execute_result"
    }
   ],
   "source": [
    "df.corr()"
   ]
  },
  {
   "cell_type": "code",
   "execution_count": 16,
   "id": "941f7efd",
   "metadata": {},
   "outputs": [
    {
     "data": {
      "text/plain": [
       "<AxesSubplot:>"
      ]
     },
     "execution_count": 16,
     "metadata": {},
     "output_type": "execute_result"
    },
    {
     "data": {
      "image/png": "[encoded data removed]",
      "text/plain": [
       "<Figure size 504x432 with 2 Axes>"
      ]
     },
     "metadata": {
      "needs_background": "light"
     },
     "output_type": "display_data"
    }
   ],
   "source": [
    "plt.figure(figsize=(7,6))\n",
    "sns.heatmap(df.corr(),annot=True,cmap='Blues')"
   ]
  },
  {
   "cell_type": "markdown",
   "id": "c9a31fcb",
   "metadata": {},
   "source": [
    "#### Outcome of Correlation"
   ]
  },
  {
   "cell_type": "markdown",
   "id": "eb7f8177",
   "metadata": {},
   "source": [
    "From the above boxplot we can see that all the columns are positively correlated with Sales.\n",
    "\n",
    "TV has 78 percent correlation with Sales which consider to be a strong bond. Radio has 58 percent correlation with Sales which consider to be a good bond and Newspaper has 23 percent correlation with Sales."
   ]
  },
  {
   "cell_type": "code",
   "execution_count": 17,
   "id": "680150a0",
   "metadata": {},
   "outputs": [
    {
     "data": {
      "text/plain": [
       "TV           0\n",
       "radio        0\n",
       "newspaper    0\n",
       "sales        0\n",
       "dtype: int64"
      ]
     },
     "execution_count": 17,
     "metadata": {},
     "output_type": "execute_result"
    }
   ],
   "source": [
    "df.isnull().sum()"
   ]
  },
  {
   "cell_type": "markdown",
   "id": "0bcd9e81",
   "metadata": {},
   "source": [
    "There is no null value in dataset."
   ]
  },
  {
   "cell_type": "markdown",
   "id": "e9ee6775",
   "metadata": {},
   "source": [
    "#### Visualization"
   ]
  },
  {
   "cell_type": "code",
   "execution_count": 18,
   "id": "47fdeeff",
   "metadata": {},
   "outputs": [
    {
     "data": {
      "text/plain": [
       "<AxesSubplot:xlabel='TV', ylabel='sales'>"
      ]
     },
     "execution_count": 18,
     "metadata": {},
     "output_type": "execute_result"
    },
    {
     "data": {
      "image/png": "[encoded data removed]",
      "text/plain": [
       "<Figure size 648x504 with 1 Axes>"
      ]
     },
     "metadata": {
      "needs_background": "light"
     },
     "output_type": "display_data"
    }
   ],
   "source": [
    "plt.figure(figsize=(9,7))\n",
    "sns.lineplot(x = 'TV',y = 'sales', data=df)"
   ]
  },
  {
   "cell_type": "markdown",
   "id": "d8091be0",
   "metadata": {},
   "source": [
    "From above lineplot we can see that as the number of advertisement increases on TV, the number of sales increases.  "
   ]
  },
  {
   "cell_type": "code",
   "execution_count": 19,
   "id": "98878998",
   "metadata": {},
   "outputs": [
    {
     "data": {
      "text/plain": [
       "<AxesSubplot:xlabel='radio', ylabel='sales'>"
      ]
     },
     "execution_count": 19,
     "metadata": {},
     "output_type": "execute_result"
    },
    {
     "data": {
      "image/png": "[encoded data removed]",
      "text/plain": [
       "<Figure size 576x432 with 1 Axes>"
      ]
     },
     "metadata": {
      "needs_background": "light"
     },
     "output_type": "display_data"
    }
   ],
   "source": [
    "plt.figure(figsize=(8,6))\n",
    "sns.scatterplot(x = 'radio', y = 'sales', data=df) "
   ]
  },
  {
   "cell_type": "markdown",
   "id": "3d2d11f1",
   "metadata": {},
   "source": [
    "From the above scatterplot we can see that higher the number of advertisement on Radio, higher the sales of product. Radio and Sales are directly proportional to each other."
   ]
  },
  {
   "cell_type": "code",
   "execution_count": 20,
   "id": "203ce01c",
   "metadata": {},
   "outputs": [
    {
     "data": {
      "text/plain": [
       "<AxesSubplot:xlabel='newspaper', ylabel='sales'>"
      ]
     },
     "execution_count": 20,
     "metadata": {},
     "output_type": "execute_result"
    },
    {
     "data": {
      "image/png": "[encoded data removed]",
      "text/plain": [
       "<Figure size 720x504 with 1 Axes>"
      ]
     },
     "metadata": {
      "needs_background": "light"
     },
     "output_type": "display_data"
    }
   ],
   "source": [
    "plt.figure(figsize=(10,7))\n",
    "sns.regplot(x = 'newspaper',y = 'sales', data=df)"
   ]
  },
  {
   "cell_type": "markdown",
   "id": "172c7634",
   "metadata": {},
   "source": [
    "As we seen from above scatterplot less the number of advertisement in newspaper higher the Sales of product."
   ]
  },
  {
   "cell_type": "markdown",
   "id": "fa5879cc",
   "metadata": {},
   "source": [
    "### Checking Outliers"
   ]
  },
  {
   "cell_type": "code",
   "execution_count": 21,
   "id": "57085d13",
   "metadata": {},
   "outputs": [
    {
     "data": {
      "image/png": "[encoded data removed]",
      "text/plain": [
       "<Figure size 1584x648 with 1 Axes>"
      ]
     },
     "metadata": {
      "needs_background": "light"
     },
     "output_type": "display_data"
    }
   ],
   "source": [
    "df.boxplot(figsize=(22,9))\n",
    "plt.subplots\n",
    "plt.show()"
   ]
  },
  {
   "cell_type": "markdown",
   "id": "9e3b2089",
   "metadata": {},
   "source": [
    "From above boxplot we can see that only Newspaper have an outliers.\n",
    "TV, Radio and Sales have no outliers."
   ]
  },
  {
   "cell_type": "markdown",
   "id": "1391a47e",
   "metadata": {},
   "source": [
    "### Removing Outliers"
   ]
  },
  {
   "cell_type": "markdown",
   "id": "24a99843",
   "metadata": {},
   "source": [
    "#### Z Score Technique"
   ]
  },
  {
   "cell_type": "code",
   "execution_count": 22,
   "id": "1e23f298",
   "metadata": {},
   "outputs": [
    {
     "data": {
      "text/plain": [
       "(199, 4)"
      ]
     },
     "execution_count": 22,
     "metadata": {},
     "output_type": "execute_result"
    }
   ],
   "source": [
    "from scipy.stats import zscore\n",
    "z = np.abs(zscore(df))\n",
    "z.shape"
   ]
  },
  {
   "cell_type": "code",
   "execution_count": 23,
   "id": "ad3ee584",
   "metadata": {},
   "outputs": [
    {
     "name": "stdout",
     "output_type": "stream",
     "text": [
      "(array([ 16, 101], dtype=int64), array([2, 2], dtype=int64))\n"
     ]
    }
   ],
   "source": [
    "Threshold = 3\n",
    "print(np.where(z>3))"
   ]
  },
  {
   "cell_type": "code",
   "execution_count": 24,
   "id": "c8543284",
   "metadata": {},
   "outputs": [
    {
     "data": {
      "text/html": [
       "<div>\n",
       "<style scoped>\n",
       "    .dataframe tbody tr th:only-of-type {\n",
       "        vertical-align: middle;\n",
       "    }\n",
       "\n",
       "    .dataframe tbody tr th {\n",
       "        vertical-align: top;\n",
       "    }\n",
       "\n",
       "    .dataframe thead th {\n",
       "        text-align: right;\n",
       "    }\n",
       "</style>\n",
       "<table border=\"1\" class=\"dataframe\">\n",
       "  <thead>\n",
       "    <tr style=\"text-align: right;\">\n",
       "      <th></th>\n",
       "      <th>TV</th>\n",
       "      <th>radio</th>\n",
       "      <th>newspaper</th>\n",
       "      <th>sales</th>\n",
       "    </tr>\n",
       "  </thead>\n",
       "  <tbody>\n",
       "    <tr>\n",
       "      <th>0</th>\n",
       "      <td>230.1</td>\n",
       "      <td>37.8</td>\n",
       "      <td>69.2</td>\n",
       "      <td>22.1</td>\n",
       "    </tr>\n",
       "    <tr>\n",
       "      <th>1</th>\n",
       "      <td>44.5</td>\n",
       "      <td>39.3</td>\n",
       "      <td>45.1</td>\n",
       "      <td>10.4</td>\n",
       "    </tr>\n",
       "    <tr>\n",
       "      <th>2</th>\n",
       "      <td>17.2</td>\n",
       "      <td>45.9</td>\n",
       "      <td>69.3</td>\n",
       "      <td>9.3</td>\n",
       "    </tr>\n",
       "    <tr>\n",
       "      <th>3</th>\n",
       "      <td>151.5</td>\n",
       "      <td>41.3</td>\n",
       "      <td>58.5</td>\n",
       "      <td>18.5</td>\n",
       "    </tr>\n",
       "    <tr>\n",
       "      <th>4</th>\n",
       "      <td>180.8</td>\n",
       "      <td>10.8</td>\n",
       "      <td>58.4</td>\n",
       "      <td>12.9</td>\n",
       "    </tr>\n",
       "    <tr>\n",
       "      <th>...</th>\n",
       "      <td>...</td>\n",
       "      <td>...</td>\n",
       "      <td>...</td>\n",
       "      <td>...</td>\n",
       "    </tr>\n",
       "    <tr>\n",
       "      <th>195</th>\n",
       "      <td>38.2</td>\n",
       "      <td>3.7</td>\n",
       "      <td>13.8</td>\n",
       "      <td>7.6</td>\n",
       "    </tr>\n",
       "    <tr>\n",
       "      <th>196</th>\n",
       "      <td>94.2</td>\n",
       "      <td>4.9</td>\n",
       "      <td>8.1</td>\n",
       "      <td>9.7</td>\n",
       "    </tr>\n",
       "    <tr>\n",
       "      <th>197</th>\n",
       "      <td>177.0</td>\n",
       "      <td>9.3</td>\n",
       "      <td>6.4</td>\n",
       "      <td>12.8</td>\n",
       "    </tr>\n",
       "    <tr>\n",
       "      <th>198</th>\n",
       "      <td>283.6</td>\n",
       "      <td>42.0</td>\n",
       "      <td>66.2</td>\n",
       "      <td>25.5</td>\n",
       "    </tr>\n",
       "    <tr>\n",
       "      <th>199</th>\n",
       "      <td>232.1</td>\n",
       "      <td>8.6</td>\n",
       "      <td>8.7</td>\n",
       "      <td>13.4</td>\n",
       "    </tr>\n",
       "  </tbody>\n",
       "</table>\n",
       "<p>197 rows × 4 columns</p>\n",
       "</div>"
      ],
      "text/plain": [
       "        TV  radio  newspaper  sales\n",
       "0    230.1   37.8       69.2   22.1\n",
       "1     44.5   39.3       45.1   10.4\n",
       "2     17.2   45.9       69.3    9.3\n",
       "3    151.5   41.3       58.5   18.5\n",
       "4    180.8   10.8       58.4   12.9\n",
       "..     ...    ...        ...    ...\n",
       "195   38.2    3.7       13.8    7.6\n",
       "196   94.2    4.9        8.1    9.7\n",
       "197  177.0    9.3        6.4   12.8\n",
       "198  283.6   42.0       66.2   25.5\n",
       "199  232.1    8.6        8.7   13.4\n",
       "\n",
       "[197 rows x 4 columns]"
      ]
     },
     "execution_count": 24,
     "metadata": {},
     "output_type": "execute_result"
    }
   ],
   "source": [
    "ad = df[(z<3).all(axis=1)]\n",
    "ad"
   ]
  },
  {
   "cell_type": "markdown",
   "id": "07e6ee95",
   "metadata": {},
   "source": [
    "We removed the outliers from dataset by using Z Score technique."
   ]
  },
  {
   "cell_type": "markdown",
   "id": "bbf58dc1",
   "metadata": {},
   "source": [
    "### Seperating Features and Target"
   ]
  },
  {
   "cell_type": "code",
   "execution_count": 25,
   "id": "a64cbdb4",
   "metadata": {},
   "outputs": [
    {
     "data": {
      "text/html": [
       "<div>\n",
       "<style scoped>\n",
       "    .dataframe tbody tr th:only-of-type {\n",
       "        vertical-align: middle;\n",
       "    }\n",
       "\n",
       "    .dataframe tbody tr th {\n",
       "        vertical-align: top;\n",
       "    }\n",
       "\n",
       "    .dataframe thead th {\n",
       "        text-align: right;\n",
       "    }\n",
       "</style>\n",
       "<table border=\"1\" class=\"dataframe\">\n",
       "  <thead>\n",
       "    <tr style=\"text-align: right;\">\n",
       "      <th></th>\n",
       "      <th>TV</th>\n",
       "      <th>radio</th>\n",
       "      <th>newspaper</th>\n",
       "    </tr>\n",
       "  </thead>\n",
       "  <tbody>\n",
       "    <tr>\n",
       "      <th>0</th>\n",
       "      <td>230.1</td>\n",
       "      <td>37.8</td>\n",
       "      <td>69.2</td>\n",
       "    </tr>\n",
       "    <tr>\n",
       "      <th>1</th>\n",
       "      <td>44.5</td>\n",
       "      <td>39.3</td>\n",
       "      <td>45.1</td>\n",
       "    </tr>\n",
       "    <tr>\n",
       "      <th>2</th>\n",
       "      <td>17.2</td>\n",
       "      <td>45.9</td>\n",
       "      <td>69.3</td>\n",
       "    </tr>\n",
       "    <tr>\n",
       "      <th>3</th>\n",
       "      <td>151.5</td>\n",
       "      <td>41.3</td>\n",
       "      <td>58.5</td>\n",
       "    </tr>\n",
       "    <tr>\n",
       "      <th>4</th>\n",
       "      <td>180.8</td>\n",
       "      <td>10.8</td>\n",
       "      <td>58.4</td>\n",
       "    </tr>\n",
       "    <tr>\n",
       "      <th>...</th>\n",
       "      <td>...</td>\n",
       "      <td>...</td>\n",
       "      <td>...</td>\n",
       "    </tr>\n",
       "    <tr>\n",
       "      <th>195</th>\n",
       "      <td>38.2</td>\n",
       "      <td>3.7</td>\n",
       "      <td>13.8</td>\n",
       "    </tr>\n",
       "    <tr>\n",
       "      <th>196</th>\n",
       "      <td>94.2</td>\n",
       "      <td>4.9</td>\n",
       "      <td>8.1</td>\n",
       "    </tr>\n",
       "    <tr>\n",
       "      <th>197</th>\n",
       "      <td>177.0</td>\n",
       "      <td>9.3</td>\n",
       "      <td>6.4</td>\n",
       "    </tr>\n",
       "    <tr>\n",
       "      <th>198</th>\n",
       "      <td>283.6</td>\n",
       "      <td>42.0</td>\n",
       "      <td>66.2</td>\n",
       "    </tr>\n",
       "    <tr>\n",
       "      <th>199</th>\n",
       "      <td>232.1</td>\n",
       "      <td>8.6</td>\n",
       "      <td>8.7</td>\n",
       "    </tr>\n",
       "  </tbody>\n",
       "</table>\n",
       "<p>197 rows × 3 columns</p>\n",
       "</div>"
      ],
      "text/plain": [
       "        TV  radio  newspaper\n",
       "0    230.1   37.8       69.2\n",
       "1     44.5   39.3       45.1\n",
       "2     17.2   45.9       69.3\n",
       "3    151.5   41.3       58.5\n",
       "4    180.8   10.8       58.4\n",
       "..     ...    ...        ...\n",
       "195   38.2    3.7       13.8\n",
       "196   94.2    4.9        8.1\n",
       "197  177.0    9.3        6.4\n",
       "198  283.6   42.0       66.2\n",
       "199  232.1    8.6        8.7\n",
       "\n",
       "[197 rows x 3 columns]"
      ]
     },
     "execution_count": 25,
     "metadata": {},
     "output_type": "execute_result"
    }
   ],
   "source": [
    "x = ad.drop('sales',axis=1)\n",
    "x"
   ]
  },
  {
   "cell_type": "code",
   "execution_count": 26,
   "id": "04a5851a",
   "metadata": {},
   "outputs": [
    {
     "data": {
      "text/plain": [
       "0      22.1\n",
       "1      10.4\n",
       "2       9.3\n",
       "3      18.5\n",
       "4      12.9\n",
       "       ... \n",
       "195     7.6\n",
       "196     9.7\n",
       "197    12.8\n",
       "198    25.5\n",
       "199    13.4\n",
       "Name: sales, Length: 197, dtype: float64"
      ]
     },
     "execution_count": 26,
     "metadata": {},
     "output_type": "execute_result"
    }
   ],
   "source": [
    "y = ad['sales']\n",
    "y"
   ]
  },
  {
   "cell_type": "code",
   "execution_count": 27,
   "id": "05a31c2c",
   "metadata": {},
   "outputs": [
    {
     "data": {
      "text/plain": [
       "(197, 3)"
      ]
     },
     "execution_count": 27,
     "metadata": {},
     "output_type": "execute_result"
    }
   ],
   "source": [
    "x.shape"
   ]
  },
  {
   "cell_type": "code",
   "execution_count": 28,
   "id": "8d7fde24",
   "metadata": {},
   "outputs": [
    {
     "data": {
      "text/plain": [
       "(197,)"
      ]
     },
     "execution_count": 28,
     "metadata": {},
     "output_type": "execute_result"
    }
   ],
   "source": [
    "y.shape"
   ]
  },
  {
   "cell_type": "markdown",
   "id": "b8d1191b",
   "metadata": {},
   "source": [
    "### Skewness"
   ]
  },
  {
   "cell_type": "code",
   "execution_count": 29,
   "id": "f7a9ab25",
   "metadata": {},
   "outputs": [
    {
     "data": {
      "text/plain": [
       "newspaper    0.643323\n",
       "sales        0.398995\n",
       "radio        0.112327\n",
       "TV          -0.092047\n",
       "dtype: float64"
      ]
     },
     "execution_count": 29,
     "metadata": {},
     "output_type": "execute_result"
    }
   ],
   "source": [
    "ad.skew().sort_values(ascending=False)"
   ]
  },
  {
   "cell_type": "markdown",
   "id": "2ea71ca5",
   "metadata": {},
   "source": [
    "Outcome of the Skewness."
   ]
  },
  {
   "cell_type": "code",
   "execution_count": 30,
   "id": "290307a8",
   "metadata": {},
   "outputs": [
    {
     "data": {
      "text/plain": [
       "<function matplotlib.pyplot.show(close=None, block=None)>"
      ]
     },
     "execution_count": 30,
     "metadata": {},
     "output_type": "execute_result"
    },
    {
     "data": {
      "image/png": "[encoded data removed]",
      "text/plain": [
       "<Figure size 1872x1440 with 4 Axes>"
      ]
     },
     "metadata": {
      "needs_background": "light"
     },
     "output_type": "display_data"
    }
   ],
   "source": [
    "ad.plot(kind = 'density',subplots=True,layout=(2,2),figsize=(26,20),sharex=False)\n",
    "plt.show"
   ]
  },
  {
   "cell_type": "code",
   "execution_count": 31,
   "id": "18c1598a",
   "metadata": {},
   "outputs": [
    {
     "data": {
      "text/plain": [
       "newspaper    0.643323\n",
       "radio        0.112327\n",
       "TV          -0.092047\n",
       "dtype: float64"
      ]
     },
     "execution_count": 31,
     "metadata": {},
     "output_type": "execute_result"
    }
   ],
   "source": [
    "x.skew().sort_values(ascending=False)"
   ]
  },
  {
   "cell_type": "code",
   "execution_count": 32,
   "id": "d3ef24e8",
   "metadata": {},
   "outputs": [],
   "source": [
    "from sklearn.preprocessing import power_transform\n",
    "x1 = power_transform(x)"
   ]
  },
  {
   "cell_type": "code",
   "execution_count": 33,
   "id": "2c14c8c7",
   "metadata": {},
   "outputs": [
    {
     "data": {
      "text/plain": [
       "numpy.ndarray"
      ]
     },
     "execution_count": 33,
     "metadata": {},
     "output_type": "execute_result"
    }
   ],
   "source": [
    "type(x1)"
   ]
  },
  {
   "cell_type": "code",
   "execution_count": 34,
   "id": "e88fa77b",
   "metadata": {},
   "outputs": [
    {
     "data": {
      "text/plain": [
       "Index(['TV', 'radio', 'newspaper'], dtype='object')"
      ]
     },
     "execution_count": 34,
     "metadata": {},
     "output_type": "execute_result"
    }
   ],
   "source": [
    "x.columns"
   ]
  },
  {
   "cell_type": "code",
   "execution_count": 35,
   "id": "8d965647",
   "metadata": {},
   "outputs": [
    {
     "data": {
      "text/html": [
       "<div>\n",
       "<style scoped>\n",
       "    .dataframe tbody tr th:only-of-type {\n",
       "        vertical-align: middle;\n",
       "    }\n",
       "\n",
       "    .dataframe tbody tr th {\n",
       "        vertical-align: top;\n",
       "    }\n",
       "\n",
       "    .dataframe thead th {\n",
       "        text-align: right;\n",
       "    }\n",
       "</style>\n",
       "<table border=\"1\" class=\"dataframe\">\n",
       "  <thead>\n",
       "    <tr style=\"text-align: right;\">\n",
       "      <th></th>\n",
       "      <th>TV</th>\n",
       "      <th>radio</th>\n",
       "      <th>newspaper</th>\n",
       "    </tr>\n",
       "  </thead>\n",
       "  <tbody>\n",
       "    <tr>\n",
       "      <th>0</th>\n",
       "      <td>0.951750</td>\n",
       "      <td>0.966429</td>\n",
       "      <td>1.603432</td>\n",
       "    </tr>\n",
       "    <tr>\n",
       "      <th>1</th>\n",
       "      <td>-1.194449</td>\n",
       "      <td>1.044209</td>\n",
       "      <td>0.825675</td>\n",
       "    </tr>\n",
       "    <tr>\n",
       "      <th>2</th>\n",
       "      <td>-1.645315</td>\n",
       "      <td>1.373756</td>\n",
       "      <td>1.606308</td>\n",
       "    </tr>\n",
       "    <tr>\n",
       "      <th>3</th>\n",
       "      <td>0.137667</td>\n",
       "      <td>1.146171</td>\n",
       "      <td>1.280848</td>\n",
       "    </tr>\n",
       "    <tr>\n",
       "      <th>4</th>\n",
       "      <td>0.451397</td>\n",
       "      <td>-0.751124</td>\n",
       "      <td>1.277682</td>\n",
       "    </tr>\n",
       "    <tr>\n",
       "      <th>...</th>\n",
       "      <td>...</td>\n",
       "      <td>...</td>\n",
       "      <td>...</td>\n",
       "    </tr>\n",
       "    <tr>\n",
       "      <th>192</th>\n",
       "      <td>-1.290214</td>\n",
       "      <td>-1.444601</td>\n",
       "      <td>-0.694796</td>\n",
       "    </tr>\n",
       "    <tr>\n",
       "      <th>193</th>\n",
       "      <td>-0.526340</td>\n",
       "      <td>-1.307507</td>\n",
       "      <td>-1.151623</td>\n",
       "    </tr>\n",
       "    <tr>\n",
       "      <th>194</th>\n",
       "      <td>0.411481</td>\n",
       "      <td>-0.879467</td>\n",
       "      <td>-1.318927</td>\n",
       "    </tr>\n",
       "    <tr>\n",
       "      <th>195</th>\n",
       "      <td>1.464671</td>\n",
       "      <td>1.181408</td>\n",
       "      <td>1.516014</td>\n",
       "    </tr>\n",
       "    <tr>\n",
       "      <th>196</th>\n",
       "      <td>0.971435</td>\n",
       "      <td>-0.941858</td>\n",
       "      <td>-1.096911</td>\n",
       "    </tr>\n",
       "  </tbody>\n",
       "</table>\n",
       "<p>197 rows × 3 columns</p>\n",
       "</div>"
      ],
      "text/plain": [
       "           TV     radio  newspaper\n",
       "0    0.951750  0.966429   1.603432\n",
       "1   -1.194449  1.044209   0.825675\n",
       "2   -1.645315  1.373756   1.606308\n",
       "3    0.137667  1.146171   1.280848\n",
       "4    0.451397 -0.751124   1.277682\n",
       "..        ...       ...        ...\n",
       "192 -1.290214 -1.444601  -0.694796\n",
       "193 -0.526340 -1.307507  -1.151623\n",
       "194  0.411481 -0.879467  -1.318927\n",
       "195  1.464671  1.181408   1.516014\n",
       "196  0.971435 -0.941858  -1.096911\n",
       "\n",
       "[197 rows x 3 columns]"
      ]
     },
     "execution_count": 35,
     "metadata": {},
     "output_type": "execute_result"
    }
   ],
   "source": [
    "x = pd.DataFrame(x1,columns=x.columns)\n",
    "x"
   ]
  },
  {
   "cell_type": "code",
   "execution_count": 36,
   "id": "e3d59992",
   "metadata": {},
   "outputs": [
    {
     "data": {
      "text/plain": [
       "TV          -0.325394\n",
       "radio       -0.231984\n",
       "newspaper   -0.102682\n",
       "dtype: float64"
      ]
     },
     "execution_count": 36,
     "metadata": {},
     "output_type": "execute_result"
    }
   ],
   "source": [
    "sk = x.skew()\n",
    "sk"
   ]
  },
  {
   "cell_type": "markdown",
   "id": "927d4334",
   "metadata": {},
   "source": [
    "We remove the Skewness from dataset by using power transform and normalised the data."
   ]
  },
  {
   "cell_type": "markdown",
   "id": "ec9332aa",
   "metadata": {},
   "source": [
    "### Percent Data Loss"
   ]
  },
  {
   "cell_type": "code",
   "execution_count": 37,
   "id": "ce4aca23",
   "metadata": {},
   "outputs": [
    {
     "data": {
      "text/plain": [
       "1.0"
      ]
     },
     "execution_count": 37,
     "metadata": {},
     "output_type": "execute_result"
    }
   ],
   "source": [
    "percent_loss = (200-198)/200*100\n",
    "percent_loss"
   ]
  },
  {
   "cell_type": "markdown",
   "id": "2bb973fc",
   "metadata": {},
   "source": [
    "only 1 percent loss in dataset."
   ]
  },
  {
   "cell_type": "markdown",
   "id": "2077d895",
   "metadata": {},
   "source": [
    "### Scaling the Data"
   ]
  },
  {
   "cell_type": "code",
   "execution_count": 38,
   "id": "dcdc8df5",
   "metadata": {},
   "outputs": [],
   "source": [
    "from sklearn.preprocessing import MinMaxScaler\n",
    "mns = MinMaxScaler()\n",
    "\n",
    "from sklearn.linear_model import LinearRegression,Ridge,Lasso\n",
    "lr = LinearRegression()\n",
    "\n",
    "from sklearn.tree import DecisionTreeRegressor\n",
    "from sklearn.ensemble import RandomForestRegressor\n",
    "from sklearn.ensemble import ExtraTreesRegressor\n",
    "\n",
    "from sklearn.metrics import r2_score\n",
    "from sklearn.model_selection import train_test_split"
   ]
  },
  {
   "cell_type": "code",
   "execution_count": 39,
   "id": "72b58771",
   "metadata": {},
   "outputs": [
    {
     "name": "stdout",
     "output_type": "stream",
     "text": [
      "At random state 0,the training accuracy is:-0.9063283715563664\n",
      "At random state 0,the testing accuracy is:-0.9035128396422325\n",
      "\n",
      "\n",
      "At random state 1,the training accuracy is:-0.9121334459954556\n",
      "At random state 1,the testing accuracy is:-0.8772185464147984\n",
      "\n",
      "\n",
      "At random state 2,the training accuracy is:-0.9143073341863888\n",
      "At random state 2,the testing accuracy is:-0.8787326703943422\n",
      "\n",
      "\n",
      "At random state 3,the training accuracy is:-0.9038292459974516\n",
      "At random state 3,the testing accuracy is:-0.899152788528259\n",
      "\n",
      "\n",
      "At random state 4,the training accuracy is:-0.9082908631624187\n",
      "At random state 4,the testing accuracy is:-0.8930260941494106\n",
      "\n",
      "\n",
      "At random state 5,the training accuracy is:-0.9069224561198714\n",
      "At random state 5,the testing accuracy is:-0.8888860086938958\n",
      "\n",
      "\n",
      "At random state 6,the training accuracy is:-0.8996780233253038\n",
      "At random state 6,the testing accuracy is:-0.9267011628110835\n",
      "\n",
      "\n",
      "At random state 7,the training accuracy is:-0.904738081717063\n",
      "At random state 7,the testing accuracy is:-0.9060900405918185\n",
      "\n",
      "\n",
      "At random state 8,the training accuracy is:-0.9106841251200272\n",
      "At random state 8,the testing accuracy is:-0.8877812143403164\n",
      "\n",
      "\n",
      "At random state 9,the training accuracy is:-0.9144979530879247\n",
      "At random state 9,the testing accuracy is:-0.8682187947837421\n",
      "\n",
      "\n",
      "At random state 10,the training accuracy is:-0.9161598782120951\n",
      "At random state 10,the testing accuracy is:-0.8650025117716617\n",
      "\n",
      "\n",
      "At random state 11,the training accuracy is:-0.8970419164203408\n",
      "At random state 11,the testing accuracy is:-0.9275747749872758\n",
      "\n",
      "\n",
      "At random state 12,the training accuracy is:-0.90276340285128\n",
      "At random state 12,the testing accuracy is:-0.9176023168328846\n",
      "\n",
      "\n",
      "At random state 13,the training accuracy is:-0.9087906974625443\n",
      "At random state 13,the testing accuracy is:-0.8950155759704698\n",
      "\n",
      "\n",
      "At random state 14,the training accuracy is:-0.9091808058095836\n",
      "At random state 14,the testing accuracy is:-0.8938310083353214\n",
      "\n",
      "\n",
      "At random state 15,the training accuracy is:-0.9009370143856741\n",
      "At random state 15,the testing accuracy is:-0.9234235317170738\n",
      "\n",
      "\n",
      "At random state 16,the training accuracy is:-0.9041362723109958\n",
      "At random state 16,the testing accuracy is:-0.9060158421035749\n",
      "\n",
      "\n",
      "At random state 17,the training accuracy is:-0.9079235187360988\n",
      "At random state 17,the testing accuracy is:-0.8991939227701267\n",
      "\n",
      "\n",
      "At random state 18,the training accuracy is:-0.9053618073306193\n",
      "At random state 18,the testing accuracy is:-0.9060176783498148\n",
      "\n",
      "\n",
      "At random state 19,the training accuracy is:-0.9189787136348027\n",
      "At random state 19,the testing accuracy is:-0.8641117108529008\n",
      "\n",
      "\n",
      "At random state 20,the training accuracy is:-0.9123443027792942\n",
      "At random state 20,the testing accuracy is:-0.8841268504365059\n",
      "\n",
      "\n",
      "At random state 21,the training accuracy is:-0.9066489280355858\n",
      "At random state 21,the testing accuracy is:-0.9020678722824417\n",
      "\n",
      "\n",
      "At random state 22,the training accuracy is:-0.8990641602484382\n",
      "At random state 22,the testing accuracy is:-0.9303821420067286\n",
      "\n",
      "\n",
      "At random state 23,the training accuracy is:-0.9106056643687788\n",
      "At random state 23,the testing accuracy is:-0.888942711914656\n",
      "\n",
      "\n",
      "At random state 24,the training accuracy is:-0.9123727124060159\n",
      "At random state 24,the testing accuracy is:-0.8769125145727259\n",
      "\n",
      "\n",
      "At random state 25,the training accuracy is:-0.9026732081194262\n",
      "At random state 25,the testing accuracy is:-0.9185734051257095\n",
      "\n",
      "\n",
      "At random state 26,the training accuracy is:-0.9067386732346303\n",
      "At random state 26,the testing accuracy is:-0.9030355336811511\n",
      "\n",
      "\n",
      "At random state 27,the training accuracy is:-0.9043617023386145\n",
      "At random state 27,the testing accuracy is:-0.9048035308529842\n",
      "\n",
      "\n",
      "At random state 28,the training accuracy is:-0.9030136515752967\n",
      "At random state 28,the testing accuracy is:-0.9150598146016261\n",
      "\n",
      "\n",
      "At random state 29,the training accuracy is:-0.9169004278191685\n",
      "At random state 29,the testing accuracy is:-0.8447154165433642\n",
      "\n",
      "\n",
      "At random state 30,the training accuracy is:-0.9074865603015974\n",
      "At random state 30,the testing accuracy is:-0.8965340099756048\n",
      "\n",
      "\n",
      "At random state 31,the training accuracy is:-0.908244594137168\n",
      "At random state 31,the testing accuracy is:-0.8977405119487364\n",
      "\n",
      "\n",
      "At random state 32,the training accuracy is:-0.9132996813523389\n",
      "At random state 32,the testing accuracy is:-0.8791283676206141\n",
      "\n",
      "\n",
      "At random state 33,the training accuracy is:-0.9041294096409284\n",
      "At random state 33,the testing accuracy is:-0.9051990878492704\n",
      "\n",
      "\n",
      "At random state 34,the training accuracy is:-0.9022132969587822\n",
      "At random state 34,the testing accuracy is:-0.9167548896335177\n",
      "\n",
      "\n",
      "At random state 35,the training accuracy is:-0.9022085335588618\n",
      "At random state 35,the testing accuracy is:-0.9142931457152964\n",
      "\n",
      "\n",
      "At random state 36,the training accuracy is:-0.8993932904329964\n",
      "At random state 36,the testing accuracy is:-0.9295266046779017\n",
      "\n",
      "\n",
      "At random state 37,the training accuracy is:-0.9053896010791411\n",
      "At random state 37,the testing accuracy is:-0.907331305294372\n",
      "\n",
      "\n",
      "At random state 38,the training accuracy is:-0.904621836776028\n",
      "At random state 38,the testing accuracy is:-0.906836341504283\n",
      "\n",
      "\n",
      "At random state 39,the training accuracy is:-0.90611012227409\n",
      "At random state 39,the testing accuracy is:-0.9025570551492688\n",
      "\n",
      "\n",
      "At random state 40,the training accuracy is:-0.9120291022807097\n",
      "At random state 40,the testing accuracy is:-0.8692746694308425\n",
      "\n",
      "\n",
      "At random state 41,the training accuracy is:-0.9001470727892006\n",
      "At random state 41,the testing accuracy is:-0.9087226457241971\n",
      "\n",
      "\n",
      "At random state 42,the training accuracy is:-0.9076739829158096\n",
      "At random state 42,the testing accuracy is:-0.8984789591723366\n",
      "\n",
      "\n",
      "At random state 43,the training accuracy is:-0.8959146897654128\n",
      "At random state 43,the testing accuracy is:-0.9377012740978711\n",
      "\n",
      "\n",
      "At random state 44,the training accuracy is:-0.9100531601864085\n",
      "At random state 44,the testing accuracy is:-0.8674393219882084\n",
      "\n",
      "\n",
      "At random state 45,the training accuracy is:-0.9029809690999193\n",
      "At random state 45,the testing accuracy is:-0.9154540526032725\n",
      "\n",
      "\n",
      "At random state 46,the training accuracy is:-0.9104896246130776\n",
      "At random state 46,the testing accuracy is:-0.8733292277891369\n",
      "\n",
      "\n",
      "At random state 47,the training accuracy is:-0.9019764988672366\n",
      "At random state 47,the testing accuracy is:-0.9225102629707718\n",
      "\n",
      "\n",
      "At random state 48,the training accuracy is:-0.9022922411801005\n",
      "At random state 48,the testing accuracy is:-0.9218577325392399\n",
      "\n",
      "\n",
      "At random state 49,the training accuracy is:-0.9173633123230699\n",
      "At random state 49,the testing accuracy is:-0.8481734705764026\n",
      "\n",
      "\n",
      "At random state 50,the training accuracy is:-0.9087771433501155\n",
      "At random state 50,the testing accuracy is:-0.888616589477486\n",
      "\n",
      "\n",
      "At random state 51,the training accuracy is:-0.9127562314583664\n",
      "At random state 51,the testing accuracy is:-0.8798933241751686\n",
      "\n",
      "\n",
      "At random state 52,the training accuracy is:-0.9096091850679882\n",
      "At random state 52,the testing accuracy is:-0.8846224118563886\n",
      "\n",
      "\n",
      "At random state 53,the training accuracy is:-0.9070589665454242\n",
      "At random state 53,the testing accuracy is:-0.8944118545698034\n",
      "\n",
      "\n",
      "At random state 54,the training accuracy is:-0.9190794668843351\n",
      "At random state 54,the testing accuracy is:-0.856767841749571\n",
      "\n",
      "\n",
      "At random state 55,the training accuracy is:-0.9058671776083003\n",
      "At random state 55,the testing accuracy is:-0.90450118570665\n",
      "\n",
      "\n",
      "At random state 56,the training accuracy is:-0.8994182715551016\n",
      "At random state 56,the testing accuracy is:-0.9373656063161925\n",
      "\n",
      "\n",
      "At random state 57,the training accuracy is:-0.8993717116256429\n",
      "At random state 57,the testing accuracy is:-0.9320356355625998\n",
      "\n",
      "\n",
      "At random state 58,the training accuracy is:-0.8988253752254499\n",
      "At random state 58,the testing accuracy is:-0.9204022579222676\n",
      "\n",
      "\n",
      "At random state 59,the training accuracy is:-0.9017504773118983\n",
      "At random state 59,the testing accuracy is:-0.9240935737637037\n",
      "\n",
      "\n",
      "At random state 60,the training accuracy is:-0.897460259794708\n",
      "At random state 60,the testing accuracy is:-0.9224954950465605\n",
      "\n",
      "\n",
      "At random state 61,the training accuracy is:-0.91592219166508\n",
      "At random state 61,the testing accuracy is:-0.8702543662399238\n",
      "\n",
      "\n",
      "At random state 62,the training accuracy is:-0.9069281856772834\n",
      "At random state 62,the testing accuracy is:-0.8986086568903247\n",
      "\n",
      "\n",
      "At random state 63,the training accuracy is:-0.9070467023704487\n",
      "At random state 63,the testing accuracy is:-0.8998945763010409\n",
      "\n",
      "\n",
      "At random state 64,the training accuracy is:-0.9001595100491743\n",
      "At random state 64,the testing accuracy is:-0.9242183672842522\n",
      "\n",
      "\n",
      "At random state 65,the training accuracy is:-0.9104457680466705\n",
      "At random state 65,the testing accuracy is:-0.8894532839926901\n",
      "\n",
      "\n",
      "At random state 66,the training accuracy is:-0.9149070430125658\n",
      "At random state 66,the testing accuracy is:-0.8508988992974529\n",
      "\n",
      "\n",
      "At random state 67,the training accuracy is:-0.9144565559800097\n",
      "At random state 67,the testing accuracy is:-0.8640934174184682\n",
      "\n",
      "\n",
      "At random state 68,the training accuracy is:-0.9000917117780899\n",
      "At random state 68,the testing accuracy is:-0.9235747282787427\n",
      "\n",
      "\n",
      "At random state 69,the training accuracy is:-0.9107822236244286\n",
      "At random state 69,the testing accuracy is:-0.8741735577541191\n",
      "\n",
      "\n",
      "At random state 70,the training accuracy is:-0.9089876118071698\n",
      "At random state 70,the testing accuracy is:-0.8895414483790662\n",
      "\n",
      "\n",
      "At random state 71,the training accuracy is:-0.9023297954534194\n",
      "At random state 71,the testing accuracy is:-0.9140237558262957\n",
      "\n",
      "\n",
      "At random state 72,the training accuracy is:-0.907431437200543\n",
      "At random state 72,the testing accuracy is:-0.8941099694396082\n",
      "\n",
      "\n",
      "At random state 73,the training accuracy is:-0.9051572531793213\n",
      "At random state 73,the testing accuracy is:-0.9103401470494211\n",
      "\n",
      "\n",
      "At random state 74,the training accuracy is:-0.8926094874081543\n",
      "At random state 74,the testing accuracy is:-0.9227728180323067\n",
      "\n",
      "\n",
      "At random state 75,the training accuracy is:-0.9010571448847703\n",
      "At random state 75,the testing accuracy is:-0.9172861436711719\n",
      "\n",
      "\n",
      "At random state 76,the training accuracy is:-0.9145976745995268\n",
      "At random state 76,the testing accuracy is:-0.8604498553888864\n",
      "\n",
      "\n",
      "At random state 77,the training accuracy is:-0.9046267368065406\n",
      "At random state 77,the testing accuracy is:-0.9060848481988144\n",
      "\n",
      "\n",
      "At random state 78,the training accuracy is:-0.9110023565338715\n",
      "At random state 78,the testing accuracy is:-0.8736500151990778\n",
      "\n",
      "\n",
      "At random state 79,the training accuracy is:-0.9007337526239786\n",
      "At random state 79,the testing accuracy is:-0.9259959251655228\n",
      "\n",
      "\n",
      "At random state 80,the training accuracy is:-0.8991352270471352\n",
      "At random state 80,the testing accuracy is:-0.9301543523193142\n",
      "\n",
      "\n",
      "At random state 81,the training accuracy is:-0.9050865178092332\n",
      "At random state 81,the testing accuracy is:-0.9091097053755716\n",
      "\n",
      "\n",
      "At random state 82,the training accuracy is:-0.9214276944863138\n",
      "At random state 82,the testing accuracy is:-0.8504448394383834\n",
      "\n",
      "\n",
      "At random state 83,the training accuracy is:-0.9131150225422436\n",
      "At random state 83,the testing accuracy is:-0.8804804572567827\n",
      "\n",
      "\n",
      "At random state 84,the training accuracy is:-0.9159656689931519\n",
      "At random state 84,the testing accuracy is:-0.8668023533215548\n",
      "\n",
      "\n",
      "At random state 85,the training accuracy is:-0.9162766674041827\n",
      "At random state 85,the testing accuracy is:-0.8059000470999595\n",
      "\n",
      "\n",
      "At random state 86,the training accuracy is:-0.9059694049075522\n",
      "At random state 86,the testing accuracy is:-0.8947269217499849\n",
      "\n",
      "\n",
      "At random state 87,the training accuracy is:-0.9068777058834303\n",
      "At random state 87,the testing accuracy is:-0.8927616846372477\n",
      "\n",
      "\n",
      "At random state 88,the training accuracy is:-0.9097769703604743\n",
      "At random state 88,the testing accuracy is:-0.8902166393302228\n",
      "\n",
      "\n",
      "At random state 89,the training accuracy is:-0.9155485170078805\n",
      "At random state 89,the testing accuracy is:-0.8249522546677792\n",
      "\n",
      "\n",
      "At random state 90,the training accuracy is:-0.8903561870166075\n",
      "At random state 90,the testing accuracy is:-0.9502881575639546\n",
      "\n",
      "\n",
      "At random state 91,the training accuracy is:-0.8982783689586286\n",
      "At random state 91,the testing accuracy is:-0.9269690463556421\n",
      "\n",
      "\n",
      "At random state 92,the training accuracy is:-0.9055705729256573\n",
      "At random state 92,the testing accuracy is:-0.8970857134843347\n",
      "\n",
      "\n",
      "At random state 93,the training accuracy is:-0.9103552793911813\n",
      "At random state 93,the testing accuracy is:-0.8742934491548155\n",
      "\n",
      "\n",
      "At random state 94,the training accuracy is:-0.9103998203809105\n",
      "At random state 94,the testing accuracy is:-0.8889118457608981\n",
      "\n",
      "\n",
      "At random state 95,the training accuracy is:-0.9038056945062397\n",
      "At random state 95,the testing accuracy is:-0.9104529762225455\n",
      "\n",
      "\n",
      "At random state 96,the training accuracy is:-0.9253856977816085\n",
      "At random state 96,the testing accuracy is:-0.852936312773137\n",
      "\n",
      "\n",
      "At random state 97,the training accuracy is:-0.9060397075131544\n",
      "At random state 97,the testing accuracy is:-0.9024803993009969\n",
      "\n",
      "\n",
      "At random state 98,the training accuracy is:-0.9044233781854466\n",
      "At random state 98,the testing accuracy is:-0.9087096549620658\n",
      "\n",
      "\n",
      "At random state 99,the training accuracy is:-0.8975787088287505\n",
      "At random state 99,the testing accuracy is:-0.9403362834683363\n",
      "\n",
      "\n"
     ]
    }
   ],
   "source": [
    "for i in range(0,100):\n",
    "    x_train,x_test,y_train,y_test = train_test_split(x,y,test_size=.20,random_state=i)\n",
    "    lr.fit(x_train,y_train)\n",
    "    pred_tr = lr.predict(x_train)\n",
    "    pred_ts = lr.predict(x_test)\n",
    "    print(f\"At random state {i},the training accuracy is:-{r2_score(y_train,pred_tr)}\")\n",
    "    print(f\"At random state {i},the testing accuracy is:-{r2_score(y_test,pred_ts)}\")\n",
    "    print(\"\\n\")"
   ]
  },
  {
   "cell_type": "code",
   "execution_count": 40,
   "id": "8af661d9",
   "metadata": {},
   "outputs": [],
   "source": [
    "x_train,x_test,y_train,y_test = train_test_split(x,y,test_size=.20,random_state=79)"
   ]
  },
  {
   "cell_type": "code",
   "execution_count": 41,
   "id": "f2768a08",
   "metadata": {},
   "outputs": [
    {
     "data": {
      "text/plain": [
       "(157, 3)"
      ]
     },
     "execution_count": 41,
     "metadata": {},
     "output_type": "execute_result"
    }
   ],
   "source": [
    "x_train.shape"
   ]
  },
  {
   "cell_type": "code",
   "execution_count": 42,
   "id": "40964694",
   "metadata": {},
   "outputs": [
    {
     "data": {
      "text/plain": [
       "(40, 3)"
      ]
     },
     "execution_count": 42,
     "metadata": {},
     "output_type": "execute_result"
    }
   ],
   "source": [
    "x_test.shape"
   ]
  },
  {
   "cell_type": "code",
   "execution_count": 43,
   "id": "6b4ca03a",
   "metadata": {},
   "outputs": [
    {
     "data": {
      "text/plain": [
       "(157,)"
      ]
     },
     "execution_count": 43,
     "metadata": {},
     "output_type": "execute_result"
    }
   ],
   "source": [
    "y_train.shape"
   ]
  },
  {
   "cell_type": "code",
   "execution_count": 44,
   "id": "4c0d664b",
   "metadata": {},
   "outputs": [
    {
     "data": {
      "text/plain": [
       "(40,)"
      ]
     },
     "execution_count": 44,
     "metadata": {},
     "output_type": "execute_result"
    }
   ],
   "source": [
    "y_test.shape"
   ]
  },
  {
   "cell_type": "code",
   "execution_count": 45,
   "id": "8f3a9268",
   "metadata": {},
   "outputs": [
    {
     "data": {
      "text/plain": [
       "LinearRegression()"
      ]
     },
     "execution_count": 45,
     "metadata": {},
     "output_type": "execute_result"
    }
   ],
   "source": [
    "lr.fit(x_train,y_train)"
   ]
  },
  {
   "cell_type": "code",
   "execution_count": 46,
   "id": "fd421b17",
   "metadata": {},
   "outputs": [],
   "source": [
    "pred_ts = lr.predict(x_test)"
   ]
  },
  {
   "cell_type": "code",
   "execution_count": 47,
   "id": "22aaefec",
   "metadata": {},
   "outputs": [
    {
     "name": "stdout",
     "output_type": "stream",
     "text": [
      "0.9259959251655228\n"
     ]
    }
   ],
   "source": [
    "print(r2_score(y_test,pred_ts))"
   ]
  },
  {
   "cell_type": "markdown",
   "id": "41b2b3a2",
   "metadata": {},
   "source": [
    "We calculate the accuracy score for trainig and testing data. We split the training and testing data and calculated the r2 score."
   ]
  },
  {
   "cell_type": "markdown",
   "id": "849007ed",
   "metadata": {},
   "source": [
    "### Cross Validation"
   ]
  },
  {
   "cell_type": "code",
   "execution_count": 48,
   "id": "c27f08eb",
   "metadata": {},
   "outputs": [
    {
     "name": "stdout",
     "output_type": "stream",
     "text": [
      "At cross fold2 the cv score 0.9022129576494526 and accuracy score for training is -1.1225868899777103 and accuracy for testing is 0.9259959251655228\n",
      "\n",
      "\n",
      "At cross fold3 the cv score 0.8992268977301769 and accuracy score for training is -1.1225868899777103 and accuracy for testing is 0.9259959251655228\n",
      "\n",
      "\n",
      "At cross fold4 the cv score 0.9002535117911487 and accuracy score for training is -1.1225868899777103 and accuracy for testing is 0.9259959251655228\n",
      "\n",
      "\n",
      "At cross fold5 the cv score 0.8954917094183215 and accuracy score for training is -1.1225868899777103 and accuracy for testing is 0.9259959251655228\n",
      "\n",
      "\n",
      "At cross fold6 the cv score 0.9001610076118324 and accuracy score for training is -1.1225868899777103 and accuracy for testing is 0.9259959251655228\n",
      "\n",
      "\n",
      "At cross fold7 the cv score 0.8967749648546117 and accuracy score for training is -1.1225868899777103 and accuracy for testing is 0.9259959251655228\n",
      "\n",
      "\n",
      "At cross fold8 the cv score 0.898547956709125 and accuracy score for training is -1.1225868899777103 and accuracy for testing is 0.9259959251655228\n",
      "\n",
      "\n",
      "At cross fold9 the cv score 0.8928785991358126 and accuracy score for training is -1.1225868899777103 and accuracy for testing is 0.9259959251655228\n",
      "\n",
      "\n"
     ]
    }
   ],
   "source": [
    "tr_accu = r2_score(y_train,pred_tr)\n",
    "ts_accu = r2_score(y_test,pred_ts)\n",
    "\n",
    "from sklearn.model_selection import cross_val_score\n",
    "for j in range(2,10):\n",
    "    cv_score = cross_val_score(lr,x,y,cv=j)\n",
    "    cv_mean = cv_score.mean()\n",
    "    print(f\"At cross fold{j} the cv score {cv_mean} and accuracy score for training is {tr_accu} and accuracy for testing is {ts_accu}\")\n",
    "    print(\"\\n\")"
   ]
  },
  {
   "cell_type": "markdown",
   "id": "51e49277",
   "metadata": {},
   "source": [
    "We calculate the cross validation score and accuracy score for training and testing data."
   ]
  },
  {
   "cell_type": "code",
   "execution_count": 49,
   "id": "0c74fbb6",
   "metadata": {},
   "outputs": [],
   "source": [
    "def train(model,x,y):\n",
    "    model.fit(x,y)\n",
    "    pred = model.predict(x)"
   ]
  },
  {
   "cell_type": "code",
   "execution_count": 50,
   "id": "e1160675",
   "metadata": {},
   "outputs": [
    {
     "data": {
      "text/plain": [
       "<AxesSubplot:title={'center':'Model Coefficients'}>"
      ]
     },
     "execution_count": 50,
     "metadata": {},
     "output_type": "execute_result"
    },
    {
     "data": {
      "image/png": "[encoded data removed]",
      "text/plain": [
       "<Figure size 432x288 with 1 Axes>"
      ]
     },
     "metadata": {
      "needs_background": "light"
     },
     "output_type": "display_data"
    }
   ],
   "source": [
    "model = LinearRegression()\n",
    "train(model,x,y)\n",
    "coef = pd.Series(model.coef_,x.columns).sort_values()\n",
    "coef.plot(kind = 'bar',title = 'Model Coefficients')"
   ]
  },
  {
   "cell_type": "code",
   "execution_count": 51,
   "id": "9fac8783",
   "metadata": {},
   "outputs": [
    {
     "data": {
      "text/plain": [
       "<AxesSubplot:title={'center':'Model Coefficients'}>"
      ]
     },
     "execution_count": 51,
     "metadata": {},
     "output_type": "execute_result"
    },
    {
     "data": {
      "image/png": "[encoded data removed]",
      "text/plain": [
       "<Figure size 432x288 with 1 Axes>"
      ]
     },
     "metadata": {
      "needs_background": "light"
     },
     "output_type": "display_data"
    }
   ],
   "source": [
    "model = Ridge(normalize=True)\n",
    "train(model,x,y)\n",
    "coef = pd.Series(model.coef_,x.columns).sort_values()\n",
    "coef.plot(kind = 'bar',title = 'Model Coefficients')"
   ]
  },
  {
   "cell_type": "code",
   "execution_count": 52,
   "id": "dbe5377c",
   "metadata": {},
   "outputs": [
    {
     "data": {
      "text/plain": [
       "<AxesSubplot:title={'center':'Model Coefficients'}>"
      ]
     },
     "execution_count": 52,
     "metadata": {},
     "output_type": "execute_result"
    },
    {
     "data": {
      "image/png": "[encoded data removed]",
      "text/plain": [
       "<Figure size 432x288 with 1 Axes>"
      ]
     },
     "metadata": {
      "needs_background": "light"
     },
     "output_type": "display_data"
    }
   ],
   "source": [
    "model = Lasso()\n",
    "train(model,x,y)\n",
    "coef = pd.Series(model.coef_,x.columns).sort_values()\n",
    "coef.plot(kind = 'bar',title = 'Model Coefficients')"
   ]
  },
  {
   "cell_type": "code",
   "execution_count": 53,
   "id": "f286b63e",
   "metadata": {},
   "outputs": [
    {
     "data": {
      "text/plain": [
       "<AxesSubplot:title={'center':'Feature Importance'}>"
      ]
     },
     "execution_count": 53,
     "metadata": {},
     "output_type": "execute_result"
    },
    {
     "data": {
      "image/png": "[encoded data removed]",
      "text/plain": [
       "<Figure size 432x288 with 1 Axes>"
      ]
     },
     "metadata": {
      "needs_background": "light"
     },
     "output_type": "display_data"
    }
   ],
   "source": [
    "model = DecisionTreeRegressor()\n",
    "train(model,x,y)\n",
    "coef = pd.Series(model.feature_importances_,x.columns).sort_values(ascending=False)\n",
    "coef.plot(kind = 'bar',title = 'Feature Importance')"
   ]
  },
  {
   "cell_type": "code",
   "execution_count": 54,
   "id": "ee61908b",
   "metadata": {},
   "outputs": [
    {
     "data": {
      "text/plain": [
       "<AxesSubplot:title={'center':'Feature Importance'}>"
      ]
     },
     "execution_count": 54,
     "metadata": {},
     "output_type": "execute_result"
    },
    {
     "data": {
      "image/png": "[encoded data removed]",
      "text/plain": [
       "<Figure size 432x288 with 1 Axes>"
      ]
     },
     "metadata": {
      "needs_background": "light"
     },
     "output_type": "display_data"
    }
   ],
   "source": [
    "model = RandomForestRegressor()\n",
    "train(model,x,y)\n",
    "coef = pd.Series(model.feature_importances_,x.columns).sort_values()\n",
    "coef.plot(kind = 'bar',title = 'Feature Importance')"
   ]
  },
  {
   "cell_type": "code",
   "execution_count": 55,
   "id": "1fdba4ba",
   "metadata": {},
   "outputs": [
    {
     "data": {
      "text/plain": [
       "<AxesSubplot:title={'center':'Feature Importance'}>"
      ]
     },
     "execution_count": 55,
     "metadata": {},
     "output_type": "execute_result"
    },
    {
     "data": {
      "image/png": "[encoded data removed]",
      "text/plain": [
       "<Figure size 432x288 with 1 Axes>"
      ]
     },
     "metadata": {
      "needs_background": "light"
     },
     "output_type": "display_data"
    }
   ],
   "source": [
    "model = ExtraTreesRegressor()\n",
    "train(model,x,y)\n",
    "coef = pd.Series(model.feature_importances_,x.columns).sort_values()\n",
    "coef.plot(kind = 'bar',title = 'Feature Importance')"
   ]
  },
  {
   "cell_type": "markdown",
   "id": "a41090e3",
   "metadata": {},
   "source": [
    "We used Ridge model here because it shows the proper barplot of Sales,generated by advertisement. Hence we continue with Ridge model."
   ]
  },
  {
   "cell_type": "markdown",
   "id": "c3b8feaa",
   "metadata": {},
   "source": [
    "### Hyper Parameter Tuning"
   ]
  },
  {
   "cell_type": "code",
   "execution_count": 58,
   "id": "7feca0a7",
   "metadata": {},
   "outputs": [
    {
     "data": {
      "text/plain": [
       "Ridge()"
      ]
     },
     "execution_count": 58,
     "metadata": {},
     "output_type": "execute_result"
    }
   ],
   "source": [
    "Ridge()"
   ]
  },
  {
   "cell_type": "markdown",
   "id": "e56aaa1b",
   "metadata": {},
   "source": [
    "### Saving the Model"
   ]
  },
  {
   "cell_type": "code",
   "execution_count": 60,
   "id": "9e530b6b",
   "metadata": {},
   "outputs": [],
   "source": [
    "import pickle\n",
    "filename = 'Advertising Sales Channel Prediction.pkl'\n",
    "pickle.dump(Ridge,open(filename,'wb'))"
   ]
  },
  {
   "cell_type": "code",
   "execution_count": null,
   "id": "25029649",
   "metadata": {},
   "outputs": [],
   "source": []
  }
 ],
 "metadata": {
  "kernelspec": {
   "display_name": "Python 3",
   "language": "python",
   "name": "python3"
  },
  "language_info": {
   "codemirror_mode": {
    "name": "ipython",
    "version": 3
   },
   "file_extension": ".py",
   "mimetype": "text/x-python",
   "name": "python",
   "nbconvert_exporter": "python",
   "pygments_lexer": "ipython3",
   "version": "3.8.8"
  }
 },
 "nbformat": 4,
 "nbformat_minor": 5
}

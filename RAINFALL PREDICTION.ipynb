{
 "cells": [
  {
   "cell_type": "markdown",
   "id": "71bf5fd6",
   "metadata": {},
   "source": [
    "# RAINFALL PREDICTION WEATHER FORECASTING"
   ]
  },
  {
   "cell_type": "markdown",
   "id": "c3f4cdef",
   "metadata": {},
   "source": [
    "##### Weather forecasting is the application of science and technology to predict the conditions of the atmosphere for a given location and time. Weather forecasts are made by collecting quantitative data about the current state of the atmosphere at a given place and using meteorology to project how the atmosphere will change.\n",
    "##### Rain Dataset is to predict whether or not it will rain tomorrow. The Dataset contains about 10 years of daily weather observations of different locations in Australia."
   ]
  },
  {
   "cell_type": "code",
   "execution_count": 1,
   "id": "8e9cc6e1",
   "metadata": {},
   "outputs": [],
   "source": [
    "import numpy as np\n",
    "import pandas as pd\n",
    "import matplotlib.pyplot as plt\n",
    "import seaborn as sns\n",
    "\n",
    "import warnings\n",
    "warnings.filterwarnings('ignore')"
   ]
  },
  {
   "cell_type": "code",
   "execution_count": 2,
   "id": "9cb16228",
   "metadata": {},
   "outputs": [
    {
     "data": {
      "text/html": [
       "<div>\n",
       "<style scoped>\n",
       "    .dataframe tbody tr th:only-of-type {\n",
       "        vertical-align: middle;\n",
       "    }\n",
       "\n",
       "    .dataframe tbody tr th {\n",
       "        vertical-align: top;\n",
       "    }\n",
       "\n",
       "    .dataframe thead th {\n",
       "        text-align: right;\n",
       "    }\n",
       "</style>\n",
       "<table border=\"1\" class=\"dataframe\">\n",
       "  <thead>\n",
       "    <tr style=\"text-align: right;\">\n",
       "      <th></th>\n",
       "      <th>Date</th>\n",
       "      <th>Location</th>\n",
       "      <th>MinTemp</th>\n",
       "      <th>MaxTemp</th>\n",
       "      <th>Rainfall</th>\n",
       "      <th>Evaporation</th>\n",
       "      <th>Sunshine</th>\n",
       "      <th>WindGustDir</th>\n",
       "      <th>WindGustSpeed</th>\n",
       "      <th>WindDir9am</th>\n",
       "      <th>...</th>\n",
       "      <th>Humidity9am</th>\n",
       "      <th>Humidity3pm</th>\n",
       "      <th>Pressure9am</th>\n",
       "      <th>Pressure3pm</th>\n",
       "      <th>Cloud9am</th>\n",
       "      <th>Cloud3pm</th>\n",
       "      <th>Temp9am</th>\n",
       "      <th>Temp3pm</th>\n",
       "      <th>RainToday</th>\n",
       "      <th>RainTomorrow</th>\n",
       "    </tr>\n",
       "  </thead>\n",
       "  <tbody>\n",
       "    <tr>\n",
       "      <th>0</th>\n",
       "      <td>2008-12-01</td>\n",
       "      <td>Albury</td>\n",
       "      <td>13.4</td>\n",
       "      <td>22.9</td>\n",
       "      <td>0.6</td>\n",
       "      <td>NaN</td>\n",
       "      <td>NaN</td>\n",
       "      <td>W</td>\n",
       "      <td>44.0</td>\n",
       "      <td>W</td>\n",
       "      <td>...</td>\n",
       "      <td>71.0</td>\n",
       "      <td>22.0</td>\n",
       "      <td>1007.7</td>\n",
       "      <td>1007.1</td>\n",
       "      <td>8.0</td>\n",
       "      <td>NaN</td>\n",
       "      <td>16.9</td>\n",
       "      <td>21.8</td>\n",
       "      <td>No</td>\n",
       "      <td>No</td>\n",
       "    </tr>\n",
       "    <tr>\n",
       "      <th>1</th>\n",
       "      <td>2008-12-02</td>\n",
       "      <td>Albury</td>\n",
       "      <td>7.4</td>\n",
       "      <td>25.1</td>\n",
       "      <td>0.0</td>\n",
       "      <td>NaN</td>\n",
       "      <td>NaN</td>\n",
       "      <td>WNW</td>\n",
       "      <td>44.0</td>\n",
       "      <td>NNW</td>\n",
       "      <td>...</td>\n",
       "      <td>44.0</td>\n",
       "      <td>25.0</td>\n",
       "      <td>1010.6</td>\n",
       "      <td>1007.8</td>\n",
       "      <td>NaN</td>\n",
       "      <td>NaN</td>\n",
       "      <td>17.2</td>\n",
       "      <td>24.3</td>\n",
       "      <td>No</td>\n",
       "      <td>No</td>\n",
       "    </tr>\n",
       "    <tr>\n",
       "      <th>2</th>\n",
       "      <td>2008-12-03</td>\n",
       "      <td>Albury</td>\n",
       "      <td>12.9</td>\n",
       "      <td>25.7</td>\n",
       "      <td>0.0</td>\n",
       "      <td>NaN</td>\n",
       "      <td>NaN</td>\n",
       "      <td>WSW</td>\n",
       "      <td>46.0</td>\n",
       "      <td>W</td>\n",
       "      <td>...</td>\n",
       "      <td>38.0</td>\n",
       "      <td>30.0</td>\n",
       "      <td>1007.6</td>\n",
       "      <td>1008.7</td>\n",
       "      <td>NaN</td>\n",
       "      <td>2.0</td>\n",
       "      <td>21.0</td>\n",
       "      <td>23.2</td>\n",
       "      <td>No</td>\n",
       "      <td>No</td>\n",
       "    </tr>\n",
       "    <tr>\n",
       "      <th>3</th>\n",
       "      <td>2008-12-04</td>\n",
       "      <td>Albury</td>\n",
       "      <td>9.2</td>\n",
       "      <td>28.0</td>\n",
       "      <td>0.0</td>\n",
       "      <td>NaN</td>\n",
       "      <td>NaN</td>\n",
       "      <td>NE</td>\n",
       "      <td>24.0</td>\n",
       "      <td>SE</td>\n",
       "      <td>...</td>\n",
       "      <td>45.0</td>\n",
       "      <td>16.0</td>\n",
       "      <td>1017.6</td>\n",
       "      <td>1012.8</td>\n",
       "      <td>NaN</td>\n",
       "      <td>NaN</td>\n",
       "      <td>18.1</td>\n",
       "      <td>26.5</td>\n",
       "      <td>No</td>\n",
       "      <td>No</td>\n",
       "    </tr>\n",
       "    <tr>\n",
       "      <th>4</th>\n",
       "      <td>2008-12-05</td>\n",
       "      <td>Albury</td>\n",
       "      <td>17.5</td>\n",
       "      <td>32.3</td>\n",
       "      <td>1.0</td>\n",
       "      <td>NaN</td>\n",
       "      <td>NaN</td>\n",
       "      <td>W</td>\n",
       "      <td>41.0</td>\n",
       "      <td>ENE</td>\n",
       "      <td>...</td>\n",
       "      <td>82.0</td>\n",
       "      <td>33.0</td>\n",
       "      <td>1010.8</td>\n",
       "      <td>1006.0</td>\n",
       "      <td>7.0</td>\n",
       "      <td>8.0</td>\n",
       "      <td>17.8</td>\n",
       "      <td>29.7</td>\n",
       "      <td>No</td>\n",
       "      <td>No</td>\n",
       "    </tr>\n",
       "    <tr>\n",
       "      <th>...</th>\n",
       "      <td>...</td>\n",
       "      <td>...</td>\n",
       "      <td>...</td>\n",
       "      <td>...</td>\n",
       "      <td>...</td>\n",
       "      <td>...</td>\n",
       "      <td>...</td>\n",
       "      <td>...</td>\n",
       "      <td>...</td>\n",
       "      <td>...</td>\n",
       "      <td>...</td>\n",
       "      <td>...</td>\n",
       "      <td>...</td>\n",
       "      <td>...</td>\n",
       "      <td>...</td>\n",
       "      <td>...</td>\n",
       "      <td>...</td>\n",
       "      <td>...</td>\n",
       "      <td>...</td>\n",
       "      <td>...</td>\n",
       "      <td>...</td>\n",
       "    </tr>\n",
       "    <tr>\n",
       "      <th>8420</th>\n",
       "      <td>2017-06-21</td>\n",
       "      <td>Uluru</td>\n",
       "      <td>2.8</td>\n",
       "      <td>23.4</td>\n",
       "      <td>0.0</td>\n",
       "      <td>NaN</td>\n",
       "      <td>NaN</td>\n",
       "      <td>E</td>\n",
       "      <td>31.0</td>\n",
       "      <td>SE</td>\n",
       "      <td>...</td>\n",
       "      <td>51.0</td>\n",
       "      <td>24.0</td>\n",
       "      <td>1024.6</td>\n",
       "      <td>1020.3</td>\n",
       "      <td>NaN</td>\n",
       "      <td>NaN</td>\n",
       "      <td>10.1</td>\n",
       "      <td>22.4</td>\n",
       "      <td>No</td>\n",
       "      <td>No</td>\n",
       "    </tr>\n",
       "    <tr>\n",
       "      <th>8421</th>\n",
       "      <td>2017-06-22</td>\n",
       "      <td>Uluru</td>\n",
       "      <td>3.6</td>\n",
       "      <td>25.3</td>\n",
       "      <td>0.0</td>\n",
       "      <td>NaN</td>\n",
       "      <td>NaN</td>\n",
       "      <td>NNW</td>\n",
       "      <td>22.0</td>\n",
       "      <td>SE</td>\n",
       "      <td>...</td>\n",
       "      <td>56.0</td>\n",
       "      <td>21.0</td>\n",
       "      <td>1023.5</td>\n",
       "      <td>1019.1</td>\n",
       "      <td>NaN</td>\n",
       "      <td>NaN</td>\n",
       "      <td>10.9</td>\n",
       "      <td>24.5</td>\n",
       "      <td>No</td>\n",
       "      <td>No</td>\n",
       "    </tr>\n",
       "    <tr>\n",
       "      <th>8422</th>\n",
       "      <td>2017-06-23</td>\n",
       "      <td>Uluru</td>\n",
       "      <td>5.4</td>\n",
       "      <td>26.9</td>\n",
       "      <td>0.0</td>\n",
       "      <td>NaN</td>\n",
       "      <td>NaN</td>\n",
       "      <td>N</td>\n",
       "      <td>37.0</td>\n",
       "      <td>SE</td>\n",
       "      <td>...</td>\n",
       "      <td>53.0</td>\n",
       "      <td>24.0</td>\n",
       "      <td>1021.0</td>\n",
       "      <td>1016.8</td>\n",
       "      <td>NaN</td>\n",
       "      <td>NaN</td>\n",
       "      <td>12.5</td>\n",
       "      <td>26.1</td>\n",
       "      <td>No</td>\n",
       "      <td>No</td>\n",
       "    </tr>\n",
       "    <tr>\n",
       "      <th>8423</th>\n",
       "      <td>2017-06-24</td>\n",
       "      <td>Uluru</td>\n",
       "      <td>7.8</td>\n",
       "      <td>27.0</td>\n",
       "      <td>0.0</td>\n",
       "      <td>NaN</td>\n",
       "      <td>NaN</td>\n",
       "      <td>SE</td>\n",
       "      <td>28.0</td>\n",
       "      <td>SSE</td>\n",
       "      <td>...</td>\n",
       "      <td>51.0</td>\n",
       "      <td>24.0</td>\n",
       "      <td>1019.4</td>\n",
       "      <td>1016.5</td>\n",
       "      <td>3.0</td>\n",
       "      <td>2.0</td>\n",
       "      <td>15.1</td>\n",
       "      <td>26.0</td>\n",
       "      <td>No</td>\n",
       "      <td>No</td>\n",
       "    </tr>\n",
       "    <tr>\n",
       "      <th>8424</th>\n",
       "      <td>2017-06-25</td>\n",
       "      <td>Uluru</td>\n",
       "      <td>14.9</td>\n",
       "      <td>NaN</td>\n",
       "      <td>0.0</td>\n",
       "      <td>NaN</td>\n",
       "      <td>NaN</td>\n",
       "      <td>NaN</td>\n",
       "      <td>NaN</td>\n",
       "      <td>ESE</td>\n",
       "      <td>...</td>\n",
       "      <td>62.0</td>\n",
       "      <td>36.0</td>\n",
       "      <td>1020.2</td>\n",
       "      <td>1017.9</td>\n",
       "      <td>8.0</td>\n",
       "      <td>8.0</td>\n",
       "      <td>15.0</td>\n",
       "      <td>20.9</td>\n",
       "      <td>No</td>\n",
       "      <td>NaN</td>\n",
       "    </tr>\n",
       "  </tbody>\n",
       "</table>\n",
       "<p>8425 rows × 23 columns</p>\n",
       "</div>"
      ],
      "text/plain": [
       "            Date Location  MinTemp  MaxTemp  Rainfall  Evaporation  Sunshine  \\\n",
       "0     2008-12-01   Albury     13.4     22.9       0.6          NaN       NaN   \n",
       "1     2008-12-02   Albury      7.4     25.1       0.0          NaN       NaN   \n",
       "2     2008-12-03   Albury     12.9     25.7       0.0          NaN       NaN   \n",
       "3     2008-12-04   Albury      9.2     28.0       0.0          NaN       NaN   \n",
       "4     2008-12-05   Albury     17.5     32.3       1.0          NaN       NaN   \n",
       "...          ...      ...      ...      ...       ...          ...       ...   \n",
       "8420  2017-06-21    Uluru      2.8     23.4       0.0          NaN       NaN   \n",
       "8421  2017-06-22    Uluru      3.6     25.3       0.0          NaN       NaN   \n",
       "8422  2017-06-23    Uluru      5.4     26.9       0.0          NaN       NaN   \n",
       "8423  2017-06-24    Uluru      7.8     27.0       0.0          NaN       NaN   \n",
       "8424  2017-06-25    Uluru     14.9      NaN       0.0          NaN       NaN   \n",
       "\n",
       "     WindGustDir  WindGustSpeed WindDir9am  ... Humidity9am  Humidity3pm  \\\n",
       "0              W           44.0          W  ...        71.0         22.0   \n",
       "1            WNW           44.0        NNW  ...        44.0         25.0   \n",
       "2            WSW           46.0          W  ...        38.0         30.0   \n",
       "3             NE           24.0         SE  ...        45.0         16.0   \n",
       "4              W           41.0        ENE  ...        82.0         33.0   \n",
       "...          ...            ...        ...  ...         ...          ...   \n",
       "8420           E           31.0         SE  ...        51.0         24.0   \n",
       "8421         NNW           22.0         SE  ...        56.0         21.0   \n",
       "8422           N           37.0         SE  ...        53.0         24.0   \n",
       "8423          SE           28.0        SSE  ...        51.0         24.0   \n",
       "8424         NaN            NaN        ESE  ...        62.0         36.0   \n",
       "\n",
       "      Pressure9am  Pressure3pm  Cloud9am  Cloud3pm  Temp9am  Temp3pm  \\\n",
       "0          1007.7       1007.1       8.0       NaN     16.9     21.8   \n",
       "1          1010.6       1007.8       NaN       NaN     17.2     24.3   \n",
       "2          1007.6       1008.7       NaN       2.0     21.0     23.2   \n",
       "3          1017.6       1012.8       NaN       NaN     18.1     26.5   \n",
       "4          1010.8       1006.0       7.0       8.0     17.8     29.7   \n",
       "...           ...          ...       ...       ...      ...      ...   \n",
       "8420       1024.6       1020.3       NaN       NaN     10.1     22.4   \n",
       "8421       1023.5       1019.1       NaN       NaN     10.9     24.5   \n",
       "8422       1021.0       1016.8       NaN       NaN     12.5     26.1   \n",
       "8423       1019.4       1016.5       3.0       2.0     15.1     26.0   \n",
       "8424       1020.2       1017.9       8.0       8.0     15.0     20.9   \n",
       "\n",
       "      RainToday  RainTomorrow  \n",
       "0            No            No  \n",
       "1            No            No  \n",
       "2            No            No  \n",
       "3            No            No  \n",
       "4            No            No  \n",
       "...         ...           ...  \n",
       "8420         No            No  \n",
       "8421         No            No  \n",
       "8422         No            No  \n",
       "8423         No            No  \n",
       "8424         No           NaN  \n",
       "\n",
       "[8425 rows x 23 columns]"
      ]
     },
     "execution_count": 2,
     "metadata": {},
     "output_type": "execute_result"
    }
   ],
   "source": [
    "df = pd.read_csv('rainfall_predict.csv')\n",
    "df"
   ]
  },
  {
   "cell_type": "code",
   "execution_count": 3,
   "id": "db9222d2",
   "metadata": {},
   "outputs": [
    {
     "data": {
      "text/plain": [
       "(8425, 23)"
      ]
     },
     "execution_count": 3,
     "metadata": {},
     "output_type": "execute_result"
    }
   ],
   "source": [
    "df.shape"
   ]
  },
  {
   "cell_type": "markdown",
   "id": "651c004c",
   "metadata": {},
   "source": [
    "##### We have 8425 rows and 23 columns in dataset."
   ]
  },
  {
   "cell_type": "code",
   "execution_count": 4,
   "id": "3ecb3fcb",
   "metadata": {},
   "outputs": [
    {
     "data": {
      "text/html": [
       "<div>\n",
       "<style scoped>\n",
       "    .dataframe tbody tr th:only-of-type {\n",
       "        vertical-align: middle;\n",
       "    }\n",
       "\n",
       "    .dataframe tbody tr th {\n",
       "        vertical-align: top;\n",
       "    }\n",
       "\n",
       "    .dataframe thead th {\n",
       "        text-align: right;\n",
       "    }\n",
       "</style>\n",
       "<table border=\"1\" class=\"dataframe\">\n",
       "  <thead>\n",
       "    <tr style=\"text-align: right;\">\n",
       "      <th></th>\n",
       "      <th>Date</th>\n",
       "      <th>Location</th>\n",
       "      <th>MinTemp</th>\n",
       "      <th>MaxTemp</th>\n",
       "      <th>Rainfall</th>\n",
       "      <th>Evaporation</th>\n",
       "      <th>Sunshine</th>\n",
       "      <th>WindGustDir</th>\n",
       "      <th>WindGustSpeed</th>\n",
       "      <th>WindDir9am</th>\n",
       "      <th>WindDir3pm</th>\n",
       "      <th>WindSpeed9am</th>\n",
       "      <th>WindSpeed3pm</th>\n",
       "      <th>Humidity9am</th>\n",
       "      <th>Humidity3pm</th>\n",
       "      <th>Pressure9am</th>\n",
       "      <th>Pressure3pm</th>\n",
       "      <th>Cloud9am</th>\n",
       "      <th>Cloud3pm</th>\n",
       "      <th>Temp9am</th>\n",
       "      <th>Temp3pm</th>\n",
       "      <th>RainToday</th>\n",
       "      <th>RainTomorrow</th>\n",
       "    </tr>\n",
       "  </thead>\n",
       "  <tbody>\n",
       "    <tr>\n",
       "      <th>0</th>\n",
       "      <td>2008-12-01</td>\n",
       "      <td>Albury</td>\n",
       "      <td>13.4</td>\n",
       "      <td>22.9</td>\n",
       "      <td>0.6</td>\n",
       "      <td>NaN</td>\n",
       "      <td>NaN</td>\n",
       "      <td>W</td>\n",
       "      <td>44.0</td>\n",
       "      <td>W</td>\n",
       "      <td>WNW</td>\n",
       "      <td>20.0</td>\n",
       "      <td>24.0</td>\n",
       "      <td>71.0</td>\n",
       "      <td>22.0</td>\n",
       "      <td>1007.7</td>\n",
       "      <td>1007.1</td>\n",
       "      <td>8.0</td>\n",
       "      <td>NaN</td>\n",
       "      <td>16.9</td>\n",
       "      <td>21.8</td>\n",
       "      <td>No</td>\n",
       "      <td>No</td>\n",
       "    </tr>\n",
       "    <tr>\n",
       "      <th>1</th>\n",
       "      <td>2008-12-02</td>\n",
       "      <td>Albury</td>\n",
       "      <td>7.4</td>\n",
       "      <td>25.1</td>\n",
       "      <td>0.0</td>\n",
       "      <td>NaN</td>\n",
       "      <td>NaN</td>\n",
       "      <td>WNW</td>\n",
       "      <td>44.0</td>\n",
       "      <td>NNW</td>\n",
       "      <td>WSW</td>\n",
       "      <td>4.0</td>\n",
       "      <td>22.0</td>\n",
       "      <td>44.0</td>\n",
       "      <td>25.0</td>\n",
       "      <td>1010.6</td>\n",
       "      <td>1007.8</td>\n",
       "      <td>NaN</td>\n",
       "      <td>NaN</td>\n",
       "      <td>17.2</td>\n",
       "      <td>24.3</td>\n",
       "      <td>No</td>\n",
       "      <td>No</td>\n",
       "    </tr>\n",
       "    <tr>\n",
       "      <th>2</th>\n",
       "      <td>2008-12-03</td>\n",
       "      <td>Albury</td>\n",
       "      <td>12.9</td>\n",
       "      <td>25.7</td>\n",
       "      <td>0.0</td>\n",
       "      <td>NaN</td>\n",
       "      <td>NaN</td>\n",
       "      <td>WSW</td>\n",
       "      <td>46.0</td>\n",
       "      <td>W</td>\n",
       "      <td>WSW</td>\n",
       "      <td>19.0</td>\n",
       "      <td>26.0</td>\n",
       "      <td>38.0</td>\n",
       "      <td>30.0</td>\n",
       "      <td>1007.6</td>\n",
       "      <td>1008.7</td>\n",
       "      <td>NaN</td>\n",
       "      <td>2.0</td>\n",
       "      <td>21.0</td>\n",
       "      <td>23.2</td>\n",
       "      <td>No</td>\n",
       "      <td>No</td>\n",
       "    </tr>\n",
       "    <tr>\n",
       "      <th>3</th>\n",
       "      <td>2008-12-04</td>\n",
       "      <td>Albury</td>\n",
       "      <td>9.2</td>\n",
       "      <td>28.0</td>\n",
       "      <td>0.0</td>\n",
       "      <td>NaN</td>\n",
       "      <td>NaN</td>\n",
       "      <td>NE</td>\n",
       "      <td>24.0</td>\n",
       "      <td>SE</td>\n",
       "      <td>E</td>\n",
       "      <td>11.0</td>\n",
       "      <td>9.0</td>\n",
       "      <td>45.0</td>\n",
       "      <td>16.0</td>\n",
       "      <td>1017.6</td>\n",
       "      <td>1012.8</td>\n",
       "      <td>NaN</td>\n",
       "      <td>NaN</td>\n",
       "      <td>18.1</td>\n",
       "      <td>26.5</td>\n",
       "      <td>No</td>\n",
       "      <td>No</td>\n",
       "    </tr>\n",
       "    <tr>\n",
       "      <th>4</th>\n",
       "      <td>2008-12-05</td>\n",
       "      <td>Albury</td>\n",
       "      <td>17.5</td>\n",
       "      <td>32.3</td>\n",
       "      <td>1.0</td>\n",
       "      <td>NaN</td>\n",
       "      <td>NaN</td>\n",
       "      <td>W</td>\n",
       "      <td>41.0</td>\n",
       "      <td>ENE</td>\n",
       "      <td>NW</td>\n",
       "      <td>7.0</td>\n",
       "      <td>20.0</td>\n",
       "      <td>82.0</td>\n",
       "      <td>33.0</td>\n",
       "      <td>1010.8</td>\n",
       "      <td>1006.0</td>\n",
       "      <td>7.0</td>\n",
       "      <td>8.0</td>\n",
       "      <td>17.8</td>\n",
       "      <td>29.7</td>\n",
       "      <td>No</td>\n",
       "      <td>No</td>\n",
       "    </tr>\n",
       "    <tr>\n",
       "      <th>...</th>\n",
       "      <td>...</td>\n",
       "      <td>...</td>\n",
       "      <td>...</td>\n",
       "      <td>...</td>\n",
       "      <td>...</td>\n",
       "      <td>...</td>\n",
       "      <td>...</td>\n",
       "      <td>...</td>\n",
       "      <td>...</td>\n",
       "      <td>...</td>\n",
       "      <td>...</td>\n",
       "      <td>...</td>\n",
       "      <td>...</td>\n",
       "      <td>...</td>\n",
       "      <td>...</td>\n",
       "      <td>...</td>\n",
       "      <td>...</td>\n",
       "      <td>...</td>\n",
       "      <td>...</td>\n",
       "      <td>...</td>\n",
       "      <td>...</td>\n",
       "      <td>...</td>\n",
       "      <td>...</td>\n",
       "    </tr>\n",
       "    <tr>\n",
       "      <th>8420</th>\n",
       "      <td>2017-06-21</td>\n",
       "      <td>Uluru</td>\n",
       "      <td>2.8</td>\n",
       "      <td>23.4</td>\n",
       "      <td>0.0</td>\n",
       "      <td>NaN</td>\n",
       "      <td>NaN</td>\n",
       "      <td>E</td>\n",
       "      <td>31.0</td>\n",
       "      <td>SE</td>\n",
       "      <td>ENE</td>\n",
       "      <td>13.0</td>\n",
       "      <td>11.0</td>\n",
       "      <td>51.0</td>\n",
       "      <td>24.0</td>\n",
       "      <td>1024.6</td>\n",
       "      <td>1020.3</td>\n",
       "      <td>NaN</td>\n",
       "      <td>NaN</td>\n",
       "      <td>10.1</td>\n",
       "      <td>22.4</td>\n",
       "      <td>No</td>\n",
       "      <td>No</td>\n",
       "    </tr>\n",
       "    <tr>\n",
       "      <th>8421</th>\n",
       "      <td>2017-06-22</td>\n",
       "      <td>Uluru</td>\n",
       "      <td>3.6</td>\n",
       "      <td>25.3</td>\n",
       "      <td>0.0</td>\n",
       "      <td>NaN</td>\n",
       "      <td>NaN</td>\n",
       "      <td>NNW</td>\n",
       "      <td>22.0</td>\n",
       "      <td>SE</td>\n",
       "      <td>N</td>\n",
       "      <td>13.0</td>\n",
       "      <td>9.0</td>\n",
       "      <td>56.0</td>\n",
       "      <td>21.0</td>\n",
       "      <td>1023.5</td>\n",
       "      <td>1019.1</td>\n",
       "      <td>NaN</td>\n",
       "      <td>NaN</td>\n",
       "      <td>10.9</td>\n",
       "      <td>24.5</td>\n",
       "      <td>No</td>\n",
       "      <td>No</td>\n",
       "    </tr>\n",
       "    <tr>\n",
       "      <th>8422</th>\n",
       "      <td>2017-06-23</td>\n",
       "      <td>Uluru</td>\n",
       "      <td>5.4</td>\n",
       "      <td>26.9</td>\n",
       "      <td>0.0</td>\n",
       "      <td>NaN</td>\n",
       "      <td>NaN</td>\n",
       "      <td>N</td>\n",
       "      <td>37.0</td>\n",
       "      <td>SE</td>\n",
       "      <td>WNW</td>\n",
       "      <td>9.0</td>\n",
       "      <td>9.0</td>\n",
       "      <td>53.0</td>\n",
       "      <td>24.0</td>\n",
       "      <td>1021.0</td>\n",
       "      <td>1016.8</td>\n",
       "      <td>NaN</td>\n",
       "      <td>NaN</td>\n",
       "      <td>12.5</td>\n",
       "      <td>26.1</td>\n",
       "      <td>No</td>\n",
       "      <td>No</td>\n",
       "    </tr>\n",
       "    <tr>\n",
       "      <th>8423</th>\n",
       "      <td>2017-06-24</td>\n",
       "      <td>Uluru</td>\n",
       "      <td>7.8</td>\n",
       "      <td>27.0</td>\n",
       "      <td>0.0</td>\n",
       "      <td>NaN</td>\n",
       "      <td>NaN</td>\n",
       "      <td>SE</td>\n",
       "      <td>28.0</td>\n",
       "      <td>SSE</td>\n",
       "      <td>N</td>\n",
       "      <td>13.0</td>\n",
       "      <td>7.0</td>\n",
       "      <td>51.0</td>\n",
       "      <td>24.0</td>\n",
       "      <td>1019.4</td>\n",
       "      <td>1016.5</td>\n",
       "      <td>3.0</td>\n",
       "      <td>2.0</td>\n",
       "      <td>15.1</td>\n",
       "      <td>26.0</td>\n",
       "      <td>No</td>\n",
       "      <td>No</td>\n",
       "    </tr>\n",
       "    <tr>\n",
       "      <th>8424</th>\n",
       "      <td>2017-06-25</td>\n",
       "      <td>Uluru</td>\n",
       "      <td>14.9</td>\n",
       "      <td>NaN</td>\n",
       "      <td>0.0</td>\n",
       "      <td>NaN</td>\n",
       "      <td>NaN</td>\n",
       "      <td>NaN</td>\n",
       "      <td>NaN</td>\n",
       "      <td>ESE</td>\n",
       "      <td>ESE</td>\n",
       "      <td>17.0</td>\n",
       "      <td>17.0</td>\n",
       "      <td>62.0</td>\n",
       "      <td>36.0</td>\n",
       "      <td>1020.2</td>\n",
       "      <td>1017.9</td>\n",
       "      <td>8.0</td>\n",
       "      <td>8.0</td>\n",
       "      <td>15.0</td>\n",
       "      <td>20.9</td>\n",
       "      <td>No</td>\n",
       "      <td>NaN</td>\n",
       "    </tr>\n",
       "  </tbody>\n",
       "</table>\n",
       "<p>8425 rows × 23 columns</p>\n",
       "</div>"
      ],
      "text/plain": [
       "            Date Location  MinTemp  MaxTemp  Rainfall  Evaporation  Sunshine  \\\n",
       "0     2008-12-01   Albury     13.4     22.9       0.6          NaN       NaN   \n",
       "1     2008-12-02   Albury      7.4     25.1       0.0          NaN       NaN   \n",
       "2     2008-12-03   Albury     12.9     25.7       0.0          NaN       NaN   \n",
       "3     2008-12-04   Albury      9.2     28.0       0.0          NaN       NaN   \n",
       "4     2008-12-05   Albury     17.5     32.3       1.0          NaN       NaN   \n",
       "...          ...      ...      ...      ...       ...          ...       ...   \n",
       "8420  2017-06-21    Uluru      2.8     23.4       0.0          NaN       NaN   \n",
       "8421  2017-06-22    Uluru      3.6     25.3       0.0          NaN       NaN   \n",
       "8422  2017-06-23    Uluru      5.4     26.9       0.0          NaN       NaN   \n",
       "8423  2017-06-24    Uluru      7.8     27.0       0.0          NaN       NaN   \n",
       "8424  2017-06-25    Uluru     14.9      NaN       0.0          NaN       NaN   \n",
       "\n",
       "     WindGustDir  WindGustSpeed WindDir9am WindDir3pm  WindSpeed9am  \\\n",
       "0              W           44.0          W        WNW          20.0   \n",
       "1            WNW           44.0        NNW        WSW           4.0   \n",
       "2            WSW           46.0          W        WSW          19.0   \n",
       "3             NE           24.0         SE          E          11.0   \n",
       "4              W           41.0        ENE         NW           7.0   \n",
       "...          ...            ...        ...        ...           ...   \n",
       "8420           E           31.0         SE        ENE          13.0   \n",
       "8421         NNW           22.0         SE          N          13.0   \n",
       "8422           N           37.0         SE        WNW           9.0   \n",
       "8423          SE           28.0        SSE          N          13.0   \n",
       "8424         NaN            NaN        ESE        ESE          17.0   \n",
       "\n",
       "      WindSpeed3pm  Humidity9am  Humidity3pm  Pressure9am  Pressure3pm  \\\n",
       "0             24.0         71.0         22.0       1007.7       1007.1   \n",
       "1             22.0         44.0         25.0       1010.6       1007.8   \n",
       "2             26.0         38.0         30.0       1007.6       1008.7   \n",
       "3              9.0         45.0         16.0       1017.6       1012.8   \n",
       "4             20.0         82.0         33.0       1010.8       1006.0   \n",
       "...            ...          ...          ...          ...          ...   \n",
       "8420          11.0         51.0         24.0       1024.6       1020.3   \n",
       "8421           9.0         56.0         21.0       1023.5       1019.1   \n",
       "8422           9.0         53.0         24.0       1021.0       1016.8   \n",
       "8423           7.0         51.0         24.0       1019.4       1016.5   \n",
       "8424          17.0         62.0         36.0       1020.2       1017.9   \n",
       "\n",
       "      Cloud9am  Cloud3pm  Temp9am  Temp3pm RainToday RainTomorrow  \n",
       "0          8.0       NaN     16.9     21.8        No           No  \n",
       "1          NaN       NaN     17.2     24.3        No           No  \n",
       "2          NaN       2.0     21.0     23.2        No           No  \n",
       "3          NaN       NaN     18.1     26.5        No           No  \n",
       "4          7.0       8.0     17.8     29.7        No           No  \n",
       "...        ...       ...      ...      ...       ...          ...  \n",
       "8420       NaN       NaN     10.1     22.4        No           No  \n",
       "8421       NaN       NaN     10.9     24.5        No           No  \n",
       "8422       NaN       NaN     12.5     26.1        No           No  \n",
       "8423       3.0       2.0     15.1     26.0        No           No  \n",
       "8424       8.0       8.0     15.0     20.9        No          NaN  \n",
       "\n",
       "[8425 rows x 23 columns]"
      ]
     },
     "execution_count": 4,
     "metadata": {},
     "output_type": "execute_result"
    }
   ],
   "source": [
    "pd.options.display.max_columns=None\n",
    "df"
   ]
  },
  {
   "cell_type": "code",
   "execution_count": 5,
   "id": "173ef301",
   "metadata": {},
   "outputs": [
    {
     "data": {
      "text/plain": [
       "Index(['Date', 'Location', 'MinTemp', 'MaxTemp', 'Rainfall', 'Evaporation',\n",
       "       'Sunshine', 'WindGustDir', 'WindGustSpeed', 'WindDir9am', 'WindDir3pm',\n",
       "       'WindSpeed9am', 'WindSpeed3pm', 'Humidity9am', 'Humidity3pm',\n",
       "       'Pressure9am', 'Pressure3pm', 'Cloud9am', 'Cloud3pm', 'Temp9am',\n",
       "       'Temp3pm', 'RainToday', 'RainTomorrow'],\n",
       "      dtype='object')"
      ]
     },
     "execution_count": 5,
     "metadata": {},
     "output_type": "execute_result"
    }
   ],
   "source": [
    "df.columns"
   ]
  },
  {
   "cell_type": "markdown",
   "id": "4ebd88e5",
   "metadata": {},
   "source": [
    "### About the Columns\n",
    "\n",
    "Date - The date of Observation\n",
    "\n",
    "Location - Location of Rainfall\n",
    "\n",
    "MinTemp - Minimum temperature in degree celcius\n",
    "\n",
    "MaxTemp - Maximum temperature in degree celcius\n",
    "\n",
    "Rainfall - The amount of rainfall recorded for the day in mm\n",
    "\n",
    "Evaporation - The so-called Class A pan evaporation(mm) in the 24 hours to 9 am\n",
    "       \n",
    "Sunshine - The number of hours of bright sunshine in the day\n",
    " \n",
    "WindGustDir - The direction of the strongest wind gust\n",
    " \n",
    "WindGustSpeed - The speed (km/h) of the strongest wind gust\n",
    " \n",
    "WindDir9am - Direction of the wind at 9am\n",
    " \n",
    "WindDir3pm - Direction of the wind at 3pm\n",
    "       \n",
    "WindSpeed9am - Wind speed(km/h) at 9am\n",
    " \n",
    "WindSpeed3pm - Wind speed (km/h) at 3pm\n",
    " \n",
    "Humidity9am - Humidity(percent) at 9am\n",
    " \n",
    "Humidity3pm - Humidity(percent) at 3pm\n",
    "       \n",
    "Pressure9am - Atmospheric Pressure (hpa) at 9am\n",
    " \n",
    "Pressure3pm - Atmospheric Pressure(hpa) at 3pm\n",
    " \n",
    "Cloud9am - Fraction of sky obscured by cloud at 9am\n",
    " \n",
    "Cloud3pm - Fraction of sky obscured by cloud at 3pm\n",
    " \n",
    "Temp9am - Temperature (degree C.) at 9am\n",
    "       \n",
    "Temp3pm - Temperature (degree C.) at 3pm\n",
    "\n",
    "RainToday - 1 if precipitation (mm) in the 24 hours to 9am exceeds 1mm,otherwise 0\n",
    "\n",
    "RainTomorrow - The amount of next day rain in mm."
   ]
  },
  {
   "cell_type": "code",
   "execution_count": 6,
   "id": "9374b8e7",
   "metadata": {},
   "outputs": [
    {
     "name": "stdout",
     "output_type": "stream",
     "text": [
      "<class 'pandas.core.frame.DataFrame'>\n",
      "RangeIndex: 8425 entries, 0 to 8424\n",
      "Data columns (total 23 columns):\n",
      " #   Column         Non-Null Count  Dtype  \n",
      "---  ------         --------------  -----  \n",
      " 0   Date           8425 non-null   object \n",
      " 1   Location       8425 non-null   object \n",
      " 2   MinTemp        8350 non-null   float64\n",
      " 3   MaxTemp        8365 non-null   float64\n",
      " 4   Rainfall       8185 non-null   float64\n",
      " 5   Evaporation    4913 non-null   float64\n",
      " 6   Sunshine       4431 non-null   float64\n",
      " 7   WindGustDir    7434 non-null   object \n",
      " 8   WindGustSpeed  7434 non-null   float64\n",
      " 9   WindDir9am     7596 non-null   object \n",
      " 10  WindDir3pm     8117 non-null   object \n",
      " 11  WindSpeed9am   8349 non-null   float64\n",
      " 12  WindSpeed3pm   8318 non-null   float64\n",
      " 13  Humidity9am    8366 non-null   float64\n",
      " 14  Humidity3pm    8323 non-null   float64\n",
      " 15  Pressure9am    7116 non-null   float64\n",
      " 16  Pressure3pm    7113 non-null   float64\n",
      " 17  Cloud9am       6004 non-null   float64\n",
      " 18  Cloud3pm       5970 non-null   float64\n",
      " 19  Temp9am        8369 non-null   float64\n",
      " 20  Temp3pm        8329 non-null   float64\n",
      " 21  RainToday      8185 non-null   object \n",
      " 22  RainTomorrow   8186 non-null   object \n",
      "dtypes: float64(16), object(7)\n",
      "memory usage: 1.5+ MB\n"
     ]
    }
   ],
   "source": [
    "df.info()"
   ]
  },
  {
   "cell_type": "markdown",
   "id": "6616d654",
   "metadata": {},
   "source": [
    "##### We have a information about the dataset. Lot of null values present in given dataset."
   ]
  },
  {
   "cell_type": "code",
   "execution_count": 7,
   "id": "74dccd61",
   "metadata": {},
   "outputs": [],
   "source": [
    "df.drop(['Date','Evaporation','Sunshine','Cloud9am','Cloud3pm'],axis=1,inplace=True)"
   ]
  },
  {
   "cell_type": "markdown",
   "id": "9b9f3e13",
   "metadata": {},
   "source": [
    "##### We dropped the column which have maximum null values."
   ]
  },
  {
   "cell_type": "code",
   "execution_count": 8,
   "id": "02a79467",
   "metadata": {},
   "outputs": [
    {
     "data": {
      "text/html": [
       "<div>\n",
       "<style scoped>\n",
       "    .dataframe tbody tr th:only-of-type {\n",
       "        vertical-align: middle;\n",
       "    }\n",
       "\n",
       "    .dataframe tbody tr th {\n",
       "        vertical-align: top;\n",
       "    }\n",
       "\n",
       "    .dataframe thead th {\n",
       "        text-align: right;\n",
       "    }\n",
       "</style>\n",
       "<table border=\"1\" class=\"dataframe\">\n",
       "  <thead>\n",
       "    <tr style=\"text-align: right;\">\n",
       "      <th></th>\n",
       "      <th>Location</th>\n",
       "      <th>MinTemp</th>\n",
       "      <th>MaxTemp</th>\n",
       "      <th>Rainfall</th>\n",
       "      <th>WindGustDir</th>\n",
       "      <th>WindGustSpeed</th>\n",
       "      <th>WindDir9am</th>\n",
       "      <th>WindDir3pm</th>\n",
       "      <th>WindSpeed9am</th>\n",
       "      <th>WindSpeed3pm</th>\n",
       "      <th>Humidity9am</th>\n",
       "      <th>Humidity3pm</th>\n",
       "      <th>Pressure9am</th>\n",
       "      <th>Pressure3pm</th>\n",
       "      <th>Temp9am</th>\n",
       "      <th>Temp3pm</th>\n",
       "      <th>RainToday</th>\n",
       "      <th>RainTomorrow</th>\n",
       "    </tr>\n",
       "  </thead>\n",
       "  <tbody>\n",
       "    <tr>\n",
       "      <th>0</th>\n",
       "      <td>Albury</td>\n",
       "      <td>13.4</td>\n",
       "      <td>22.9</td>\n",
       "      <td>0.6</td>\n",
       "      <td>W</td>\n",
       "      <td>44.0</td>\n",
       "      <td>W</td>\n",
       "      <td>WNW</td>\n",
       "      <td>20.0</td>\n",
       "      <td>24.0</td>\n",
       "      <td>71.0</td>\n",
       "      <td>22.0</td>\n",
       "      <td>1007.7</td>\n",
       "      <td>1007.1</td>\n",
       "      <td>16.9</td>\n",
       "      <td>21.8</td>\n",
       "      <td>No</td>\n",
       "      <td>No</td>\n",
       "    </tr>\n",
       "    <tr>\n",
       "      <th>1</th>\n",
       "      <td>Albury</td>\n",
       "      <td>7.4</td>\n",
       "      <td>25.1</td>\n",
       "      <td>0.0</td>\n",
       "      <td>WNW</td>\n",
       "      <td>44.0</td>\n",
       "      <td>NNW</td>\n",
       "      <td>WSW</td>\n",
       "      <td>4.0</td>\n",
       "      <td>22.0</td>\n",
       "      <td>44.0</td>\n",
       "      <td>25.0</td>\n",
       "      <td>1010.6</td>\n",
       "      <td>1007.8</td>\n",
       "      <td>17.2</td>\n",
       "      <td>24.3</td>\n",
       "      <td>No</td>\n",
       "      <td>No</td>\n",
       "    </tr>\n",
       "    <tr>\n",
       "      <th>2</th>\n",
       "      <td>Albury</td>\n",
       "      <td>12.9</td>\n",
       "      <td>25.7</td>\n",
       "      <td>0.0</td>\n",
       "      <td>WSW</td>\n",
       "      <td>46.0</td>\n",
       "      <td>W</td>\n",
       "      <td>WSW</td>\n",
       "      <td>19.0</td>\n",
       "      <td>26.0</td>\n",
       "      <td>38.0</td>\n",
       "      <td>30.0</td>\n",
       "      <td>1007.6</td>\n",
       "      <td>1008.7</td>\n",
       "      <td>21.0</td>\n",
       "      <td>23.2</td>\n",
       "      <td>No</td>\n",
       "      <td>No</td>\n",
       "    </tr>\n",
       "    <tr>\n",
       "      <th>3</th>\n",
       "      <td>Albury</td>\n",
       "      <td>9.2</td>\n",
       "      <td>28.0</td>\n",
       "      <td>0.0</td>\n",
       "      <td>NE</td>\n",
       "      <td>24.0</td>\n",
       "      <td>SE</td>\n",
       "      <td>E</td>\n",
       "      <td>11.0</td>\n",
       "      <td>9.0</td>\n",
       "      <td>45.0</td>\n",
       "      <td>16.0</td>\n",
       "      <td>1017.6</td>\n",
       "      <td>1012.8</td>\n",
       "      <td>18.1</td>\n",
       "      <td>26.5</td>\n",
       "      <td>No</td>\n",
       "      <td>No</td>\n",
       "    </tr>\n",
       "    <tr>\n",
       "      <th>4</th>\n",
       "      <td>Albury</td>\n",
       "      <td>17.5</td>\n",
       "      <td>32.3</td>\n",
       "      <td>1.0</td>\n",
       "      <td>W</td>\n",
       "      <td>41.0</td>\n",
       "      <td>ENE</td>\n",
       "      <td>NW</td>\n",
       "      <td>7.0</td>\n",
       "      <td>20.0</td>\n",
       "      <td>82.0</td>\n",
       "      <td>33.0</td>\n",
       "      <td>1010.8</td>\n",
       "      <td>1006.0</td>\n",
       "      <td>17.8</td>\n",
       "      <td>29.7</td>\n",
       "      <td>No</td>\n",
       "      <td>No</td>\n",
       "    </tr>\n",
       "    <tr>\n",
       "      <th>...</th>\n",
       "      <td>...</td>\n",
       "      <td>...</td>\n",
       "      <td>...</td>\n",
       "      <td>...</td>\n",
       "      <td>...</td>\n",
       "      <td>...</td>\n",
       "      <td>...</td>\n",
       "      <td>...</td>\n",
       "      <td>...</td>\n",
       "      <td>...</td>\n",
       "      <td>...</td>\n",
       "      <td>...</td>\n",
       "      <td>...</td>\n",
       "      <td>...</td>\n",
       "      <td>...</td>\n",
       "      <td>...</td>\n",
       "      <td>...</td>\n",
       "      <td>...</td>\n",
       "    </tr>\n",
       "    <tr>\n",
       "      <th>8420</th>\n",
       "      <td>Uluru</td>\n",
       "      <td>2.8</td>\n",
       "      <td>23.4</td>\n",
       "      <td>0.0</td>\n",
       "      <td>E</td>\n",
       "      <td>31.0</td>\n",
       "      <td>SE</td>\n",
       "      <td>ENE</td>\n",
       "      <td>13.0</td>\n",
       "      <td>11.0</td>\n",
       "      <td>51.0</td>\n",
       "      <td>24.0</td>\n",
       "      <td>1024.6</td>\n",
       "      <td>1020.3</td>\n",
       "      <td>10.1</td>\n",
       "      <td>22.4</td>\n",
       "      <td>No</td>\n",
       "      <td>No</td>\n",
       "    </tr>\n",
       "    <tr>\n",
       "      <th>8421</th>\n",
       "      <td>Uluru</td>\n",
       "      <td>3.6</td>\n",
       "      <td>25.3</td>\n",
       "      <td>0.0</td>\n",
       "      <td>NNW</td>\n",
       "      <td>22.0</td>\n",
       "      <td>SE</td>\n",
       "      <td>N</td>\n",
       "      <td>13.0</td>\n",
       "      <td>9.0</td>\n",
       "      <td>56.0</td>\n",
       "      <td>21.0</td>\n",
       "      <td>1023.5</td>\n",
       "      <td>1019.1</td>\n",
       "      <td>10.9</td>\n",
       "      <td>24.5</td>\n",
       "      <td>No</td>\n",
       "      <td>No</td>\n",
       "    </tr>\n",
       "    <tr>\n",
       "      <th>8422</th>\n",
       "      <td>Uluru</td>\n",
       "      <td>5.4</td>\n",
       "      <td>26.9</td>\n",
       "      <td>0.0</td>\n",
       "      <td>N</td>\n",
       "      <td>37.0</td>\n",
       "      <td>SE</td>\n",
       "      <td>WNW</td>\n",
       "      <td>9.0</td>\n",
       "      <td>9.0</td>\n",
       "      <td>53.0</td>\n",
       "      <td>24.0</td>\n",
       "      <td>1021.0</td>\n",
       "      <td>1016.8</td>\n",
       "      <td>12.5</td>\n",
       "      <td>26.1</td>\n",
       "      <td>No</td>\n",
       "      <td>No</td>\n",
       "    </tr>\n",
       "    <tr>\n",
       "      <th>8423</th>\n",
       "      <td>Uluru</td>\n",
       "      <td>7.8</td>\n",
       "      <td>27.0</td>\n",
       "      <td>0.0</td>\n",
       "      <td>SE</td>\n",
       "      <td>28.0</td>\n",
       "      <td>SSE</td>\n",
       "      <td>N</td>\n",
       "      <td>13.0</td>\n",
       "      <td>7.0</td>\n",
       "      <td>51.0</td>\n",
       "      <td>24.0</td>\n",
       "      <td>1019.4</td>\n",
       "      <td>1016.5</td>\n",
       "      <td>15.1</td>\n",
       "      <td>26.0</td>\n",
       "      <td>No</td>\n",
       "      <td>No</td>\n",
       "    </tr>\n",
       "    <tr>\n",
       "      <th>8424</th>\n",
       "      <td>Uluru</td>\n",
       "      <td>14.9</td>\n",
       "      <td>NaN</td>\n",
       "      <td>0.0</td>\n",
       "      <td>NaN</td>\n",
       "      <td>NaN</td>\n",
       "      <td>ESE</td>\n",
       "      <td>ESE</td>\n",
       "      <td>17.0</td>\n",
       "      <td>17.0</td>\n",
       "      <td>62.0</td>\n",
       "      <td>36.0</td>\n",
       "      <td>1020.2</td>\n",
       "      <td>1017.9</td>\n",
       "      <td>15.0</td>\n",
       "      <td>20.9</td>\n",
       "      <td>No</td>\n",
       "      <td>NaN</td>\n",
       "    </tr>\n",
       "  </tbody>\n",
       "</table>\n",
       "<p>8425 rows × 18 columns</p>\n",
       "</div>"
      ],
      "text/plain": [
       "     Location  MinTemp  MaxTemp  Rainfall WindGustDir  WindGustSpeed  \\\n",
       "0      Albury     13.4     22.9       0.6           W           44.0   \n",
       "1      Albury      7.4     25.1       0.0         WNW           44.0   \n",
       "2      Albury     12.9     25.7       0.0         WSW           46.0   \n",
       "3      Albury      9.2     28.0       0.0          NE           24.0   \n",
       "4      Albury     17.5     32.3       1.0           W           41.0   \n",
       "...       ...      ...      ...       ...         ...            ...   \n",
       "8420    Uluru      2.8     23.4       0.0           E           31.0   \n",
       "8421    Uluru      3.6     25.3       0.0         NNW           22.0   \n",
       "8422    Uluru      5.4     26.9       0.0           N           37.0   \n",
       "8423    Uluru      7.8     27.0       0.0          SE           28.0   \n",
       "8424    Uluru     14.9      NaN       0.0         NaN            NaN   \n",
       "\n",
       "     WindDir9am WindDir3pm  WindSpeed9am  WindSpeed3pm  Humidity9am  \\\n",
       "0             W        WNW          20.0          24.0         71.0   \n",
       "1           NNW        WSW           4.0          22.0         44.0   \n",
       "2             W        WSW          19.0          26.0         38.0   \n",
       "3            SE          E          11.0           9.0         45.0   \n",
       "4           ENE         NW           7.0          20.0         82.0   \n",
       "...         ...        ...           ...           ...          ...   \n",
       "8420         SE        ENE          13.0          11.0         51.0   \n",
       "8421         SE          N          13.0           9.0         56.0   \n",
       "8422         SE        WNW           9.0           9.0         53.0   \n",
       "8423        SSE          N          13.0           7.0         51.0   \n",
       "8424        ESE        ESE          17.0          17.0         62.0   \n",
       "\n",
       "      Humidity3pm  Pressure9am  Pressure3pm  Temp9am  Temp3pm RainToday  \\\n",
       "0            22.0       1007.7       1007.1     16.9     21.8        No   \n",
       "1            25.0       1010.6       1007.8     17.2     24.3        No   \n",
       "2            30.0       1007.6       1008.7     21.0     23.2        No   \n",
       "3            16.0       1017.6       1012.8     18.1     26.5        No   \n",
       "4            33.0       1010.8       1006.0     17.8     29.7        No   \n",
       "...           ...          ...          ...      ...      ...       ...   \n",
       "8420         24.0       1024.6       1020.3     10.1     22.4        No   \n",
       "8421         21.0       1023.5       1019.1     10.9     24.5        No   \n",
       "8422         24.0       1021.0       1016.8     12.5     26.1        No   \n",
       "8423         24.0       1019.4       1016.5     15.1     26.0        No   \n",
       "8424         36.0       1020.2       1017.9     15.0     20.9        No   \n",
       "\n",
       "     RainTomorrow  \n",
       "0              No  \n",
       "1              No  \n",
       "2              No  \n",
       "3              No  \n",
       "4              No  \n",
       "...           ...  \n",
       "8420           No  \n",
       "8421           No  \n",
       "8422           No  \n",
       "8423           No  \n",
       "8424          NaN  \n",
       "\n",
       "[8425 rows x 18 columns]"
      ]
     },
     "execution_count": 8,
     "metadata": {},
     "output_type": "execute_result"
    }
   ],
   "source": [
    "df"
   ]
  },
  {
   "cell_type": "markdown",
   "id": "a71927bb",
   "metadata": {},
   "source": [
    "### Handling the Missing Values"
   ]
  },
  {
   "cell_type": "code",
   "execution_count": 9,
   "id": "aa11470c",
   "metadata": {},
   "outputs": [],
   "source": [
    "df['MinTemp'].fillna(df['MinTemp'].mean(),inplace=True)\n",
    "df['MaxTemp'].fillna(df['MaxTemp'].mean(),inplace=True)\n",
    "df['WindGustSpeed'].fillna(df['WindGustSpeed'].mean(),inplace=True)\n",
    "df['WindSpeed9am'].fillna(df['WindSpeed9am'].mean(),inplace=True)\n",
    "df['WindSpeed3pm'].fillna(df['WindSpeed3pm'].mean(),inplace=True)\n",
    "df['Humidity9am'].fillna(df['Humidity9am'].mean(),inplace=True)\n",
    "df['Humidity3pm'].fillna(df['Humidity3pm'].mean(),inplace=True)\n",
    "df['Pressure9am'].fillna(df['Pressure9am'].mean(),inplace=True)\n",
    "df['Pressure3pm'].fillna(df['Pressure3pm'].mean(),inplace=True)\n",
    "df['Temp9am'].fillna(df['Temp9am'].mean(),inplace=True)\n",
    "df['Temp3pm'].fillna(df['Temp3pm'].mean(),inplace=True)\n",
    "df['Rainfall'].fillna(df['Rainfall'].mean(),inplace=True)"
   ]
  },
  {
   "cell_type": "code",
   "execution_count": 10,
   "id": "ba81fe3d",
   "metadata": {},
   "outputs": [
    {
     "name": "stdout",
     "output_type": "stream",
     "text": [
      "<class 'pandas.core.frame.DataFrame'>\n",
      "RangeIndex: 8425 entries, 0 to 8424\n",
      "Data columns (total 18 columns):\n",
      " #   Column         Non-Null Count  Dtype  \n",
      "---  ------         --------------  -----  \n",
      " 0   Location       8425 non-null   object \n",
      " 1   MinTemp        8425 non-null   float64\n",
      " 2   MaxTemp        8425 non-null   float64\n",
      " 3   Rainfall       8425 non-null   float64\n",
      " 4   WindGustDir    7434 non-null   object \n",
      " 5   WindGustSpeed  8425 non-null   float64\n",
      " 6   WindDir9am     7596 non-null   object \n",
      " 7   WindDir3pm     8117 non-null   object \n",
      " 8   WindSpeed9am   8425 non-null   float64\n",
      " 9   WindSpeed3pm   8425 non-null   float64\n",
      " 10  Humidity9am    8425 non-null   float64\n",
      " 11  Humidity3pm    8425 non-null   float64\n",
      " 12  Pressure9am    8425 non-null   float64\n",
      " 13  Pressure3pm    8425 non-null   float64\n",
      " 14  Temp9am        8425 non-null   float64\n",
      " 15  Temp3pm        8425 non-null   float64\n",
      " 16  RainToday      8185 non-null   object \n",
      " 17  RainTomorrow   8186 non-null   object \n",
      "dtypes: float64(12), object(6)\n",
      "memory usage: 1.2+ MB\n"
     ]
    }
   ],
   "source": [
    "df.info()"
   ]
  },
  {
   "cell_type": "markdown",
   "id": "0aeac6a9",
   "metadata": {},
   "source": [
    "##### We fill the integer data by mean, now we have to fill objective data."
   ]
  },
  {
   "cell_type": "code",
   "execution_count": 11,
   "id": "f1dc13b6",
   "metadata": {},
   "outputs": [],
   "source": [
    "df['WindGustDir'].fillna(df['WindGustDir'].mode()[0],inplace=True)\n",
    "df['WindDir9am'].fillna(df['WindDir9am'].mode()[0],inplace=True)\n",
    "df['WindDir3pm'].fillna(df['WindDir3pm'].mode()[0],inplace=True)\n",
    "df['RainToday'].fillna(df['RainToday'].mode()[0],inplace=True)\n",
    "df['RainTomorrow'].fillna(df['RainTomorrow'].mode()[0],inplace=True)"
   ]
  },
  {
   "cell_type": "code",
   "execution_count": 12,
   "id": "ae7e64b3",
   "metadata": {},
   "outputs": [
    {
     "name": "stdout",
     "output_type": "stream",
     "text": [
      "<class 'pandas.core.frame.DataFrame'>\n",
      "RangeIndex: 8425 entries, 0 to 8424\n",
      "Data columns (total 18 columns):\n",
      " #   Column         Non-Null Count  Dtype  \n",
      "---  ------         --------------  -----  \n",
      " 0   Location       8425 non-null   object \n",
      " 1   MinTemp        8425 non-null   float64\n",
      " 2   MaxTemp        8425 non-null   float64\n",
      " 3   Rainfall       8425 non-null   float64\n",
      " 4   WindGustDir    8425 non-null   object \n",
      " 5   WindGustSpeed  8425 non-null   float64\n",
      " 6   WindDir9am     8425 non-null   object \n",
      " 7   WindDir3pm     8425 non-null   object \n",
      " 8   WindSpeed9am   8425 non-null   float64\n",
      " 9   WindSpeed3pm   8425 non-null   float64\n",
      " 10  Humidity9am    8425 non-null   float64\n",
      " 11  Humidity3pm    8425 non-null   float64\n",
      " 12  Pressure9am    8425 non-null   float64\n",
      " 13  Pressure3pm    8425 non-null   float64\n",
      " 14  Temp9am        8425 non-null   float64\n",
      " 15  Temp3pm        8425 non-null   float64\n",
      " 16  RainToday      8425 non-null   object \n",
      " 17  RainTomorrow   8425 non-null   object \n",
      "dtypes: float64(12), object(6)\n",
      "memory usage: 1.2+ MB\n"
     ]
    }
   ],
   "source": [
    "df.info()"
   ]
  },
  {
   "cell_type": "markdown",
   "id": "9ffe3930",
   "metadata": {},
   "source": [
    "##### Now we dont have any null values in dataset."
   ]
  },
  {
   "cell_type": "code",
   "execution_count": 13,
   "id": "9f98fdab",
   "metadata": {},
   "outputs": [
    {
     "data": {
      "text/html": [
       "<div>\n",
       "<style scoped>\n",
       "    .dataframe tbody tr th:only-of-type {\n",
       "        vertical-align: middle;\n",
       "    }\n",
       "\n",
       "    .dataframe tbody tr th {\n",
       "        vertical-align: top;\n",
       "    }\n",
       "\n",
       "    .dataframe thead th {\n",
       "        text-align: right;\n",
       "    }\n",
       "</style>\n",
       "<table border=\"1\" class=\"dataframe\">\n",
       "  <thead>\n",
       "    <tr style=\"text-align: right;\">\n",
       "      <th></th>\n",
       "      <th>Location</th>\n",
       "      <th>MinTemp</th>\n",
       "      <th>MaxTemp</th>\n",
       "      <th>Rainfall</th>\n",
       "      <th>WindGustDir</th>\n",
       "      <th>WindGustSpeed</th>\n",
       "      <th>WindDir9am</th>\n",
       "      <th>WindDir3pm</th>\n",
       "      <th>WindSpeed9am</th>\n",
       "      <th>WindSpeed3pm</th>\n",
       "      <th>Humidity9am</th>\n",
       "      <th>Humidity3pm</th>\n",
       "      <th>Pressure9am</th>\n",
       "      <th>Pressure3pm</th>\n",
       "      <th>Temp9am</th>\n",
       "      <th>Temp3pm</th>\n",
       "      <th>RainToday</th>\n",
       "      <th>RainTomorrow</th>\n",
       "    </tr>\n",
       "  </thead>\n",
       "  <tbody>\n",
       "    <tr>\n",
       "      <th>0</th>\n",
       "      <td>Albury</td>\n",
       "      <td>13.4</td>\n",
       "      <td>22.900000</td>\n",
       "      <td>0.6</td>\n",
       "      <td>W</td>\n",
       "      <td>44.000000</td>\n",
       "      <td>W</td>\n",
       "      <td>WNW</td>\n",
       "      <td>20.0</td>\n",
       "      <td>24.0</td>\n",
       "      <td>71.0</td>\n",
       "      <td>22.0</td>\n",
       "      <td>1007.7</td>\n",
       "      <td>1007.1</td>\n",
       "      <td>16.9</td>\n",
       "      <td>21.8</td>\n",
       "      <td>No</td>\n",
       "      <td>No</td>\n",
       "    </tr>\n",
       "    <tr>\n",
       "      <th>1</th>\n",
       "      <td>Albury</td>\n",
       "      <td>7.4</td>\n",
       "      <td>25.100000</td>\n",
       "      <td>0.0</td>\n",
       "      <td>WNW</td>\n",
       "      <td>44.000000</td>\n",
       "      <td>NNW</td>\n",
       "      <td>WSW</td>\n",
       "      <td>4.0</td>\n",
       "      <td>22.0</td>\n",
       "      <td>44.0</td>\n",
       "      <td>25.0</td>\n",
       "      <td>1010.6</td>\n",
       "      <td>1007.8</td>\n",
       "      <td>17.2</td>\n",
       "      <td>24.3</td>\n",
       "      <td>No</td>\n",
       "      <td>No</td>\n",
       "    </tr>\n",
       "    <tr>\n",
       "      <th>2</th>\n",
       "      <td>Albury</td>\n",
       "      <td>12.9</td>\n",
       "      <td>25.700000</td>\n",
       "      <td>0.0</td>\n",
       "      <td>WSW</td>\n",
       "      <td>46.000000</td>\n",
       "      <td>W</td>\n",
       "      <td>WSW</td>\n",
       "      <td>19.0</td>\n",
       "      <td>26.0</td>\n",
       "      <td>38.0</td>\n",
       "      <td>30.0</td>\n",
       "      <td>1007.6</td>\n",
       "      <td>1008.7</td>\n",
       "      <td>21.0</td>\n",
       "      <td>23.2</td>\n",
       "      <td>No</td>\n",
       "      <td>No</td>\n",
       "    </tr>\n",
       "    <tr>\n",
       "      <th>3</th>\n",
       "      <td>Albury</td>\n",
       "      <td>9.2</td>\n",
       "      <td>28.000000</td>\n",
       "      <td>0.0</td>\n",
       "      <td>NE</td>\n",
       "      <td>24.000000</td>\n",
       "      <td>SE</td>\n",
       "      <td>E</td>\n",
       "      <td>11.0</td>\n",
       "      <td>9.0</td>\n",
       "      <td>45.0</td>\n",
       "      <td>16.0</td>\n",
       "      <td>1017.6</td>\n",
       "      <td>1012.8</td>\n",
       "      <td>18.1</td>\n",
       "      <td>26.5</td>\n",
       "      <td>No</td>\n",
       "      <td>No</td>\n",
       "    </tr>\n",
       "    <tr>\n",
       "      <th>4</th>\n",
       "      <td>Albury</td>\n",
       "      <td>17.5</td>\n",
       "      <td>32.300000</td>\n",
       "      <td>1.0</td>\n",
       "      <td>W</td>\n",
       "      <td>41.000000</td>\n",
       "      <td>ENE</td>\n",
       "      <td>NW</td>\n",
       "      <td>7.0</td>\n",
       "      <td>20.0</td>\n",
       "      <td>82.0</td>\n",
       "      <td>33.0</td>\n",
       "      <td>1010.8</td>\n",
       "      <td>1006.0</td>\n",
       "      <td>17.8</td>\n",
       "      <td>29.7</td>\n",
       "      <td>No</td>\n",
       "      <td>No</td>\n",
       "    </tr>\n",
       "    <tr>\n",
       "      <th>...</th>\n",
       "      <td>...</td>\n",
       "      <td>...</td>\n",
       "      <td>...</td>\n",
       "      <td>...</td>\n",
       "      <td>...</td>\n",
       "      <td>...</td>\n",
       "      <td>...</td>\n",
       "      <td>...</td>\n",
       "      <td>...</td>\n",
       "      <td>...</td>\n",
       "      <td>...</td>\n",
       "      <td>...</td>\n",
       "      <td>...</td>\n",
       "      <td>...</td>\n",
       "      <td>...</td>\n",
       "      <td>...</td>\n",
       "      <td>...</td>\n",
       "      <td>...</td>\n",
       "    </tr>\n",
       "    <tr>\n",
       "      <th>8420</th>\n",
       "      <td>Uluru</td>\n",
       "      <td>2.8</td>\n",
       "      <td>23.400000</td>\n",
       "      <td>0.0</td>\n",
       "      <td>E</td>\n",
       "      <td>31.000000</td>\n",
       "      <td>SE</td>\n",
       "      <td>ENE</td>\n",
       "      <td>13.0</td>\n",
       "      <td>11.0</td>\n",
       "      <td>51.0</td>\n",
       "      <td>24.0</td>\n",
       "      <td>1024.6</td>\n",
       "      <td>1020.3</td>\n",
       "      <td>10.1</td>\n",
       "      <td>22.4</td>\n",
       "      <td>No</td>\n",
       "      <td>No</td>\n",
       "    </tr>\n",
       "    <tr>\n",
       "      <th>8421</th>\n",
       "      <td>Uluru</td>\n",
       "      <td>3.6</td>\n",
       "      <td>25.300000</td>\n",
       "      <td>0.0</td>\n",
       "      <td>NNW</td>\n",
       "      <td>22.000000</td>\n",
       "      <td>SE</td>\n",
       "      <td>N</td>\n",
       "      <td>13.0</td>\n",
       "      <td>9.0</td>\n",
       "      <td>56.0</td>\n",
       "      <td>21.0</td>\n",
       "      <td>1023.5</td>\n",
       "      <td>1019.1</td>\n",
       "      <td>10.9</td>\n",
       "      <td>24.5</td>\n",
       "      <td>No</td>\n",
       "      <td>No</td>\n",
       "    </tr>\n",
       "    <tr>\n",
       "      <th>8422</th>\n",
       "      <td>Uluru</td>\n",
       "      <td>5.4</td>\n",
       "      <td>26.900000</td>\n",
       "      <td>0.0</td>\n",
       "      <td>N</td>\n",
       "      <td>37.000000</td>\n",
       "      <td>SE</td>\n",
       "      <td>WNW</td>\n",
       "      <td>9.0</td>\n",
       "      <td>9.0</td>\n",
       "      <td>53.0</td>\n",
       "      <td>24.0</td>\n",
       "      <td>1021.0</td>\n",
       "      <td>1016.8</td>\n",
       "      <td>12.5</td>\n",
       "      <td>26.1</td>\n",
       "      <td>No</td>\n",
       "      <td>No</td>\n",
       "    </tr>\n",
       "    <tr>\n",
       "      <th>8423</th>\n",
       "      <td>Uluru</td>\n",
       "      <td>7.8</td>\n",
       "      <td>27.000000</td>\n",
       "      <td>0.0</td>\n",
       "      <td>SE</td>\n",
       "      <td>28.000000</td>\n",
       "      <td>SSE</td>\n",
       "      <td>N</td>\n",
       "      <td>13.0</td>\n",
       "      <td>7.0</td>\n",
       "      <td>51.0</td>\n",
       "      <td>24.0</td>\n",
       "      <td>1019.4</td>\n",
       "      <td>1016.5</td>\n",
       "      <td>15.1</td>\n",
       "      <td>26.0</td>\n",
       "      <td>No</td>\n",
       "      <td>No</td>\n",
       "    </tr>\n",
       "    <tr>\n",
       "      <th>8424</th>\n",
       "      <td>Uluru</td>\n",
       "      <td>14.9</td>\n",
       "      <td>23.859976</td>\n",
       "      <td>0.0</td>\n",
       "      <td>N</td>\n",
       "      <td>40.174469</td>\n",
       "      <td>ESE</td>\n",
       "      <td>ESE</td>\n",
       "      <td>17.0</td>\n",
       "      <td>17.0</td>\n",
       "      <td>62.0</td>\n",
       "      <td>36.0</td>\n",
       "      <td>1020.2</td>\n",
       "      <td>1017.9</td>\n",
       "      <td>15.0</td>\n",
       "      <td>20.9</td>\n",
       "      <td>No</td>\n",
       "      <td>No</td>\n",
       "    </tr>\n",
       "  </tbody>\n",
       "</table>\n",
       "<p>8425 rows × 18 columns</p>\n",
       "</div>"
      ],
      "text/plain": [
       "     Location  MinTemp    MaxTemp  Rainfall WindGustDir  WindGustSpeed  \\\n",
       "0      Albury     13.4  22.900000       0.6           W      44.000000   \n",
       "1      Albury      7.4  25.100000       0.0         WNW      44.000000   \n",
       "2      Albury     12.9  25.700000       0.0         WSW      46.000000   \n",
       "3      Albury      9.2  28.000000       0.0          NE      24.000000   \n",
       "4      Albury     17.5  32.300000       1.0           W      41.000000   \n",
       "...       ...      ...        ...       ...         ...            ...   \n",
       "8420    Uluru      2.8  23.400000       0.0           E      31.000000   \n",
       "8421    Uluru      3.6  25.300000       0.0         NNW      22.000000   \n",
       "8422    Uluru      5.4  26.900000       0.0           N      37.000000   \n",
       "8423    Uluru      7.8  27.000000       0.0          SE      28.000000   \n",
       "8424    Uluru     14.9  23.859976       0.0           N      40.174469   \n",
       "\n",
       "     WindDir9am WindDir3pm  WindSpeed9am  WindSpeed3pm  Humidity9am  \\\n",
       "0             W        WNW          20.0          24.0         71.0   \n",
       "1           NNW        WSW           4.0          22.0         44.0   \n",
       "2             W        WSW          19.0          26.0         38.0   \n",
       "3            SE          E          11.0           9.0         45.0   \n",
       "4           ENE         NW           7.0          20.0         82.0   \n",
       "...         ...        ...           ...           ...          ...   \n",
       "8420         SE        ENE          13.0          11.0         51.0   \n",
       "8421         SE          N          13.0           9.0         56.0   \n",
       "8422         SE        WNW           9.0           9.0         53.0   \n",
       "8423        SSE          N          13.0           7.0         51.0   \n",
       "8424        ESE        ESE          17.0          17.0         62.0   \n",
       "\n",
       "      Humidity3pm  Pressure9am  Pressure3pm  Temp9am  Temp3pm RainToday  \\\n",
       "0            22.0       1007.7       1007.1     16.9     21.8        No   \n",
       "1            25.0       1010.6       1007.8     17.2     24.3        No   \n",
       "2            30.0       1007.6       1008.7     21.0     23.2        No   \n",
       "3            16.0       1017.6       1012.8     18.1     26.5        No   \n",
       "4            33.0       1010.8       1006.0     17.8     29.7        No   \n",
       "...           ...          ...          ...      ...      ...       ...   \n",
       "8420         24.0       1024.6       1020.3     10.1     22.4        No   \n",
       "8421         21.0       1023.5       1019.1     10.9     24.5        No   \n",
       "8422         24.0       1021.0       1016.8     12.5     26.1        No   \n",
       "8423         24.0       1019.4       1016.5     15.1     26.0        No   \n",
       "8424         36.0       1020.2       1017.9     15.0     20.9        No   \n",
       "\n",
       "     RainTomorrow  \n",
       "0              No  \n",
       "1              No  \n",
       "2              No  \n",
       "3              No  \n",
       "4              No  \n",
       "...           ...  \n",
       "8420           No  \n",
       "8421           No  \n",
       "8422           No  \n",
       "8423           No  \n",
       "8424           No  \n",
       "\n",
       "[8425 rows x 18 columns]"
      ]
     },
     "execution_count": 13,
     "metadata": {},
     "output_type": "execute_result"
    }
   ],
   "source": [
    "df"
   ]
  },
  {
   "cell_type": "markdown",
   "id": "0481a007",
   "metadata": {},
   "source": [
    "### Data Analysis and Visualization"
   ]
  },
  {
   "cell_type": "code",
   "execution_count": 14,
   "id": "8d6493c5",
   "metadata": {},
   "outputs": [
    {
     "data": {
      "text/plain": [
       "<AxesSubplot:xlabel='RainTomorrow', ylabel='count'>"
      ]
     },
     "execution_count": 14,
     "metadata": {},
     "output_type": "execute_result"
    },
    {
     "data": {
      "image/png": "[encoded data removed]",
      "text/plain": [
       "<Figure size 504x360 with 1 Axes>"
      ]
     },
     "metadata": {
      "needs_background": "light"
     },
     "output_type": "display_data"
    }
   ],
   "source": [
    "plt.figure(figsize=(7,5))\n",
    "sns.countplot(x = 'RainTomorrow',data=df)"
   ]
  },
  {
   "cell_type": "markdown",
   "id": "600f275a",
   "metadata": {},
   "source": [
    "##### Above plot shows the prediction for Rain tomorrow. Number of No Rain tommorow is more than the number of Yes Rain tomorrow."
   ]
  },
  {
   "cell_type": "code",
   "execution_count": 15,
   "id": "cacc8bc1",
   "metadata": {},
   "outputs": [
    {
     "data": {
      "text/plain": [
       "<AxesSubplot:xlabel='Location', ylabel='count'>"
      ]
     },
     "execution_count": 15,
     "metadata": {},
     "output_type": "execute_result"
    },
    {
     "data": {
      "image/png": "[encoded data removed]",
      "text/plain": [
       "<Figure size 1080x648 with 1 Axes>"
      ]
     },
     "metadata": {
      "needs_background": "light"
     },
     "output_type": "display_data"
    }
   ],
   "source": [
    "plt.figure(figsize=(15,9))\n",
    "sns.countplot(x = 'Location',hue='RainTomorrow',data=df)"
   ]
  },
  {
   "cell_type": "markdown",
   "id": "84f3f8f2",
   "metadata": {},
   "source": [
    "##### Yes rain prediction for Rain tomorrow is maximum for Melbourne city."
   ]
  },
  {
   "cell_type": "code",
   "execution_count": 16,
   "id": "57468c5d",
   "metadata": {},
   "outputs": [
    {
     "data": {
      "text/plain": [
       "<AxesSubplot:xlabel='Rainfall', ylabel='MinTemp'>"
      ]
     },
     "execution_count": 16,
     "metadata": {},
     "output_type": "execute_result"
    },
    {
     "data": {
      "image/png": "[encoded data removed]",
      "text/plain": [
       "<Figure size 504x432 with 1 Axes>"
      ]
     },
     "metadata": {
      "needs_background": "light"
     },
     "output_type": "display_data"
    }
   ],
   "source": [
    "plt.figure(figsize=(7,6))\n",
    "sns.scatterplot(x = 'Rainfall',y = 'MinTemp',data=df)"
   ]
  },
  {
   "cell_type": "markdown",
   "id": "8bf30838",
   "metadata": {},
   "source": [
    "##### From above plot we can say that there is only 0 to 50 percent rainfall for minimum temperature."
   ]
  },
  {
   "cell_type": "code",
   "execution_count": 17,
   "id": "a450d31b",
   "metadata": {},
   "outputs": [
    {
     "data": {
      "text/plain": [
       "<AxesSubplot:xlabel='Rainfall', ylabel='MaxTemp'>"
      ]
     },
     "execution_count": 17,
     "metadata": {},
     "output_type": "execute_result"
    },
    {
     "data": {
      "image/png": "[encoded data removed]",
      "text/plain": [
       "<Figure size 504x432 with 1 Axes>"
      ]
     },
     "metadata": {
      "needs_background": "light"
     },
     "output_type": "display_data"
    }
   ],
   "source": [
    "plt.figure(figsize=(7,6))\n",
    "sns.scatterplot(x = 'Rainfall',y = 'MaxTemp',data=df)"
   ]
  },
  {
   "cell_type": "markdown",
   "id": "d27d6d79",
   "metadata": {},
   "source": [
    "##### From above plot we can say that there is heavy rainfall for maximum temp between 15 to 35."
   ]
  },
  {
   "cell_type": "code",
   "execution_count": 18,
   "id": "780b258b",
   "metadata": {},
   "outputs": [
    {
     "data": {
      "text/plain": [
       "<AxesSubplot:xlabel='WindDir9am', ylabel='count'>"
      ]
     },
     "execution_count": 18,
     "metadata": {},
     "output_type": "execute_result"
    },
    {
     "data": {
      "image/png": "[encoded data removed]",
      "text/plain": [
       "<Figure size 648x432 with 1 Axes>"
      ]
     },
     "metadata": {
      "needs_background": "light"
     },
     "output_type": "display_data"
    }
   ],
   "source": [
    "plt.figure(figsize=(9,6))\n",
    "sns.countplot(x = 'WindDir9am',hue='RainTomorrow',data=df,color='g')"
   ]
  },
  {
   "cell_type": "markdown",
   "id": "af80952d",
   "metadata": {},
   "source": [
    "##### The wind direction at 9am from North has the maximum chances to fall rain tomorrow."
   ]
  },
  {
   "cell_type": "code",
   "execution_count": 19,
   "id": "f6cac267",
   "metadata": {},
   "outputs": [
    {
     "data": {
      "text/plain": [
       "<AxesSubplot:xlabel='WindDir3pm', ylabel='count'>"
      ]
     },
     "execution_count": 19,
     "metadata": {},
     "output_type": "execute_result"
    },
    {
     "data": {
      "image/png": "[encoded data removed]",
      "text/plain": [
       "<Figure size 720x504 with 1 Axes>"
      ]
     },
     "metadata": {
      "needs_background": "light"
     },
     "output_type": "display_data"
    }
   ],
   "source": [
    "plt.figure(figsize=(10,7))\n",
    "sns.countplot(x = 'WindDir3pm',hue='RainTomorrow',data=df,color='r')"
   ]
  },
  {
   "cell_type": "markdown",
   "id": "edb93078",
   "metadata": {},
   "source": [
    "##### The wind direction at 3pm from South East side has the maximum chances to fall rain tomorrow."
   ]
  },
  {
   "cell_type": "markdown",
   "id": "8e34caa0",
   "metadata": {},
   "source": [
    "### Description"
   ]
  },
  {
   "cell_type": "code",
   "execution_count": 20,
   "id": "d50e9f8f",
   "metadata": {},
   "outputs": [
    {
     "data": {
      "text/html": [
       "<div>\n",
       "<style scoped>\n",
       "    .dataframe tbody tr th:only-of-type {\n",
       "        vertical-align: middle;\n",
       "    }\n",
       "\n",
       "    .dataframe tbody tr th {\n",
       "        vertical-align: top;\n",
       "    }\n",
       "\n",
       "    .dataframe thead th {\n",
       "        text-align: right;\n",
       "    }\n",
       "</style>\n",
       "<table border=\"1\" class=\"dataframe\">\n",
       "  <thead>\n",
       "    <tr style=\"text-align: right;\">\n",
       "      <th></th>\n",
       "      <th>MinTemp</th>\n",
       "      <th>MaxTemp</th>\n",
       "      <th>Rainfall</th>\n",
       "      <th>WindGustSpeed</th>\n",
       "      <th>WindSpeed9am</th>\n",
       "      <th>WindSpeed3pm</th>\n",
       "      <th>Humidity9am</th>\n",
       "      <th>Humidity3pm</th>\n",
       "      <th>Pressure9am</th>\n",
       "      <th>Pressure3pm</th>\n",
       "      <th>Temp9am</th>\n",
       "      <th>Temp3pm</th>\n",
       "    </tr>\n",
       "  </thead>\n",
       "  <tbody>\n",
       "    <tr>\n",
       "      <th>count</th>\n",
       "      <td>8425.000000</td>\n",
       "      <td>8425.000000</td>\n",
       "      <td>8425.000000</td>\n",
       "      <td>8425.000000</td>\n",
       "      <td>8425.000000</td>\n",
       "      <td>8425.000000</td>\n",
       "      <td>8425.000000</td>\n",
       "      <td>8425.000000</td>\n",
       "      <td>8425.000000</td>\n",
       "      <td>8425.000000</td>\n",
       "      <td>8425.000000</td>\n",
       "      <td>8425.000000</td>\n",
       "    </tr>\n",
       "    <tr>\n",
       "      <th>mean</th>\n",
       "      <td>13.193305</td>\n",
       "      <td>23.859976</td>\n",
       "      <td>2.805913</td>\n",
       "      <td>40.174469</td>\n",
       "      <td>13.847646</td>\n",
       "      <td>18.533662</td>\n",
       "      <td>67.822496</td>\n",
       "      <td>51.249790</td>\n",
       "      <td>1017.640233</td>\n",
       "      <td>1015.236075</td>\n",
       "      <td>17.762015</td>\n",
       "      <td>22.442934</td>\n",
       "    </tr>\n",
       "    <tr>\n",
       "      <th>std</th>\n",
       "      <td>5.379488</td>\n",
       "      <td>6.114516</td>\n",
       "      <td>10.309308</td>\n",
       "      <td>13.776101</td>\n",
       "      <td>10.128579</td>\n",
       "      <td>9.704759</td>\n",
       "      <td>16.774231</td>\n",
       "      <td>18.311894</td>\n",
       "      <td>6.275759</td>\n",
       "      <td>6.217451</td>\n",
       "      <td>5.608301</td>\n",
       "      <td>5.945849</td>\n",
       "    </tr>\n",
       "    <tr>\n",
       "      <th>min</th>\n",
       "      <td>-2.000000</td>\n",
       "      <td>8.200000</td>\n",
       "      <td>0.000000</td>\n",
       "      <td>7.000000</td>\n",
       "      <td>0.000000</td>\n",
       "      <td>0.000000</td>\n",
       "      <td>10.000000</td>\n",
       "      <td>6.000000</td>\n",
       "      <td>989.800000</td>\n",
       "      <td>982.900000</td>\n",
       "      <td>1.900000</td>\n",
       "      <td>7.300000</td>\n",
       "    </tr>\n",
       "    <tr>\n",
       "      <th>25%</th>\n",
       "      <td>9.300000</td>\n",
       "      <td>19.300000</td>\n",
       "      <td>0.000000</td>\n",
       "      <td>31.000000</td>\n",
       "      <td>6.000000</td>\n",
       "      <td>11.000000</td>\n",
       "      <td>56.000000</td>\n",
       "      <td>39.000000</td>\n",
       "      <td>1014.000000</td>\n",
       "      <td>1011.400000</td>\n",
       "      <td>13.800000</td>\n",
       "      <td>18.100000</td>\n",
       "    </tr>\n",
       "    <tr>\n",
       "      <th>50%</th>\n",
       "      <td>13.200000</td>\n",
       "      <td>23.300000</td>\n",
       "      <td>0.000000</td>\n",
       "      <td>40.174469</td>\n",
       "      <td>13.000000</td>\n",
       "      <td>19.000000</td>\n",
       "      <td>68.000000</td>\n",
       "      <td>51.000000</td>\n",
       "      <td>1017.640233</td>\n",
       "      <td>1015.236075</td>\n",
       "      <td>17.762015</td>\n",
       "      <td>22.000000</td>\n",
       "    </tr>\n",
       "    <tr>\n",
       "      <th>75%</th>\n",
       "      <td>17.300000</td>\n",
       "      <td>28.000000</td>\n",
       "      <td>1.400000</td>\n",
       "      <td>48.000000</td>\n",
       "      <td>20.000000</td>\n",
       "      <td>24.000000</td>\n",
       "      <td>80.000000</td>\n",
       "      <td>63.000000</td>\n",
       "      <td>1021.300000</td>\n",
       "      <td>1018.800000</td>\n",
       "      <td>21.900000</td>\n",
       "      <td>26.300000</td>\n",
       "    </tr>\n",
       "    <tr>\n",
       "      <th>max</th>\n",
       "      <td>28.500000</td>\n",
       "      <td>45.500000</td>\n",
       "      <td>371.000000</td>\n",
       "      <td>107.000000</td>\n",
       "      <td>63.000000</td>\n",
       "      <td>83.000000</td>\n",
       "      <td>100.000000</td>\n",
       "      <td>99.000000</td>\n",
       "      <td>1039.000000</td>\n",
       "      <td>1036.000000</td>\n",
       "      <td>39.400000</td>\n",
       "      <td>44.100000</td>\n",
       "    </tr>\n",
       "  </tbody>\n",
       "</table>\n",
       "</div>"
      ],
      "text/plain": [
       "           MinTemp      MaxTemp     Rainfall  WindGustSpeed  WindSpeed9am  \\\n",
       "count  8425.000000  8425.000000  8425.000000    8425.000000   8425.000000   \n",
       "mean     13.193305    23.859976     2.805913      40.174469     13.847646   \n",
       "std       5.379488     6.114516    10.309308      13.776101     10.128579   \n",
       "min      -2.000000     8.200000     0.000000       7.000000      0.000000   \n",
       "25%       9.300000    19.300000     0.000000      31.000000      6.000000   \n",
       "50%      13.200000    23.300000     0.000000      40.174469     13.000000   \n",
       "75%      17.300000    28.000000     1.400000      48.000000     20.000000   \n",
       "max      28.500000    45.500000   371.000000     107.000000     63.000000   \n",
       "\n",
       "       WindSpeed3pm  Humidity9am  Humidity3pm  Pressure9am  Pressure3pm  \\\n",
       "count   8425.000000  8425.000000  8425.000000  8425.000000  8425.000000   \n",
       "mean      18.533662    67.822496    51.249790  1017.640233  1015.236075   \n",
       "std        9.704759    16.774231    18.311894     6.275759     6.217451   \n",
       "min        0.000000    10.000000     6.000000   989.800000   982.900000   \n",
       "25%       11.000000    56.000000    39.000000  1014.000000  1011.400000   \n",
       "50%       19.000000    68.000000    51.000000  1017.640233  1015.236075   \n",
       "75%       24.000000    80.000000    63.000000  1021.300000  1018.800000   \n",
       "max       83.000000   100.000000    99.000000  1039.000000  1036.000000   \n",
       "\n",
       "           Temp9am      Temp3pm  \n",
       "count  8425.000000  8425.000000  \n",
       "mean     17.762015    22.442934  \n",
       "std       5.608301     5.945849  \n",
       "min       1.900000     7.300000  \n",
       "25%      13.800000    18.100000  \n",
       "50%      17.762015    22.000000  \n",
       "75%      21.900000    26.300000  \n",
       "max      39.400000    44.100000  "
      ]
     },
     "execution_count": 20,
     "metadata": {},
     "output_type": "execute_result"
    }
   ],
   "source": [
    "df.describe()"
   ]
  },
  {
   "cell_type": "markdown",
   "id": "aab96147",
   "metadata": {},
   "source": [
    "##### The description of dataset shows the Count,Standard Deviation,Mean,Maximum value and Minimum value of each column."
   ]
  },
  {
   "cell_type": "code",
   "execution_count": 21,
   "id": "6e9716a2",
   "metadata": {},
   "outputs": [
    {
     "data": {
      "text/plain": [
       "<AxesSubplot:>"
      ]
     },
     "execution_count": 21,
     "metadata": {},
     "output_type": "execute_result"
    },
    {
     "data": {
      "image/png": "[encoded data removed]",
      "text/plain": [
       "<Figure size 1008x720 with 2 Axes>"
      ]
     },
     "metadata": {
      "needs_background": "light"
     },
     "output_type": "display_data"
    }
   ],
   "source": [
    "plt.figure(figsize=(14,10))\n",
    "sns.heatmap(df.describe(),annot=True,fmt='.2f',linewidths=2)"
   ]
  },
  {
   "cell_type": "markdown",
   "id": "bb295967",
   "metadata": {},
   "source": [
    "#### Outcome of Description"
   ]
  },
  {
   "cell_type": "markdown",
   "id": "cea148cd",
   "metadata": {},
   "source": [
    "MinTemp- 1.Mean = 13.19, 2.Std = 5.38, 3.Min = -2, Max = 28.50\n",
    "\n",
    "MaxTemp - 1.Mean = 23.86, 2.Std = 6.11, 3.Min = 8.20, Max = 45.50\n",
    "\n",
    "Rainfall - 1.Mean = 2.81, 2.Std = 10.31, 3.Min = 0, Max = 371\n",
    "\n",
    "WindGustSpeed - 1.Mean = 40.17, 2.Std = 13.78, 3.Min = 7, Max = 107\n",
    "\n",
    "WindSpeed9am - 1.Mean = 13.85, 2.Std = 10.13, 3.Min = 0, Max = 63\n",
    "\n",
    "WindSpeed3pm - 1.Mean = 18.53, 2.Std = 9.70, 3.Min = 0, Max = 83\n",
    "\n",
    "Humidity9am - 1.Mean = 67.82, 2.Std = 16.77, 3.Min = 10, Max = 100\n",
    "\n",
    "Humidity3pm - 1.Mean = 51.25, 2.Std = 18.31, 3.Min = 6, Max = 99\n",
    "\n",
    "Pressure9am - 1.Mean = 1017.64, 2.Std = 6.28, 3.Min = 989.80, Max = 1039\n",
    "\n",
    "Pressure3pm - 1.Mean = 1015.24, 2.Std = 6.22, 3.Min = 982.90, Max = 1036\n",
    "\n",
    "Temp9am - 1.Mean = 17.76, 2.Std = 5.61, 3.Min = 1.90, Max = 39.40\n",
    "\n",
    "Temp3pm - 1.Mean = 22.44, 2.Std = 5.95, 3.Min = 7.30, Max = 44.10"
   ]
  },
  {
   "cell_type": "markdown",
   "id": "7d8f3671",
   "metadata": {},
   "source": [
    "### Correlation"
   ]
  },
  {
   "cell_type": "code",
   "execution_count": 22,
   "id": "b4ede29d",
   "metadata": {},
   "outputs": [
    {
     "data": {
      "text/html": [
       "<div>\n",
       "<style scoped>\n",
       "    .dataframe tbody tr th:only-of-type {\n",
       "        vertical-align: middle;\n",
       "    }\n",
       "\n",
       "    .dataframe tbody tr th {\n",
       "        vertical-align: top;\n",
       "    }\n",
       "\n",
       "    .dataframe thead th {\n",
       "        text-align: right;\n",
       "    }\n",
       "</style>\n",
       "<table border=\"1\" class=\"dataframe\">\n",
       "  <thead>\n",
       "    <tr style=\"text-align: right;\">\n",
       "      <th></th>\n",
       "      <th>MinTemp</th>\n",
       "      <th>MaxTemp</th>\n",
       "      <th>Rainfall</th>\n",
       "      <th>WindGustSpeed</th>\n",
       "      <th>WindSpeed9am</th>\n",
       "      <th>WindSpeed3pm</th>\n",
       "      <th>Humidity9am</th>\n",
       "      <th>Humidity3pm</th>\n",
       "      <th>Pressure9am</th>\n",
       "      <th>Pressure3pm</th>\n",
       "      <th>Temp9am</th>\n",
       "      <th>Temp3pm</th>\n",
       "    </tr>\n",
       "  </thead>\n",
       "  <tbody>\n",
       "    <tr>\n",
       "      <th>MinTemp</th>\n",
       "      <td>1.000000</td>\n",
       "      <td>0.717522</td>\n",
       "      <td>0.087684</td>\n",
       "      <td>0.230058</td>\n",
       "      <td>0.136872</td>\n",
       "      <td>0.178349</td>\n",
       "      <td>-0.130731</td>\n",
       "      <td>0.079048</td>\n",
       "      <td>-0.429432</td>\n",
       "      <td>-0.422991</td>\n",
       "      <td>0.887119</td>\n",
       "      <td>0.685520</td>\n",
       "    </tr>\n",
       "    <tr>\n",
       "      <th>MaxTemp</th>\n",
       "      <td>0.717522</td>\n",
       "      <td>1.000000</td>\n",
       "      <td>-0.087451</td>\n",
       "      <td>0.139998</td>\n",
       "      <td>0.013314</td>\n",
       "      <td>0.088172</td>\n",
       "      <td>-0.390976</td>\n",
       "      <td>-0.421879</td>\n",
       "      <td>-0.325721</td>\n",
       "      <td>-0.403258</td>\n",
       "      <td>0.866039</td>\n",
       "      <td>0.974506</td>\n",
       "    </tr>\n",
       "    <tr>\n",
       "      <th>Rainfall</th>\n",
       "      <td>0.087684</td>\n",
       "      <td>-0.087451</td>\n",
       "      <td>1.000000</td>\n",
       "      <td>0.086000</td>\n",
       "      <td>0.050631</td>\n",
       "      <td>0.024791</td>\n",
       "      <td>0.228800</td>\n",
       "      <td>0.235444</td>\n",
       "      <td>-0.072668</td>\n",
       "      <td>-0.033649</td>\n",
       "      <td>-0.007083</td>\n",
       "      <td>-0.090687</td>\n",
       "    </tr>\n",
       "    <tr>\n",
       "      <th>WindGustSpeed</th>\n",
       "      <td>0.230058</td>\n",
       "      <td>0.139998</td>\n",
       "      <td>0.086000</td>\n",
       "      <td>1.000000</td>\n",
       "      <td>0.600198</td>\n",
       "      <td>0.634939</td>\n",
       "      <td>-0.269593</td>\n",
       "      <td>-0.091860</td>\n",
       "      <td>-0.407139</td>\n",
       "      <td>-0.372651</td>\n",
       "      <td>0.202298</td>\n",
       "      <td>0.102199</td>\n",
       "    </tr>\n",
       "    <tr>\n",
       "      <th>WindSpeed9am</th>\n",
       "      <td>0.136872</td>\n",
       "      <td>0.013314</td>\n",
       "      <td>0.050631</td>\n",
       "      <td>0.600198</td>\n",
       "      <td>1.000000</td>\n",
       "      <td>0.560660</td>\n",
       "      <td>-0.358391</td>\n",
       "      <td>-0.110587</td>\n",
       "      <td>-0.174679</td>\n",
       "      <td>-0.138454</td>\n",
       "      <td>0.109798</td>\n",
       "      <td>-0.002606</td>\n",
       "    </tr>\n",
       "    <tr>\n",
       "      <th>WindSpeed3pm</th>\n",
       "      <td>0.178349</td>\n",
       "      <td>0.088172</td>\n",
       "      <td>0.024791</td>\n",
       "      <td>0.634939</td>\n",
       "      <td>0.560660</td>\n",
       "      <td>1.000000</td>\n",
       "      <td>-0.250953</td>\n",
       "      <td>-0.091004</td>\n",
       "      <td>-0.251697</td>\n",
       "      <td>-0.207544</td>\n",
       "      <td>0.184188</td>\n",
       "      <td>0.066087</td>\n",
       "    </tr>\n",
       "    <tr>\n",
       "      <th>Humidity9am</th>\n",
       "      <td>-0.130731</td>\n",
       "      <td>-0.390976</td>\n",
       "      <td>0.228800</td>\n",
       "      <td>-0.269593</td>\n",
       "      <td>-0.358391</td>\n",
       "      <td>-0.250953</td>\n",
       "      <td>1.000000</td>\n",
       "      <td>0.633291</td>\n",
       "      <td>0.142374</td>\n",
       "      <td>0.173415</td>\n",
       "      <td>-0.378344</td>\n",
       "      <td>-0.382401</td>\n",
       "    </tr>\n",
       "    <tr>\n",
       "      <th>Humidity3pm</th>\n",
       "      <td>0.079048</td>\n",
       "      <td>-0.421879</td>\n",
       "      <td>0.235444</td>\n",
       "      <td>-0.091860</td>\n",
       "      <td>-0.110587</td>\n",
       "      <td>-0.091004</td>\n",
       "      <td>0.633291</td>\n",
       "      <td>1.000000</td>\n",
       "      <td>0.001629</td>\n",
       "      <td>0.070369</td>\n",
       "      <td>-0.130414</td>\n",
       "      <td>-0.491485</td>\n",
       "    </tr>\n",
       "    <tr>\n",
       "      <th>Pressure9am</th>\n",
       "      <td>-0.429432</td>\n",
       "      <td>-0.325721</td>\n",
       "      <td>-0.072668</td>\n",
       "      <td>-0.407139</td>\n",
       "      <td>-0.174679</td>\n",
       "      <td>-0.251697</td>\n",
       "      <td>0.142374</td>\n",
       "      <td>0.001629</td>\n",
       "      <td>1.000000</td>\n",
       "      <td>0.961428</td>\n",
       "      <td>-0.410849</td>\n",
       "      <td>-0.283412</td>\n",
       "    </tr>\n",
       "    <tr>\n",
       "      <th>Pressure3pm</th>\n",
       "      <td>-0.422991</td>\n",
       "      <td>-0.403258</td>\n",
       "      <td>-0.033649</td>\n",
       "      <td>-0.372651</td>\n",
       "      <td>-0.138454</td>\n",
       "      <td>-0.207544</td>\n",
       "      <td>0.173415</td>\n",
       "      <td>0.070369</td>\n",
       "      <td>0.961428</td>\n",
       "      <td>1.000000</td>\n",
       "      <td>-0.439378</td>\n",
       "      <td>-0.369953</td>\n",
       "    </tr>\n",
       "    <tr>\n",
       "      <th>Temp9am</th>\n",
       "      <td>0.887119</td>\n",
       "      <td>0.866039</td>\n",
       "      <td>-0.007083</td>\n",
       "      <td>0.202298</td>\n",
       "      <td>0.109798</td>\n",
       "      <td>0.184188</td>\n",
       "      <td>-0.378344</td>\n",
       "      <td>-0.130414</td>\n",
       "      <td>-0.410849</td>\n",
       "      <td>-0.439378</td>\n",
       "      <td>1.000000</td>\n",
       "      <td>0.834165</td>\n",
       "    </tr>\n",
       "    <tr>\n",
       "      <th>Temp3pm</th>\n",
       "      <td>0.685520</td>\n",
       "      <td>0.974506</td>\n",
       "      <td>-0.090687</td>\n",
       "      <td>0.102199</td>\n",
       "      <td>-0.002606</td>\n",
       "      <td>0.066087</td>\n",
       "      <td>-0.382401</td>\n",
       "      <td>-0.491485</td>\n",
       "      <td>-0.283412</td>\n",
       "      <td>-0.369953</td>\n",
       "      <td>0.834165</td>\n",
       "      <td>1.000000</td>\n",
       "    </tr>\n",
       "  </tbody>\n",
       "</table>\n",
       "</div>"
      ],
      "text/plain": [
       "                MinTemp   MaxTemp  Rainfall  WindGustSpeed  WindSpeed9am  \\\n",
       "MinTemp        1.000000  0.717522  0.087684       0.230058      0.136872   \n",
       "MaxTemp        0.717522  1.000000 -0.087451       0.139998      0.013314   \n",
       "Rainfall       0.087684 -0.087451  1.000000       0.086000      0.050631   \n",
       "WindGustSpeed  0.230058  0.139998  0.086000       1.000000      0.600198   \n",
       "WindSpeed9am   0.136872  0.013314  0.050631       0.600198      1.000000   \n",
       "WindSpeed3pm   0.178349  0.088172  0.024791       0.634939      0.560660   \n",
       "Humidity9am   -0.130731 -0.390976  0.228800      -0.269593     -0.358391   \n",
       "Humidity3pm    0.079048 -0.421879  0.235444      -0.091860     -0.110587   \n",
       "Pressure9am   -0.429432 -0.325721 -0.072668      -0.407139     -0.174679   \n",
       "Pressure3pm   -0.422991 -0.403258 -0.033649      -0.372651     -0.138454   \n",
       "Temp9am        0.887119  0.866039 -0.007083       0.202298      0.109798   \n",
       "Temp3pm        0.685520  0.974506 -0.090687       0.102199     -0.002606   \n",
       "\n",
       "               WindSpeed3pm  Humidity9am  Humidity3pm  Pressure9am  \\\n",
       "MinTemp            0.178349    -0.130731     0.079048    -0.429432   \n",
       "MaxTemp            0.088172    -0.390976    -0.421879    -0.325721   \n",
       "Rainfall           0.024791     0.228800     0.235444    -0.072668   \n",
       "WindGustSpeed      0.634939    -0.269593    -0.091860    -0.407139   \n",
       "WindSpeed9am       0.560660    -0.358391    -0.110587    -0.174679   \n",
       "WindSpeed3pm       1.000000    -0.250953    -0.091004    -0.251697   \n",
       "Humidity9am       -0.250953     1.000000     0.633291     0.142374   \n",
       "Humidity3pm       -0.091004     0.633291     1.000000     0.001629   \n",
       "Pressure9am       -0.251697     0.142374     0.001629     1.000000   \n",
       "Pressure3pm       -0.207544     0.173415     0.070369     0.961428   \n",
       "Temp9am            0.184188    -0.378344    -0.130414    -0.410849   \n",
       "Temp3pm            0.066087    -0.382401    -0.491485    -0.283412   \n",
       "\n",
       "               Pressure3pm   Temp9am   Temp3pm  \n",
       "MinTemp          -0.422991  0.887119  0.685520  \n",
       "MaxTemp          -0.403258  0.866039  0.974506  \n",
       "Rainfall         -0.033649 -0.007083 -0.090687  \n",
       "WindGustSpeed    -0.372651  0.202298  0.102199  \n",
       "WindSpeed9am     -0.138454  0.109798 -0.002606  \n",
       "WindSpeed3pm     -0.207544  0.184188  0.066087  \n",
       "Humidity9am       0.173415 -0.378344 -0.382401  \n",
       "Humidity3pm       0.070369 -0.130414 -0.491485  \n",
       "Pressure9am       0.961428 -0.410849 -0.283412  \n",
       "Pressure3pm       1.000000 -0.439378 -0.369953  \n",
       "Temp9am          -0.439378  1.000000  0.834165  \n",
       "Temp3pm          -0.369953  0.834165  1.000000  "
      ]
     },
     "execution_count": 22,
     "metadata": {},
     "output_type": "execute_result"
    }
   ],
   "source": [
    "df.corr()"
   ]
  },
  {
   "cell_type": "code",
   "execution_count": 23,
   "id": "a6fb6ecc",
   "metadata": {},
   "outputs": [
    {
     "data": {
      "text/plain": [
       "<AxesSubplot:>"
      ]
     },
     "execution_count": 23,
     "metadata": {},
     "output_type": "execute_result"
    },
    {
     "data": {
      "image/png": "[encoded data removed]",
      "text/plain": [
       "<Figure size 1080x720 with 2 Axes>"
      ]
     },
     "metadata": {
      "needs_background": "light"
     },
     "output_type": "display_data"
    }
   ],
   "source": [
    "plt.figure(figsize=(15,10))\n",
    "sns.heatmap(df.corr(),annot=True,cmap='coolwarm')"
   ]
  },
  {
   "cell_type": "markdown",
   "id": "721af50d",
   "metadata": {},
   "source": [
    "##### From above heatmap we can say that some columns are positively correlated and some are negatively correlated. MinTemp is 72 percent correlated with MaxTemp which considered to be a good bond. MinTemp is 89 percent and 69 percent correlated with Temp9am and Temp3pm resp which considered to be a good bond.\n",
    "##### WindGutsSpeed  is 63 percent and 60 percent correlated with WindSpeed3pm and WindSpeed9am rsp. WindSpeed9am is 56 percent correlated with WindSpeed3pm. Humidity9am and Humidity3pn are 63 percent correlated with each other. Pressure9am and Pressure3pm are 96 percent correlated with each other.\n",
    "##### Temp9am is 89 percent and 87 percent correlated with Mintemp and Maxtemp. Temp3pm is 97 percent and 67 percent correlated with MaxTemp and MinTemp. Temp9am and TEmp3pm are 83 percent correlated with each other."
   ]
  },
  {
   "cell_type": "code",
   "execution_count": 24,
   "id": "0d5a020c",
   "metadata": {},
   "outputs": [
    {
     "data": {
      "text/plain": [
       "['MinTemp',\n",
       " 'MaxTemp',\n",
       " 'Rainfall',\n",
       " 'WindGustSpeed',\n",
       " 'WindSpeed9am',\n",
       " 'WindSpeed3pm',\n",
       " 'Humidity9am',\n",
       " 'Humidity3pm',\n",
       " 'Pressure9am',\n",
       " 'Pressure3pm',\n",
       " 'Temp9am',\n",
       " 'Temp3pm']"
      ]
     },
     "execution_count": 24,
     "metadata": {},
     "output_type": "execute_result"
    }
   ],
   "source": [
    "non_cat_columns = []\n",
    "for i in df.dtypes.index:\n",
    "    if df[i].dtypes != object:\n",
    "        non_cat_columns.append(i)\n",
    "non_cat_columns"
   ]
  },
  {
   "cell_type": "code",
   "execution_count": 25,
   "id": "17874a7a",
   "metadata": {},
   "outputs": [
    {
     "data": {
      "text/plain": [
       "['Location',\n",
       " 'WindGustDir',\n",
       " 'WindDir9am',\n",
       " 'WindDir3pm',\n",
       " 'RainToday',\n",
       " 'RainTomorrow']"
      ]
     },
     "execution_count": 25,
     "metadata": {},
     "output_type": "execute_result"
    }
   ],
   "source": [
    "cat_columns = []\n",
    "for i in df.dtypes.index:\n",
    "    if df[i].dtypes == object:\n",
    "        cat_columns.append(i)\n",
    "cat_columns"
   ]
  },
  {
   "cell_type": "markdown",
   "id": "45475fbf",
   "metadata": {},
   "source": [
    "## Data Cleaning"
   ]
  },
  {
   "cell_type": "markdown",
   "id": "3d3e0cbb",
   "metadata": {},
   "source": [
    "### Skewness"
   ]
  },
  {
   "cell_type": "code",
   "execution_count": 26,
   "id": "9ffb29e5",
   "metadata": {},
   "outputs": [
    {
     "data": {
      "text/plain": [
       "MinTemp          -0.089989\n",
       "MaxTemp           0.380654\n",
       "Rainfall         13.218403\n",
       "WindGustSpeed     0.757000\n",
       "WindSpeed9am      0.960591\n",
       "WindSpeed3pm      0.494217\n",
       "Humidity9am      -0.256743\n",
       "Humidity3pm       0.118281\n",
       "Pressure9am      -0.024082\n",
       "Pressure3pm      -0.010214\n",
       "Temp9am          -0.014748\n",
       "Temp3pm           0.397331\n",
       "dtype: float64"
      ]
     },
     "execution_count": 26,
     "metadata": {},
     "output_type": "execute_result"
    }
   ],
   "source": [
    "df.skew()"
   ]
  },
  {
   "cell_type": "code",
   "execution_count": 27,
   "id": "fd141d76",
   "metadata": {},
   "outputs": [
    {
     "data": {
      "text/plain": [
       "Rainfall         13.218403\n",
       "WindSpeed9am      0.960591\n",
       "WindGustSpeed     0.757000\n",
       "WindSpeed3pm      0.494217\n",
       "Temp3pm           0.397331\n",
       "MaxTemp           0.380654\n",
       "Humidity3pm       0.118281\n",
       "Pressure3pm      -0.010214\n",
       "Temp9am          -0.014748\n",
       "Pressure9am      -0.024082\n",
       "MinTemp          -0.089989\n",
       "Humidity9am      -0.256743\n",
       "dtype: float64"
      ]
     },
     "execution_count": 27,
     "metadata": {},
     "output_type": "execute_result"
    }
   ],
   "source": [
    "df.skew().sort_values(ascending=False)"
   ]
  },
  {
   "cell_type": "markdown",
   "id": "85ecd5d9",
   "metadata": {},
   "source": [
    "##### Let's set the threshold for skewness at 0.75"
   ]
  },
  {
   "cell_type": "code",
   "execution_count": 28,
   "id": "4e871151",
   "metadata": {},
   "outputs": [
    {
     "data": {
      "image/png": "[encoded data removed]",
      "text/plain": [
       "<Figure size 2016x1440 with 12 Axes>"
      ]
     },
     "metadata": {
      "needs_background": "light"
     },
     "output_type": "display_data"
    }
   ],
   "source": [
    "df.plot(kind = 'density',subplots=True,layout=(4,3),figsize=(28,20),sharex=False)\n",
    "plt.show()"
   ]
  },
  {
   "cell_type": "markdown",
   "id": "8ce63370",
   "metadata": {},
   "source": [
    "##### We can see the skewness in data for multiple columns."
   ]
  },
  {
   "cell_type": "markdown",
   "id": "43e1489c",
   "metadata": {},
   "source": [
    "### Data Conversion"
   ]
  },
  {
   "cell_type": "code",
   "execution_count": 29,
   "id": "40cb543e",
   "metadata": {},
   "outputs": [],
   "source": [
    "from sklearn.preprocessing import LabelEncoder\n",
    "lec = LabelEncoder()"
   ]
  },
  {
   "cell_type": "code",
   "execution_count": 30,
   "id": "3a63d67b",
   "metadata": {},
   "outputs": [],
   "source": [
    "for i in df.columns:\n",
    "    if df[i].dtypes == object:\n",
    "        df[i] = lec.fit_transform(df[i].values.reshape(-1,1))"
   ]
  },
  {
   "cell_type": "code",
   "execution_count": 31,
   "id": "b50835f9",
   "metadata": {},
   "outputs": [
    {
     "data": {
      "text/html": [
       "<div>\n",
       "<style scoped>\n",
       "    .dataframe tbody tr th:only-of-type {\n",
       "        vertical-align: middle;\n",
       "    }\n",
       "\n",
       "    .dataframe tbody tr th {\n",
       "        vertical-align: top;\n",
       "    }\n",
       "\n",
       "    .dataframe thead th {\n",
       "        text-align: right;\n",
       "    }\n",
       "</style>\n",
       "<table border=\"1\" class=\"dataframe\">\n",
       "  <thead>\n",
       "    <tr style=\"text-align: right;\">\n",
       "      <th></th>\n",
       "      <th>Location</th>\n",
       "      <th>MinTemp</th>\n",
       "      <th>MaxTemp</th>\n",
       "      <th>Rainfall</th>\n",
       "      <th>WindGustDir</th>\n",
       "      <th>WindGustSpeed</th>\n",
       "      <th>WindDir9am</th>\n",
       "      <th>WindDir3pm</th>\n",
       "      <th>WindSpeed9am</th>\n",
       "      <th>WindSpeed3pm</th>\n",
       "      <th>Humidity9am</th>\n",
       "      <th>Humidity3pm</th>\n",
       "      <th>Pressure9am</th>\n",
       "      <th>Pressure3pm</th>\n",
       "      <th>Temp9am</th>\n",
       "      <th>Temp3pm</th>\n",
       "      <th>RainToday</th>\n",
       "      <th>RainTomorrow</th>\n",
       "    </tr>\n",
       "  </thead>\n",
       "  <tbody>\n",
       "    <tr>\n",
       "      <th>0</th>\n",
       "      <td>1</td>\n",
       "      <td>13.4</td>\n",
       "      <td>22.900000</td>\n",
       "      <td>0.6</td>\n",
       "      <td>13</td>\n",
       "      <td>44.000000</td>\n",
       "      <td>13</td>\n",
       "      <td>14</td>\n",
       "      <td>20.0</td>\n",
       "      <td>24.0</td>\n",
       "      <td>71.0</td>\n",
       "      <td>22.0</td>\n",
       "      <td>1007.7</td>\n",
       "      <td>1007.1</td>\n",
       "      <td>16.9</td>\n",
       "      <td>21.8</td>\n",
       "      <td>0</td>\n",
       "      <td>0</td>\n",
       "    </tr>\n",
       "    <tr>\n",
       "      <th>1</th>\n",
       "      <td>1</td>\n",
       "      <td>7.4</td>\n",
       "      <td>25.100000</td>\n",
       "      <td>0.0</td>\n",
       "      <td>14</td>\n",
       "      <td>44.000000</td>\n",
       "      <td>6</td>\n",
       "      <td>15</td>\n",
       "      <td>4.0</td>\n",
       "      <td>22.0</td>\n",
       "      <td>44.0</td>\n",
       "      <td>25.0</td>\n",
       "      <td>1010.6</td>\n",
       "      <td>1007.8</td>\n",
       "      <td>17.2</td>\n",
       "      <td>24.3</td>\n",
       "      <td>0</td>\n",
       "      <td>0</td>\n",
       "    </tr>\n",
       "    <tr>\n",
       "      <th>2</th>\n",
       "      <td>1</td>\n",
       "      <td>12.9</td>\n",
       "      <td>25.700000</td>\n",
       "      <td>0.0</td>\n",
       "      <td>15</td>\n",
       "      <td>46.000000</td>\n",
       "      <td>13</td>\n",
       "      <td>15</td>\n",
       "      <td>19.0</td>\n",
       "      <td>26.0</td>\n",
       "      <td>38.0</td>\n",
       "      <td>30.0</td>\n",
       "      <td>1007.6</td>\n",
       "      <td>1008.7</td>\n",
       "      <td>21.0</td>\n",
       "      <td>23.2</td>\n",
       "      <td>0</td>\n",
       "      <td>0</td>\n",
       "    </tr>\n",
       "    <tr>\n",
       "      <th>3</th>\n",
       "      <td>1</td>\n",
       "      <td>9.2</td>\n",
       "      <td>28.000000</td>\n",
       "      <td>0.0</td>\n",
       "      <td>4</td>\n",
       "      <td>24.000000</td>\n",
       "      <td>9</td>\n",
       "      <td>0</td>\n",
       "      <td>11.0</td>\n",
       "      <td>9.0</td>\n",
       "      <td>45.0</td>\n",
       "      <td>16.0</td>\n",
       "      <td>1017.6</td>\n",
       "      <td>1012.8</td>\n",
       "      <td>18.1</td>\n",
       "      <td>26.5</td>\n",
       "      <td>0</td>\n",
       "      <td>0</td>\n",
       "    </tr>\n",
       "    <tr>\n",
       "      <th>4</th>\n",
       "      <td>1</td>\n",
       "      <td>17.5</td>\n",
       "      <td>32.300000</td>\n",
       "      <td>1.0</td>\n",
       "      <td>13</td>\n",
       "      <td>41.000000</td>\n",
       "      <td>1</td>\n",
       "      <td>7</td>\n",
       "      <td>7.0</td>\n",
       "      <td>20.0</td>\n",
       "      <td>82.0</td>\n",
       "      <td>33.0</td>\n",
       "      <td>1010.8</td>\n",
       "      <td>1006.0</td>\n",
       "      <td>17.8</td>\n",
       "      <td>29.7</td>\n",
       "      <td>0</td>\n",
       "      <td>0</td>\n",
       "    </tr>\n",
       "    <tr>\n",
       "      <th>...</th>\n",
       "      <td>...</td>\n",
       "      <td>...</td>\n",
       "      <td>...</td>\n",
       "      <td>...</td>\n",
       "      <td>...</td>\n",
       "      <td>...</td>\n",
       "      <td>...</td>\n",
       "      <td>...</td>\n",
       "      <td>...</td>\n",
       "      <td>...</td>\n",
       "      <td>...</td>\n",
       "      <td>...</td>\n",
       "      <td>...</td>\n",
       "      <td>...</td>\n",
       "      <td>...</td>\n",
       "      <td>...</td>\n",
       "      <td>...</td>\n",
       "      <td>...</td>\n",
       "    </tr>\n",
       "    <tr>\n",
       "      <th>8420</th>\n",
       "      <td>9</td>\n",
       "      <td>2.8</td>\n",
       "      <td>23.400000</td>\n",
       "      <td>0.0</td>\n",
       "      <td>0</td>\n",
       "      <td>31.000000</td>\n",
       "      <td>9</td>\n",
       "      <td>1</td>\n",
       "      <td>13.0</td>\n",
       "      <td>11.0</td>\n",
       "      <td>51.0</td>\n",
       "      <td>24.0</td>\n",
       "      <td>1024.6</td>\n",
       "      <td>1020.3</td>\n",
       "      <td>10.1</td>\n",
       "      <td>22.4</td>\n",
       "      <td>0</td>\n",
       "      <td>0</td>\n",
       "    </tr>\n",
       "    <tr>\n",
       "      <th>8421</th>\n",
       "      <td>9</td>\n",
       "      <td>3.6</td>\n",
       "      <td>25.300000</td>\n",
       "      <td>0.0</td>\n",
       "      <td>6</td>\n",
       "      <td>22.000000</td>\n",
       "      <td>9</td>\n",
       "      <td>3</td>\n",
       "      <td>13.0</td>\n",
       "      <td>9.0</td>\n",
       "      <td>56.0</td>\n",
       "      <td>21.0</td>\n",
       "      <td>1023.5</td>\n",
       "      <td>1019.1</td>\n",
       "      <td>10.9</td>\n",
       "      <td>24.5</td>\n",
       "      <td>0</td>\n",
       "      <td>0</td>\n",
       "    </tr>\n",
       "    <tr>\n",
       "      <th>8422</th>\n",
       "      <td>9</td>\n",
       "      <td>5.4</td>\n",
       "      <td>26.900000</td>\n",
       "      <td>0.0</td>\n",
       "      <td>3</td>\n",
       "      <td>37.000000</td>\n",
       "      <td>9</td>\n",
       "      <td>14</td>\n",
       "      <td>9.0</td>\n",
       "      <td>9.0</td>\n",
       "      <td>53.0</td>\n",
       "      <td>24.0</td>\n",
       "      <td>1021.0</td>\n",
       "      <td>1016.8</td>\n",
       "      <td>12.5</td>\n",
       "      <td>26.1</td>\n",
       "      <td>0</td>\n",
       "      <td>0</td>\n",
       "    </tr>\n",
       "    <tr>\n",
       "      <th>8423</th>\n",
       "      <td>9</td>\n",
       "      <td>7.8</td>\n",
       "      <td>27.000000</td>\n",
       "      <td>0.0</td>\n",
       "      <td>9</td>\n",
       "      <td>28.000000</td>\n",
       "      <td>10</td>\n",
       "      <td>3</td>\n",
       "      <td>13.0</td>\n",
       "      <td>7.0</td>\n",
       "      <td>51.0</td>\n",
       "      <td>24.0</td>\n",
       "      <td>1019.4</td>\n",
       "      <td>1016.5</td>\n",
       "      <td>15.1</td>\n",
       "      <td>26.0</td>\n",
       "      <td>0</td>\n",
       "      <td>0</td>\n",
       "    </tr>\n",
       "    <tr>\n",
       "      <th>8424</th>\n",
       "      <td>9</td>\n",
       "      <td>14.9</td>\n",
       "      <td>23.859976</td>\n",
       "      <td>0.0</td>\n",
       "      <td>3</td>\n",
       "      <td>40.174469</td>\n",
       "      <td>2</td>\n",
       "      <td>2</td>\n",
       "      <td>17.0</td>\n",
       "      <td>17.0</td>\n",
       "      <td>62.0</td>\n",
       "      <td>36.0</td>\n",
       "      <td>1020.2</td>\n",
       "      <td>1017.9</td>\n",
       "      <td>15.0</td>\n",
       "      <td>20.9</td>\n",
       "      <td>0</td>\n",
       "      <td>0</td>\n",
       "    </tr>\n",
       "  </tbody>\n",
       "</table>\n",
       "<p>8425 rows × 18 columns</p>\n",
       "</div>"
      ],
      "text/plain": [
       "      Location  MinTemp    MaxTemp  Rainfall  WindGustDir  WindGustSpeed  \\\n",
       "0            1     13.4  22.900000       0.6           13      44.000000   \n",
       "1            1      7.4  25.100000       0.0           14      44.000000   \n",
       "2            1     12.9  25.700000       0.0           15      46.000000   \n",
       "3            1      9.2  28.000000       0.0            4      24.000000   \n",
       "4            1     17.5  32.300000       1.0           13      41.000000   \n",
       "...        ...      ...        ...       ...          ...            ...   \n",
       "8420         9      2.8  23.400000       0.0            0      31.000000   \n",
       "8421         9      3.6  25.300000       0.0            6      22.000000   \n",
       "8422         9      5.4  26.900000       0.0            3      37.000000   \n",
       "8423         9      7.8  27.000000       0.0            9      28.000000   \n",
       "8424         9     14.9  23.859976       0.0            3      40.174469   \n",
       "\n",
       "      WindDir9am  WindDir3pm  WindSpeed9am  WindSpeed3pm  Humidity9am  \\\n",
       "0             13          14          20.0          24.0         71.0   \n",
       "1              6          15           4.0          22.0         44.0   \n",
       "2             13          15          19.0          26.0         38.0   \n",
       "3              9           0          11.0           9.0         45.0   \n",
       "4              1           7           7.0          20.0         82.0   \n",
       "...          ...         ...           ...           ...          ...   \n",
       "8420           9           1          13.0          11.0         51.0   \n",
       "8421           9           3          13.0           9.0         56.0   \n",
       "8422           9          14           9.0           9.0         53.0   \n",
       "8423          10           3          13.0           7.0         51.0   \n",
       "8424           2           2          17.0          17.0         62.0   \n",
       "\n",
       "      Humidity3pm  Pressure9am  Pressure3pm  Temp9am  Temp3pm  RainToday  \\\n",
       "0            22.0       1007.7       1007.1     16.9     21.8          0   \n",
       "1            25.0       1010.6       1007.8     17.2     24.3          0   \n",
       "2            30.0       1007.6       1008.7     21.0     23.2          0   \n",
       "3            16.0       1017.6       1012.8     18.1     26.5          0   \n",
       "4            33.0       1010.8       1006.0     17.8     29.7          0   \n",
       "...           ...          ...          ...      ...      ...        ...   \n",
       "8420         24.0       1024.6       1020.3     10.1     22.4          0   \n",
       "8421         21.0       1023.5       1019.1     10.9     24.5          0   \n",
       "8422         24.0       1021.0       1016.8     12.5     26.1          0   \n",
       "8423         24.0       1019.4       1016.5     15.1     26.0          0   \n",
       "8424         36.0       1020.2       1017.9     15.0     20.9          0   \n",
       "\n",
       "      RainTomorrow  \n",
       "0                0  \n",
       "1                0  \n",
       "2                0  \n",
       "3                0  \n",
       "4                0  \n",
       "...            ...  \n",
       "8420             0  \n",
       "8421             0  \n",
       "8422             0  \n",
       "8423             0  \n",
       "8424             0  \n",
       "\n",
       "[8425 rows x 18 columns]"
      ]
     },
     "execution_count": 31,
     "metadata": {},
     "output_type": "execute_result"
    }
   ],
   "source": [
    "df"
   ]
  },
  {
   "cell_type": "markdown",
   "id": "f6c77b44",
   "metadata": {},
   "source": [
    "### Checking Outliers"
   ]
  },
  {
   "cell_type": "code",
   "execution_count": 32,
   "id": "9560188b",
   "metadata": {},
   "outputs": [
    {
     "data": {
      "text/html": [
       "<div>\n",
       "<style scoped>\n",
       "    .dataframe tbody tr th:only-of-type {\n",
       "        vertical-align: middle;\n",
       "    }\n",
       "\n",
       "    .dataframe tbody tr th {\n",
       "        vertical-align: top;\n",
       "    }\n",
       "\n",
       "    .dataframe thead th {\n",
       "        text-align: right;\n",
       "    }\n",
       "</style>\n",
       "<table border=\"1\" class=\"dataframe\">\n",
       "  <thead>\n",
       "    <tr style=\"text-align: right;\">\n",
       "      <th></th>\n",
       "      <th>Location</th>\n",
       "      <th>WindGustDir</th>\n",
       "      <th>WindDir9am</th>\n",
       "      <th>WindDir3pm</th>\n",
       "      <th>RainToday</th>\n",
       "      <th>RainTomorrow</th>\n",
       "    </tr>\n",
       "  </thead>\n",
       "  <tbody>\n",
       "    <tr>\n",
       "      <th>0</th>\n",
       "      <td>1</td>\n",
       "      <td>13</td>\n",
       "      <td>13</td>\n",
       "      <td>14</td>\n",
       "      <td>0</td>\n",
       "      <td>0</td>\n",
       "    </tr>\n",
       "    <tr>\n",
       "      <th>1</th>\n",
       "      <td>1</td>\n",
       "      <td>14</td>\n",
       "      <td>6</td>\n",
       "      <td>15</td>\n",
       "      <td>0</td>\n",
       "      <td>0</td>\n",
       "    </tr>\n",
       "    <tr>\n",
       "      <th>2</th>\n",
       "      <td>1</td>\n",
       "      <td>15</td>\n",
       "      <td>13</td>\n",
       "      <td>15</td>\n",
       "      <td>0</td>\n",
       "      <td>0</td>\n",
       "    </tr>\n",
       "    <tr>\n",
       "      <th>3</th>\n",
       "      <td>1</td>\n",
       "      <td>4</td>\n",
       "      <td>9</td>\n",
       "      <td>0</td>\n",
       "      <td>0</td>\n",
       "      <td>0</td>\n",
       "    </tr>\n",
       "    <tr>\n",
       "      <th>4</th>\n",
       "      <td>1</td>\n",
       "      <td>13</td>\n",
       "      <td>1</td>\n",
       "      <td>7</td>\n",
       "      <td>0</td>\n",
       "      <td>0</td>\n",
       "    </tr>\n",
       "    <tr>\n",
       "      <th>...</th>\n",
       "      <td>...</td>\n",
       "      <td>...</td>\n",
       "      <td>...</td>\n",
       "      <td>...</td>\n",
       "      <td>...</td>\n",
       "      <td>...</td>\n",
       "    </tr>\n",
       "    <tr>\n",
       "      <th>8420</th>\n",
       "      <td>9</td>\n",
       "      <td>0</td>\n",
       "      <td>9</td>\n",
       "      <td>1</td>\n",
       "      <td>0</td>\n",
       "      <td>0</td>\n",
       "    </tr>\n",
       "    <tr>\n",
       "      <th>8421</th>\n",
       "      <td>9</td>\n",
       "      <td>6</td>\n",
       "      <td>9</td>\n",
       "      <td>3</td>\n",
       "      <td>0</td>\n",
       "      <td>0</td>\n",
       "    </tr>\n",
       "    <tr>\n",
       "      <th>8422</th>\n",
       "      <td>9</td>\n",
       "      <td>3</td>\n",
       "      <td>9</td>\n",
       "      <td>14</td>\n",
       "      <td>0</td>\n",
       "      <td>0</td>\n",
       "    </tr>\n",
       "    <tr>\n",
       "      <th>8423</th>\n",
       "      <td>9</td>\n",
       "      <td>9</td>\n",
       "      <td>10</td>\n",
       "      <td>3</td>\n",
       "      <td>0</td>\n",
       "      <td>0</td>\n",
       "    </tr>\n",
       "    <tr>\n",
       "      <th>8424</th>\n",
       "      <td>9</td>\n",
       "      <td>3</td>\n",
       "      <td>2</td>\n",
       "      <td>2</td>\n",
       "      <td>0</td>\n",
       "      <td>0</td>\n",
       "    </tr>\n",
       "  </tbody>\n",
       "</table>\n",
       "<p>8425 rows × 6 columns</p>\n",
       "</div>"
      ],
      "text/plain": [
       "      Location  WindGustDir  WindDir9am  WindDir3pm  RainToday  RainTomorrow\n",
       "0            1           13          13          14          0             0\n",
       "1            1           14           6          15          0             0\n",
       "2            1           15          13          15          0             0\n",
       "3            1            4           9           0          0             0\n",
       "4            1           13           1           7          0             0\n",
       "...        ...          ...         ...         ...        ...           ...\n",
       "8420         9            0           9           1          0             0\n",
       "8421         9            6           9           3          0             0\n",
       "8422         9            3           9          14          0             0\n",
       "8423         9            9          10           3          0             0\n",
       "8424         9            3           2           2          0             0\n",
       "\n",
       "[8425 rows x 6 columns]"
      ]
     },
     "execution_count": 32,
     "metadata": {},
     "output_type": "execute_result"
    }
   ],
   "source": [
    "df_cat_columns = df[cat_columns]\n",
    "df_cat_columns"
   ]
  },
  {
   "cell_type": "code",
   "execution_count": 33,
   "id": "2c965ad0",
   "metadata": {},
   "outputs": [
    {
     "data": {
      "text/html": [
       "<div>\n",
       "<style scoped>\n",
       "    .dataframe tbody tr th:only-of-type {\n",
       "        vertical-align: middle;\n",
       "    }\n",
       "\n",
       "    .dataframe tbody tr th {\n",
       "        vertical-align: top;\n",
       "    }\n",
       "\n",
       "    .dataframe thead th {\n",
       "        text-align: right;\n",
       "    }\n",
       "</style>\n",
       "<table border=\"1\" class=\"dataframe\">\n",
       "  <thead>\n",
       "    <tr style=\"text-align: right;\">\n",
       "      <th></th>\n",
       "      <th>MinTemp</th>\n",
       "      <th>MaxTemp</th>\n",
       "      <th>Rainfall</th>\n",
       "      <th>WindGustSpeed</th>\n",
       "      <th>WindSpeed9am</th>\n",
       "      <th>WindSpeed3pm</th>\n",
       "      <th>Humidity9am</th>\n",
       "      <th>Humidity3pm</th>\n",
       "      <th>Pressure9am</th>\n",
       "      <th>Pressure3pm</th>\n",
       "      <th>Temp9am</th>\n",
       "      <th>Temp3pm</th>\n",
       "    </tr>\n",
       "  </thead>\n",
       "  <tbody>\n",
       "    <tr>\n",
       "      <th>0</th>\n",
       "      <td>13.4</td>\n",
       "      <td>22.900000</td>\n",
       "      <td>0.6</td>\n",
       "      <td>44.000000</td>\n",
       "      <td>20.0</td>\n",
       "      <td>24.0</td>\n",
       "      <td>71.0</td>\n",
       "      <td>22.0</td>\n",
       "      <td>1007.7</td>\n",
       "      <td>1007.1</td>\n",
       "      <td>16.9</td>\n",
       "      <td>21.8</td>\n",
       "    </tr>\n",
       "    <tr>\n",
       "      <th>1</th>\n",
       "      <td>7.4</td>\n",
       "      <td>25.100000</td>\n",
       "      <td>0.0</td>\n",
       "      <td>44.000000</td>\n",
       "      <td>4.0</td>\n",
       "      <td>22.0</td>\n",
       "      <td>44.0</td>\n",
       "      <td>25.0</td>\n",
       "      <td>1010.6</td>\n",
       "      <td>1007.8</td>\n",
       "      <td>17.2</td>\n",
       "      <td>24.3</td>\n",
       "    </tr>\n",
       "    <tr>\n",
       "      <th>2</th>\n",
       "      <td>12.9</td>\n",
       "      <td>25.700000</td>\n",
       "      <td>0.0</td>\n",
       "      <td>46.000000</td>\n",
       "      <td>19.0</td>\n",
       "      <td>26.0</td>\n",
       "      <td>38.0</td>\n",
       "      <td>30.0</td>\n",
       "      <td>1007.6</td>\n",
       "      <td>1008.7</td>\n",
       "      <td>21.0</td>\n",
       "      <td>23.2</td>\n",
       "    </tr>\n",
       "    <tr>\n",
       "      <th>3</th>\n",
       "      <td>9.2</td>\n",
       "      <td>28.000000</td>\n",
       "      <td>0.0</td>\n",
       "      <td>24.000000</td>\n",
       "      <td>11.0</td>\n",
       "      <td>9.0</td>\n",
       "      <td>45.0</td>\n",
       "      <td>16.0</td>\n",
       "      <td>1017.6</td>\n",
       "      <td>1012.8</td>\n",
       "      <td>18.1</td>\n",
       "      <td>26.5</td>\n",
       "    </tr>\n",
       "    <tr>\n",
       "      <th>4</th>\n",
       "      <td>17.5</td>\n",
       "      <td>32.300000</td>\n",
       "      <td>1.0</td>\n",
       "      <td>41.000000</td>\n",
       "      <td>7.0</td>\n",
       "      <td>20.0</td>\n",
       "      <td>82.0</td>\n",
       "      <td>33.0</td>\n",
       "      <td>1010.8</td>\n",
       "      <td>1006.0</td>\n",
       "      <td>17.8</td>\n",
       "      <td>29.7</td>\n",
       "    </tr>\n",
       "    <tr>\n",
       "      <th>...</th>\n",
       "      <td>...</td>\n",
       "      <td>...</td>\n",
       "      <td>...</td>\n",
       "      <td>...</td>\n",
       "      <td>...</td>\n",
       "      <td>...</td>\n",
       "      <td>...</td>\n",
       "      <td>...</td>\n",
       "      <td>...</td>\n",
       "      <td>...</td>\n",
       "      <td>...</td>\n",
       "      <td>...</td>\n",
       "    </tr>\n",
       "    <tr>\n",
       "      <th>8420</th>\n",
       "      <td>2.8</td>\n",
       "      <td>23.400000</td>\n",
       "      <td>0.0</td>\n",
       "      <td>31.000000</td>\n",
       "      <td>13.0</td>\n",
       "      <td>11.0</td>\n",
       "      <td>51.0</td>\n",
       "      <td>24.0</td>\n",
       "      <td>1024.6</td>\n",
       "      <td>1020.3</td>\n",
       "      <td>10.1</td>\n",
       "      <td>22.4</td>\n",
       "    </tr>\n",
       "    <tr>\n",
       "      <th>8421</th>\n",
       "      <td>3.6</td>\n",
       "      <td>25.300000</td>\n",
       "      <td>0.0</td>\n",
       "      <td>22.000000</td>\n",
       "      <td>13.0</td>\n",
       "      <td>9.0</td>\n",
       "      <td>56.0</td>\n",
       "      <td>21.0</td>\n",
       "      <td>1023.5</td>\n",
       "      <td>1019.1</td>\n",
       "      <td>10.9</td>\n",
       "      <td>24.5</td>\n",
       "    </tr>\n",
       "    <tr>\n",
       "      <th>8422</th>\n",
       "      <td>5.4</td>\n",
       "      <td>26.900000</td>\n",
       "      <td>0.0</td>\n",
       "      <td>37.000000</td>\n",
       "      <td>9.0</td>\n",
       "      <td>9.0</td>\n",
       "      <td>53.0</td>\n",
       "      <td>24.0</td>\n",
       "      <td>1021.0</td>\n",
       "      <td>1016.8</td>\n",
       "      <td>12.5</td>\n",
       "      <td>26.1</td>\n",
       "    </tr>\n",
       "    <tr>\n",
       "      <th>8423</th>\n",
       "      <td>7.8</td>\n",
       "      <td>27.000000</td>\n",
       "      <td>0.0</td>\n",
       "      <td>28.000000</td>\n",
       "      <td>13.0</td>\n",
       "      <td>7.0</td>\n",
       "      <td>51.0</td>\n",
       "      <td>24.0</td>\n",
       "      <td>1019.4</td>\n",
       "      <td>1016.5</td>\n",
       "      <td>15.1</td>\n",
       "      <td>26.0</td>\n",
       "    </tr>\n",
       "    <tr>\n",
       "      <th>8424</th>\n",
       "      <td>14.9</td>\n",
       "      <td>23.859976</td>\n",
       "      <td>0.0</td>\n",
       "      <td>40.174469</td>\n",
       "      <td>17.0</td>\n",
       "      <td>17.0</td>\n",
       "      <td>62.0</td>\n",
       "      <td>36.0</td>\n",
       "      <td>1020.2</td>\n",
       "      <td>1017.9</td>\n",
       "      <td>15.0</td>\n",
       "      <td>20.9</td>\n",
       "    </tr>\n",
       "  </tbody>\n",
       "</table>\n",
       "<p>8425 rows × 12 columns</p>\n",
       "</div>"
      ],
      "text/plain": [
       "      MinTemp    MaxTemp  Rainfall  WindGustSpeed  WindSpeed9am  WindSpeed3pm  \\\n",
       "0        13.4  22.900000       0.6      44.000000          20.0          24.0   \n",
       "1         7.4  25.100000       0.0      44.000000           4.0          22.0   \n",
       "2        12.9  25.700000       0.0      46.000000          19.0          26.0   \n",
       "3         9.2  28.000000       0.0      24.000000          11.0           9.0   \n",
       "4        17.5  32.300000       1.0      41.000000           7.0          20.0   \n",
       "...       ...        ...       ...            ...           ...           ...   \n",
       "8420      2.8  23.400000       0.0      31.000000          13.0          11.0   \n",
       "8421      3.6  25.300000       0.0      22.000000          13.0           9.0   \n",
       "8422      5.4  26.900000       0.0      37.000000           9.0           9.0   \n",
       "8423      7.8  27.000000       0.0      28.000000          13.0           7.0   \n",
       "8424     14.9  23.859976       0.0      40.174469          17.0          17.0   \n",
       "\n",
       "      Humidity9am  Humidity3pm  Pressure9am  Pressure3pm  Temp9am  Temp3pm  \n",
       "0            71.0         22.0       1007.7       1007.1     16.9     21.8  \n",
       "1            44.0         25.0       1010.6       1007.8     17.2     24.3  \n",
       "2            38.0         30.0       1007.6       1008.7     21.0     23.2  \n",
       "3            45.0         16.0       1017.6       1012.8     18.1     26.5  \n",
       "4            82.0         33.0       1010.8       1006.0     17.8     29.7  \n",
       "...           ...          ...          ...          ...      ...      ...  \n",
       "8420         51.0         24.0       1024.6       1020.3     10.1     22.4  \n",
       "8421         56.0         21.0       1023.5       1019.1     10.9     24.5  \n",
       "8422         53.0         24.0       1021.0       1016.8     12.5     26.1  \n",
       "8423         51.0         24.0       1019.4       1016.5     15.1     26.0  \n",
       "8424         62.0         36.0       1020.2       1017.9     15.0     20.9  \n",
       "\n",
       "[8425 rows x 12 columns]"
      ]
     },
     "execution_count": 33,
     "metadata": {},
     "output_type": "execute_result"
    }
   ],
   "source": [
    "df_non_cat_columns = df[non_cat_columns]\n",
    "df_non_cat_columns"
   ]
  },
  {
   "cell_type": "code",
   "execution_count": 34,
   "id": "2da98b64",
   "metadata": {},
   "outputs": [
    {
     "data": {
      "image/png": "[encoded data removed]",
      "text/plain": [
       "<Figure size 2160x1800 with 12 Axes>"
      ]
     },
     "metadata": {
      "needs_background": "light"
     },
     "output_type": "display_data"
    }
   ],
   "source": [
    "df_non_cat_columns.plot(kind = 'box',subplots = True,layout = (4,3),figsize=(30,25))\n",
    "plt.show()"
   ]
  },
  {
   "cell_type": "markdown",
   "id": "84a27bfe",
   "metadata": {},
   "source": [
    "##### We can see outliers present in :\n",
    "\n",
    "MaxTemp\tRainfall\t\n",
    "\n",
    "WindGustSpeed\t\n",
    "\n",
    "WindSpeed9am\t\n",
    "\n",
    "WindSpeed3pm\t\n",
    "\n",
    "Humidity9am\t\n",
    "\n",
    "Pressure9am\n",
    "\n",
    "Pressure3pm\t\n",
    "\n",
    "Temp9am\t\n",
    "\n",
    "Temp3pm"
   ]
  },
  {
   "cell_type": "markdown",
   "id": "4c75017b",
   "metadata": {},
   "source": [
    "### Removing Outliers"
   ]
  },
  {
   "cell_type": "markdown",
   "id": "424ba63b",
   "metadata": {},
   "source": [
    "#### Z Score Technique"
   ]
  },
  {
   "cell_type": "code",
   "execution_count": 35,
   "id": "83f23b92",
   "metadata": {},
   "outputs": [
    {
     "data": {
      "text/plain": [
       "(8425, 18)"
      ]
     },
     "execution_count": 35,
     "metadata": {},
     "output_type": "execute_result"
    }
   ],
   "source": [
    "from scipy.stats import zscore\n",
    "\n",
    "z = np.abs(zscore(df))\n",
    "z.shape"
   ]
  },
  {
   "cell_type": "code",
   "execution_count": 36,
   "id": "b208e89a",
   "metadata": {},
   "outputs": [
    {
     "data": {
      "text/plain": [
       "(8061, 18)"
      ]
     },
     "execution_count": 36,
     "metadata": {},
     "output_type": "execute_result"
    }
   ],
   "source": [
    "df = df[(z<3).all(axis = 1)]\n",
    "df.shape"
   ]
  },
  {
   "cell_type": "markdown",
   "id": "9753447d",
   "metadata": {},
   "source": [
    "### Percenatage Data Loss"
   ]
  },
  {
   "cell_type": "code",
   "execution_count": 37,
   "id": "a943bf1f",
   "metadata": {},
   "outputs": [
    {
     "data": {
      "text/plain": [
       "4.320474777448071"
      ]
     },
     "execution_count": 37,
     "metadata": {},
     "output_type": "execute_result"
    }
   ],
   "source": [
    "percentage_data_loss = (8425-8061)/8425*100\n",
    "percentage_data_loss"
   ]
  },
  {
   "cell_type": "markdown",
   "id": "78be2880",
   "metadata": {},
   "source": [
    "### Splitting the Independent and Target Variable in x and y"
   ]
  },
  {
   "cell_type": "code",
   "execution_count": 38,
   "id": "3a8dda08",
   "metadata": {},
   "outputs": [
    {
     "data": {
      "text/plain": [
       "(8061, 17)"
      ]
     },
     "execution_count": 38,
     "metadata": {},
     "output_type": "execute_result"
    }
   ],
   "source": [
    "x = df.drop('RainTomorrow',axis=1)\n",
    "x.shape"
   ]
  },
  {
   "cell_type": "code",
   "execution_count": 39,
   "id": "8857f2e7",
   "metadata": {},
   "outputs": [
    {
     "data": {
      "text/plain": [
       "(8061,)"
      ]
     },
     "execution_count": 39,
     "metadata": {},
     "output_type": "execute_result"
    }
   ],
   "source": [
    "y = df['RainTomorrow']\n",
    "y.shape"
   ]
  },
  {
   "cell_type": "markdown",
   "id": "9c25da4b",
   "metadata": {},
   "source": [
    "### Removing Skewness"
   ]
  },
  {
   "cell_type": "code",
   "execution_count": 40,
   "id": "8a0a9948",
   "metadata": {},
   "outputs": [
    {
     "data": {
      "text/plain": [
       "Rainfall         3.479013\n",
       "RainToday        1.305239\n",
       "WindSpeed9am     0.713295\n",
       "WindGustSpeed    0.509872\n",
       "Temp3pm          0.327498\n",
       "MaxTemp          0.308400\n",
       "WindSpeed3pm     0.296566\n",
       "WindDir9am       0.159331\n",
       "Humidity3pm      0.127687\n",
       "WindGustDir      0.109209\n",
       "Pressure3pm      0.043661\n",
       "Pressure9am      0.015198\n",
       "Temp9am         -0.045497\n",
       "Location        -0.052587\n",
       "MinTemp         -0.091283\n",
       "WindDir3pm      -0.124101\n",
       "Humidity9am     -0.227711\n",
       "dtype: float64"
      ]
     },
     "execution_count": 40,
     "metadata": {},
     "output_type": "execute_result"
    }
   ],
   "source": [
    "x.skew().sort_values(ascending=False)"
   ]
  },
  {
   "cell_type": "markdown",
   "id": "04a3650d",
   "metadata": {},
   "source": [
    "#### Normalizing the data using Log Tranformation"
   ]
  },
  {
   "cell_type": "code",
   "execution_count": 41,
   "id": "773d25ce",
   "metadata": {},
   "outputs": [],
   "source": [
    "x['Rainfall'] = np.log(1+x['Rainfall'])\n",
    "x['RainToday'] = np.log(1+x['RainToday'])"
   ]
  },
  {
   "cell_type": "code",
   "execution_count": 42,
   "id": "26e75950",
   "metadata": {},
   "outputs": [
    {
     "data": {
      "text/plain": [
       "Rainfall         1.668056\n",
       "RainToday        1.305239\n",
       "WindSpeed9am     0.713295\n",
       "WindGustSpeed    0.509872\n",
       "Temp3pm          0.327498\n",
       "MaxTemp          0.308400\n",
       "WindSpeed3pm     0.296566\n",
       "WindDir9am       0.159331\n",
       "Humidity3pm      0.127687\n",
       "WindGustDir      0.109209\n",
       "Pressure3pm      0.043661\n",
       "Pressure9am      0.015198\n",
       "Temp9am         -0.045497\n",
       "Location        -0.052587\n",
       "MinTemp         -0.091283\n",
       "WindDir3pm      -0.124101\n",
       "Humidity9am     -0.227711\n",
       "dtype: float64"
      ]
     },
     "execution_count": 42,
     "metadata": {},
     "output_type": "execute_result"
    }
   ],
   "source": [
    "x.skew().sort_values(ascending=False)"
   ]
  },
  {
   "cell_type": "code",
   "execution_count": 43,
   "id": "85131b84",
   "metadata": {},
   "outputs": [
    {
     "data": {
      "text/plain": [
       "(8061, 16)"
      ]
     },
     "execution_count": 43,
     "metadata": {},
     "output_type": "execute_result"
    }
   ],
   "source": [
    "x.drop(['RainToday'],axis=1,inplace=True)\n",
    "x.shape"
   ]
  },
  {
   "cell_type": "markdown",
   "id": "eaf79849",
   "metadata": {},
   "source": [
    "##### We drop the  Raintoday column because it has still skewness even afeter the normalizing."
   ]
  },
  {
   "cell_type": "markdown",
   "id": "16e0ee53",
   "metadata": {},
   "source": [
    "### Checking if dataset is balanced"
   ]
  },
  {
   "cell_type": "code",
   "execution_count": 44,
   "id": "b7ac63ea",
   "metadata": {},
   "outputs": [
    {
     "data": {
      "image/png": "[encoded data removed]",
      "text/plain": [
       "<Figure size 432x288 with 1 Axes>"
      ]
     },
     "metadata": {
      "needs_background": "light"
     },
     "output_type": "display_data"
    }
   ],
   "source": [
    "sns.countplot(y)\n",
    "plt.show()"
   ]
  },
  {
   "cell_type": "markdown",
   "id": "a2f47816",
   "metadata": {},
   "source": [
    "##### From above plot we can see that data is imbalanced so we have to balanced it."
   ]
  },
  {
   "cell_type": "markdown",
   "id": "2065a28c",
   "metadata": {},
   "source": [
    "### Balancing the Data"
   ]
  },
  {
   "cell_type": "code",
   "execution_count": 45,
   "id": "6caef304",
   "metadata": {},
   "outputs": [],
   "source": [
    "from imblearn.over_sampling import SMOTE"
   ]
  },
  {
   "cell_type": "code",
   "execution_count": 46,
   "id": "80b78a14",
   "metadata": {},
   "outputs": [],
   "source": [
    "sm = SMOTE()\n",
    "x,y = sm.fit_resample(x,y)"
   ]
  },
  {
   "cell_type": "code",
   "execution_count": 47,
   "id": "94a24ea5",
   "metadata": {},
   "outputs": [
    {
     "data": {
      "text/plain": [
       "(12452, 16)"
      ]
     },
     "execution_count": 47,
     "metadata": {},
     "output_type": "execute_result"
    }
   ],
   "source": [
    "x.shape"
   ]
  },
  {
   "cell_type": "code",
   "execution_count": 48,
   "id": "aac0281a",
   "metadata": {},
   "outputs": [
    {
     "name": "stdout",
     "output_type": "stream",
     "text": [
      "(12452,)\n",
      "0    6226\n",
      "1    6226\n",
      "Name: RainTomorrow, dtype: int64\n",
      "\n"
     ]
    },
    {
     "data": {
      "image/png": "[encoded data removed]",
      "text/plain": [
       "<Figure size 432x288 with 1 Axes>"
      ]
     },
     "metadata": {
      "needs_background": "light"
     },
     "output_type": "display_data"
    }
   ],
   "source": [
    "print(y.shape)\n",
    "print(y.value_counts())\n",
    "print()\n",
    "sns.countplot(y)\n",
    "plt.show()"
   ]
  },
  {
   "cell_type": "markdown",
   "id": "ad950245",
   "metadata": {},
   "source": [
    "##### Data is balanced now after applying the SMOTE."
   ]
  },
  {
   "cell_type": "markdown",
   "id": "58e27bc7",
   "metadata": {},
   "source": [
    "### Scaling the Model"
   ]
  },
  {
   "cell_type": "code",
   "execution_count": 49,
   "id": "9bc23440",
   "metadata": {},
   "outputs": [
    {
     "data": {
      "text/html": [
       "<div>\n",
       "<style scoped>\n",
       "    .dataframe tbody tr th:only-of-type {\n",
       "        vertical-align: middle;\n",
       "    }\n",
       "\n",
       "    .dataframe tbody tr th {\n",
       "        vertical-align: top;\n",
       "    }\n",
       "\n",
       "    .dataframe thead th {\n",
       "        text-align: right;\n",
       "    }\n",
       "</style>\n",
       "<table border=\"1\" class=\"dataframe\">\n",
       "  <thead>\n",
       "    <tr style=\"text-align: right;\">\n",
       "      <th></th>\n",
       "      <th>Location</th>\n",
       "      <th>MinTemp</th>\n",
       "      <th>MaxTemp</th>\n",
       "      <th>Rainfall</th>\n",
       "      <th>WindGustDir</th>\n",
       "      <th>WindGustSpeed</th>\n",
       "      <th>WindDir9am</th>\n",
       "      <th>WindDir3pm</th>\n",
       "      <th>WindSpeed9am</th>\n",
       "      <th>WindSpeed3pm</th>\n",
       "      <th>Humidity9am</th>\n",
       "      <th>Humidity3pm</th>\n",
       "      <th>Pressure9am</th>\n",
       "      <th>Pressure3pm</th>\n",
       "      <th>Temp9am</th>\n",
       "      <th>Temp3pm</th>\n",
       "    </tr>\n",
       "  </thead>\n",
       "  <tbody>\n",
       "    <tr>\n",
       "      <th>0</th>\n",
       "      <td>-1.543447</td>\n",
       "      <td>-0.014771</td>\n",
       "      <td>-0.059607</td>\n",
       "      <td>-0.237363</td>\n",
       "      <td>1.284721</td>\n",
       "      <td>0.246882</td>\n",
       "      <td>1.294835</td>\n",
       "      <td>1.473737</td>\n",
       "      <td>0.689510</td>\n",
       "      <td>0.600216</td>\n",
       "      <td>0.007489</td>\n",
       "      <td>-1.812200</td>\n",
       "      <td>-1.608123</td>\n",
       "      <td>-1.331371</td>\n",
       "      <td>-0.139469</td>\n",
       "      <td>0.011463</td>\n",
       "    </tr>\n",
       "    <tr>\n",
       "      <th>1</th>\n",
       "      <td>-1.543447</td>\n",
       "      <td>-1.155432</td>\n",
       "      <td>0.315100</td>\n",
       "      <td>-0.732505</td>\n",
       "      <td>1.506000</td>\n",
       "      <td>0.246882</td>\n",
       "      <td>-0.282081</td>\n",
       "      <td>1.707814</td>\n",
       "      <td>-1.031360</td>\n",
       "      <td>0.387760</td>\n",
       "      <td>-1.646181</td>\n",
       "      <td>-1.654051</td>\n",
       "      <td>-1.116491</td>\n",
       "      <td>-1.211614</td>\n",
       "      <td>-0.084318</td>\n",
       "      <td>0.447420</td>\n",
       "    </tr>\n",
       "    <tr>\n",
       "      <th>2</th>\n",
       "      <td>-1.543447</td>\n",
       "      <td>-0.109826</td>\n",
       "      <td>0.417293</td>\n",
       "      <td>-0.732505</td>\n",
       "      <td>1.727278</td>\n",
       "      <td>0.397935</td>\n",
       "      <td>1.294835</td>\n",
       "      <td>1.707814</td>\n",
       "      <td>0.581956</td>\n",
       "      <td>0.812671</td>\n",
       "      <td>-2.013663</td>\n",
       "      <td>-1.390470</td>\n",
       "      <td>-1.625076</td>\n",
       "      <td>-1.057640</td>\n",
       "      <td>0.614257</td>\n",
       "      <td>0.255599</td>\n",
       "    </tr>\n",
       "    <tr>\n",
       "      <th>3</th>\n",
       "      <td>-1.543447</td>\n",
       "      <td>-0.813234</td>\n",
       "      <td>0.809032</td>\n",
       "      <td>-0.732505</td>\n",
       "      <td>-0.706788</td>\n",
       "      <td>-1.263641</td>\n",
       "      <td>0.393740</td>\n",
       "      <td>-1.803347</td>\n",
       "      <td>-0.278479</td>\n",
       "      <td>-0.993204</td>\n",
       "      <td>-1.584934</td>\n",
       "      <td>-2.128498</td>\n",
       "      <td>0.070208</td>\n",
       "      <td>-0.356205</td>\n",
       "      <td>0.081134</td>\n",
       "      <td>0.831063</td>\n",
       "    </tr>\n",
       "    <tr>\n",
       "      <th>4</th>\n",
       "      <td>-1.543447</td>\n",
       "      <td>0.764680</td>\n",
       "      <td>1.541414</td>\n",
       "      <td>-0.002284</td>\n",
       "      <td>1.284721</td>\n",
       "      <td>0.020304</td>\n",
       "      <td>-1.408449</td>\n",
       "      <td>-0.164805</td>\n",
       "      <td>-0.708697</td>\n",
       "      <td>0.175304</td>\n",
       "      <td>0.681207</td>\n",
       "      <td>-1.232321</td>\n",
       "      <td>-1.082585</td>\n",
       "      <td>-1.519561</td>\n",
       "      <td>0.025983</td>\n",
       "      <td>1.389090</td>\n",
       "    </tr>\n",
       "    <tr>\n",
       "      <th>...</th>\n",
       "      <td>...</td>\n",
       "      <td>...</td>\n",
       "      <td>...</td>\n",
       "      <td>...</td>\n",
       "      <td>...</td>\n",
       "      <td>...</td>\n",
       "      <td>...</td>\n",
       "      <td>...</td>\n",
       "      <td>...</td>\n",
       "      <td>...</td>\n",
       "      <td>...</td>\n",
       "      <td>...</td>\n",
       "      <td>...</td>\n",
       "      <td>...</td>\n",
       "      <td>...</td>\n",
       "      <td>...</td>\n",
       "    </tr>\n",
       "    <tr>\n",
       "      <th>12447</th>\n",
       "      <td>0.738591</td>\n",
       "      <td>-0.362735</td>\n",
       "      <td>-0.555144</td>\n",
       "      <td>-0.548007</td>\n",
       "      <td>-0.264230</td>\n",
       "      <td>-0.203179</td>\n",
       "      <td>-0.732628</td>\n",
       "      <td>0.069272</td>\n",
       "      <td>0.030960</td>\n",
       "      <td>-0.364543</td>\n",
       "      <td>-0.203110</td>\n",
       "      <td>1.825227</td>\n",
       "      <td>-0.845523</td>\n",
       "      <td>-0.724451</td>\n",
       "      <td>-0.249017</td>\n",
       "      <td>-0.939998</td>\n",
       "    </tr>\n",
       "    <tr>\n",
       "      <th>12448</th>\n",
       "      <td>-0.565430</td>\n",
       "      <td>0.642092</td>\n",
       "      <td>-0.617555</td>\n",
       "      <td>1.336095</td>\n",
       "      <td>0.399606</td>\n",
       "      <td>-1.399070</td>\n",
       "      <td>0.393740</td>\n",
       "      <td>-0.867038</td>\n",
       "      <td>-0.352660</td>\n",
       "      <td>-1.205659</td>\n",
       "      <td>1.354925</td>\n",
       "      <td>1.872490</td>\n",
       "      <td>-0.412409</td>\n",
       "      <td>-0.379355</td>\n",
       "      <td>0.015206</td>\n",
       "      <td>-0.574226</td>\n",
       "    </tr>\n",
       "    <tr>\n",
       "      <th>12449</th>\n",
       "      <td>-1.543447</td>\n",
       "      <td>-0.214725</td>\n",
       "      <td>-0.391718</td>\n",
       "      <td>0.559723</td>\n",
       "      <td>0.399606</td>\n",
       "      <td>2.260796</td>\n",
       "      <td>-1.183175</td>\n",
       "      <td>-1.101115</td>\n",
       "      <td>-0.374195</td>\n",
       "      <td>0.210878</td>\n",
       "      <td>0.545229</td>\n",
       "      <td>0.899790</td>\n",
       "      <td>-1.240364</td>\n",
       "      <td>-1.842096</td>\n",
       "      <td>-0.240991</td>\n",
       "      <td>-0.780615</td>\n",
       "    </tr>\n",
       "    <tr>\n",
       "      <th>12450</th>\n",
       "      <td>-0.565430</td>\n",
       "      <td>-0.113169</td>\n",
       "      <td>-0.933995</td>\n",
       "      <td>1.072139</td>\n",
       "      <td>1.506000</td>\n",
       "      <td>0.626744</td>\n",
       "      <td>-0.957902</td>\n",
       "      <td>0.771504</td>\n",
       "      <td>0.041007</td>\n",
       "      <td>0.531489</td>\n",
       "      <td>1.048689</td>\n",
       "      <td>1.508929</td>\n",
       "      <td>-2.663443</td>\n",
       "      <td>-2.345783</td>\n",
       "      <td>-0.619329</td>\n",
       "      <td>-1.363344</td>\n",
       "    </tr>\n",
       "    <tr>\n",
       "      <th>12451</th>\n",
       "      <td>-0.891436</td>\n",
       "      <td>0.346618</td>\n",
       "      <td>-0.434760</td>\n",
       "      <td>1.546315</td>\n",
       "      <td>0.620885</td>\n",
       "      <td>-0.511787</td>\n",
       "      <td>1.069561</td>\n",
       "      <td>0.069272</td>\n",
       "      <td>0.581956</td>\n",
       "      <td>-0.018983</td>\n",
       "      <td>0.654729</td>\n",
       "      <td>0.759505</td>\n",
       "      <td>1.299671</td>\n",
       "      <td>1.417032</td>\n",
       "      <td>0.070216</td>\n",
       "      <td>-0.308228</td>\n",
       "    </tr>\n",
       "  </tbody>\n",
       "</table>\n",
       "<p>12452 rows × 16 columns</p>\n",
       "</div>"
      ],
      "text/plain": [
       "       Location   MinTemp   MaxTemp  Rainfall  WindGustDir  WindGustSpeed  \\\n",
       "0     -1.543447 -0.014771 -0.059607 -0.237363     1.284721       0.246882   \n",
       "1     -1.543447 -1.155432  0.315100 -0.732505     1.506000       0.246882   \n",
       "2     -1.543447 -0.109826  0.417293 -0.732505     1.727278       0.397935   \n",
       "3     -1.543447 -0.813234  0.809032 -0.732505    -0.706788      -1.263641   \n",
       "4     -1.543447  0.764680  1.541414 -0.002284     1.284721       0.020304   \n",
       "...         ...       ...       ...       ...          ...            ...   \n",
       "12447  0.738591 -0.362735 -0.555144 -0.548007    -0.264230      -0.203179   \n",
       "12448 -0.565430  0.642092 -0.617555  1.336095     0.399606      -1.399070   \n",
       "12449 -1.543447 -0.214725 -0.391718  0.559723     0.399606       2.260796   \n",
       "12450 -0.565430 -0.113169 -0.933995  1.072139     1.506000       0.626744   \n",
       "12451 -0.891436  0.346618 -0.434760  1.546315     0.620885      -0.511787   \n",
       "\n",
       "       WindDir9am  WindDir3pm  WindSpeed9am  WindSpeed3pm  Humidity9am  \\\n",
       "0        1.294835    1.473737      0.689510      0.600216     0.007489   \n",
       "1       -0.282081    1.707814     -1.031360      0.387760    -1.646181   \n",
       "2        1.294835    1.707814      0.581956      0.812671    -2.013663   \n",
       "3        0.393740   -1.803347     -0.278479     -0.993204    -1.584934   \n",
       "4       -1.408449   -0.164805     -0.708697      0.175304     0.681207   \n",
       "...           ...         ...           ...           ...          ...   \n",
       "12447   -0.732628    0.069272      0.030960     -0.364543    -0.203110   \n",
       "12448    0.393740   -0.867038     -0.352660     -1.205659     1.354925   \n",
       "12449   -1.183175   -1.101115     -0.374195      0.210878     0.545229   \n",
       "12450   -0.957902    0.771504      0.041007      0.531489     1.048689   \n",
       "12451    1.069561    0.069272      0.581956     -0.018983     0.654729   \n",
       "\n",
       "       Humidity3pm  Pressure9am  Pressure3pm   Temp9am   Temp3pm  \n",
       "0        -1.812200    -1.608123    -1.331371 -0.139469  0.011463  \n",
       "1        -1.654051    -1.116491    -1.211614 -0.084318  0.447420  \n",
       "2        -1.390470    -1.625076    -1.057640  0.614257  0.255599  \n",
       "3        -2.128498     0.070208    -0.356205  0.081134  0.831063  \n",
       "4        -1.232321    -1.082585    -1.519561  0.025983  1.389090  \n",
       "...            ...          ...          ...       ...       ...  \n",
       "12447     1.825227    -0.845523    -0.724451 -0.249017 -0.939998  \n",
       "12448     1.872490    -0.412409    -0.379355  0.015206 -0.574226  \n",
       "12449     0.899790    -1.240364    -1.842096 -0.240991 -0.780615  \n",
       "12450     1.508929    -2.663443    -2.345783 -0.619329 -1.363344  \n",
       "12451     0.759505     1.299671     1.417032  0.070216 -0.308228  \n",
       "\n",
       "[12452 rows x 16 columns]"
      ]
     },
     "execution_count": 49,
     "metadata": {},
     "output_type": "execute_result"
    }
   ],
   "source": [
    "from sklearn.preprocessing import StandardScaler\n",
    "sc = StandardScaler()\n",
    "\n",
    "X = sc.fit_transform(x)\n",
    "X = pd.DataFrame(X,columns=x.columns)\n",
    "X"
   ]
  },
  {
   "cell_type": "markdown",
   "id": "7842b5f7",
   "metadata": {},
   "source": [
    "### Training Process"
   ]
  },
  {
   "cell_type": "code",
   "execution_count": 50,
   "id": "13f5e573",
   "metadata": {},
   "outputs": [],
   "source": [
    "from sklearn.linear_model import LogisticRegression\n",
    "from sklearn.metrics import accuracy_score\n",
    "from sklearn.metrics import confusion_matrix,classification_report\n",
    "from sklearn.model_selection import cross_val_score\n",
    "from sklearn.model_selection import train_test_split"
   ]
  },
  {
   "cell_type": "code",
   "execution_count": 51,
   "id": "8c5da1ef",
   "metadata": {},
   "outputs": [
    {
     "data": {
      "text/plain": [
       "LogisticRegression()"
      ]
     },
     "execution_count": 51,
     "metadata": {},
     "output_type": "execute_result"
    }
   ],
   "source": [
    "lr = LogisticRegression()\n",
    "lr"
   ]
  },
  {
   "cell_type": "markdown",
   "id": "3c98d191",
   "metadata": {},
   "source": [
    "### Best Random State"
   ]
  },
  {
   "cell_type": "code",
   "execution_count": 52,
   "id": "a12be50b",
   "metadata": {},
   "outputs": [
    {
     "name": "stdout",
     "output_type": "stream",
     "text": [
      "Best Accuracy Score is 0.7748152907163508 on Random State 78\n"
     ]
    }
   ],
   "source": [
    "maxAccu = 0\n",
    "maxRs = 0\n",
    "\n",
    "for i in range(1,100):\n",
    "    x_train,x_test,y_train,y_test = train_test_split(x,y,test_size=.25,random_state=i)\n",
    "    lr.fit(x_train,y_train)\n",
    "    pred = lr.predict(x_test)\n",
    "    acc = accuracy_score(y_test,pred)\n",
    "    if maxAccu<acc:\n",
    "        maxAccu=acc\n",
    "        maxRs=i\n",
    "print('Best Accuracy Score is',maxAccu,'on Random State',maxRs)"
   ]
  },
  {
   "cell_type": "code",
   "execution_count": 62,
   "id": "b478e768",
   "metadata": {},
   "outputs": [
    {
     "name": "stdout",
     "output_type": "stream",
     "text": [
      "For crossfold 2 cv score is 0.7160295534853839 Accuracy score is 0.7748152907163508\n",
      "For crossfold 3 cv score is 0.6807825471967369 Accuracy score is 0.7748152907163508\n",
      "For crossfold 4 cv score is 0.6961130742049471 Accuracy score is 0.7748152907163508\n",
      "For crossfold 5 cv score is 0.6984478419498952 Accuracy score is 0.7748152907163508\n",
      "For crossfold 6 cv score is 0.6889717637408981 Accuracy score is 0.7748152907163508\n",
      "For crossfold 7 cv score is 0.7092938515183794 Accuracy score is 0.7748152907163508\n",
      "For crossfold 8 cv score is 0.7259194008152914 Accuracy score is 0.7748152907163508\n",
      "For crossfold 9 cv score is 0.7220679844389924 Accuracy score is 0.7748152907163508\n",
      "For crossfold 10 cv score is 0.71836540383041 Accuracy score is 0.7748152907163508\n",
      "For crossfold 11 cv score is 0.721008673305493 Accuracy score is 0.7748152907163508\n",
      "For crossfold 12 cv score is 0.7284196978958993 Accuracy score is 0.7748152907163508\n",
      "For crossfold 13 cv score is 0.7281729261068401 Accuracy score is 0.7748152907163508\n",
      "For crossfold 14 cv score is 0.7297794336703097 Accuracy score is 0.7748152907163508\n",
      "For crossfold 15 cv score is 0.7315294390558624 Accuracy score is 0.7748152907163508\n",
      "For crossfold 16 cv score is 0.7362826534248972 Accuracy score is 0.7748152907163508\n",
      "For crossfold 17 cv score is 0.732668219928143 Accuracy score is 0.7748152907163508\n",
      "For crossfold 18 cv score is 0.7366175537022011 Accuracy score is 0.7748152907163508\n",
      "For crossfold 19 cv score is 0.7353983135552528 Accuracy score is 0.7748152907163508\n"
     ]
    }
   ],
   "source": [
    "from sklearn.model_selection import cross_val_score\n",
    "for j in range(2,20):\n",
    "    cv = cross_val_score(lr,x,y,cv=j)\n",
    "    cv_score = np.abs(cv.mean())\n",
    "    print('For crossfold',j,'cv score is',cv_score,'Accuracy score is',maxAccu)"
   ]
  },
  {
   "cell_type": "code",
   "execution_count": 63,
   "id": "07e546c2",
   "metadata": {},
   "outputs": [],
   "source": [
    "x_train,x_test,y_train,y_test = train_test_split(x,y,test_size=.25,random_state=78)"
   ]
  },
  {
   "cell_type": "code",
   "execution_count": 64,
   "id": "68d7fb03",
   "metadata": {},
   "outputs": [
    {
     "data": {
      "text/plain": [
       "(9339, 16)"
      ]
     },
     "execution_count": 64,
     "metadata": {},
     "output_type": "execute_result"
    }
   ],
   "source": [
    "x_train.shape"
   ]
  },
  {
   "cell_type": "code",
   "execution_count": 65,
   "id": "20aa3890",
   "metadata": {},
   "outputs": [
    {
     "data": {
      "text/plain": [
       "(3113, 16)"
      ]
     },
     "execution_count": 65,
     "metadata": {},
     "output_type": "execute_result"
    }
   ],
   "source": [
    "x_test.shape"
   ]
  },
  {
   "cell_type": "code",
   "execution_count": 66,
   "id": "40ae6574",
   "metadata": {},
   "outputs": [
    {
     "data": {
      "text/plain": [
       "(9339,)"
      ]
     },
     "execution_count": 66,
     "metadata": {},
     "output_type": "execute_result"
    }
   ],
   "source": [
    "y_train.shape"
   ]
  },
  {
   "cell_type": "code",
   "execution_count": 67,
   "id": "e6a797cb",
   "metadata": {},
   "outputs": [
    {
     "data": {
      "text/plain": [
       "(3113,)"
      ]
     },
     "execution_count": 67,
     "metadata": {},
     "output_type": "execute_result"
    }
   ],
   "source": [
    "y_test.shape"
   ]
  },
  {
   "cell_type": "markdown",
   "id": "1bd088c3",
   "metadata": {},
   "source": [
    "### Model Testing"
   ]
  },
  {
   "cell_type": "code",
   "execution_count": 68,
   "id": "c6fa214e",
   "metadata": {},
   "outputs": [],
   "source": [
    "def Model(model):\n",
    "    model.fit(x_train,y_train)\n",
    "    pred = model.predict(x_test)\n",
    "    Accuracy = accuracy_score(y_test,pred)*100\n",
    "    print('Accuracy',Accuracy)\n",
    "    print(confusion_matrix(y_test,pred))\n",
    "    print(classification_report(y_test,pred))\n",
    "    cv = cross_val_score(model,x,y,cv = 18)\n",
    "    cv_score = cv.mean()*100\n",
    "    print('Cross vvalidation score is ',cv_score)\n",
    "    print('Difference between cv and accuracy score is ',Accuracy-cv_score)\n",
    "    "
   ]
  },
  {
   "cell_type": "markdown",
   "id": "1eb35099",
   "metadata": {},
   "source": [
    "### Logistic Regression"
   ]
  },
  {
   "cell_type": "code",
   "execution_count": 69,
   "id": "d2895ec5",
   "metadata": {},
   "outputs": [
    {
     "name": "stdout",
     "output_type": "stream",
     "text": [
      "Accuracy 77.48152907163508\n",
      "[[1257  344]\n",
      " [ 357 1155]]\n",
      "              precision    recall  f1-score   support\n",
      "\n",
      "           0       0.78      0.79      0.78      1601\n",
      "           1       0.77      0.76      0.77      1512\n",
      "\n",
      "    accuracy                           0.77      3113\n",
      "   macro avg       0.77      0.77      0.77      3113\n",
      "weighted avg       0.77      0.77      0.77      3113\n",
      "\n",
      "Cross vvalidation score is  73.6617553702201\n",
      "Difference between cv and accuracy score is  3.8197737014149737\n"
     ]
    }
   ],
   "source": [
    "lr = LogisticRegression()\n",
    "Model(lr)"
   ]
  },
  {
   "cell_type": "markdown",
   "id": "16564582",
   "metadata": {},
   "source": [
    "### Random Forest Classifier"
   ]
  },
  {
   "cell_type": "code",
   "execution_count": 70,
   "id": "87819004",
   "metadata": {},
   "outputs": [
    {
     "name": "stdout",
     "output_type": "stream",
     "text": [
      "Accuracy 93.35046578862833\n",
      "[[1483  118]\n",
      " [  89 1423]]\n",
      "              precision    recall  f1-score   support\n",
      "\n",
      "           0       0.94      0.93      0.93      1601\n",
      "           1       0.92      0.94      0.93      1512\n",
      "\n",
      "    accuracy                           0.93      3113\n",
      "   macro avg       0.93      0.93      0.93      3113\n",
      "weighted avg       0.93      0.93      0.93      3113\n",
      "\n",
      "Cross vvalidation score is  90.19468354948059\n",
      "Difference between cv and accuracy score is  3.15578223914774\n"
     ]
    }
   ],
   "source": [
    "from sklearn.ensemble import RandomForestClassifier\n",
    "\n",
    "rf = RandomForestClassifier()\n",
    "Model(rf)"
   ]
  },
  {
   "cell_type": "markdown",
   "id": "fbd4ad89",
   "metadata": {},
   "source": [
    "### Service Vector Classifier"
   ]
  },
  {
   "cell_type": "code",
   "execution_count": 71,
   "id": "1060b1e0",
   "metadata": {},
   "outputs": [
    {
     "name": "stdout",
     "output_type": "stream",
     "text": [
      "Accuracy 77.06392547381947\n",
      "[[1256  345]\n",
      " [ 369 1143]]\n",
      "              precision    recall  f1-score   support\n",
      "\n",
      "           0       0.77      0.78      0.78      1601\n",
      "           1       0.77      0.76      0.76      1512\n",
      "\n",
      "    accuracy                           0.77      3113\n",
      "   macro avg       0.77      0.77      0.77      3113\n",
      "weighted avg       0.77      0.77      0.77      3113\n",
      "\n",
      "Cross vvalidation score is  74.3121024791637\n",
      "Difference between cv and accuracy score is  2.751822994655768\n"
     ]
    }
   ],
   "source": [
    "from sklearn.svm import SVC\n",
    "\n",
    "svm = SVC()\n",
    "Model(svm)"
   ]
  },
  {
   "cell_type": "markdown",
   "id": "98696e10",
   "metadata": {},
   "source": [
    "### AdaBoost Classifier"
   ]
  },
  {
   "cell_type": "code",
   "execution_count": 72,
   "id": "10e52e97",
   "metadata": {},
   "outputs": [
    {
     "name": "stdout",
     "output_type": "stream",
     "text": [
      "Accuracy 80.14776742691937\n",
      "[[1308  293]\n",
      " [ 325 1187]]\n",
      "              precision    recall  f1-score   support\n",
      "\n",
      "           0       0.80      0.82      0.81      1601\n",
      "           1       0.80      0.79      0.79      1512\n",
      "\n",
      "    accuracy                           0.80      3113\n",
      "   macro avg       0.80      0.80      0.80      3113\n",
      "weighted avg       0.80      0.80      0.80      3113\n",
      "\n",
      "Cross vvalidation score is  73.114753222225\n",
      "Difference between cv and accuracy score is  7.033014204694368\n"
     ]
    }
   ],
   "source": [
    "from sklearn.ensemble import AdaBoostClassifier\n",
    "\n",
    "adb = AdaBoostClassifier()\n",
    "Model(adb)"
   ]
  },
  {
   "cell_type": "markdown",
   "id": "52ab3309",
   "metadata": {},
   "source": [
    "### KNeighbours Classifier"
   ]
  },
  {
   "cell_type": "code",
   "execution_count": 73,
   "id": "87f6efc3",
   "metadata": {},
   "outputs": [
    {
     "name": "stdout",
     "output_type": "stream",
     "text": [
      "Accuracy 86.12271121105043\n",
      "[[1245  356]\n",
      " [  76 1436]]\n",
      "              precision    recall  f1-score   support\n",
      "\n",
      "           0       0.94      0.78      0.85      1601\n",
      "           1       0.80      0.95      0.87      1512\n",
      "\n",
      "    accuracy                           0.86      3113\n",
      "   macro avg       0.87      0.86      0.86      3113\n",
      "weighted avg       0.87      0.86      0.86      3113\n",
      "\n",
      "Cross vvalidation score is  84.19672558549364\n",
      "Difference between cv and accuracy score is  1.925985625556791\n"
     ]
    }
   ],
   "source": [
    "from sklearn.neighbors import KNeighborsClassifier\n",
    "\n",
    "kn = KNeighborsClassifier()\n",
    "Model(kn)"
   ]
  },
  {
   "cell_type": "markdown",
   "id": "267f32e9",
   "metadata": {},
   "source": [
    "### Decision Tree Classifier"
   ]
  },
  {
   "cell_type": "code",
   "execution_count": 74,
   "id": "f7f9add5",
   "metadata": {},
   "outputs": [
    {
     "name": "stdout",
     "output_type": "stream",
     "text": [
      "Accuracy 86.15483456472856\n",
      "[[1352  249]\n",
      " [ 182 1330]]\n",
      "              precision    recall  f1-score   support\n",
      "\n",
      "           0       0.88      0.84      0.86      1601\n",
      "           1       0.84      0.88      0.86      1512\n",
      "\n",
      "    accuracy                           0.86      3113\n",
      "   macro avg       0.86      0.86      0.86      3113\n",
      "weighted avg       0.86      0.86      0.86      3113\n",
      "\n",
      "Cross vvalidation score is  85.3112710721479\n",
      "Difference between cv and accuracy score is  0.8435634925806568\n"
     ]
    }
   ],
   "source": [
    "from sklearn.tree import DecisionTreeClassifier\n",
    "\n",
    "dt = DecisionTreeClassifier()\n",
    "Model(dt)"
   ]
  },
  {
   "cell_type": "markdown",
   "id": "cf98e0ee",
   "metadata": {},
   "source": [
    "### Extra Tree Classifier"
   ]
  },
  {
   "cell_type": "code",
   "execution_count": 75,
   "id": "0bb3b294",
   "metadata": {},
   "outputs": [
    {
     "name": "stdout",
     "output_type": "stream",
     "text": [
      "Accuracy 86.41182139415355\n",
      "[[1374  227]\n",
      " [ 196 1316]]\n",
      "              precision    recall  f1-score   support\n",
      "\n",
      "           0       0.88      0.86      0.87      1601\n",
      "           1       0.85      0.87      0.86      1512\n",
      "\n",
      "    accuracy                           0.86      3113\n",
      "   macro avg       0.86      0.86      0.86      3113\n",
      "weighted avg       0.86      0.86      0.86      3113\n",
      "\n",
      "Cross vvalidation score is  84.49991727755797\n",
      "Difference between cv and accuracy score is  1.9119041165955792\n"
     ]
    }
   ],
   "source": [
    "from sklearn.tree import ExtraTreeClassifier\n",
    "\n",
    "et = ExtraTreeClassifier()\n",
    "Model(et)"
   ]
  },
  {
   "cell_type": "markdown",
   "id": "cd8a5e2e",
   "metadata": {},
   "source": [
    "### Hyper Parameter Tuning"
   ]
  },
  {
   "cell_type": "markdown",
   "id": "aebf6dd8",
   "metadata": {},
   "source": [
    "#### Logistic Regression"
   ]
  },
  {
   "cell_type": "code",
   "execution_count": 76,
   "id": "4e36ceae",
   "metadata": {},
   "outputs": [
    {
     "data": {
      "text/plain": [
       "LogisticRegression()"
      ]
     },
     "execution_count": 76,
     "metadata": {},
     "output_type": "execute_result"
    }
   ],
   "source": [
    "LogisticRegression()"
   ]
  },
  {
   "cell_type": "code",
   "execution_count": 77,
   "id": "dc74ada9",
   "metadata": {},
   "outputs": [],
   "source": [
    "from sklearn.model_selection import GridSearchCV\n",
    "\n",
    "parameters = {'penalty' : ['l1', 'l2', 'elasticnet', 'none'],\n",
    "             'solver' : ['newton-cg', 'lbfgs', 'liblinear', 'sag', 'saga'],\n",
    "             'C':[0.1,1,10]\n",
    "             }"
   ]
  },
  {
   "cell_type": "code",
   "execution_count": 78,
   "id": "3fabdc95",
   "metadata": {},
   "outputs": [
    {
     "data": {
      "text/plain": [
       "{'C': 10, 'penalty': 'l1', 'solver': 'liblinear'}"
      ]
     },
     "execution_count": 78,
     "metadata": {},
     "output_type": "execute_result"
    }
   ],
   "source": [
    "GCV = GridSearchCV(LogisticRegression(),parameters,cv=19,n_jobs=-1)\n",
    "GCV.fit(x_train,y_train)\n",
    "GCV.best_params_"
   ]
  },
  {
   "cell_type": "code",
   "execution_count": 79,
   "id": "be52c4be",
   "metadata": {},
   "outputs": [
    {
     "data": {
      "text/plain": [
       "LogisticRegression(C=10, penalty='l1', solver='liblinear')"
      ]
     },
     "execution_count": 79,
     "metadata": {},
     "output_type": "execute_result"
    }
   ],
   "source": [
    "GCV.best_estimator_"
   ]
  },
  {
   "cell_type": "code",
   "execution_count": 80,
   "id": "f2ba50dc",
   "metadata": {},
   "outputs": [
    {
     "name": "stdout",
     "output_type": "stream",
     "text": [
      "Accuracy 77.48152907163508\n",
      "[[1256  345]\n",
      " [ 356 1156]]\n",
      "              precision    recall  f1-score   support\n",
      "\n",
      "           0       0.78      0.78      0.78      1601\n",
      "           1       0.77      0.76      0.77      1512\n",
      "\n",
      "    accuracy                           0.77      3113\n",
      "   macro avg       0.77      0.77      0.77      3113\n",
      "weighted avg       0.77      0.77      0.77      3113\n",
      "\n",
      "Cross vvalidation score is  73.55760874515632\n",
      "Difference between cv and accuracy score is  3.9239203264787648\n"
     ]
    }
   ],
   "source": [
    "lr = LogisticRegression(C=10, solver='sag')\n",
    "Model(lr)"
   ]
  },
  {
   "cell_type": "markdown",
   "id": "fbb6aaf7",
   "metadata": {},
   "source": [
    "#### Decision Tree Classifier"
   ]
  },
  {
   "cell_type": "code",
   "execution_count": 81,
   "id": "75147c08",
   "metadata": {},
   "outputs": [
    {
     "data": {
      "text/plain": [
       "DecisionTreeClassifier()"
      ]
     },
     "execution_count": 81,
     "metadata": {},
     "output_type": "execute_result"
    }
   ],
   "source": [
    "DecisionTreeClassifier()"
   ]
  },
  {
   "cell_type": "code",
   "execution_count": 82,
   "id": "13198989",
   "metadata": {},
   "outputs": [],
   "source": [
    "parameters = {'criterion' : [\"gini\", \"entropy\"],\n",
    "              'splitter' : [\"best\", \"random\"]}"
   ]
  },
  {
   "cell_type": "code",
   "execution_count": 83,
   "id": "62e7f85d",
   "metadata": {},
   "outputs": [
    {
     "data": {
      "text/plain": [
       "{'criterion': 'entropy', 'splitter': 'best'}"
      ]
     },
     "execution_count": 83,
     "metadata": {},
     "output_type": "execute_result"
    }
   ],
   "source": [
    "GCV = GridSearchCV(DecisionTreeClassifier(),parameters,cv=19,n_jobs=-1)\n",
    "GCV.fit(x_train,y_train)\n",
    "GCV.best_params_"
   ]
  },
  {
   "cell_type": "code",
   "execution_count": 84,
   "id": "b269282a",
   "metadata": {},
   "outputs": [
    {
     "data": {
      "text/plain": [
       "DecisionTreeClassifier(criterion='entropy')"
      ]
     },
     "execution_count": 84,
     "metadata": {},
     "output_type": "execute_result"
    }
   ],
   "source": [
    "GCV.best_estimator_"
   ]
  },
  {
   "cell_type": "code",
   "execution_count": 85,
   "id": "f8d2cc41",
   "metadata": {},
   "outputs": [
    {
     "name": "stdout",
     "output_type": "stream",
     "text": [
      "Accuracy 88.53196273690973\n",
      "[[1396  205]\n",
      " [ 152 1360]]\n",
      "              precision    recall  f1-score   support\n",
      "\n",
      "           0       0.90      0.87      0.89      1601\n",
      "           1       0.87      0.90      0.88      1512\n",
      "\n",
      "    accuracy                           0.89      3113\n",
      "   macro avg       0.89      0.89      0.89      3113\n",
      "weighted avg       0.89      0.89      0.89      3113\n",
      "\n",
      "Cross vvalidation score is  85.97035515811604\n",
      "Difference between cv and accuracy score is  2.561607578793698\n"
     ]
    }
   ],
   "source": [
    "dt = DecisionTreeClassifier(criterion='entropy')\n",
    "Model(dt)"
   ]
  },
  {
   "cell_type": "markdown",
   "id": "953a2dcf",
   "metadata": {},
   "source": [
    "#### Extra Tree Classifier"
   ]
  },
  {
   "cell_type": "code",
   "execution_count": 86,
   "id": "7a143f55",
   "metadata": {},
   "outputs": [
    {
     "data": {
      "text/plain": [
       "ExtraTreeClassifier()"
      ]
     },
     "execution_count": 86,
     "metadata": {},
     "output_type": "execute_result"
    }
   ],
   "source": [
    "ExtraTreeClassifier()"
   ]
  },
  {
   "cell_type": "code",
   "execution_count": 87,
   "id": "feb5a9ac",
   "metadata": {},
   "outputs": [],
   "source": [
    "parameters = {'criterion' : [\"gini\", \"entropy\"],\n",
    "              'splitter' : [\"random\", \"best\"]}"
   ]
  },
  {
   "cell_type": "code",
   "execution_count": 88,
   "id": "52822e64",
   "metadata": {},
   "outputs": [
    {
     "data": {
      "text/plain": [
       "{'criterion': 'entropy', 'splitter': 'best'}"
      ]
     },
     "execution_count": 88,
     "metadata": {},
     "output_type": "execute_result"
    }
   ],
   "source": [
    "GCV = GridSearchCV(ExtraTreeClassifier(),parameters,cv=19,n_jobs=-1)\n",
    "GCV.fit(x_train,y_train)\n",
    "GCV.best_params_"
   ]
  },
  {
   "cell_type": "code",
   "execution_count": 89,
   "id": "74a7c436",
   "metadata": {},
   "outputs": [
    {
     "data": {
      "text/plain": [
       "ExtraTreeClassifier(criterion='entropy', splitter='best')"
      ]
     },
     "execution_count": 89,
     "metadata": {},
     "output_type": "execute_result"
    }
   ],
   "source": [
    "GCV.best_estimator_"
   ]
  },
  {
   "cell_type": "code",
   "execution_count": 90,
   "id": "c7f6355d",
   "metadata": {},
   "outputs": [
    {
     "name": "stdout",
     "output_type": "stream",
     "text": [
      "Accuracy 86.3475746867973\n",
      "[[1375  226]\n",
      " [ 199 1313]]\n",
      "              precision    recall  f1-score   support\n",
      "\n",
      "           0       0.87      0.86      0.87      1601\n",
      "           1       0.85      0.87      0.86      1512\n",
      "\n",
      "    accuracy                           0.86      3113\n",
      "   macro avg       0.86      0.86      0.86      3113\n",
      "weighted avg       0.86      0.86      0.86      3113\n",
      "\n",
      "Cross vvalidation score is  84.9428076554508\n",
      "Difference between cv and accuracy score is  1.4047670313464948\n"
     ]
    }
   ],
   "source": [
    "et = ExtraTreeClassifier(criterion='entropy', splitter='best')\n",
    "Model(et)"
   ]
  },
  {
   "cell_type": "markdown",
   "id": "4041231e",
   "metadata": {},
   "source": [
    "##### We can see that Accuracy score for Random Forest Classifier is highest than other models without hyper parameter tuning,but the difference between Accuracy and Cross Validation is more. So we choose Extra Tree Classifier without Hyper Parameter Tuning as our Final Model."
   ]
  },
  {
   "cell_type": "code",
   "execution_count": null,
   "id": "aba95d73",
   "metadata": {},
   "outputs": [],
   "source": []
  }
 ],
 "metadata": {
  "kernelspec": {
   "display_name": "Python 3",
   "language": "python",
   "name": "python3"
  },
  "language_info": {
   "codemirror_mode": {
    "name": "ipython",
    "version": 3
   },
   "file_extension": ".py",
   "mimetype": "text/x-python",
   "name": "python",
   "nbconvert_exporter": "python",
   "pygments_lexer": "ipython3",
   "version": "3.8.8"
  }
 },
 "nbformat": 4,
 "nbformat_minor": 5
}

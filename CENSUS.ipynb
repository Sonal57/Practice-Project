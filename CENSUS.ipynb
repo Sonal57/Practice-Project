{
 "cells": [
  {
   "cell_type": "markdown",
   "id": "0b4d4af0",
   "metadata": {},
   "source": [
    " ## CENSUS INCOME PROJECT"
   ]
  },
  {
   "cell_type": "code",
   "execution_count": 1,
   "id": "e17ef650",
   "metadata": {},
   "outputs": [],
   "source": [
    "import numpy as np\n",
    "import pandas as pd\n",
    "import matplotlib.pyplot as plt\n",
    "import seaborn as sns\n",
    "\n",
    "import warnings\n",
    "warnings.filterwarnings('ignore')"
   ]
  },
  {
   "cell_type": "code",
   "execution_count": 2,
   "id": "17a1ec1e",
   "metadata": {},
   "outputs": [
    {
     "data": {
      "text/html": [
       "<div>\n",
       "<style scoped>\n",
       "    .dataframe tbody tr th:only-of-type {\n",
       "        vertical-align: middle;\n",
       "    }\n",
       "\n",
       "    .dataframe tbody tr th {\n",
       "        vertical-align: top;\n",
       "    }\n",
       "\n",
       "    .dataframe thead th {\n",
       "        text-align: right;\n",
       "    }\n",
       "</style>\n",
       "<table border=\"1\" class=\"dataframe\">\n",
       "  <thead>\n",
       "    <tr style=\"text-align: right;\">\n",
       "      <th></th>\n",
       "      <th>Age</th>\n",
       "      <th>Workclass</th>\n",
       "      <th>Fnlwgt</th>\n",
       "      <th>Education</th>\n",
       "      <th>Education_num</th>\n",
       "      <th>Marital_status</th>\n",
       "      <th>Occupation</th>\n",
       "      <th>Relationship</th>\n",
       "      <th>Race</th>\n",
       "      <th>Sex</th>\n",
       "      <th>Capital_gain</th>\n",
       "      <th>Capital_loss</th>\n",
       "      <th>Hours_per_week</th>\n",
       "      <th>Native_country</th>\n",
       "      <th>Income</th>\n",
       "    </tr>\n",
       "  </thead>\n",
       "  <tbody>\n",
       "    <tr>\n",
       "      <th>0</th>\n",
       "      <td>50</td>\n",
       "      <td>Self-emp-not-inc</td>\n",
       "      <td>83311</td>\n",
       "      <td>Bachelors</td>\n",
       "      <td>13</td>\n",
       "      <td>Married-civ-spouse</td>\n",
       "      <td>Exec-managerial</td>\n",
       "      <td>Husband</td>\n",
       "      <td>White</td>\n",
       "      <td>Male</td>\n",
       "      <td>0</td>\n",
       "      <td>0</td>\n",
       "      <td>13</td>\n",
       "      <td>United-States</td>\n",
       "      <td>&lt;=50K</td>\n",
       "    </tr>\n",
       "    <tr>\n",
       "      <th>1</th>\n",
       "      <td>38</td>\n",
       "      <td>Private</td>\n",
       "      <td>215646</td>\n",
       "      <td>HS-grad</td>\n",
       "      <td>9</td>\n",
       "      <td>Divorced</td>\n",
       "      <td>Handlers-cleaners</td>\n",
       "      <td>Not-in-family</td>\n",
       "      <td>White</td>\n",
       "      <td>Male</td>\n",
       "      <td>0</td>\n",
       "      <td>0</td>\n",
       "      <td>40</td>\n",
       "      <td>United-States</td>\n",
       "      <td>&lt;=50K</td>\n",
       "    </tr>\n",
       "    <tr>\n",
       "      <th>2</th>\n",
       "      <td>53</td>\n",
       "      <td>Private</td>\n",
       "      <td>234721</td>\n",
       "      <td>11th</td>\n",
       "      <td>7</td>\n",
       "      <td>Married-civ-spouse</td>\n",
       "      <td>Handlers-cleaners</td>\n",
       "      <td>Husband</td>\n",
       "      <td>Black</td>\n",
       "      <td>Male</td>\n",
       "      <td>0</td>\n",
       "      <td>0</td>\n",
       "      <td>40</td>\n",
       "      <td>United-States</td>\n",
       "      <td>&lt;=50K</td>\n",
       "    </tr>\n",
       "    <tr>\n",
       "      <th>3</th>\n",
       "      <td>28</td>\n",
       "      <td>Private</td>\n",
       "      <td>338409</td>\n",
       "      <td>Bachelors</td>\n",
       "      <td>13</td>\n",
       "      <td>Married-civ-spouse</td>\n",
       "      <td>Prof-specialty</td>\n",
       "      <td>Wife</td>\n",
       "      <td>Black</td>\n",
       "      <td>Female</td>\n",
       "      <td>0</td>\n",
       "      <td>0</td>\n",
       "      <td>40</td>\n",
       "      <td>Cuba</td>\n",
       "      <td>&lt;=50K</td>\n",
       "    </tr>\n",
       "    <tr>\n",
       "      <th>4</th>\n",
       "      <td>37</td>\n",
       "      <td>Private</td>\n",
       "      <td>284582</td>\n",
       "      <td>Masters</td>\n",
       "      <td>14</td>\n",
       "      <td>Married-civ-spouse</td>\n",
       "      <td>Exec-managerial</td>\n",
       "      <td>Wife</td>\n",
       "      <td>White</td>\n",
       "      <td>Female</td>\n",
       "      <td>0</td>\n",
       "      <td>0</td>\n",
       "      <td>40</td>\n",
       "      <td>United-States</td>\n",
       "      <td>&lt;=50K</td>\n",
       "    </tr>\n",
       "    <tr>\n",
       "      <th>...</th>\n",
       "      <td>...</td>\n",
       "      <td>...</td>\n",
       "      <td>...</td>\n",
       "      <td>...</td>\n",
       "      <td>...</td>\n",
       "      <td>...</td>\n",
       "      <td>...</td>\n",
       "      <td>...</td>\n",
       "      <td>...</td>\n",
       "      <td>...</td>\n",
       "      <td>...</td>\n",
       "      <td>...</td>\n",
       "      <td>...</td>\n",
       "      <td>...</td>\n",
       "      <td>...</td>\n",
       "    </tr>\n",
       "    <tr>\n",
       "      <th>32555</th>\n",
       "      <td>27</td>\n",
       "      <td>Private</td>\n",
       "      <td>257302</td>\n",
       "      <td>Assoc-acdm</td>\n",
       "      <td>12</td>\n",
       "      <td>Married-civ-spouse</td>\n",
       "      <td>Tech-support</td>\n",
       "      <td>Wife</td>\n",
       "      <td>White</td>\n",
       "      <td>Female</td>\n",
       "      <td>0</td>\n",
       "      <td>0</td>\n",
       "      <td>38</td>\n",
       "      <td>United-States</td>\n",
       "      <td>&lt;=50K</td>\n",
       "    </tr>\n",
       "    <tr>\n",
       "      <th>32556</th>\n",
       "      <td>40</td>\n",
       "      <td>Private</td>\n",
       "      <td>154374</td>\n",
       "      <td>HS-grad</td>\n",
       "      <td>9</td>\n",
       "      <td>Married-civ-spouse</td>\n",
       "      <td>Machine-op-inspct</td>\n",
       "      <td>Husband</td>\n",
       "      <td>White</td>\n",
       "      <td>Male</td>\n",
       "      <td>0</td>\n",
       "      <td>0</td>\n",
       "      <td>40</td>\n",
       "      <td>United-States</td>\n",
       "      <td>&gt;50K</td>\n",
       "    </tr>\n",
       "    <tr>\n",
       "      <th>32557</th>\n",
       "      <td>58</td>\n",
       "      <td>Private</td>\n",
       "      <td>151910</td>\n",
       "      <td>HS-grad</td>\n",
       "      <td>9</td>\n",
       "      <td>Widowed</td>\n",
       "      <td>Adm-clerical</td>\n",
       "      <td>Unmarried</td>\n",
       "      <td>White</td>\n",
       "      <td>Female</td>\n",
       "      <td>0</td>\n",
       "      <td>0</td>\n",
       "      <td>40</td>\n",
       "      <td>United-States</td>\n",
       "      <td>&lt;=50K</td>\n",
       "    </tr>\n",
       "    <tr>\n",
       "      <th>32558</th>\n",
       "      <td>22</td>\n",
       "      <td>Private</td>\n",
       "      <td>201490</td>\n",
       "      <td>HS-grad</td>\n",
       "      <td>9</td>\n",
       "      <td>Never-married</td>\n",
       "      <td>Adm-clerical</td>\n",
       "      <td>Own-child</td>\n",
       "      <td>White</td>\n",
       "      <td>Male</td>\n",
       "      <td>0</td>\n",
       "      <td>0</td>\n",
       "      <td>20</td>\n",
       "      <td>United-States</td>\n",
       "      <td>&lt;=50K</td>\n",
       "    </tr>\n",
       "    <tr>\n",
       "      <th>32559</th>\n",
       "      <td>52</td>\n",
       "      <td>Self-emp-inc</td>\n",
       "      <td>287927</td>\n",
       "      <td>HS-grad</td>\n",
       "      <td>9</td>\n",
       "      <td>Married-civ-spouse</td>\n",
       "      <td>Exec-managerial</td>\n",
       "      <td>Wife</td>\n",
       "      <td>White</td>\n",
       "      <td>Female</td>\n",
       "      <td>15024</td>\n",
       "      <td>0</td>\n",
       "      <td>40</td>\n",
       "      <td>United-States</td>\n",
       "      <td>&gt;50K</td>\n",
       "    </tr>\n",
       "  </tbody>\n",
       "</table>\n",
       "<p>32560 rows × 15 columns</p>\n",
       "</div>"
      ],
      "text/plain": [
       "       Age          Workclass  Fnlwgt    Education  Education_num  \\\n",
       "0       50   Self-emp-not-inc   83311    Bachelors             13   \n",
       "1       38            Private  215646      HS-grad              9   \n",
       "2       53            Private  234721         11th              7   \n",
       "3       28            Private  338409    Bachelors             13   \n",
       "4       37            Private  284582      Masters             14   \n",
       "...    ...                ...     ...          ...            ...   \n",
       "32555   27            Private  257302   Assoc-acdm             12   \n",
       "32556   40            Private  154374      HS-grad              9   \n",
       "32557   58            Private  151910      HS-grad              9   \n",
       "32558   22            Private  201490      HS-grad              9   \n",
       "32559   52       Self-emp-inc  287927      HS-grad              9   \n",
       "\n",
       "            Marital_status          Occupation    Relationship    Race  \\\n",
       "0       Married-civ-spouse     Exec-managerial         Husband   White   \n",
       "1                 Divorced   Handlers-cleaners   Not-in-family   White   \n",
       "2       Married-civ-spouse   Handlers-cleaners         Husband   Black   \n",
       "3       Married-civ-spouse      Prof-specialty            Wife   Black   \n",
       "4       Married-civ-spouse     Exec-managerial            Wife   White   \n",
       "...                    ...                 ...             ...     ...   \n",
       "32555   Married-civ-spouse        Tech-support            Wife   White   \n",
       "32556   Married-civ-spouse   Machine-op-inspct         Husband   White   \n",
       "32557              Widowed        Adm-clerical       Unmarried   White   \n",
       "32558        Never-married        Adm-clerical       Own-child   White   \n",
       "32559   Married-civ-spouse     Exec-managerial            Wife   White   \n",
       "\n",
       "           Sex  Capital_gain  Capital_loss  Hours_per_week  Native_country  \\\n",
       "0         Male             0             0              13   United-States   \n",
       "1         Male             0             0              40   United-States   \n",
       "2         Male             0             0              40   United-States   \n",
       "3       Female             0             0              40            Cuba   \n",
       "4       Female             0             0              40   United-States   \n",
       "...        ...           ...           ...             ...             ...   \n",
       "32555   Female             0             0              38   United-States   \n",
       "32556     Male             0             0              40   United-States   \n",
       "32557   Female             0             0              40   United-States   \n",
       "32558     Male             0             0              20   United-States   \n",
       "32559   Female         15024             0              40   United-States   \n",
       "\n",
       "       Income  \n",
       "0       <=50K  \n",
       "1       <=50K  \n",
       "2       <=50K  \n",
       "3       <=50K  \n",
       "4       <=50K  \n",
       "...       ...  \n",
       "32555   <=50K  \n",
       "32556    >50K  \n",
       "32557   <=50K  \n",
       "32558   <=50K  \n",
       "32559    >50K  \n",
       "\n",
       "[32560 rows x 15 columns]"
      ]
     },
     "execution_count": 2,
     "metadata": {},
     "output_type": "execute_result"
    }
   ],
   "source": [
    "df = pd.read_csv('census.csv')\n",
    "df"
   ]
  },
  {
   "cell_type": "markdown",
   "id": "a8e69785",
   "metadata": {},
   "source": [
    "##### We have 32560 rows and 15 columns."
   ]
  },
  {
   "cell_type": "code",
   "execution_count": 3,
   "id": "678dc9cc",
   "metadata": {},
   "outputs": [
    {
     "data": {
      "text/plain": [
       "Index(['Age', 'Workclass', 'Fnlwgt', 'Education', 'Education_num',\n",
       "       'Marital_status', 'Occupation', 'Relationship', 'Race', 'Sex',\n",
       "       'Capital_gain', 'Capital_loss', 'Hours_per_week', 'Native_country',\n",
       "       'Income'],\n",
       "      dtype='object')"
      ]
     },
     "execution_count": 3,
     "metadata": {},
     "output_type": "execute_result"
    }
   ],
   "source": [
    "df.columns"
   ]
  },
  {
   "cell_type": "markdown",
   "id": "4a234352",
   "metadata": {},
   "source": [
    "### About the Columns\n",
    "\n",
    "##### Age - Age of People.\n",
    "\n",
    "##### Workclass - This column shows the job type of people.\n",
    "\n",
    "##### Fnlwgt - It represents the final weight.\n",
    "\n",
    "##### Education - It shows the Education status of people.\n",
    "\n",
    "##### Education_num - This column shows the total number of years of education.\n",
    "\n",
    "##### Marital_status - It shows the marital status of people.\n",
    "\n",
    "##### Occupation - This column tells about the Occupation of people.\n",
    "\n",
    "##### Relationship - It shows the relationship of an employee with their family members.\n",
    "\n",
    "##### Race - This column shows the residential segregation.\n",
    "\n",
    "##### Sex - It shows the Gender .\n",
    "\n",
    "##### Capital_gain - This column shows the profit who one earns.\n",
    "\n",
    "##### Captal_loss - This column shows the loss who one loose.\n",
    "\n",
    "##### Hours_per_week - Earning rate of people as per hours.\n",
    "\n",
    "##### Native_country -  This column shows the native country of people.\n",
    "\n",
    "##### Income - Income is a target column.\n"
   ]
  },
  {
   "cell_type": "code",
   "execution_count": 4,
   "id": "610a07bf",
   "metadata": {},
   "outputs": [
    {
     "data": {
      "text/plain": [
       "Age                int64\n",
       "Workclass         object\n",
       "Fnlwgt             int64\n",
       "Education         object\n",
       "Education_num      int64\n",
       "Marital_status    object\n",
       "Occupation        object\n",
       "Relationship      object\n",
       "Race              object\n",
       "Sex               object\n",
       "Capital_gain       int64\n",
       "Capital_loss       int64\n",
       "Hours_per_week     int64\n",
       "Native_country    object\n",
       "Income            object\n",
       "dtype: object"
      ]
     },
     "execution_count": 4,
     "metadata": {},
     "output_type": "execute_result"
    }
   ],
   "source": [
    "df.dtypes"
   ]
  },
  {
   "cell_type": "code",
   "execution_count": 5,
   "id": "325e648c",
   "metadata": {},
   "outputs": [
    {
     "data": {
      "text/plain": [
       "Age               0\n",
       "Workclass         0\n",
       "Fnlwgt            0\n",
       "Education         0\n",
       "Education_num     0\n",
       "Marital_status    0\n",
       "Occupation        0\n",
       "Relationship      0\n",
       "Race              0\n",
       "Sex               0\n",
       "Capital_gain      0\n",
       "Capital_loss      0\n",
       "Hours_per_week    0\n",
       "Native_country    0\n",
       "Income            0\n",
       "dtype: int64"
      ]
     },
     "execution_count": 5,
     "metadata": {},
     "output_type": "execute_result"
    }
   ],
   "source": [
    "df.isnull().sum()"
   ]
  },
  {
   "cell_type": "markdown",
   "id": "548c41a2",
   "metadata": {},
   "source": [
    "##### we dont have any null values in given dataset."
   ]
  },
  {
   "cell_type": "code",
   "execution_count": 6,
   "id": "498a4b5b",
   "metadata": {},
   "outputs": [
    {
     "name": "stdout",
     "output_type": "stream",
     "text": [
      "<class 'pandas.core.frame.DataFrame'>\n",
      "RangeIndex: 32560 entries, 0 to 32559\n",
      "Data columns (total 15 columns):\n",
      " #   Column          Non-Null Count  Dtype \n",
      "---  ------          --------------  ----- \n",
      " 0   Age             32560 non-null  int64 \n",
      " 1   Workclass       32560 non-null  object\n",
      " 2   Fnlwgt          32560 non-null  int64 \n",
      " 3   Education       32560 non-null  object\n",
      " 4   Education_num   32560 non-null  int64 \n",
      " 5   Marital_status  32560 non-null  object\n",
      " 6   Occupation      32560 non-null  object\n",
      " 7   Relationship    32560 non-null  object\n",
      " 8   Race            32560 non-null  object\n",
      " 9   Sex             32560 non-null  object\n",
      " 10  Capital_gain    32560 non-null  int64 \n",
      " 11  Capital_loss    32560 non-null  int64 \n",
      " 12  Hours_per_week  32560 non-null  int64 \n",
      " 13  Native_country  32560 non-null  object\n",
      " 14  Income          32560 non-null  object\n",
      "dtypes: int64(6), object(9)\n",
      "memory usage: 3.7+ MB\n"
     ]
    }
   ],
   "source": [
    "df.info()"
   ]
  },
  {
   "cell_type": "markdown",
   "id": "5693d211",
   "metadata": {},
   "source": [
    "##### We can see the information about df dataset. It shows the non null values and datatypes of column in given dataset. It also shows that how much memory the dataset used."
   ]
  },
  {
   "cell_type": "markdown",
   "id": "2af1b6a3",
   "metadata": {},
   "source": [
    "### Handling the Missing values"
   ]
  },
  {
   "cell_type": "code",
   "execution_count": 7,
   "id": "910a0e42",
   "metadata": {},
   "outputs": [
    {
     "data": {
      "text/plain": [
       "array([' Self-emp-not-inc', ' Private', ' State-gov', ' Federal-gov',\n",
       "       ' Local-gov', ' ?', ' Self-emp-inc', ' Without-pay',\n",
       "       ' Never-worked'], dtype=object)"
      ]
     },
     "execution_count": 7,
     "metadata": {},
     "output_type": "execute_result"
    }
   ],
   "source": [
    "df['Workclass'].unique()"
   ]
  },
  {
   "cell_type": "code",
   "execution_count": 8,
   "id": "ab01099b",
   "metadata": {},
   "outputs": [
    {
     "data": {
      "text/plain": [
       "array([' Exec-managerial', ' Handlers-cleaners', ' Prof-specialty',\n",
       "       ' Other-service', ' Adm-clerical', ' Sales', ' Craft-repair',\n",
       "       ' Transport-moving', ' Farming-fishing', ' Machine-op-inspct',\n",
       "       ' Tech-support', ' ?', ' Protective-serv', ' Armed-Forces',\n",
       "       ' Priv-house-serv'], dtype=object)"
      ]
     },
     "execution_count": 8,
     "metadata": {},
     "output_type": "execute_result"
    }
   ],
   "source": [
    "df['Occupation'].unique()"
   ]
  },
  {
   "cell_type": "code",
   "execution_count": 9,
   "id": "61f08d64",
   "metadata": {},
   "outputs": [
    {
     "data": {
      "text/plain": [
       "array([' United-States', ' Cuba', ' Jamaica', ' India', ' ?', ' Mexico',\n",
       "       ' South', ' Puerto-Rico', ' Honduras', ' England', ' Canada',\n",
       "       ' Germany', ' Iran', ' Philippines', ' Italy', ' Poland',\n",
       "       ' Columbia', ' Cambodia', ' Thailand', ' Ecuador', ' Laos',\n",
       "       ' Taiwan', ' Haiti', ' Portugal', ' Dominican-Republic',\n",
       "       ' El-Salvador', ' France', ' Guatemala', ' China', ' Japan',\n",
       "       ' Yugoslavia', ' Peru', ' Outlying-US(Guam-USVI-etc)', ' Scotland',\n",
       "       ' Trinadad&Tobago', ' Greece', ' Nicaragua', ' Vietnam', ' Hong',\n",
       "       ' Ireland', ' Hungary', ' Holand-Netherlands'], dtype=object)"
      ]
     },
     "execution_count": 9,
     "metadata": {},
     "output_type": "execute_result"
    }
   ],
   "source": [
    "df['Native_country'].unique()"
   ]
  },
  {
   "cell_type": "markdown",
   "id": "b7bb33a3",
   "metadata": {},
   "source": [
    "##### In 3 columns (Workplace,Occupation,Native_country)of given dataset have ? as a null value. Firstly we have to replace that ?."
   ]
  },
  {
   "cell_type": "markdown",
   "id": "025cd362",
   "metadata": {},
   "source": [
    "### Filling ? values"
   ]
  },
  {
   "cell_type": "code",
   "execution_count": 10,
   "id": "ec2feeb9",
   "metadata": {},
   "outputs": [],
   "source": [
    "df['Workclass'] = df['Workclass'].replace(' ?',np.nan)\n",
    "df['Occupation'] = df['Occupation'].replace(' ?',np.nan)\n",
    "df['Native_country'] = df['Native_country'].replace(' ?',np.nan)"
   ]
  },
  {
   "cell_type": "code",
   "execution_count": 11,
   "id": "a349712e",
   "metadata": {},
   "outputs": [
    {
     "data": {
      "text/html": [
       "<div>\n",
       "<style scoped>\n",
       "    .dataframe tbody tr th:only-of-type {\n",
       "        vertical-align: middle;\n",
       "    }\n",
       "\n",
       "    .dataframe tbody tr th {\n",
       "        vertical-align: top;\n",
       "    }\n",
       "\n",
       "    .dataframe thead th {\n",
       "        text-align: right;\n",
       "    }\n",
       "</style>\n",
       "<table border=\"1\" class=\"dataframe\">\n",
       "  <thead>\n",
       "    <tr style=\"text-align: right;\">\n",
       "      <th></th>\n",
       "      <th>Age</th>\n",
       "      <th>Workclass</th>\n",
       "      <th>Fnlwgt</th>\n",
       "      <th>Education</th>\n",
       "      <th>Education_num</th>\n",
       "      <th>Marital_status</th>\n",
       "      <th>Occupation</th>\n",
       "      <th>Relationship</th>\n",
       "      <th>Race</th>\n",
       "      <th>Sex</th>\n",
       "      <th>Capital_gain</th>\n",
       "      <th>Capital_loss</th>\n",
       "      <th>Hours_per_week</th>\n",
       "      <th>Native_country</th>\n",
       "      <th>Income</th>\n",
       "    </tr>\n",
       "  </thead>\n",
       "  <tbody>\n",
       "    <tr>\n",
       "      <th>0</th>\n",
       "      <td>50</td>\n",
       "      <td>Self-emp-not-inc</td>\n",
       "      <td>83311</td>\n",
       "      <td>Bachelors</td>\n",
       "      <td>13</td>\n",
       "      <td>Married-civ-spouse</td>\n",
       "      <td>Exec-managerial</td>\n",
       "      <td>Husband</td>\n",
       "      <td>White</td>\n",
       "      <td>Male</td>\n",
       "      <td>0</td>\n",
       "      <td>0</td>\n",
       "      <td>13</td>\n",
       "      <td>United-States</td>\n",
       "      <td>&lt;=50K</td>\n",
       "    </tr>\n",
       "    <tr>\n",
       "      <th>1</th>\n",
       "      <td>38</td>\n",
       "      <td>Private</td>\n",
       "      <td>215646</td>\n",
       "      <td>HS-grad</td>\n",
       "      <td>9</td>\n",
       "      <td>Divorced</td>\n",
       "      <td>Handlers-cleaners</td>\n",
       "      <td>Not-in-family</td>\n",
       "      <td>White</td>\n",
       "      <td>Male</td>\n",
       "      <td>0</td>\n",
       "      <td>0</td>\n",
       "      <td>40</td>\n",
       "      <td>United-States</td>\n",
       "      <td>&lt;=50K</td>\n",
       "    </tr>\n",
       "    <tr>\n",
       "      <th>2</th>\n",
       "      <td>53</td>\n",
       "      <td>Private</td>\n",
       "      <td>234721</td>\n",
       "      <td>11th</td>\n",
       "      <td>7</td>\n",
       "      <td>Married-civ-spouse</td>\n",
       "      <td>Handlers-cleaners</td>\n",
       "      <td>Husband</td>\n",
       "      <td>Black</td>\n",
       "      <td>Male</td>\n",
       "      <td>0</td>\n",
       "      <td>0</td>\n",
       "      <td>40</td>\n",
       "      <td>United-States</td>\n",
       "      <td>&lt;=50K</td>\n",
       "    </tr>\n",
       "    <tr>\n",
       "      <th>3</th>\n",
       "      <td>28</td>\n",
       "      <td>Private</td>\n",
       "      <td>338409</td>\n",
       "      <td>Bachelors</td>\n",
       "      <td>13</td>\n",
       "      <td>Married-civ-spouse</td>\n",
       "      <td>Prof-specialty</td>\n",
       "      <td>Wife</td>\n",
       "      <td>Black</td>\n",
       "      <td>Female</td>\n",
       "      <td>0</td>\n",
       "      <td>0</td>\n",
       "      <td>40</td>\n",
       "      <td>Cuba</td>\n",
       "      <td>&lt;=50K</td>\n",
       "    </tr>\n",
       "    <tr>\n",
       "      <th>4</th>\n",
       "      <td>37</td>\n",
       "      <td>Private</td>\n",
       "      <td>284582</td>\n",
       "      <td>Masters</td>\n",
       "      <td>14</td>\n",
       "      <td>Married-civ-spouse</td>\n",
       "      <td>Exec-managerial</td>\n",
       "      <td>Wife</td>\n",
       "      <td>White</td>\n",
       "      <td>Female</td>\n",
       "      <td>0</td>\n",
       "      <td>0</td>\n",
       "      <td>40</td>\n",
       "      <td>United-States</td>\n",
       "      <td>&lt;=50K</td>\n",
       "    </tr>\n",
       "    <tr>\n",
       "      <th>5</th>\n",
       "      <td>49</td>\n",
       "      <td>Private</td>\n",
       "      <td>160187</td>\n",
       "      <td>9th</td>\n",
       "      <td>5</td>\n",
       "      <td>Married-spouse-absent</td>\n",
       "      <td>Other-service</td>\n",
       "      <td>Not-in-family</td>\n",
       "      <td>Black</td>\n",
       "      <td>Female</td>\n",
       "      <td>0</td>\n",
       "      <td>0</td>\n",
       "      <td>16</td>\n",
       "      <td>Jamaica</td>\n",
       "      <td>&lt;=50K</td>\n",
       "    </tr>\n",
       "    <tr>\n",
       "      <th>6</th>\n",
       "      <td>52</td>\n",
       "      <td>Self-emp-not-inc</td>\n",
       "      <td>209642</td>\n",
       "      <td>HS-grad</td>\n",
       "      <td>9</td>\n",
       "      <td>Married-civ-spouse</td>\n",
       "      <td>Exec-managerial</td>\n",
       "      <td>Husband</td>\n",
       "      <td>White</td>\n",
       "      <td>Male</td>\n",
       "      <td>0</td>\n",
       "      <td>0</td>\n",
       "      <td>45</td>\n",
       "      <td>United-States</td>\n",
       "      <td>&gt;50K</td>\n",
       "    </tr>\n",
       "    <tr>\n",
       "      <th>7</th>\n",
       "      <td>31</td>\n",
       "      <td>Private</td>\n",
       "      <td>45781</td>\n",
       "      <td>Masters</td>\n",
       "      <td>14</td>\n",
       "      <td>Never-married</td>\n",
       "      <td>Prof-specialty</td>\n",
       "      <td>Not-in-family</td>\n",
       "      <td>White</td>\n",
       "      <td>Female</td>\n",
       "      <td>14084</td>\n",
       "      <td>0</td>\n",
       "      <td>50</td>\n",
       "      <td>United-States</td>\n",
       "      <td>&gt;50K</td>\n",
       "    </tr>\n",
       "    <tr>\n",
       "      <th>8</th>\n",
       "      <td>42</td>\n",
       "      <td>Private</td>\n",
       "      <td>159449</td>\n",
       "      <td>Bachelors</td>\n",
       "      <td>13</td>\n",
       "      <td>Married-civ-spouse</td>\n",
       "      <td>Exec-managerial</td>\n",
       "      <td>Husband</td>\n",
       "      <td>White</td>\n",
       "      <td>Male</td>\n",
       "      <td>5178</td>\n",
       "      <td>0</td>\n",
       "      <td>40</td>\n",
       "      <td>United-States</td>\n",
       "      <td>&gt;50K</td>\n",
       "    </tr>\n",
       "    <tr>\n",
       "      <th>9</th>\n",
       "      <td>37</td>\n",
       "      <td>Private</td>\n",
       "      <td>280464</td>\n",
       "      <td>Some-college</td>\n",
       "      <td>10</td>\n",
       "      <td>Married-civ-spouse</td>\n",
       "      <td>Exec-managerial</td>\n",
       "      <td>Husband</td>\n",
       "      <td>Black</td>\n",
       "      <td>Male</td>\n",
       "      <td>0</td>\n",
       "      <td>0</td>\n",
       "      <td>80</td>\n",
       "      <td>United-States</td>\n",
       "      <td>&gt;50K</td>\n",
       "    </tr>\n",
       "    <tr>\n",
       "      <th>10</th>\n",
       "      <td>30</td>\n",
       "      <td>State-gov</td>\n",
       "      <td>141297</td>\n",
       "      <td>Bachelors</td>\n",
       "      <td>13</td>\n",
       "      <td>Married-civ-spouse</td>\n",
       "      <td>Prof-specialty</td>\n",
       "      <td>Husband</td>\n",
       "      <td>Asian-Pac-Islander</td>\n",
       "      <td>Male</td>\n",
       "      <td>0</td>\n",
       "      <td>0</td>\n",
       "      <td>40</td>\n",
       "      <td>India</td>\n",
       "      <td>&gt;50K</td>\n",
       "    </tr>\n",
       "    <tr>\n",
       "      <th>11</th>\n",
       "      <td>23</td>\n",
       "      <td>Private</td>\n",
       "      <td>122272</td>\n",
       "      <td>Bachelors</td>\n",
       "      <td>13</td>\n",
       "      <td>Never-married</td>\n",
       "      <td>Adm-clerical</td>\n",
       "      <td>Own-child</td>\n",
       "      <td>White</td>\n",
       "      <td>Female</td>\n",
       "      <td>0</td>\n",
       "      <td>0</td>\n",
       "      <td>30</td>\n",
       "      <td>United-States</td>\n",
       "      <td>&lt;=50K</td>\n",
       "    </tr>\n",
       "    <tr>\n",
       "      <th>12</th>\n",
       "      <td>32</td>\n",
       "      <td>Private</td>\n",
       "      <td>205019</td>\n",
       "      <td>Assoc-acdm</td>\n",
       "      <td>12</td>\n",
       "      <td>Never-married</td>\n",
       "      <td>Sales</td>\n",
       "      <td>Not-in-family</td>\n",
       "      <td>Black</td>\n",
       "      <td>Male</td>\n",
       "      <td>0</td>\n",
       "      <td>0</td>\n",
       "      <td>50</td>\n",
       "      <td>United-States</td>\n",
       "      <td>&lt;=50K</td>\n",
       "    </tr>\n",
       "    <tr>\n",
       "      <th>13</th>\n",
       "      <td>40</td>\n",
       "      <td>Private</td>\n",
       "      <td>121772</td>\n",
       "      <td>Assoc-voc</td>\n",
       "      <td>11</td>\n",
       "      <td>Married-civ-spouse</td>\n",
       "      <td>Craft-repair</td>\n",
       "      <td>Husband</td>\n",
       "      <td>Asian-Pac-Islander</td>\n",
       "      <td>Male</td>\n",
       "      <td>0</td>\n",
       "      <td>0</td>\n",
       "      <td>40</td>\n",
       "      <td>NaN</td>\n",
       "      <td>&gt;50K</td>\n",
       "    </tr>\n",
       "    <tr>\n",
       "      <th>14</th>\n",
       "      <td>34</td>\n",
       "      <td>Private</td>\n",
       "      <td>245487</td>\n",
       "      <td>7th-8th</td>\n",
       "      <td>4</td>\n",
       "      <td>Married-civ-spouse</td>\n",
       "      <td>Transport-moving</td>\n",
       "      <td>Husband</td>\n",
       "      <td>Amer-Indian-Eskimo</td>\n",
       "      <td>Male</td>\n",
       "      <td>0</td>\n",
       "      <td>0</td>\n",
       "      <td>45</td>\n",
       "      <td>Mexico</td>\n",
       "      <td>&lt;=50K</td>\n",
       "    </tr>\n",
       "    <tr>\n",
       "      <th>15</th>\n",
       "      <td>25</td>\n",
       "      <td>Self-emp-not-inc</td>\n",
       "      <td>176756</td>\n",
       "      <td>HS-grad</td>\n",
       "      <td>9</td>\n",
       "      <td>Never-married</td>\n",
       "      <td>Farming-fishing</td>\n",
       "      <td>Own-child</td>\n",
       "      <td>White</td>\n",
       "      <td>Male</td>\n",
       "      <td>0</td>\n",
       "      <td>0</td>\n",
       "      <td>35</td>\n",
       "      <td>United-States</td>\n",
       "      <td>&lt;=50K</td>\n",
       "    </tr>\n",
       "    <tr>\n",
       "      <th>16</th>\n",
       "      <td>32</td>\n",
       "      <td>Private</td>\n",
       "      <td>186824</td>\n",
       "      <td>HS-grad</td>\n",
       "      <td>9</td>\n",
       "      <td>Never-married</td>\n",
       "      <td>Machine-op-inspct</td>\n",
       "      <td>Unmarried</td>\n",
       "      <td>White</td>\n",
       "      <td>Male</td>\n",
       "      <td>0</td>\n",
       "      <td>0</td>\n",
       "      <td>40</td>\n",
       "      <td>United-States</td>\n",
       "      <td>&lt;=50K</td>\n",
       "    </tr>\n",
       "    <tr>\n",
       "      <th>17</th>\n",
       "      <td>38</td>\n",
       "      <td>Private</td>\n",
       "      <td>28887</td>\n",
       "      <td>11th</td>\n",
       "      <td>7</td>\n",
       "      <td>Married-civ-spouse</td>\n",
       "      <td>Sales</td>\n",
       "      <td>Husband</td>\n",
       "      <td>White</td>\n",
       "      <td>Male</td>\n",
       "      <td>0</td>\n",
       "      <td>0</td>\n",
       "      <td>50</td>\n",
       "      <td>United-States</td>\n",
       "      <td>&lt;=50K</td>\n",
       "    </tr>\n",
       "    <tr>\n",
       "      <th>18</th>\n",
       "      <td>43</td>\n",
       "      <td>Self-emp-not-inc</td>\n",
       "      <td>292175</td>\n",
       "      <td>Masters</td>\n",
       "      <td>14</td>\n",
       "      <td>Divorced</td>\n",
       "      <td>Exec-managerial</td>\n",
       "      <td>Unmarried</td>\n",
       "      <td>White</td>\n",
       "      <td>Female</td>\n",
       "      <td>0</td>\n",
       "      <td>0</td>\n",
       "      <td>45</td>\n",
       "      <td>United-States</td>\n",
       "      <td>&gt;50K</td>\n",
       "    </tr>\n",
       "    <tr>\n",
       "      <th>19</th>\n",
       "      <td>40</td>\n",
       "      <td>Private</td>\n",
       "      <td>193524</td>\n",
       "      <td>Doctorate</td>\n",
       "      <td>16</td>\n",
       "      <td>Married-civ-spouse</td>\n",
       "      <td>Prof-specialty</td>\n",
       "      <td>Husband</td>\n",
       "      <td>White</td>\n",
       "      <td>Male</td>\n",
       "      <td>0</td>\n",
       "      <td>0</td>\n",
       "      <td>60</td>\n",
       "      <td>United-States</td>\n",
       "      <td>&gt;50K</td>\n",
       "    </tr>\n",
       "    <tr>\n",
       "      <th>20</th>\n",
       "      <td>54</td>\n",
       "      <td>Private</td>\n",
       "      <td>302146</td>\n",
       "      <td>HS-grad</td>\n",
       "      <td>9</td>\n",
       "      <td>Separated</td>\n",
       "      <td>Other-service</td>\n",
       "      <td>Unmarried</td>\n",
       "      <td>Black</td>\n",
       "      <td>Female</td>\n",
       "      <td>0</td>\n",
       "      <td>0</td>\n",
       "      <td>20</td>\n",
       "      <td>United-States</td>\n",
       "      <td>&lt;=50K</td>\n",
       "    </tr>\n",
       "    <tr>\n",
       "      <th>21</th>\n",
       "      <td>35</td>\n",
       "      <td>Federal-gov</td>\n",
       "      <td>76845</td>\n",
       "      <td>9th</td>\n",
       "      <td>5</td>\n",
       "      <td>Married-civ-spouse</td>\n",
       "      <td>Farming-fishing</td>\n",
       "      <td>Husband</td>\n",
       "      <td>Black</td>\n",
       "      <td>Male</td>\n",
       "      <td>0</td>\n",
       "      <td>0</td>\n",
       "      <td>40</td>\n",
       "      <td>United-States</td>\n",
       "      <td>&lt;=50K</td>\n",
       "    </tr>\n",
       "    <tr>\n",
       "      <th>22</th>\n",
       "      <td>43</td>\n",
       "      <td>Private</td>\n",
       "      <td>117037</td>\n",
       "      <td>11th</td>\n",
       "      <td>7</td>\n",
       "      <td>Married-civ-spouse</td>\n",
       "      <td>Transport-moving</td>\n",
       "      <td>Husband</td>\n",
       "      <td>White</td>\n",
       "      <td>Male</td>\n",
       "      <td>0</td>\n",
       "      <td>2042</td>\n",
       "      <td>40</td>\n",
       "      <td>United-States</td>\n",
       "      <td>&lt;=50K</td>\n",
       "    </tr>\n",
       "    <tr>\n",
       "      <th>23</th>\n",
       "      <td>59</td>\n",
       "      <td>Private</td>\n",
       "      <td>109015</td>\n",
       "      <td>HS-grad</td>\n",
       "      <td>9</td>\n",
       "      <td>Divorced</td>\n",
       "      <td>Tech-support</td>\n",
       "      <td>Unmarried</td>\n",
       "      <td>White</td>\n",
       "      <td>Female</td>\n",
       "      <td>0</td>\n",
       "      <td>0</td>\n",
       "      <td>40</td>\n",
       "      <td>United-States</td>\n",
       "      <td>&lt;=50K</td>\n",
       "    </tr>\n",
       "    <tr>\n",
       "      <th>24</th>\n",
       "      <td>56</td>\n",
       "      <td>Local-gov</td>\n",
       "      <td>216851</td>\n",
       "      <td>Bachelors</td>\n",
       "      <td>13</td>\n",
       "      <td>Married-civ-spouse</td>\n",
       "      <td>Tech-support</td>\n",
       "      <td>Husband</td>\n",
       "      <td>White</td>\n",
       "      <td>Male</td>\n",
       "      <td>0</td>\n",
       "      <td>0</td>\n",
       "      <td>40</td>\n",
       "      <td>United-States</td>\n",
       "      <td>&gt;50K</td>\n",
       "    </tr>\n",
       "    <tr>\n",
       "      <th>25</th>\n",
       "      <td>19</td>\n",
       "      <td>Private</td>\n",
       "      <td>168294</td>\n",
       "      <td>HS-grad</td>\n",
       "      <td>9</td>\n",
       "      <td>Never-married</td>\n",
       "      <td>Craft-repair</td>\n",
       "      <td>Own-child</td>\n",
       "      <td>White</td>\n",
       "      <td>Male</td>\n",
       "      <td>0</td>\n",
       "      <td>0</td>\n",
       "      <td>40</td>\n",
       "      <td>United-States</td>\n",
       "      <td>&lt;=50K</td>\n",
       "    </tr>\n",
       "    <tr>\n",
       "      <th>26</th>\n",
       "      <td>54</td>\n",
       "      <td>NaN</td>\n",
       "      <td>180211</td>\n",
       "      <td>Some-college</td>\n",
       "      <td>10</td>\n",
       "      <td>Married-civ-spouse</td>\n",
       "      <td>NaN</td>\n",
       "      <td>Husband</td>\n",
       "      <td>Asian-Pac-Islander</td>\n",
       "      <td>Male</td>\n",
       "      <td>0</td>\n",
       "      <td>0</td>\n",
       "      <td>60</td>\n",
       "      <td>South</td>\n",
       "      <td>&gt;50K</td>\n",
       "    </tr>\n",
       "    <tr>\n",
       "      <th>27</th>\n",
       "      <td>39</td>\n",
       "      <td>Private</td>\n",
       "      <td>367260</td>\n",
       "      <td>HS-grad</td>\n",
       "      <td>9</td>\n",
       "      <td>Divorced</td>\n",
       "      <td>Exec-managerial</td>\n",
       "      <td>Not-in-family</td>\n",
       "      <td>White</td>\n",
       "      <td>Male</td>\n",
       "      <td>0</td>\n",
       "      <td>0</td>\n",
       "      <td>80</td>\n",
       "      <td>United-States</td>\n",
       "      <td>&lt;=50K</td>\n",
       "    </tr>\n",
       "    <tr>\n",
       "      <th>28</th>\n",
       "      <td>49</td>\n",
       "      <td>Private</td>\n",
       "      <td>193366</td>\n",
       "      <td>HS-grad</td>\n",
       "      <td>9</td>\n",
       "      <td>Married-civ-spouse</td>\n",
       "      <td>Craft-repair</td>\n",
       "      <td>Husband</td>\n",
       "      <td>White</td>\n",
       "      <td>Male</td>\n",
       "      <td>0</td>\n",
       "      <td>0</td>\n",
       "      <td>40</td>\n",
       "      <td>United-States</td>\n",
       "      <td>&lt;=50K</td>\n",
       "    </tr>\n",
       "    <tr>\n",
       "      <th>29</th>\n",
       "      <td>23</td>\n",
       "      <td>Local-gov</td>\n",
       "      <td>190709</td>\n",
       "      <td>Assoc-acdm</td>\n",
       "      <td>12</td>\n",
       "      <td>Never-married</td>\n",
       "      <td>Protective-serv</td>\n",
       "      <td>Not-in-family</td>\n",
       "      <td>White</td>\n",
       "      <td>Male</td>\n",
       "      <td>0</td>\n",
       "      <td>0</td>\n",
       "      <td>52</td>\n",
       "      <td>United-States</td>\n",
       "      <td>&lt;=50K</td>\n",
       "    </tr>\n",
       "  </tbody>\n",
       "</table>\n",
       "</div>"
      ],
      "text/plain": [
       "    Age          Workclass  Fnlwgt      Education  Education_num  \\\n",
       "0    50   Self-emp-not-inc   83311      Bachelors             13   \n",
       "1    38            Private  215646        HS-grad              9   \n",
       "2    53            Private  234721           11th              7   \n",
       "3    28            Private  338409      Bachelors             13   \n",
       "4    37            Private  284582        Masters             14   \n",
       "5    49            Private  160187            9th              5   \n",
       "6    52   Self-emp-not-inc  209642        HS-grad              9   \n",
       "7    31            Private   45781        Masters             14   \n",
       "8    42            Private  159449      Bachelors             13   \n",
       "9    37            Private  280464   Some-college             10   \n",
       "10   30          State-gov  141297      Bachelors             13   \n",
       "11   23            Private  122272      Bachelors             13   \n",
       "12   32            Private  205019     Assoc-acdm             12   \n",
       "13   40            Private  121772      Assoc-voc             11   \n",
       "14   34            Private  245487        7th-8th              4   \n",
       "15   25   Self-emp-not-inc  176756        HS-grad              9   \n",
       "16   32            Private  186824        HS-grad              9   \n",
       "17   38            Private   28887           11th              7   \n",
       "18   43   Self-emp-not-inc  292175        Masters             14   \n",
       "19   40            Private  193524      Doctorate             16   \n",
       "20   54            Private  302146        HS-grad              9   \n",
       "21   35        Federal-gov   76845            9th              5   \n",
       "22   43            Private  117037           11th              7   \n",
       "23   59            Private  109015        HS-grad              9   \n",
       "24   56          Local-gov  216851      Bachelors             13   \n",
       "25   19            Private  168294        HS-grad              9   \n",
       "26   54                NaN  180211   Some-college             10   \n",
       "27   39            Private  367260        HS-grad              9   \n",
       "28   49            Private  193366        HS-grad              9   \n",
       "29   23          Local-gov  190709     Assoc-acdm             12   \n",
       "\n",
       "            Marital_status          Occupation    Relationship  \\\n",
       "0       Married-civ-spouse     Exec-managerial         Husband   \n",
       "1                 Divorced   Handlers-cleaners   Not-in-family   \n",
       "2       Married-civ-spouse   Handlers-cleaners         Husband   \n",
       "3       Married-civ-spouse      Prof-specialty            Wife   \n",
       "4       Married-civ-spouse     Exec-managerial            Wife   \n",
       "5    Married-spouse-absent       Other-service   Not-in-family   \n",
       "6       Married-civ-spouse     Exec-managerial         Husband   \n",
       "7            Never-married      Prof-specialty   Not-in-family   \n",
       "8       Married-civ-spouse     Exec-managerial         Husband   \n",
       "9       Married-civ-spouse     Exec-managerial         Husband   \n",
       "10      Married-civ-spouse      Prof-specialty         Husband   \n",
       "11           Never-married        Adm-clerical       Own-child   \n",
       "12           Never-married               Sales   Not-in-family   \n",
       "13      Married-civ-spouse        Craft-repair         Husband   \n",
       "14      Married-civ-spouse    Transport-moving         Husband   \n",
       "15           Never-married     Farming-fishing       Own-child   \n",
       "16           Never-married   Machine-op-inspct       Unmarried   \n",
       "17      Married-civ-spouse               Sales         Husband   \n",
       "18                Divorced     Exec-managerial       Unmarried   \n",
       "19      Married-civ-spouse      Prof-specialty         Husband   \n",
       "20               Separated       Other-service       Unmarried   \n",
       "21      Married-civ-spouse     Farming-fishing         Husband   \n",
       "22      Married-civ-spouse    Transport-moving         Husband   \n",
       "23                Divorced        Tech-support       Unmarried   \n",
       "24      Married-civ-spouse        Tech-support         Husband   \n",
       "25           Never-married        Craft-repair       Own-child   \n",
       "26      Married-civ-spouse                 NaN         Husband   \n",
       "27                Divorced     Exec-managerial   Not-in-family   \n",
       "28      Married-civ-spouse        Craft-repair         Husband   \n",
       "29           Never-married     Protective-serv   Not-in-family   \n",
       "\n",
       "                   Race      Sex  Capital_gain  Capital_loss  Hours_per_week  \\\n",
       "0                 White     Male             0             0              13   \n",
       "1                 White     Male             0             0              40   \n",
       "2                 Black     Male             0             0              40   \n",
       "3                 Black   Female             0             0              40   \n",
       "4                 White   Female             0             0              40   \n",
       "5                 Black   Female             0             0              16   \n",
       "6                 White     Male             0             0              45   \n",
       "7                 White   Female         14084             0              50   \n",
       "8                 White     Male          5178             0              40   \n",
       "9                 Black     Male             0             0              80   \n",
       "10   Asian-Pac-Islander     Male             0             0              40   \n",
       "11                White   Female             0             0              30   \n",
       "12                Black     Male             0             0              50   \n",
       "13   Asian-Pac-Islander     Male             0             0              40   \n",
       "14   Amer-Indian-Eskimo     Male             0             0              45   \n",
       "15                White     Male             0             0              35   \n",
       "16                White     Male             0             0              40   \n",
       "17                White     Male             0             0              50   \n",
       "18                White   Female             0             0              45   \n",
       "19                White     Male             0             0              60   \n",
       "20                Black   Female             0             0              20   \n",
       "21                Black     Male             0             0              40   \n",
       "22                White     Male             0          2042              40   \n",
       "23                White   Female             0             0              40   \n",
       "24                White     Male             0             0              40   \n",
       "25                White     Male             0             0              40   \n",
       "26   Asian-Pac-Islander     Male             0             0              60   \n",
       "27                White     Male             0             0              80   \n",
       "28                White     Male             0             0              40   \n",
       "29                White     Male             0             0              52   \n",
       "\n",
       "    Native_country  Income  \n",
       "0    United-States   <=50K  \n",
       "1    United-States   <=50K  \n",
       "2    United-States   <=50K  \n",
       "3             Cuba   <=50K  \n",
       "4    United-States   <=50K  \n",
       "5          Jamaica   <=50K  \n",
       "6    United-States    >50K  \n",
       "7    United-States    >50K  \n",
       "8    United-States    >50K  \n",
       "9    United-States    >50K  \n",
       "10           India    >50K  \n",
       "11   United-States   <=50K  \n",
       "12   United-States   <=50K  \n",
       "13             NaN    >50K  \n",
       "14          Mexico   <=50K  \n",
       "15   United-States   <=50K  \n",
       "16   United-States   <=50K  \n",
       "17   United-States   <=50K  \n",
       "18   United-States    >50K  \n",
       "19   United-States    >50K  \n",
       "20   United-States   <=50K  \n",
       "21   United-States   <=50K  \n",
       "22   United-States   <=50K  \n",
       "23   United-States   <=50K  \n",
       "24   United-States    >50K  \n",
       "25   United-States   <=50K  \n",
       "26           South    >50K  \n",
       "27   United-States   <=50K  \n",
       "28   United-States   <=50K  \n",
       "29   United-States   <=50K  "
      ]
     },
     "execution_count": 11,
     "metadata": {},
     "output_type": "execute_result"
    }
   ],
   "source": [
    "df.head(30)"
   ]
  },
  {
   "cell_type": "markdown",
   "id": "a14e7003",
   "metadata": {},
   "source": [
    "##### We replace all the '?' with nan function."
   ]
  },
  {
   "cell_type": "code",
   "execution_count": 12,
   "id": "93d558c3",
   "metadata": {},
   "outputs": [
    {
     "data": {
      "text/plain": [
       "Age                  0\n",
       "Workclass         1836\n",
       "Fnlwgt               0\n",
       "Education            0\n",
       "Education_num        0\n",
       "Marital_status       0\n",
       "Occupation        1843\n",
       "Relationship         0\n",
       "Race                 0\n",
       "Sex                  0\n",
       "Capital_gain         0\n",
       "Capital_loss         0\n",
       "Hours_per_week       0\n",
       "Native_country     583\n",
       "Income               0\n",
       "dtype: int64"
      ]
     },
     "execution_count": 12,
     "metadata": {},
     "output_type": "execute_result"
    }
   ],
   "source": [
    "df.isnull().sum()"
   ]
  },
  {
   "cell_type": "markdown",
   "id": "a20977ff",
   "metadata": {},
   "source": [
    "##### Now we have NaN values in Workclass, Occupation and Native_country."
   ]
  },
  {
   "cell_type": "markdown",
   "id": "27d28cf1",
   "metadata": {},
   "source": [
    "### Filling NaN values"
   ]
  },
  {
   "cell_type": "code",
   "execution_count": 13,
   "id": "e639ebe5",
   "metadata": {},
   "outputs": [],
   "source": [
    "df['Workclass'].fillna(df['Workclass'].mode()[0],inplace=True)\n",
    "df['Occupation'].fillna(df['Occupation'].mode()[0],inplace=True)\n",
    "df['Native_country'].fillna(df['Native_country'].mode()[0],inplace=True)"
   ]
  },
  {
   "cell_type": "code",
   "execution_count": 14,
   "id": "9b3c95a7",
   "metadata": {},
   "outputs": [
    {
     "data": {
      "text/html": [
       "<div>\n",
       "<style scoped>\n",
       "    .dataframe tbody tr th:only-of-type {\n",
       "        vertical-align: middle;\n",
       "    }\n",
       "\n",
       "    .dataframe tbody tr th {\n",
       "        vertical-align: top;\n",
       "    }\n",
       "\n",
       "    .dataframe thead th {\n",
       "        text-align: right;\n",
       "    }\n",
       "</style>\n",
       "<table border=\"1\" class=\"dataframe\">\n",
       "  <thead>\n",
       "    <tr style=\"text-align: right;\">\n",
       "      <th></th>\n",
       "      <th>Age</th>\n",
       "      <th>Workclass</th>\n",
       "      <th>Fnlwgt</th>\n",
       "      <th>Education</th>\n",
       "      <th>Education_num</th>\n",
       "      <th>Marital_status</th>\n",
       "      <th>Occupation</th>\n",
       "      <th>Relationship</th>\n",
       "      <th>Race</th>\n",
       "      <th>Sex</th>\n",
       "      <th>Capital_gain</th>\n",
       "      <th>Capital_loss</th>\n",
       "      <th>Hours_per_week</th>\n",
       "      <th>Native_country</th>\n",
       "      <th>Income</th>\n",
       "    </tr>\n",
       "  </thead>\n",
       "  <tbody>\n",
       "    <tr>\n",
       "      <th>0</th>\n",
       "      <td>50</td>\n",
       "      <td>Self-emp-not-inc</td>\n",
       "      <td>83311</td>\n",
       "      <td>Bachelors</td>\n",
       "      <td>13</td>\n",
       "      <td>Married-civ-spouse</td>\n",
       "      <td>Exec-managerial</td>\n",
       "      <td>Husband</td>\n",
       "      <td>White</td>\n",
       "      <td>Male</td>\n",
       "      <td>0</td>\n",
       "      <td>0</td>\n",
       "      <td>13</td>\n",
       "      <td>United-States</td>\n",
       "      <td>&lt;=50K</td>\n",
       "    </tr>\n",
       "    <tr>\n",
       "      <th>1</th>\n",
       "      <td>38</td>\n",
       "      <td>Private</td>\n",
       "      <td>215646</td>\n",
       "      <td>HS-grad</td>\n",
       "      <td>9</td>\n",
       "      <td>Divorced</td>\n",
       "      <td>Handlers-cleaners</td>\n",
       "      <td>Not-in-family</td>\n",
       "      <td>White</td>\n",
       "      <td>Male</td>\n",
       "      <td>0</td>\n",
       "      <td>0</td>\n",
       "      <td>40</td>\n",
       "      <td>United-States</td>\n",
       "      <td>&lt;=50K</td>\n",
       "    </tr>\n",
       "    <tr>\n",
       "      <th>2</th>\n",
       "      <td>53</td>\n",
       "      <td>Private</td>\n",
       "      <td>234721</td>\n",
       "      <td>11th</td>\n",
       "      <td>7</td>\n",
       "      <td>Married-civ-spouse</td>\n",
       "      <td>Handlers-cleaners</td>\n",
       "      <td>Husband</td>\n",
       "      <td>Black</td>\n",
       "      <td>Male</td>\n",
       "      <td>0</td>\n",
       "      <td>0</td>\n",
       "      <td>40</td>\n",
       "      <td>United-States</td>\n",
       "      <td>&lt;=50K</td>\n",
       "    </tr>\n",
       "    <tr>\n",
       "      <th>3</th>\n",
       "      <td>28</td>\n",
       "      <td>Private</td>\n",
       "      <td>338409</td>\n",
       "      <td>Bachelors</td>\n",
       "      <td>13</td>\n",
       "      <td>Married-civ-spouse</td>\n",
       "      <td>Prof-specialty</td>\n",
       "      <td>Wife</td>\n",
       "      <td>Black</td>\n",
       "      <td>Female</td>\n",
       "      <td>0</td>\n",
       "      <td>0</td>\n",
       "      <td>40</td>\n",
       "      <td>Cuba</td>\n",
       "      <td>&lt;=50K</td>\n",
       "    </tr>\n",
       "    <tr>\n",
       "      <th>4</th>\n",
       "      <td>37</td>\n",
       "      <td>Private</td>\n",
       "      <td>284582</td>\n",
       "      <td>Masters</td>\n",
       "      <td>14</td>\n",
       "      <td>Married-civ-spouse</td>\n",
       "      <td>Exec-managerial</td>\n",
       "      <td>Wife</td>\n",
       "      <td>White</td>\n",
       "      <td>Female</td>\n",
       "      <td>0</td>\n",
       "      <td>0</td>\n",
       "      <td>40</td>\n",
       "      <td>United-States</td>\n",
       "      <td>&lt;=50K</td>\n",
       "    </tr>\n",
       "    <tr>\n",
       "      <th>5</th>\n",
       "      <td>49</td>\n",
       "      <td>Private</td>\n",
       "      <td>160187</td>\n",
       "      <td>9th</td>\n",
       "      <td>5</td>\n",
       "      <td>Married-spouse-absent</td>\n",
       "      <td>Other-service</td>\n",
       "      <td>Not-in-family</td>\n",
       "      <td>Black</td>\n",
       "      <td>Female</td>\n",
       "      <td>0</td>\n",
       "      <td>0</td>\n",
       "      <td>16</td>\n",
       "      <td>Jamaica</td>\n",
       "      <td>&lt;=50K</td>\n",
       "    </tr>\n",
       "    <tr>\n",
       "      <th>6</th>\n",
       "      <td>52</td>\n",
       "      <td>Self-emp-not-inc</td>\n",
       "      <td>209642</td>\n",
       "      <td>HS-grad</td>\n",
       "      <td>9</td>\n",
       "      <td>Married-civ-spouse</td>\n",
       "      <td>Exec-managerial</td>\n",
       "      <td>Husband</td>\n",
       "      <td>White</td>\n",
       "      <td>Male</td>\n",
       "      <td>0</td>\n",
       "      <td>0</td>\n",
       "      <td>45</td>\n",
       "      <td>United-States</td>\n",
       "      <td>&gt;50K</td>\n",
       "    </tr>\n",
       "    <tr>\n",
       "      <th>7</th>\n",
       "      <td>31</td>\n",
       "      <td>Private</td>\n",
       "      <td>45781</td>\n",
       "      <td>Masters</td>\n",
       "      <td>14</td>\n",
       "      <td>Never-married</td>\n",
       "      <td>Prof-specialty</td>\n",
       "      <td>Not-in-family</td>\n",
       "      <td>White</td>\n",
       "      <td>Female</td>\n",
       "      <td>14084</td>\n",
       "      <td>0</td>\n",
       "      <td>50</td>\n",
       "      <td>United-States</td>\n",
       "      <td>&gt;50K</td>\n",
       "    </tr>\n",
       "    <tr>\n",
       "      <th>8</th>\n",
       "      <td>42</td>\n",
       "      <td>Private</td>\n",
       "      <td>159449</td>\n",
       "      <td>Bachelors</td>\n",
       "      <td>13</td>\n",
       "      <td>Married-civ-spouse</td>\n",
       "      <td>Exec-managerial</td>\n",
       "      <td>Husband</td>\n",
       "      <td>White</td>\n",
       "      <td>Male</td>\n",
       "      <td>5178</td>\n",
       "      <td>0</td>\n",
       "      <td>40</td>\n",
       "      <td>United-States</td>\n",
       "      <td>&gt;50K</td>\n",
       "    </tr>\n",
       "    <tr>\n",
       "      <th>9</th>\n",
       "      <td>37</td>\n",
       "      <td>Private</td>\n",
       "      <td>280464</td>\n",
       "      <td>Some-college</td>\n",
       "      <td>10</td>\n",
       "      <td>Married-civ-spouse</td>\n",
       "      <td>Exec-managerial</td>\n",
       "      <td>Husband</td>\n",
       "      <td>Black</td>\n",
       "      <td>Male</td>\n",
       "      <td>0</td>\n",
       "      <td>0</td>\n",
       "      <td>80</td>\n",
       "      <td>United-States</td>\n",
       "      <td>&gt;50K</td>\n",
       "    </tr>\n",
       "    <tr>\n",
       "      <th>10</th>\n",
       "      <td>30</td>\n",
       "      <td>State-gov</td>\n",
       "      <td>141297</td>\n",
       "      <td>Bachelors</td>\n",
       "      <td>13</td>\n",
       "      <td>Married-civ-spouse</td>\n",
       "      <td>Prof-specialty</td>\n",
       "      <td>Husband</td>\n",
       "      <td>Asian-Pac-Islander</td>\n",
       "      <td>Male</td>\n",
       "      <td>0</td>\n",
       "      <td>0</td>\n",
       "      <td>40</td>\n",
       "      <td>India</td>\n",
       "      <td>&gt;50K</td>\n",
       "    </tr>\n",
       "    <tr>\n",
       "      <th>11</th>\n",
       "      <td>23</td>\n",
       "      <td>Private</td>\n",
       "      <td>122272</td>\n",
       "      <td>Bachelors</td>\n",
       "      <td>13</td>\n",
       "      <td>Never-married</td>\n",
       "      <td>Adm-clerical</td>\n",
       "      <td>Own-child</td>\n",
       "      <td>White</td>\n",
       "      <td>Female</td>\n",
       "      <td>0</td>\n",
       "      <td>0</td>\n",
       "      <td>30</td>\n",
       "      <td>United-States</td>\n",
       "      <td>&lt;=50K</td>\n",
       "    </tr>\n",
       "    <tr>\n",
       "      <th>12</th>\n",
       "      <td>32</td>\n",
       "      <td>Private</td>\n",
       "      <td>205019</td>\n",
       "      <td>Assoc-acdm</td>\n",
       "      <td>12</td>\n",
       "      <td>Never-married</td>\n",
       "      <td>Sales</td>\n",
       "      <td>Not-in-family</td>\n",
       "      <td>Black</td>\n",
       "      <td>Male</td>\n",
       "      <td>0</td>\n",
       "      <td>0</td>\n",
       "      <td>50</td>\n",
       "      <td>United-States</td>\n",
       "      <td>&lt;=50K</td>\n",
       "    </tr>\n",
       "    <tr>\n",
       "      <th>13</th>\n",
       "      <td>40</td>\n",
       "      <td>Private</td>\n",
       "      <td>121772</td>\n",
       "      <td>Assoc-voc</td>\n",
       "      <td>11</td>\n",
       "      <td>Married-civ-spouse</td>\n",
       "      <td>Craft-repair</td>\n",
       "      <td>Husband</td>\n",
       "      <td>Asian-Pac-Islander</td>\n",
       "      <td>Male</td>\n",
       "      <td>0</td>\n",
       "      <td>0</td>\n",
       "      <td>40</td>\n",
       "      <td>United-States</td>\n",
       "      <td>&gt;50K</td>\n",
       "    </tr>\n",
       "    <tr>\n",
       "      <th>14</th>\n",
       "      <td>34</td>\n",
       "      <td>Private</td>\n",
       "      <td>245487</td>\n",
       "      <td>7th-8th</td>\n",
       "      <td>4</td>\n",
       "      <td>Married-civ-spouse</td>\n",
       "      <td>Transport-moving</td>\n",
       "      <td>Husband</td>\n",
       "      <td>Amer-Indian-Eskimo</td>\n",
       "      <td>Male</td>\n",
       "      <td>0</td>\n",
       "      <td>0</td>\n",
       "      <td>45</td>\n",
       "      <td>Mexico</td>\n",
       "      <td>&lt;=50K</td>\n",
       "    </tr>\n",
       "    <tr>\n",
       "      <th>15</th>\n",
       "      <td>25</td>\n",
       "      <td>Self-emp-not-inc</td>\n",
       "      <td>176756</td>\n",
       "      <td>HS-grad</td>\n",
       "      <td>9</td>\n",
       "      <td>Never-married</td>\n",
       "      <td>Farming-fishing</td>\n",
       "      <td>Own-child</td>\n",
       "      <td>White</td>\n",
       "      <td>Male</td>\n",
       "      <td>0</td>\n",
       "      <td>0</td>\n",
       "      <td>35</td>\n",
       "      <td>United-States</td>\n",
       "      <td>&lt;=50K</td>\n",
       "    </tr>\n",
       "    <tr>\n",
       "      <th>16</th>\n",
       "      <td>32</td>\n",
       "      <td>Private</td>\n",
       "      <td>186824</td>\n",
       "      <td>HS-grad</td>\n",
       "      <td>9</td>\n",
       "      <td>Never-married</td>\n",
       "      <td>Machine-op-inspct</td>\n",
       "      <td>Unmarried</td>\n",
       "      <td>White</td>\n",
       "      <td>Male</td>\n",
       "      <td>0</td>\n",
       "      <td>0</td>\n",
       "      <td>40</td>\n",
       "      <td>United-States</td>\n",
       "      <td>&lt;=50K</td>\n",
       "    </tr>\n",
       "    <tr>\n",
       "      <th>17</th>\n",
       "      <td>38</td>\n",
       "      <td>Private</td>\n",
       "      <td>28887</td>\n",
       "      <td>11th</td>\n",
       "      <td>7</td>\n",
       "      <td>Married-civ-spouse</td>\n",
       "      <td>Sales</td>\n",
       "      <td>Husband</td>\n",
       "      <td>White</td>\n",
       "      <td>Male</td>\n",
       "      <td>0</td>\n",
       "      <td>0</td>\n",
       "      <td>50</td>\n",
       "      <td>United-States</td>\n",
       "      <td>&lt;=50K</td>\n",
       "    </tr>\n",
       "    <tr>\n",
       "      <th>18</th>\n",
       "      <td>43</td>\n",
       "      <td>Self-emp-not-inc</td>\n",
       "      <td>292175</td>\n",
       "      <td>Masters</td>\n",
       "      <td>14</td>\n",
       "      <td>Divorced</td>\n",
       "      <td>Exec-managerial</td>\n",
       "      <td>Unmarried</td>\n",
       "      <td>White</td>\n",
       "      <td>Female</td>\n",
       "      <td>0</td>\n",
       "      <td>0</td>\n",
       "      <td>45</td>\n",
       "      <td>United-States</td>\n",
       "      <td>&gt;50K</td>\n",
       "    </tr>\n",
       "    <tr>\n",
       "      <th>19</th>\n",
       "      <td>40</td>\n",
       "      <td>Private</td>\n",
       "      <td>193524</td>\n",
       "      <td>Doctorate</td>\n",
       "      <td>16</td>\n",
       "      <td>Married-civ-spouse</td>\n",
       "      <td>Prof-specialty</td>\n",
       "      <td>Husband</td>\n",
       "      <td>White</td>\n",
       "      <td>Male</td>\n",
       "      <td>0</td>\n",
       "      <td>0</td>\n",
       "      <td>60</td>\n",
       "      <td>United-States</td>\n",
       "      <td>&gt;50K</td>\n",
       "    </tr>\n",
       "    <tr>\n",
       "      <th>20</th>\n",
       "      <td>54</td>\n",
       "      <td>Private</td>\n",
       "      <td>302146</td>\n",
       "      <td>HS-grad</td>\n",
       "      <td>9</td>\n",
       "      <td>Separated</td>\n",
       "      <td>Other-service</td>\n",
       "      <td>Unmarried</td>\n",
       "      <td>Black</td>\n",
       "      <td>Female</td>\n",
       "      <td>0</td>\n",
       "      <td>0</td>\n",
       "      <td>20</td>\n",
       "      <td>United-States</td>\n",
       "      <td>&lt;=50K</td>\n",
       "    </tr>\n",
       "    <tr>\n",
       "      <th>21</th>\n",
       "      <td>35</td>\n",
       "      <td>Federal-gov</td>\n",
       "      <td>76845</td>\n",
       "      <td>9th</td>\n",
       "      <td>5</td>\n",
       "      <td>Married-civ-spouse</td>\n",
       "      <td>Farming-fishing</td>\n",
       "      <td>Husband</td>\n",
       "      <td>Black</td>\n",
       "      <td>Male</td>\n",
       "      <td>0</td>\n",
       "      <td>0</td>\n",
       "      <td>40</td>\n",
       "      <td>United-States</td>\n",
       "      <td>&lt;=50K</td>\n",
       "    </tr>\n",
       "    <tr>\n",
       "      <th>22</th>\n",
       "      <td>43</td>\n",
       "      <td>Private</td>\n",
       "      <td>117037</td>\n",
       "      <td>11th</td>\n",
       "      <td>7</td>\n",
       "      <td>Married-civ-spouse</td>\n",
       "      <td>Transport-moving</td>\n",
       "      <td>Husband</td>\n",
       "      <td>White</td>\n",
       "      <td>Male</td>\n",
       "      <td>0</td>\n",
       "      <td>2042</td>\n",
       "      <td>40</td>\n",
       "      <td>United-States</td>\n",
       "      <td>&lt;=50K</td>\n",
       "    </tr>\n",
       "    <tr>\n",
       "      <th>23</th>\n",
       "      <td>59</td>\n",
       "      <td>Private</td>\n",
       "      <td>109015</td>\n",
       "      <td>HS-grad</td>\n",
       "      <td>9</td>\n",
       "      <td>Divorced</td>\n",
       "      <td>Tech-support</td>\n",
       "      <td>Unmarried</td>\n",
       "      <td>White</td>\n",
       "      <td>Female</td>\n",
       "      <td>0</td>\n",
       "      <td>0</td>\n",
       "      <td>40</td>\n",
       "      <td>United-States</td>\n",
       "      <td>&lt;=50K</td>\n",
       "    </tr>\n",
       "    <tr>\n",
       "      <th>24</th>\n",
       "      <td>56</td>\n",
       "      <td>Local-gov</td>\n",
       "      <td>216851</td>\n",
       "      <td>Bachelors</td>\n",
       "      <td>13</td>\n",
       "      <td>Married-civ-spouse</td>\n",
       "      <td>Tech-support</td>\n",
       "      <td>Husband</td>\n",
       "      <td>White</td>\n",
       "      <td>Male</td>\n",
       "      <td>0</td>\n",
       "      <td>0</td>\n",
       "      <td>40</td>\n",
       "      <td>United-States</td>\n",
       "      <td>&gt;50K</td>\n",
       "    </tr>\n",
       "    <tr>\n",
       "      <th>25</th>\n",
       "      <td>19</td>\n",
       "      <td>Private</td>\n",
       "      <td>168294</td>\n",
       "      <td>HS-grad</td>\n",
       "      <td>9</td>\n",
       "      <td>Never-married</td>\n",
       "      <td>Craft-repair</td>\n",
       "      <td>Own-child</td>\n",
       "      <td>White</td>\n",
       "      <td>Male</td>\n",
       "      <td>0</td>\n",
       "      <td>0</td>\n",
       "      <td>40</td>\n",
       "      <td>United-States</td>\n",
       "      <td>&lt;=50K</td>\n",
       "    </tr>\n",
       "    <tr>\n",
       "      <th>26</th>\n",
       "      <td>54</td>\n",
       "      <td>Private</td>\n",
       "      <td>180211</td>\n",
       "      <td>Some-college</td>\n",
       "      <td>10</td>\n",
       "      <td>Married-civ-spouse</td>\n",
       "      <td>Prof-specialty</td>\n",
       "      <td>Husband</td>\n",
       "      <td>Asian-Pac-Islander</td>\n",
       "      <td>Male</td>\n",
       "      <td>0</td>\n",
       "      <td>0</td>\n",
       "      <td>60</td>\n",
       "      <td>South</td>\n",
       "      <td>&gt;50K</td>\n",
       "    </tr>\n",
       "    <tr>\n",
       "      <th>27</th>\n",
       "      <td>39</td>\n",
       "      <td>Private</td>\n",
       "      <td>367260</td>\n",
       "      <td>HS-grad</td>\n",
       "      <td>9</td>\n",
       "      <td>Divorced</td>\n",
       "      <td>Exec-managerial</td>\n",
       "      <td>Not-in-family</td>\n",
       "      <td>White</td>\n",
       "      <td>Male</td>\n",
       "      <td>0</td>\n",
       "      <td>0</td>\n",
       "      <td>80</td>\n",
       "      <td>United-States</td>\n",
       "      <td>&lt;=50K</td>\n",
       "    </tr>\n",
       "    <tr>\n",
       "      <th>28</th>\n",
       "      <td>49</td>\n",
       "      <td>Private</td>\n",
       "      <td>193366</td>\n",
       "      <td>HS-grad</td>\n",
       "      <td>9</td>\n",
       "      <td>Married-civ-spouse</td>\n",
       "      <td>Craft-repair</td>\n",
       "      <td>Husband</td>\n",
       "      <td>White</td>\n",
       "      <td>Male</td>\n",
       "      <td>0</td>\n",
       "      <td>0</td>\n",
       "      <td>40</td>\n",
       "      <td>United-States</td>\n",
       "      <td>&lt;=50K</td>\n",
       "    </tr>\n",
       "    <tr>\n",
       "      <th>29</th>\n",
       "      <td>23</td>\n",
       "      <td>Local-gov</td>\n",
       "      <td>190709</td>\n",
       "      <td>Assoc-acdm</td>\n",
       "      <td>12</td>\n",
       "      <td>Never-married</td>\n",
       "      <td>Protective-serv</td>\n",
       "      <td>Not-in-family</td>\n",
       "      <td>White</td>\n",
       "      <td>Male</td>\n",
       "      <td>0</td>\n",
       "      <td>0</td>\n",
       "      <td>52</td>\n",
       "      <td>United-States</td>\n",
       "      <td>&lt;=50K</td>\n",
       "    </tr>\n",
       "  </tbody>\n",
       "</table>\n",
       "</div>"
      ],
      "text/plain": [
       "    Age          Workclass  Fnlwgt      Education  Education_num  \\\n",
       "0    50   Self-emp-not-inc   83311      Bachelors             13   \n",
       "1    38            Private  215646        HS-grad              9   \n",
       "2    53            Private  234721           11th              7   \n",
       "3    28            Private  338409      Bachelors             13   \n",
       "4    37            Private  284582        Masters             14   \n",
       "5    49            Private  160187            9th              5   \n",
       "6    52   Self-emp-not-inc  209642        HS-grad              9   \n",
       "7    31            Private   45781        Masters             14   \n",
       "8    42            Private  159449      Bachelors             13   \n",
       "9    37            Private  280464   Some-college             10   \n",
       "10   30          State-gov  141297      Bachelors             13   \n",
       "11   23            Private  122272      Bachelors             13   \n",
       "12   32            Private  205019     Assoc-acdm             12   \n",
       "13   40            Private  121772      Assoc-voc             11   \n",
       "14   34            Private  245487        7th-8th              4   \n",
       "15   25   Self-emp-not-inc  176756        HS-grad              9   \n",
       "16   32            Private  186824        HS-grad              9   \n",
       "17   38            Private   28887           11th              7   \n",
       "18   43   Self-emp-not-inc  292175        Masters             14   \n",
       "19   40            Private  193524      Doctorate             16   \n",
       "20   54            Private  302146        HS-grad              9   \n",
       "21   35        Federal-gov   76845            9th              5   \n",
       "22   43            Private  117037           11th              7   \n",
       "23   59            Private  109015        HS-grad              9   \n",
       "24   56          Local-gov  216851      Bachelors             13   \n",
       "25   19            Private  168294        HS-grad              9   \n",
       "26   54            Private  180211   Some-college             10   \n",
       "27   39            Private  367260        HS-grad              9   \n",
       "28   49            Private  193366        HS-grad              9   \n",
       "29   23          Local-gov  190709     Assoc-acdm             12   \n",
       "\n",
       "            Marital_status          Occupation    Relationship  \\\n",
       "0       Married-civ-spouse     Exec-managerial         Husband   \n",
       "1                 Divorced   Handlers-cleaners   Not-in-family   \n",
       "2       Married-civ-spouse   Handlers-cleaners         Husband   \n",
       "3       Married-civ-spouse      Prof-specialty            Wife   \n",
       "4       Married-civ-spouse     Exec-managerial            Wife   \n",
       "5    Married-spouse-absent       Other-service   Not-in-family   \n",
       "6       Married-civ-spouse     Exec-managerial         Husband   \n",
       "7            Never-married      Prof-specialty   Not-in-family   \n",
       "8       Married-civ-spouse     Exec-managerial         Husband   \n",
       "9       Married-civ-spouse     Exec-managerial         Husband   \n",
       "10      Married-civ-spouse      Prof-specialty         Husband   \n",
       "11           Never-married        Adm-clerical       Own-child   \n",
       "12           Never-married               Sales   Not-in-family   \n",
       "13      Married-civ-spouse        Craft-repair         Husband   \n",
       "14      Married-civ-spouse    Transport-moving         Husband   \n",
       "15           Never-married     Farming-fishing       Own-child   \n",
       "16           Never-married   Machine-op-inspct       Unmarried   \n",
       "17      Married-civ-spouse               Sales         Husband   \n",
       "18                Divorced     Exec-managerial       Unmarried   \n",
       "19      Married-civ-spouse      Prof-specialty         Husband   \n",
       "20               Separated       Other-service       Unmarried   \n",
       "21      Married-civ-spouse     Farming-fishing         Husband   \n",
       "22      Married-civ-spouse    Transport-moving         Husband   \n",
       "23                Divorced        Tech-support       Unmarried   \n",
       "24      Married-civ-spouse        Tech-support         Husband   \n",
       "25           Never-married        Craft-repair       Own-child   \n",
       "26      Married-civ-spouse      Prof-specialty         Husband   \n",
       "27                Divorced     Exec-managerial   Not-in-family   \n",
       "28      Married-civ-spouse        Craft-repair         Husband   \n",
       "29           Never-married     Protective-serv   Not-in-family   \n",
       "\n",
       "                   Race      Sex  Capital_gain  Capital_loss  Hours_per_week  \\\n",
       "0                 White     Male             0             0              13   \n",
       "1                 White     Male             0             0              40   \n",
       "2                 Black     Male             0             0              40   \n",
       "3                 Black   Female             0             0              40   \n",
       "4                 White   Female             0             0              40   \n",
       "5                 Black   Female             0             0              16   \n",
       "6                 White     Male             0             0              45   \n",
       "7                 White   Female         14084             0              50   \n",
       "8                 White     Male          5178             0              40   \n",
       "9                 Black     Male             0             0              80   \n",
       "10   Asian-Pac-Islander     Male             0             0              40   \n",
       "11                White   Female             0             0              30   \n",
       "12                Black     Male             0             0              50   \n",
       "13   Asian-Pac-Islander     Male             0             0              40   \n",
       "14   Amer-Indian-Eskimo     Male             0             0              45   \n",
       "15                White     Male             0             0              35   \n",
       "16                White     Male             0             0              40   \n",
       "17                White     Male             0             0              50   \n",
       "18                White   Female             0             0              45   \n",
       "19                White     Male             0             0              60   \n",
       "20                Black   Female             0             0              20   \n",
       "21                Black     Male             0             0              40   \n",
       "22                White     Male             0          2042              40   \n",
       "23                White   Female             0             0              40   \n",
       "24                White     Male             0             0              40   \n",
       "25                White     Male             0             0              40   \n",
       "26   Asian-Pac-Islander     Male             0             0              60   \n",
       "27                White     Male             0             0              80   \n",
       "28                White     Male             0             0              40   \n",
       "29                White     Male             0             0              52   \n",
       "\n",
       "    Native_country  Income  \n",
       "0    United-States   <=50K  \n",
       "1    United-States   <=50K  \n",
       "2    United-States   <=50K  \n",
       "3             Cuba   <=50K  \n",
       "4    United-States   <=50K  \n",
       "5          Jamaica   <=50K  \n",
       "6    United-States    >50K  \n",
       "7    United-States    >50K  \n",
       "8    United-States    >50K  \n",
       "9    United-States    >50K  \n",
       "10           India    >50K  \n",
       "11   United-States   <=50K  \n",
       "12   United-States   <=50K  \n",
       "13   United-States    >50K  \n",
       "14          Mexico   <=50K  \n",
       "15   United-States   <=50K  \n",
       "16   United-States   <=50K  \n",
       "17   United-States   <=50K  \n",
       "18   United-States    >50K  \n",
       "19   United-States    >50K  \n",
       "20   United-States   <=50K  \n",
       "21   United-States   <=50K  \n",
       "22   United-States   <=50K  \n",
       "23   United-States   <=50K  \n",
       "24   United-States    >50K  \n",
       "25   United-States   <=50K  \n",
       "26           South    >50K  \n",
       "27   United-States   <=50K  \n",
       "28   United-States   <=50K  \n",
       "29   United-States   <=50K  "
      ]
     },
     "execution_count": 14,
     "metadata": {},
     "output_type": "execute_result"
    }
   ],
   "source": [
    "df.head(30)"
   ]
  },
  {
   "cell_type": "markdown",
   "id": "e03b2c80",
   "metadata": {},
   "source": [
    "##### We fill all the nan values present in dataset."
   ]
  },
  {
   "cell_type": "markdown",
   "id": "07bb21a9",
   "metadata": {},
   "source": [
    "##### Handling the zero values"
   ]
  },
  {
   "cell_type": "code",
   "execution_count": 15,
   "id": "15508bd7",
   "metadata": {},
   "outputs": [
    {
     "data": {
      "text/plain": [
       "29849"
      ]
     },
     "execution_count": 15,
     "metadata": {},
     "output_type": "execute_result"
    }
   ],
   "source": [
    "sum(df['Capital_gain']==0)"
   ]
  },
  {
   "cell_type": "code",
   "execution_count": 16,
   "id": "f77b1f45",
   "metadata": {},
   "outputs": [
    {
     "data": {
      "text/plain": [
       "31041"
      ]
     },
     "execution_count": 16,
     "metadata": {},
     "output_type": "execute_result"
    }
   ],
   "source": [
    "sum(df['Capital_loss']==0)"
   ]
  },
  {
   "cell_type": "code",
   "execution_count": 17,
   "id": "aa465e68",
   "metadata": {},
   "outputs": [],
   "source": [
    "df['Capital_gain'].replace(0,df['Capital_gain'].mean(),inplace=True)"
   ]
  },
  {
   "cell_type": "code",
   "execution_count": 18,
   "id": "493198bf",
   "metadata": {},
   "outputs": [
    {
     "data": {
      "text/plain": [
       "0"
      ]
     },
     "execution_count": 18,
     "metadata": {},
     "output_type": "execute_result"
    }
   ],
   "source": [
    "sum(df['Capital_gain']==0)"
   ]
  },
  {
   "cell_type": "code",
   "execution_count": 19,
   "id": "8084378f",
   "metadata": {},
   "outputs": [],
   "source": [
    "df['Capital_loss'].replace(0,df['Capital_loss'].mean(),inplace=True)"
   ]
  },
  {
   "cell_type": "code",
   "execution_count": 20,
   "id": "2148f173",
   "metadata": {},
   "outputs": [
    {
     "data": {
      "text/plain": [
       "0"
      ]
     },
     "execution_count": 20,
     "metadata": {},
     "output_type": "execute_result"
    }
   ],
   "source": [
    "sum(df['Capital_loss']==0)"
   ]
  },
  {
   "cell_type": "markdown",
   "id": "7018f591",
   "metadata": {},
   "source": [
    "##### We replace all the zero values in column with the mean of  a column."
   ]
  },
  {
   "cell_type": "code",
   "execution_count": 21,
   "id": "f418cbfb",
   "metadata": {},
   "outputs": [
    {
     "data": {
      "text/html": [
       "<div>\n",
       "<style scoped>\n",
       "    .dataframe tbody tr th:only-of-type {\n",
       "        vertical-align: middle;\n",
       "    }\n",
       "\n",
       "    .dataframe tbody tr th {\n",
       "        vertical-align: top;\n",
       "    }\n",
       "\n",
       "    .dataframe thead th {\n",
       "        text-align: right;\n",
       "    }\n",
       "</style>\n",
       "<table border=\"1\" class=\"dataframe\">\n",
       "  <thead>\n",
       "    <tr style=\"text-align: right;\">\n",
       "      <th></th>\n",
       "      <th>Age</th>\n",
       "      <th>Workclass</th>\n",
       "      <th>Fnlwgt</th>\n",
       "      <th>Education</th>\n",
       "      <th>Education_num</th>\n",
       "      <th>Marital_status</th>\n",
       "      <th>Occupation</th>\n",
       "      <th>Relationship</th>\n",
       "      <th>Race</th>\n",
       "      <th>Sex</th>\n",
       "      <th>Capital_gain</th>\n",
       "      <th>Capital_loss</th>\n",
       "      <th>Hours_per_week</th>\n",
       "      <th>Native_country</th>\n",
       "      <th>Income</th>\n",
       "    </tr>\n",
       "  </thead>\n",
       "  <tbody>\n",
       "    <tr>\n",
       "      <th>0</th>\n",
       "      <td>50</td>\n",
       "      <td>Self-emp-not-inc</td>\n",
       "      <td>83311</td>\n",
       "      <td>Bachelors</td>\n",
       "      <td>13</td>\n",
       "      <td>Married-civ-spouse</td>\n",
       "      <td>Exec-managerial</td>\n",
       "      <td>Husband</td>\n",
       "      <td>White</td>\n",
       "      <td>Male</td>\n",
       "      <td>1077.615172</td>\n",
       "      <td>87.306511</td>\n",
       "      <td>13</td>\n",
       "      <td>United-States</td>\n",
       "      <td>&lt;=50K</td>\n",
       "    </tr>\n",
       "    <tr>\n",
       "      <th>1</th>\n",
       "      <td>38</td>\n",
       "      <td>Private</td>\n",
       "      <td>215646</td>\n",
       "      <td>HS-grad</td>\n",
       "      <td>9</td>\n",
       "      <td>Divorced</td>\n",
       "      <td>Handlers-cleaners</td>\n",
       "      <td>Not-in-family</td>\n",
       "      <td>White</td>\n",
       "      <td>Male</td>\n",
       "      <td>1077.615172</td>\n",
       "      <td>87.306511</td>\n",
       "      <td>40</td>\n",
       "      <td>United-States</td>\n",
       "      <td>&lt;=50K</td>\n",
       "    </tr>\n",
       "    <tr>\n",
       "      <th>2</th>\n",
       "      <td>53</td>\n",
       "      <td>Private</td>\n",
       "      <td>234721</td>\n",
       "      <td>11th</td>\n",
       "      <td>7</td>\n",
       "      <td>Married-civ-spouse</td>\n",
       "      <td>Handlers-cleaners</td>\n",
       "      <td>Husband</td>\n",
       "      <td>Black</td>\n",
       "      <td>Male</td>\n",
       "      <td>1077.615172</td>\n",
       "      <td>87.306511</td>\n",
       "      <td>40</td>\n",
       "      <td>United-States</td>\n",
       "      <td>&lt;=50K</td>\n",
       "    </tr>\n",
       "    <tr>\n",
       "      <th>3</th>\n",
       "      <td>28</td>\n",
       "      <td>Private</td>\n",
       "      <td>338409</td>\n",
       "      <td>Bachelors</td>\n",
       "      <td>13</td>\n",
       "      <td>Married-civ-spouse</td>\n",
       "      <td>Prof-specialty</td>\n",
       "      <td>Wife</td>\n",
       "      <td>Black</td>\n",
       "      <td>Female</td>\n",
       "      <td>1077.615172</td>\n",
       "      <td>87.306511</td>\n",
       "      <td>40</td>\n",
       "      <td>Cuba</td>\n",
       "      <td>&lt;=50K</td>\n",
       "    </tr>\n",
       "    <tr>\n",
       "      <th>4</th>\n",
       "      <td>37</td>\n",
       "      <td>Private</td>\n",
       "      <td>284582</td>\n",
       "      <td>Masters</td>\n",
       "      <td>14</td>\n",
       "      <td>Married-civ-spouse</td>\n",
       "      <td>Exec-managerial</td>\n",
       "      <td>Wife</td>\n",
       "      <td>White</td>\n",
       "      <td>Female</td>\n",
       "      <td>1077.615172</td>\n",
       "      <td>87.306511</td>\n",
       "      <td>40</td>\n",
       "      <td>United-States</td>\n",
       "      <td>&lt;=50K</td>\n",
       "    </tr>\n",
       "    <tr>\n",
       "      <th>...</th>\n",
       "      <td>...</td>\n",
       "      <td>...</td>\n",
       "      <td>...</td>\n",
       "      <td>...</td>\n",
       "      <td>...</td>\n",
       "      <td>...</td>\n",
       "      <td>...</td>\n",
       "      <td>...</td>\n",
       "      <td>...</td>\n",
       "      <td>...</td>\n",
       "      <td>...</td>\n",
       "      <td>...</td>\n",
       "      <td>...</td>\n",
       "      <td>...</td>\n",
       "      <td>...</td>\n",
       "    </tr>\n",
       "    <tr>\n",
       "      <th>32555</th>\n",
       "      <td>27</td>\n",
       "      <td>Private</td>\n",
       "      <td>257302</td>\n",
       "      <td>Assoc-acdm</td>\n",
       "      <td>12</td>\n",
       "      <td>Married-civ-spouse</td>\n",
       "      <td>Tech-support</td>\n",
       "      <td>Wife</td>\n",
       "      <td>White</td>\n",
       "      <td>Female</td>\n",
       "      <td>1077.615172</td>\n",
       "      <td>87.306511</td>\n",
       "      <td>38</td>\n",
       "      <td>United-States</td>\n",
       "      <td>&lt;=50K</td>\n",
       "    </tr>\n",
       "    <tr>\n",
       "      <th>32556</th>\n",
       "      <td>40</td>\n",
       "      <td>Private</td>\n",
       "      <td>154374</td>\n",
       "      <td>HS-grad</td>\n",
       "      <td>9</td>\n",
       "      <td>Married-civ-spouse</td>\n",
       "      <td>Machine-op-inspct</td>\n",
       "      <td>Husband</td>\n",
       "      <td>White</td>\n",
       "      <td>Male</td>\n",
       "      <td>1077.615172</td>\n",
       "      <td>87.306511</td>\n",
       "      <td>40</td>\n",
       "      <td>United-States</td>\n",
       "      <td>&gt;50K</td>\n",
       "    </tr>\n",
       "    <tr>\n",
       "      <th>32557</th>\n",
       "      <td>58</td>\n",
       "      <td>Private</td>\n",
       "      <td>151910</td>\n",
       "      <td>HS-grad</td>\n",
       "      <td>9</td>\n",
       "      <td>Widowed</td>\n",
       "      <td>Adm-clerical</td>\n",
       "      <td>Unmarried</td>\n",
       "      <td>White</td>\n",
       "      <td>Female</td>\n",
       "      <td>1077.615172</td>\n",
       "      <td>87.306511</td>\n",
       "      <td>40</td>\n",
       "      <td>United-States</td>\n",
       "      <td>&lt;=50K</td>\n",
       "    </tr>\n",
       "    <tr>\n",
       "      <th>32558</th>\n",
       "      <td>22</td>\n",
       "      <td>Private</td>\n",
       "      <td>201490</td>\n",
       "      <td>HS-grad</td>\n",
       "      <td>9</td>\n",
       "      <td>Never-married</td>\n",
       "      <td>Adm-clerical</td>\n",
       "      <td>Own-child</td>\n",
       "      <td>White</td>\n",
       "      <td>Male</td>\n",
       "      <td>1077.615172</td>\n",
       "      <td>87.306511</td>\n",
       "      <td>20</td>\n",
       "      <td>United-States</td>\n",
       "      <td>&lt;=50K</td>\n",
       "    </tr>\n",
       "    <tr>\n",
       "      <th>32559</th>\n",
       "      <td>52</td>\n",
       "      <td>Self-emp-inc</td>\n",
       "      <td>287927</td>\n",
       "      <td>HS-grad</td>\n",
       "      <td>9</td>\n",
       "      <td>Married-civ-spouse</td>\n",
       "      <td>Exec-managerial</td>\n",
       "      <td>Wife</td>\n",
       "      <td>White</td>\n",
       "      <td>Female</td>\n",
       "      <td>15024.000000</td>\n",
       "      <td>87.306511</td>\n",
       "      <td>40</td>\n",
       "      <td>United-States</td>\n",
       "      <td>&gt;50K</td>\n",
       "    </tr>\n",
       "  </tbody>\n",
       "</table>\n",
       "<p>32560 rows × 15 columns</p>\n",
       "</div>"
      ],
      "text/plain": [
       "       Age          Workclass  Fnlwgt    Education  Education_num  \\\n",
       "0       50   Self-emp-not-inc   83311    Bachelors             13   \n",
       "1       38            Private  215646      HS-grad              9   \n",
       "2       53            Private  234721         11th              7   \n",
       "3       28            Private  338409    Bachelors             13   \n",
       "4       37            Private  284582      Masters             14   \n",
       "...    ...                ...     ...          ...            ...   \n",
       "32555   27            Private  257302   Assoc-acdm             12   \n",
       "32556   40            Private  154374      HS-grad              9   \n",
       "32557   58            Private  151910      HS-grad              9   \n",
       "32558   22            Private  201490      HS-grad              9   \n",
       "32559   52       Self-emp-inc  287927      HS-grad              9   \n",
       "\n",
       "            Marital_status          Occupation    Relationship    Race  \\\n",
       "0       Married-civ-spouse     Exec-managerial         Husband   White   \n",
       "1                 Divorced   Handlers-cleaners   Not-in-family   White   \n",
       "2       Married-civ-spouse   Handlers-cleaners         Husband   Black   \n",
       "3       Married-civ-spouse      Prof-specialty            Wife   Black   \n",
       "4       Married-civ-spouse     Exec-managerial            Wife   White   \n",
       "...                    ...                 ...             ...     ...   \n",
       "32555   Married-civ-spouse        Tech-support            Wife   White   \n",
       "32556   Married-civ-spouse   Machine-op-inspct         Husband   White   \n",
       "32557              Widowed        Adm-clerical       Unmarried   White   \n",
       "32558        Never-married        Adm-clerical       Own-child   White   \n",
       "32559   Married-civ-spouse     Exec-managerial            Wife   White   \n",
       "\n",
       "           Sex  Capital_gain  Capital_loss  Hours_per_week  Native_country  \\\n",
       "0         Male   1077.615172     87.306511              13   United-States   \n",
       "1         Male   1077.615172     87.306511              40   United-States   \n",
       "2         Male   1077.615172     87.306511              40   United-States   \n",
       "3       Female   1077.615172     87.306511              40            Cuba   \n",
       "4       Female   1077.615172     87.306511              40   United-States   \n",
       "...        ...           ...           ...             ...             ...   \n",
       "32555   Female   1077.615172     87.306511              38   United-States   \n",
       "32556     Male   1077.615172     87.306511              40   United-States   \n",
       "32557   Female   1077.615172     87.306511              40   United-States   \n",
       "32558     Male   1077.615172     87.306511              20   United-States   \n",
       "32559   Female  15024.000000     87.306511              40   United-States   \n",
       "\n",
       "       Income  \n",
       "0       <=50K  \n",
       "1       <=50K  \n",
       "2       <=50K  \n",
       "3       <=50K  \n",
       "4       <=50K  \n",
       "...       ...  \n",
       "32555   <=50K  \n",
       "32556    >50K  \n",
       "32557   <=50K  \n",
       "32558   <=50K  \n",
       "32559    >50K  \n",
       "\n",
       "[32560 rows x 15 columns]"
      ]
     },
     "execution_count": 21,
     "metadata": {},
     "output_type": "execute_result"
    }
   ],
   "source": [
    "df"
   ]
  },
  {
   "cell_type": "markdown",
   "id": "994e94f3",
   "metadata": {},
   "source": [
    "### Data Analysis and Visualization"
   ]
  },
  {
   "cell_type": "code",
   "execution_count": 22,
   "id": "427c12b2",
   "metadata": {},
   "outputs": [
    {
     "data": {
      "text/plain": [
       "<AxesSubplot:xlabel='Age', ylabel='count'>"
      ]
     },
     "execution_count": 22,
     "metadata": {},
     "output_type": "execute_result"
    },
    {
     "data": {
      "image/png": "[encoded data removed]",
      "text/plain": [
       "<Figure size 1440x720 with 1 Axes>"
      ]
     },
     "metadata": {
      "needs_background": "light"
     },
     "output_type": "display_data"
    }
   ],
   "source": [
    "plt.figure(figsize=(20,10))\n",
    "sns.countplot(x = 'Age',hue='Income',data=df)"
   ]
  },
  {
   "cell_type": "markdown",
   "id": "a18c1496",
   "metadata": {},
   "source": [
    "##### From above graph we can see that,number of people who got <=50k is more than,who got >50k Income."
   ]
  },
  {
   "cell_type": "code",
   "execution_count": 23,
   "id": "758291b8",
   "metadata": {},
   "outputs": [
    {
     "data": {
      "text/plain": [
       "<AxesSubplot:xlabel='Workclass', ylabel='count'>"
      ]
     },
     "execution_count": 23,
     "metadata": {},
     "output_type": "execute_result"
    },
    {
     "data": {
      "image/png": "[encoded data removed]",
      "text/plain": [
       "<Figure size 720x504 with 1 Axes>"
      ]
     },
     "metadata": {
      "needs_background": "light"
     },
     "output_type": "display_data"
    }
   ],
   "source": [
    "plt.figure(figsize=(10,7))\n",
    "sns.countplot(x = 'Workclass',hue = 'Income',data=df)"
   ]
  },
  {
   "cell_type": "markdown",
   "id": "d38fc6da",
   "metadata": {},
   "source": [
    "##### Number of private sector employee who got <=50k and >50k is more than other workclass employee."
   ]
  },
  {
   "cell_type": "code",
   "execution_count": 24,
   "id": "9d5c8446",
   "metadata": {},
   "outputs": [
    {
     "data": {
      "text/plain": [
       "<AxesSubplot:xlabel='Education', ylabel='count'>"
      ]
     },
     "execution_count": 24,
     "metadata": {},
     "output_type": "execute_result"
    },
    {
     "data": {
      "image/png": "[encoded data removed]",
      "text/plain": [
       "<Figure size 1440x720 with 1 Axes>"
      ]
     },
     "metadata": {
      "needs_background": "light"
     },
     "output_type": "display_data"
    }
   ],
   "source": [
    "plt.figure(figsize=(20,10))\n",
    "sns.countplot(x = 'Education',hue='Income',data=df)"
   ]
  },
  {
   "cell_type": "markdown",
   "id": "9d9dcdd9",
   "metadata": {},
   "source": [
    "##### From above plot we can see that,number of people who have bachelors degree and got >50k is more than the others."
   ]
  },
  {
   "cell_type": "code",
   "execution_count": 25,
   "id": "dfd1a447",
   "metadata": {},
   "outputs": [
    {
     "data": {
      "text/plain": [
       "<AxesSubplot:xlabel='Marital_status', ylabel='count'>"
      ]
     },
     "execution_count": 25,
     "metadata": {},
     "output_type": "execute_result"
    },
    {
     "data": {
      "image/png": "[encoded data removed]",
      "text/plain": [
       "<Figure size 1080x504 with 1 Axes>"
      ]
     },
     "metadata": {
      "needs_background": "light"
     },
     "output_type": "display_data"
    }
   ],
   "source": [
    "plt.figure(figsize=(15,7))\n",
    "sns.countplot(x = 'Marital_status',hue='Income',data=df)"
   ]
  },
  {
   "cell_type": "markdown",
   "id": "26cc677e",
   "metadata": {},
   "source": [
    "##### People who Married-civ-spouse has got  >50k Income than the others."
   ]
  },
  {
   "cell_type": "code",
   "execution_count": 26,
   "id": "4ee6c9f5",
   "metadata": {},
   "outputs": [
    {
     "data": {
      "text/plain": [
       "<AxesSubplot:xlabel='Occupation', ylabel='count'>"
      ]
     },
     "execution_count": 26,
     "metadata": {},
     "output_type": "execute_result"
    },
    {
     "data": {
      "image/png": "[encoded data removed]",
      "text/plain": [
       "<Figure size 1584x720 with 1 Axes>"
      ]
     },
     "metadata": {
      "needs_background": "light"
     },
     "output_type": "display_data"
    }
   ],
   "source": [
    "plt.figure(figsize=(22,10))\n",
    "sns.countplot(x = 'Occupation',hue='Income',data=df)"
   ]
  },
  {
   "cell_type": "markdown",
   "id": "f60a038c",
   "metadata": {},
   "source": [
    "##### Peoples from the Occupation, Exec-managerial and Prof-speciality have got >50k Income."
   ]
  },
  {
   "cell_type": "code",
   "execution_count": 27,
   "id": "4f416a03",
   "metadata": {},
   "outputs": [
    {
     "data": {
      "text/plain": [
       "<AxesSubplot:xlabel='Sex', ylabel='count'>"
      ]
     },
     "execution_count": 27,
     "metadata": {},
     "output_type": "execute_result"
    },
    {
     "data": {
      "image/png": "[encoded data removed]",
      "text/plain": [
       "<Figure size 432x432 with 1 Axes>"
      ]
     },
     "metadata": {
      "needs_background": "light"
     },
     "output_type": "display_data"
    }
   ],
   "source": [
    "plt.figure(figsize=(6,6))\n",
    "sns.countplot(x = 'Sex',hue='Income',data=df)"
   ]
  },
  {
   "cell_type": "markdown",
   "id": "0e178eac",
   "metadata": {},
   "source": [
    "##### Number of male is more than females who got >50k  Income."
   ]
  },
  {
   "cell_type": "code",
   "execution_count": 28,
   "id": "11dcb006",
   "metadata": {},
   "outputs": [
    {
     "data": {
      "text/plain": [
       "<AxesSubplot:xlabel='Native_country', ylabel='count'>"
      ]
     },
     "execution_count": 28,
     "metadata": {},
     "output_type": "execute_result"
    },
    {
     "data": {
      "image/png": "[encoded data removed]",
      "text/plain": [
       "<Figure size 2160x1080 with 1 Axes>"
      ]
     },
     "metadata": {
      "needs_background": "light"
     },
     "output_type": "display_data"
    }
   ],
   "source": [
    "plt.figure(figsize=(30,15))\n",
    "sns.countplot(x = 'Native_country',hue='Income',data=df)"
   ]
  },
  {
   "cell_type": "markdown",
   "id": "87c66e27",
   "metadata": {},
   "source": [
    "##### From above plot we can see that,people from United state have got >50k Income."
   ]
  },
  {
   "cell_type": "markdown",
   "id": "d86a9554",
   "metadata": {},
   "source": [
    "### Descripton"
   ]
  },
  {
   "cell_type": "code",
   "execution_count": 29,
   "id": "fda16eac",
   "metadata": {},
   "outputs": [
    {
     "data": {
      "text/html": [
       "<div>\n",
       "<style scoped>\n",
       "    .dataframe tbody tr th:only-of-type {\n",
       "        vertical-align: middle;\n",
       "    }\n",
       "\n",
       "    .dataframe tbody tr th {\n",
       "        vertical-align: top;\n",
       "    }\n",
       "\n",
       "    .dataframe thead th {\n",
       "        text-align: right;\n",
       "    }\n",
       "</style>\n",
       "<table border=\"1\" class=\"dataframe\">\n",
       "  <thead>\n",
       "    <tr style=\"text-align: right;\">\n",
       "      <th></th>\n",
       "      <th>Age</th>\n",
       "      <th>Fnlwgt</th>\n",
       "      <th>Education_num</th>\n",
       "      <th>Capital_gain</th>\n",
       "      <th>Capital_loss</th>\n",
       "      <th>Hours_per_week</th>\n",
       "    </tr>\n",
       "  </thead>\n",
       "  <tbody>\n",
       "    <tr>\n",
       "      <th>count</th>\n",
       "      <td>32560.000000</td>\n",
       "      <td>3.256000e+04</td>\n",
       "      <td>32560.000000</td>\n",
       "      <td>32560.000000</td>\n",
       "      <td>32560.000000</td>\n",
       "      <td>32560.000000</td>\n",
       "    </tr>\n",
       "    <tr>\n",
       "      <th>mean</th>\n",
       "      <td>38.581634</td>\n",
       "      <td>1.897818e+05</td>\n",
       "      <td>10.080590</td>\n",
       "      <td>2065.506304</td>\n",
       "      <td>170.539970</td>\n",
       "      <td>40.437469</td>\n",
       "    </tr>\n",
       "    <tr>\n",
       "      <th>std</th>\n",
       "      <td>13.640642</td>\n",
       "      <td>1.055498e+05</td>\n",
       "      <td>2.572709</td>\n",
       "      <td>7245.938132</td>\n",
       "      <td>384.950157</td>\n",
       "      <td>12.347618</td>\n",
       "    </tr>\n",
       "    <tr>\n",
       "      <th>min</th>\n",
       "      <td>17.000000</td>\n",
       "      <td>1.228500e+04</td>\n",
       "      <td>1.000000</td>\n",
       "      <td>114.000000</td>\n",
       "      <td>87.306511</td>\n",
       "      <td>1.000000</td>\n",
       "    </tr>\n",
       "    <tr>\n",
       "      <th>25%</th>\n",
       "      <td>28.000000</td>\n",
       "      <td>1.178315e+05</td>\n",
       "      <td>9.000000</td>\n",
       "      <td>1077.615172</td>\n",
       "      <td>87.306511</td>\n",
       "      <td>40.000000</td>\n",
       "    </tr>\n",
       "    <tr>\n",
       "      <th>50%</th>\n",
       "      <td>37.000000</td>\n",
       "      <td>1.783630e+05</td>\n",
       "      <td>10.000000</td>\n",
       "      <td>1077.615172</td>\n",
       "      <td>87.306511</td>\n",
       "      <td>40.000000</td>\n",
       "    </tr>\n",
       "    <tr>\n",
       "      <th>75%</th>\n",
       "      <td>48.000000</td>\n",
       "      <td>2.370545e+05</td>\n",
       "      <td>12.000000</td>\n",
       "      <td>1077.615172</td>\n",
       "      <td>87.306511</td>\n",
       "      <td>45.000000</td>\n",
       "    </tr>\n",
       "    <tr>\n",
       "      <th>max</th>\n",
       "      <td>90.000000</td>\n",
       "      <td>1.484705e+06</td>\n",
       "      <td>16.000000</td>\n",
       "      <td>99999.000000</td>\n",
       "      <td>4356.000000</td>\n",
       "      <td>99.000000</td>\n",
       "    </tr>\n",
       "  </tbody>\n",
       "</table>\n",
       "</div>"
      ],
      "text/plain": [
       "                Age        Fnlwgt  Education_num  Capital_gain  Capital_loss  \\\n",
       "count  32560.000000  3.256000e+04   32560.000000  32560.000000  32560.000000   \n",
       "mean      38.581634  1.897818e+05      10.080590   2065.506304    170.539970   \n",
       "std       13.640642  1.055498e+05       2.572709   7245.938132    384.950157   \n",
       "min       17.000000  1.228500e+04       1.000000    114.000000     87.306511   \n",
       "25%       28.000000  1.178315e+05       9.000000   1077.615172     87.306511   \n",
       "50%       37.000000  1.783630e+05      10.000000   1077.615172     87.306511   \n",
       "75%       48.000000  2.370545e+05      12.000000   1077.615172     87.306511   \n",
       "max       90.000000  1.484705e+06      16.000000  99999.000000   4356.000000   \n",
       "\n",
       "       Hours_per_week  \n",
       "count    32560.000000  \n",
       "mean        40.437469  \n",
       "std         12.347618  \n",
       "min          1.000000  \n",
       "25%         40.000000  \n",
       "50%         40.000000  \n",
       "75%         45.000000  \n",
       "max         99.000000  "
      ]
     },
     "execution_count": 29,
     "metadata": {},
     "output_type": "execute_result"
    }
   ],
   "source": [
    "df.describe()"
   ]
  },
  {
   "cell_type": "markdown",
   "id": "fe1cfa5d",
   "metadata": {},
   "source": [
    "##### The description of dataset shows the Count,Standard Deviation,Mean,Maximum Value,Minimum Value of each column."
   ]
  },
  {
   "cell_type": "code",
   "execution_count": 30,
   "id": "e1ecdcc3",
   "metadata": {},
   "outputs": [
    {
     "data": {
      "text/plain": [
       "<AxesSubplot:>"
      ]
     },
     "execution_count": 30,
     "metadata": {},
     "output_type": "execute_result"
    },
    {
     "data": {
      "image/png": "[encoded data removed]",
      "text/plain": [
       "<Figure size 1080x720 with 2 Axes>"
      ]
     },
     "metadata": {
      "needs_background": "light"
     },
     "output_type": "display_data"
    }
   ],
   "source": [
    "plt.figure(figsize=(15,10))\n",
    "sns.heatmap(df.describe(),annot=True,fmt = '.2f',linewidths=2,cmap='Blues')"
   ]
  },
  {
   "cell_type": "markdown",
   "id": "ae5a6608",
   "metadata": {},
   "source": [
    "### Outcome of Description\n",
    "\n",
    "##### Description of CENSUS dataset helps us to clean the data.\n",
    "\n",
    "Age - 1.Mean = 38.58, 2.Std = 13.64, 3.Min = 17, Max = 90\n",
    "\n",
    "Fnlwgt - 1.Mean = 189781.81, 2.Std = 105549.76, 3.Min = 12285, Max = 1484705\n",
    "\n",
    "Education_num - 1.Mean = 10.08, 2.Std = 2.57, 3.Min = 1, Max = 16\n",
    "\n",
    "Capital_gain - 1.Mean = 2065.51, 2.Std = 7245.94, 3.Min = 114, Max = 99999\n",
    "\n",
    "Capital_loss - 1.Mean = 170.54, 2.Std = 384.95, 3.Min = 87.31, Max = 4356\n",
    "\n",
    "Hours_per_week - 1.Mean = 40.44, 2.Std = 12.35, 3.Min = 1, Max = 99"
   ]
  },
  {
   "cell_type": "markdown",
   "id": "49dd6fb4",
   "metadata": {},
   "source": [
    "### Correlation"
   ]
  },
  {
   "cell_type": "code",
   "execution_count": 31,
   "id": "8200eb52",
   "metadata": {},
   "outputs": [
    {
     "data": {
      "text/html": [
       "<div>\n",
       "<style scoped>\n",
       "    .dataframe tbody tr th:only-of-type {\n",
       "        vertical-align: middle;\n",
       "    }\n",
       "\n",
       "    .dataframe tbody tr th {\n",
       "        vertical-align: top;\n",
       "    }\n",
       "\n",
       "    .dataframe thead th {\n",
       "        text-align: right;\n",
       "    }\n",
       "</style>\n",
       "<table border=\"1\" class=\"dataframe\">\n",
       "  <thead>\n",
       "    <tr style=\"text-align: right;\">\n",
       "      <th></th>\n",
       "      <th>Age</th>\n",
       "      <th>Fnlwgt</th>\n",
       "      <th>Education_num</th>\n",
       "      <th>Capital_gain</th>\n",
       "      <th>Capital_loss</th>\n",
       "      <th>Hours_per_week</th>\n",
       "    </tr>\n",
       "  </thead>\n",
       "  <tbody>\n",
       "    <tr>\n",
       "      <th>Age</th>\n",
       "      <td>1.000000</td>\n",
       "      <td>-0.076646</td>\n",
       "      <td>0.036527</td>\n",
       "      <td>0.074234</td>\n",
       "      <td>0.058061</td>\n",
       "      <td>0.068756</td>\n",
       "    </tr>\n",
       "    <tr>\n",
       "      <th>Fnlwgt</th>\n",
       "      <td>-0.076646</td>\n",
       "      <td>1.000000</td>\n",
       "      <td>-0.043159</td>\n",
       "      <td>0.000640</td>\n",
       "      <td>-0.010309</td>\n",
       "      <td>-0.018770</td>\n",
       "    </tr>\n",
       "    <tr>\n",
       "      <th>Education_num</th>\n",
       "      <td>0.036527</td>\n",
       "      <td>-0.043159</td>\n",
       "      <td>1.000000</td>\n",
       "      <td>0.120248</td>\n",
       "      <td>0.080019</td>\n",
       "      <td>0.148127</td>\n",
       "    </tr>\n",
       "    <tr>\n",
       "      <th>Capital_gain</th>\n",
       "      <td>0.074234</td>\n",
       "      <td>0.000640</td>\n",
       "      <td>0.120248</td>\n",
       "      <td>1.000000</td>\n",
       "      <td>-0.029480</td>\n",
       "      <td>0.076835</td>\n",
       "    </tr>\n",
       "    <tr>\n",
       "      <th>Capital_loss</th>\n",
       "      <td>0.058061</td>\n",
       "      <td>-0.010309</td>\n",
       "      <td>0.080019</td>\n",
       "      <td>-0.029480</td>\n",
       "      <td>1.000000</td>\n",
       "      <td>0.054383</td>\n",
       "    </tr>\n",
       "    <tr>\n",
       "      <th>Hours_per_week</th>\n",
       "      <td>0.068756</td>\n",
       "      <td>-0.018770</td>\n",
       "      <td>0.148127</td>\n",
       "      <td>0.076835</td>\n",
       "      <td>0.054383</td>\n",
       "      <td>1.000000</td>\n",
       "    </tr>\n",
       "  </tbody>\n",
       "</table>\n",
       "</div>"
      ],
      "text/plain": [
       "                     Age    Fnlwgt  Education_num  Capital_gain  Capital_loss  \\\n",
       "Age             1.000000 -0.076646       0.036527      0.074234      0.058061   \n",
       "Fnlwgt         -0.076646  1.000000      -0.043159      0.000640     -0.010309   \n",
       "Education_num   0.036527 -0.043159       1.000000      0.120248      0.080019   \n",
       "Capital_gain    0.074234  0.000640       0.120248      1.000000     -0.029480   \n",
       "Capital_loss    0.058061 -0.010309       0.080019     -0.029480      1.000000   \n",
       "Hours_per_week  0.068756 -0.018770       0.148127      0.076835      0.054383   \n",
       "\n",
       "                Hours_per_week  \n",
       "Age                   0.068756  \n",
       "Fnlwgt               -0.018770  \n",
       "Education_num         0.148127  \n",
       "Capital_gain          0.076835  \n",
       "Capital_loss          0.054383  \n",
       "Hours_per_week        1.000000  "
      ]
     },
     "execution_count": 31,
     "metadata": {},
     "output_type": "execute_result"
    }
   ],
   "source": [
    "df.corr()"
   ]
  },
  {
   "cell_type": "code",
   "execution_count": 32,
   "id": "3148d12a",
   "metadata": {},
   "outputs": [
    {
     "data": {
      "text/plain": [
       "<AxesSubplot:>"
      ]
     },
     "execution_count": 32,
     "metadata": {},
     "output_type": "execute_result"
    },
    {
     "data": {
      "image/png": "[encoded data removed]",
      "text/plain": [
       "<Figure size 648x504 with 2 Axes>"
      ]
     },
     "metadata": {
      "needs_background": "light"
     },
     "output_type": "display_data"
    }
   ],
   "source": [
    "plt.figure(figsize=(9,7))\n",
    "sns.heatmap(df.corr(),annot=True,cmap='coolwarm')"
   ]
  },
  {
   "cell_type": "markdown",
   "id": "131d67a0",
   "metadata": {},
   "source": [
    "##### From above heatmap we can see that some columns are positively correlated and some are negatively correlated. Capital_gain and Education_num are 12 percent correlated with eah other. House_per_week is 15 percent correlated with Education_num.\n"
   ]
  },
  {
   "cell_type": "code",
   "execution_count": 33,
   "id": "4b80a690",
   "metadata": {},
   "outputs": [
    {
     "name": "stdout",
     "output_type": "stream",
     "text": [
      "<class 'pandas.core.frame.DataFrame'>\n",
      "RangeIndex: 32560 entries, 0 to 32559\n",
      "Data columns (total 15 columns):\n",
      " #   Column          Non-Null Count  Dtype  \n",
      "---  ------          --------------  -----  \n",
      " 0   Age             32560 non-null  int64  \n",
      " 1   Workclass       32560 non-null  object \n",
      " 2   Fnlwgt          32560 non-null  int64  \n",
      " 3   Education       32560 non-null  object \n",
      " 4   Education_num   32560 non-null  int64  \n",
      " 5   Marital_status  32560 non-null  object \n",
      " 6   Occupation      32560 non-null  object \n",
      " 7   Relationship    32560 non-null  object \n",
      " 8   Race            32560 non-null  object \n",
      " 9   Sex             32560 non-null  object \n",
      " 10  Capital_gain    32560 non-null  float64\n",
      " 11  Capital_loss    32560 non-null  float64\n",
      " 12  Hours_per_week  32560 non-null  int64  \n",
      " 13  Native_country  32560 non-null  object \n",
      " 14  Income          32560 non-null  object \n",
      "dtypes: float64(2), int64(4), object(9)\n",
      "memory usage: 3.7+ MB\n"
     ]
    }
   ],
   "source": [
    "df.info()"
   ]
  },
  {
   "cell_type": "markdown",
   "id": "4e756a2f",
   "metadata": {},
   "source": [
    "##### There is no null values in census dataset."
   ]
  },
  {
   "cell_type": "code",
   "execution_count": 34,
   "id": "5d040325",
   "metadata": {},
   "outputs": [
    {
     "data": {
      "text/plain": [
       "['Age',\n",
       " 'Fnlwgt',\n",
       " 'Education_num',\n",
       " 'Capital_gain',\n",
       " 'Capital_loss',\n",
       " 'Hours_per_week']"
      ]
     },
     "execution_count": 34,
     "metadata": {},
     "output_type": "execute_result"
    }
   ],
   "source": [
    "non_cat_columns = []\n",
    "for i in df.dtypes.index:\n",
    "    if df[i].dtypes != 'object':\n",
    "        non_cat_columns.append(i)\n",
    "non_cat_columns"
   ]
  },
  {
   "cell_type": "code",
   "execution_count": 35,
   "id": "d544a8e5",
   "metadata": {},
   "outputs": [
    {
     "data": {
      "text/plain": [
       "['Workclass',\n",
       " 'Education',\n",
       " 'Marital_status',\n",
       " 'Occupation',\n",
       " 'Relationship',\n",
       " 'Race',\n",
       " 'Sex',\n",
       " 'Native_country',\n",
       " 'Income']"
      ]
     },
     "execution_count": 35,
     "metadata": {},
     "output_type": "execute_result"
    }
   ],
   "source": [
    "cat_columns = []\n",
    "for i in df.dtypes.index:\n",
    "    if df[i].dtypes == 'object':\n",
    "        cat_columns.append(i)\n",
    "cat_columns"
   ]
  },
  {
   "cell_type": "markdown",
   "id": "09d6d977",
   "metadata": {},
   "source": [
    "### Data Cleaning"
   ]
  },
  {
   "cell_type": "markdown",
   "id": "a7a0b741",
   "metadata": {},
   "source": [
    "#### Skewness"
   ]
  },
  {
   "cell_type": "code",
   "execution_count": 36,
   "id": "179544d8",
   "metadata": {},
   "outputs": [
    {
     "data": {
      "text/plain": [
       "Age                0.558738\n",
       "Fnlwgt             1.446972\n",
       "Education_num     -0.311630\n",
       "Capital_gain      12.248734\n",
       "Capital_loss       4.622613\n",
       "Hours_per_week     0.227636\n",
       "dtype: float64"
      ]
     },
     "execution_count": 36,
     "metadata": {},
     "output_type": "execute_result"
    }
   ],
   "source": [
    "df.skew()"
   ]
  },
  {
   "cell_type": "code",
   "execution_count": 37,
   "id": "c049196a",
   "metadata": {},
   "outputs": [
    {
     "data": {
      "image/png": "[encoded data removed]",
      "text/plain": [
       "<Figure size 2016x1440 with 9 Axes>"
      ]
     },
     "metadata": {
      "needs_background": "light"
     },
     "output_type": "display_data"
    }
   ],
   "source": [
    "df.plot(kind = 'density',subplots = True, layout = (3,3), figsize=(28,20), sharex=False)\n",
    "plt.show()"
   ]
  },
  {
   "cell_type": "markdown",
   "id": "108f3fe7",
   "metadata": {},
   "source": [
    "##### We can see the skewness in data for multiple columns."
   ]
  },
  {
   "cell_type": "code",
   "execution_count": 38,
   "id": "b0e583b4",
   "metadata": {},
   "outputs": [
    {
     "data": {
      "text/plain": [
       "Capital_gain      12.248734\n",
       "Capital_loss       4.622613\n",
       "Fnlwgt             1.446972\n",
       "Age                0.558738\n",
       "Hours_per_week     0.227636\n",
       "Education_num     -0.311630\n",
       "dtype: float64"
      ]
     },
     "execution_count": 38,
     "metadata": {},
     "output_type": "execute_result"
    }
   ],
   "source": [
    "df.skew().sort_values(ascending = False)"
   ]
  },
  {
   "cell_type": "markdown",
   "id": "fa85f85b",
   "metadata": {},
   "source": [
    "### Data Conversion"
   ]
  },
  {
   "cell_type": "code",
   "execution_count": 39,
   "id": "2dba7be5",
   "metadata": {},
   "outputs": [],
   "source": [
    "from sklearn.preprocessing import LabelEncoder\n",
    "lec = LabelEncoder()"
   ]
  },
  {
   "cell_type": "code",
   "execution_count": 40,
   "id": "5e70a228",
   "metadata": {},
   "outputs": [],
   "source": [
    "for i in df.columns:\n",
    "    if df[i].dtypes == object:\n",
    "        df[i] = lec.fit_transform(df[i].values.reshape(-1,1))"
   ]
  },
  {
   "cell_type": "code",
   "execution_count": 41,
   "id": "4c3a2373",
   "metadata": {},
   "outputs": [
    {
     "data": {
      "text/html": [
       "<div>\n",
       "<style scoped>\n",
       "    .dataframe tbody tr th:only-of-type {\n",
       "        vertical-align: middle;\n",
       "    }\n",
       "\n",
       "    .dataframe tbody tr th {\n",
       "        vertical-align: top;\n",
       "    }\n",
       "\n",
       "    .dataframe thead th {\n",
       "        text-align: right;\n",
       "    }\n",
       "</style>\n",
       "<table border=\"1\" class=\"dataframe\">\n",
       "  <thead>\n",
       "    <tr style=\"text-align: right;\">\n",
       "      <th></th>\n",
       "      <th>Age</th>\n",
       "      <th>Workclass</th>\n",
       "      <th>Fnlwgt</th>\n",
       "      <th>Education</th>\n",
       "      <th>Education_num</th>\n",
       "      <th>Marital_status</th>\n",
       "      <th>Occupation</th>\n",
       "      <th>Relationship</th>\n",
       "      <th>Race</th>\n",
       "      <th>Sex</th>\n",
       "      <th>Capital_gain</th>\n",
       "      <th>Capital_loss</th>\n",
       "      <th>Hours_per_week</th>\n",
       "      <th>Native_country</th>\n",
       "      <th>Income</th>\n",
       "    </tr>\n",
       "  </thead>\n",
       "  <tbody>\n",
       "    <tr>\n",
       "      <th>0</th>\n",
       "      <td>50</td>\n",
       "      <td>5</td>\n",
       "      <td>83311</td>\n",
       "      <td>9</td>\n",
       "      <td>13</td>\n",
       "      <td>2</td>\n",
       "      <td>3</td>\n",
       "      <td>0</td>\n",
       "      <td>4</td>\n",
       "      <td>1</td>\n",
       "      <td>1077.615172</td>\n",
       "      <td>87.306511</td>\n",
       "      <td>13</td>\n",
       "      <td>38</td>\n",
       "      <td>0</td>\n",
       "    </tr>\n",
       "    <tr>\n",
       "      <th>1</th>\n",
       "      <td>38</td>\n",
       "      <td>3</td>\n",
       "      <td>215646</td>\n",
       "      <td>11</td>\n",
       "      <td>9</td>\n",
       "      <td>0</td>\n",
       "      <td>5</td>\n",
       "      <td>1</td>\n",
       "      <td>4</td>\n",
       "      <td>1</td>\n",
       "      <td>1077.615172</td>\n",
       "      <td>87.306511</td>\n",
       "      <td>40</td>\n",
       "      <td>38</td>\n",
       "      <td>0</td>\n",
       "    </tr>\n",
       "    <tr>\n",
       "      <th>2</th>\n",
       "      <td>53</td>\n",
       "      <td>3</td>\n",
       "      <td>234721</td>\n",
       "      <td>1</td>\n",
       "      <td>7</td>\n",
       "      <td>2</td>\n",
       "      <td>5</td>\n",
       "      <td>0</td>\n",
       "      <td>2</td>\n",
       "      <td>1</td>\n",
       "      <td>1077.615172</td>\n",
       "      <td>87.306511</td>\n",
       "      <td>40</td>\n",
       "      <td>38</td>\n",
       "      <td>0</td>\n",
       "    </tr>\n",
       "    <tr>\n",
       "      <th>3</th>\n",
       "      <td>28</td>\n",
       "      <td>3</td>\n",
       "      <td>338409</td>\n",
       "      <td>9</td>\n",
       "      <td>13</td>\n",
       "      <td>2</td>\n",
       "      <td>9</td>\n",
       "      <td>5</td>\n",
       "      <td>2</td>\n",
       "      <td>0</td>\n",
       "      <td>1077.615172</td>\n",
       "      <td>87.306511</td>\n",
       "      <td>40</td>\n",
       "      <td>4</td>\n",
       "      <td>0</td>\n",
       "    </tr>\n",
       "    <tr>\n",
       "      <th>4</th>\n",
       "      <td>37</td>\n",
       "      <td>3</td>\n",
       "      <td>284582</td>\n",
       "      <td>12</td>\n",
       "      <td>14</td>\n",
       "      <td>2</td>\n",
       "      <td>3</td>\n",
       "      <td>5</td>\n",
       "      <td>4</td>\n",
       "      <td>0</td>\n",
       "      <td>1077.615172</td>\n",
       "      <td>87.306511</td>\n",
       "      <td>40</td>\n",
       "      <td>38</td>\n",
       "      <td>0</td>\n",
       "    </tr>\n",
       "    <tr>\n",
       "      <th>...</th>\n",
       "      <td>...</td>\n",
       "      <td>...</td>\n",
       "      <td>...</td>\n",
       "      <td>...</td>\n",
       "      <td>...</td>\n",
       "      <td>...</td>\n",
       "      <td>...</td>\n",
       "      <td>...</td>\n",
       "      <td>...</td>\n",
       "      <td>...</td>\n",
       "      <td>...</td>\n",
       "      <td>...</td>\n",
       "      <td>...</td>\n",
       "      <td>...</td>\n",
       "      <td>...</td>\n",
       "    </tr>\n",
       "    <tr>\n",
       "      <th>32555</th>\n",
       "      <td>27</td>\n",
       "      <td>3</td>\n",
       "      <td>257302</td>\n",
       "      <td>7</td>\n",
       "      <td>12</td>\n",
       "      <td>2</td>\n",
       "      <td>12</td>\n",
       "      <td>5</td>\n",
       "      <td>4</td>\n",
       "      <td>0</td>\n",
       "      <td>1077.615172</td>\n",
       "      <td>87.306511</td>\n",
       "      <td>38</td>\n",
       "      <td>38</td>\n",
       "      <td>0</td>\n",
       "    </tr>\n",
       "    <tr>\n",
       "      <th>32556</th>\n",
       "      <td>40</td>\n",
       "      <td>3</td>\n",
       "      <td>154374</td>\n",
       "      <td>11</td>\n",
       "      <td>9</td>\n",
       "      <td>2</td>\n",
       "      <td>6</td>\n",
       "      <td>0</td>\n",
       "      <td>4</td>\n",
       "      <td>1</td>\n",
       "      <td>1077.615172</td>\n",
       "      <td>87.306511</td>\n",
       "      <td>40</td>\n",
       "      <td>38</td>\n",
       "      <td>1</td>\n",
       "    </tr>\n",
       "    <tr>\n",
       "      <th>32557</th>\n",
       "      <td>58</td>\n",
       "      <td>3</td>\n",
       "      <td>151910</td>\n",
       "      <td>11</td>\n",
       "      <td>9</td>\n",
       "      <td>6</td>\n",
       "      <td>0</td>\n",
       "      <td>4</td>\n",
       "      <td>4</td>\n",
       "      <td>0</td>\n",
       "      <td>1077.615172</td>\n",
       "      <td>87.306511</td>\n",
       "      <td>40</td>\n",
       "      <td>38</td>\n",
       "      <td>0</td>\n",
       "    </tr>\n",
       "    <tr>\n",
       "      <th>32558</th>\n",
       "      <td>22</td>\n",
       "      <td>3</td>\n",
       "      <td>201490</td>\n",
       "      <td>11</td>\n",
       "      <td>9</td>\n",
       "      <td>4</td>\n",
       "      <td>0</td>\n",
       "      <td>3</td>\n",
       "      <td>4</td>\n",
       "      <td>1</td>\n",
       "      <td>1077.615172</td>\n",
       "      <td>87.306511</td>\n",
       "      <td>20</td>\n",
       "      <td>38</td>\n",
       "      <td>0</td>\n",
       "    </tr>\n",
       "    <tr>\n",
       "      <th>32559</th>\n",
       "      <td>52</td>\n",
       "      <td>4</td>\n",
       "      <td>287927</td>\n",
       "      <td>11</td>\n",
       "      <td>9</td>\n",
       "      <td>2</td>\n",
       "      <td>3</td>\n",
       "      <td>5</td>\n",
       "      <td>4</td>\n",
       "      <td>0</td>\n",
       "      <td>15024.000000</td>\n",
       "      <td>87.306511</td>\n",
       "      <td>40</td>\n",
       "      <td>38</td>\n",
       "      <td>1</td>\n",
       "    </tr>\n",
       "  </tbody>\n",
       "</table>\n",
       "<p>32560 rows × 15 columns</p>\n",
       "</div>"
      ],
      "text/plain": [
       "       Age  Workclass  Fnlwgt  Education  Education_num  Marital_status  \\\n",
       "0       50          5   83311          9             13               2   \n",
       "1       38          3  215646         11              9               0   \n",
       "2       53          3  234721          1              7               2   \n",
       "3       28          3  338409          9             13               2   \n",
       "4       37          3  284582         12             14               2   \n",
       "...    ...        ...     ...        ...            ...             ...   \n",
       "32555   27          3  257302          7             12               2   \n",
       "32556   40          3  154374         11              9               2   \n",
       "32557   58          3  151910         11              9               6   \n",
       "32558   22          3  201490         11              9               4   \n",
       "32559   52          4  287927         11              9               2   \n",
       "\n",
       "       Occupation  Relationship  Race  Sex  Capital_gain  Capital_loss  \\\n",
       "0               3             0     4    1   1077.615172     87.306511   \n",
       "1               5             1     4    1   1077.615172     87.306511   \n",
       "2               5             0     2    1   1077.615172     87.306511   \n",
       "3               9             5     2    0   1077.615172     87.306511   \n",
       "4               3             5     4    0   1077.615172     87.306511   \n",
       "...           ...           ...   ...  ...           ...           ...   \n",
       "32555          12             5     4    0   1077.615172     87.306511   \n",
       "32556           6             0     4    1   1077.615172     87.306511   \n",
       "32557           0             4     4    0   1077.615172     87.306511   \n",
       "32558           0             3     4    1   1077.615172     87.306511   \n",
       "32559           3             5     4    0  15024.000000     87.306511   \n",
       "\n",
       "       Hours_per_week  Native_country  Income  \n",
       "0                  13              38       0  \n",
       "1                  40              38       0  \n",
       "2                  40              38       0  \n",
       "3                  40               4       0  \n",
       "4                  40              38       0  \n",
       "...               ...             ...     ...  \n",
       "32555              38              38       0  \n",
       "32556              40              38       1  \n",
       "32557              40              38       0  \n",
       "32558              20              38       0  \n",
       "32559              40              38       1  \n",
       "\n",
       "[32560 rows x 15 columns]"
      ]
     },
     "execution_count": 41,
     "metadata": {},
     "output_type": "execute_result"
    }
   ],
   "source": [
    "df"
   ]
  },
  {
   "cell_type": "markdown",
   "id": "759da73e",
   "metadata": {},
   "source": [
    "### Checking Outliers"
   ]
  },
  {
   "cell_type": "code",
   "execution_count": 42,
   "id": "b40bc86b",
   "metadata": {},
   "outputs": [
    {
     "data": {
      "text/html": [
       "<div>\n",
       "<style scoped>\n",
       "    .dataframe tbody tr th:only-of-type {\n",
       "        vertical-align: middle;\n",
       "    }\n",
       "\n",
       "    .dataframe tbody tr th {\n",
       "        vertical-align: top;\n",
       "    }\n",
       "\n",
       "    .dataframe thead th {\n",
       "        text-align: right;\n",
       "    }\n",
       "</style>\n",
       "<table border=\"1\" class=\"dataframe\">\n",
       "  <thead>\n",
       "    <tr style=\"text-align: right;\">\n",
       "      <th></th>\n",
       "      <th>Age</th>\n",
       "      <th>Fnlwgt</th>\n",
       "      <th>Education_num</th>\n",
       "      <th>Capital_gain</th>\n",
       "      <th>Capital_loss</th>\n",
       "      <th>Hours_per_week</th>\n",
       "    </tr>\n",
       "  </thead>\n",
       "  <tbody>\n",
       "    <tr>\n",
       "      <th>0</th>\n",
       "      <td>50</td>\n",
       "      <td>83311</td>\n",
       "      <td>13</td>\n",
       "      <td>1077.615172</td>\n",
       "      <td>87.306511</td>\n",
       "      <td>13</td>\n",
       "    </tr>\n",
       "    <tr>\n",
       "      <th>1</th>\n",
       "      <td>38</td>\n",
       "      <td>215646</td>\n",
       "      <td>9</td>\n",
       "      <td>1077.615172</td>\n",
       "      <td>87.306511</td>\n",
       "      <td>40</td>\n",
       "    </tr>\n",
       "    <tr>\n",
       "      <th>2</th>\n",
       "      <td>53</td>\n",
       "      <td>234721</td>\n",
       "      <td>7</td>\n",
       "      <td>1077.615172</td>\n",
       "      <td>87.306511</td>\n",
       "      <td>40</td>\n",
       "    </tr>\n",
       "    <tr>\n",
       "      <th>3</th>\n",
       "      <td>28</td>\n",
       "      <td>338409</td>\n",
       "      <td>13</td>\n",
       "      <td>1077.615172</td>\n",
       "      <td>87.306511</td>\n",
       "      <td>40</td>\n",
       "    </tr>\n",
       "    <tr>\n",
       "      <th>4</th>\n",
       "      <td>37</td>\n",
       "      <td>284582</td>\n",
       "      <td>14</td>\n",
       "      <td>1077.615172</td>\n",
       "      <td>87.306511</td>\n",
       "      <td>40</td>\n",
       "    </tr>\n",
       "    <tr>\n",
       "      <th>...</th>\n",
       "      <td>...</td>\n",
       "      <td>...</td>\n",
       "      <td>...</td>\n",
       "      <td>...</td>\n",
       "      <td>...</td>\n",
       "      <td>...</td>\n",
       "    </tr>\n",
       "    <tr>\n",
       "      <th>32555</th>\n",
       "      <td>27</td>\n",
       "      <td>257302</td>\n",
       "      <td>12</td>\n",
       "      <td>1077.615172</td>\n",
       "      <td>87.306511</td>\n",
       "      <td>38</td>\n",
       "    </tr>\n",
       "    <tr>\n",
       "      <th>32556</th>\n",
       "      <td>40</td>\n",
       "      <td>154374</td>\n",
       "      <td>9</td>\n",
       "      <td>1077.615172</td>\n",
       "      <td>87.306511</td>\n",
       "      <td>40</td>\n",
       "    </tr>\n",
       "    <tr>\n",
       "      <th>32557</th>\n",
       "      <td>58</td>\n",
       "      <td>151910</td>\n",
       "      <td>9</td>\n",
       "      <td>1077.615172</td>\n",
       "      <td>87.306511</td>\n",
       "      <td>40</td>\n",
       "    </tr>\n",
       "    <tr>\n",
       "      <th>32558</th>\n",
       "      <td>22</td>\n",
       "      <td>201490</td>\n",
       "      <td>9</td>\n",
       "      <td>1077.615172</td>\n",
       "      <td>87.306511</td>\n",
       "      <td>20</td>\n",
       "    </tr>\n",
       "    <tr>\n",
       "      <th>32559</th>\n",
       "      <td>52</td>\n",
       "      <td>287927</td>\n",
       "      <td>9</td>\n",
       "      <td>15024.000000</td>\n",
       "      <td>87.306511</td>\n",
       "      <td>40</td>\n",
       "    </tr>\n",
       "  </tbody>\n",
       "</table>\n",
       "<p>32560 rows × 6 columns</p>\n",
       "</div>"
      ],
      "text/plain": [
       "       Age  Fnlwgt  Education_num  Capital_gain  Capital_loss  Hours_per_week\n",
       "0       50   83311             13   1077.615172     87.306511              13\n",
       "1       38  215646              9   1077.615172     87.306511              40\n",
       "2       53  234721              7   1077.615172     87.306511              40\n",
       "3       28  338409             13   1077.615172     87.306511              40\n",
       "4       37  284582             14   1077.615172     87.306511              40\n",
       "...    ...     ...            ...           ...           ...             ...\n",
       "32555   27  257302             12   1077.615172     87.306511              38\n",
       "32556   40  154374              9   1077.615172     87.306511              40\n",
       "32557   58  151910              9   1077.615172     87.306511              40\n",
       "32558   22  201490              9   1077.615172     87.306511              20\n",
       "32559   52  287927              9  15024.000000     87.306511              40\n",
       "\n",
       "[32560 rows x 6 columns]"
      ]
     },
     "execution_count": 42,
     "metadata": {},
     "output_type": "execute_result"
    }
   ],
   "source": [
    "df_non_cat_columns = df[non_cat_columns]\n",
    "df_non_cat_columns"
   ]
  },
  {
   "cell_type": "code",
   "execution_count": 43,
   "id": "55d78c9c",
   "metadata": {},
   "outputs": [
    {
     "data": {
      "text/html": [
       "<div>\n",
       "<style scoped>\n",
       "    .dataframe tbody tr th:only-of-type {\n",
       "        vertical-align: middle;\n",
       "    }\n",
       "\n",
       "    .dataframe tbody tr th {\n",
       "        vertical-align: top;\n",
       "    }\n",
       "\n",
       "    .dataframe thead th {\n",
       "        text-align: right;\n",
       "    }\n",
       "</style>\n",
       "<table border=\"1\" class=\"dataframe\">\n",
       "  <thead>\n",
       "    <tr style=\"text-align: right;\">\n",
       "      <th></th>\n",
       "      <th>Workclass</th>\n",
       "      <th>Education</th>\n",
       "      <th>Marital_status</th>\n",
       "      <th>Occupation</th>\n",
       "      <th>Relationship</th>\n",
       "      <th>Race</th>\n",
       "      <th>Sex</th>\n",
       "      <th>Native_country</th>\n",
       "      <th>Income</th>\n",
       "    </tr>\n",
       "  </thead>\n",
       "  <tbody>\n",
       "    <tr>\n",
       "      <th>0</th>\n",
       "      <td>5</td>\n",
       "      <td>9</td>\n",
       "      <td>2</td>\n",
       "      <td>3</td>\n",
       "      <td>0</td>\n",
       "      <td>4</td>\n",
       "      <td>1</td>\n",
       "      <td>38</td>\n",
       "      <td>0</td>\n",
       "    </tr>\n",
       "    <tr>\n",
       "      <th>1</th>\n",
       "      <td>3</td>\n",
       "      <td>11</td>\n",
       "      <td>0</td>\n",
       "      <td>5</td>\n",
       "      <td>1</td>\n",
       "      <td>4</td>\n",
       "      <td>1</td>\n",
       "      <td>38</td>\n",
       "      <td>0</td>\n",
       "    </tr>\n",
       "    <tr>\n",
       "      <th>2</th>\n",
       "      <td>3</td>\n",
       "      <td>1</td>\n",
       "      <td>2</td>\n",
       "      <td>5</td>\n",
       "      <td>0</td>\n",
       "      <td>2</td>\n",
       "      <td>1</td>\n",
       "      <td>38</td>\n",
       "      <td>0</td>\n",
       "    </tr>\n",
       "    <tr>\n",
       "      <th>3</th>\n",
       "      <td>3</td>\n",
       "      <td>9</td>\n",
       "      <td>2</td>\n",
       "      <td>9</td>\n",
       "      <td>5</td>\n",
       "      <td>2</td>\n",
       "      <td>0</td>\n",
       "      <td>4</td>\n",
       "      <td>0</td>\n",
       "    </tr>\n",
       "    <tr>\n",
       "      <th>4</th>\n",
       "      <td>3</td>\n",
       "      <td>12</td>\n",
       "      <td>2</td>\n",
       "      <td>3</td>\n",
       "      <td>5</td>\n",
       "      <td>4</td>\n",
       "      <td>0</td>\n",
       "      <td>38</td>\n",
       "      <td>0</td>\n",
       "    </tr>\n",
       "    <tr>\n",
       "      <th>...</th>\n",
       "      <td>...</td>\n",
       "      <td>...</td>\n",
       "      <td>...</td>\n",
       "      <td>...</td>\n",
       "      <td>...</td>\n",
       "      <td>...</td>\n",
       "      <td>...</td>\n",
       "      <td>...</td>\n",
       "      <td>...</td>\n",
       "    </tr>\n",
       "    <tr>\n",
       "      <th>32555</th>\n",
       "      <td>3</td>\n",
       "      <td>7</td>\n",
       "      <td>2</td>\n",
       "      <td>12</td>\n",
       "      <td>5</td>\n",
       "      <td>4</td>\n",
       "      <td>0</td>\n",
       "      <td>38</td>\n",
       "      <td>0</td>\n",
       "    </tr>\n",
       "    <tr>\n",
       "      <th>32556</th>\n",
       "      <td>3</td>\n",
       "      <td>11</td>\n",
       "      <td>2</td>\n",
       "      <td>6</td>\n",
       "      <td>0</td>\n",
       "      <td>4</td>\n",
       "      <td>1</td>\n",
       "      <td>38</td>\n",
       "      <td>1</td>\n",
       "    </tr>\n",
       "    <tr>\n",
       "      <th>32557</th>\n",
       "      <td>3</td>\n",
       "      <td>11</td>\n",
       "      <td>6</td>\n",
       "      <td>0</td>\n",
       "      <td>4</td>\n",
       "      <td>4</td>\n",
       "      <td>0</td>\n",
       "      <td>38</td>\n",
       "      <td>0</td>\n",
       "    </tr>\n",
       "    <tr>\n",
       "      <th>32558</th>\n",
       "      <td>3</td>\n",
       "      <td>11</td>\n",
       "      <td>4</td>\n",
       "      <td>0</td>\n",
       "      <td>3</td>\n",
       "      <td>4</td>\n",
       "      <td>1</td>\n",
       "      <td>38</td>\n",
       "      <td>0</td>\n",
       "    </tr>\n",
       "    <tr>\n",
       "      <th>32559</th>\n",
       "      <td>4</td>\n",
       "      <td>11</td>\n",
       "      <td>2</td>\n",
       "      <td>3</td>\n",
       "      <td>5</td>\n",
       "      <td>4</td>\n",
       "      <td>0</td>\n",
       "      <td>38</td>\n",
       "      <td>1</td>\n",
       "    </tr>\n",
       "  </tbody>\n",
       "</table>\n",
       "<p>32560 rows × 9 columns</p>\n",
       "</div>"
      ],
      "text/plain": [
       "       Workclass  Education  Marital_status  Occupation  Relationship  Race  \\\n",
       "0              5          9               2           3             0     4   \n",
       "1              3         11               0           5             1     4   \n",
       "2              3          1               2           5             0     2   \n",
       "3              3          9               2           9             5     2   \n",
       "4              3         12               2           3             5     4   \n",
       "...          ...        ...             ...         ...           ...   ...   \n",
       "32555          3          7               2          12             5     4   \n",
       "32556          3         11               2           6             0     4   \n",
       "32557          3         11               6           0             4     4   \n",
       "32558          3         11               4           0             3     4   \n",
       "32559          4         11               2           3             5     4   \n",
       "\n",
       "       Sex  Native_country  Income  \n",
       "0        1              38       0  \n",
       "1        1              38       0  \n",
       "2        1              38       0  \n",
       "3        0               4       0  \n",
       "4        0              38       0  \n",
       "...    ...             ...     ...  \n",
       "32555    0              38       0  \n",
       "32556    1              38       1  \n",
       "32557    0              38       0  \n",
       "32558    1              38       0  \n",
       "32559    0              38       1  \n",
       "\n",
       "[32560 rows x 9 columns]"
      ]
     },
     "execution_count": 43,
     "metadata": {},
     "output_type": "execute_result"
    }
   ],
   "source": [
    "df_cat_columns = df[cat_columns]\n",
    "df_cat_columns"
   ]
  },
  {
   "cell_type": "code",
   "execution_count": 44,
   "id": "d9f31c7e",
   "metadata": {
    "scrolled": true
   },
   "outputs": [
    {
     "data": {
      "image/png": "[encoded data removed]",
      "text/plain": [
       "<Figure size 2160x1800 with 9 Axes>"
      ]
     },
     "metadata": {
      "needs_background": "light"
     },
     "output_type": "display_data"
    },
    {
     "data": {
      "image/png": "[encoded data removed]",
      "text/plain": [
       "<Figure size 2160x1800 with 9 Axes>"
      ]
     },
     "metadata": {
      "needs_background": "light"
     },
     "output_type": "display_data"
    }
   ],
   "source": [
    "df_non_cat_columns.plot(kind = 'box',subplots=True,layout=(3,3),figsize=(30,25))\n",
    "plt.show()\n",
    "\n",
    "df_cat_columns.plot(kind = 'box' , subplots=True,layout=(3,3),figsize=(30,25))\n",
    "plt.show()"
   ]
  },
  {
   "cell_type": "markdown",
   "id": "eda5507d",
   "metadata": {},
   "source": [
    "##### We can see outliers present in,\n",
    "\n",
    "Age\n",
    "\n",
    "Fnlwgt\n",
    "\n",
    "Education_num\n",
    "\n",
    "Capital_gain\t\n",
    "\n",
    "Capital_loss\t\n",
    "\n",
    "Hours_per_week\n",
    "\n",
    "Workclass\t\n",
    "\n",
    "Education\n",
    "\n",
    "Race\n",
    "\n",
    "Native_country\t\n",
    "\n",
    "Income"
   ]
  },
  {
   "cell_type": "markdown",
   "id": "0659d5f0",
   "metadata": {},
   "source": [
    "### Removing Outliers"
   ]
  },
  {
   "cell_type": "markdown",
   "id": "e55eef7e",
   "metadata": {},
   "source": [
    "#### Z Score Technique"
   ]
  },
  {
   "cell_type": "code",
   "execution_count": 45,
   "id": "c35a0115",
   "metadata": {},
   "outputs": [
    {
     "data": {
      "text/plain": [
       "(32560, 15)"
      ]
     },
     "execution_count": 45,
     "metadata": {},
     "output_type": "execute_result"
    }
   ],
   "source": [
    "from scipy.stats import zscore\n",
    "\n",
    "z = np.abs(zscore(df))\n",
    "z.shape"
   ]
  },
  {
   "cell_type": "code",
   "execution_count": 46,
   "id": "9f724dc4",
   "metadata": {},
   "outputs": [
    {
     "data": {
      "text/plain": [
       "(27770, 15)"
      ]
     },
     "execution_count": 46,
     "metadata": {},
     "output_type": "execute_result"
    }
   ],
   "source": [
    "df = df[(z<3).all(axis=1)]\n",
    "df.shape"
   ]
  },
  {
   "cell_type": "markdown",
   "id": "a3ce7a85",
   "metadata": {},
   "source": [
    "### Percentage Data Loss"
   ]
  },
  {
   "cell_type": "code",
   "execution_count": 47,
   "id": "9a3e41db",
   "metadata": {},
   "outputs": [
    {
     "data": {
      "text/plain": [
       "14.71130221130221"
      ]
     },
     "execution_count": 47,
     "metadata": {},
     "output_type": "execute_result"
    }
   ],
   "source": [
    "percentage_data_loss = (32560-27770)/32560*100\n",
    "percentage_data_loss"
   ]
  },
  {
   "cell_type": "markdown",
   "id": "3d5d3f8a",
   "metadata": {},
   "source": [
    "### VIF"
   ]
  },
  {
   "cell_type": "code",
   "execution_count": 48,
   "id": "3b332638",
   "metadata": {},
   "outputs": [],
   "source": [
    "from statsmodels.stats.outliers_influence import variance_inflation_factor"
   ]
  },
  {
   "cell_type": "code",
   "execution_count": 49,
   "id": "3c6d8d2a",
   "metadata": {},
   "outputs": [],
   "source": [
    "def calculate_vif(dataset):\n",
    "    vif = pd.DataFrame()\n",
    "    vif['Features'] = dataset.columns\n",
    "    vif['VIF_Values'] = [variance_inflation_factor(dataset.values,i) for i in range(dataset.shape[1])]\n",
    "    return(vif.sort_values(by='VIF_Values',ascending = False))"
   ]
  },
  {
   "cell_type": "code",
   "execution_count": 50,
   "id": "337b6cb7",
   "metadata": {},
   "outputs": [
    {
     "data": {
      "text/html": [
       "<div>\n",
       "<style scoped>\n",
       "    .dataframe tbody tr th:only-of-type {\n",
       "        vertical-align: middle;\n",
       "    }\n",
       "\n",
       "    .dataframe tbody tr th {\n",
       "        vertical-align: top;\n",
       "    }\n",
       "\n",
       "    .dataframe thead th {\n",
       "        text-align: right;\n",
       "    }\n",
       "</style>\n",
       "<table border=\"1\" class=\"dataframe\">\n",
       "  <thead>\n",
       "    <tr style=\"text-align: right;\">\n",
       "      <th></th>\n",
       "      <th>Features</th>\n",
       "      <th>VIF_Values</th>\n",
       "    </tr>\n",
       "  </thead>\n",
       "  <tbody>\n",
       "    <tr>\n",
       "      <th>2</th>\n",
       "      <td>Education_num</td>\n",
       "      <td>11.046001</td>\n",
       "    </tr>\n",
       "    <tr>\n",
       "      <th>5</th>\n",
       "      <td>Hours_per_week</td>\n",
       "      <td>9.770244</td>\n",
       "    </tr>\n",
       "    <tr>\n",
       "      <th>0</th>\n",
       "      <td>Age</td>\n",
       "      <td>7.261559</td>\n",
       "    </tr>\n",
       "    <tr>\n",
       "      <th>1</th>\n",
       "      <td>Fnlwgt</td>\n",
       "      <td>3.678721</td>\n",
       "    </tr>\n",
       "    <tr>\n",
       "      <th>4</th>\n",
       "      <td>Capital_loss</td>\n",
       "      <td>1.211472</td>\n",
       "    </tr>\n",
       "    <tr>\n",
       "      <th>3</th>\n",
       "      <td>Capital_gain</td>\n",
       "      <td>1.098917</td>\n",
       "    </tr>\n",
       "  </tbody>\n",
       "</table>\n",
       "</div>"
      ],
      "text/plain": [
       "         Features  VIF_Values\n",
       "2   Education_num   11.046001\n",
       "5  Hours_per_week    9.770244\n",
       "0             Age    7.261559\n",
       "1          Fnlwgt    3.678721\n",
       "4    Capital_loss    1.211472\n",
       "3    Capital_gain    1.098917"
      ]
     },
     "execution_count": 50,
     "metadata": {},
     "output_type": "execute_result"
    }
   ],
   "source": [
    "calculate_vif(df_non_cat_columns)"
   ]
  },
  {
   "cell_type": "markdown",
   "id": "faa565d4",
   "metadata": {},
   "source": [
    "### Splitting the Data Frame in dfx dfy"
   ]
  },
  {
   "cell_type": "code",
   "execution_count": 51,
   "id": "951abc21",
   "metadata": {},
   "outputs": [
    {
     "data": {
      "text/plain": [
       "(27770, 14)"
      ]
     },
     "execution_count": 51,
     "metadata": {},
     "output_type": "execute_result"
    }
   ],
   "source": [
    "dfx = df.drop('Income',axis=1)\n",
    "dfx.shape"
   ]
  },
  {
   "cell_type": "code",
   "execution_count": 52,
   "id": "42d2310d",
   "metadata": {},
   "outputs": [
    {
     "data": {
      "text/plain": [
       "(27770,)"
      ]
     },
     "execution_count": 52,
     "metadata": {},
     "output_type": "execute_result"
    }
   ],
   "source": [
    "dfy = df['Income']\n",
    "dfy.shape"
   ]
  },
  {
   "cell_type": "markdown",
   "id": "051860cd",
   "metadata": {},
   "source": [
    "#### Checking if dataset is balanced"
   ]
  },
  {
   "cell_type": "code",
   "execution_count": 53,
   "id": "ab8c202b",
   "metadata": {},
   "outputs": [
    {
     "data": {
      "image/png": "[encoded data removed]",
      "text/plain": [
       "<Figure size 432x288 with 1 Axes>"
      ]
     },
     "metadata": {
      "needs_background": "light"
     },
     "output_type": "display_data"
    }
   ],
   "source": [
    "sns.countplot(dfy)\n",
    "plt.show()"
   ]
  },
  {
   "cell_type": "markdown",
   "id": "3e772b00",
   "metadata": {},
   "source": [
    "##### From above plot we can see that data is imbalanced so we have to balanced the data."
   ]
  },
  {
   "cell_type": "markdown",
   "id": "95e0985c",
   "metadata": {},
   "source": [
    "### Balancing the Dataset"
   ]
  },
  {
   "cell_type": "code",
   "execution_count": 54,
   "id": "650c20b2",
   "metadata": {},
   "outputs": [],
   "source": [
    "from imblearn.over_sampling import SMOTE"
   ]
  },
  {
   "cell_type": "code",
   "execution_count": 55,
   "id": "ab220c2b",
   "metadata": {},
   "outputs": [],
   "source": [
    "sm = SMOTE()\n",
    "x,y = sm.fit_resample(dfx,dfy)"
   ]
  },
  {
   "cell_type": "code",
   "execution_count": 56,
   "id": "8c27807e",
   "metadata": {},
   "outputs": [
    {
     "data": {
      "text/plain": [
       "(43088, 14)"
      ]
     },
     "execution_count": 56,
     "metadata": {},
     "output_type": "execute_result"
    }
   ],
   "source": [
    "x.shape"
   ]
  },
  {
   "cell_type": "code",
   "execution_count": 57,
   "id": "2948b934",
   "metadata": {},
   "outputs": [
    {
     "name": "stdout",
     "output_type": "stream",
     "text": [
      "(43088,)\n",
      "0    21544\n",
      "1    21544\n",
      "Name: Income, dtype: int64\n",
      "\n"
     ]
    },
    {
     "data": {
      "image/png": "[encoded data removed]",
      "text/plain": [
       "<Figure size 432x288 with 1 Axes>"
      ]
     },
     "metadata": {
      "needs_background": "light"
     },
     "output_type": "display_data"
    }
   ],
   "source": [
    "print(y.shape)\n",
    "print(y.value_counts())\n",
    "print()\n",
    "sns.countplot(y)\n",
    "plt.show()"
   ]
  },
  {
   "cell_type": "markdown",
   "id": "95e7b575",
   "metadata": {},
   "source": [
    "##### We balanced the data using SMOTE."
   ]
  },
  {
   "cell_type": "markdown",
   "id": "683a9d02",
   "metadata": {},
   "source": [
    "### Normalizing Using Power Transform"
   ]
  },
  {
   "cell_type": "code",
   "execution_count": 58,
   "id": "6cd16cde",
   "metadata": {},
   "outputs": [],
   "source": [
    "from sklearn.preprocessing import power_transform\n",
    "x1 = power_transform(x)"
   ]
  },
  {
   "cell_type": "code",
   "execution_count": 59,
   "id": "dfd49be6",
   "metadata": {},
   "outputs": [
    {
     "data": {
      "text/plain": [
       "numpy.ndarray"
      ]
     },
     "execution_count": 59,
     "metadata": {},
     "output_type": "execute_result"
    }
   ],
   "source": [
    "type(x1)"
   ]
  },
  {
   "cell_type": "code",
   "execution_count": 60,
   "id": "4eeb18e7",
   "metadata": {},
   "outputs": [
    {
     "data": {
      "text/html": [
       "<div>\n",
       "<style scoped>\n",
       "    .dataframe tbody tr th:only-of-type {\n",
       "        vertical-align: middle;\n",
       "    }\n",
       "\n",
       "    .dataframe tbody tr th {\n",
       "        vertical-align: top;\n",
       "    }\n",
       "\n",
       "    .dataframe thead th {\n",
       "        text-align: right;\n",
       "    }\n",
       "</style>\n",
       "<table border=\"1\" class=\"dataframe\">\n",
       "  <thead>\n",
       "    <tr style=\"text-align: right;\">\n",
       "      <th></th>\n",
       "      <th>Age</th>\n",
       "      <th>Workclass</th>\n",
       "      <th>Fnlwgt</th>\n",
       "      <th>Education</th>\n",
       "      <th>Education_num</th>\n",
       "      <th>Marital_status</th>\n",
       "      <th>Occupation</th>\n",
       "      <th>Relationship</th>\n",
       "      <th>Race</th>\n",
       "      <th>Sex</th>\n",
       "      <th>Capital_gain</th>\n",
       "      <th>Capital_loss</th>\n",
       "      <th>Hours_per_week</th>\n",
       "      <th>Native_country</th>\n",
       "    </tr>\n",
       "  </thead>\n",
       "  <tbody>\n",
       "    <tr>\n",
       "      <th>0</th>\n",
       "      <td>0.833407</td>\n",
       "      <td>1.927587</td>\n",
       "      <td>-1.128786</td>\n",
       "      <td>-0.540964</td>\n",
       "      <td>1.132412</td>\n",
       "      <td>-0.233312</td>\n",
       "      <td>-0.748022</td>\n",
       "      <td>-0.897410</td>\n",
       "      <td>0.341108</td>\n",
       "      <td>0.673435</td>\n",
       "      <td>-0.331586</td>\n",
       "      <td>0.0</td>\n",
       "      <td>-2.444965</td>\n",
       "      <td>0.161385</td>\n",
       "    </tr>\n",
       "    <tr>\n",
       "      <th>1</th>\n",
       "      <td>-0.111357</td>\n",
       "      <td>-0.009916</td>\n",
       "      <td>0.426863</td>\n",
       "      <td>0.097547</td>\n",
       "      <td>-0.657376</td>\n",
       "      <td>-1.945503</td>\n",
       "      <td>-0.183742</td>\n",
       "      <td>0.549136</td>\n",
       "      <td>0.341108</td>\n",
       "      <td>0.673435</td>\n",
       "      <td>-0.331586</td>\n",
       "      <td>0.0</td>\n",
       "      <td>-0.203363</td>\n",
       "      <td>0.161385</td>\n",
       "    </tr>\n",
       "    <tr>\n",
       "      <th>2</th>\n",
       "      <td>1.055108</td>\n",
       "      <td>-0.009916</td>\n",
       "      <td>0.609094</td>\n",
       "      <td>-2.262557</td>\n",
       "      <td>-1.460334</td>\n",
       "      <td>-0.233312</td>\n",
       "      <td>-0.183742</td>\n",
       "      <td>-0.897410</td>\n",
       "      <td>-2.937813</td>\n",
       "      <td>0.673435</td>\n",
       "      <td>-0.331586</td>\n",
       "      <td>0.0</td>\n",
       "      <td>-0.203363</td>\n",
       "      <td>0.161385</td>\n",
       "    </tr>\n",
       "    <tr>\n",
       "      <th>3</th>\n",
       "      <td>-0.195022</td>\n",
       "      <td>-0.009916</td>\n",
       "      <td>1.056204</td>\n",
       "      <td>0.443211</td>\n",
       "      <td>1.613629</td>\n",
       "      <td>-0.233312</td>\n",
       "      <td>-0.748022</td>\n",
       "      <td>1.567795</td>\n",
       "      <td>0.341108</td>\n",
       "      <td>-1.484924</td>\n",
       "      <td>-0.331586</td>\n",
       "      <td>0.0</td>\n",
       "      <td>-0.203363</td>\n",
       "      <td>0.161385</td>\n",
       "    </tr>\n",
       "    <tr>\n",
       "      <th>4</th>\n",
       "      <td>0.758353</td>\n",
       "      <td>-0.009916</td>\n",
       "      <td>-0.149200</td>\n",
       "      <td>-1.356578</td>\n",
       "      <td>-2.190120</td>\n",
       "      <td>0.507145</td>\n",
       "      <td>0.327688</td>\n",
       "      <td>0.549136</td>\n",
       "      <td>-2.937813</td>\n",
       "      <td>-1.484924</td>\n",
       "      <td>-0.331586</td>\n",
       "      <td>0.0</td>\n",
       "      <td>-2.248918</td>\n",
       "      <td>-4.464020</td>\n",
       "    </tr>\n",
       "    <tr>\n",
       "      <th>...</th>\n",
       "      <td>...</td>\n",
       "      <td>...</td>\n",
       "      <td>...</td>\n",
       "      <td>...</td>\n",
       "      <td>...</td>\n",
       "      <td>...</td>\n",
       "      <td>...</td>\n",
       "      <td>...</td>\n",
       "      <td>...</td>\n",
       "      <td>...</td>\n",
       "      <td>...</td>\n",
       "      <td>...</td>\n",
       "      <td>...</td>\n",
       "      <td>...</td>\n",
       "    </tr>\n",
       "    <tr>\n",
       "      <th>43083</th>\n",
       "      <td>0.451927</td>\n",
       "      <td>-0.009916</td>\n",
       "      <td>-0.125144</td>\n",
       "      <td>-0.540964</td>\n",
       "      <td>0.209161</td>\n",
       "      <td>-0.233312</td>\n",
       "      <td>-1.060363</td>\n",
       "      <td>-0.897410</td>\n",
       "      <td>0.341108</td>\n",
       "      <td>0.673435</td>\n",
       "      <td>2.433757</td>\n",
       "      <td>0.0</td>\n",
       "      <td>0.414095</td>\n",
       "      <td>0.161385</td>\n",
       "    </tr>\n",
       "    <tr>\n",
       "      <th>43084</th>\n",
       "      <td>0.451927</td>\n",
       "      <td>0.942205</td>\n",
       "      <td>-1.096228</td>\n",
       "      <td>0.443211</td>\n",
       "      <td>-0.657376</td>\n",
       "      <td>-1.945503</td>\n",
       "      <td>-1.060363</td>\n",
       "      <td>-0.897410</td>\n",
       "      <td>0.341108</td>\n",
       "      <td>0.673435</td>\n",
       "      <td>-0.331586</td>\n",
       "      <td>0.0</td>\n",
       "      <td>-0.203363</td>\n",
       "      <td>0.161385</td>\n",
       "    </tr>\n",
       "    <tr>\n",
       "      <th>43085</th>\n",
       "      <td>0.758353</td>\n",
       "      <td>-0.009916</td>\n",
       "      <td>-0.534203</td>\n",
       "      <td>0.443211</td>\n",
       "      <td>1.132412</td>\n",
       "      <td>-0.233312</td>\n",
       "      <td>0.803098</td>\n",
       "      <td>-0.897410</td>\n",
       "      <td>0.341108</td>\n",
       "      <td>0.673435</td>\n",
       "      <td>-0.331586</td>\n",
       "      <td>0.0</td>\n",
       "      <td>-0.203363</td>\n",
       "      <td>0.161385</td>\n",
       "    </tr>\n",
       "    <tr>\n",
       "      <th>43086</th>\n",
       "      <td>1.343184</td>\n",
       "      <td>-0.921894</td>\n",
       "      <td>-0.659989</td>\n",
       "      <td>1.184727</td>\n",
       "      <td>-0.231578</td>\n",
       "      <td>-0.233312</td>\n",
       "      <td>1.030318</td>\n",
       "      <td>-0.897410</td>\n",
       "      <td>0.341108</td>\n",
       "      <td>-1.484924</td>\n",
       "      <td>-0.331586</td>\n",
       "      <td>0.0</td>\n",
       "      <td>-0.203363</td>\n",
       "      <td>0.161385</td>\n",
       "    </tr>\n",
       "    <tr>\n",
       "      <th>43087</th>\n",
       "      <td>-0.627352</td>\n",
       "      <td>-0.009916</td>\n",
       "      <td>-1.178119</td>\n",
       "      <td>-2.135239</td>\n",
       "      <td>-1.460334</td>\n",
       "      <td>-1.945503</td>\n",
       "      <td>1.030318</td>\n",
       "      <td>-0.897410</td>\n",
       "      <td>0.341108</td>\n",
       "      <td>0.673435</td>\n",
       "      <td>-0.331586</td>\n",
       "      <td>0.0</td>\n",
       "      <td>0.100785</td>\n",
       "      <td>0.161385</td>\n",
       "    </tr>\n",
       "  </tbody>\n",
       "</table>\n",
       "<p>43088 rows × 14 columns</p>\n",
       "</div>"
      ],
      "text/plain": [
       "            Age  Workclass    Fnlwgt  Education  Education_num  \\\n",
       "0      0.833407   1.927587 -1.128786  -0.540964       1.132412   \n",
       "1     -0.111357  -0.009916  0.426863   0.097547      -0.657376   \n",
       "2      1.055108  -0.009916  0.609094  -2.262557      -1.460334   \n",
       "3     -0.195022  -0.009916  1.056204   0.443211       1.613629   \n",
       "4      0.758353  -0.009916 -0.149200  -1.356578      -2.190120   \n",
       "...         ...        ...       ...        ...            ...   \n",
       "43083  0.451927  -0.009916 -0.125144  -0.540964       0.209161   \n",
       "43084  0.451927   0.942205 -1.096228   0.443211      -0.657376   \n",
       "43085  0.758353  -0.009916 -0.534203   0.443211       1.132412   \n",
       "43086  1.343184  -0.921894 -0.659989   1.184727      -0.231578   \n",
       "43087 -0.627352  -0.009916 -1.178119  -2.135239      -1.460334   \n",
       "\n",
       "       Marital_status  Occupation  Relationship      Race       Sex  \\\n",
       "0           -0.233312   -0.748022     -0.897410  0.341108  0.673435   \n",
       "1           -1.945503   -0.183742      0.549136  0.341108  0.673435   \n",
       "2           -0.233312   -0.183742     -0.897410 -2.937813  0.673435   \n",
       "3           -0.233312   -0.748022      1.567795  0.341108 -1.484924   \n",
       "4            0.507145    0.327688      0.549136 -2.937813 -1.484924   \n",
       "...               ...         ...           ...       ...       ...   \n",
       "43083       -0.233312   -1.060363     -0.897410  0.341108  0.673435   \n",
       "43084       -1.945503   -1.060363     -0.897410  0.341108  0.673435   \n",
       "43085       -0.233312    0.803098     -0.897410  0.341108  0.673435   \n",
       "43086       -0.233312    1.030318     -0.897410  0.341108 -1.484924   \n",
       "43087       -1.945503    1.030318     -0.897410  0.341108  0.673435   \n",
       "\n",
       "       Capital_gain  Capital_loss  Hours_per_week  Native_country  \n",
       "0         -0.331586           0.0       -2.444965        0.161385  \n",
       "1         -0.331586           0.0       -0.203363        0.161385  \n",
       "2         -0.331586           0.0       -0.203363        0.161385  \n",
       "3         -0.331586           0.0       -0.203363        0.161385  \n",
       "4         -0.331586           0.0       -2.248918       -4.464020  \n",
       "...             ...           ...             ...             ...  \n",
       "43083      2.433757           0.0        0.414095        0.161385  \n",
       "43084     -0.331586           0.0       -0.203363        0.161385  \n",
       "43085     -0.331586           0.0       -0.203363        0.161385  \n",
       "43086     -0.331586           0.0       -0.203363        0.161385  \n",
       "43087     -0.331586           0.0        0.100785        0.161385  \n",
       "\n",
       "[43088 rows x 14 columns]"
      ]
     },
     "execution_count": 60,
     "metadata": {},
     "output_type": "execute_result"
    }
   ],
   "source": [
    "x = pd.DataFrame(x1,columns=x.columns)\n",
    "x"
   ]
  },
  {
   "cell_type": "code",
   "execution_count": 61,
   "id": "f19ca633",
   "metadata": {},
   "outputs": [
    {
     "data": {
      "text/plain": [
       "Age              -0.034922\n",
       "Fnlwgt           -0.030065\n",
       "Education_num     0.008424\n",
       "Capital_gain     -4.932656\n",
       "Capital_loss      0.000000\n",
       "Hours_per_week    0.142568\n",
       "dtype: float64"
      ]
     },
     "execution_count": 61,
     "metadata": {},
     "output_type": "execute_result"
    }
   ],
   "source": [
    "x[non_cat_columns].skew()"
   ]
  },
  {
   "cell_type": "code",
   "execution_count": 62,
   "id": "623acae9",
   "metadata": {},
   "outputs": [],
   "source": [
    "l = ['Capital_gain','Capital_loss']\n",
    "x.drop(l,axis=1,inplace=True)"
   ]
  },
  {
   "cell_type": "markdown",
   "id": "a1697f64",
   "metadata": {},
   "source": [
    "##### We drop the Capital_gain and Capital loss column because it has skewness even after using power transform."
   ]
  },
  {
   "cell_type": "markdown",
   "id": "accaf292",
   "metadata": {},
   "source": [
    "### Scaling the Model"
   ]
  },
  {
   "cell_type": "code",
   "execution_count": 63,
   "id": "3f9df0ec",
   "metadata": {},
   "outputs": [
    {
     "data": {
      "text/html": [
       "<div>\n",
       "<style scoped>\n",
       "    .dataframe tbody tr th:only-of-type {\n",
       "        vertical-align: middle;\n",
       "    }\n",
       "\n",
       "    .dataframe tbody tr th {\n",
       "        vertical-align: top;\n",
       "    }\n",
       "\n",
       "    .dataframe thead th {\n",
       "        text-align: right;\n",
       "    }\n",
       "</style>\n",
       "<table border=\"1\" class=\"dataframe\">\n",
       "  <thead>\n",
       "    <tr style=\"text-align: right;\">\n",
       "      <th></th>\n",
       "      <th>Age</th>\n",
       "      <th>Workclass</th>\n",
       "      <th>Fnlwgt</th>\n",
       "      <th>Education</th>\n",
       "      <th>Education_num</th>\n",
       "      <th>Marital_status</th>\n",
       "      <th>Occupation</th>\n",
       "      <th>Relationship</th>\n",
       "      <th>Race</th>\n",
       "      <th>Sex</th>\n",
       "      <th>Hours_per_week</th>\n",
       "      <th>Native_country</th>\n",
       "    </tr>\n",
       "  </thead>\n",
       "  <tbody>\n",
       "    <tr>\n",
       "      <th>0</th>\n",
       "      <td>0.833407</td>\n",
       "      <td>1.927587</td>\n",
       "      <td>-1.128786</td>\n",
       "      <td>-0.540964</td>\n",
       "      <td>1.132412</td>\n",
       "      <td>-0.233312</td>\n",
       "      <td>-0.748022</td>\n",
       "      <td>-0.897410</td>\n",
       "      <td>0.341108</td>\n",
       "      <td>0.673435</td>\n",
       "      <td>-2.444965</td>\n",
       "      <td>0.161385</td>\n",
       "    </tr>\n",
       "    <tr>\n",
       "      <th>1</th>\n",
       "      <td>-0.111357</td>\n",
       "      <td>-0.009916</td>\n",
       "      <td>0.426863</td>\n",
       "      <td>0.097547</td>\n",
       "      <td>-0.657376</td>\n",
       "      <td>-1.945503</td>\n",
       "      <td>-0.183742</td>\n",
       "      <td>0.549136</td>\n",
       "      <td>0.341108</td>\n",
       "      <td>0.673435</td>\n",
       "      <td>-0.203363</td>\n",
       "      <td>0.161385</td>\n",
       "    </tr>\n",
       "    <tr>\n",
       "      <th>2</th>\n",
       "      <td>1.055108</td>\n",
       "      <td>-0.009916</td>\n",
       "      <td>0.609094</td>\n",
       "      <td>-2.262557</td>\n",
       "      <td>-1.460334</td>\n",
       "      <td>-0.233312</td>\n",
       "      <td>-0.183742</td>\n",
       "      <td>-0.897410</td>\n",
       "      <td>-2.937813</td>\n",
       "      <td>0.673435</td>\n",
       "      <td>-0.203363</td>\n",
       "      <td>0.161385</td>\n",
       "    </tr>\n",
       "    <tr>\n",
       "      <th>3</th>\n",
       "      <td>-0.195022</td>\n",
       "      <td>-0.009916</td>\n",
       "      <td>1.056204</td>\n",
       "      <td>0.443211</td>\n",
       "      <td>1.613629</td>\n",
       "      <td>-0.233312</td>\n",
       "      <td>-0.748022</td>\n",
       "      <td>1.567795</td>\n",
       "      <td>0.341108</td>\n",
       "      <td>-1.484924</td>\n",
       "      <td>-0.203363</td>\n",
       "      <td>0.161385</td>\n",
       "    </tr>\n",
       "    <tr>\n",
       "      <th>4</th>\n",
       "      <td>0.758353</td>\n",
       "      <td>-0.009916</td>\n",
       "      <td>-0.149200</td>\n",
       "      <td>-1.356578</td>\n",
       "      <td>-2.190120</td>\n",
       "      <td>0.507145</td>\n",
       "      <td>0.327688</td>\n",
       "      <td>0.549136</td>\n",
       "      <td>-2.937813</td>\n",
       "      <td>-1.484924</td>\n",
       "      <td>-2.248918</td>\n",
       "      <td>-4.464020</td>\n",
       "    </tr>\n",
       "    <tr>\n",
       "      <th>...</th>\n",
       "      <td>...</td>\n",
       "      <td>...</td>\n",
       "      <td>...</td>\n",
       "      <td>...</td>\n",
       "      <td>...</td>\n",
       "      <td>...</td>\n",
       "      <td>...</td>\n",
       "      <td>...</td>\n",
       "      <td>...</td>\n",
       "      <td>...</td>\n",
       "      <td>...</td>\n",
       "      <td>...</td>\n",
       "    </tr>\n",
       "    <tr>\n",
       "      <th>43083</th>\n",
       "      <td>0.451927</td>\n",
       "      <td>-0.009916</td>\n",
       "      <td>-0.125144</td>\n",
       "      <td>-0.540964</td>\n",
       "      <td>0.209161</td>\n",
       "      <td>-0.233312</td>\n",
       "      <td>-1.060363</td>\n",
       "      <td>-0.897410</td>\n",
       "      <td>0.341108</td>\n",
       "      <td>0.673435</td>\n",
       "      <td>0.414095</td>\n",
       "      <td>0.161385</td>\n",
       "    </tr>\n",
       "    <tr>\n",
       "      <th>43084</th>\n",
       "      <td>0.451927</td>\n",
       "      <td>0.942205</td>\n",
       "      <td>-1.096228</td>\n",
       "      <td>0.443211</td>\n",
       "      <td>-0.657376</td>\n",
       "      <td>-1.945503</td>\n",
       "      <td>-1.060363</td>\n",
       "      <td>-0.897410</td>\n",
       "      <td>0.341108</td>\n",
       "      <td>0.673435</td>\n",
       "      <td>-0.203363</td>\n",
       "      <td>0.161385</td>\n",
       "    </tr>\n",
       "    <tr>\n",
       "      <th>43085</th>\n",
       "      <td>0.758353</td>\n",
       "      <td>-0.009916</td>\n",
       "      <td>-0.534203</td>\n",
       "      <td>0.443211</td>\n",
       "      <td>1.132412</td>\n",
       "      <td>-0.233312</td>\n",
       "      <td>0.803098</td>\n",
       "      <td>-0.897410</td>\n",
       "      <td>0.341108</td>\n",
       "      <td>0.673435</td>\n",
       "      <td>-0.203363</td>\n",
       "      <td>0.161385</td>\n",
       "    </tr>\n",
       "    <tr>\n",
       "      <th>43086</th>\n",
       "      <td>1.343184</td>\n",
       "      <td>-0.921894</td>\n",
       "      <td>-0.659989</td>\n",
       "      <td>1.184727</td>\n",
       "      <td>-0.231578</td>\n",
       "      <td>-0.233312</td>\n",
       "      <td>1.030318</td>\n",
       "      <td>-0.897410</td>\n",
       "      <td>0.341108</td>\n",
       "      <td>-1.484924</td>\n",
       "      <td>-0.203363</td>\n",
       "      <td>0.161385</td>\n",
       "    </tr>\n",
       "    <tr>\n",
       "      <th>43087</th>\n",
       "      <td>-0.627352</td>\n",
       "      <td>-0.009916</td>\n",
       "      <td>-1.178119</td>\n",
       "      <td>-2.135239</td>\n",
       "      <td>-1.460334</td>\n",
       "      <td>-1.945503</td>\n",
       "      <td>1.030318</td>\n",
       "      <td>-0.897410</td>\n",
       "      <td>0.341108</td>\n",
       "      <td>0.673435</td>\n",
       "      <td>0.100785</td>\n",
       "      <td>0.161385</td>\n",
       "    </tr>\n",
       "  </tbody>\n",
       "</table>\n",
       "<p>43088 rows × 12 columns</p>\n",
       "</div>"
      ],
      "text/plain": [
       "            Age  Workclass    Fnlwgt  Education  Education_num  \\\n",
       "0      0.833407   1.927587 -1.128786  -0.540964       1.132412   \n",
       "1     -0.111357  -0.009916  0.426863   0.097547      -0.657376   \n",
       "2      1.055108  -0.009916  0.609094  -2.262557      -1.460334   \n",
       "3     -0.195022  -0.009916  1.056204   0.443211       1.613629   \n",
       "4      0.758353  -0.009916 -0.149200  -1.356578      -2.190120   \n",
       "...         ...        ...       ...        ...            ...   \n",
       "43083  0.451927  -0.009916 -0.125144  -0.540964       0.209161   \n",
       "43084  0.451927   0.942205 -1.096228   0.443211      -0.657376   \n",
       "43085  0.758353  -0.009916 -0.534203   0.443211       1.132412   \n",
       "43086  1.343184  -0.921894 -0.659989   1.184727      -0.231578   \n",
       "43087 -0.627352  -0.009916 -1.178119  -2.135239      -1.460334   \n",
       "\n",
       "       Marital_status  Occupation  Relationship      Race       Sex  \\\n",
       "0           -0.233312   -0.748022     -0.897410  0.341108  0.673435   \n",
       "1           -1.945503   -0.183742      0.549136  0.341108  0.673435   \n",
       "2           -0.233312   -0.183742     -0.897410 -2.937813  0.673435   \n",
       "3           -0.233312   -0.748022      1.567795  0.341108 -1.484924   \n",
       "4            0.507145    0.327688      0.549136 -2.937813 -1.484924   \n",
       "...               ...         ...           ...       ...       ...   \n",
       "43083       -0.233312   -1.060363     -0.897410  0.341108  0.673435   \n",
       "43084       -1.945503   -1.060363     -0.897410  0.341108  0.673435   \n",
       "43085       -0.233312    0.803098     -0.897410  0.341108  0.673435   \n",
       "43086       -0.233312    1.030318     -0.897410  0.341108 -1.484924   \n",
       "43087       -1.945503    1.030318     -0.897410  0.341108  0.673435   \n",
       "\n",
       "       Hours_per_week  Native_country  \n",
       "0           -2.444965        0.161385  \n",
       "1           -0.203363        0.161385  \n",
       "2           -0.203363        0.161385  \n",
       "3           -0.203363        0.161385  \n",
       "4           -2.248918       -4.464020  \n",
       "...               ...             ...  \n",
       "43083        0.414095        0.161385  \n",
       "43084       -0.203363        0.161385  \n",
       "43085       -0.203363        0.161385  \n",
       "43086       -0.203363        0.161385  \n",
       "43087        0.100785        0.161385  \n",
       "\n",
       "[43088 rows x 12 columns]"
      ]
     },
     "execution_count": 63,
     "metadata": {},
     "output_type": "execute_result"
    }
   ],
   "source": [
    "from sklearn.preprocessing import StandardScaler\n",
    "sc = StandardScaler()\n",
    "X = sc.fit_transform(x)\n",
    "X = pd.DataFrame(X,columns=x.columns)\n",
    "X"
   ]
  },
  {
   "cell_type": "markdown",
   "id": "739bbe02",
   "metadata": {},
   "source": [
    "### Training Process"
   ]
  },
  {
   "cell_type": "code",
   "execution_count": 64,
   "id": "b53b2b79",
   "metadata": {},
   "outputs": [],
   "source": [
    "from sklearn.linear_model import LogisticRegression\n",
    "from sklearn.metrics import accuracy_score\n",
    "from sklearn.metrics import confusion_matrix,classification_report\n",
    "from sklearn.model_selection import train_test_split\n",
    "from sklearn.model_selection import cross_val_score"
   ]
  },
  {
   "cell_type": "code",
   "execution_count": 65,
   "id": "f85f23b8",
   "metadata": {},
   "outputs": [
    {
     "data": {
      "text/plain": [
       "LogisticRegression()"
      ]
     },
     "execution_count": 65,
     "metadata": {},
     "output_type": "execute_result"
    }
   ],
   "source": [
    "lr = LogisticRegression()\n",
    "lr"
   ]
  },
  {
   "cell_type": "markdown",
   "id": "da209cd1",
   "metadata": {},
   "source": [
    "### Best Random State"
   ]
  },
  {
   "cell_type": "code",
   "execution_count": 66,
   "id": "50550c2c",
   "metadata": {},
   "outputs": [
    {
     "name": "stdout",
     "output_type": "stream",
     "text": [
      "Best Accuracy is 0.7758180552332328 on Random State 68\n"
     ]
    }
   ],
   "source": [
    "maxAccu = 0\n",
    "maxRs = 0\n",
    "\n",
    "for i in range(1,100):\n",
    "    x_train,x_test,y_train,y_test = train_test_split(x,y,test_size=.30,random_state=i)\n",
    "    lr.fit(x_train,y_train)\n",
    "    pred = lr.predict(x_test)\n",
    "    acc = accuracy_score(y_test,pred)\n",
    "    if acc>maxAccu:\n",
    "        maxAccu = acc\n",
    "        maxRs = i\n",
    "print('Best Accuracy is',maxAccu,'on Random State',maxRs)"
   ]
  },
  {
   "cell_type": "code",
   "execution_count": 67,
   "id": "ddd8418b",
   "metadata": {},
   "outputs": [],
   "source": [
    "x_train,x_test,y_train,y_test = train_test_split(x,y,test_size=.30,random_state=68)"
   ]
  },
  {
   "cell_type": "code",
   "execution_count": 68,
   "id": "24b1ed37",
   "metadata": {},
   "outputs": [
    {
     "data": {
      "text/plain": [
       "(30161, 12)"
      ]
     },
     "execution_count": 68,
     "metadata": {},
     "output_type": "execute_result"
    }
   ],
   "source": [
    "x_train.shape"
   ]
  },
  {
   "cell_type": "code",
   "execution_count": 69,
   "id": "0c87cc17",
   "metadata": {},
   "outputs": [
    {
     "data": {
      "text/plain": [
       "(12927, 12)"
      ]
     },
     "execution_count": 69,
     "metadata": {},
     "output_type": "execute_result"
    }
   ],
   "source": [
    "x_test.shape"
   ]
  },
  {
   "cell_type": "code",
   "execution_count": 70,
   "id": "5b4935ad",
   "metadata": {},
   "outputs": [
    {
     "data": {
      "text/plain": [
       "(30161,)"
      ]
     },
     "execution_count": 70,
     "metadata": {},
     "output_type": "execute_result"
    }
   ],
   "source": [
    "y_train.shape"
   ]
  },
  {
   "cell_type": "code",
   "execution_count": 71,
   "id": "bce4ca39",
   "metadata": {},
   "outputs": [
    {
     "data": {
      "text/plain": [
       "(12927,)"
      ]
     },
     "execution_count": 71,
     "metadata": {},
     "output_type": "execute_result"
    }
   ],
   "source": [
    "y_test.shape"
   ]
  },
  {
   "cell_type": "markdown",
   "id": "a7009d63",
   "metadata": {},
   "source": [
    "### Model Testing"
   ]
  },
  {
   "cell_type": "code",
   "execution_count": 72,
   "id": "c16d92c3",
   "metadata": {},
   "outputs": [],
   "source": [
    "def Model(model):\n",
    "    model.fit(x_train,y_train)\n",
    "    pred = model.predict(x_test)\n",
    "    print('Accuracy',accuracy_score(y_test,pred))\n",
    "    print(confusion_matrix(y_test,pred))\n",
    "    print(classification_report(y_test,pred))\n",
    "    scr1 = cross_val_score(model,x,y,cv = 5)\n",
    "    print('Cross validation score :',scr1.mean())"
   ]
  },
  {
   "cell_type": "markdown",
   "id": "09b896f2",
   "metadata": {},
   "source": [
    "### Logistic Regression"
   ]
  },
  {
   "cell_type": "code",
   "execution_count": 73,
   "id": "d116d37f",
   "metadata": {},
   "outputs": [
    {
     "name": "stdout",
     "output_type": "stream",
     "text": [
      "Accuracy 0.7758180552332328\n",
      "[[4643 1716]\n",
      " [1182 5386]]\n",
      "              precision    recall  f1-score   support\n",
      "\n",
      "           0       0.80      0.73      0.76      6359\n",
      "           1       0.76      0.82      0.79      6568\n",
      "\n",
      "    accuracy                           0.78     12927\n",
      "   macro avg       0.78      0.78      0.78     12927\n",
      "weighted avg       0.78      0.78      0.78     12927\n",
      "\n",
      "Cross validation score : 0.7666407267332465\n"
     ]
    }
   ],
   "source": [
    "from sklearn.linear_model import LogisticRegression\n",
    "\n",
    "lr = LogisticRegression()\n",
    "Model(lr)"
   ]
  },
  {
   "cell_type": "markdown",
   "id": "73fd88b9",
   "metadata": {},
   "source": [
    "### Random Forest Classifier"
   ]
  },
  {
   "cell_type": "code",
   "execution_count": 74,
   "id": "0310eaa9",
   "metadata": {},
   "outputs": [
    {
     "name": "stdout",
     "output_type": "stream",
     "text": [
      "Accuracy 0.8834996518913901\n",
      "[[5587  772]\n",
      " [ 734 5834]]\n",
      "              precision    recall  f1-score   support\n",
      "\n",
      "           0       0.88      0.88      0.88      6359\n",
      "           1       0.88      0.89      0.89      6568\n",
      "\n",
      "    accuracy                           0.88     12927\n",
      "   macro avg       0.88      0.88      0.88     12927\n",
      "weighted avg       0.88      0.88      0.88     12927\n",
      "\n",
      "Cross validation score : 0.867970390932796\n"
     ]
    }
   ],
   "source": [
    "from sklearn.ensemble import RandomForestClassifier\n",
    "\n",
    "rf = RandomForestClassifier()\n",
    "Model(rf)"
   ]
  },
  {
   "cell_type": "markdown",
   "id": "6d9a059e",
   "metadata": {},
   "source": [
    "### Service Vector Classifier"
   ]
  },
  {
   "cell_type": "code",
   "execution_count": 75,
   "id": "fd6992f2",
   "metadata": {},
   "outputs": [
    {
     "name": "stdout",
     "output_type": "stream",
     "text": [
      "Accuracy 0.8495397230602615\n",
      "[[5107 1252]\n",
      " [ 693 5875]]\n",
      "              precision    recall  f1-score   support\n",
      "\n",
      "           0       0.88      0.80      0.84      6359\n",
      "           1       0.82      0.89      0.86      6568\n",
      "\n",
      "    accuracy                           0.85     12927\n",
      "   macro avg       0.85      0.85      0.85     12927\n",
      "weighted avg       0.85      0.85      0.85     12927\n",
      "\n",
      "Cross validation score : 0.8400027761429352\n"
     ]
    }
   ],
   "source": [
    "from sklearn.svm import SVC\n",
    "\n",
    "sv = SVC()\n",
    "Model(sv)"
   ]
  },
  {
   "cell_type": "markdown",
   "id": "23f62661",
   "metadata": {},
   "source": [
    "### AdaBoost Classifier"
   ]
  },
  {
   "cell_type": "code",
   "execution_count": 76,
   "id": "f9ddbf0e",
   "metadata": {},
   "outputs": [
    {
     "name": "stdout",
     "output_type": "stream",
     "text": [
      "Accuracy 0.8537943838477605\n",
      "[[5185 1174]\n",
      " [ 716 5852]]\n",
      "              precision    recall  f1-score   support\n",
      "\n",
      "           0       0.88      0.82      0.85      6359\n",
      "           1       0.83      0.89      0.86      6568\n",
      "\n",
      "    accuracy                           0.85     12927\n",
      "   macro avg       0.86      0.85      0.85     12927\n",
      "weighted avg       0.86      0.85      0.85     12927\n",
      "\n",
      "Cross validation score : 0.8377984195430119\n"
     ]
    }
   ],
   "source": [
    "from sklearn.ensemble import AdaBoostClassifier\n",
    "\n",
    "ad = AdaBoostClassifier()\n",
    "Model(ad)"
   ]
  },
  {
   "cell_type": "markdown",
   "id": "521984e2",
   "metadata": {},
   "source": [
    "### KNeighbours Classifier"
   ]
  },
  {
   "cell_type": "code",
   "execution_count": 77,
   "id": "456f3512",
   "metadata": {},
   "outputs": [
    {
     "name": "stdout",
     "output_type": "stream",
     "text": [
      "Accuracy 0.8456718496170805\n",
      "[[5253 1106]\n",
      " [ 889 5679]]\n",
      "              precision    recall  f1-score   support\n",
      "\n",
      "           0       0.86      0.83      0.84      6359\n",
      "           1       0.84      0.86      0.85      6568\n",
      "\n",
      "    accuracy                           0.85     12927\n",
      "   macro avg       0.85      0.85      0.85     12927\n",
      "weighted avg       0.85      0.85      0.85     12927\n",
      "\n",
      "Cross validation score : 0.8441110852534697\n"
     ]
    }
   ],
   "source": [
    "from sklearn.neighbors import KNeighborsClassifier\n",
    "\n",
    "kn = KNeighborsClassifier()\n",
    "Model(kn)"
   ]
  },
  {
   "cell_type": "markdown",
   "id": "2cc2b864",
   "metadata": {},
   "source": [
    "##### Accuracy score for Random Forest Classifier is higher than the other Models, 88. Now we doing Hyper parameter tuning and after that we select the final Model."
   ]
  },
  {
   "cell_type": "markdown",
   "id": "4efa8c87",
   "metadata": {},
   "source": [
    "### Hyper Parameter Tuning"
   ]
  },
  {
   "cell_type": "markdown",
   "id": "94438d69",
   "metadata": {},
   "source": [
    "#### Logistic Regression"
   ]
  },
  {
   "cell_type": "code",
   "execution_count": 78,
   "id": "82ed9b78",
   "metadata": {},
   "outputs": [
    {
     "data": {
      "text/plain": [
       "LogisticRegression()"
      ]
     },
     "execution_count": 78,
     "metadata": {},
     "output_type": "execute_result"
    }
   ],
   "source": [
    "LogisticRegression()"
   ]
  },
  {
   "cell_type": "code",
   "execution_count": 79,
   "id": "5ae8f75c",
   "metadata": {},
   "outputs": [],
   "source": [
    "from sklearn.model_selection import GridSearchCV\n",
    "\n",
    "parameters = {'penalty' : ['l1', 'l2', 'elasticnet', 'none'],\n",
    "             'solver' : ['newton-cg', 'lbfgs', 'liblinear', 'sag', 'saga'],\n",
    "             'max_iter' : [1,10,100,1000,10000],\n",
    "             'multi_class' : ['auto', 'ovr', 'multinomial']}"
   ]
  },
  {
   "cell_type": "code",
   "execution_count": 80,
   "id": "f69c23d2",
   "metadata": {},
   "outputs": [
    {
     "data": {
      "text/plain": [
       "{'max_iter': 10, 'multi_class': 'auto', 'penalty': 'l1', 'solver': 'saga'}"
      ]
     },
     "execution_count": 80,
     "metadata": {},
     "output_type": "execute_result"
    }
   ],
   "source": [
    "GSC = GridSearchCV(LogisticRegression(),parameters,cv=5,scoring='accuracy')\n",
    "GSC.fit(x_train,y_train)\n",
    "GSC.best_params_"
   ]
  },
  {
   "cell_type": "code",
   "execution_count": 81,
   "id": "3d36d6dd",
   "metadata": {},
   "outputs": [
    {
     "data": {
      "text/plain": [
       "0.7758180552332328"
      ]
     },
     "execution_count": 81,
     "metadata": {},
     "output_type": "execute_result"
    }
   ],
   "source": [
    "GSC_pred = GSC.best_estimator_.predict(x_test)\n",
    "accuracy_score(y_test,GSC_pred)"
   ]
  },
  {
   "cell_type": "markdown",
   "id": "f962be1d",
   "metadata": {},
   "source": [
    "#### Random Forest Classifier"
   ]
  },
  {
   "cell_type": "code",
   "execution_count": 82,
   "id": "0917ac73",
   "metadata": {},
   "outputs": [
    {
     "data": {
      "text/plain": [
       "RandomForestClassifier()"
      ]
     },
     "execution_count": 82,
     "metadata": {},
     "output_type": "execute_result"
    }
   ],
   "source": [
    "RandomForestClassifier()"
   ]
  },
  {
   "cell_type": "code",
   "execution_count": 83,
   "id": "489dca2d",
   "metadata": {},
   "outputs": [],
   "source": [
    "parameters = {'criterion' : [\"gini\", \"entropy\"],\n",
    "             'max_depth' : [2,4,6,8,10],\n",
    "             'max_features' : [\"auto\", \"sqrt\", \"log2\"],\n",
    "             'class_weight' : [\"balanced\", \"balanced_subsample\"]}"
   ]
  },
  {
   "cell_type": "code",
   "execution_count": 88,
   "id": "b6962977",
   "metadata": {},
   "outputs": [
    {
     "data": {
      "text/plain": [
       "{'class_weight': 'balanced',\n",
       " 'criterion': 'gini',\n",
       " 'max_depth': 10,\n",
       " 'max_features': 'log2'}"
      ]
     },
     "execution_count": 88,
     "metadata": {},
     "output_type": "execute_result"
    }
   ],
   "source": [
    "GSC = GridSearchCV(RandomForestClassifier(),parameters,cv=5,scoring='accuracy')\n",
    "GSC.fit(x_train,y_train)\n",
    "GSC.best_params_"
   ]
  },
  {
   "cell_type": "code",
   "execution_count": 89,
   "id": "a6fc07b2",
   "metadata": {},
   "outputs": [
    {
     "data": {
      "text/plain": [
       "0.8698847373713932"
      ]
     },
     "execution_count": 89,
     "metadata": {},
     "output_type": "execute_result"
    }
   ],
   "source": [
    "GSC_pred = GSC.best_estimator_.predict(x_test)\n",
    "accuracy_score(y_test,GSC_pred)"
   ]
  },
  {
   "cell_type": "markdown",
   "id": "98ff0256",
   "metadata": {},
   "source": [
    "#### KNeighbour Classifier"
   ]
  },
  {
   "cell_type": "code",
   "execution_count": 90,
   "id": "754741b2",
   "metadata": {},
   "outputs": [
    {
     "data": {
      "text/plain": [
       "KNeighborsClassifier()"
      ]
     },
     "execution_count": 90,
     "metadata": {},
     "output_type": "execute_result"
    }
   ],
   "source": [
    "KNeighborsClassifier()"
   ]
  },
  {
   "cell_type": "code",
   "execution_count": 93,
   "id": "534a6e88",
   "metadata": {},
   "outputs": [],
   "source": [
    "parameters = {'weights' : ['uniform', 'distance'],\n",
    "             'algorithm' : ['auto', 'ball_tree', 'kd_tree', 'brute'],\n",
    "             'leaf_size' : [30]}"
   ]
  },
  {
   "cell_type": "code",
   "execution_count": 94,
   "id": "73e19f71",
   "metadata": {},
   "outputs": [
    {
     "data": {
      "text/plain": [
       "{'algorithm': 'auto', 'leaf_size': 30, 'weights': 'distance'}"
      ]
     },
     "execution_count": 94,
     "metadata": {},
     "output_type": "execute_result"
    }
   ],
   "source": [
    "GSC = GridSearchCV(KNeighborsClassifier(),parameters,cv=5,scoring='accuracy')\n",
    "GSC.fit(x_train,y_train)\n",
    "GSC.best_params_"
   ]
  },
  {
   "cell_type": "code",
   "execution_count": 95,
   "id": "d19fe1ed",
   "metadata": {},
   "outputs": [
    {
     "data": {
      "text/plain": [
       "0.8513963023129884"
      ]
     },
     "execution_count": 95,
     "metadata": {},
     "output_type": "execute_result"
    }
   ],
   "source": [
    "GSC_pred = GSC.best_estimator_.predict(x_test)\n",
    "accuracy_score(y_test,GSC_pred)"
   ]
  },
  {
   "cell_type": "markdown",
   "id": "e181ba7a",
   "metadata": {},
   "source": [
    "##### As we seen that after doing hyper parameter tuning accuracy score of all the model get decreased except KNeighbour Classifier."
   ]
  },
  {
   "cell_type": "markdown",
   "id": "3084d2d4",
   "metadata": {},
   "source": [
    "### ROC AUC Plot"
   ]
  },
  {
   "cell_type": "code",
   "execution_count": 96,
   "id": "1182efa3",
   "metadata": {},
   "outputs": [
    {
     "data": {
      "image/png": "[encoded data removed]",
      "text/plain": [
       "<Figure size 432x288 with 1 Axes>"
      ]
     },
     "metadata": {
      "needs_background": "light"
     },
     "output_type": "display_data"
    }
   ],
   "source": [
    "from sklearn.metrics import plot_roc_curve\n",
    "plot_roc_curve(GSC.best_estimator_,x_test,y_test)\n",
    "plt.title('ROC AUC Plot')\n",
    "plt.show()"
   ]
  },
  {
   "cell_type": "markdown",
   "id": "fed74b63",
   "metadata": {},
   "source": [
    "##### We choose the KNeighbour Classifier as our Final Model."
   ]
  },
  {
   "cell_type": "markdown",
   "id": "964ceaf6",
   "metadata": {},
   "source": [
    "### Save the Model"
   ]
  },
  {
   "cell_type": "code",
   "execution_count": 97,
   "id": "ed050c5a",
   "metadata": {},
   "outputs": [
    {
     "data": {
      "text/plain": [
       "['CENSUS.pkl']"
      ]
     },
     "execution_count": 97,
     "metadata": {},
     "output_type": "execute_result"
    }
   ],
   "source": [
    "import joblib\n",
    "joblib.dump(GSC.best_estimator_,'CENSUS.pkl')"
   ]
  },
  {
   "cell_type": "markdown",
   "id": "5c4dbf78",
   "metadata": {},
   "source": [
    "##### We saved the Model."
   ]
  },
  {
   "cell_type": "code",
   "execution_count": null,
   "id": "387e404d",
   "metadata": {},
   "outputs": [],
   "source": []
  }
 ],
 "metadata": {
  "kernelspec": {
   "display_name": "Python 3",
   "language": "python",
   "name": "python3"
  },
  "language_info": {
   "codemirror_mode": {
    "name": "ipython",
    "version": 3
   },
   "file_extension": ".py",
   "mimetype": "text/x-python",
   "name": "python",
   "nbconvert_exporter": "python",
   "pygments_lexer": "ipython3",
   "version": "3.8.8"
  }
 },
 "nbformat": 4,
 "nbformat_minor": 5
}

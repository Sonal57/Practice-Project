{
 "cells": [
  {
   "cell_type": "markdown",
   "id": "2247e20e",
   "metadata": {},
   "source": [
    "## GLOBAL POWER PLANT DATABASE"
   ]
  },
  {
   "cell_type": "code",
   "execution_count": 1,
   "id": "1b3c974c",
   "metadata": {},
   "outputs": [],
   "source": [
    "import numpy as np\n",
    "import pandas as pd\n",
    "import matplotlib.pyplot as plt\n",
    "import seaborn as sns\n",
    "\n",
    "import warnings\n",
    "warnings.filterwarnings('ignore')"
   ]
  },
  {
   "cell_type": "code",
   "execution_count": 2,
   "id": "4940aacc",
   "metadata": {},
   "outputs": [],
   "source": [
    "pp = pd.read_csv('global_power_plant.csv')\n",
    "pd.options.display.max_columns=None"
   ]
  },
  {
   "cell_type": "code",
   "execution_count": 3,
   "id": "acf3a8a3",
   "metadata": {},
   "outputs": [
    {
     "data": {
      "text/html": [
       "<div>\n",
       "<style scoped>\n",
       "    .dataframe tbody tr th:only-of-type {\n",
       "        vertical-align: middle;\n",
       "    }\n",
       "\n",
       "    .dataframe tbody tr th {\n",
       "        vertical-align: top;\n",
       "    }\n",
       "\n",
       "    .dataframe thead th {\n",
       "        text-align: right;\n",
       "    }\n",
       "</style>\n",
       "<table border=\"1\" class=\"dataframe\">\n",
       "  <thead>\n",
       "    <tr style=\"text-align: right;\">\n",
       "      <th></th>\n",
       "      <th>country</th>\n",
       "      <th>country_long</th>\n",
       "      <th>name</th>\n",
       "      <th>gppd_idnr</th>\n",
       "      <th>capacity_mw</th>\n",
       "      <th>latitude</th>\n",
       "      <th>longitude</th>\n",
       "      <th>primary_fuel</th>\n",
       "      <th>other_fuel1</th>\n",
       "      <th>other_fuel2</th>\n",
       "      <th>other_fuel3</th>\n",
       "      <th>commissioning_year</th>\n",
       "      <th>owner</th>\n",
       "      <th>source</th>\n",
       "      <th>url</th>\n",
       "      <th>geolocation_source</th>\n",
       "      <th>wepp_id</th>\n",
       "      <th>year_of_capacity_data</th>\n",
       "      <th>generation_gwh_2013</th>\n",
       "      <th>generation_gwh_2014</th>\n",
       "      <th>generation_gwh_2015</th>\n",
       "      <th>generation_gwh_2016</th>\n",
       "      <th>generation_gwh_2017</th>\n",
       "      <th>generation_gwh_2018</th>\n",
       "      <th>generation_gwh_2019</th>\n",
       "      <th>generation_data_source</th>\n",
       "      <th>estimated_generation_gwh</th>\n",
       "    </tr>\n",
       "  </thead>\n",
       "  <tbody>\n",
       "    <tr>\n",
       "      <th>0</th>\n",
       "      <td>IND</td>\n",
       "      <td>India</td>\n",
       "      <td>ACME Solar Tower</td>\n",
       "      <td>WRI1020239</td>\n",
       "      <td>2.5</td>\n",
       "      <td>28.1839</td>\n",
       "      <td>73.2407</td>\n",
       "      <td>Solar</td>\n",
       "      <td>NaN</td>\n",
       "      <td>NaN</td>\n",
       "      <td>NaN</td>\n",
       "      <td>2011.0</td>\n",
       "      <td>Solar Paces</td>\n",
       "      <td>National Renewable Energy Laboratory</td>\n",
       "      <td>http://www.nrel.gov/csp/solarpaces/project_det...</td>\n",
       "      <td>National Renewable Energy Laboratory</td>\n",
       "      <td>NaN</td>\n",
       "      <td>NaN</td>\n",
       "      <td>NaN</td>\n",
       "      <td>NaN</td>\n",
       "      <td>NaN</td>\n",
       "      <td>NaN</td>\n",
       "      <td>NaN</td>\n",
       "      <td>NaN</td>\n",
       "      <td>NaN</td>\n",
       "      <td>NaN</td>\n",
       "      <td>NaN</td>\n",
       "    </tr>\n",
       "    <tr>\n",
       "      <th>1</th>\n",
       "      <td>IND</td>\n",
       "      <td>India</td>\n",
       "      <td>ADITYA CEMENT WORKS</td>\n",
       "      <td>WRI1019881</td>\n",
       "      <td>98.0</td>\n",
       "      <td>24.7663</td>\n",
       "      <td>74.6090</td>\n",
       "      <td>Coal</td>\n",
       "      <td>NaN</td>\n",
       "      <td>NaN</td>\n",
       "      <td>NaN</td>\n",
       "      <td>NaN</td>\n",
       "      <td>Ultratech Cement ltd</td>\n",
       "      <td>Ultratech Cement ltd</td>\n",
       "      <td>http://www.ultratechcement.com/</td>\n",
       "      <td>WRI</td>\n",
       "      <td>NaN</td>\n",
       "      <td>NaN</td>\n",
       "      <td>NaN</td>\n",
       "      <td>NaN</td>\n",
       "      <td>NaN</td>\n",
       "      <td>NaN</td>\n",
       "      <td>NaN</td>\n",
       "      <td>NaN</td>\n",
       "      <td>NaN</td>\n",
       "      <td>NaN</td>\n",
       "      <td>NaN</td>\n",
       "    </tr>\n",
       "    <tr>\n",
       "      <th>2</th>\n",
       "      <td>IND</td>\n",
       "      <td>India</td>\n",
       "      <td>AES Saurashtra Windfarms</td>\n",
       "      <td>WRI1026669</td>\n",
       "      <td>39.2</td>\n",
       "      <td>21.9038</td>\n",
       "      <td>69.3732</td>\n",
       "      <td>Wind</td>\n",
       "      <td>NaN</td>\n",
       "      <td>NaN</td>\n",
       "      <td>NaN</td>\n",
       "      <td>NaN</td>\n",
       "      <td>AES</td>\n",
       "      <td>CDM</td>\n",
       "      <td>https://cdm.unfccc.int/Projects/DB/DNV-CUK1328...</td>\n",
       "      <td>WRI</td>\n",
       "      <td>NaN</td>\n",
       "      <td>NaN</td>\n",
       "      <td>NaN</td>\n",
       "      <td>NaN</td>\n",
       "      <td>NaN</td>\n",
       "      <td>NaN</td>\n",
       "      <td>NaN</td>\n",
       "      <td>NaN</td>\n",
       "      <td>NaN</td>\n",
       "      <td>NaN</td>\n",
       "      <td>NaN</td>\n",
       "    </tr>\n",
       "    <tr>\n",
       "      <th>3</th>\n",
       "      <td>IND</td>\n",
       "      <td>India</td>\n",
       "      <td>AGARTALA GT</td>\n",
       "      <td>IND0000001</td>\n",
       "      <td>135.0</td>\n",
       "      <td>23.8712</td>\n",
       "      <td>91.3602</td>\n",
       "      <td>Gas</td>\n",
       "      <td>NaN</td>\n",
       "      <td>NaN</td>\n",
       "      <td>NaN</td>\n",
       "      <td>2004.0</td>\n",
       "      <td>NaN</td>\n",
       "      <td>Central Electricity Authority</td>\n",
       "      <td>http://www.cea.nic.in/</td>\n",
       "      <td>WRI</td>\n",
       "      <td>NaN</td>\n",
       "      <td>2019.0</td>\n",
       "      <td>NaN</td>\n",
       "      <td>617.789264</td>\n",
       "      <td>843.747000</td>\n",
       "      <td>886.004428</td>\n",
       "      <td>663.774500</td>\n",
       "      <td>626.239128</td>\n",
       "      <td>NaN</td>\n",
       "      <td>Central Electricity Authority</td>\n",
       "      <td>NaN</td>\n",
       "    </tr>\n",
       "    <tr>\n",
       "      <th>4</th>\n",
       "      <td>IND</td>\n",
       "      <td>India</td>\n",
       "      <td>AKALTARA TPP</td>\n",
       "      <td>IND0000002</td>\n",
       "      <td>1800.0</td>\n",
       "      <td>21.9603</td>\n",
       "      <td>82.4091</td>\n",
       "      <td>Coal</td>\n",
       "      <td>Oil</td>\n",
       "      <td>NaN</td>\n",
       "      <td>NaN</td>\n",
       "      <td>2015.0</td>\n",
       "      <td>NaN</td>\n",
       "      <td>Central Electricity Authority</td>\n",
       "      <td>http://www.cea.nic.in/</td>\n",
       "      <td>WRI</td>\n",
       "      <td>NaN</td>\n",
       "      <td>2019.0</td>\n",
       "      <td>NaN</td>\n",
       "      <td>3035.550000</td>\n",
       "      <td>5916.370000</td>\n",
       "      <td>6243.000000</td>\n",
       "      <td>5385.579736</td>\n",
       "      <td>7279.000000</td>\n",
       "      <td>NaN</td>\n",
       "      <td>Central Electricity Authority</td>\n",
       "      <td>NaN</td>\n",
       "    </tr>\n",
       "    <tr>\n",
       "      <th>...</th>\n",
       "      <td>...</td>\n",
       "      <td>...</td>\n",
       "      <td>...</td>\n",
       "      <td>...</td>\n",
       "      <td>...</td>\n",
       "      <td>...</td>\n",
       "      <td>...</td>\n",
       "      <td>...</td>\n",
       "      <td>...</td>\n",
       "      <td>...</td>\n",
       "      <td>...</td>\n",
       "      <td>...</td>\n",
       "      <td>...</td>\n",
       "      <td>...</td>\n",
       "      <td>...</td>\n",
       "      <td>...</td>\n",
       "      <td>...</td>\n",
       "      <td>...</td>\n",
       "      <td>...</td>\n",
       "      <td>...</td>\n",
       "      <td>...</td>\n",
       "      <td>...</td>\n",
       "      <td>...</td>\n",
       "      <td>...</td>\n",
       "      <td>...</td>\n",
       "      <td>...</td>\n",
       "      <td>...</td>\n",
       "    </tr>\n",
       "    <tr>\n",
       "      <th>902</th>\n",
       "      <td>IND</td>\n",
       "      <td>India</td>\n",
       "      <td>YERMARUS TPP</td>\n",
       "      <td>IND0000513</td>\n",
       "      <td>1600.0</td>\n",
       "      <td>16.2949</td>\n",
       "      <td>77.3568</td>\n",
       "      <td>Coal</td>\n",
       "      <td>Oil</td>\n",
       "      <td>NaN</td>\n",
       "      <td>NaN</td>\n",
       "      <td>2016.0</td>\n",
       "      <td>NaN</td>\n",
       "      <td>Central Electricity Authority</td>\n",
       "      <td>http://www.cea.nic.in/</td>\n",
       "      <td>WRI</td>\n",
       "      <td>NaN</td>\n",
       "      <td>2019.0</td>\n",
       "      <td>NaN</td>\n",
       "      <td>NaN</td>\n",
       "      <td>0.994875</td>\n",
       "      <td>233.596650</td>\n",
       "      <td>865.400000</td>\n",
       "      <td>686.500000</td>\n",
       "      <td>NaN</td>\n",
       "      <td>Central Electricity Authority</td>\n",
       "      <td>NaN</td>\n",
       "    </tr>\n",
       "    <tr>\n",
       "      <th>903</th>\n",
       "      <td>IND</td>\n",
       "      <td>India</td>\n",
       "      <td>Yelesandra Solar Power Plant</td>\n",
       "      <td>WRI1026222</td>\n",
       "      <td>3.0</td>\n",
       "      <td>12.8932</td>\n",
       "      <td>78.1654</td>\n",
       "      <td>Solar</td>\n",
       "      <td>NaN</td>\n",
       "      <td>NaN</td>\n",
       "      <td>NaN</td>\n",
       "      <td>NaN</td>\n",
       "      <td>Karnataka Power Corporation Limited</td>\n",
       "      <td>Karnataka Power Corporation Limited</td>\n",
       "      <td>http://karnatakapower.com</td>\n",
       "      <td>Industry About</td>\n",
       "      <td>NaN</td>\n",
       "      <td>NaN</td>\n",
       "      <td>NaN</td>\n",
       "      <td>NaN</td>\n",
       "      <td>NaN</td>\n",
       "      <td>NaN</td>\n",
       "      <td>NaN</td>\n",
       "      <td>NaN</td>\n",
       "      <td>NaN</td>\n",
       "      <td>NaN</td>\n",
       "      <td>NaN</td>\n",
       "    </tr>\n",
       "    <tr>\n",
       "      <th>904</th>\n",
       "      <td>IND</td>\n",
       "      <td>India</td>\n",
       "      <td>Yelisirur wind power project</td>\n",
       "      <td>WRI1026776</td>\n",
       "      <td>25.5</td>\n",
       "      <td>15.2758</td>\n",
       "      <td>75.5811</td>\n",
       "      <td>Wind</td>\n",
       "      <td>NaN</td>\n",
       "      <td>NaN</td>\n",
       "      <td>NaN</td>\n",
       "      <td>NaN</td>\n",
       "      <td>NaN</td>\n",
       "      <td>CDM</td>\n",
       "      <td>https://cdm.unfccc.int/Projects/DB/TUEV-RHEIN1...</td>\n",
       "      <td>WRI</td>\n",
       "      <td>NaN</td>\n",
       "      <td>NaN</td>\n",
       "      <td>NaN</td>\n",
       "      <td>NaN</td>\n",
       "      <td>NaN</td>\n",
       "      <td>NaN</td>\n",
       "      <td>NaN</td>\n",
       "      <td>NaN</td>\n",
       "      <td>NaN</td>\n",
       "      <td>NaN</td>\n",
       "      <td>NaN</td>\n",
       "    </tr>\n",
       "    <tr>\n",
       "      <th>905</th>\n",
       "      <td>IND</td>\n",
       "      <td>India</td>\n",
       "      <td>ZAWAR MINES</td>\n",
       "      <td>WRI1019901</td>\n",
       "      <td>80.0</td>\n",
       "      <td>24.3500</td>\n",
       "      <td>73.7477</td>\n",
       "      <td>Coal</td>\n",
       "      <td>NaN</td>\n",
       "      <td>NaN</td>\n",
       "      <td>NaN</td>\n",
       "      <td>NaN</td>\n",
       "      <td>Hindustan Zinc ltd</td>\n",
       "      <td>Hindustan Zinc ltd</td>\n",
       "      <td>http://www.hzlindia.com/</td>\n",
       "      <td>WRI</td>\n",
       "      <td>NaN</td>\n",
       "      <td>NaN</td>\n",
       "      <td>NaN</td>\n",
       "      <td>NaN</td>\n",
       "      <td>NaN</td>\n",
       "      <td>NaN</td>\n",
       "      <td>NaN</td>\n",
       "      <td>NaN</td>\n",
       "      <td>NaN</td>\n",
       "      <td>NaN</td>\n",
       "      <td>NaN</td>\n",
       "    </tr>\n",
       "    <tr>\n",
       "      <th>906</th>\n",
       "      <td>IND</td>\n",
       "      <td>India</td>\n",
       "      <td>iEnergy Theni Wind Farm</td>\n",
       "      <td>WRI1026761</td>\n",
       "      <td>16.5</td>\n",
       "      <td>9.9344</td>\n",
       "      <td>77.4768</td>\n",
       "      <td>Wind</td>\n",
       "      <td>NaN</td>\n",
       "      <td>NaN</td>\n",
       "      <td>NaN</td>\n",
       "      <td>NaN</td>\n",
       "      <td>iEnergy Wind Farms</td>\n",
       "      <td>CDM</td>\n",
       "      <td>https://cdm.unfccc.int/Projects/DB/RWTUV134503...</td>\n",
       "      <td>WRI</td>\n",
       "      <td>NaN</td>\n",
       "      <td>NaN</td>\n",
       "      <td>NaN</td>\n",
       "      <td>NaN</td>\n",
       "      <td>NaN</td>\n",
       "      <td>NaN</td>\n",
       "      <td>NaN</td>\n",
       "      <td>NaN</td>\n",
       "      <td>NaN</td>\n",
       "      <td>NaN</td>\n",
       "      <td>NaN</td>\n",
       "    </tr>\n",
       "  </tbody>\n",
       "</table>\n",
       "<p>907 rows × 27 columns</p>\n",
       "</div>"
      ],
      "text/plain": [
       "    country country_long                          name   gppd_idnr  \\\n",
       "0       IND        India              ACME Solar Tower  WRI1020239   \n",
       "1       IND        India           ADITYA CEMENT WORKS  WRI1019881   \n",
       "2       IND        India      AES Saurashtra Windfarms  WRI1026669   \n",
       "3       IND        India                   AGARTALA GT  IND0000001   \n",
       "4       IND        India                  AKALTARA TPP  IND0000002   \n",
       "..      ...          ...                           ...         ...   \n",
       "902     IND        India                  YERMARUS TPP  IND0000513   \n",
       "903     IND        India  Yelesandra Solar Power Plant  WRI1026222   \n",
       "904     IND        India  Yelisirur wind power project  WRI1026776   \n",
       "905     IND        India                   ZAWAR MINES  WRI1019901   \n",
       "906     IND        India       iEnergy Theni Wind Farm  WRI1026761   \n",
       "\n",
       "     capacity_mw  latitude  longitude primary_fuel other_fuel1 other_fuel2  \\\n",
       "0            2.5   28.1839    73.2407        Solar         NaN         NaN   \n",
       "1           98.0   24.7663    74.6090         Coal         NaN         NaN   \n",
       "2           39.2   21.9038    69.3732         Wind         NaN         NaN   \n",
       "3          135.0   23.8712    91.3602          Gas         NaN         NaN   \n",
       "4         1800.0   21.9603    82.4091         Coal         Oil         NaN   \n",
       "..           ...       ...        ...          ...         ...         ...   \n",
       "902       1600.0   16.2949    77.3568         Coal         Oil         NaN   \n",
       "903          3.0   12.8932    78.1654        Solar         NaN         NaN   \n",
       "904         25.5   15.2758    75.5811         Wind         NaN         NaN   \n",
       "905         80.0   24.3500    73.7477         Coal         NaN         NaN   \n",
       "906         16.5    9.9344    77.4768         Wind         NaN         NaN   \n",
       "\n",
       "     other_fuel3  commissioning_year                                owner  \\\n",
       "0            NaN              2011.0                          Solar Paces   \n",
       "1            NaN                 NaN                 Ultratech Cement ltd   \n",
       "2            NaN                 NaN                                  AES   \n",
       "3            NaN              2004.0                                  NaN   \n",
       "4            NaN              2015.0                                  NaN   \n",
       "..           ...                 ...                                  ...   \n",
       "902          NaN              2016.0                                  NaN   \n",
       "903          NaN                 NaN  Karnataka Power Corporation Limited   \n",
       "904          NaN                 NaN                                  NaN   \n",
       "905          NaN                 NaN                   Hindustan Zinc ltd   \n",
       "906          NaN                 NaN                   iEnergy Wind Farms   \n",
       "\n",
       "                                   source  \\\n",
       "0    National Renewable Energy Laboratory   \n",
       "1                    Ultratech Cement ltd   \n",
       "2                                     CDM   \n",
       "3           Central Electricity Authority   \n",
       "4           Central Electricity Authority   \n",
       "..                                    ...   \n",
       "902         Central Electricity Authority   \n",
       "903   Karnataka Power Corporation Limited   \n",
       "904                                   CDM   \n",
       "905                    Hindustan Zinc ltd   \n",
       "906                                   CDM   \n",
       "\n",
       "                                                   url  \\\n",
       "0    http://www.nrel.gov/csp/solarpaces/project_det...   \n",
       "1                      http://www.ultratechcement.com/   \n",
       "2    https://cdm.unfccc.int/Projects/DB/DNV-CUK1328...   \n",
       "3                               http://www.cea.nic.in/   \n",
       "4                               http://www.cea.nic.in/   \n",
       "..                                                 ...   \n",
       "902                             http://www.cea.nic.in/   \n",
       "903                          http://karnatakapower.com   \n",
       "904  https://cdm.unfccc.int/Projects/DB/TUEV-RHEIN1...   \n",
       "905                           http://www.hzlindia.com/   \n",
       "906  https://cdm.unfccc.int/Projects/DB/RWTUV134503...   \n",
       "\n",
       "                       geolocation_source  wepp_id  year_of_capacity_data  \\\n",
       "0    National Renewable Energy Laboratory      NaN                    NaN   \n",
       "1                                     WRI      NaN                    NaN   \n",
       "2                                     WRI      NaN                    NaN   \n",
       "3                                     WRI      NaN                 2019.0   \n",
       "4                                     WRI      NaN                 2019.0   \n",
       "..                                    ...      ...                    ...   \n",
       "902                                   WRI      NaN                 2019.0   \n",
       "903                        Industry About      NaN                    NaN   \n",
       "904                                   WRI      NaN                    NaN   \n",
       "905                                   WRI      NaN                    NaN   \n",
       "906                                   WRI      NaN                    NaN   \n",
       "\n",
       "     generation_gwh_2013  generation_gwh_2014  generation_gwh_2015  \\\n",
       "0                    NaN                  NaN                  NaN   \n",
       "1                    NaN                  NaN                  NaN   \n",
       "2                    NaN                  NaN                  NaN   \n",
       "3                    NaN           617.789264           843.747000   \n",
       "4                    NaN          3035.550000          5916.370000   \n",
       "..                   ...                  ...                  ...   \n",
       "902                  NaN                  NaN             0.994875   \n",
       "903                  NaN                  NaN                  NaN   \n",
       "904                  NaN                  NaN                  NaN   \n",
       "905                  NaN                  NaN                  NaN   \n",
       "906                  NaN                  NaN                  NaN   \n",
       "\n",
       "     generation_gwh_2016  generation_gwh_2017  generation_gwh_2018  \\\n",
       "0                    NaN                  NaN                  NaN   \n",
       "1                    NaN                  NaN                  NaN   \n",
       "2                    NaN                  NaN                  NaN   \n",
       "3             886.004428           663.774500           626.239128   \n",
       "4            6243.000000          5385.579736          7279.000000   \n",
       "..                   ...                  ...                  ...   \n",
       "902           233.596650           865.400000           686.500000   \n",
       "903                  NaN                  NaN                  NaN   \n",
       "904                  NaN                  NaN                  NaN   \n",
       "905                  NaN                  NaN                  NaN   \n",
       "906                  NaN                  NaN                  NaN   \n",
       "\n",
       "     generation_gwh_2019         generation_data_source  \\\n",
       "0                    NaN                            NaN   \n",
       "1                    NaN                            NaN   \n",
       "2                    NaN                            NaN   \n",
       "3                    NaN  Central Electricity Authority   \n",
       "4                    NaN  Central Electricity Authority   \n",
       "..                   ...                            ...   \n",
       "902                  NaN  Central Electricity Authority   \n",
       "903                  NaN                            NaN   \n",
       "904                  NaN                            NaN   \n",
       "905                  NaN                            NaN   \n",
       "906                  NaN                            NaN   \n",
       "\n",
       "     estimated_generation_gwh  \n",
       "0                         NaN  \n",
       "1                         NaN  \n",
       "2                         NaN  \n",
       "3                         NaN  \n",
       "4                         NaN  \n",
       "..                        ...  \n",
       "902                       NaN  \n",
       "903                       NaN  \n",
       "904                       NaN  \n",
       "905                       NaN  \n",
       "906                       NaN  \n",
       "\n",
       "[907 rows x 27 columns]"
      ]
     },
     "execution_count": 3,
     "metadata": {},
     "output_type": "execute_result"
    }
   ],
   "source": [
    "pp"
   ]
  },
  {
   "cell_type": "markdown",
   "id": "73b29e2e",
   "metadata": {},
   "source": [
    "##### In given dataset we have 907 rows and 27 columns."
   ]
  },
  {
   "cell_type": "markdown",
   "id": "0d7d2342",
   "metadata": {},
   "source": [
    "##### About the columns\n",
    "\n",
    "##### country -  It represents the country code.\n",
    "\n",
    "##### name - Name of the power plants.\n",
    "\n",
    "##### gppd_idnr - Identifier code of a power plant.\n",
    "\n",
    "##### capacity_mw -  Electrical generating capacity of power plant.\n",
    "\n",
    "##### latitude - This column shows the latitude of a power plant.\n",
    "\n",
    "##### longitude - This column shows the longitude of power plant.\n",
    "\n",
    "##### primary_fuel - Energy source used in primary electricity generation.\n",
    "\n",
    "##### commissioning_year - This column shows the year of plant operation.\n",
    "\n",
    "##### owner - This column shows the majority of shareholder of power plant.\n",
    "\n",
    "##### source - Source of data.\n",
    "\n",
    "##### url - This column shows the link of web document.\n",
    "\n",
    "##### geolocation_source - Geological information of plant.\n",
    "\n",
    "##### generation_data_source - Reported generation information.\n",
    "\n",
    "##### estimated_generation_gwh - Estimated generation electricity in gigawatt."
   ]
  },
  {
   "cell_type": "code",
   "execution_count": 4,
   "id": "ddf06677",
   "metadata": {},
   "outputs": [
    {
     "data": {
      "text/plain": [
       "country                      object\n",
       "country_long                 object\n",
       "name                         object\n",
       "gppd_idnr                    object\n",
       "capacity_mw                 float64\n",
       "latitude                    float64\n",
       "longitude                   float64\n",
       "primary_fuel                 object\n",
       "other_fuel1                  object\n",
       "other_fuel2                  object\n",
       "other_fuel3                 float64\n",
       "commissioning_year          float64\n",
       "owner                        object\n",
       "source                       object\n",
       "url                          object\n",
       "geolocation_source           object\n",
       "wepp_id                     float64\n",
       "year_of_capacity_data       float64\n",
       "generation_gwh_2013         float64\n",
       "generation_gwh_2014         float64\n",
       "generation_gwh_2015         float64\n",
       "generation_gwh_2016         float64\n",
       "generation_gwh_2017         float64\n",
       "generation_gwh_2018         float64\n",
       "generation_gwh_2019         float64\n",
       "generation_data_source       object\n",
       "estimated_generation_gwh    float64\n",
       "dtype: object"
      ]
     },
     "execution_count": 4,
     "metadata": {},
     "output_type": "execute_result"
    }
   ],
   "source": [
    "pp.dtypes"
   ]
  },
  {
   "cell_type": "code",
   "execution_count": 5,
   "id": "97e88663",
   "metadata": {},
   "outputs": [
    {
     "data": {
      "text/plain": [
       "country                       0\n",
       "country_long                  0\n",
       "name                          0\n",
       "gppd_idnr                     0\n",
       "capacity_mw                   0\n",
       "latitude                     46\n",
       "longitude                    46\n",
       "primary_fuel                  0\n",
       "other_fuel1                 709\n",
       "other_fuel2                 906\n",
       "other_fuel3                 907\n",
       "commissioning_year          380\n",
       "owner                       565\n",
       "source                        0\n",
       "url                           0\n",
       "geolocation_source           19\n",
       "wepp_id                     907\n",
       "year_of_capacity_data       388\n",
       "generation_gwh_2013         907\n",
       "generation_gwh_2014         509\n",
       "generation_gwh_2015         485\n",
       "generation_gwh_2016         473\n",
       "generation_gwh_2017         467\n",
       "generation_gwh_2018         459\n",
       "generation_gwh_2019         907\n",
       "generation_data_source      458\n",
       "estimated_generation_gwh    907\n",
       "dtype: int64"
      ]
     },
     "execution_count": 5,
     "metadata": {},
     "output_type": "execute_result"
    }
   ],
   "source": [
    "pp.isnull().sum()"
   ]
  },
  {
   "cell_type": "markdown",
   "id": "54475b9c",
   "metadata": {},
   "source": [
    "##### Power plant dataset have maximum null values in multiple columns."
   ]
  },
  {
   "cell_type": "code",
   "execution_count": 6,
   "id": "bfc34214",
   "metadata": {},
   "outputs": [],
   "source": [
    "l = ['country_long','other_fuel1','other_fuel2','other_fuel3','wepp_id','generation_gwh_2013',\n",
    "     'generation_gwh_2019','estimated_generation_gwh','geolocation_source','owner']\n",
    "\n",
    "pp.drop(l,axis=1,inplace=True)"
   ]
  },
  {
   "cell_type": "code",
   "execution_count": 7,
   "id": "8100bc1b",
   "metadata": {},
   "outputs": [
    {
     "data": {
      "text/plain": [
       "Index(['country', 'name', 'gppd_idnr', 'capacity_mw', 'latitude', 'longitude',\n",
       "       'primary_fuel', 'commissioning_year', 'source', 'url',\n",
       "       'year_of_capacity_data', 'generation_gwh_2014', 'generation_gwh_2015',\n",
       "       'generation_gwh_2016', 'generation_gwh_2017', 'generation_gwh_2018',\n",
       "       'generation_data_source'],\n",
       "      dtype='object')"
      ]
     },
     "execution_count": 7,
     "metadata": {},
     "output_type": "execute_result"
    }
   ],
   "source": [
    "pp.columns"
   ]
  },
  {
   "cell_type": "markdown",
   "id": "f8fd09b7",
   "metadata": {},
   "source": [
    "### Filling NaN values"
   ]
  },
  {
   "cell_type": "code",
   "execution_count": 8,
   "id": "b454c367",
   "metadata": {},
   "outputs": [],
   "source": [
    "pp['latitude'].fillna(pp['latitude'].mean(),inplace=True)\n",
    "pp['longitude'].fillna(pp['longitude'].mean(),inplace=True)\n",
    "pp['generation_gwh_2014'].fillna(pp['generation_gwh_2014'].mean(),inplace=True)\n",
    "pp['generation_gwh_2015'].fillna(pp['generation_gwh_2015'].mean(),inplace=True)\n",
    "pp['generation_gwh_2016'].fillna(pp['generation_gwh_2016'].mean(),inplace=True)\n",
    "pp['generation_gwh_2017'].fillna(pp['generation_gwh_2017'].mean(),inplace=True)\n",
    "pp['generation_gwh_2018'].fillna(pp['generation_gwh_2018'].mean(),inplace=True)\n",
    "pp['commissioning_year'].fillna(pp['commissioning_year'].mean(),inplace=True)\n",
    "pp['year_of_capacity_data'].fillna(pp['year_of_capacity_data'].mean(),inplace=True)"
   ]
  },
  {
   "cell_type": "code",
   "execution_count": 9,
   "id": "f8cd0990",
   "metadata": {
    "scrolled": false
   },
   "outputs": [],
   "source": [
    "pp['generation_data_source'].fillna(pp['generation_data_source'].mode()[0],inplace=True)"
   ]
  },
  {
   "cell_type": "code",
   "execution_count": 10,
   "id": "1741d873",
   "metadata": {},
   "outputs": [
    {
     "data": {
      "text/html": [
       "<div>\n",
       "<style scoped>\n",
       "    .dataframe tbody tr th:only-of-type {\n",
       "        vertical-align: middle;\n",
       "    }\n",
       "\n",
       "    .dataframe tbody tr th {\n",
       "        vertical-align: top;\n",
       "    }\n",
       "\n",
       "    .dataframe thead th {\n",
       "        text-align: right;\n",
       "    }\n",
       "</style>\n",
       "<table border=\"1\" class=\"dataframe\">\n",
       "  <thead>\n",
       "    <tr style=\"text-align: right;\">\n",
       "      <th></th>\n",
       "      <th>country</th>\n",
       "      <th>name</th>\n",
       "      <th>gppd_idnr</th>\n",
       "      <th>capacity_mw</th>\n",
       "      <th>latitude</th>\n",
       "      <th>longitude</th>\n",
       "      <th>primary_fuel</th>\n",
       "      <th>commissioning_year</th>\n",
       "      <th>source</th>\n",
       "      <th>url</th>\n",
       "      <th>year_of_capacity_data</th>\n",
       "      <th>generation_gwh_2014</th>\n",
       "      <th>generation_gwh_2015</th>\n",
       "      <th>generation_gwh_2016</th>\n",
       "      <th>generation_gwh_2017</th>\n",
       "      <th>generation_gwh_2018</th>\n",
       "      <th>generation_data_source</th>\n",
       "    </tr>\n",
       "  </thead>\n",
       "  <tbody>\n",
       "    <tr>\n",
       "      <th>0</th>\n",
       "      <td>IND</td>\n",
       "      <td>ACME Solar Tower</td>\n",
       "      <td>WRI1020239</td>\n",
       "      <td>2.5</td>\n",
       "      <td>28.1839</td>\n",
       "      <td>73.2407</td>\n",
       "      <td>Solar</td>\n",
       "      <td>2011.000000</td>\n",
       "      <td>National Renewable Energy Laboratory</td>\n",
       "      <td>http://www.nrel.gov/csp/solarpaces/project_det...</td>\n",
       "      <td>2019.0</td>\n",
       "      <td>2431.823590</td>\n",
       "      <td>2428.226946</td>\n",
       "      <td>2467.936859</td>\n",
       "      <td>2547.759305</td>\n",
       "      <td>2600.804099</td>\n",
       "      <td>Central Electricity Authority</td>\n",
       "    </tr>\n",
       "    <tr>\n",
       "      <th>1</th>\n",
       "      <td>IND</td>\n",
       "      <td>ADITYA CEMENT WORKS</td>\n",
       "      <td>WRI1019881</td>\n",
       "      <td>98.0</td>\n",
       "      <td>24.7663</td>\n",
       "      <td>74.6090</td>\n",
       "      <td>Coal</td>\n",
       "      <td>1997.091082</td>\n",
       "      <td>Ultratech Cement ltd</td>\n",
       "      <td>http://www.ultratechcement.com/</td>\n",
       "      <td>2019.0</td>\n",
       "      <td>2431.823590</td>\n",
       "      <td>2428.226946</td>\n",
       "      <td>2467.936859</td>\n",
       "      <td>2547.759305</td>\n",
       "      <td>2600.804099</td>\n",
       "      <td>Central Electricity Authority</td>\n",
       "    </tr>\n",
       "    <tr>\n",
       "      <th>2</th>\n",
       "      <td>IND</td>\n",
       "      <td>AES Saurashtra Windfarms</td>\n",
       "      <td>WRI1026669</td>\n",
       "      <td>39.2</td>\n",
       "      <td>21.9038</td>\n",
       "      <td>69.3732</td>\n",
       "      <td>Wind</td>\n",
       "      <td>1997.091082</td>\n",
       "      <td>CDM</td>\n",
       "      <td>https://cdm.unfccc.int/Projects/DB/DNV-CUK1328...</td>\n",
       "      <td>2019.0</td>\n",
       "      <td>2431.823590</td>\n",
       "      <td>2428.226946</td>\n",
       "      <td>2467.936859</td>\n",
       "      <td>2547.759305</td>\n",
       "      <td>2600.804099</td>\n",
       "      <td>Central Electricity Authority</td>\n",
       "    </tr>\n",
       "    <tr>\n",
       "      <th>3</th>\n",
       "      <td>IND</td>\n",
       "      <td>AGARTALA GT</td>\n",
       "      <td>IND0000001</td>\n",
       "      <td>135.0</td>\n",
       "      <td>23.8712</td>\n",
       "      <td>91.3602</td>\n",
       "      <td>Gas</td>\n",
       "      <td>2004.000000</td>\n",
       "      <td>Central Electricity Authority</td>\n",
       "      <td>http://www.cea.nic.in/</td>\n",
       "      <td>2019.0</td>\n",
       "      <td>617.789264</td>\n",
       "      <td>843.747000</td>\n",
       "      <td>886.004428</td>\n",
       "      <td>663.774500</td>\n",
       "      <td>626.239128</td>\n",
       "      <td>Central Electricity Authority</td>\n",
       "    </tr>\n",
       "    <tr>\n",
       "      <th>4</th>\n",
       "      <td>IND</td>\n",
       "      <td>AKALTARA TPP</td>\n",
       "      <td>IND0000002</td>\n",
       "      <td>1800.0</td>\n",
       "      <td>21.9603</td>\n",
       "      <td>82.4091</td>\n",
       "      <td>Coal</td>\n",
       "      <td>2015.000000</td>\n",
       "      <td>Central Electricity Authority</td>\n",
       "      <td>http://www.cea.nic.in/</td>\n",
       "      <td>2019.0</td>\n",
       "      <td>3035.550000</td>\n",
       "      <td>5916.370000</td>\n",
       "      <td>6243.000000</td>\n",
       "      <td>5385.579736</td>\n",
       "      <td>7279.000000</td>\n",
       "      <td>Central Electricity Authority</td>\n",
       "    </tr>\n",
       "    <tr>\n",
       "      <th>...</th>\n",
       "      <td>...</td>\n",
       "      <td>...</td>\n",
       "      <td>...</td>\n",
       "      <td>...</td>\n",
       "      <td>...</td>\n",
       "      <td>...</td>\n",
       "      <td>...</td>\n",
       "      <td>...</td>\n",
       "      <td>...</td>\n",
       "      <td>...</td>\n",
       "      <td>...</td>\n",
       "      <td>...</td>\n",
       "      <td>...</td>\n",
       "      <td>...</td>\n",
       "      <td>...</td>\n",
       "      <td>...</td>\n",
       "      <td>...</td>\n",
       "    </tr>\n",
       "    <tr>\n",
       "      <th>902</th>\n",
       "      <td>IND</td>\n",
       "      <td>YERMARUS TPP</td>\n",
       "      <td>IND0000513</td>\n",
       "      <td>1600.0</td>\n",
       "      <td>16.2949</td>\n",
       "      <td>77.3568</td>\n",
       "      <td>Coal</td>\n",
       "      <td>2016.000000</td>\n",
       "      <td>Central Electricity Authority</td>\n",
       "      <td>http://www.cea.nic.in/</td>\n",
       "      <td>2019.0</td>\n",
       "      <td>2431.823590</td>\n",
       "      <td>0.994875</td>\n",
       "      <td>233.596650</td>\n",
       "      <td>865.400000</td>\n",
       "      <td>686.500000</td>\n",
       "      <td>Central Electricity Authority</td>\n",
       "    </tr>\n",
       "    <tr>\n",
       "      <th>903</th>\n",
       "      <td>IND</td>\n",
       "      <td>Yelesandra Solar Power Plant</td>\n",
       "      <td>WRI1026222</td>\n",
       "      <td>3.0</td>\n",
       "      <td>12.8932</td>\n",
       "      <td>78.1654</td>\n",
       "      <td>Solar</td>\n",
       "      <td>1997.091082</td>\n",
       "      <td>Karnataka Power Corporation Limited</td>\n",
       "      <td>http://karnatakapower.com</td>\n",
       "      <td>2019.0</td>\n",
       "      <td>2431.823590</td>\n",
       "      <td>2428.226946</td>\n",
       "      <td>2467.936859</td>\n",
       "      <td>2547.759305</td>\n",
       "      <td>2600.804099</td>\n",
       "      <td>Central Electricity Authority</td>\n",
       "    </tr>\n",
       "    <tr>\n",
       "      <th>904</th>\n",
       "      <td>IND</td>\n",
       "      <td>Yelisirur wind power project</td>\n",
       "      <td>WRI1026776</td>\n",
       "      <td>25.5</td>\n",
       "      <td>15.2758</td>\n",
       "      <td>75.5811</td>\n",
       "      <td>Wind</td>\n",
       "      <td>1997.091082</td>\n",
       "      <td>CDM</td>\n",
       "      <td>https://cdm.unfccc.int/Projects/DB/TUEV-RHEIN1...</td>\n",
       "      <td>2019.0</td>\n",
       "      <td>2431.823590</td>\n",
       "      <td>2428.226946</td>\n",
       "      <td>2467.936859</td>\n",
       "      <td>2547.759305</td>\n",
       "      <td>2600.804099</td>\n",
       "      <td>Central Electricity Authority</td>\n",
       "    </tr>\n",
       "    <tr>\n",
       "      <th>905</th>\n",
       "      <td>IND</td>\n",
       "      <td>ZAWAR MINES</td>\n",
       "      <td>WRI1019901</td>\n",
       "      <td>80.0</td>\n",
       "      <td>24.3500</td>\n",
       "      <td>73.7477</td>\n",
       "      <td>Coal</td>\n",
       "      <td>1997.091082</td>\n",
       "      <td>Hindustan Zinc ltd</td>\n",
       "      <td>http://www.hzlindia.com/</td>\n",
       "      <td>2019.0</td>\n",
       "      <td>2431.823590</td>\n",
       "      <td>2428.226946</td>\n",
       "      <td>2467.936859</td>\n",
       "      <td>2547.759305</td>\n",
       "      <td>2600.804099</td>\n",
       "      <td>Central Electricity Authority</td>\n",
       "    </tr>\n",
       "    <tr>\n",
       "      <th>906</th>\n",
       "      <td>IND</td>\n",
       "      <td>iEnergy Theni Wind Farm</td>\n",
       "      <td>WRI1026761</td>\n",
       "      <td>16.5</td>\n",
       "      <td>9.9344</td>\n",
       "      <td>77.4768</td>\n",
       "      <td>Wind</td>\n",
       "      <td>1997.091082</td>\n",
       "      <td>CDM</td>\n",
       "      <td>https://cdm.unfccc.int/Projects/DB/RWTUV134503...</td>\n",
       "      <td>2019.0</td>\n",
       "      <td>2431.823590</td>\n",
       "      <td>2428.226946</td>\n",
       "      <td>2467.936859</td>\n",
       "      <td>2547.759305</td>\n",
       "      <td>2600.804099</td>\n",
       "      <td>Central Electricity Authority</td>\n",
       "    </tr>\n",
       "  </tbody>\n",
       "</table>\n",
       "<p>907 rows × 17 columns</p>\n",
       "</div>"
      ],
      "text/plain": [
       "    country                          name   gppd_idnr  capacity_mw  latitude  \\\n",
       "0       IND              ACME Solar Tower  WRI1020239          2.5   28.1839   \n",
       "1       IND           ADITYA CEMENT WORKS  WRI1019881         98.0   24.7663   \n",
       "2       IND      AES Saurashtra Windfarms  WRI1026669         39.2   21.9038   \n",
       "3       IND                   AGARTALA GT  IND0000001        135.0   23.8712   \n",
       "4       IND                  AKALTARA TPP  IND0000002       1800.0   21.9603   \n",
       "..      ...                           ...         ...          ...       ...   \n",
       "902     IND                  YERMARUS TPP  IND0000513       1600.0   16.2949   \n",
       "903     IND  Yelesandra Solar Power Plant  WRI1026222          3.0   12.8932   \n",
       "904     IND  Yelisirur wind power project  WRI1026776         25.5   15.2758   \n",
       "905     IND                   ZAWAR MINES  WRI1019901         80.0   24.3500   \n",
       "906     IND       iEnergy Theni Wind Farm  WRI1026761         16.5    9.9344   \n",
       "\n",
       "     longitude primary_fuel  commissioning_year  \\\n",
       "0      73.2407        Solar         2011.000000   \n",
       "1      74.6090         Coal         1997.091082   \n",
       "2      69.3732         Wind         1997.091082   \n",
       "3      91.3602          Gas         2004.000000   \n",
       "4      82.4091         Coal         2015.000000   \n",
       "..         ...          ...                 ...   \n",
       "902    77.3568         Coal         2016.000000   \n",
       "903    78.1654        Solar         1997.091082   \n",
       "904    75.5811         Wind         1997.091082   \n",
       "905    73.7477         Coal         1997.091082   \n",
       "906    77.4768         Wind         1997.091082   \n",
       "\n",
       "                                   source  \\\n",
       "0    National Renewable Energy Laboratory   \n",
       "1                    Ultratech Cement ltd   \n",
       "2                                     CDM   \n",
       "3           Central Electricity Authority   \n",
       "4           Central Electricity Authority   \n",
       "..                                    ...   \n",
       "902         Central Electricity Authority   \n",
       "903   Karnataka Power Corporation Limited   \n",
       "904                                   CDM   \n",
       "905                    Hindustan Zinc ltd   \n",
       "906                                   CDM   \n",
       "\n",
       "                                                   url  year_of_capacity_data  \\\n",
       "0    http://www.nrel.gov/csp/solarpaces/project_det...                 2019.0   \n",
       "1                      http://www.ultratechcement.com/                 2019.0   \n",
       "2    https://cdm.unfccc.int/Projects/DB/DNV-CUK1328...                 2019.0   \n",
       "3                               http://www.cea.nic.in/                 2019.0   \n",
       "4                               http://www.cea.nic.in/                 2019.0   \n",
       "..                                                 ...                    ...   \n",
       "902                             http://www.cea.nic.in/                 2019.0   \n",
       "903                          http://karnatakapower.com                 2019.0   \n",
       "904  https://cdm.unfccc.int/Projects/DB/TUEV-RHEIN1...                 2019.0   \n",
       "905                           http://www.hzlindia.com/                 2019.0   \n",
       "906  https://cdm.unfccc.int/Projects/DB/RWTUV134503...                 2019.0   \n",
       "\n",
       "     generation_gwh_2014  generation_gwh_2015  generation_gwh_2016  \\\n",
       "0            2431.823590          2428.226946          2467.936859   \n",
       "1            2431.823590          2428.226946          2467.936859   \n",
       "2            2431.823590          2428.226946          2467.936859   \n",
       "3             617.789264           843.747000           886.004428   \n",
       "4            3035.550000          5916.370000          6243.000000   \n",
       "..                   ...                  ...                  ...   \n",
       "902          2431.823590             0.994875           233.596650   \n",
       "903          2431.823590          2428.226946          2467.936859   \n",
       "904          2431.823590          2428.226946          2467.936859   \n",
       "905          2431.823590          2428.226946          2467.936859   \n",
       "906          2431.823590          2428.226946          2467.936859   \n",
       "\n",
       "     generation_gwh_2017  generation_gwh_2018         generation_data_source  \n",
       "0            2547.759305          2600.804099  Central Electricity Authority  \n",
       "1            2547.759305          2600.804099  Central Electricity Authority  \n",
       "2            2547.759305          2600.804099  Central Electricity Authority  \n",
       "3             663.774500           626.239128  Central Electricity Authority  \n",
       "4            5385.579736          7279.000000  Central Electricity Authority  \n",
       "..                   ...                  ...                            ...  \n",
       "902           865.400000           686.500000  Central Electricity Authority  \n",
       "903          2547.759305          2600.804099  Central Electricity Authority  \n",
       "904          2547.759305          2600.804099  Central Electricity Authority  \n",
       "905          2547.759305          2600.804099  Central Electricity Authority  \n",
       "906          2547.759305          2600.804099  Central Electricity Authority  \n",
       "\n",
       "[907 rows x 17 columns]"
      ]
     },
     "execution_count": 10,
     "metadata": {},
     "output_type": "execute_result"
    }
   ],
   "source": [
    "pp"
   ]
  },
  {
   "cell_type": "markdown",
   "id": "ac5c6300",
   "metadata": {},
   "source": [
    "##### We fill all the NaN values in the dataset."
   ]
  },
  {
   "cell_type": "code",
   "execution_count": 11,
   "id": "b4dd15c6",
   "metadata": {},
   "outputs": [
    {
     "data": {
      "text/plain": [
       "country                   0\n",
       "name                      0\n",
       "gppd_idnr                 0\n",
       "capacity_mw               0\n",
       "latitude                  0\n",
       "longitude                 0\n",
       "primary_fuel              0\n",
       "commissioning_year        0\n",
       "source                    0\n",
       "url                       0\n",
       "year_of_capacity_data     0\n",
       "generation_gwh_2014       0\n",
       "generation_gwh_2015       0\n",
       "generation_gwh_2016       0\n",
       "generation_gwh_2017       0\n",
       "generation_gwh_2018       0\n",
       "generation_data_source    0\n",
       "dtype: int64"
      ]
     },
     "execution_count": 11,
     "metadata": {},
     "output_type": "execute_result"
    }
   ],
   "source": [
    "pp.isnull().sum()"
   ]
  },
  {
   "cell_type": "markdown",
   "id": "1667edb0",
   "metadata": {},
   "source": [
    "##### Now we dont have ant null values in dataset."
   ]
  },
  {
   "cell_type": "code",
   "execution_count": 12,
   "id": "b15d36eb",
   "metadata": {},
   "outputs": [
    {
     "name": "stdout",
     "output_type": "stream",
     "text": [
      "<class 'pandas.core.frame.DataFrame'>\n",
      "RangeIndex: 907 entries, 0 to 906\n",
      "Data columns (total 17 columns):\n",
      " #   Column                  Non-Null Count  Dtype  \n",
      "---  ------                  --------------  -----  \n",
      " 0   country                 907 non-null    object \n",
      " 1   name                    907 non-null    object \n",
      " 2   gppd_idnr               907 non-null    object \n",
      " 3   capacity_mw             907 non-null    float64\n",
      " 4   latitude                907 non-null    float64\n",
      " 5   longitude               907 non-null    float64\n",
      " 6   primary_fuel            907 non-null    object \n",
      " 7   commissioning_year      907 non-null    float64\n",
      " 8   source                  907 non-null    object \n",
      " 9   url                     907 non-null    object \n",
      " 10  year_of_capacity_data   907 non-null    float64\n",
      " 11  generation_gwh_2014     907 non-null    float64\n",
      " 12  generation_gwh_2015     907 non-null    float64\n",
      " 13  generation_gwh_2016     907 non-null    float64\n",
      " 14  generation_gwh_2017     907 non-null    float64\n",
      " 15  generation_gwh_2018     907 non-null    float64\n",
      " 16  generation_data_source  907 non-null    object \n",
      "dtypes: float64(10), object(7)\n",
      "memory usage: 120.6+ KB\n"
     ]
    }
   ],
   "source": [
    "pp.info()"
   ]
  },
  {
   "cell_type": "markdown",
   "id": "2ea90dde",
   "metadata": {},
   "source": [
    "### Data Analysis and Visualization"
   ]
  },
  {
   "cell_type": "code",
   "execution_count": 13,
   "id": "7315d648",
   "metadata": {},
   "outputs": [
    {
     "data": {
      "text/plain": [
       "<AxesSubplot:xlabel='primary_fuel', ylabel='count'>"
      ]
     },
     "execution_count": 13,
     "metadata": {},
     "output_type": "execute_result"
    },
    {
     "data": {
      "image/png": "[encoded data removed]",
      "text/plain": [
       "<Figure size 504x360 with 1 Axes>"
      ]
     },
     "metadata": {
      "needs_background": "light"
     },
     "output_type": "display_data"
    }
   ],
   "source": [
    "plt.figure(figsize=(7,5))\n",
    "sns.countplot(x = 'primary_fuel',data=pp)"
   ]
  },
  {
   "cell_type": "markdown",
   "id": "31caddfd",
   "metadata": {},
   "source": [
    "##### From above plot we can see that Coal is more used as a primary fuel than the others."
   ]
  },
  {
   "cell_type": "code",
   "execution_count": 14,
   "id": "2a7aedf1",
   "metadata": {},
   "outputs": [
    {
     "data": {
      "text/plain": [
       "<AxesSubplot:xlabel='country', ylabel='count'>"
      ]
     },
     "execution_count": 14,
     "metadata": {},
     "output_type": "execute_result"
    },
    {
     "data": {
      "image/png": "[encoded data removed]",
      "text/plain": [
       "<Figure size 648x504 with 1 Axes>"
      ]
     },
     "metadata": {
      "needs_background": "light"
     },
     "output_type": "display_data"
    }
   ],
   "source": [
    "plt.figure(figsize=(9,7))\n",
    "sns.countplot(x = 'country',hue='primary_fuel',data=pp,color='Green')"
   ]
  },
  {
   "cell_type": "code",
   "execution_count": 15,
   "id": "7feb3ff0",
   "metadata": {},
   "outputs": [
    {
     "data": {
      "text/plain": [
       "<AxesSubplot:xlabel='primary_fuel', ylabel='capacity_mw'>"
      ]
     },
     "execution_count": 15,
     "metadata": {},
     "output_type": "execute_result"
    },
    {
     "data": {
      "image/png": "[encoded data removed]",
      "text/plain": [
       "<Figure size 504x360 with 1 Axes>"
      ]
     },
     "metadata": {
      "needs_background": "light"
     },
     "output_type": "display_data"
    }
   ],
   "source": [
    "plt.figure(figsize=(7,5))\n",
    "sns.barplot(x = 'primary_fuel',y='capacity_mw',hue = 'country',data=pp,color='Green')"
   ]
  },
  {
   "cell_type": "markdown",
   "id": "cbbac01e",
   "metadata": {},
   "source": [
    "##### Nuclear fuel is higher capacity than the other primary fuel."
   ]
  },
  {
   "cell_type": "code",
   "execution_count": 16,
   "id": "2fc2d331",
   "metadata": {},
   "outputs": [
    {
     "data": {
      "text/plain": [
       "<AxesSubplot:xlabel='primary_fuel', ylabel='latitude'>"
      ]
     },
     "execution_count": 16,
     "metadata": {},
     "output_type": "execute_result"
    },
    {
     "data": {
      "image/png": "[encoded data removed]",
      "text/plain": [
       "<Figure size 1440x1080 with 1 Axes>"
      ]
     },
     "metadata": {
      "needs_background": "light"
     },
     "output_type": "display_data"
    }
   ],
   "source": [
    "plt.figure(figsize=(20,15))\n",
    "sns.barplot(x = 'primary_fuel',y = 'latitude',hue='country',data=pp,color='Green')"
   ]
  },
  {
   "cell_type": "code",
   "execution_count": 17,
   "id": "97872656",
   "metadata": {},
   "outputs": [],
   "source": [
    "pp.drop(['country','name','source','url','year_of_capacity_data'],axis=1,inplace=True)"
   ]
  },
  {
   "cell_type": "code",
   "execution_count": 18,
   "id": "115d0298",
   "metadata": {},
   "outputs": [
    {
     "data": {
      "text/html": [
       "<div>\n",
       "<style scoped>\n",
       "    .dataframe tbody tr th:only-of-type {\n",
       "        vertical-align: middle;\n",
       "    }\n",
       "\n",
       "    .dataframe tbody tr th {\n",
       "        vertical-align: top;\n",
       "    }\n",
       "\n",
       "    .dataframe thead th {\n",
       "        text-align: right;\n",
       "    }\n",
       "</style>\n",
       "<table border=\"1\" class=\"dataframe\">\n",
       "  <thead>\n",
       "    <tr style=\"text-align: right;\">\n",
       "      <th></th>\n",
       "      <th>gppd_idnr</th>\n",
       "      <th>capacity_mw</th>\n",
       "      <th>latitude</th>\n",
       "      <th>longitude</th>\n",
       "      <th>primary_fuel</th>\n",
       "      <th>commissioning_year</th>\n",
       "      <th>generation_gwh_2014</th>\n",
       "      <th>generation_gwh_2015</th>\n",
       "      <th>generation_gwh_2016</th>\n",
       "      <th>generation_gwh_2017</th>\n",
       "      <th>generation_gwh_2018</th>\n",
       "      <th>generation_data_source</th>\n",
       "    </tr>\n",
       "  </thead>\n",
       "  <tbody>\n",
       "    <tr>\n",
       "      <th>0</th>\n",
       "      <td>WRI1020239</td>\n",
       "      <td>2.5</td>\n",
       "      <td>28.1839</td>\n",
       "      <td>73.2407</td>\n",
       "      <td>Solar</td>\n",
       "      <td>2011.000000</td>\n",
       "      <td>2431.823590</td>\n",
       "      <td>2428.226946</td>\n",
       "      <td>2467.936859</td>\n",
       "      <td>2547.759305</td>\n",
       "      <td>2600.804099</td>\n",
       "      <td>Central Electricity Authority</td>\n",
       "    </tr>\n",
       "    <tr>\n",
       "      <th>1</th>\n",
       "      <td>WRI1019881</td>\n",
       "      <td>98.0</td>\n",
       "      <td>24.7663</td>\n",
       "      <td>74.6090</td>\n",
       "      <td>Coal</td>\n",
       "      <td>1997.091082</td>\n",
       "      <td>2431.823590</td>\n",
       "      <td>2428.226946</td>\n",
       "      <td>2467.936859</td>\n",
       "      <td>2547.759305</td>\n",
       "      <td>2600.804099</td>\n",
       "      <td>Central Electricity Authority</td>\n",
       "    </tr>\n",
       "    <tr>\n",
       "      <th>2</th>\n",
       "      <td>WRI1026669</td>\n",
       "      <td>39.2</td>\n",
       "      <td>21.9038</td>\n",
       "      <td>69.3732</td>\n",
       "      <td>Wind</td>\n",
       "      <td>1997.091082</td>\n",
       "      <td>2431.823590</td>\n",
       "      <td>2428.226946</td>\n",
       "      <td>2467.936859</td>\n",
       "      <td>2547.759305</td>\n",
       "      <td>2600.804099</td>\n",
       "      <td>Central Electricity Authority</td>\n",
       "    </tr>\n",
       "    <tr>\n",
       "      <th>3</th>\n",
       "      <td>IND0000001</td>\n",
       "      <td>135.0</td>\n",
       "      <td>23.8712</td>\n",
       "      <td>91.3602</td>\n",
       "      <td>Gas</td>\n",
       "      <td>2004.000000</td>\n",
       "      <td>617.789264</td>\n",
       "      <td>843.747000</td>\n",
       "      <td>886.004428</td>\n",
       "      <td>663.774500</td>\n",
       "      <td>626.239128</td>\n",
       "      <td>Central Electricity Authority</td>\n",
       "    </tr>\n",
       "    <tr>\n",
       "      <th>4</th>\n",
       "      <td>IND0000002</td>\n",
       "      <td>1800.0</td>\n",
       "      <td>21.9603</td>\n",
       "      <td>82.4091</td>\n",
       "      <td>Coal</td>\n",
       "      <td>2015.000000</td>\n",
       "      <td>3035.550000</td>\n",
       "      <td>5916.370000</td>\n",
       "      <td>6243.000000</td>\n",
       "      <td>5385.579736</td>\n",
       "      <td>7279.000000</td>\n",
       "      <td>Central Electricity Authority</td>\n",
       "    </tr>\n",
       "    <tr>\n",
       "      <th>...</th>\n",
       "      <td>...</td>\n",
       "      <td>...</td>\n",
       "      <td>...</td>\n",
       "      <td>...</td>\n",
       "      <td>...</td>\n",
       "      <td>...</td>\n",
       "      <td>...</td>\n",
       "      <td>...</td>\n",
       "      <td>...</td>\n",
       "      <td>...</td>\n",
       "      <td>...</td>\n",
       "      <td>...</td>\n",
       "    </tr>\n",
       "    <tr>\n",
       "      <th>902</th>\n",
       "      <td>IND0000513</td>\n",
       "      <td>1600.0</td>\n",
       "      <td>16.2949</td>\n",
       "      <td>77.3568</td>\n",
       "      <td>Coal</td>\n",
       "      <td>2016.000000</td>\n",
       "      <td>2431.823590</td>\n",
       "      <td>0.994875</td>\n",
       "      <td>233.596650</td>\n",
       "      <td>865.400000</td>\n",
       "      <td>686.500000</td>\n",
       "      <td>Central Electricity Authority</td>\n",
       "    </tr>\n",
       "    <tr>\n",
       "      <th>903</th>\n",
       "      <td>WRI1026222</td>\n",
       "      <td>3.0</td>\n",
       "      <td>12.8932</td>\n",
       "      <td>78.1654</td>\n",
       "      <td>Solar</td>\n",
       "      <td>1997.091082</td>\n",
       "      <td>2431.823590</td>\n",
       "      <td>2428.226946</td>\n",
       "      <td>2467.936859</td>\n",
       "      <td>2547.759305</td>\n",
       "      <td>2600.804099</td>\n",
       "      <td>Central Electricity Authority</td>\n",
       "    </tr>\n",
       "    <tr>\n",
       "      <th>904</th>\n",
       "      <td>WRI1026776</td>\n",
       "      <td>25.5</td>\n",
       "      <td>15.2758</td>\n",
       "      <td>75.5811</td>\n",
       "      <td>Wind</td>\n",
       "      <td>1997.091082</td>\n",
       "      <td>2431.823590</td>\n",
       "      <td>2428.226946</td>\n",
       "      <td>2467.936859</td>\n",
       "      <td>2547.759305</td>\n",
       "      <td>2600.804099</td>\n",
       "      <td>Central Electricity Authority</td>\n",
       "    </tr>\n",
       "    <tr>\n",
       "      <th>905</th>\n",
       "      <td>WRI1019901</td>\n",
       "      <td>80.0</td>\n",
       "      <td>24.3500</td>\n",
       "      <td>73.7477</td>\n",
       "      <td>Coal</td>\n",
       "      <td>1997.091082</td>\n",
       "      <td>2431.823590</td>\n",
       "      <td>2428.226946</td>\n",
       "      <td>2467.936859</td>\n",
       "      <td>2547.759305</td>\n",
       "      <td>2600.804099</td>\n",
       "      <td>Central Electricity Authority</td>\n",
       "    </tr>\n",
       "    <tr>\n",
       "      <th>906</th>\n",
       "      <td>WRI1026761</td>\n",
       "      <td>16.5</td>\n",
       "      <td>9.9344</td>\n",
       "      <td>77.4768</td>\n",
       "      <td>Wind</td>\n",
       "      <td>1997.091082</td>\n",
       "      <td>2431.823590</td>\n",
       "      <td>2428.226946</td>\n",
       "      <td>2467.936859</td>\n",
       "      <td>2547.759305</td>\n",
       "      <td>2600.804099</td>\n",
       "      <td>Central Electricity Authority</td>\n",
       "    </tr>\n",
       "  </tbody>\n",
       "</table>\n",
       "<p>907 rows × 12 columns</p>\n",
       "</div>"
      ],
      "text/plain": [
       "      gppd_idnr  capacity_mw  latitude  longitude primary_fuel  \\\n",
       "0    WRI1020239          2.5   28.1839    73.2407        Solar   \n",
       "1    WRI1019881         98.0   24.7663    74.6090         Coal   \n",
       "2    WRI1026669         39.2   21.9038    69.3732         Wind   \n",
       "3    IND0000001        135.0   23.8712    91.3602          Gas   \n",
       "4    IND0000002       1800.0   21.9603    82.4091         Coal   \n",
       "..          ...          ...       ...        ...          ...   \n",
       "902  IND0000513       1600.0   16.2949    77.3568         Coal   \n",
       "903  WRI1026222          3.0   12.8932    78.1654        Solar   \n",
       "904  WRI1026776         25.5   15.2758    75.5811         Wind   \n",
       "905  WRI1019901         80.0   24.3500    73.7477         Coal   \n",
       "906  WRI1026761         16.5    9.9344    77.4768         Wind   \n",
       "\n",
       "     commissioning_year  generation_gwh_2014  generation_gwh_2015  \\\n",
       "0           2011.000000          2431.823590          2428.226946   \n",
       "1           1997.091082          2431.823590          2428.226946   \n",
       "2           1997.091082          2431.823590          2428.226946   \n",
       "3           2004.000000           617.789264           843.747000   \n",
       "4           2015.000000          3035.550000          5916.370000   \n",
       "..                  ...                  ...                  ...   \n",
       "902         2016.000000          2431.823590             0.994875   \n",
       "903         1997.091082          2431.823590          2428.226946   \n",
       "904         1997.091082          2431.823590          2428.226946   \n",
       "905         1997.091082          2431.823590          2428.226946   \n",
       "906         1997.091082          2431.823590          2428.226946   \n",
       "\n",
       "     generation_gwh_2016  generation_gwh_2017  generation_gwh_2018  \\\n",
       "0            2467.936859          2547.759305          2600.804099   \n",
       "1            2467.936859          2547.759305          2600.804099   \n",
       "2            2467.936859          2547.759305          2600.804099   \n",
       "3             886.004428           663.774500           626.239128   \n",
       "4            6243.000000          5385.579736          7279.000000   \n",
       "..                   ...                  ...                  ...   \n",
       "902           233.596650           865.400000           686.500000   \n",
       "903          2467.936859          2547.759305          2600.804099   \n",
       "904          2467.936859          2547.759305          2600.804099   \n",
       "905          2467.936859          2547.759305          2600.804099   \n",
       "906          2467.936859          2547.759305          2600.804099   \n",
       "\n",
       "            generation_data_source  \n",
       "0    Central Electricity Authority  \n",
       "1    Central Electricity Authority  \n",
       "2    Central Electricity Authority  \n",
       "3    Central Electricity Authority  \n",
       "4    Central Electricity Authority  \n",
       "..                             ...  \n",
       "902  Central Electricity Authority  \n",
       "903  Central Electricity Authority  \n",
       "904  Central Electricity Authority  \n",
       "905  Central Electricity Authority  \n",
       "906  Central Electricity Authority  \n",
       "\n",
       "[907 rows x 12 columns]"
      ]
     },
     "execution_count": 18,
     "metadata": {},
     "output_type": "execute_result"
    }
   ],
   "source": [
    "pp"
   ]
  },
  {
   "cell_type": "markdown",
   "id": "f9afa161",
   "metadata": {},
   "source": [
    "### Description"
   ]
  },
  {
   "cell_type": "code",
   "execution_count": 19,
   "id": "338638a7",
   "metadata": {},
   "outputs": [
    {
     "data": {
      "text/html": [
       "<div>\n",
       "<style scoped>\n",
       "    .dataframe tbody tr th:only-of-type {\n",
       "        vertical-align: middle;\n",
       "    }\n",
       "\n",
       "    .dataframe tbody tr th {\n",
       "        vertical-align: top;\n",
       "    }\n",
       "\n",
       "    .dataframe thead th {\n",
       "        text-align: right;\n",
       "    }\n",
       "</style>\n",
       "<table border=\"1\" class=\"dataframe\">\n",
       "  <thead>\n",
       "    <tr style=\"text-align: right;\">\n",
       "      <th></th>\n",
       "      <th>capacity_mw</th>\n",
       "      <th>latitude</th>\n",
       "      <th>longitude</th>\n",
       "      <th>commissioning_year</th>\n",
       "      <th>generation_gwh_2014</th>\n",
       "      <th>generation_gwh_2015</th>\n",
       "      <th>generation_gwh_2016</th>\n",
       "      <th>generation_gwh_2017</th>\n",
       "      <th>generation_gwh_2018</th>\n",
       "    </tr>\n",
       "  </thead>\n",
       "  <tbody>\n",
       "    <tr>\n",
       "      <th>count</th>\n",
       "      <td>907.000000</td>\n",
       "      <td>907.000000</td>\n",
       "      <td>907.000000</td>\n",
       "      <td>907.000000</td>\n",
       "      <td>907.000000</td>\n",
       "      <td>907.000000</td>\n",
       "      <td>907.000000</td>\n",
       "      <td>907.000000</td>\n",
       "      <td>907.000000</td>\n",
       "    </tr>\n",
       "    <tr>\n",
       "      <th>mean</th>\n",
       "      <td>326.223755</td>\n",
       "      <td>21.197918</td>\n",
       "      <td>77.464907</td>\n",
       "      <td>1997.091082</td>\n",
       "      <td>2431.823590</td>\n",
       "      <td>2428.226946</td>\n",
       "      <td>2467.936859</td>\n",
       "      <td>2547.759305</td>\n",
       "      <td>2600.804099</td>\n",
       "    </tr>\n",
       "    <tr>\n",
       "      <th>std</th>\n",
       "      <td>590.085456</td>\n",
       "      <td>6.079148</td>\n",
       "      <td>4.812291</td>\n",
       "      <td>13.016360</td>\n",
       "      <td>2665.338608</td>\n",
       "      <td>2859.349132</td>\n",
       "      <td>2877.890004</td>\n",
       "      <td>2921.502193</td>\n",
       "      <td>3030.808041</td>\n",
       "    </tr>\n",
       "    <tr>\n",
       "      <th>min</th>\n",
       "      <td>0.000000</td>\n",
       "      <td>8.168900</td>\n",
       "      <td>68.644700</td>\n",
       "      <td>1927.000000</td>\n",
       "      <td>0.000000</td>\n",
       "      <td>0.000000</td>\n",
       "      <td>0.000000</td>\n",
       "      <td>0.000000</td>\n",
       "      <td>0.000000</td>\n",
       "    </tr>\n",
       "    <tr>\n",
       "      <th>25%</th>\n",
       "      <td>16.725000</td>\n",
       "      <td>17.072000</td>\n",
       "      <td>74.388900</td>\n",
       "      <td>1997.091082</td>\n",
       "      <td>1211.362750</td>\n",
       "      <td>916.000000</td>\n",
       "      <td>896.500214</td>\n",
       "      <td>882.594850</td>\n",
       "      <td>824.842340</td>\n",
       "    </tr>\n",
       "    <tr>\n",
       "      <th>50%</th>\n",
       "      <td>59.200000</td>\n",
       "      <td>21.281800</td>\n",
       "      <td>76.979200</td>\n",
       "      <td>1997.091082</td>\n",
       "      <td>2431.823590</td>\n",
       "      <td>2428.226946</td>\n",
       "      <td>2467.936859</td>\n",
       "      <td>2547.759305</td>\n",
       "      <td>2600.804099</td>\n",
       "    </tr>\n",
       "    <tr>\n",
       "      <th>75%</th>\n",
       "      <td>385.250000</td>\n",
       "      <td>25.176450</td>\n",
       "      <td>79.206100</td>\n",
       "      <td>2003.000000</td>\n",
       "      <td>2431.823590</td>\n",
       "      <td>2428.226946</td>\n",
       "      <td>2467.936859</td>\n",
       "      <td>2547.759305</td>\n",
       "      <td>2600.804099</td>\n",
       "    </tr>\n",
       "    <tr>\n",
       "      <th>max</th>\n",
       "      <td>4760.000000</td>\n",
       "      <td>34.649000</td>\n",
       "      <td>95.408000</td>\n",
       "      <td>2018.000000</td>\n",
       "      <td>28127.000000</td>\n",
       "      <td>30539.000000</td>\n",
       "      <td>30015.000000</td>\n",
       "      <td>35116.000000</td>\n",
       "      <td>35136.000000</td>\n",
       "    </tr>\n",
       "  </tbody>\n",
       "</table>\n",
       "</div>"
      ],
      "text/plain": [
       "       capacity_mw    latitude   longitude  commissioning_year  \\\n",
       "count   907.000000  907.000000  907.000000          907.000000   \n",
       "mean    326.223755   21.197918   77.464907         1997.091082   \n",
       "std     590.085456    6.079148    4.812291           13.016360   \n",
       "min       0.000000    8.168900   68.644700         1927.000000   \n",
       "25%      16.725000   17.072000   74.388900         1997.091082   \n",
       "50%      59.200000   21.281800   76.979200         1997.091082   \n",
       "75%     385.250000   25.176450   79.206100         2003.000000   \n",
       "max    4760.000000   34.649000   95.408000         2018.000000   \n",
       "\n",
       "       generation_gwh_2014  generation_gwh_2015  generation_gwh_2016  \\\n",
       "count           907.000000           907.000000           907.000000   \n",
       "mean           2431.823590          2428.226946          2467.936859   \n",
       "std            2665.338608          2859.349132          2877.890004   \n",
       "min               0.000000             0.000000             0.000000   \n",
       "25%            1211.362750           916.000000           896.500214   \n",
       "50%            2431.823590          2428.226946          2467.936859   \n",
       "75%            2431.823590          2428.226946          2467.936859   \n",
       "max           28127.000000         30539.000000         30015.000000   \n",
       "\n",
       "       generation_gwh_2017  generation_gwh_2018  \n",
       "count           907.000000           907.000000  \n",
       "mean           2547.759305          2600.804099  \n",
       "std            2921.502193          3030.808041  \n",
       "min               0.000000             0.000000  \n",
       "25%             882.594850           824.842340  \n",
       "50%            2547.759305          2600.804099  \n",
       "75%            2547.759305          2600.804099  \n",
       "max           35116.000000         35136.000000  "
      ]
     },
     "execution_count": 19,
     "metadata": {},
     "output_type": "execute_result"
    }
   ],
   "source": [
    "pp.describe()"
   ]
  },
  {
   "cell_type": "markdown",
   "id": "45f4bd3f",
   "metadata": {},
   "source": [
    "##### The description of dataaset shows the Count,Standard deviation,Mean,Maximum value,Minimum value of each column."
   ]
  },
  {
   "cell_type": "code",
   "execution_count": 20,
   "id": "b6563977",
   "metadata": {},
   "outputs": [
    {
     "data": {
      "text/plain": [
       "<AxesSubplot:>"
      ]
     },
     "execution_count": 20,
     "metadata": {},
     "output_type": "execute_result"
    },
    {
     "data": {
      "image/png": "[encoded data removed]",
      "text/plain": [
       "<Figure size 864x720 with 2 Axes>"
      ]
     },
     "metadata": {
      "needs_background": "light"
     },
     "output_type": "display_data"
    }
   ],
   "source": [
    "plt.figure(figsize=(12,10))\n",
    "sns.heatmap(pp.describe(),annot=True,fmt='.2f',linewidths=2)"
   ]
  },
  {
   "cell_type": "markdown",
   "id": "4cace957",
   "metadata": {},
   "source": [
    "### Outcome of Description"
   ]
  },
  {
   "cell_type": "markdown",
   "id": "d00fa207",
   "metadata": {},
   "source": [
    "##### Description of Power Plant dataset helps us to clean the data.\n",
    "\n",
    "capacity_mw - 1.Mean = 326.22, 2.Std = 590.09, 3.Min = 0, Max = 4760\n",
    "\n",
    "latitude - 1.Mean = 21.20, 2.Std = 6.08, 3.Min = 8.17, Max = 34.65\n",
    "\n",
    "longitude - 1.Mean = 77.46, 2.Std = 4.81, 3.Min = 68.64, Max = 95.41\n",
    "\n",
    "commissioning_year - 1.Mean = 1997.09, 2.Std = 13.02, 3.Min = 1927, Max = 2018\n",
    "\n",
    "year_of_capacity_data - 1.Mean = 2019, 2.Std = 0, 3.Min = 2019, Max = 2019\n",
    "\n",
    "generation_gwh_2014 - 1.Mean = 2431.82, 2.Std = 266.34, 3.Min = 0, Max = 28127\n",
    "\n",
    "generation_gwh_2015 - 1.Mean = 2428.23, 2.Std = 2859.35, 3.Min = 0, Max = 30539\n",
    "\n",
    "generation_gwh_2016 - 1.Mean = 2467.94, 2.Std = 2877.89, 3.Min = 0, Max = 30015\n",
    "\n",
    "generation_gwh_2017 - 1.Mean = 2547.76, 2.Std = 2921.50, 3.Min = 0, Max = 35116\n",
    "\n",
    "generation_gwh_2018 - 1.Mean = 2600.80, 2.Std = 3030.81, 3.Min = 0, Max = 35136\n"
   ]
  },
  {
   "cell_type": "markdown",
   "id": "c0028fff",
   "metadata": {},
   "source": [
    "### Correlation"
   ]
  },
  {
   "cell_type": "code",
   "execution_count": 21,
   "id": "22991a2a",
   "metadata": {},
   "outputs": [
    {
     "data": {
      "text/html": [
       "<div>\n",
       "<style scoped>\n",
       "    .dataframe tbody tr th:only-of-type {\n",
       "        vertical-align: middle;\n",
       "    }\n",
       "\n",
       "    .dataframe tbody tr th {\n",
       "        vertical-align: top;\n",
       "    }\n",
       "\n",
       "    .dataframe thead th {\n",
       "        text-align: right;\n",
       "    }\n",
       "</style>\n",
       "<table border=\"1\" class=\"dataframe\">\n",
       "  <thead>\n",
       "    <tr style=\"text-align: right;\">\n",
       "      <th></th>\n",
       "      <th>capacity_mw</th>\n",
       "      <th>latitude</th>\n",
       "      <th>longitude</th>\n",
       "      <th>commissioning_year</th>\n",
       "      <th>generation_gwh_2014</th>\n",
       "      <th>generation_gwh_2015</th>\n",
       "      <th>generation_gwh_2016</th>\n",
       "      <th>generation_gwh_2017</th>\n",
       "      <th>generation_gwh_2018</th>\n",
       "    </tr>\n",
       "  </thead>\n",
       "  <tbody>\n",
       "    <tr>\n",
       "      <th>capacity_mw</th>\n",
       "      <td>1.000000</td>\n",
       "      <td>0.050984</td>\n",
       "      <td>0.195882</td>\n",
       "      <td>0.274292</td>\n",
       "      <td>0.694350</td>\n",
       "      <td>0.711190</td>\n",
       "      <td>0.742221</td>\n",
       "      <td>0.757585</td>\n",
       "      <td>0.773456</td>\n",
       "    </tr>\n",
       "    <tr>\n",
       "      <th>latitude</th>\n",
       "      <td>0.050984</td>\n",
       "      <td>1.000000</td>\n",
       "      <td>0.036362</td>\n",
       "      <td>0.102069</td>\n",
       "      <td>0.044321</td>\n",
       "      <td>0.036398</td>\n",
       "      <td>0.031256</td>\n",
       "      <td>0.031212</td>\n",
       "      <td>0.031326</td>\n",
       "    </tr>\n",
       "    <tr>\n",
       "      <th>longitude</th>\n",
       "      <td>0.195882</td>\n",
       "      <td>0.036362</td>\n",
       "      <td>1.000000</td>\n",
       "      <td>0.092331</td>\n",
       "      <td>0.011472</td>\n",
       "      <td>0.018818</td>\n",
       "      <td>0.039209</td>\n",
       "      <td>0.039675</td>\n",
       "      <td>0.037780</td>\n",
       "    </tr>\n",
       "    <tr>\n",
       "      <th>commissioning_year</th>\n",
       "      <td>0.274292</td>\n",
       "      <td>0.102069</td>\n",
       "      <td>0.092331</td>\n",
       "      <td>1.000000</td>\n",
       "      <td>0.133051</td>\n",
       "      <td>0.147338</td>\n",
       "      <td>0.170644</td>\n",
       "      <td>0.170863</td>\n",
       "      <td>0.174377</td>\n",
       "    </tr>\n",
       "    <tr>\n",
       "      <th>generation_gwh_2014</th>\n",
       "      <td>0.694350</td>\n",
       "      <td>0.044321</td>\n",
       "      <td>0.011472</td>\n",
       "      <td>0.133051</td>\n",
       "      <td>1.000000</td>\n",
       "      <td>0.953594</td>\n",
       "      <td>0.925874</td>\n",
       "      <td>0.891687</td>\n",
       "      <td>0.884956</td>\n",
       "    </tr>\n",
       "    <tr>\n",
       "      <th>generation_gwh_2015</th>\n",
       "      <td>0.711190</td>\n",
       "      <td>0.036398</td>\n",
       "      <td>0.018818</td>\n",
       "      <td>0.147338</td>\n",
       "      <td>0.953594</td>\n",
       "      <td>1.000000</td>\n",
       "      <td>0.968888</td>\n",
       "      <td>0.928242</td>\n",
       "      <td>0.923461</td>\n",
       "    </tr>\n",
       "    <tr>\n",
       "      <th>generation_gwh_2016</th>\n",
       "      <td>0.742221</td>\n",
       "      <td>0.031256</td>\n",
       "      <td>0.039209</td>\n",
       "      <td>0.170644</td>\n",
       "      <td>0.925874</td>\n",
       "      <td>0.968888</td>\n",
       "      <td>1.000000</td>\n",
       "      <td>0.964649</td>\n",
       "      <td>0.957159</td>\n",
       "    </tr>\n",
       "    <tr>\n",
       "      <th>generation_gwh_2017</th>\n",
       "      <td>0.757585</td>\n",
       "      <td>0.031212</td>\n",
       "      <td>0.039675</td>\n",
       "      <td>0.170863</td>\n",
       "      <td>0.891687</td>\n",
       "      <td>0.928242</td>\n",
       "      <td>0.964649</td>\n",
       "      <td>1.000000</td>\n",
       "      <td>0.982689</td>\n",
       "    </tr>\n",
       "    <tr>\n",
       "      <th>generation_gwh_2018</th>\n",
       "      <td>0.773456</td>\n",
       "      <td>0.031326</td>\n",
       "      <td>0.037780</td>\n",
       "      <td>0.174377</td>\n",
       "      <td>0.884956</td>\n",
       "      <td>0.923461</td>\n",
       "      <td>0.957159</td>\n",
       "      <td>0.982689</td>\n",
       "      <td>1.000000</td>\n",
       "    </tr>\n",
       "  </tbody>\n",
       "</table>\n",
       "</div>"
      ],
      "text/plain": [
       "                     capacity_mw  latitude  longitude  commissioning_year  \\\n",
       "capacity_mw             1.000000  0.050984   0.195882            0.274292   \n",
       "latitude                0.050984  1.000000   0.036362            0.102069   \n",
       "longitude               0.195882  0.036362   1.000000            0.092331   \n",
       "commissioning_year      0.274292  0.102069   0.092331            1.000000   \n",
       "generation_gwh_2014     0.694350  0.044321   0.011472            0.133051   \n",
       "generation_gwh_2015     0.711190  0.036398   0.018818            0.147338   \n",
       "generation_gwh_2016     0.742221  0.031256   0.039209            0.170644   \n",
       "generation_gwh_2017     0.757585  0.031212   0.039675            0.170863   \n",
       "generation_gwh_2018     0.773456  0.031326   0.037780            0.174377   \n",
       "\n",
       "                     generation_gwh_2014  generation_gwh_2015  \\\n",
       "capacity_mw                     0.694350             0.711190   \n",
       "latitude                        0.044321             0.036398   \n",
       "longitude                       0.011472             0.018818   \n",
       "commissioning_year              0.133051             0.147338   \n",
       "generation_gwh_2014             1.000000             0.953594   \n",
       "generation_gwh_2015             0.953594             1.000000   \n",
       "generation_gwh_2016             0.925874             0.968888   \n",
       "generation_gwh_2017             0.891687             0.928242   \n",
       "generation_gwh_2018             0.884956             0.923461   \n",
       "\n",
       "                     generation_gwh_2016  generation_gwh_2017  \\\n",
       "capacity_mw                     0.742221             0.757585   \n",
       "latitude                        0.031256             0.031212   \n",
       "longitude                       0.039209             0.039675   \n",
       "commissioning_year              0.170644             0.170863   \n",
       "generation_gwh_2014             0.925874             0.891687   \n",
       "generation_gwh_2015             0.968888             0.928242   \n",
       "generation_gwh_2016             1.000000             0.964649   \n",
       "generation_gwh_2017             0.964649             1.000000   \n",
       "generation_gwh_2018             0.957159             0.982689   \n",
       "\n",
       "                     generation_gwh_2018  \n",
       "capacity_mw                     0.773456  \n",
       "latitude                        0.031326  \n",
       "longitude                       0.037780  \n",
       "commissioning_year              0.174377  \n",
       "generation_gwh_2014             0.884956  \n",
       "generation_gwh_2015             0.923461  \n",
       "generation_gwh_2016             0.957159  \n",
       "generation_gwh_2017             0.982689  \n",
       "generation_gwh_2018             1.000000  "
      ]
     },
     "execution_count": 21,
     "metadata": {},
     "output_type": "execute_result"
    }
   ],
   "source": [
    "pp.corr()"
   ]
  },
  {
   "cell_type": "code",
   "execution_count": 22,
   "id": "07f8ad9e",
   "metadata": {
    "scrolled": true
   },
   "outputs": [
    {
     "data": {
      "text/plain": [
       "<AxesSubplot:>"
      ]
     },
     "execution_count": 22,
     "metadata": {},
     "output_type": "execute_result"
    },
    {
     "data": {
      "image/png": "[encoded data removed]",
      "text/plain": [
       "<Figure size 1080x720 with 2 Axes>"
      ]
     },
     "metadata": {
      "needs_background": "light"
     },
     "output_type": "display_data"
    }
   ],
   "source": [
    "plt.figure(figsize=(15,10))\n",
    "sns.heatmap(pp.corr(),annot=True,cmap='cool')"
   ]
  },
  {
   "cell_type": "markdown",
   "id": "c0f99fd0",
   "metadata": {},
   "source": [
    "##### As we seen from above plot all the columns are positively correlated with each other.\n",
    "##### Capacity_mw is highly correlated with generation_gwh_2014,generation_gwh_2015,generation_gwh_2016,generation_gwh_2017,generation_gwh_2018. All the generation_gwh columns are highly correlated with each other."
   ]
  },
  {
   "cell_type": "code",
   "execution_count": 23,
   "id": "29461158",
   "metadata": {},
   "outputs": [
    {
     "name": "stdout",
     "output_type": "stream",
     "text": [
      "<class 'pandas.core.frame.DataFrame'>\n",
      "RangeIndex: 907 entries, 0 to 906\n",
      "Data columns (total 12 columns):\n",
      " #   Column                  Non-Null Count  Dtype  \n",
      "---  ------                  --------------  -----  \n",
      " 0   gppd_idnr               907 non-null    object \n",
      " 1   capacity_mw             907 non-null    float64\n",
      " 2   latitude                907 non-null    float64\n",
      " 3   longitude               907 non-null    float64\n",
      " 4   primary_fuel            907 non-null    object \n",
      " 5   commissioning_year      907 non-null    float64\n",
      " 6   generation_gwh_2014     907 non-null    float64\n",
      " 7   generation_gwh_2015     907 non-null    float64\n",
      " 8   generation_gwh_2016     907 non-null    float64\n",
      " 9   generation_gwh_2017     907 non-null    float64\n",
      " 10  generation_gwh_2018     907 non-null    float64\n",
      " 11  generation_data_source  907 non-null    object \n",
      "dtypes: float64(9), object(3)\n",
      "memory usage: 85.2+ KB\n"
     ]
    }
   ],
   "source": [
    "pp.info()"
   ]
  },
  {
   "cell_type": "markdown",
   "id": "488fbb7f",
   "metadata": {},
   "source": [
    "##### Power plant dataset has no null value."
   ]
  },
  {
   "cell_type": "markdown",
   "id": "b268058a",
   "metadata": {},
   "source": [
    "### Data Cleaning"
   ]
  },
  {
   "cell_type": "code",
   "execution_count": 24,
   "id": "6864b4d6",
   "metadata": {},
   "outputs": [
    {
     "data": {
      "text/plain": [
       "capacity_mw            3.123576\n",
       "latitude              -0.149698\n",
       "longitude              1.141881\n",
       "commissioning_year    -1.399359\n",
       "generation_gwh_2014    5.035446\n",
       "generation_gwh_2015    5.364134\n",
       "generation_gwh_2016    5.068427\n",
       "generation_gwh_2017    5.110952\n",
       "generation_gwh_2018    4.937907\n",
       "dtype: float64"
      ]
     },
     "execution_count": 24,
     "metadata": {},
     "output_type": "execute_result"
    }
   ],
   "source": [
    "pp.skew()"
   ]
  },
  {
   "cell_type": "code",
   "execution_count": 25,
   "id": "9a95b80b",
   "metadata": {},
   "outputs": [
    {
     "data": {
      "image/png": "[encoded data removed]",
      "text/plain": [
       "<Figure size 2016x1440 with 12 Axes>"
      ]
     },
     "metadata": {
      "needs_background": "light"
     },
     "output_type": "display_data"
    }
   ],
   "source": [
    "pp.plot(kind = 'density',subplots = True, layout = (4,3),figsize=(28,20),sharex=False)\n",
    "plt.show()"
   ]
  },
  {
   "cell_type": "code",
   "execution_count": 26,
   "id": "1a5837dc",
   "metadata": {},
   "outputs": [
    {
     "data": {
      "text/plain": [
       "generation_gwh_2015    5.364134\n",
       "generation_gwh_2017    5.110952\n",
       "generation_gwh_2016    5.068427\n",
       "generation_gwh_2014    5.035446\n",
       "generation_gwh_2018    4.937907\n",
       "capacity_mw            3.123576\n",
       "longitude              1.141881\n",
       "latitude              -0.149698\n",
       "commissioning_year    -1.399359\n",
       "dtype: float64"
      ]
     },
     "execution_count": 26,
     "metadata": {},
     "output_type": "execute_result"
    }
   ],
   "source": [
    "pp.skew().sort_values(ascending = False)"
   ]
  },
  {
   "cell_type": "markdown",
   "id": "99721028",
   "metadata": {},
   "source": [
    "### Data Conversion"
   ]
  },
  {
   "cell_type": "code",
   "execution_count": 27,
   "id": "a9d3d176",
   "metadata": {},
   "outputs": [],
   "source": [
    "from sklearn.preprocessing import OrdinalEncoder\n",
    "onc = OrdinalEncoder()"
   ]
  },
  {
   "cell_type": "code",
   "execution_count": 28,
   "id": "8b2f5a2c",
   "metadata": {},
   "outputs": [],
   "source": [
    "for i in pp.columns:\n",
    "    if pp[i].dtypes == object:\n",
    "        pp[i] = onc.fit_transform(pp[i].values.reshape(-1,1))"
   ]
  },
  {
   "cell_type": "code",
   "execution_count": 29,
   "id": "d860114b",
   "metadata": {
    "scrolled": true
   },
   "outputs": [
    {
     "data": {
      "text/html": [
       "<div>\n",
       "<style scoped>\n",
       "    .dataframe tbody tr th:only-of-type {\n",
       "        vertical-align: middle;\n",
       "    }\n",
       "\n",
       "    .dataframe tbody tr th {\n",
       "        vertical-align: top;\n",
       "    }\n",
       "\n",
       "    .dataframe thead th {\n",
       "        text-align: right;\n",
       "    }\n",
       "</style>\n",
       "<table border=\"1\" class=\"dataframe\">\n",
       "  <thead>\n",
       "    <tr style=\"text-align: right;\">\n",
       "      <th></th>\n",
       "      <th>gppd_idnr</th>\n",
       "      <th>capacity_mw</th>\n",
       "      <th>latitude</th>\n",
       "      <th>longitude</th>\n",
       "      <th>primary_fuel</th>\n",
       "      <th>commissioning_year</th>\n",
       "      <th>generation_gwh_2014</th>\n",
       "      <th>generation_gwh_2015</th>\n",
       "      <th>generation_gwh_2016</th>\n",
       "      <th>generation_gwh_2017</th>\n",
       "      <th>generation_gwh_2018</th>\n",
       "      <th>generation_data_source</th>\n",
       "    </tr>\n",
       "  </thead>\n",
       "  <tbody>\n",
       "    <tr>\n",
       "      <th>0</th>\n",
       "      <td>657.0</td>\n",
       "      <td>2.5</td>\n",
       "      <td>28.1839</td>\n",
       "      <td>73.2407</td>\n",
       "      <td>6.0</td>\n",
       "      <td>2011.000000</td>\n",
       "      <td>2431.823590</td>\n",
       "      <td>2428.226946</td>\n",
       "      <td>2467.936859</td>\n",
       "      <td>2547.759305</td>\n",
       "      <td>2600.804099</td>\n",
       "      <td>0.0</td>\n",
       "    </tr>\n",
       "    <tr>\n",
       "      <th>1</th>\n",
       "      <td>519.0</td>\n",
       "      <td>98.0</td>\n",
       "      <td>24.7663</td>\n",
       "      <td>74.6090</td>\n",
       "      <td>1.0</td>\n",
       "      <td>1997.091082</td>\n",
       "      <td>2431.823590</td>\n",
       "      <td>2428.226946</td>\n",
       "      <td>2467.936859</td>\n",
       "      <td>2547.759305</td>\n",
       "      <td>2600.804099</td>\n",
       "      <td>0.0</td>\n",
       "    </tr>\n",
       "    <tr>\n",
       "      <th>2</th>\n",
       "      <td>853.0</td>\n",
       "      <td>39.2</td>\n",
       "      <td>21.9038</td>\n",
       "      <td>69.3732</td>\n",
       "      <td>7.0</td>\n",
       "      <td>1997.091082</td>\n",
       "      <td>2431.823590</td>\n",
       "      <td>2428.226946</td>\n",
       "      <td>2467.936859</td>\n",
       "      <td>2547.759305</td>\n",
       "      <td>2600.804099</td>\n",
       "      <td>0.0</td>\n",
       "    </tr>\n",
       "    <tr>\n",
       "      <th>3</th>\n",
       "      <td>0.0</td>\n",
       "      <td>135.0</td>\n",
       "      <td>23.8712</td>\n",
       "      <td>91.3602</td>\n",
       "      <td>2.0</td>\n",
       "      <td>2004.000000</td>\n",
       "      <td>617.789264</td>\n",
       "      <td>843.747000</td>\n",
       "      <td>886.004428</td>\n",
       "      <td>663.774500</td>\n",
       "      <td>626.239128</td>\n",
       "      <td>0.0</td>\n",
       "    </tr>\n",
       "    <tr>\n",
       "      <th>4</th>\n",
       "      <td>1.0</td>\n",
       "      <td>1800.0</td>\n",
       "      <td>21.9603</td>\n",
       "      <td>82.4091</td>\n",
       "      <td>1.0</td>\n",
       "      <td>2015.000000</td>\n",
       "      <td>3035.550000</td>\n",
       "      <td>5916.370000</td>\n",
       "      <td>6243.000000</td>\n",
       "      <td>5385.579736</td>\n",
       "      <td>7279.000000</td>\n",
       "      <td>0.0</td>\n",
       "    </tr>\n",
       "    <tr>\n",
       "      <th>...</th>\n",
       "      <td>...</td>\n",
       "      <td>...</td>\n",
       "      <td>...</td>\n",
       "      <td>...</td>\n",
       "      <td>...</td>\n",
       "      <td>...</td>\n",
       "      <td>...</td>\n",
       "      <td>...</td>\n",
       "      <td>...</td>\n",
       "      <td>...</td>\n",
       "      <td>...</td>\n",
       "      <td>...</td>\n",
       "    </tr>\n",
       "    <tr>\n",
       "      <th>902</th>\n",
       "      <td>491.0</td>\n",
       "      <td>1600.0</td>\n",
       "      <td>16.2949</td>\n",
       "      <td>77.3568</td>\n",
       "      <td>1.0</td>\n",
       "      <td>2016.000000</td>\n",
       "      <td>2431.823590</td>\n",
       "      <td>0.994875</td>\n",
       "      <td>233.596650</td>\n",
       "      <td>865.400000</td>\n",
       "      <td>686.500000</td>\n",
       "      <td>0.0</td>\n",
       "    </tr>\n",
       "    <tr>\n",
       "      <th>903</th>\n",
       "      <td>822.0</td>\n",
       "      <td>3.0</td>\n",
       "      <td>12.8932</td>\n",
       "      <td>78.1654</td>\n",
       "      <td>6.0</td>\n",
       "      <td>1997.091082</td>\n",
       "      <td>2431.823590</td>\n",
       "      <td>2428.226946</td>\n",
       "      <td>2467.936859</td>\n",
       "      <td>2547.759305</td>\n",
       "      <td>2600.804099</td>\n",
       "      <td>0.0</td>\n",
       "    </tr>\n",
       "    <tr>\n",
       "      <th>904</th>\n",
       "      <td>891.0</td>\n",
       "      <td>25.5</td>\n",
       "      <td>15.2758</td>\n",
       "      <td>75.5811</td>\n",
       "      <td>7.0</td>\n",
       "      <td>1997.091082</td>\n",
       "      <td>2431.823590</td>\n",
       "      <td>2428.226946</td>\n",
       "      <td>2467.936859</td>\n",
       "      <td>2547.759305</td>\n",
       "      <td>2600.804099</td>\n",
       "      <td>0.0</td>\n",
       "    </tr>\n",
       "    <tr>\n",
       "      <th>905</th>\n",
       "      <td>539.0</td>\n",
       "      <td>80.0</td>\n",
       "      <td>24.3500</td>\n",
       "      <td>73.7477</td>\n",
       "      <td>1.0</td>\n",
       "      <td>1997.091082</td>\n",
       "      <td>2431.823590</td>\n",
       "      <td>2428.226946</td>\n",
       "      <td>2467.936859</td>\n",
       "      <td>2547.759305</td>\n",
       "      <td>2600.804099</td>\n",
       "      <td>0.0</td>\n",
       "    </tr>\n",
       "    <tr>\n",
       "      <th>906</th>\n",
       "      <td>876.0</td>\n",
       "      <td>16.5</td>\n",
       "      <td>9.9344</td>\n",
       "      <td>77.4768</td>\n",
       "      <td>7.0</td>\n",
       "      <td>1997.091082</td>\n",
       "      <td>2431.823590</td>\n",
       "      <td>2428.226946</td>\n",
       "      <td>2467.936859</td>\n",
       "      <td>2547.759305</td>\n",
       "      <td>2600.804099</td>\n",
       "      <td>0.0</td>\n",
       "    </tr>\n",
       "  </tbody>\n",
       "</table>\n",
       "<p>907 rows × 12 columns</p>\n",
       "</div>"
      ],
      "text/plain": [
       "     gppd_idnr  capacity_mw  latitude  longitude  primary_fuel  \\\n",
       "0        657.0          2.5   28.1839    73.2407           6.0   \n",
       "1        519.0         98.0   24.7663    74.6090           1.0   \n",
       "2        853.0         39.2   21.9038    69.3732           7.0   \n",
       "3          0.0        135.0   23.8712    91.3602           2.0   \n",
       "4          1.0       1800.0   21.9603    82.4091           1.0   \n",
       "..         ...          ...       ...        ...           ...   \n",
       "902      491.0       1600.0   16.2949    77.3568           1.0   \n",
       "903      822.0          3.0   12.8932    78.1654           6.0   \n",
       "904      891.0         25.5   15.2758    75.5811           7.0   \n",
       "905      539.0         80.0   24.3500    73.7477           1.0   \n",
       "906      876.0         16.5    9.9344    77.4768           7.0   \n",
       "\n",
       "     commissioning_year  generation_gwh_2014  generation_gwh_2015  \\\n",
       "0           2011.000000          2431.823590          2428.226946   \n",
       "1           1997.091082          2431.823590          2428.226946   \n",
       "2           1997.091082          2431.823590          2428.226946   \n",
       "3           2004.000000           617.789264           843.747000   \n",
       "4           2015.000000          3035.550000          5916.370000   \n",
       "..                  ...                  ...                  ...   \n",
       "902         2016.000000          2431.823590             0.994875   \n",
       "903         1997.091082          2431.823590          2428.226946   \n",
       "904         1997.091082          2431.823590          2428.226946   \n",
       "905         1997.091082          2431.823590          2428.226946   \n",
       "906         1997.091082          2431.823590          2428.226946   \n",
       "\n",
       "     generation_gwh_2016  generation_gwh_2017  generation_gwh_2018  \\\n",
       "0            2467.936859          2547.759305          2600.804099   \n",
       "1            2467.936859          2547.759305          2600.804099   \n",
       "2            2467.936859          2547.759305          2600.804099   \n",
       "3             886.004428           663.774500           626.239128   \n",
       "4            6243.000000          5385.579736          7279.000000   \n",
       "..                   ...                  ...                  ...   \n",
       "902           233.596650           865.400000           686.500000   \n",
       "903          2467.936859          2547.759305          2600.804099   \n",
       "904          2467.936859          2547.759305          2600.804099   \n",
       "905          2467.936859          2547.759305          2600.804099   \n",
       "906          2467.936859          2547.759305          2600.804099   \n",
       "\n",
       "     generation_data_source  \n",
       "0                       0.0  \n",
       "1                       0.0  \n",
       "2                       0.0  \n",
       "3                       0.0  \n",
       "4                       0.0  \n",
       "..                      ...  \n",
       "902                     0.0  \n",
       "903                     0.0  \n",
       "904                     0.0  \n",
       "905                     0.0  \n",
       "906                     0.0  \n",
       "\n",
       "[907 rows x 12 columns]"
      ]
     },
     "execution_count": 29,
     "metadata": {},
     "output_type": "execute_result"
    }
   ],
   "source": [
    "pp"
   ]
  },
  {
   "cell_type": "code",
   "execution_count": 30,
   "id": "a225025f",
   "metadata": {},
   "outputs": [],
   "source": [
    "pp.drop(['generation_data_source'],axis=1,inplace=True)"
   ]
  },
  {
   "cell_type": "markdown",
   "id": "26486c56",
   "metadata": {},
   "source": [
    "### Checking Outliers"
   ]
  },
  {
   "cell_type": "code",
   "execution_count": 31,
   "id": "fe9f7f77",
   "metadata": {},
   "outputs": [
    {
     "data": {
      "image/png": "[encoded data removed]",
      "text/plain": [
       "<Figure size 1800x1440 with 16 Axes>"
      ]
     },
     "metadata": {
      "needs_background": "light"
     },
     "output_type": "display_data"
    }
   ],
   "source": [
    "pp.plot(kind = 'box',subplots=True,layout=(4,4),figsize=(25,20),sharex=True,color='g')\n",
    "plt.show()"
   ]
  },
  {
   "cell_type": "markdown",
   "id": "9b115ea3",
   "metadata": {},
   "source": [
    "##### We can see outliers present in :\n",
    "\n",
    "Capacity_mw\n",
    "\n",
    "Longitude\t\n",
    "\n",
    "Commissioning_year\t\n",
    "\n",
    "Generation_gwh_2014\t\n",
    "\n",
    "Generation_gwh_2015\t\n",
    "\n",
    "Generation_gwh_2016\t\n",
    "\n",
    "Generation_gwh_2017\t\n",
    "\n",
    "Generation_gwh_2018"
   ]
  },
  {
   "cell_type": "markdown",
   "id": "1b825e1b",
   "metadata": {},
   "source": [
    "### Removing Outliers"
   ]
  },
  {
   "cell_type": "markdown",
   "id": "7f473f3c",
   "metadata": {},
   "source": [
    "#### Z Score Technique"
   ]
  },
  {
   "cell_type": "code",
   "execution_count": 32,
   "id": "4ed9e0d1",
   "metadata": {},
   "outputs": [
    {
     "data": {
      "text/plain": [
       "(907, 11)"
      ]
     },
     "execution_count": 32,
     "metadata": {},
     "output_type": "execute_result"
    }
   ],
   "source": [
    "from scipy.stats import zscore\n",
    "\n",
    "z = np.abs(zscore(pp))\n",
    "z.shape"
   ]
  },
  {
   "cell_type": "code",
   "execution_count": 33,
   "id": "d19960fb",
   "metadata": {},
   "outputs": [
    {
     "data": {
      "text/plain": [
       "(849, 11)"
      ]
     },
     "execution_count": 33,
     "metadata": {},
     "output_type": "execute_result"
    }
   ],
   "source": [
    "pp = pp[(z<3).all(axis=1)]\n",
    "pp.shape"
   ]
  },
  {
   "cell_type": "code",
   "execution_count": 34,
   "id": "a70868ad",
   "metadata": {},
   "outputs": [
    {
     "data": {
      "text/plain": [
       "[False]"
      ]
     },
     "execution_count": 34,
     "metadata": {},
     "output_type": "execute_result"
    }
   ],
   "source": [
    "[(np.abs(zscore(pp))<3).all()]"
   ]
  },
  {
   "cell_type": "markdown",
   "id": "d5efd549",
   "metadata": {},
   "source": [
    "### Percentage Data Loss"
   ]
  },
  {
   "cell_type": "code",
   "execution_count": 35,
   "id": "fa366f50",
   "metadata": {},
   "outputs": [
    {
     "data": {
      "text/plain": [
       "6.39470782800441"
      ]
     },
     "execution_count": 35,
     "metadata": {},
     "output_type": "execute_result"
    }
   ],
   "source": [
    "percentage_loss = (907-849)/907*100\n",
    "percentage_loss"
   ]
  },
  {
   "cell_type": "markdown",
   "id": "7a91cbf4",
   "metadata": {},
   "source": [
    "### Splitting the dataset in ppx and ppy"
   ]
  },
  {
   "cell_type": "code",
   "execution_count": 36,
   "id": "5c38a23f",
   "metadata": {},
   "outputs": [
    {
     "data": {
      "text/plain": [
       "(849, 10)"
      ]
     },
     "execution_count": 36,
     "metadata": {},
     "output_type": "execute_result"
    }
   ],
   "source": [
    "ppx = pp.drop('primary_fuel',axis=1)\n",
    "ppx.shape"
   ]
  },
  {
   "cell_type": "code",
   "execution_count": 37,
   "id": "6265ad84",
   "metadata": {},
   "outputs": [
    {
     "data": {
      "text/plain": [
       "(849,)"
      ]
     },
     "execution_count": 37,
     "metadata": {},
     "output_type": "execute_result"
    }
   ],
   "source": [
    "ppy = pp['primary_fuel']\n",
    "ppy.shape"
   ]
  },
  {
   "cell_type": "code",
   "execution_count": 38,
   "id": "f76852ff",
   "metadata": {},
   "outputs": [
    {
     "data": {
      "text/plain": [
       "<function matplotlib.pyplot.show(close=None, block=None)>"
      ]
     },
     "execution_count": 38,
     "metadata": {},
     "output_type": "execute_result"
    },
    {
     "data": {
      "image/png": "[encoded data removed]",
      "text/plain": [
       "<Figure size 432x288 with 1 Axes>"
      ]
     },
     "metadata": {
      "needs_background": "light"
     },
     "output_type": "display_data"
    }
   ],
   "source": [
    "sns.countplot(ppy)\n",
    "plt.show"
   ]
  },
  {
   "cell_type": "markdown",
   "id": "8fe2400c",
   "metadata": {},
   "source": [
    "##### We can see that dataset is imbalanced."
   ]
  },
  {
   "cell_type": "markdown",
   "id": "31dcebaf",
   "metadata": {},
   "source": [
    "### SMOTE"
   ]
  },
  {
   "cell_type": "code",
   "execution_count": 39,
   "id": "d73393c5",
   "metadata": {},
   "outputs": [],
   "source": [
    "from imblearn.over_sampling import SMOTE\n",
    "\n",
    "sm = SMOTE()\n",
    "x,y = sm.fit_resample(ppx,ppy)"
   ]
  },
  {
   "cell_type": "code",
   "execution_count": 40,
   "id": "82c2ff62",
   "metadata": {},
   "outputs": [
    {
     "data": {
      "text/plain": [
       "(1880, 10)"
      ]
     },
     "execution_count": 40,
     "metadata": {},
     "output_type": "execute_result"
    }
   ],
   "source": [
    "x.shape"
   ]
  },
  {
   "cell_type": "code",
   "execution_count": 41,
   "id": "7f528cec",
   "metadata": {},
   "outputs": [
    {
     "data": {
      "text/plain": [
       "<AxesSubplot:xlabel='primary_fuel', ylabel='count'>"
      ]
     },
     "execution_count": 41,
     "metadata": {},
     "output_type": "execute_result"
    },
    {
     "data": {
      "image/png": "[encoded data removed]",
      "text/plain": [
       "<Figure size 432x288 with 1 Axes>"
      ]
     },
     "metadata": {
      "needs_background": "light"
     },
     "output_type": "display_data"
    }
   ],
   "source": [
    "sns.countplot(y)"
   ]
  },
  {
   "cell_type": "markdown",
   "id": "61f6fbf2",
   "metadata": {},
   "source": [
    "##### Dataset is balanced now."
   ]
  },
  {
   "cell_type": "markdown",
   "id": "3e47fefd",
   "metadata": {},
   "source": [
    "### Removing Skewness"
   ]
  },
  {
   "cell_type": "code",
   "execution_count": 42,
   "id": "abde6469",
   "metadata": {},
   "outputs": [
    {
     "data": {
      "text/plain": [
       "capacity_mw            1.998919\n",
       "generation_gwh_2015    1.569746\n",
       "generation_gwh_2014    1.460289\n",
       "generation_gwh_2016    1.377785\n",
       "generation_gwh_2018    1.316558\n",
       "longitude              1.246617\n",
       "generation_gwh_2017    1.193098\n",
       "latitude               0.049538\n",
       "gppd_idnr             -0.122434\n",
       "commissioning_year    -0.865815\n",
       "dtype: float64"
      ]
     },
     "execution_count": 42,
     "metadata": {},
     "output_type": "execute_result"
    }
   ],
   "source": [
    "x.skew().sort_values(ascending=False)"
   ]
  },
  {
   "cell_type": "code",
   "execution_count": 43,
   "id": "68ea3f74",
   "metadata": {},
   "outputs": [],
   "source": [
    "from sklearn.preprocessing import power_transform\n",
    "\n",
    "x1 = power_transform(x)"
   ]
  },
  {
   "cell_type": "code",
   "execution_count": 44,
   "id": "0d9d732a",
   "metadata": {},
   "outputs": [
    {
     "data": {
      "text/html": [
       "<div>\n",
       "<style scoped>\n",
       "    .dataframe tbody tr th:only-of-type {\n",
       "        vertical-align: middle;\n",
       "    }\n",
       "\n",
       "    .dataframe tbody tr th {\n",
       "        vertical-align: top;\n",
       "    }\n",
       "\n",
       "    .dataframe thead th {\n",
       "        text-align: right;\n",
       "    }\n",
       "</style>\n",
       "<table border=\"1\" class=\"dataframe\">\n",
       "  <thead>\n",
       "    <tr style=\"text-align: right;\">\n",
       "      <th></th>\n",
       "      <th>gppd_idnr</th>\n",
       "      <th>capacity_mw</th>\n",
       "      <th>latitude</th>\n",
       "      <th>longitude</th>\n",
       "      <th>commissioning_year</th>\n",
       "      <th>generation_gwh_2014</th>\n",
       "      <th>generation_gwh_2015</th>\n",
       "      <th>generation_gwh_2016</th>\n",
       "      <th>generation_gwh_2017</th>\n",
       "      <th>generation_gwh_2018</th>\n",
       "    </tr>\n",
       "  </thead>\n",
       "  <tbody>\n",
       "    <tr>\n",
       "      <th>0</th>\n",
       "      <td>0.729012</td>\n",
       "      <td>-1.809155</td>\n",
       "      <td>1.441329</td>\n",
       "      <td>-0.945277</td>\n",
       "      <td>1.681314</td>\n",
       "      <td>0.301791</td>\n",
       "      <td>0.351119</td>\n",
       "      <td>0.348586</td>\n",
       "      <td>0.281018</td>\n",
       "      <td>0.377556</td>\n",
       "    </tr>\n",
       "    <tr>\n",
       "      <th>1</th>\n",
       "      <td>0.215662</td>\n",
       "      <td>0.193468</td>\n",
       "      <td>0.864361</td>\n",
       "      <td>-0.433187</td>\n",
       "      <td>-0.124700</td>\n",
       "      <td>0.301791</td>\n",
       "      <td>0.351119</td>\n",
       "      <td>0.348586</td>\n",
       "      <td>0.281018</td>\n",
       "      <td>0.377556</td>\n",
       "    </tr>\n",
       "    <tr>\n",
       "      <th>2</th>\n",
       "      <td>1.424887</td>\n",
       "      <td>-0.318428</td>\n",
       "      <td>0.372870</td>\n",
       "      <td>-2.790468</td>\n",
       "      <td>-0.124700</td>\n",
       "      <td>0.301791</td>\n",
       "      <td>0.351119</td>\n",
       "      <td>0.348586</td>\n",
       "      <td>0.281018</td>\n",
       "      <td>0.377556</td>\n",
       "    </tr>\n",
       "    <tr>\n",
       "      <th>3</th>\n",
       "      <td>-2.204517</td>\n",
       "      <td>0.369134</td>\n",
       "      <td>0.711531</td>\n",
       "      <td>2.750071</td>\n",
       "      <td>0.718559</td>\n",
       "      <td>-1.005532</td>\n",
       "      <td>-0.672567</td>\n",
       "      <td>-0.606345</td>\n",
       "      <td>-0.970128</td>\n",
       "      <td>-0.825851</td>\n",
       "    </tr>\n",
       "    <tr>\n",
       "      <th>4</th>\n",
       "      <td>-2.193083</td>\n",
       "      <td>1.712354</td>\n",
       "      <td>0.382651</td>\n",
       "      <td>1.570080</td>\n",
       "      <td>2.285534</td>\n",
       "      <td>0.622901</td>\n",
       "      <td>1.769726</td>\n",
       "      <td>1.751109</td>\n",
       "      <td>1.484557</td>\n",
       "      <td>1.935860</td>\n",
       "    </tr>\n",
       "    <tr>\n",
       "      <th>...</th>\n",
       "      <td>...</td>\n",
       "      <td>...</td>\n",
       "      <td>...</td>\n",
       "      <td>...</td>\n",
       "      <td>...</td>\n",
       "      <td>...</td>\n",
       "      <td>...</td>\n",
       "      <td>...</td>\n",
       "      <td>...</td>\n",
       "      <td>...</td>\n",
       "    </tr>\n",
       "    <tr>\n",
       "      <th>1875</th>\n",
       "      <td>1.412440</td>\n",
       "      <td>-0.176855</td>\n",
       "      <td>-0.112651</td>\n",
       "      <td>-0.317603</td>\n",
       "      <td>-0.124700</td>\n",
       "      <td>0.301791</td>\n",
       "      <td>0.351119</td>\n",
       "      <td>0.348586</td>\n",
       "      <td>0.281018</td>\n",
       "      <td>0.377556</td>\n",
       "    </tr>\n",
       "    <tr>\n",
       "      <th>1876</th>\n",
       "      <td>1.368759</td>\n",
       "      <td>-1.039727</td>\n",
       "      <td>-1.414916</td>\n",
       "      <td>0.332161</td>\n",
       "      <td>-0.124700</td>\n",
       "      <td>0.301791</td>\n",
       "      <td>0.351119</td>\n",
       "      <td>0.348586</td>\n",
       "      <td>0.281018</td>\n",
       "      <td>0.377556</td>\n",
       "    </tr>\n",
       "    <tr>\n",
       "      <th>1877</th>\n",
       "      <td>0.794336</td>\n",
       "      <td>0.184531</td>\n",
       "      <td>-0.510402</td>\n",
       "      <td>-0.569105</td>\n",
       "      <td>-0.124700</td>\n",
       "      <td>0.301791</td>\n",
       "      <td>0.351119</td>\n",
       "      <td>0.348586</td>\n",
       "      <td>0.281018</td>\n",
       "      <td>0.377556</td>\n",
       "    </tr>\n",
       "    <tr>\n",
       "      <th>1878</th>\n",
       "      <td>1.495650</td>\n",
       "      <td>-1.377907</td>\n",
       "      <td>-1.717526</td>\n",
       "      <td>0.468923</td>\n",
       "      <td>-0.124700</td>\n",
       "      <td>0.301791</td>\n",
       "      <td>0.351119</td>\n",
       "      <td>0.348586</td>\n",
       "      <td>0.281018</td>\n",
       "      <td>0.377556</td>\n",
       "    </tr>\n",
       "    <tr>\n",
       "      <th>1879</th>\n",
       "      <td>1.323268</td>\n",
       "      <td>-1.005507</td>\n",
       "      <td>-1.207502</td>\n",
       "      <td>0.180875</td>\n",
       "      <td>-0.124700</td>\n",
       "      <td>0.301791</td>\n",
       "      <td>0.351119</td>\n",
       "      <td>0.348586</td>\n",
       "      <td>0.281018</td>\n",
       "      <td>0.377556</td>\n",
       "    </tr>\n",
       "  </tbody>\n",
       "</table>\n",
       "<p>1880 rows × 10 columns</p>\n",
       "</div>"
      ],
      "text/plain": [
       "      gppd_idnr  capacity_mw  latitude  longitude  commissioning_year  \\\n",
       "0      0.729012    -1.809155  1.441329  -0.945277            1.681314   \n",
       "1      0.215662     0.193468  0.864361  -0.433187           -0.124700   \n",
       "2      1.424887    -0.318428  0.372870  -2.790468           -0.124700   \n",
       "3     -2.204517     0.369134  0.711531   2.750071            0.718559   \n",
       "4     -2.193083     1.712354  0.382651   1.570080            2.285534   \n",
       "...         ...          ...       ...        ...                 ...   \n",
       "1875   1.412440    -0.176855 -0.112651  -0.317603           -0.124700   \n",
       "1876   1.368759    -1.039727 -1.414916   0.332161           -0.124700   \n",
       "1877   0.794336     0.184531 -0.510402  -0.569105           -0.124700   \n",
       "1878   1.495650    -1.377907 -1.717526   0.468923           -0.124700   \n",
       "1879   1.323268    -1.005507 -1.207502   0.180875           -0.124700   \n",
       "\n",
       "      generation_gwh_2014  generation_gwh_2015  generation_gwh_2016  \\\n",
       "0                0.301791             0.351119             0.348586   \n",
       "1                0.301791             0.351119             0.348586   \n",
       "2                0.301791             0.351119             0.348586   \n",
       "3               -1.005532            -0.672567            -0.606345   \n",
       "4                0.622901             1.769726             1.751109   \n",
       "...                   ...                  ...                  ...   \n",
       "1875             0.301791             0.351119             0.348586   \n",
       "1876             0.301791             0.351119             0.348586   \n",
       "1877             0.301791             0.351119             0.348586   \n",
       "1878             0.301791             0.351119             0.348586   \n",
       "1879             0.301791             0.351119             0.348586   \n",
       "\n",
       "      generation_gwh_2017  generation_gwh_2018  \n",
       "0                0.281018             0.377556  \n",
       "1                0.281018             0.377556  \n",
       "2                0.281018             0.377556  \n",
       "3               -0.970128            -0.825851  \n",
       "4                1.484557             1.935860  \n",
       "...                   ...                  ...  \n",
       "1875             0.281018             0.377556  \n",
       "1876             0.281018             0.377556  \n",
       "1877             0.281018             0.377556  \n",
       "1878             0.281018             0.377556  \n",
       "1879             0.281018             0.377556  \n",
       "\n",
       "[1880 rows x 10 columns]"
      ]
     },
     "execution_count": 44,
     "metadata": {},
     "output_type": "execute_result"
    }
   ],
   "source": [
    "x = pd.DataFrame(x1,columns=x.columns)\n",
    "x"
   ]
  },
  {
   "cell_type": "code",
   "execution_count": 45,
   "id": "0d5a9e82",
   "metadata": {},
   "outputs": [
    {
     "data": {
      "text/plain": [
       "gppd_idnr             -0.285109\n",
       "capacity_mw            0.023360\n",
       "latitude              -0.042599\n",
       "longitude             -0.039620\n",
       "commissioning_year     0.097517\n",
       "generation_gwh_2014   -0.352692\n",
       "generation_gwh_2015   -0.368877\n",
       "generation_gwh_2016   -0.473629\n",
       "generation_gwh_2017   -0.408210\n",
       "generation_gwh_2018   -0.525522\n",
       "dtype: float64"
      ]
     },
     "execution_count": 45,
     "metadata": {},
     "output_type": "execute_result"
    }
   ],
   "source": [
    "x.skew()"
   ]
  },
  {
   "cell_type": "markdown",
   "id": "951857bf",
   "metadata": {},
   "source": [
    "##### As we seen that all the values are within the threshold."
   ]
  },
  {
   "cell_type": "markdown",
   "id": "d171c7fb",
   "metadata": {},
   "source": [
    "### Checking VIF"
   ]
  },
  {
   "cell_type": "code",
   "execution_count": 46,
   "id": "b753f26e",
   "metadata": {},
   "outputs": [],
   "source": [
    "from statsmodels.stats.outliers_influence import variance_inflation_factor"
   ]
  },
  {
   "cell_type": "code",
   "execution_count": 47,
   "id": "fd7959e2",
   "metadata": {},
   "outputs": [],
   "source": [
    "def calculate_vif(dataset):\n",
    "    vif = pd.DataFrame()\n",
    "    vif['Features'] = x.columns\n",
    "    vif['VIF_Values'] = [variance_inflation_factor(x.values,i) for i in range(x.shape[1])]\n",
    "    return(vif.sort_values(by='VIF_Values',ascending = False))"
   ]
  },
  {
   "cell_type": "code",
   "execution_count": 48,
   "id": "e52811c2",
   "metadata": {},
   "outputs": [
    {
     "data": {
      "text/html": [
       "<div>\n",
       "<style scoped>\n",
       "    .dataframe tbody tr th:only-of-type {\n",
       "        vertical-align: middle;\n",
       "    }\n",
       "\n",
       "    .dataframe tbody tr th {\n",
       "        vertical-align: top;\n",
       "    }\n",
       "\n",
       "    .dataframe thead th {\n",
       "        text-align: right;\n",
       "    }\n",
       "</style>\n",
       "<table border=\"1\" class=\"dataframe\">\n",
       "  <thead>\n",
       "    <tr style=\"text-align: right;\">\n",
       "      <th></th>\n",
       "      <th>Features</th>\n",
       "      <th>VIF_Values</th>\n",
       "    </tr>\n",
       "  </thead>\n",
       "  <tbody>\n",
       "    <tr>\n",
       "      <th>7</th>\n",
       "      <td>generation_gwh_2016</td>\n",
       "      <td>19.094564</td>\n",
       "    </tr>\n",
       "    <tr>\n",
       "      <th>9</th>\n",
       "      <td>generation_gwh_2018</td>\n",
       "      <td>13.804635</td>\n",
       "    </tr>\n",
       "    <tr>\n",
       "      <th>6</th>\n",
       "      <td>generation_gwh_2015</td>\n",
       "      <td>11.887845</td>\n",
       "    </tr>\n",
       "    <tr>\n",
       "      <th>5</th>\n",
       "      <td>generation_gwh_2014</td>\n",
       "      <td>6.600531</td>\n",
       "    </tr>\n",
       "    <tr>\n",
       "      <th>8</th>\n",
       "      <td>generation_gwh_2017</td>\n",
       "      <td>5.309936</td>\n",
       "    </tr>\n",
       "    <tr>\n",
       "      <th>0</th>\n",
       "      <td>gppd_idnr</td>\n",
       "      <td>2.046749</td>\n",
       "    </tr>\n",
       "    <tr>\n",
       "      <th>1</th>\n",
       "      <td>capacity_mw</td>\n",
       "      <td>1.784755</td>\n",
       "    </tr>\n",
       "    <tr>\n",
       "      <th>3</th>\n",
       "      <td>longitude</td>\n",
       "      <td>1.298238</td>\n",
       "    </tr>\n",
       "    <tr>\n",
       "      <th>4</th>\n",
       "      <td>commissioning_year</td>\n",
       "      <td>1.122433</td>\n",
       "    </tr>\n",
       "    <tr>\n",
       "      <th>2</th>\n",
       "      <td>latitude</td>\n",
       "      <td>1.115698</td>\n",
       "    </tr>\n",
       "  </tbody>\n",
       "</table>\n",
       "</div>"
      ],
      "text/plain": [
       "              Features  VIF_Values\n",
       "7  generation_gwh_2016   19.094564\n",
       "9  generation_gwh_2018   13.804635\n",
       "6  generation_gwh_2015   11.887845\n",
       "5  generation_gwh_2014    6.600531\n",
       "8  generation_gwh_2017    5.309936\n",
       "0            gppd_idnr    2.046749\n",
       "1          capacity_mw    1.784755\n",
       "3            longitude    1.298238\n",
       "4   commissioning_year    1.122433\n",
       "2             latitude    1.115698"
      ]
     },
     "execution_count": 48,
     "metadata": {},
     "output_type": "execute_result"
    }
   ],
   "source": [
    "calculate_vif(x)"
   ]
  },
  {
   "cell_type": "code",
   "execution_count": 49,
   "id": "73d263a6",
   "metadata": {},
   "outputs": [
    {
     "data": {
      "text/html": [
       "<div>\n",
       "<style scoped>\n",
       "    .dataframe tbody tr th:only-of-type {\n",
       "        vertical-align: middle;\n",
       "    }\n",
       "\n",
       "    .dataframe tbody tr th {\n",
       "        vertical-align: top;\n",
       "    }\n",
       "\n",
       "    .dataframe thead th {\n",
       "        text-align: right;\n",
       "    }\n",
       "</style>\n",
       "<table border=\"1\" class=\"dataframe\">\n",
       "  <thead>\n",
       "    <tr style=\"text-align: right;\">\n",
       "      <th></th>\n",
       "      <th>gppd_idnr</th>\n",
       "      <th>capacity_mw</th>\n",
       "      <th>latitude</th>\n",
       "      <th>longitude</th>\n",
       "      <th>commissioning_year</th>\n",
       "      <th>generation_gwh_2014</th>\n",
       "      <th>generation_gwh_2015</th>\n",
       "      <th>generation_gwh_2016</th>\n",
       "      <th>generation_gwh_2017</th>\n",
       "      <th>generation_gwh_2018</th>\n",
       "    </tr>\n",
       "  </thead>\n",
       "  <tbody>\n",
       "    <tr>\n",
       "      <th>0</th>\n",
       "      <td>0.729012</td>\n",
       "      <td>-1.809155</td>\n",
       "      <td>1.441329</td>\n",
       "      <td>-0.945277</td>\n",
       "      <td>1.681314</td>\n",
       "      <td>0.301791</td>\n",
       "      <td>0.351119</td>\n",
       "      <td>0.348586</td>\n",
       "      <td>0.281018</td>\n",
       "      <td>0.377556</td>\n",
       "    </tr>\n",
       "    <tr>\n",
       "      <th>1</th>\n",
       "      <td>0.215662</td>\n",
       "      <td>0.193468</td>\n",
       "      <td>0.864361</td>\n",
       "      <td>-0.433187</td>\n",
       "      <td>-0.124700</td>\n",
       "      <td>0.301791</td>\n",
       "      <td>0.351119</td>\n",
       "      <td>0.348586</td>\n",
       "      <td>0.281018</td>\n",
       "      <td>0.377556</td>\n",
       "    </tr>\n",
       "    <tr>\n",
       "      <th>2</th>\n",
       "      <td>1.424887</td>\n",
       "      <td>-0.318428</td>\n",
       "      <td>0.372870</td>\n",
       "      <td>-2.790468</td>\n",
       "      <td>-0.124700</td>\n",
       "      <td>0.301791</td>\n",
       "      <td>0.351119</td>\n",
       "      <td>0.348586</td>\n",
       "      <td>0.281018</td>\n",
       "      <td>0.377556</td>\n",
       "    </tr>\n",
       "    <tr>\n",
       "      <th>3</th>\n",
       "      <td>-2.204517</td>\n",
       "      <td>0.369134</td>\n",
       "      <td>0.711531</td>\n",
       "      <td>2.750071</td>\n",
       "      <td>0.718559</td>\n",
       "      <td>-1.005532</td>\n",
       "      <td>-0.672567</td>\n",
       "      <td>-0.606345</td>\n",
       "      <td>-0.970128</td>\n",
       "      <td>-0.825851</td>\n",
       "    </tr>\n",
       "    <tr>\n",
       "      <th>4</th>\n",
       "      <td>-2.193083</td>\n",
       "      <td>1.712354</td>\n",
       "      <td>0.382651</td>\n",
       "      <td>1.570080</td>\n",
       "      <td>2.285534</td>\n",
       "      <td>0.622901</td>\n",
       "      <td>1.769726</td>\n",
       "      <td>1.751109</td>\n",
       "      <td>1.484557</td>\n",
       "      <td>1.935860</td>\n",
       "    </tr>\n",
       "    <tr>\n",
       "      <th>...</th>\n",
       "      <td>...</td>\n",
       "      <td>...</td>\n",
       "      <td>...</td>\n",
       "      <td>...</td>\n",
       "      <td>...</td>\n",
       "      <td>...</td>\n",
       "      <td>...</td>\n",
       "      <td>...</td>\n",
       "      <td>...</td>\n",
       "      <td>...</td>\n",
       "    </tr>\n",
       "    <tr>\n",
       "      <th>1875</th>\n",
       "      <td>1.412440</td>\n",
       "      <td>-0.176855</td>\n",
       "      <td>-0.112651</td>\n",
       "      <td>-0.317603</td>\n",
       "      <td>-0.124700</td>\n",
       "      <td>0.301791</td>\n",
       "      <td>0.351119</td>\n",
       "      <td>0.348586</td>\n",
       "      <td>0.281018</td>\n",
       "      <td>0.377556</td>\n",
       "    </tr>\n",
       "    <tr>\n",
       "      <th>1876</th>\n",
       "      <td>1.368759</td>\n",
       "      <td>-1.039727</td>\n",
       "      <td>-1.414916</td>\n",
       "      <td>0.332161</td>\n",
       "      <td>-0.124700</td>\n",
       "      <td>0.301791</td>\n",
       "      <td>0.351119</td>\n",
       "      <td>0.348586</td>\n",
       "      <td>0.281018</td>\n",
       "      <td>0.377556</td>\n",
       "    </tr>\n",
       "    <tr>\n",
       "      <th>1877</th>\n",
       "      <td>0.794336</td>\n",
       "      <td>0.184531</td>\n",
       "      <td>-0.510402</td>\n",
       "      <td>-0.569105</td>\n",
       "      <td>-0.124700</td>\n",
       "      <td>0.301791</td>\n",
       "      <td>0.351119</td>\n",
       "      <td>0.348586</td>\n",
       "      <td>0.281018</td>\n",
       "      <td>0.377556</td>\n",
       "    </tr>\n",
       "    <tr>\n",
       "      <th>1878</th>\n",
       "      <td>1.495650</td>\n",
       "      <td>-1.377907</td>\n",
       "      <td>-1.717526</td>\n",
       "      <td>0.468923</td>\n",
       "      <td>-0.124700</td>\n",
       "      <td>0.301791</td>\n",
       "      <td>0.351119</td>\n",
       "      <td>0.348586</td>\n",
       "      <td>0.281018</td>\n",
       "      <td>0.377556</td>\n",
       "    </tr>\n",
       "    <tr>\n",
       "      <th>1879</th>\n",
       "      <td>1.323268</td>\n",
       "      <td>-1.005507</td>\n",
       "      <td>-1.207502</td>\n",
       "      <td>0.180875</td>\n",
       "      <td>-0.124700</td>\n",
       "      <td>0.301791</td>\n",
       "      <td>0.351119</td>\n",
       "      <td>0.348586</td>\n",
       "      <td>0.281018</td>\n",
       "      <td>0.377556</td>\n",
       "    </tr>\n",
       "  </tbody>\n",
       "</table>\n",
       "<p>1880 rows × 10 columns</p>\n",
       "</div>"
      ],
      "text/plain": [
       "      gppd_idnr  capacity_mw  latitude  longitude  commissioning_year  \\\n",
       "0      0.729012    -1.809155  1.441329  -0.945277            1.681314   \n",
       "1      0.215662     0.193468  0.864361  -0.433187           -0.124700   \n",
       "2      1.424887    -0.318428  0.372870  -2.790468           -0.124700   \n",
       "3     -2.204517     0.369134  0.711531   2.750071            0.718559   \n",
       "4     -2.193083     1.712354  0.382651   1.570080            2.285534   \n",
       "...         ...          ...       ...        ...                 ...   \n",
       "1875   1.412440    -0.176855 -0.112651  -0.317603           -0.124700   \n",
       "1876   1.368759    -1.039727 -1.414916   0.332161           -0.124700   \n",
       "1877   0.794336     0.184531 -0.510402  -0.569105           -0.124700   \n",
       "1878   1.495650    -1.377907 -1.717526   0.468923           -0.124700   \n",
       "1879   1.323268    -1.005507 -1.207502   0.180875           -0.124700   \n",
       "\n",
       "      generation_gwh_2014  generation_gwh_2015  generation_gwh_2016  \\\n",
       "0                0.301791             0.351119             0.348586   \n",
       "1                0.301791             0.351119             0.348586   \n",
       "2                0.301791             0.351119             0.348586   \n",
       "3               -1.005532            -0.672567            -0.606345   \n",
       "4                0.622901             1.769726             1.751109   \n",
       "...                   ...                  ...                  ...   \n",
       "1875             0.301791             0.351119             0.348586   \n",
       "1876             0.301791             0.351119             0.348586   \n",
       "1877             0.301791             0.351119             0.348586   \n",
       "1878             0.301791             0.351119             0.348586   \n",
       "1879             0.301791             0.351119             0.348586   \n",
       "\n",
       "      generation_gwh_2017  generation_gwh_2018  \n",
       "0                0.281018             0.377556  \n",
       "1                0.281018             0.377556  \n",
       "2                0.281018             0.377556  \n",
       "3               -0.970128            -0.825851  \n",
       "4                1.484557             1.935860  \n",
       "...                   ...                  ...  \n",
       "1875             0.281018             0.377556  \n",
       "1876             0.281018             0.377556  \n",
       "1877             0.281018             0.377556  \n",
       "1878             0.281018             0.377556  \n",
       "1879             0.281018             0.377556  \n",
       "\n",
       "[1880 rows x 10 columns]"
      ]
     },
     "execution_count": 49,
     "metadata": {},
     "output_type": "execute_result"
    }
   ],
   "source": [
    "x"
   ]
  },
  {
   "cell_type": "code",
   "execution_count": 50,
   "id": "044709b2",
   "metadata": {},
   "outputs": [
    {
     "data": {
      "text/plain": [
       "(1880, 10)"
      ]
     },
     "execution_count": 50,
     "metadata": {},
     "output_type": "execute_result"
    }
   ],
   "source": [
    "x.shape"
   ]
  },
  {
   "cell_type": "code",
   "execution_count": 51,
   "id": "05fe3c60",
   "metadata": {},
   "outputs": [
    {
     "data": {
      "text/html": [
       "<div>\n",
       "<style scoped>\n",
       "    .dataframe tbody tr th:only-of-type {\n",
       "        vertical-align: middle;\n",
       "    }\n",
       "\n",
       "    .dataframe tbody tr th {\n",
       "        vertical-align: top;\n",
       "    }\n",
       "\n",
       "    .dataframe thead th {\n",
       "        text-align: right;\n",
       "    }\n",
       "</style>\n",
       "<table border=\"1\" class=\"dataframe\">\n",
       "  <thead>\n",
       "    <tr style=\"text-align: right;\">\n",
       "      <th></th>\n",
       "      <th>Features</th>\n",
       "      <th>VIF_Values</th>\n",
       "    </tr>\n",
       "  </thead>\n",
       "  <tbody>\n",
       "    <tr>\n",
       "      <th>7</th>\n",
       "      <td>generation_gwh_2016</td>\n",
       "      <td>19.094564</td>\n",
       "    </tr>\n",
       "    <tr>\n",
       "      <th>9</th>\n",
       "      <td>generation_gwh_2018</td>\n",
       "      <td>13.804635</td>\n",
       "    </tr>\n",
       "    <tr>\n",
       "      <th>6</th>\n",
       "      <td>generation_gwh_2015</td>\n",
       "      <td>11.887845</td>\n",
       "    </tr>\n",
       "    <tr>\n",
       "      <th>5</th>\n",
       "      <td>generation_gwh_2014</td>\n",
       "      <td>6.600531</td>\n",
       "    </tr>\n",
       "    <tr>\n",
       "      <th>8</th>\n",
       "      <td>generation_gwh_2017</td>\n",
       "      <td>5.309936</td>\n",
       "    </tr>\n",
       "    <tr>\n",
       "      <th>0</th>\n",
       "      <td>gppd_idnr</td>\n",
       "      <td>2.046749</td>\n",
       "    </tr>\n",
       "    <tr>\n",
       "      <th>1</th>\n",
       "      <td>capacity_mw</td>\n",
       "      <td>1.784755</td>\n",
       "    </tr>\n",
       "    <tr>\n",
       "      <th>3</th>\n",
       "      <td>longitude</td>\n",
       "      <td>1.298238</td>\n",
       "    </tr>\n",
       "    <tr>\n",
       "      <th>4</th>\n",
       "      <td>commissioning_year</td>\n",
       "      <td>1.122433</td>\n",
       "    </tr>\n",
       "    <tr>\n",
       "      <th>2</th>\n",
       "      <td>latitude</td>\n",
       "      <td>1.115698</td>\n",
       "    </tr>\n",
       "  </tbody>\n",
       "</table>\n",
       "</div>"
      ],
      "text/plain": [
       "              Features  VIF_Values\n",
       "7  generation_gwh_2016   19.094564\n",
       "9  generation_gwh_2018   13.804635\n",
       "6  generation_gwh_2015   11.887845\n",
       "5  generation_gwh_2014    6.600531\n",
       "8  generation_gwh_2017    5.309936\n",
       "0            gppd_idnr    2.046749\n",
       "1          capacity_mw    1.784755\n",
       "3            longitude    1.298238\n",
       "4   commissioning_year    1.122433\n",
       "2             latitude    1.115698"
      ]
     },
     "execution_count": 51,
     "metadata": {},
     "output_type": "execute_result"
    }
   ],
   "source": [
    "calculate_vif(x)"
   ]
  },
  {
   "cell_type": "markdown",
   "id": "78423637",
   "metadata": {},
   "source": [
    "### Scaling the Model"
   ]
  },
  {
   "cell_type": "code",
   "execution_count": 52,
   "id": "756a3664",
   "metadata": {},
   "outputs": [],
   "source": [
    "from sklearn.preprocessing import StandardScaler\n",
    "\n",
    "sc = StandardScaler()\n",
    "ppx = sc.fit_transform(x)"
   ]
  },
  {
   "cell_type": "code",
   "execution_count": 53,
   "id": "f05ef493",
   "metadata": {},
   "outputs": [
    {
     "data": {
      "text/plain": [
       "(1880, 10)"
      ]
     },
     "execution_count": 53,
     "metadata": {},
     "output_type": "execute_result"
    }
   ],
   "source": [
    "x.shape"
   ]
  },
  {
   "cell_type": "code",
   "execution_count": 54,
   "id": "a9255824",
   "metadata": {},
   "outputs": [
    {
     "data": {
      "text/plain": [
       "(1880,)"
      ]
     },
     "execution_count": 54,
     "metadata": {},
     "output_type": "execute_result"
    }
   ],
   "source": [
    "y.shape"
   ]
  },
  {
   "cell_type": "markdown",
   "id": "4c5f3bb8",
   "metadata": {},
   "source": [
    "## Classification for Primary Fuel"
   ]
  },
  {
   "cell_type": "markdown",
   "id": "05c3818f",
   "metadata": {},
   "source": [
    "### Training Process"
   ]
  },
  {
   "cell_type": "code",
   "execution_count": 55,
   "id": "de0b3949",
   "metadata": {},
   "outputs": [],
   "source": [
    "from sklearn.linear_model import LogisticRegression\n",
    "from sklearn.metrics import accuracy_score\n",
    "from sklearn.metrics import confusion_matrix,classification_report\n",
    "from sklearn.model_selection import train_test_split\n",
    "from sklearn.model_selection import cross_val_score"
   ]
  },
  {
   "cell_type": "code",
   "execution_count": 56,
   "id": "7f0c3e77",
   "metadata": {},
   "outputs": [
    {
     "data": {
      "text/plain": [
       "LogisticRegression()"
      ]
     },
     "execution_count": 56,
     "metadata": {},
     "output_type": "execute_result"
    }
   ],
   "source": [
    "lr = LogisticRegression()\n",
    "lr"
   ]
  },
  {
   "cell_type": "markdown",
   "id": "3c04be1f",
   "metadata": {},
   "source": [
    "### Best Random State"
   ]
  },
  {
   "cell_type": "code",
   "execution_count": 57,
   "id": "942ce52b",
   "metadata": {},
   "outputs": [
    {
     "name": "stdout",
     "output_type": "stream",
     "text": [
      "Best Accuracy is 0.7021276595744681 on Random State 1\n"
     ]
    }
   ],
   "source": [
    "maxAccu = 0\n",
    "maxRs = 0\n",
    "\n",
    "for i in (1,100):\n",
    "    x_train,x_test,y_train,y_test = train_test_split(x,y,test_size=.25,random_state=i)\n",
    "    lr.fit(x_train,y_train)\n",
    "    pred = lr.predict(x_test)\n",
    "    acc = accuracy_score(y_test,pred)\n",
    "    if acc>maxAccu:\n",
    "        maxAccu=acc\n",
    "        maxRs=i\n",
    "print('Best Accuracy is',maxAccu,'on Random State',maxRs)"
   ]
  },
  {
   "cell_type": "code",
   "execution_count": 58,
   "id": "b6b9ae3a",
   "metadata": {},
   "outputs": [],
   "source": [
    "x_train,x_test,y_train,y_test = train_test_split(x,y,test_size=.25,random_state=1)"
   ]
  },
  {
   "cell_type": "code",
   "execution_count": 59,
   "id": "a866bcde",
   "metadata": {},
   "outputs": [
    {
     "data": {
      "text/plain": [
       "(1410, 10)"
      ]
     },
     "execution_count": 59,
     "metadata": {},
     "output_type": "execute_result"
    }
   ],
   "source": [
    "x_train.shape"
   ]
  },
  {
   "cell_type": "code",
   "execution_count": 60,
   "id": "22c7f957",
   "metadata": {},
   "outputs": [
    {
     "data": {
      "text/plain": [
       "(470, 10)"
      ]
     },
     "execution_count": 60,
     "metadata": {},
     "output_type": "execute_result"
    }
   ],
   "source": [
    "x_test.shape"
   ]
  },
  {
   "cell_type": "code",
   "execution_count": 61,
   "id": "c236a329",
   "metadata": {},
   "outputs": [
    {
     "data": {
      "text/plain": [
       "(1410,)"
      ]
     },
     "execution_count": 61,
     "metadata": {},
     "output_type": "execute_result"
    }
   ],
   "source": [
    "y_train.shape"
   ]
  },
  {
   "cell_type": "code",
   "execution_count": 62,
   "id": "5baa06ae",
   "metadata": {},
   "outputs": [
    {
     "data": {
      "text/plain": [
       "(470,)"
      ]
     },
     "execution_count": 62,
     "metadata": {},
     "output_type": "execute_result"
    }
   ],
   "source": [
    "y_test.shape"
   ]
  },
  {
   "cell_type": "markdown",
   "id": "e1a9bce9",
   "metadata": {},
   "source": [
    "### Model Testing"
   ]
  },
  {
   "cell_type": "code",
   "execution_count": 63,
   "id": "811ab146",
   "metadata": {},
   "outputs": [],
   "source": [
    "def Model(model):\n",
    "    model.fit(x_train,y_train)\n",
    "    pred = model.predict(x_test)\n",
    "    print('Accuracy',accuracy_score(y_test,pred))\n",
    "    print(confusion_matrix(y_test,pred))\n",
    "    print(classification_report(y_test,pred))\n",
    "    scr1 = cross_val_score(model,x,y,cv = 5)\n",
    "    print('Cross validation score :',scr1.mean())"
   ]
  },
  {
   "cell_type": "markdown",
   "id": "09a62427",
   "metadata": {},
   "source": [
    "### Logistic Regression"
   ]
  },
  {
   "cell_type": "code",
   "execution_count": 64,
   "id": "ec91eeb8",
   "metadata": {},
   "outputs": [
    {
     "name": "stdout",
     "output_type": "stream",
     "text": [
      "Accuracy 0.7021276595744681\n",
      "[[62  0  0  0  0  0  0  0]\n",
      " [ 5 27 10  7 10  2  0  0]\n",
      " [ 2 10 20  5  2  8  0  0]\n",
      " [ 2 10 12 34  1  3  0  0]\n",
      " [ 0  2  0  5 52  0  0  1]\n",
      " [ 2  1 13  3  0 44  0  1]\n",
      " [ 0  0  0  0  0  0 46 10]\n",
      " [ 3  2  0  0  0  0  8 45]]\n",
      "              precision    recall  f1-score   support\n",
      "\n",
      "         0.0       0.82      1.00      0.90        62\n",
      "         1.0       0.52      0.44      0.48        61\n",
      "         2.0       0.36      0.43      0.39        47\n",
      "         3.0       0.63      0.55      0.59        62\n",
      "         4.0       0.80      0.87      0.83        60\n",
      "         5.0       0.77      0.69      0.73        64\n",
      "         6.0       0.85      0.82      0.84        56\n",
      "         7.0       0.79      0.78      0.78        58\n",
      "\n",
      "    accuracy                           0.70       470\n",
      "   macro avg       0.69      0.70      0.69       470\n",
      "weighted avg       0.70      0.70      0.70       470\n",
      "\n",
      "Cross validation score : 0.6856382978723404\n"
     ]
    }
   ],
   "source": [
    "from sklearn.linear_model import LogisticRegression\n",
    "\n",
    "lr = LogisticRegression()\n",
    "Model(lr)"
   ]
  },
  {
   "cell_type": "markdown",
   "id": "5346edeb",
   "metadata": {},
   "source": [
    "### Random Forest Classifier"
   ]
  },
  {
   "cell_type": "code",
   "execution_count": 65,
   "id": "61f74f35",
   "metadata": {},
   "outputs": [
    {
     "name": "stdout",
     "output_type": "stream",
     "text": [
      "Accuracy 0.9127659574468086\n",
      "[[62  0  0  0  0  0  0  0]\n",
      " [ 3 40  8  3  5  2  0  0]\n",
      " [ 2  2 39  0  1  3  0  0]\n",
      " [ 0  2  6 52  2  0  0  0]\n",
      " [ 0  0  0  0 60  0  0  0]\n",
      " [ 0  1  1  0  0 62  0  0]\n",
      " [ 0  0  0  0  0  0 56  0]\n",
      " [ 0  0  0  0  0  0  0 58]]\n",
      "              precision    recall  f1-score   support\n",
      "\n",
      "         0.0       0.93      1.00      0.96        62\n",
      "         1.0       0.89      0.66      0.75        61\n",
      "         2.0       0.72      0.83      0.77        47\n",
      "         3.0       0.95      0.84      0.89        62\n",
      "         4.0       0.88      1.00      0.94        60\n",
      "         5.0       0.93      0.97      0.95        64\n",
      "         6.0       1.00      1.00      1.00        56\n",
      "         7.0       1.00      1.00      1.00        58\n",
      "\n",
      "    accuracy                           0.91       470\n",
      "   macro avg       0.91      0.91      0.91       470\n",
      "weighted avg       0.92      0.91      0.91       470\n",
      "\n",
      "Cross validation score : 0.9164893617021278\n"
     ]
    }
   ],
   "source": [
    "from sklearn.ensemble import RandomForestClassifier\n",
    "\n",
    "rf = RandomForestClassifier()\n",
    "Model(rf)"
   ]
  },
  {
   "cell_type": "markdown",
   "id": "5c65f60e",
   "metadata": {},
   "source": [
    "### Service Vector Classifier"
   ]
  },
  {
   "cell_type": "code",
   "execution_count": 66,
   "id": "fb0973c1",
   "metadata": {},
   "outputs": [
    {
     "name": "stdout",
     "output_type": "stream",
     "text": [
      "Accuracy 0.8106382978723404\n",
      "[[62  0  0  0  0  0  0  0]\n",
      " [ 4 36 11  2  6  2  0  0]\n",
      " [ 2  7 30  0  1  7  0  0]\n",
      " [ 1  5 14 40  1  1  0  0]\n",
      " [ 0  0  0  0 60  0  0  0]\n",
      " [ 0  1  0  1  0 62  0  0]\n",
      " [ 0  0  0  0  0  0 45 11]\n",
      " [ 1  2  0  0  0  3  6 46]]\n",
      "              precision    recall  f1-score   support\n",
      "\n",
      "         0.0       0.89      1.00      0.94        62\n",
      "         1.0       0.71      0.59      0.64        61\n",
      "         2.0       0.55      0.64      0.59        47\n",
      "         3.0       0.93      0.65      0.76        62\n",
      "         4.0       0.88      1.00      0.94        60\n",
      "         5.0       0.83      0.97      0.89        64\n",
      "         6.0       0.88      0.80      0.84        56\n",
      "         7.0       0.81      0.79      0.80        58\n",
      "\n",
      "    accuracy                           0.81       470\n",
      "   macro avg       0.81      0.80      0.80       470\n",
      "weighted avg       0.82      0.81      0.81       470\n",
      "\n",
      "Cross validation score : 0.8090425531914894\n"
     ]
    }
   ],
   "source": [
    "from sklearn.svm import SVC\n",
    "\n",
    "sv = SVC()\n",
    "Model(sv)"
   ]
  },
  {
   "cell_type": "markdown",
   "id": "5e29bf7b",
   "metadata": {},
   "source": [
    "### Decision Tree Classifier"
   ]
  },
  {
   "cell_type": "code",
   "execution_count": 67,
   "id": "36c9a196",
   "metadata": {},
   "outputs": [
    {
     "name": "stdout",
     "output_type": "stream",
     "text": [
      "Accuracy 0.8702127659574468\n",
      "[[59  0  2  0  0  1  0  0]\n",
      " [ 1 41  9  1  7  2  0  0]\n",
      " [ 2  7 33  1  0  4  0  0]\n",
      " [ 1  5  7 45  1  3  0  0]\n",
      " [ 0  1  0  0 59  0  0  0]\n",
      " [ 0  1  4  1  0 58  0  0]\n",
      " [ 0  0  0  0  0  0 56  0]\n",
      " [ 0  0  0  0  0  0  0 58]]\n",
      "              precision    recall  f1-score   support\n",
      "\n",
      "         0.0       0.94      0.95      0.94        62\n",
      "         1.0       0.75      0.67      0.71        61\n",
      "         2.0       0.60      0.70      0.65        47\n",
      "         3.0       0.94      0.73      0.82        62\n",
      "         4.0       0.88      0.98      0.93        60\n",
      "         5.0       0.85      0.91      0.88        64\n",
      "         6.0       1.00      1.00      1.00        56\n",
      "         7.0       1.00      1.00      1.00        58\n",
      "\n",
      "    accuracy                           0.87       470\n",
      "   macro avg       0.87      0.87      0.87       470\n",
      "weighted avg       0.88      0.87      0.87       470\n",
      "\n",
      "Cross validation score : 0.8686170212765958\n"
     ]
    }
   ],
   "source": [
    "from sklearn.tree import DecisionTreeClassifier\n",
    "\n",
    "dt = DecisionTreeClassifier()\n",
    "Model(dt)"
   ]
  },
  {
   "cell_type": "markdown",
   "id": "9571f8d0",
   "metadata": {},
   "source": [
    "### KNeighbours Classifier"
   ]
  },
  {
   "cell_type": "code",
   "execution_count": 68,
   "id": "bb2ae1b6",
   "metadata": {},
   "outputs": [
    {
     "name": "stdout",
     "output_type": "stream",
     "text": [
      "Accuracy 0.8425531914893617\n",
      "[[62  0  0  0  0  0  0  0]\n",
      " [ 4 39  7  2  6  3  0  0]\n",
      " [ 2  4 37  0  1  3  0  0]\n",
      " [ 1  5 16 37  2  1  0  0]\n",
      " [ 0  1  0  0 59  0  0  0]\n",
      " [ 0  0  0  0  0 64  0  0]\n",
      " [ 1  1  0  0  0  0 48  6]\n",
      " [ 0  0  3  0  0  0  5 50]]\n",
      "              precision    recall  f1-score   support\n",
      "\n",
      "         0.0       0.89      1.00      0.94        62\n",
      "         1.0       0.78      0.64      0.70        61\n",
      "         2.0       0.59      0.79      0.67        47\n",
      "         3.0       0.95      0.60      0.73        62\n",
      "         4.0       0.87      0.98      0.92        60\n",
      "         5.0       0.90      1.00      0.95        64\n",
      "         6.0       0.91      0.86      0.88        56\n",
      "         7.0       0.89      0.86      0.88        58\n",
      "\n",
      "    accuracy                           0.84       470\n",
      "   macro avg       0.85      0.84      0.83       470\n",
      "weighted avg       0.85      0.84      0.84       470\n",
      "\n",
      "Cross validation score : 0.8319148936170212\n"
     ]
    }
   ],
   "source": [
    "from sklearn.neighbors import KNeighborsClassifier\n",
    "\n",
    "kn = KNeighborsClassifier()\n",
    "Model(kn)"
   ]
  },
  {
   "cell_type": "markdown",
   "id": "c8b6411f",
   "metadata": {},
   "source": [
    "### Extra Tree Classifier"
   ]
  },
  {
   "cell_type": "code",
   "execution_count": 69,
   "id": "f1f557ee",
   "metadata": {},
   "outputs": [
    {
     "name": "stdout",
     "output_type": "stream",
     "text": [
      "Accuracy 0.825531914893617\n",
      "[[58  2  1  0  0  0  0  1]\n",
      " [ 6 29 11  1  9  4  0  1]\n",
      " [ 1  4 34  3  1  4  0  0]\n",
      " [ 0  5  9 46  0  2  0  0]\n",
      " [ 0  0  0  0 60  0  0  0]\n",
      " [ 0  0  3  1  0 60  0  0]\n",
      " [ 2  0  0  0  0  0 48  6]\n",
      " [ 0  2  0  0  0  0  3 53]]\n",
      "              precision    recall  f1-score   support\n",
      "\n",
      "         0.0       0.87      0.94      0.90        62\n",
      "         1.0       0.69      0.48      0.56        61\n",
      "         2.0       0.59      0.72      0.65        47\n",
      "         3.0       0.90      0.74      0.81        62\n",
      "         4.0       0.86      1.00      0.92        60\n",
      "         5.0       0.86      0.94      0.90        64\n",
      "         6.0       0.94      0.86      0.90        56\n",
      "         7.0       0.87      0.91      0.89        58\n",
      "\n",
      "    accuracy                           0.83       470\n",
      "   macro avg       0.82      0.82      0.82       470\n",
      "weighted avg       0.83      0.83      0.82       470\n",
      "\n",
      "Cross validation score : 0.8164893617021278\n"
     ]
    }
   ],
   "source": [
    "from sklearn.tree import ExtraTreeClassifier\n",
    "\n",
    "et = ExtraTreeClassifier()\n",
    "Model(et)"
   ]
  },
  {
   "cell_type": "markdown",
   "id": "ddea48e3",
   "metadata": {},
   "source": [
    "##### Accuracy score for Random Forest Classifier is higher than the other models. Now we doing Hyper Parameter Tuning and after that select the final Model."
   ]
  },
  {
   "cell_type": "markdown",
   "id": "3bcb3a5d",
   "metadata": {},
   "source": [
    "### Hyper Parameter Tuning"
   ]
  },
  {
   "cell_type": "markdown",
   "id": "cf0220cc",
   "metadata": {},
   "source": [
    "#### Random Forest Classifier"
   ]
  },
  {
   "cell_type": "code",
   "execution_count": 70,
   "id": "a5e5dc42",
   "metadata": {},
   "outputs": [
    {
     "data": {
      "text/plain": [
       "RandomForestClassifier()"
      ]
     },
     "execution_count": 70,
     "metadata": {},
     "output_type": "execute_result"
    }
   ],
   "source": [
    "RandomForestClassifier()"
   ]
  },
  {
   "cell_type": "code",
   "execution_count": 71,
   "id": "8d95a440",
   "metadata": {},
   "outputs": [],
   "source": [
    "from sklearn.model_selection import GridSearchCV\n",
    "\n",
    "parameters = {'n_estimators' : [100],\n",
    "              'criterion' : [\"gini\", \"entropy\"],\n",
    "              'max_depth' : [2,4,6,8,10],\n",
    "              'max_features' : [\"auto\", \"sqrt\", \"log2\"],\n",
    "              'class_weight' : [\"balanced\", \"balanced_subsample\"]}"
   ]
  },
  {
   "cell_type": "code",
   "execution_count": 72,
   "id": "7b78d2dd",
   "metadata": {},
   "outputs": [
    {
     "data": {
      "text/plain": [
       "{'class_weight': 'balanced',\n",
       " 'criterion': 'entropy',\n",
       " 'max_depth': 10,\n",
       " 'max_features': 'sqrt',\n",
       " 'n_estimators': 100}"
      ]
     },
     "execution_count": 72,
     "metadata": {},
     "output_type": "execute_result"
    }
   ],
   "source": [
    "GSC = GridSearchCV(RandomForestClassifier(),parameters,cv=5,scoring='accuracy')\n",
    "GSC.fit(x_train,y_train)\n",
    "GSC.best_params_"
   ]
  },
  {
   "cell_type": "code",
   "execution_count": 73,
   "id": "94236f3a",
   "metadata": {},
   "outputs": [
    {
     "data": {
      "text/plain": [
       "0.9085106382978724"
      ]
     },
     "execution_count": 73,
     "metadata": {},
     "output_type": "execute_result"
    }
   ],
   "source": [
    "GSC_pred = GSC.best_estimator_.predict(x_test)\n",
    "accuracy_score(y_test,GSC_pred)"
   ]
  },
  {
   "cell_type": "markdown",
   "id": "726931c7",
   "metadata": {},
   "source": [
    "### Decision Tree Classifier"
   ]
  },
  {
   "cell_type": "code",
   "execution_count": 74,
   "id": "437cc845",
   "metadata": {},
   "outputs": [
    {
     "data": {
      "text/plain": [
       "DecisionTreeClassifier()"
      ]
     },
     "execution_count": 74,
     "metadata": {},
     "output_type": "execute_result"
    }
   ],
   "source": [
    "DecisionTreeClassifier()"
   ]
  },
  {
   "cell_type": "code",
   "execution_count": 75,
   "id": "b38a5b39",
   "metadata": {},
   "outputs": [],
   "source": [
    "parameters = {'criterion' : [\"gini\", \"entropy\"],\n",
    "             'splitter' : [\"best\", \"random\"],\n",
    "             'max_depth' : [2,4,6,8,10],\n",
    "             'max_features' :[\"auto\", \"sqrt\", \"log2\"]}"
   ]
  },
  {
   "cell_type": "code",
   "execution_count": 76,
   "id": "1b85f13f",
   "metadata": {},
   "outputs": [
    {
     "data": {
      "text/plain": [
       "{'criterion': 'entropy',\n",
       " 'max_depth': 10,\n",
       " 'max_features': 'auto',\n",
       " 'splitter': 'best'}"
      ]
     },
     "execution_count": 76,
     "metadata": {},
     "output_type": "execute_result"
    }
   ],
   "source": [
    "GSC = GridSearchCV(DecisionTreeClassifier(),parameters,cv=5,scoring='accuracy')\n",
    "GSC.fit(x_train,y_train)\n",
    "GSC.best_params_"
   ]
  },
  {
   "cell_type": "code",
   "execution_count": 77,
   "id": "4fb1a21f",
   "metadata": {},
   "outputs": [
    {
     "data": {
      "text/plain": [
       "0.8127659574468085"
      ]
     },
     "execution_count": 77,
     "metadata": {},
     "output_type": "execute_result"
    }
   ],
   "source": [
    "GSC_pred = GSC.best_estimator_.predict(x_test)\n",
    "accuracy_score(y_test,GSC_pred)"
   ]
  },
  {
   "cell_type": "markdown",
   "id": "8407b51a",
   "metadata": {},
   "source": [
    "#### KNeighbours Classifier"
   ]
  },
  {
   "cell_type": "code",
   "execution_count": 78,
   "id": "fca54f4e",
   "metadata": {},
   "outputs": [
    {
     "data": {
      "text/plain": [
       "KNeighborsClassifier()"
      ]
     },
     "execution_count": 78,
     "metadata": {},
     "output_type": "execute_result"
    }
   ],
   "source": [
    "KNeighborsClassifier()"
   ]
  },
  {
   "cell_type": "code",
   "execution_count": 79,
   "id": "886af41d",
   "metadata": {},
   "outputs": [],
   "source": [
    "parameters = {'weights' : ['uniform', 'distance'],\n",
    "             'algorithm' : ['auto', 'ball_tree', 'kd_tree', 'brute'],\n",
    "             'leaf_size' : [30]}"
   ]
  },
  {
   "cell_type": "code",
   "execution_count": 80,
   "id": "c48130c7",
   "metadata": {},
   "outputs": [
    {
     "data": {
      "text/plain": [
       "{'algorithm': 'auto', 'leaf_size': 30, 'weights': 'distance'}"
      ]
     },
     "execution_count": 80,
     "metadata": {},
     "output_type": "execute_result"
    }
   ],
   "source": [
    "GSC = GridSearchCV(KNeighborsClassifier(),parameters,cv=5,scoring='accuracy')\n",
    "GSC.fit(x_train,y_train)\n",
    "GSC.best_params_"
   ]
  },
  {
   "cell_type": "code",
   "execution_count": 81,
   "id": "bd29f552",
   "metadata": {},
   "outputs": [
    {
     "data": {
      "text/plain": [
       "0.8659574468085106"
      ]
     },
     "execution_count": 81,
     "metadata": {},
     "output_type": "execute_result"
    }
   ],
   "source": [
    "GSC_pred = GSC.best_estimator_.predict(x_test)\n",
    "accuracy_score(y_test,GSC_pred)"
   ]
  },
  {
   "cell_type": "markdown",
   "id": "313fe874",
   "metadata": {},
   "source": [
    "##### As we seen after doing hyper parameter tuning only for KNeighbours Classifier accuracy score is increased, but the Accuracy score for Random Forest Classifier is highest than other Models without Hyper parameter Tuning.\n",
    "\n",
    "##### So we choose Random Forest Classifier as our Final Model."
   ]
  },
  {
   "cell_type": "markdown",
   "id": "cbcec52b",
   "metadata": {},
   "source": [
    "## Regression for Capacity_mw"
   ]
  },
  {
   "cell_type": "code",
   "execution_count": 82,
   "id": "175b22f8",
   "metadata": {},
   "outputs": [
    {
     "data": {
      "text/html": [
       "<div>\n",
       "<style scoped>\n",
       "    .dataframe tbody tr th:only-of-type {\n",
       "        vertical-align: middle;\n",
       "    }\n",
       "\n",
       "    .dataframe tbody tr th {\n",
       "        vertical-align: top;\n",
       "    }\n",
       "\n",
       "    .dataframe thead th {\n",
       "        text-align: right;\n",
       "    }\n",
       "</style>\n",
       "<table border=\"1\" class=\"dataframe\">\n",
       "  <thead>\n",
       "    <tr style=\"text-align: right;\">\n",
       "      <th></th>\n",
       "      <th>gppd_idnr</th>\n",
       "      <th>capacity_mw</th>\n",
       "      <th>latitude</th>\n",
       "      <th>longitude</th>\n",
       "      <th>primary_fuel</th>\n",
       "      <th>commissioning_year</th>\n",
       "      <th>generation_gwh_2014</th>\n",
       "      <th>generation_gwh_2015</th>\n",
       "      <th>generation_gwh_2016</th>\n",
       "      <th>generation_gwh_2017</th>\n",
       "      <th>generation_gwh_2018</th>\n",
       "    </tr>\n",
       "  </thead>\n",
       "  <tbody>\n",
       "    <tr>\n",
       "      <th>0</th>\n",
       "      <td>657.0</td>\n",
       "      <td>2.5</td>\n",
       "      <td>28.1839</td>\n",
       "      <td>73.2407</td>\n",
       "      <td>6.0</td>\n",
       "      <td>2011.000000</td>\n",
       "      <td>2431.823590</td>\n",
       "      <td>2428.226946</td>\n",
       "      <td>2467.936859</td>\n",
       "      <td>2547.759305</td>\n",
       "      <td>2600.804099</td>\n",
       "    </tr>\n",
       "    <tr>\n",
       "      <th>1</th>\n",
       "      <td>519.0</td>\n",
       "      <td>98.0</td>\n",
       "      <td>24.7663</td>\n",
       "      <td>74.6090</td>\n",
       "      <td>1.0</td>\n",
       "      <td>1997.091082</td>\n",
       "      <td>2431.823590</td>\n",
       "      <td>2428.226946</td>\n",
       "      <td>2467.936859</td>\n",
       "      <td>2547.759305</td>\n",
       "      <td>2600.804099</td>\n",
       "    </tr>\n",
       "    <tr>\n",
       "      <th>2</th>\n",
       "      <td>853.0</td>\n",
       "      <td>39.2</td>\n",
       "      <td>21.9038</td>\n",
       "      <td>69.3732</td>\n",
       "      <td>7.0</td>\n",
       "      <td>1997.091082</td>\n",
       "      <td>2431.823590</td>\n",
       "      <td>2428.226946</td>\n",
       "      <td>2467.936859</td>\n",
       "      <td>2547.759305</td>\n",
       "      <td>2600.804099</td>\n",
       "    </tr>\n",
       "    <tr>\n",
       "      <th>3</th>\n",
       "      <td>0.0</td>\n",
       "      <td>135.0</td>\n",
       "      <td>23.8712</td>\n",
       "      <td>91.3602</td>\n",
       "      <td>2.0</td>\n",
       "      <td>2004.000000</td>\n",
       "      <td>617.789264</td>\n",
       "      <td>843.747000</td>\n",
       "      <td>886.004428</td>\n",
       "      <td>663.774500</td>\n",
       "      <td>626.239128</td>\n",
       "    </tr>\n",
       "    <tr>\n",
       "      <th>4</th>\n",
       "      <td>1.0</td>\n",
       "      <td>1800.0</td>\n",
       "      <td>21.9603</td>\n",
       "      <td>82.4091</td>\n",
       "      <td>1.0</td>\n",
       "      <td>2015.000000</td>\n",
       "      <td>3035.550000</td>\n",
       "      <td>5916.370000</td>\n",
       "      <td>6243.000000</td>\n",
       "      <td>5385.579736</td>\n",
       "      <td>7279.000000</td>\n",
       "    </tr>\n",
       "    <tr>\n",
       "      <th>...</th>\n",
       "      <td>...</td>\n",
       "      <td>...</td>\n",
       "      <td>...</td>\n",
       "      <td>...</td>\n",
       "      <td>...</td>\n",
       "      <td>...</td>\n",
       "      <td>...</td>\n",
       "      <td>...</td>\n",
       "      <td>...</td>\n",
       "      <td>...</td>\n",
       "      <td>...</td>\n",
       "    </tr>\n",
       "    <tr>\n",
       "      <th>902</th>\n",
       "      <td>491.0</td>\n",
       "      <td>1600.0</td>\n",
       "      <td>16.2949</td>\n",
       "      <td>77.3568</td>\n",
       "      <td>1.0</td>\n",
       "      <td>2016.000000</td>\n",
       "      <td>2431.823590</td>\n",
       "      <td>0.994875</td>\n",
       "      <td>233.596650</td>\n",
       "      <td>865.400000</td>\n",
       "      <td>686.500000</td>\n",
       "    </tr>\n",
       "    <tr>\n",
       "      <th>903</th>\n",
       "      <td>822.0</td>\n",
       "      <td>3.0</td>\n",
       "      <td>12.8932</td>\n",
       "      <td>78.1654</td>\n",
       "      <td>6.0</td>\n",
       "      <td>1997.091082</td>\n",
       "      <td>2431.823590</td>\n",
       "      <td>2428.226946</td>\n",
       "      <td>2467.936859</td>\n",
       "      <td>2547.759305</td>\n",
       "      <td>2600.804099</td>\n",
       "    </tr>\n",
       "    <tr>\n",
       "      <th>904</th>\n",
       "      <td>891.0</td>\n",
       "      <td>25.5</td>\n",
       "      <td>15.2758</td>\n",
       "      <td>75.5811</td>\n",
       "      <td>7.0</td>\n",
       "      <td>1997.091082</td>\n",
       "      <td>2431.823590</td>\n",
       "      <td>2428.226946</td>\n",
       "      <td>2467.936859</td>\n",
       "      <td>2547.759305</td>\n",
       "      <td>2600.804099</td>\n",
       "    </tr>\n",
       "    <tr>\n",
       "      <th>905</th>\n",
       "      <td>539.0</td>\n",
       "      <td>80.0</td>\n",
       "      <td>24.3500</td>\n",
       "      <td>73.7477</td>\n",
       "      <td>1.0</td>\n",
       "      <td>1997.091082</td>\n",
       "      <td>2431.823590</td>\n",
       "      <td>2428.226946</td>\n",
       "      <td>2467.936859</td>\n",
       "      <td>2547.759305</td>\n",
       "      <td>2600.804099</td>\n",
       "    </tr>\n",
       "    <tr>\n",
       "      <th>906</th>\n",
       "      <td>876.0</td>\n",
       "      <td>16.5</td>\n",
       "      <td>9.9344</td>\n",
       "      <td>77.4768</td>\n",
       "      <td>7.0</td>\n",
       "      <td>1997.091082</td>\n",
       "      <td>2431.823590</td>\n",
       "      <td>2428.226946</td>\n",
       "      <td>2467.936859</td>\n",
       "      <td>2547.759305</td>\n",
       "      <td>2600.804099</td>\n",
       "    </tr>\n",
       "  </tbody>\n",
       "</table>\n",
       "<p>849 rows × 11 columns</p>\n",
       "</div>"
      ],
      "text/plain": [
       "     gppd_idnr  capacity_mw  latitude  longitude  primary_fuel  \\\n",
       "0        657.0          2.5   28.1839    73.2407           6.0   \n",
       "1        519.0         98.0   24.7663    74.6090           1.0   \n",
       "2        853.0         39.2   21.9038    69.3732           7.0   \n",
       "3          0.0        135.0   23.8712    91.3602           2.0   \n",
       "4          1.0       1800.0   21.9603    82.4091           1.0   \n",
       "..         ...          ...       ...        ...           ...   \n",
       "902      491.0       1600.0   16.2949    77.3568           1.0   \n",
       "903      822.0          3.0   12.8932    78.1654           6.0   \n",
       "904      891.0         25.5   15.2758    75.5811           7.0   \n",
       "905      539.0         80.0   24.3500    73.7477           1.0   \n",
       "906      876.0         16.5    9.9344    77.4768           7.0   \n",
       "\n",
       "     commissioning_year  generation_gwh_2014  generation_gwh_2015  \\\n",
       "0           2011.000000          2431.823590          2428.226946   \n",
       "1           1997.091082          2431.823590          2428.226946   \n",
       "2           1997.091082          2431.823590          2428.226946   \n",
       "3           2004.000000           617.789264           843.747000   \n",
       "4           2015.000000          3035.550000          5916.370000   \n",
       "..                  ...                  ...                  ...   \n",
       "902         2016.000000          2431.823590             0.994875   \n",
       "903         1997.091082          2431.823590          2428.226946   \n",
       "904         1997.091082          2431.823590          2428.226946   \n",
       "905         1997.091082          2431.823590          2428.226946   \n",
       "906         1997.091082          2431.823590          2428.226946   \n",
       "\n",
       "     generation_gwh_2016  generation_gwh_2017  generation_gwh_2018  \n",
       "0            2467.936859          2547.759305          2600.804099  \n",
       "1            2467.936859          2547.759305          2600.804099  \n",
       "2            2467.936859          2547.759305          2600.804099  \n",
       "3             886.004428           663.774500           626.239128  \n",
       "4            6243.000000          5385.579736          7279.000000  \n",
       "..                   ...                  ...                  ...  \n",
       "902           233.596650           865.400000           686.500000  \n",
       "903          2467.936859          2547.759305          2600.804099  \n",
       "904          2467.936859          2547.759305          2600.804099  \n",
       "905          2467.936859          2547.759305          2600.804099  \n",
       "906          2467.936859          2547.759305          2600.804099  \n",
       "\n",
       "[849 rows x 11 columns]"
      ]
     },
     "execution_count": 82,
     "metadata": {},
     "output_type": "execute_result"
    }
   ],
   "source": [
    "pp"
   ]
  },
  {
   "cell_type": "markdown",
   "id": "16b22e7e",
   "metadata": {},
   "source": [
    "### Splitting the data in x and y"
   ]
  },
  {
   "cell_type": "code",
   "execution_count": 83,
   "id": "f4948a9d",
   "metadata": {},
   "outputs": [],
   "source": [
    "x = pp.drop('capacity_mw',axis=1)"
   ]
  },
  {
   "cell_type": "code",
   "execution_count": 84,
   "id": "a1a7c4a5",
   "metadata": {},
   "outputs": [
    {
     "data": {
      "text/plain": [
       "(849, 10)"
      ]
     },
     "execution_count": 84,
     "metadata": {},
     "output_type": "execute_result"
    }
   ],
   "source": [
    "x.shape"
   ]
  },
  {
   "cell_type": "code",
   "execution_count": 85,
   "id": "a4720539",
   "metadata": {},
   "outputs": [],
   "source": [
    "y = pp['capacity_mw']"
   ]
  },
  {
   "cell_type": "code",
   "execution_count": 86,
   "id": "9d292e26",
   "metadata": {},
   "outputs": [
    {
     "data": {
      "text/plain": [
       "(849,)"
      ]
     },
     "execution_count": 86,
     "metadata": {},
     "output_type": "execute_result"
    }
   ],
   "source": [
    "y.shape"
   ]
  },
  {
   "cell_type": "markdown",
   "id": "a2cc7e14",
   "metadata": {},
   "source": [
    "### Skewness"
   ]
  },
  {
   "cell_type": "code",
   "execution_count": 87,
   "id": "824a930e",
   "metadata": {},
   "outputs": [
    {
     "data": {
      "text/plain": [
       "generation_gwh_2014    1.526648\n",
       "generation_gwh_2016    1.413144\n",
       "generation_gwh_2015    1.389889\n",
       "generation_gwh_2018    1.315481\n",
       "generation_gwh_2017    1.278735\n",
       "longitude              0.921980\n",
       "primary_fuel           0.408694\n",
       "gppd_idnr             -0.079104\n",
       "latitude              -0.109823\n",
       "commissioning_year    -0.845654\n",
       "dtype: float64"
      ]
     },
     "execution_count": 87,
     "metadata": {},
     "output_type": "execute_result"
    }
   ],
   "source": [
    "x.skew().sort_values(ascending=False)"
   ]
  },
  {
   "cell_type": "markdown",
   "id": "e4e1a41b",
   "metadata": {},
   "source": [
    "##### Lets set the threshold at 0.5."
   ]
  },
  {
   "cell_type": "markdown",
   "id": "67d934e0",
   "metadata": {},
   "source": [
    "### Removing Skewness"
   ]
  },
  {
   "cell_type": "code",
   "execution_count": 88,
   "id": "1d3795bb",
   "metadata": {},
   "outputs": [],
   "source": [
    "from sklearn.preprocessing import power_transform\n",
    "\n",
    "x1 = power_transform(x)"
   ]
  },
  {
   "cell_type": "code",
   "execution_count": 89,
   "id": "549bdfb7",
   "metadata": {},
   "outputs": [
    {
     "data": {
      "text/html": [
       "<div>\n",
       "<style scoped>\n",
       "    .dataframe tbody tr th:only-of-type {\n",
       "        vertical-align: middle;\n",
       "    }\n",
       "\n",
       "    .dataframe tbody tr th {\n",
       "        vertical-align: top;\n",
       "    }\n",
       "\n",
       "    .dataframe thead th {\n",
       "        text-align: right;\n",
       "    }\n",
       "</style>\n",
       "<table border=\"1\" class=\"dataframe\">\n",
       "  <thead>\n",
       "    <tr style=\"text-align: right;\">\n",
       "      <th></th>\n",
       "      <th>gppd_idnr</th>\n",
       "      <th>latitude</th>\n",
       "      <th>longitude</th>\n",
       "      <th>primary_fuel</th>\n",
       "      <th>commissioning_year</th>\n",
       "      <th>generation_gwh_2014</th>\n",
       "      <th>generation_gwh_2015</th>\n",
       "      <th>generation_gwh_2016</th>\n",
       "      <th>generation_gwh_2017</th>\n",
       "      <th>generation_gwh_2018</th>\n",
       "    </tr>\n",
       "  </thead>\n",
       "  <tbody>\n",
       "    <tr>\n",
       "      <th>0</th>\n",
       "      <td>0.743646</td>\n",
       "      <td>1.164277</td>\n",
       "      <td>-0.928072</td>\n",
       "      <td>1.131644</td>\n",
       "      <td>1.292854</td>\n",
       "      <td>0.327200</td>\n",
       "      <td>0.356092</td>\n",
       "      <td>0.359399</td>\n",
       "      <td>0.360086</td>\n",
       "      <td>0.375133</td>\n",
       "    </tr>\n",
       "    <tr>\n",
       "      <th>1</th>\n",
       "      <td>0.281373</td>\n",
       "      <td>0.595264</td>\n",
       "      <td>-0.509209</td>\n",
       "      <td>-1.001767</td>\n",
       "      <td>-0.181973</td>\n",
       "      <td>0.327200</td>\n",
       "      <td>0.356092</td>\n",
       "      <td>0.359399</td>\n",
       "      <td>0.360086</td>\n",
       "      <td>0.375133</td>\n",
       "    </tr>\n",
       "    <tr>\n",
       "      <th>2</th>\n",
       "      <td>1.359484</td>\n",
       "      <td>0.122311</td>\n",
       "      <td>-2.363978</td>\n",
       "      <td>1.404554</td>\n",
       "      <td>-0.181973</td>\n",
       "      <td>0.327200</td>\n",
       "      <td>0.356092</td>\n",
       "      <td>0.359399</td>\n",
       "      <td>0.360086</td>\n",
       "      <td>0.375133</td>\n",
       "    </tr>\n",
       "    <tr>\n",
       "      <th>3</th>\n",
       "      <td>-2.115014</td>\n",
       "      <td>0.446997</td>\n",
       "      <td>2.442106</td>\n",
       "      <td>-0.388523</td>\n",
       "      <td>0.501339</td>\n",
       "      <td>-1.046002</td>\n",
       "      <td>-0.731478</td>\n",
       "      <td>-0.683964</td>\n",
       "      <td>-0.905238</td>\n",
       "      <td>-0.925585</td>\n",
       "    </tr>\n",
       "    <tr>\n",
       "      <th>4</th>\n",
       "      <td>-2.099361</td>\n",
       "      <td>0.131611</td>\n",
       "      <td>1.253969</td>\n",
       "      <td>-1.001767</td>\n",
       "      <td>1.795252</td>\n",
       "      <td>0.665917</td>\n",
       "      <td>1.898269</td>\n",
       "      <td>1.935543</td>\n",
       "      <td>1.564919</td>\n",
       "      <td>2.122435</td>\n",
       "    </tr>\n",
       "    <tr>\n",
       "      <th>...</th>\n",
       "      <td>...</td>\n",
       "      <td>...</td>\n",
       "      <td>...</td>\n",
       "      <td>...</td>\n",
       "      <td>...</td>\n",
       "      <td>...</td>\n",
       "      <td>...</td>\n",
       "      <td>...</td>\n",
       "      <td>...</td>\n",
       "      <td>...</td>\n",
       "    </tr>\n",
       "    <tr>\n",
       "      <th>844</th>\n",
       "      <td>0.183910</td>\n",
       "      <td>-0.793140</td>\n",
       "      <td>0.219861</td>\n",
       "      <td>-1.001767</td>\n",
       "      <td>1.926982</td>\n",
       "      <td>0.327200</td>\n",
       "      <td>-2.096477</td>\n",
       "      <td>-1.420156</td>\n",
       "      <td>-0.721222</td>\n",
       "      <td>-0.867297</td>\n",
       "    </tr>\n",
       "    <tr>\n",
       "      <th>845</th>\n",
       "      <td>1.264726</td>\n",
       "      <td>-1.339555</td>\n",
       "      <td>0.409525</td>\n",
       "      <td>1.131644</td>\n",
       "      <td>-0.181973</td>\n",
       "      <td>0.327200</td>\n",
       "      <td>0.356092</td>\n",
       "      <td>0.359399</td>\n",
       "      <td>0.360086</td>\n",
       "      <td>0.375133</td>\n",
       "    </tr>\n",
       "    <tr>\n",
       "      <th>846</th>\n",
       "      <td>1.474441</td>\n",
       "      <td>-0.957619</td>\n",
       "      <td>-0.235273</td>\n",
       "      <td>1.404554</td>\n",
       "      <td>-0.181973</td>\n",
       "      <td>0.327200</td>\n",
       "      <td>0.356092</td>\n",
       "      <td>0.359399</td>\n",
       "      <td>0.360086</td>\n",
       "      <td>0.375133</td>\n",
       "    </tr>\n",
       "    <tr>\n",
       "      <th>847</th>\n",
       "      <td>0.350163</td>\n",
       "      <td>0.526266</td>\n",
       "      <td>-0.768095</td>\n",
       "      <td>-1.001767</td>\n",
       "      <td>-0.181973</td>\n",
       "      <td>0.327200</td>\n",
       "      <td>0.356092</td>\n",
       "      <td>0.359399</td>\n",
       "      <td>0.360086</td>\n",
       "      <td>0.375133</td>\n",
       "    </tr>\n",
       "    <tr>\n",
       "      <th>848</th>\n",
       "      <td>1.429217</td>\n",
       "      <td>-1.808018</td>\n",
       "      <td>0.248669</td>\n",
       "      <td>1.404554</td>\n",
       "      <td>-0.181973</td>\n",
       "      <td>0.327200</td>\n",
       "      <td>0.356092</td>\n",
       "      <td>0.359399</td>\n",
       "      <td>0.360086</td>\n",
       "      <td>0.375133</td>\n",
       "    </tr>\n",
       "  </tbody>\n",
       "</table>\n",
       "<p>849 rows × 10 columns</p>\n",
       "</div>"
      ],
      "text/plain": [
       "     gppd_idnr  latitude  longitude  primary_fuel  commissioning_year  \\\n",
       "0     0.743646  1.164277  -0.928072      1.131644            1.292854   \n",
       "1     0.281373  0.595264  -0.509209     -1.001767           -0.181973   \n",
       "2     1.359484  0.122311  -2.363978      1.404554           -0.181973   \n",
       "3    -2.115014  0.446997   2.442106     -0.388523            0.501339   \n",
       "4    -2.099361  0.131611   1.253969     -1.001767            1.795252   \n",
       "..         ...       ...        ...           ...                 ...   \n",
       "844   0.183910 -0.793140   0.219861     -1.001767            1.926982   \n",
       "845   1.264726 -1.339555   0.409525      1.131644           -0.181973   \n",
       "846   1.474441 -0.957619  -0.235273      1.404554           -0.181973   \n",
       "847   0.350163  0.526266  -0.768095     -1.001767           -0.181973   \n",
       "848   1.429217 -1.808018   0.248669      1.404554           -0.181973   \n",
       "\n",
       "     generation_gwh_2014  generation_gwh_2015  generation_gwh_2016  \\\n",
       "0               0.327200             0.356092             0.359399   \n",
       "1               0.327200             0.356092             0.359399   \n",
       "2               0.327200             0.356092             0.359399   \n",
       "3              -1.046002            -0.731478            -0.683964   \n",
       "4               0.665917             1.898269             1.935543   \n",
       "..                   ...                  ...                  ...   \n",
       "844             0.327200            -2.096477            -1.420156   \n",
       "845             0.327200             0.356092             0.359399   \n",
       "846             0.327200             0.356092             0.359399   \n",
       "847             0.327200             0.356092             0.359399   \n",
       "848             0.327200             0.356092             0.359399   \n",
       "\n",
       "     generation_gwh_2017  generation_gwh_2018  \n",
       "0               0.360086             0.375133  \n",
       "1               0.360086             0.375133  \n",
       "2               0.360086             0.375133  \n",
       "3              -0.905238            -0.925585  \n",
       "4               1.564919             2.122435  \n",
       "..                   ...                  ...  \n",
       "844            -0.721222            -0.867297  \n",
       "845             0.360086             0.375133  \n",
       "846             0.360086             0.375133  \n",
       "847             0.360086             0.375133  \n",
       "848             0.360086             0.375133  \n",
       "\n",
       "[849 rows x 10 columns]"
      ]
     },
     "execution_count": 89,
     "metadata": {},
     "output_type": "execute_result"
    }
   ],
   "source": [
    "x = pd.DataFrame(x1,columns=x.columns)\n",
    "x"
   ]
  },
  {
   "cell_type": "code",
   "execution_count": 90,
   "id": "d081691f",
   "metadata": {},
   "outputs": [
    {
     "data": {
      "text/plain": [
       "gppd_idnr             -0.324126\n",
       "latitude              -0.069694\n",
       "longitude              0.000035\n",
       "primary_fuel          -0.059648\n",
       "commissioning_year     0.031733\n",
       "generation_gwh_2014   -0.243975\n",
       "generation_gwh_2015   -0.309166\n",
       "generation_gwh_2016   -0.309194\n",
       "generation_gwh_2017   -0.340677\n",
       "generation_gwh_2018   -0.354764\n",
       "dtype: float64"
      ]
     },
     "execution_count": 90,
     "metadata": {},
     "output_type": "execute_result"
    }
   ],
   "source": [
    "x.skew()"
   ]
  },
  {
   "cell_type": "markdown",
   "id": "0c2c7a67",
   "metadata": {},
   "source": [
    "##### As we can see that all the values are within the threshold."
   ]
  },
  {
   "cell_type": "markdown",
   "id": "e8841a28",
   "metadata": {},
   "source": [
    "### VIF"
   ]
  },
  {
   "cell_type": "code",
   "execution_count": 91,
   "id": "edec97ac",
   "metadata": {},
   "outputs": [],
   "source": [
    "from statsmodels.stats.outliers_influence import variance_inflation_factor\n",
    "\n"
   ]
  },
  {
   "cell_type": "code",
   "execution_count": 92,
   "id": "24ee3468",
   "metadata": {},
   "outputs": [],
   "source": [
    "def calculate_vif(dataset):\n",
    "    vif = pd.DataFrame()\n",
    "    vif['Features'] = x.columns\n",
    "    vif['VIF_Values'] = [variance_inflation_factor(x.values,i) for i in range(x.shape[1])]\n",
    "    return(vif.sort_values(by = 'VIF_Values',ascending = False))"
   ]
  },
  {
   "cell_type": "code",
   "execution_count": 93,
   "id": "38503dc3",
   "metadata": {},
   "outputs": [
    {
     "data": {
      "text/html": [
       "<div>\n",
       "<style scoped>\n",
       "    .dataframe tbody tr th:only-of-type {\n",
       "        vertical-align: middle;\n",
       "    }\n",
       "\n",
       "    .dataframe tbody tr th {\n",
       "        vertical-align: top;\n",
       "    }\n",
       "\n",
       "    .dataframe thead th {\n",
       "        text-align: right;\n",
       "    }\n",
       "</style>\n",
       "<table border=\"1\" class=\"dataframe\">\n",
       "  <thead>\n",
       "    <tr style=\"text-align: right;\">\n",
       "      <th></th>\n",
       "      <th>Features</th>\n",
       "      <th>VIF_Values</th>\n",
       "    </tr>\n",
       "  </thead>\n",
       "  <tbody>\n",
       "    <tr>\n",
       "      <th>9</th>\n",
       "      <td>generation_gwh_2018</td>\n",
       "      <td>12.345724</td>\n",
       "    </tr>\n",
       "    <tr>\n",
       "      <th>7</th>\n",
       "      <td>generation_gwh_2016</td>\n",
       "      <td>11.899260</td>\n",
       "    </tr>\n",
       "    <tr>\n",
       "      <th>8</th>\n",
       "      <td>generation_gwh_2017</td>\n",
       "      <td>11.614500</td>\n",
       "    </tr>\n",
       "    <tr>\n",
       "      <th>6</th>\n",
       "      <td>generation_gwh_2015</td>\n",
       "      <td>8.046135</td>\n",
       "    </tr>\n",
       "    <tr>\n",
       "      <th>5</th>\n",
       "      <td>generation_gwh_2014</td>\n",
       "      <td>4.224755</td>\n",
       "    </tr>\n",
       "    <tr>\n",
       "      <th>0</th>\n",
       "      <td>gppd_idnr</td>\n",
       "      <td>1.625067</td>\n",
       "    </tr>\n",
       "    <tr>\n",
       "      <th>3</th>\n",
       "      <td>primary_fuel</td>\n",
       "      <td>1.457257</td>\n",
       "    </tr>\n",
       "    <tr>\n",
       "      <th>2</th>\n",
       "      <td>longitude</td>\n",
       "      <td>1.299745</td>\n",
       "    </tr>\n",
       "    <tr>\n",
       "      <th>4</th>\n",
       "      <td>commissioning_year</td>\n",
       "      <td>1.114328</td>\n",
       "    </tr>\n",
       "    <tr>\n",
       "      <th>1</th>\n",
       "      <td>latitude</td>\n",
       "      <td>1.060939</td>\n",
       "    </tr>\n",
       "  </tbody>\n",
       "</table>\n",
       "</div>"
      ],
      "text/plain": [
       "              Features  VIF_Values\n",
       "9  generation_gwh_2018   12.345724\n",
       "7  generation_gwh_2016   11.899260\n",
       "8  generation_gwh_2017   11.614500\n",
       "6  generation_gwh_2015    8.046135\n",
       "5  generation_gwh_2014    4.224755\n",
       "0            gppd_idnr    1.625067\n",
       "3         primary_fuel    1.457257\n",
       "2            longitude    1.299745\n",
       "4   commissioning_year    1.114328\n",
       "1             latitude    1.060939"
      ]
     },
     "execution_count": 93,
     "metadata": {},
     "output_type": "execute_result"
    }
   ],
   "source": [
    "calculate_vif(x.columns)"
   ]
  },
  {
   "cell_type": "code",
   "execution_count": 94,
   "id": "9c95b7c3",
   "metadata": {},
   "outputs": [],
   "source": [
    "x.drop(['generation_gwh_2018','generation_gwh_2016'],axis=1,inplace=True)"
   ]
  },
  {
   "cell_type": "code",
   "execution_count": 95,
   "id": "5c4f1435",
   "metadata": {},
   "outputs": [
    {
     "data": {
      "text/html": [
       "<div>\n",
       "<style scoped>\n",
       "    .dataframe tbody tr th:only-of-type {\n",
       "        vertical-align: middle;\n",
       "    }\n",
       "\n",
       "    .dataframe tbody tr th {\n",
       "        vertical-align: top;\n",
       "    }\n",
       "\n",
       "    .dataframe thead th {\n",
       "        text-align: right;\n",
       "    }\n",
       "</style>\n",
       "<table border=\"1\" class=\"dataframe\">\n",
       "  <thead>\n",
       "    <tr style=\"text-align: right;\">\n",
       "      <th></th>\n",
       "      <th>gppd_idnr</th>\n",
       "      <th>latitude</th>\n",
       "      <th>longitude</th>\n",
       "      <th>primary_fuel</th>\n",
       "      <th>commissioning_year</th>\n",
       "      <th>generation_gwh_2014</th>\n",
       "      <th>generation_gwh_2015</th>\n",
       "      <th>generation_gwh_2017</th>\n",
       "    </tr>\n",
       "  </thead>\n",
       "  <tbody>\n",
       "    <tr>\n",
       "      <th>0</th>\n",
       "      <td>0.743646</td>\n",
       "      <td>1.164277</td>\n",
       "      <td>-0.928072</td>\n",
       "      <td>1.131644</td>\n",
       "      <td>1.292854</td>\n",
       "      <td>0.327200</td>\n",
       "      <td>0.356092</td>\n",
       "      <td>0.360086</td>\n",
       "    </tr>\n",
       "    <tr>\n",
       "      <th>1</th>\n",
       "      <td>0.281373</td>\n",
       "      <td>0.595264</td>\n",
       "      <td>-0.509209</td>\n",
       "      <td>-1.001767</td>\n",
       "      <td>-0.181973</td>\n",
       "      <td>0.327200</td>\n",
       "      <td>0.356092</td>\n",
       "      <td>0.360086</td>\n",
       "    </tr>\n",
       "    <tr>\n",
       "      <th>2</th>\n",
       "      <td>1.359484</td>\n",
       "      <td>0.122311</td>\n",
       "      <td>-2.363978</td>\n",
       "      <td>1.404554</td>\n",
       "      <td>-0.181973</td>\n",
       "      <td>0.327200</td>\n",
       "      <td>0.356092</td>\n",
       "      <td>0.360086</td>\n",
       "    </tr>\n",
       "    <tr>\n",
       "      <th>3</th>\n",
       "      <td>-2.115014</td>\n",
       "      <td>0.446997</td>\n",
       "      <td>2.442106</td>\n",
       "      <td>-0.388523</td>\n",
       "      <td>0.501339</td>\n",
       "      <td>-1.046002</td>\n",
       "      <td>-0.731478</td>\n",
       "      <td>-0.905238</td>\n",
       "    </tr>\n",
       "    <tr>\n",
       "      <th>4</th>\n",
       "      <td>-2.099361</td>\n",
       "      <td>0.131611</td>\n",
       "      <td>1.253969</td>\n",
       "      <td>-1.001767</td>\n",
       "      <td>1.795252</td>\n",
       "      <td>0.665917</td>\n",
       "      <td>1.898269</td>\n",
       "      <td>1.564919</td>\n",
       "    </tr>\n",
       "    <tr>\n",
       "      <th>...</th>\n",
       "      <td>...</td>\n",
       "      <td>...</td>\n",
       "      <td>...</td>\n",
       "      <td>...</td>\n",
       "      <td>...</td>\n",
       "      <td>...</td>\n",
       "      <td>...</td>\n",
       "      <td>...</td>\n",
       "    </tr>\n",
       "    <tr>\n",
       "      <th>844</th>\n",
       "      <td>0.183910</td>\n",
       "      <td>-0.793140</td>\n",
       "      <td>0.219861</td>\n",
       "      <td>-1.001767</td>\n",
       "      <td>1.926982</td>\n",
       "      <td>0.327200</td>\n",
       "      <td>-2.096477</td>\n",
       "      <td>-0.721222</td>\n",
       "    </tr>\n",
       "    <tr>\n",
       "      <th>845</th>\n",
       "      <td>1.264726</td>\n",
       "      <td>-1.339555</td>\n",
       "      <td>0.409525</td>\n",
       "      <td>1.131644</td>\n",
       "      <td>-0.181973</td>\n",
       "      <td>0.327200</td>\n",
       "      <td>0.356092</td>\n",
       "      <td>0.360086</td>\n",
       "    </tr>\n",
       "    <tr>\n",
       "      <th>846</th>\n",
       "      <td>1.474441</td>\n",
       "      <td>-0.957619</td>\n",
       "      <td>-0.235273</td>\n",
       "      <td>1.404554</td>\n",
       "      <td>-0.181973</td>\n",
       "      <td>0.327200</td>\n",
       "      <td>0.356092</td>\n",
       "      <td>0.360086</td>\n",
       "    </tr>\n",
       "    <tr>\n",
       "      <th>847</th>\n",
       "      <td>0.350163</td>\n",
       "      <td>0.526266</td>\n",
       "      <td>-0.768095</td>\n",
       "      <td>-1.001767</td>\n",
       "      <td>-0.181973</td>\n",
       "      <td>0.327200</td>\n",
       "      <td>0.356092</td>\n",
       "      <td>0.360086</td>\n",
       "    </tr>\n",
       "    <tr>\n",
       "      <th>848</th>\n",
       "      <td>1.429217</td>\n",
       "      <td>-1.808018</td>\n",
       "      <td>0.248669</td>\n",
       "      <td>1.404554</td>\n",
       "      <td>-0.181973</td>\n",
       "      <td>0.327200</td>\n",
       "      <td>0.356092</td>\n",
       "      <td>0.360086</td>\n",
       "    </tr>\n",
       "  </tbody>\n",
       "</table>\n",
       "<p>849 rows × 8 columns</p>\n",
       "</div>"
      ],
      "text/plain": [
       "     gppd_idnr  latitude  longitude  primary_fuel  commissioning_year  \\\n",
       "0     0.743646  1.164277  -0.928072      1.131644            1.292854   \n",
       "1     0.281373  0.595264  -0.509209     -1.001767           -0.181973   \n",
       "2     1.359484  0.122311  -2.363978      1.404554           -0.181973   \n",
       "3    -2.115014  0.446997   2.442106     -0.388523            0.501339   \n",
       "4    -2.099361  0.131611   1.253969     -1.001767            1.795252   \n",
       "..         ...       ...        ...           ...                 ...   \n",
       "844   0.183910 -0.793140   0.219861     -1.001767            1.926982   \n",
       "845   1.264726 -1.339555   0.409525      1.131644           -0.181973   \n",
       "846   1.474441 -0.957619  -0.235273      1.404554           -0.181973   \n",
       "847   0.350163  0.526266  -0.768095     -1.001767           -0.181973   \n",
       "848   1.429217 -1.808018   0.248669      1.404554           -0.181973   \n",
       "\n",
       "     generation_gwh_2014  generation_gwh_2015  generation_gwh_2017  \n",
       "0               0.327200             0.356092             0.360086  \n",
       "1               0.327200             0.356092             0.360086  \n",
       "2               0.327200             0.356092             0.360086  \n",
       "3              -1.046002            -0.731478            -0.905238  \n",
       "4               0.665917             1.898269             1.564919  \n",
       "..                   ...                  ...                  ...  \n",
       "844             0.327200            -2.096477            -0.721222  \n",
       "845             0.327200             0.356092             0.360086  \n",
       "846             0.327200             0.356092             0.360086  \n",
       "847             0.327200             0.356092             0.360086  \n",
       "848             0.327200             0.356092             0.360086  \n",
       "\n",
       "[849 rows x 8 columns]"
      ]
     },
     "execution_count": 95,
     "metadata": {},
     "output_type": "execute_result"
    }
   ],
   "source": [
    "x"
   ]
  },
  {
   "cell_type": "code",
   "execution_count": 96,
   "id": "5a4572f0",
   "metadata": {},
   "outputs": [
    {
     "data": {
      "text/html": [
       "<div>\n",
       "<style scoped>\n",
       "    .dataframe tbody tr th:only-of-type {\n",
       "        vertical-align: middle;\n",
       "    }\n",
       "\n",
       "    .dataframe tbody tr th {\n",
       "        vertical-align: top;\n",
       "    }\n",
       "\n",
       "    .dataframe thead th {\n",
       "        text-align: right;\n",
       "    }\n",
       "</style>\n",
       "<table border=\"1\" class=\"dataframe\">\n",
       "  <thead>\n",
       "    <tr style=\"text-align: right;\">\n",
       "      <th></th>\n",
       "      <th>Features</th>\n",
       "      <th>VIF_Values</th>\n",
       "    </tr>\n",
       "  </thead>\n",
       "  <tbody>\n",
       "    <tr>\n",
       "      <th>6</th>\n",
       "      <td>generation_gwh_2015</td>\n",
       "      <td>5.202544</td>\n",
       "    </tr>\n",
       "    <tr>\n",
       "      <th>5</th>\n",
       "      <td>generation_gwh_2014</td>\n",
       "      <td>4.190771</td>\n",
       "    </tr>\n",
       "    <tr>\n",
       "      <th>7</th>\n",
       "      <td>generation_gwh_2017</td>\n",
       "      <td>2.945551</td>\n",
       "    </tr>\n",
       "    <tr>\n",
       "      <th>0</th>\n",
       "      <td>gppd_idnr</td>\n",
       "      <td>1.623521</td>\n",
       "    </tr>\n",
       "    <tr>\n",
       "      <th>3</th>\n",
       "      <td>primary_fuel</td>\n",
       "      <td>1.457255</td>\n",
       "    </tr>\n",
       "    <tr>\n",
       "      <th>2</th>\n",
       "      <td>longitude</td>\n",
       "      <td>1.293362</td>\n",
       "    </tr>\n",
       "    <tr>\n",
       "      <th>4</th>\n",
       "      <td>commissioning_year</td>\n",
       "      <td>1.098146</td>\n",
       "    </tr>\n",
       "    <tr>\n",
       "      <th>1</th>\n",
       "      <td>latitude</td>\n",
       "      <td>1.059556</td>\n",
       "    </tr>\n",
       "  </tbody>\n",
       "</table>\n",
       "</div>"
      ],
      "text/plain": [
       "              Features  VIF_Values\n",
       "6  generation_gwh_2015    5.202544\n",
       "5  generation_gwh_2014    4.190771\n",
       "7  generation_gwh_2017    2.945551\n",
       "0            gppd_idnr    1.623521\n",
       "3         primary_fuel    1.457255\n",
       "2            longitude    1.293362\n",
       "4   commissioning_year    1.098146\n",
       "1             latitude    1.059556"
      ]
     },
     "execution_count": 96,
     "metadata": {},
     "output_type": "execute_result"
    }
   ],
   "source": [
    "calculate_vif(x)"
   ]
  },
  {
   "cell_type": "markdown",
   "id": "f6d03e9d",
   "metadata": {},
   "source": [
    "##### Let's keep the threshold on 10, we can see that all the values are within the threshold."
   ]
  },
  {
   "cell_type": "markdown",
   "id": "05ebd5c4",
   "metadata": {},
   "source": [
    "### Scaling the Model"
   ]
  },
  {
   "cell_type": "code",
   "execution_count": 97,
   "id": "2d56df04",
   "metadata": {},
   "outputs": [],
   "source": [
    "from sklearn.preprocessing import StandardScaler\n",
    "\n",
    "sc = StandardScaler()\n",
    "ppx = sc.fit_transform(x)"
   ]
  },
  {
   "cell_type": "code",
   "execution_count": 98,
   "id": "fb158869",
   "metadata": {},
   "outputs": [
    {
     "data": {
      "text/plain": [
       "(849, 8)"
      ]
     },
     "execution_count": 98,
     "metadata": {},
     "output_type": "execute_result"
    }
   ],
   "source": [
    "x.shape"
   ]
  },
  {
   "cell_type": "code",
   "execution_count": 99,
   "id": "ea2d24d1",
   "metadata": {},
   "outputs": [
    {
     "data": {
      "text/plain": [
       "(849,)"
      ]
     },
     "execution_count": 99,
     "metadata": {},
     "output_type": "execute_result"
    }
   ],
   "source": [
    "y.shape"
   ]
  },
  {
   "cell_type": "markdown",
   "id": "d6030909",
   "metadata": {},
   "source": [
    "### Training Process"
   ]
  },
  {
   "cell_type": "code",
   "execution_count": 100,
   "id": "4646aed7",
   "metadata": {},
   "outputs": [],
   "source": [
    "from sklearn.linear_model import LinearRegression,Ridge,Lasso\n",
    "LR = LinearRegression()\n",
    "\n",
    "from sklearn.tree import DecisionTreeRegressor\n",
    "from sklearn.ensemble import RandomForestRegressor\n",
    "from sklearn.tree import ExtraTreeRegressor\n",
    "from sklearn.neighbors import KNeighborsRegressor\n",
    "from sklearn.ensemble import AdaBoostRegressor\n",
    "\n",
    "from sklearn.metrics import r2_score\n",
    "from sklearn.model_selection import train_test_split\n",
    "from sklearn.model_selection import cross_val_score\n",
    "\n",
    "from sklearn.metrics import accuracy_score\n",
    "from sklearn.metrics import mean_absolute_error,mean_squared_error"
   ]
  },
  {
   "cell_type": "markdown",
   "id": "21627383",
   "metadata": {},
   "source": [
    "### Random State"
   ]
  },
  {
   "cell_type": "code",
   "execution_count": 101,
   "id": "74d20291",
   "metadata": {},
   "outputs": [
    {
     "name": "stdout",
     "output_type": "stream",
     "text": [
      "At random state 0,the training accuracy is : 0.4984329650136874\n",
      "At random state 0,the testing accuracy is : 0.4479309629989281\n",
      "\n",
      "\n",
      "At random state 1,the training accuracy is : 0.49401082531395146\n",
      "At random state 1,the testing accuracy is : 0.47578750189694474\n",
      "\n",
      "\n",
      "At random state 2,the training accuracy is : 0.47206649462603645\n",
      "At random state 2,the testing accuracy is : 0.5397989548271522\n",
      "\n",
      "\n",
      "At random state 3,the training accuracy is : 0.47469858919189845\n",
      "At random state 3,the testing accuracy is : 0.5221479840651087\n",
      "\n",
      "\n",
      "At random state 4,the training accuracy is : 0.5030184665359124\n",
      "At random state 4,the testing accuracy is : 0.4413561899646199\n",
      "\n",
      "\n",
      "At random state 5,the training accuracy is : 0.4732302993050509\n",
      "At random state 5,the testing accuracy is : 0.5294171369091564\n",
      "\n",
      "\n",
      "At random state 6,the training accuracy is : 0.4554370823507975\n",
      "At random state 6,the testing accuracy is : 0.5509190555684453\n",
      "\n",
      "\n",
      "At random state 7,the training accuracy is : 0.4986460031955696\n",
      "At random state 7,the testing accuracy is : 0.45311543980053126\n",
      "\n",
      "\n",
      "At random state 8,the training accuracy is : 0.48651658653588337\n",
      "At random state 8,the testing accuracy is : 0.49113409756313986\n",
      "\n",
      "\n",
      "At random state 9,the training accuracy is : 0.4714697019900297\n",
      "At random state 9,the testing accuracy is : 0.5286696931857191\n",
      "\n",
      "\n",
      "At random state 10,the training accuracy is : 0.49006782220877865\n",
      "At random state 10,the testing accuracy is : 0.4810500007612969\n",
      "\n",
      "\n",
      "At random state 11,the training accuracy is : 0.4651752166762576\n",
      "At random state 11,the testing accuracy is : 0.5248001556005187\n",
      "\n",
      "\n",
      "At random state 12,the training accuracy is : 0.48690134637562776\n",
      "At random state 12,the testing accuracy is : 0.48874468678313077\n",
      "\n",
      "\n",
      "At random state 13,the training accuracy is : 0.48980211619992775\n",
      "At random state 13,the testing accuracy is : 0.4866169538355304\n",
      "\n",
      "\n",
      "At random state 14,the training accuracy is : 0.49289276009222915\n",
      "At random state 14,the testing accuracy is : 0.4646415475061543\n",
      "\n",
      "\n",
      "At random state 15,the training accuracy is : 0.4873004306840596\n",
      "At random state 15,the testing accuracy is : 0.493733790202762\n",
      "\n",
      "\n",
      "At random state 16,the training accuracy is : 0.47174814889789607\n",
      "At random state 16,the testing accuracy is : 0.5345332467910728\n",
      "\n",
      "\n",
      "At random state 17,the training accuracy is : 0.4977497989340357\n",
      "At random state 17,the testing accuracy is : 0.45684597822473194\n",
      "\n",
      "\n",
      "At random state 18,the training accuracy is : 0.4803001115019174\n",
      "At random state 18,the testing accuracy is : 0.5192594032345653\n",
      "\n",
      "\n",
      "At random state 19,the training accuracy is : 0.5075762005337374\n",
      "At random state 19,the testing accuracy is : 0.42732795972984716\n",
      "\n",
      "\n",
      "At random state 20,the training accuracy is : 0.49047547352576126\n",
      "At random state 20,the testing accuracy is : 0.45404208766302545\n",
      "\n",
      "\n",
      "At random state 21,the training accuracy is : 0.4669173420673496\n",
      "At random state 21,the testing accuracy is : 0.5284211239774179\n",
      "\n",
      "\n",
      "At random state 22,the training accuracy is : 0.48924772519653015\n",
      "At random state 22,the testing accuracy is : 0.4776361584384313\n",
      "\n",
      "\n",
      "At random state 23,the training accuracy is : 0.49116146025556684\n",
      "At random state 23,the testing accuracy is : 0.4815849990381177\n",
      "\n",
      "\n",
      "At random state 24,the training accuracy is : 0.5207754683828734\n",
      "At random state 24,the testing accuracy is : 0.3711788376370625\n",
      "\n",
      "\n",
      "At random state 25,the training accuracy is : 0.4417184428541404\n",
      "At random state 25,the testing accuracy is : 0.6252337393658676\n",
      "\n",
      "\n",
      "At random state 26,the training accuracy is : 0.5266597001371311\n",
      "At random state 26,the testing accuracy is : 0.3829575401104336\n",
      "\n",
      "\n",
      "At random state 27,the training accuracy is : 0.4944083813374436\n",
      "At random state 27,the testing accuracy is : 0.46467645616945163\n",
      "\n",
      "\n",
      "At random state 28,the training accuracy is : 0.503518650460017\n",
      "At random state 28,the testing accuracy is : 0.428762858895434\n",
      "\n",
      "\n",
      "At random state 29,the training accuracy is : 0.4862091692470375\n",
      "At random state 29,the testing accuracy is : 0.47798274835030985\n",
      "\n",
      "\n",
      "At random state 30,the training accuracy is : 0.49176386246268755\n",
      "At random state 30,the testing accuracy is : 0.46459525943376434\n",
      "\n",
      "\n",
      "At random state 31,the training accuracy is : 0.4965991103589861\n",
      "At random state 31,the testing accuracy is : 0.43908440511114544\n",
      "\n",
      "\n",
      "At random state 32,the training accuracy is : 0.46801975560910114\n",
      "At random state 32,the testing accuracy is : 0.5548423792534048\n",
      "\n",
      "\n",
      "At random state 33,the training accuracy is : 0.47380876971429065\n",
      "At random state 33,the testing accuracy is : 0.5142008111880694\n",
      "\n",
      "\n",
      "At random state 34,the training accuracy is : 0.4904022400975454\n",
      "At random state 34,the testing accuracy is : 0.47177198189858083\n",
      "\n",
      "\n",
      "At random state 35,the training accuracy is : 0.5013734451809786\n",
      "At random state 35,the testing accuracy is : 0.45231981099373464\n",
      "\n",
      "\n",
      "At random state 36,the training accuracy is : 0.493760700139237\n",
      "At random state 36,the testing accuracy is : 0.4735290587376758\n",
      "\n",
      "\n",
      "At random state 37,the training accuracy is : 0.4990249668054104\n",
      "At random state 37,the testing accuracy is : 0.45522254094017933\n",
      "\n",
      "\n",
      "At random state 38,the training accuracy is : 0.514515028997783\n",
      "At random state 38,the testing accuracy is : 0.39290427238432435\n",
      "\n",
      "\n",
      "At random state 39,the training accuracy is : 0.5078057903132691\n",
      "At random state 39,the testing accuracy is : 0.4176480457161057\n",
      "\n",
      "\n",
      "At random state 40,the training accuracy is : 0.48768005078748533\n",
      "At random state 40,the testing accuracy is : 0.49015574483618163\n",
      "\n",
      "\n",
      "At random state 41,the training accuracy is : 0.48107848015568533\n",
      "At random state 41,the testing accuracy is : 0.5151511627345741\n",
      "\n",
      "\n",
      "At random state 42,the training accuracy is : 0.5203469071302762\n",
      "At random state 42,the testing accuracy is : 0.39816055374344705\n",
      "\n",
      "\n",
      "At random state 43,the training accuracy is : 0.4964868562656325\n",
      "At random state 43,the testing accuracy is : 0.46092598634593096\n",
      "\n",
      "\n",
      "At random state 44,the training accuracy is : 0.4953588719840276\n",
      "At random state 44,the testing accuracy is : 0.45694462152608306\n",
      "\n",
      "\n",
      "At random state 45,the training accuracy is : 0.49785325225313615\n",
      "At random state 45,the testing accuracy is : 0.466091270941309\n",
      "\n",
      "\n",
      "At random state 46,the training accuracy is : 0.4708371307747762\n",
      "At random state 46,the testing accuracy is : 0.5357495249923325\n",
      "\n",
      "\n",
      "At random state 47,the training accuracy is : 0.47544877530844387\n",
      "At random state 47,the testing accuracy is : 0.5059971809642125\n",
      "\n",
      "\n",
      "At random state 48,the training accuracy is : 0.520832229408204\n",
      "At random state 48,the testing accuracy is : 0.39620558859153854\n",
      "\n",
      "\n",
      "At random state 49,the training accuracy is : 0.5182330791109244\n",
      "At random state 49,the testing accuracy is : 0.3841910400474692\n",
      "\n",
      "\n",
      "At random state 50,the training accuracy is : 0.45078199133686847\n",
      "At random state 50,the testing accuracy is : 0.6000265896747272\n",
      "\n",
      "\n",
      "At random state 51,the training accuracy is : 0.48735242804332934\n",
      "At random state 51,the testing accuracy is : 0.49083538008915706\n",
      "\n",
      "\n",
      "At random state 52,the training accuracy is : 0.49644654946049016\n",
      "At random state 52,the testing accuracy is : 0.4565591599019708\n",
      "\n",
      "\n",
      "At random state 53,the training accuracy is : 0.4920309311974228\n",
      "At random state 53,the testing accuracy is : 0.4789746330482919\n",
      "\n",
      "\n",
      "At random state 54,the training accuracy is : 0.4847545845649983\n",
      "At random state 54,the testing accuracy is : 0.4902251008635913\n",
      "\n",
      "\n",
      "At random state 55,the training accuracy is : 0.5070129723110891\n",
      "At random state 55,the testing accuracy is : 0.43275262066319065\n",
      "\n",
      "\n",
      "At random state 56,the training accuracy is : 0.5398666654571198\n",
      "At random state 56,the testing accuracy is : 0.3568778006013985\n",
      "\n",
      "\n",
      "At random state 57,the training accuracy is : 0.5011330686148482\n",
      "At random state 57,the testing accuracy is : 0.4584615499829098\n",
      "\n",
      "\n",
      "At random state 58,the training accuracy is : 0.48980280219670136\n",
      "At random state 58,the testing accuracy is : 0.48018518787460496\n",
      "\n",
      "\n",
      "At random state 59,the training accuracy is : 0.4891872703698691\n",
      "At random state 59,the testing accuracy is : 0.4867639694119127\n",
      "\n",
      "\n",
      "At random state 60,the training accuracy is : 0.481035234876765\n",
      "At random state 60,the testing accuracy is : 0.4900819598873415\n",
      "\n",
      "\n",
      "At random state 61,the training accuracy is : 0.4828808907860429\n",
      "At random state 61,the testing accuracy is : 0.501533653403796\n",
      "\n",
      "\n",
      "At random state 62,the training accuracy is : 0.47371595443864367\n",
      "At random state 62,the testing accuracy is : 0.5208888505065422\n",
      "\n",
      "\n",
      "At random state 63,the training accuracy is : 0.4410139730248611\n",
      "At random state 63,the testing accuracy is : 0.6167868144995556\n",
      "\n",
      "\n",
      "At random state 64,the training accuracy is : 0.4940812036504002\n",
      "At random state 64,the testing accuracy is : 0.46524847639695743\n",
      "\n",
      "\n",
      "At random state 65,the training accuracy is : 0.4916908619352205\n",
      "At random state 65,the testing accuracy is : 0.4713688774341651\n",
      "\n",
      "\n",
      "At random state 66,the training accuracy is : 0.5147116920777035\n",
      "At random state 66,the testing accuracy is : 0.42069690650844904\n",
      "\n",
      "\n",
      "At random state 67,the training accuracy is : 0.4771085860580331\n",
      "At random state 67,the testing accuracy is : 0.5095681494371467\n",
      "\n",
      "\n",
      "At random state 68,the training accuracy is : 0.5170419694741334\n",
      "At random state 68,the testing accuracy is : 0.4067050565426139\n",
      "\n",
      "\n",
      "At random state 69,the training accuracy is : 0.4425719382234553\n",
      "At random state 69,the testing accuracy is : 0.5690482343676658\n",
      "\n",
      "\n",
      "At random state 70,the training accuracy is : 0.5279997460410348\n",
      "At random state 70,the testing accuracy is : 0.3435421902570216\n",
      "\n",
      "\n",
      "At random state 71,the training accuracy is : 0.4828312231310483\n",
      "At random state 71,the testing accuracy is : 0.5000056525988548\n",
      "\n",
      "\n",
      "At random state 72,the training accuracy is : 0.49859052660286995\n",
      "At random state 72,the testing accuracy is : 0.4612286897382759\n",
      "\n",
      "\n",
      "At random state 73,the training accuracy is : 0.46666749500868376\n",
      "At random state 73,the testing accuracy is : 0.5544085051951118\n",
      "\n",
      "\n",
      "At random state 74,the training accuracy is : 0.4869373476988407\n",
      "At random state 74,the testing accuracy is : 0.49469496328383755\n",
      "\n",
      "\n",
      "At random state 75,the training accuracy is : 0.49362395323907027\n",
      "At random state 75,the testing accuracy is : 0.45254157412809226\n",
      "\n",
      "\n",
      "At random state 76,the training accuracy is : 0.46467488759477416\n",
      "At random state 76,the testing accuracy is : 0.5337906016880835\n",
      "\n",
      "\n",
      "At random state 77,the training accuracy is : 0.5049047857123281\n",
      "At random state 77,the testing accuracy is : 0.4307098840640704\n",
      "\n",
      "\n",
      "At random state 78,the training accuracy is : 0.51964060742318\n",
      "At random state 78,the testing accuracy is : 0.3768028523795508\n",
      "\n",
      "\n",
      "At random state 79,the training accuracy is : 0.47206406842371496\n",
      "At random state 79,the testing accuracy is : 0.5346631960941282\n",
      "\n",
      "\n",
      "At random state 80,the training accuracy is : 0.48873165828113774\n",
      "At random state 80,the testing accuracy is : 0.48994180843744406\n",
      "\n",
      "\n",
      "At random state 81,the training accuracy is : 0.5007421697014052\n",
      "At random state 81,the testing accuracy is : 0.437956713810826\n",
      "\n",
      "\n",
      "At random state 82,the training accuracy is : 0.5006941810199758\n",
      "At random state 82,the testing accuracy is : 0.45620758820694707\n",
      "\n",
      "\n",
      "At random state 83,the training accuracy is : 0.5244863009632865\n",
      "At random state 83,the testing accuracy is : 0.3771813771504645\n",
      "\n",
      "\n",
      "At random state 84,the training accuracy is : 0.4837020261589199\n",
      "At random state 84,the testing accuracy is : 0.4965138152441807\n",
      "\n",
      "\n",
      "At random state 85,the training accuracy is : 0.513693737002471\n",
      "At random state 85,the testing accuracy is : 0.36463939530551637\n",
      "\n",
      "\n",
      "At random state 86,the training accuracy is : 0.47339500155677716\n",
      "At random state 86,the testing accuracy is : 0.5353203043090732\n",
      "\n",
      "\n",
      "At random state 87,the training accuracy is : 0.4647465346506613\n",
      "At random state 87,the testing accuracy is : 0.5463662603589357\n",
      "\n",
      "\n",
      "At random state 88,the training accuracy is : 0.4981565671347994\n",
      "At random state 88,the testing accuracy is : 0.46414908073793637\n",
      "\n",
      "\n",
      "At random state 89,the training accuracy is : 0.5060609329950332\n",
      "At random state 89,the testing accuracy is : 0.43903343995892985\n",
      "\n",
      "\n",
      "At random state 90,the training accuracy is : 0.4629647681170338\n",
      "At random state 90,the testing accuracy is : 0.5532096193407303\n",
      "\n",
      "\n",
      "At random state 91,the training accuracy is : 0.4897495995414256\n",
      "At random state 91,the testing accuracy is : 0.4780415957220032\n",
      "\n",
      "\n",
      "At random state 92,the training accuracy is : 0.4964301832685498\n",
      "At random state 92,the testing accuracy is : 0.4621216892887928\n",
      "\n",
      "\n",
      "At random state 93,the training accuracy is : 0.49507267867198623\n",
      "At random state 93,the testing accuracy is : 0.44417330071569217\n",
      "\n",
      "\n",
      "At random state 94,the training accuracy is : 0.48606382301181494\n",
      "At random state 94,the testing accuracy is : 0.490628727790307\n",
      "\n",
      "\n",
      "At random state 95,the training accuracy is : 0.49039304068453704\n",
      "At random state 95,the testing accuracy is : 0.4710457975822102\n",
      "\n",
      "\n",
      "At random state 96,the training accuracy is : 0.49001137340034484\n",
      "At random state 96,the testing accuracy is : 0.469707947081893\n",
      "\n",
      "\n",
      "At random state 97,the training accuracy is : 0.4902226493592461\n",
      "At random state 97,the testing accuracy is : 0.47500712442248694\n",
      "\n",
      "\n",
      "At random state 98,the training accuracy is : 0.4835676664948809\n",
      "At random state 98,the testing accuracy is : 0.5009312644059339\n",
      "\n",
      "\n",
      "At random state 99,the training accuracy is : 0.5001879953011139\n",
      "At random state 99,the testing accuracy is : 0.4233238140567903\n",
      "\n",
      "\n"
     ]
    }
   ],
   "source": [
    "for i in range(0,100):\n",
    "    x_train,x_test,y_train,y_test = train_test_split(x,y,test_size=.25,random_state=i)\n",
    "    LR.fit(x_train,y_train)\n",
    "    pred_tr = LR.predict(x_train)\n",
    "    pred_ts = LR.predict(x_test)\n",
    "    print(f\"At random state {i},the training accuracy is : {r2_score(y_train,pred_tr)}\")\n",
    "    print(f\"At random state {i},the testing accuracy is : {r2_score(y_test,pred_ts)}\")\n",
    "    print(\"\\n\")\n",
    "    \n",
    "    \n",
    "        \n",
    "    \n",
    " \n",
    "\n",
    "   # At random state 59,the training accuracy is : 0.4891872703698691\n",
    "   # At random state 59,the testing accuracy is : 0.4867639694119127\n",
    "    \n",
    "    "
   ]
  },
  {
   "cell_type": "code",
   "execution_count": 118,
   "id": "4450011b",
   "metadata": {},
   "outputs": [],
   "source": [
    "x_train,x_test,y_train,y_test = train_test_split(x,y,test_size=.25,random_state=59)"
   ]
  },
  {
   "cell_type": "code",
   "execution_count": 119,
   "id": "5f0260a8",
   "metadata": {},
   "outputs": [
    {
     "data": {
      "text/plain": [
       "(636, 8)"
      ]
     },
     "execution_count": 119,
     "metadata": {},
     "output_type": "execute_result"
    }
   ],
   "source": [
    "x_train.shape"
   ]
  },
  {
   "cell_type": "code",
   "execution_count": 120,
   "id": "178b652d",
   "metadata": {},
   "outputs": [
    {
     "data": {
      "text/plain": [
       "(213, 8)"
      ]
     },
     "execution_count": 120,
     "metadata": {},
     "output_type": "execute_result"
    }
   ],
   "source": [
    "x_test.shape"
   ]
  },
  {
   "cell_type": "code",
   "execution_count": 121,
   "id": "eeca426a",
   "metadata": {},
   "outputs": [
    {
     "data": {
      "text/plain": [
       "(636,)"
      ]
     },
     "execution_count": 121,
     "metadata": {},
     "output_type": "execute_result"
    }
   ],
   "source": [
    "y_train.shape"
   ]
  },
  {
   "cell_type": "code",
   "execution_count": 122,
   "id": "64a0391c",
   "metadata": {},
   "outputs": [
    {
     "data": {
      "text/plain": [
       "(213,)"
      ]
     },
     "execution_count": 122,
     "metadata": {},
     "output_type": "execute_result"
    }
   ],
   "source": [
    "y_test.shape"
   ]
  },
  {
   "cell_type": "code",
   "execution_count": 123,
   "id": "b868af42",
   "metadata": {},
   "outputs": [
    {
     "data": {
      "text/plain": [
       "LinearRegression()"
      ]
     },
     "execution_count": 123,
     "metadata": {},
     "output_type": "execute_result"
    }
   ],
   "source": [
    "LR.fit(x_train,y_train)"
   ]
  },
  {
   "cell_type": "code",
   "execution_count": 124,
   "id": "c96d99e6",
   "metadata": {},
   "outputs": [],
   "source": [
    "pred_ts = LR.predict(x_test)"
   ]
  },
  {
   "cell_type": "code",
   "execution_count": 125,
   "id": "c7edf97e",
   "metadata": {},
   "outputs": [
    {
     "name": "stdout",
     "output_type": "stream",
     "text": [
      "0.4867639694119127\n"
     ]
    }
   ],
   "source": [
    "print(r2_score(y_test,pred_ts))"
   ]
  },
  {
   "cell_type": "markdown",
   "id": "3b2a5296",
   "metadata": {},
   "source": [
    "### Model Testing"
   ]
  },
  {
   "cell_type": "code",
   "execution_count": 126,
   "id": "7abbae92",
   "metadata": {},
   "outputs": [],
   "source": [
    "def train(model,x,y):\n",
    "    model.fit(x,y)\n",
    "    pred = model.predict(x)\n",
    "    cv_score = cross_val_score(model,x,y,scoring='neg_mean_squared_error')\n",
    "    cv_score = np.abs(np.mean(cv_score))\n",
    "    print('Model Report')\n",
    "    print('MSE',mean_squared_error(y_pred))\n",
    "    print('CV',cv_score)"
   ]
  },
  {
   "cell_type": "markdown",
   "id": "16dab35a",
   "metadata": {},
   "source": [
    "##### r2_score for dataset is 49 percent."
   ]
  },
  {
   "cell_type": "code",
   "execution_count": null,
   "id": "4585b9c4",
   "metadata": {},
   "outputs": [],
   "source": []
  }
 ],
 "metadata": {
  "kernelspec": {
   "display_name": "Python 3",
   "language": "python",
   "name": "python3"
  },
  "language_info": {
   "codemirror_mode": {
    "name": "ipython",
    "version": 3
   },
   "file_extension": ".py",
   "mimetype": "text/x-python",
   "name": "python",
   "nbconvert_exporter": "python",
   "pygments_lexer": "ipython3",
   "version": "3.8.8"
  }
 },
 "nbformat": 4,
 "nbformat_minor": 5
}
